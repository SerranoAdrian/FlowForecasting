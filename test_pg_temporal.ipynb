{
 "cells": [
  {
   "cell_type": "code",
   "execution_count": 1,
   "metadata": {},
   "outputs": [],
   "source": [
    "%load_ext autoreload\n",
    "%autoreload 2"
   ]
  },
  {
   "cell_type": "code",
   "execution_count": 68,
   "metadata": {},
   "outputs": [],
   "source": [
    "import os\n",
    "import re\n",
    "import torch\n",
    "import random\n",
    "from dash import Dash, dcc, html, Input, Output, State\n",
    "import numpy as np\n",
    "import pandas as pd\n",
    "import plotly.express as px\n",
    "import seaborn as sns\n",
    "from tqdm import tqdm\n",
    "import networkx as nx\n",
    "import matplotlib.pyplot as plt\n",
    "import torch.nn.functional as F\n",
    "from geopy.geocoders import Nominatim\n",
    "from torch_geometric_temporal.dataset import ChickenpoxDatasetLoader\n",
    "### WARNING : in env\\Lib\\site-packages\\torch_geometric_temporal\\nn\\attention\\tsagcn.py :\n",
    "### change 'from torch_geometric.utils.to_dense_adj' by 'from torch_geometric.utils'\n",
    "from torch_geometric_temporal.signal import temporal_signal_split\n",
    "from torch_geometric_temporal.signal.static_graph_temporal_signal import StaticGraphTemporalSignal\n",
    "from torch_geometric_temporal.nn.recurrent import DCRNN, GConvGRU\n",
    "from sklearn.model_selection import TimeSeriesSplit\n",
    "\n",
    "from gnn_model import StationFlowGCN\n",
    "from train_gnn import(\n",
    "    train_gnn_model,\n",
    "    eval_gnn_model,\n",
    ")\n",
    "from utils.station_network import StationNetworkSimul\n",
    "from utils.data import get_degraded_network_loader, create_degraded_networks\n",
    "from utils.metrics import MAPE_loss\n"
   ]
  },
  {
   "cell_type": "code",
   "execution_count": 3,
   "metadata": {},
   "outputs": [],
   "source": [
    "def create_numbat_dataframe(data_dir, year, weekdays, sheet_name):\n",
    "    df_numbat = pd.DataFrame()\n",
    "    for weekday in weekdays.keys():\n",
    "        df_day = pd.read_excel(os.path.join(data_dir, f'NUMBAT {year}', f'NBT{str(year)[-2:]}{weekday}_outputs.xlsx'), sheet_name=sheet_name,skiprows=2, header=0)\n",
    "        df_day['weekday'] = weekday\n",
    "        df_day['weekday_idx'] = df_day['weekday'].apply(lambda x : weekdays[x])\n",
    "        df_day = df_day.sort_values(by='weekday_idx')\n",
    "        df_day = df_day.reset_index(drop=True)\n",
    "        df_day = df_day.reset_index()\n",
    "        df_numbat = pd.concat((df_numbat, df_day))\n",
    "    \n",
    "    rename_dict = {\n",
    "        'Early     ' : 'Early',\n",
    "        'AM Peak   ' : 'AM Peak',\n",
    "        'Midday    ' : 'Midday',\n",
    "        'PM Peak   ' : 'PM Peak',\n",
    "        'Evening   ' : 'Evening',\n",
    "        'Late      ' : 'Late'\n",
    "    }\n",
    "    df_numbat = df_numbat.rename(columns=rename_dict)\n",
    "    return df_numbat"
   ]
  },
  {
   "cell_type": "code",
   "execution_count": 4,
   "metadata": {},
   "outputs": [],
   "source": [
    "weekdays = {'MON':0,\n",
    " 'TWT':1,\n",
    " 'FRI':2,\n",
    " 'SAT':3,\n",
    " 'SUN':4}\n",
    "\n",
    "data_dir = 'data/london/'"
   ]
  },
  {
   "cell_type": "code",
   "execution_count": 5,
   "metadata": {},
   "outputs": [],
   "source": [
    "df_numbat_station_entries = create_numbat_dataframe(data_dir, 2023, weekdays,'Station_Entries')\n",
    "df_numbat_station_exits = create_numbat_dataframe(data_dir, 2023, weekdays, 'Station_Exits')\n",
    "df_numbat_link_loads = create_numbat_dataframe(data_dir, 2023, weekdays, 'Link_Loads')"
   ]
  },
  {
   "cell_type": "code",
   "execution_count": 65,
   "metadata": {},
   "outputs": [
    {
     "data": {
      "text/plain": [
       "{'Bakerloo': ['NB', 'SB'],\n",
       " 'LO West Anglia': ['NB', 'SB'],\n",
       " 'London Trams': ['EB', 'WB'],\n",
       " 'LO Watford-Euston': ['NB', 'SB'],\n",
       " 'Metropolitan': ['NB', 'SB'],\n",
       " 'LO Gospel Oak-Barking': ['EB', 'WB'],\n",
       " 'LO East London': ['NB', 'SB'],\n",
       " 'LO North London': ['EB', 'WB'],\n",
       " 'LO Romford–Upminster': ['EB', 'WB'],\n",
       " 'Piccadilly': ['EB', 'WB'],\n",
       " 'Northern': ['NB', 'SB'],\n",
       " 'Victoria': ['NB', 'SB'],\n",
       " 'District': ['EB', 'WB'],\n",
       " 'DLR': ['IB', 'OB'],\n",
       " 'Central': ['EB', 'WB'],\n",
       " 'Waterloo & City': ['EB', 'WB'],\n",
       " 'H&C and Circle': ['IR', 'OR'],\n",
       " 'Jubilee': ['NB', 'SB'],\n",
       " 'Elizabeth Line': ['EB', 'WB']}"
      ]
     },
     "execution_count": 65,
     "metadata": {},
     "output_type": "execute_result"
    }
   ],
   "source": [
    "lines_directions = {\n",
    "    line : sorted(list(df_numbat_link_loads[df_numbat_link_loads['Line'] == line ]['Dir'].unique()))\n",
    "    for line in df_numbat_link_loads['Line'].unique()\n",
    "}\n",
    "lines_directions"
   ]
  },
  {
   "cell_type": "code",
   "execution_count": 12,
   "metadata": {},
   "outputs": [],
   "source": [
    "nlc_idx = {\n",
    "    nlc : i for i, nlc in df_numbat_station_entries[df_numbat_station_entries['weekday_idx'] == 0][['index','NLC']].values\n",
    "}\n",
    "\n",
    "df_numbat_station_entries['NLC_idx'] = df_numbat_station_entries['NLC'].apply(lambda x : nlc_idx[x])\n",
    "df_numbat_station_exits['NLC_idx'] = df_numbat_station_exits['NLC'].apply(lambda x : nlc_idx[x])\n",
    "\n",
    "df_numbat_link_loads['From NLC_idx'] = df_numbat_link_loads['From NLC'].apply(lambda x : nlc_idx[x])\n",
    "df_numbat_link_loads['To NLC_idx'] = df_numbat_link_loads['To NLC'].apply(lambda x : nlc_idx[x])\n",
    "\n",
    "# df_numbat_link_loads['LineCode'] = df_numbat_link_loads['Line'].apply(lambda x : line_codes[x])\n",
    "# df_numbat_link_loads['Link NLC_idx'] = df_numbat_link_loads['From NLC_idx'].astype(str) + '>' +  df_numbat_link_loads['To NLC_idx'].astype(str) + '@' + df_numbat_link_loads['LineCode']"
   ]
  },
  {
   "cell_type": "code",
   "execution_count": null,
   "metadata": {},
   "outputs": [],
   "source": [
    "# df_numbat_link_loads = df_numbat_link_loads.sort_values(by=['weekday_idx', 'From NLC_idx', 'To NLC_idx'])\n",
    "# df_numbat_station_entries = df_numbat_station_entries.sort_values(by=['weekday_idx', 'NLC_idx'])\n",
    "# df_numbat_station_exits = df_numbat_station_exits.sort_values(by=['weekday_idx', 'NLC_idx'])"
   ]
  },
  {
   "cell_type": "code",
   "execution_count": 13,
   "metadata": {},
   "outputs": [],
   "source": [
    "df_quarter = pd.read_excel(os.path.join(data_dir, 'NBT22_Definitions_Published.xlsm'), header=0, sheet_name='Qhr')\n",
    "df_quarter['Time'] = df_quarter['Time'].replace('2345-2400', '2345-0000')\n",
    "time_to_quarter = {\n",
    "    time : {'qhr' : i, 'hour' : hour, 'tb' : tb} for i, (time, tb, hour) in enumerate(df_quarter[['Time', 'Timeband', 'Hour']].values)\n",
    "}"
   ]
  },
  {
   "cell_type": "code",
   "execution_count": 14,
   "metadata": {},
   "outputs": [],
   "source": [
    "ordered_qhr = {qhr : qhr_idx for qhr_idx, qhr in enumerate(df_numbat_station_entries.columns[12:-3])}"
   ]
  },
  {
   "cell_type": "code",
   "execution_count": 74,
   "metadata": {},
   "outputs": [],
   "source": [
    "df_snap_station_entries = df_numbat_station_entries.rename(columns=ordered_qhr).melt(\n",
    "    id_vars=['weekday_idx', 'index'],\n",
    "    value_vars=ordered_qhr.values(),\n",
    "    var_name='quarter_hour_idx',\n",
    "    value_name='flow'\n",
    ")\n",
    "\n",
    "# Pivot the table so that columns are nodes, and rows are (weekday, quarter-hour)\n",
    "df_snap_station_entries = df_snap_station_entries.pivot(index=['weekday_idx', 'quarter_hour_idx'], columns='index', values='flow')\n",
    "\n",
    "# Reset index to make it a proper DataFrame\n",
    "df_snap_station_entries = df_snap_station_entries.reset_index()\n",
    "\n",
    "\n",
    "df_snap_station_exits = df_numbat_station_exits.rename(columns=ordered_qhr).melt(\n",
    "    id_vars=['weekday_idx', 'index'],\n",
    "    value_vars=ordered_qhr.values(),\n",
    "    var_name='quarter_hour_idx',\n",
    "    value_name='flow'\n",
    ")\n",
    "\n",
    "# Pivot the table so that columns are nodes, and rows are (weekday, quarter-hour)\n",
    "df_snap_station_exits = df_snap_station_exits.pivot(index=['weekday_idx', 'quarter_hour_idx'], columns='index', values='flow')\n",
    "\n",
    "# Reset index to make it a proper DataFrame\n",
    "df_snap_station_exits = df_snap_station_exits.reset_index()\n",
    "\n",
    "\n",
    "df_snap_link_loads = df_numbat_link_loads.rename(columns=ordered_qhr).melt(\n",
    "    id_vars=['weekday_idx', 'index', 'Dir', 'Line', 'Order', 'Link', 'From Station', 'To Station', 'weekday'],\n",
    "    value_vars=ordered_qhr.values(),\n",
    "    var_name='quarter_hour_idx',\n",
    "    value_name='flow'\n",
    ")\n"
   ]
  },
  {
   "cell_type": "code",
   "execution_count": 75,
   "metadata": {},
   "outputs": [],
   "source": [
    "df_snap_link_loads['new_index'] = (df_snap_link_loads['weekday_idx'])*df_snap_link_loads['quarter_hour_idx'].max()+ df_snap_link_loads['quarter_hour_idx']"
   ]
  },
  {
   "cell_type": "code",
   "execution_count": 78,
   "metadata": {},
   "outputs": [
    {
     "data": {
      "text/html": [
       "\n",
       "        <iframe\n",
       "            width=\"100%\"\n",
       "            height=\"650\"\n",
       "            src=\"http://127.0.0.1:8050/\"\n",
       "            frameborder=\"0\"\n",
       "            allowfullscreen\n",
       "            \n",
       "        ></iframe>\n",
       "        "
      ],
      "text/plain": [
       "<IPython.lib.display.IFrame at 0x1e87570d2b0>"
      ]
     },
     "metadata": {},
     "output_type": "display_data"
    }
   ],
   "source": [
    "app = Dash()\n",
    "\n",
    "app.layout = html.Div([\n",
    "    html.H4('Test anim'),\n",
    "    html.P(\"Select a line:\"),\n",
    "    dcc.Dropdown(\n",
    "        id='select-line',\n",
    "        options=list(df_snap_link_loads['Line'].unique()),\n",
    "    ),\n",
    "    html.P(\"Select a direction:\"),\n",
    "    dcc.RadioItems(\n",
    "        id='select-dir',\n",
    "        options=[]\n",
    "    ),\n",
    "    html.Button(\n",
    "        'Run',\n",
    "        id='load-graph'\n",
    "    ),\n",
    "    dcc.Loading(dcc.Graph(id=\"graph-flow-line\"), type=\"cube\")\n",
    "])\n",
    "\n",
    "@app.callback(\n",
    "    Output(\"select-dir\", \"options\"),\n",
    "    Input(\"select-line\", \"value\"),\n",
    "    prevent_initial_call=True,\n",
    ")\n",
    "def update_line_directions(line):\n",
    "    return lines_directions[line]\n",
    "\n",
    "@app.callback(\n",
    "    Output(\"graph-flow-line\", \"figure\"), \n",
    "    Input('load-graph', 'n_clicks'),\n",
    "    State(\"select-line\", \"value\"),\n",
    "    State(\"select-dir\", \"value\"),\n",
    "    prevent_initial_call=True\n",
    "    )\n",
    "def display_animated_graph(n_clicks, line, dir):\n",
    "    df_plot = df_snap_link_loads[(df_snap_link_loads['Line'] == line) & (df_snap_link_loads['Dir'] == dir)].sort_values(by=['Order', 'new_index'])\n",
    "    \n",
    "    fig = px.line(df_plot, \n",
    "        x='Order',\n",
    "        y='flow', \n",
    "        animation_frame='new_index',\n",
    "        hover_name='Link',\n",
    "        hover_data=['From Station', 'To Station', 'weekday'],\n",
    "        range_y=[df_plot['flow'].min(),df_plot['flow'].max()]\n",
    "        )\n",
    "    \n",
    "    return fig\n",
    "\n",
    "\n",
    "app.run_server(debug=True)\n",
    "\n",
    "# df_plot = df_snap_link_loads[(df_snap_link_loads['Line'] == 'Northern') & (df_snap_link_loads['Dir'] == 'NB')].sort_values(by=['Order', 'new_index'])\n",
    "# # px.bar(df_plot, x='Order', y='flow', animation_frame='new_index')\n",
    "# px.line(df_plot, \n",
    "#         x='Order',\n",
    "#         y='flow', \n",
    "#         animation_frame='new_index',\n",
    "#         hover_name='Link',\n",
    "#         hover_data=['From Station', 'To Station']\n",
    "#         )\n",
    "# px.scatter(df_plot, x='Order', y='flow', animation_frame='new_index')"
   ]
  },
  {
   "cell_type": "code",
   "execution_count": null,
   "metadata": {},
   "outputs": [],
   "source": [
    "# Pivot the table so that columns are nodes, and rows are (weekday, quarter-hour)\n",
    "df_snap_link_loads = df_snap_link_loads.pivot(index=['weekday_idx', 'quarter_hour_idx'], columns='index', values='flow')\n",
    "\n",
    "# Reset index to make it a proper DataFrame\n",
    "df_snap_link_loads = df_snap_link_loads.reset_index()"
   ]
  },
  {
   "cell_type": "code",
   "execution_count": 42,
   "metadata": {},
   "outputs": [
    {
     "name": "stderr",
     "output_type": "stream",
     "text": [
      "C:\\Users\\tengo\\AppData\\Local\\Temp\\ipykernel_19960\\3991651382.py:1: FutureWarning: This dataframe has a column name that matches the 'value_name' column name of the resulting Dataframe. In the future this will raise an error, please set the 'value_name' parameter of DataFrame.melt to a unique name.\n",
      "  df_snap_link_loads_melted = df_snap_link_loads.melt(id_vars=['weekday_idx', 'index', 'Dir', 'Line', 'Order'], var_name='edge', value_name='flow')\n"
     ]
    },
    {
     "name": "stdout",
     "output_type": "stream",
     "text": [
      "         weekday_idx  index Dir             Line  Order              edge flow\n",
      "0                  0      0  NB         Bakerloo      1  quarter_hour_idx    0\n",
      "1                  0      1  SB   LO West Anglia     15  quarter_hour_idx    0\n",
      "2                  0      2  SB   LO West Anglia     14  quarter_hour_idx    0\n",
      "3                  0      3  SB   LO West Anglia     13  quarter_hour_idx    0\n",
      "4                  0      4  SB   LO West Anglia     12  quarter_hour_idx    0\n",
      "...              ...    ...  ..              ...    ...               ...  ...\n",
      "1736635            4   1201  EB   Elizabeth Line     37         new_index  475\n",
      "1736636            4   1202  EB   Elizabeth Line     36         new_index  475\n",
      "1736637            4   1203  EB   Elizabeth Line     35         new_index  475\n",
      "1736638            4   1204  EB   Elizabeth Line     33         new_index  475\n",
      "1736639            4   1205  WB  Waterloo & City      1         new_index  475\n",
      "\n",
      "[1736640 rows x 7 columns]\n"
     ]
    }
   ],
   "source": [
    "df_snap_link_loads_melted = df_snap_link_loads.melt(id_vars=['weekday_idx', 'index', 'Dir', 'Line', 'Order'], var_name='edge', value_name='flow')\n",
    "print(df_snap_link_loads_melted)"
   ]
  },
  {
   "cell_type": "code",
   "execution_count": 16,
   "metadata": {},
   "outputs": [],
   "source": [
    "station_entries = []\n",
    "station_entries_features = []\n",
    "\n",
    "station_exits = []\n",
    "station_exits_features = []\n",
    "\n",
    "link_loads = []\n",
    "link_loads_features = []\n",
    "lag = 4 \n",
    "for i in range(len(df_snap_station_entries)-lag):\n",
    "    \n",
    "    station_entries.append(df_snap_station_entries.iloc[i+lag].to_numpy()[2:])\n",
    "    station_exits.append(df_snap_station_exits.iloc[i+lag].to_numpy()[2:])\n",
    "    link_loads.append(df_snap_link_loads.iloc[i+lag].to_numpy()[2:])\n",
    "\n",
    "    entries_lag_features = df_snap_station_entries.iloc[i:i+lag].to_numpy().T[2:]\n",
    "    exits_lag_features = df_snap_station_exits.iloc[i:i+lag].to_numpy().T[2:]\n",
    "    loads_lag_features = df_snap_link_loads.iloc[i:i+lag].to_numpy().T[2:]\n",
    "\n",
    "    entries_features = np.concatenate(\n",
    "        (entries_lag_features, np.tile(df_snap_station_entries.iloc[i+lag].to_numpy()[:2], (len(entries_lag_features), 1))), axis=1)\n",
    "    exits_features = np.concatenate(\n",
    "        (exits_lag_features, np.tile(df_snap_station_exits.iloc[i+lag].to_numpy()[:2], (len(exits_lag_features), 1))), axis=1)\n",
    "    loads_features = np.concatenate(\n",
    "        (loads_lag_features, np.tile(df_snap_link_loads.iloc[i+lag].to_numpy()[:2], (len(loads_lag_features), 1))), axis=1)\n",
    "\n",
    "\n",
    "    station_entries_features.append(entries_features)\n",
    "    station_exits_features.append(exits_features)\n",
    "    link_loads_features.append(loads_features)"
   ]
  },
  {
   "cell_type": "code",
   "execution_count": 11,
   "metadata": {},
   "outputs": [],
   "source": [
    "edge_idx = [[], []]\n",
    "for s,e in df_numbat_link_loads[df_numbat_link_loads['weekday'] == 'MON'][[\"From NLC\", \"To NLC\"]].values:\n",
    "    edge_idx[0].append(nlc_idx[s])\n",
    "    edge_idx[1].append(nlc_idx[e])\n",
    "\n",
    "edge_idx = np.array(edge_idx, dtype=int)\n",
    "# edge_idx = torch.tensor(edge_idx, dtype=int)"
   ]
  },
  {
   "cell_type": "code",
   "execution_count": 12,
   "metadata": {},
   "outputs": [],
   "source": [
    "class RecurrentGCN(torch.nn.Module):\n",
    "    def __init__(self, num_date_features, num_lag_features):\n",
    "        super(RecurrentGCN, self).__init__()\n",
    "\n",
    "        self.num_date_features = num_date_features\n",
    "        self.num_lag_features = num_lag_features\n",
    "        self.hidden_dim = 32\n",
    "        self.recurrent1 = DCRNN(self.num_date_features, self.hidden_dim, 1)\n",
    "        self.station_entry_head = torch.nn.Sequential(\n",
    "            torch.nn.Linear(self.num_lag_features + self.hidden_dim, 32),\n",
    "            torch.nn.ReLU(),\n",
    "            torch.nn.Linear(32, 1),\n",
    "            torch.nn.ReLU(),\n",
    "        )\n",
    "\n",
    "        self.station_exit_head = torch.nn.Sequential(\n",
    "            torch.nn.Linear(self.num_lag_features + self.hidden_dim, 32),\n",
    "            torch.nn.ReLU(),\n",
    "            torch.nn.Linear(32, 1),\n",
    "            torch.nn.ReLU(),\n",
    "        )\n",
    "\n",
    "        self.link_load_head = torch.nn.Sequential(\n",
    "            torch.nn.Linear(2 * self.hidden_dim + self.num_lag_features, 64),\n",
    "            torch.nn.ReLU(),\n",
    "            torch.nn.Linear(64, 32),\n",
    "            torch.nn.ReLU(),\n",
    "            torch.nn.Linear(32, 32),\n",
    "            torch.nn.ReLU(),\n",
    "            torch.nn.Linear(32, 1),\n",
    "            torch.nn.ReLU(),)\n",
    "\n",
    "    def forward(self, x_entries, x_exits, x_loads, edge_index, edge_weight):\n",
    "        \n",
    "        h_date_station = self.recurrent1(x_entries[:,-self.num_date_features:], edge_index, edge_weight)\n",
    "        h_date_station = F.relu(h_date_station)\n",
    "\n",
    "        h_entries = torch.cat([x_entries[:, :-self.num_date_features], h_date_station], dim=1)\n",
    "        h_exits = torch.cat([x_exits[:, :-self.num_date_features], h_date_station], dim=1)\n",
    "\n",
    "        h_date_link = torch.cat([h_date_station[edge_index[0]], h_date_station[edge_index[1]]], dim=1)\n",
    "        # h_date_link = torch.cat([h_date_station[edge_index[0].int(), h_date_station[edge_index[1].int()]]], dim=1)\n",
    "        h_loads = torch.cat([x_loads[:, :-self.num_date_features], h_date_link], dim=1)\n",
    "\n",
    "        station_entries = self.station_entry_head(h_entries)\n",
    "        station_exits = self.station_exit_head(h_exits)\n",
    "        link_loads = self.link_load_head(h_loads)\n",
    "        \n",
    "        return station_entries, station_exits, link_loads"
   ]
  },
  {
   "cell_type": "markdown",
   "metadata": {},
   "source": [
    "### Classic split"
   ]
  },
  {
   "cell_type": "code",
   "execution_count": 19,
   "metadata": {},
   "outputs": [
    {
     "name": "stdout",
     "output_type": "stream",
     "text": [
      "476\n"
     ]
    }
   ],
   "source": [
    "numbat_2023_ent_ex_dataset = StaticGraphTemporalSignal(\n",
    "    edge_index=edge_idx,\n",
    "    edge_weight=None,\n",
    "    features=station_entries_features,\n",
    "    targets=station_entries,\n",
    "    features_exits=station_exits_features,\n",
    "    targets_exits=station_exits,\n",
    "    features_loads=link_loads_features,\n",
    "    targets_loads=link_loads,\n",
    ")\n",
    "\n",
    "print(numbat_2023_ent_ex_dataset.snapshot_count)\n",
    "\n",
    "numbat_train_dataset, numbat_test_dataset = temporal_signal_split(numbat_2023_ent_ex_dataset, train_ratio=0.8)\n",
    "numbat_train_dataset, numbat_dev_dataset = temporal_signal_split(numbat_train_dataset, train_ratio=0.9)"
   ]
  },
  {
   "cell_type": "code",
   "execution_count": 20,
   "metadata": {},
   "outputs": [
    {
     "data": {
      "image/png": "[encoded data removed]",
      "text/plain": [
       "<Figure size 640x480 with 1 Axes>"
      ]
     },
     "metadata": {},
     "output_type": "display_data"
    }
   ],
   "source": [
    "idx = random.randint(0, numbat_train_dataset[0].x.shape[0] -1)\n",
    "\n",
    "train_val = [snapshot.y[idx] for snapshot in numbat_train_dataset]\n",
    "dev_val = [snapshot.y[idx] for snapshot in numbat_dev_dataset]\n",
    "test_val = [snapshot.y[idx] for snapshot in numbat_test_dataset]\n",
    "\n",
    "num_snap_train = numbat_train_dataset.snapshot_count\n",
    "num_snap_dev = numbat_dev_dataset.snapshot_count\n",
    "num_snap_test = numbat_test_dataset.snapshot_count\n",
    "\n",
    "plt.plot(range(num_snap_train),train_val, label='Train', marker='o')\n",
    "plt.plot(range(num_snap_train, num_snap_train+ num_snap_dev),dev_val, label='Dev', marker='o')\n",
    "plt.plot(range(num_snap_train+ num_snap_dev, num_snap_train+ num_snap_dev+num_snap_test),test_val, label='Test', marker='o')\n",
    "plt.legend()\n",
    "plt.show()"
   ]
  },
  {
   "cell_type": "code",
   "execution_count": 25,
   "metadata": {},
   "outputs": [
    {
     "name": "stdout",
     "output_type": "stream",
     "text": [
      "Epoch 0\n"
     ]
    },
    {
     "name": "stderr",
     "output_type": "stream",
     "text": [
      " 80%|███████▉  | 273/342 [00:06<00:01, 41.57it/s]\n"
     ]
    },
    {
     "ename": "KeyboardInterrupt",
     "evalue": "",
     "output_type": "error",
     "traceback": [
      "\u001b[1;31m---------------------------------------------------------------------------\u001b[0m",
      "\u001b[1;31mKeyboardInterrupt\u001b[0m                         Traceback (most recent call last)",
      "Cell \u001b[1;32mIn[25], line 32\u001b[0m\n\u001b[0;32m     29\u001b[0m loads_true_plot \u001b[38;5;241m=\u001b[39m np\u001b[38;5;241m.\u001b[39mempty((num_snap_train, num_links))\n\u001b[0;32m     31\u001b[0m \u001b[38;5;28;01mfor\u001b[39;00m time, snapshot \u001b[38;5;129;01min\u001b[39;00m tqdm(\u001b[38;5;28menumerate\u001b[39m(numbat_train_dataset), total\u001b[38;5;241m=\u001b[39mnum_snap_train):\n\u001b[1;32m---> 32\u001b[0m     pred_entries, pred_exits, pred_loads \u001b[38;5;241m=\u001b[39m \u001b[43mmodel\u001b[49m\u001b[43m(\u001b[49m\n\u001b[0;32m     33\u001b[0m \u001b[43m        \u001b[49m\u001b[43msnapshot\u001b[49m\u001b[38;5;241;43m.\u001b[39;49m\u001b[43mx\u001b[49m\u001b[43m,\u001b[49m\u001b[43m \u001b[49m\n\u001b[0;32m     34\u001b[0m \u001b[43m        \u001b[49m\u001b[43msnapshot\u001b[49m\u001b[38;5;241;43m.\u001b[39;49m\u001b[43mfeatures_exits\u001b[49m\u001b[43m,\u001b[49m\u001b[43m \u001b[49m\n\u001b[0;32m     35\u001b[0m \u001b[43m        \u001b[49m\u001b[43msnapshot\u001b[49m\u001b[38;5;241;43m.\u001b[39;49m\u001b[43mfeatures_loads\u001b[49m\u001b[43m,\u001b[49m\u001b[43m \u001b[49m\n\u001b[0;32m     36\u001b[0m \u001b[43m        \u001b[49m\u001b[43msnapshot\u001b[49m\u001b[38;5;241;43m.\u001b[39;49m\u001b[43medge_index\u001b[49m\u001b[43m,\u001b[49m\u001b[43m \u001b[49m\u001b[43msnapshot\u001b[49m\u001b[38;5;241;43m.\u001b[39;49m\u001b[43medge_attr\u001b[49m\u001b[43m)\u001b[49m\n\u001b[0;32m     37\u001b[0m     entries_train_loss \u001b[38;5;241m=\u001b[39m entries_train_loss \u001b[38;5;241m+\u001b[39m criterion(pred_entries, snapshot\u001b[38;5;241m.\u001b[39my)\n\u001b[0;32m     38\u001b[0m     exits_train_loss \u001b[38;5;241m=\u001b[39m exits_train_loss \u001b[38;5;241m+\u001b[39m criterion(pred_exits, snapshot\u001b[38;5;241m.\u001b[39mtargets_exits)\n",
      "File \u001b[1;32mc:\\Users\\tengo\\Documents\\Cours IAM - IAAA\\IAM\\Projet 3A\\FlowForecasting\\env\\lib\\site-packages\\torch\\nn\\modules\\module.py:1553\u001b[0m, in \u001b[0;36mModule._wrapped_call_impl\u001b[1;34m(self, *args, **kwargs)\u001b[0m\n\u001b[0;32m   1551\u001b[0m     \u001b[38;5;28;01mreturn\u001b[39;00m \u001b[38;5;28mself\u001b[39m\u001b[38;5;241m.\u001b[39m_compiled_call_impl(\u001b[38;5;241m*\u001b[39margs, \u001b[38;5;241m*\u001b[39m\u001b[38;5;241m*\u001b[39mkwargs)  \u001b[38;5;66;03m# type: ignore[misc]\u001b[39;00m\n\u001b[0;32m   1552\u001b[0m \u001b[38;5;28;01melse\u001b[39;00m:\n\u001b[1;32m-> 1553\u001b[0m     \u001b[38;5;28;01mreturn\u001b[39;00m \u001b[38;5;28;43mself\u001b[39;49m\u001b[38;5;241;43m.\u001b[39;49m\u001b[43m_call_impl\u001b[49m\u001b[43m(\u001b[49m\u001b[38;5;241;43m*\u001b[39;49m\u001b[43margs\u001b[49m\u001b[43m,\u001b[49m\u001b[43m \u001b[49m\u001b[38;5;241;43m*\u001b[39;49m\u001b[38;5;241;43m*\u001b[39;49m\u001b[43mkwargs\u001b[49m\u001b[43m)\u001b[49m\n",
      "File \u001b[1;32mc:\\Users\\tengo\\Documents\\Cours IAM - IAAA\\IAM\\Projet 3A\\FlowForecasting\\env\\lib\\site-packages\\torch\\nn\\modules\\module.py:1562\u001b[0m, in \u001b[0;36mModule._call_impl\u001b[1;34m(self, *args, **kwargs)\u001b[0m\n\u001b[0;32m   1557\u001b[0m \u001b[38;5;66;03m# If we don't have any hooks, we want to skip the rest of the logic in\u001b[39;00m\n\u001b[0;32m   1558\u001b[0m \u001b[38;5;66;03m# this function, and just call forward.\u001b[39;00m\n\u001b[0;32m   1559\u001b[0m \u001b[38;5;28;01mif\u001b[39;00m \u001b[38;5;129;01mnot\u001b[39;00m (\u001b[38;5;28mself\u001b[39m\u001b[38;5;241m.\u001b[39m_backward_hooks \u001b[38;5;129;01mor\u001b[39;00m \u001b[38;5;28mself\u001b[39m\u001b[38;5;241m.\u001b[39m_backward_pre_hooks \u001b[38;5;129;01mor\u001b[39;00m \u001b[38;5;28mself\u001b[39m\u001b[38;5;241m.\u001b[39m_forward_hooks \u001b[38;5;129;01mor\u001b[39;00m \u001b[38;5;28mself\u001b[39m\u001b[38;5;241m.\u001b[39m_forward_pre_hooks\n\u001b[0;32m   1560\u001b[0m         \u001b[38;5;129;01mor\u001b[39;00m _global_backward_pre_hooks \u001b[38;5;129;01mor\u001b[39;00m _global_backward_hooks\n\u001b[0;32m   1561\u001b[0m         \u001b[38;5;129;01mor\u001b[39;00m _global_forward_hooks \u001b[38;5;129;01mor\u001b[39;00m _global_forward_pre_hooks):\n\u001b[1;32m-> 1562\u001b[0m     \u001b[38;5;28;01mreturn\u001b[39;00m \u001b[43mforward_call\u001b[49m\u001b[43m(\u001b[49m\u001b[38;5;241;43m*\u001b[39;49m\u001b[43margs\u001b[49m\u001b[43m,\u001b[49m\u001b[43m \u001b[49m\u001b[38;5;241;43m*\u001b[39;49m\u001b[38;5;241;43m*\u001b[39;49m\u001b[43mkwargs\u001b[49m\u001b[43m)\u001b[49m\n\u001b[0;32m   1564\u001b[0m \u001b[38;5;28;01mtry\u001b[39;00m:\n\u001b[0;32m   1565\u001b[0m     result \u001b[38;5;241m=\u001b[39m \u001b[38;5;28;01mNone\u001b[39;00m\n",
      "Cell \u001b[1;32mIn[12], line 35\u001b[0m, in \u001b[0;36mRecurrentGCN.forward\u001b[1;34m(self, x_entries, x_exits, x_loads, edge_index, edge_weight)\u001b[0m\n\u001b[0;32m     33\u001b[0m \u001b[38;5;28;01mdef\u001b[39;00m \u001b[38;5;21mforward\u001b[39m(\u001b[38;5;28mself\u001b[39m, x_entries, x_exits, x_loads, edge_index, edge_weight):\n\u001b[1;32m---> 35\u001b[0m     h_date_station \u001b[38;5;241m=\u001b[39m \u001b[38;5;28;43mself\u001b[39;49m\u001b[38;5;241;43m.\u001b[39;49m\u001b[43mrecurrent1\u001b[49m\u001b[43m(\u001b[49m\u001b[43mx_entries\u001b[49m\u001b[43m[\u001b[49m\u001b[43m:\u001b[49m\u001b[43m,\u001b[49m\u001b[38;5;241;43m-\u001b[39;49m\u001b[38;5;28;43mself\u001b[39;49m\u001b[38;5;241;43m.\u001b[39;49m\u001b[43mnum_date_features\u001b[49m\u001b[43m:\u001b[49m\u001b[43m]\u001b[49m\u001b[43m,\u001b[49m\u001b[43m \u001b[49m\u001b[43medge_index\u001b[49m\u001b[43m,\u001b[49m\u001b[43m \u001b[49m\u001b[43medge_weight\u001b[49m\u001b[43m)\u001b[49m\n\u001b[0;32m     36\u001b[0m     h_date_station \u001b[38;5;241m=\u001b[39m F\u001b[38;5;241m.\u001b[39mrelu(h_date_station)\n\u001b[0;32m     38\u001b[0m     h_entries \u001b[38;5;241m=\u001b[39m torch\u001b[38;5;241m.\u001b[39mcat([x_entries[:, :\u001b[38;5;241m-\u001b[39m\u001b[38;5;28mself\u001b[39m\u001b[38;5;241m.\u001b[39mnum_date_features], h_date_station], dim\u001b[38;5;241m=\u001b[39m\u001b[38;5;241m1\u001b[39m)\n",
      "File \u001b[1;32mc:\\Users\\tengo\\Documents\\Cours IAM - IAAA\\IAM\\Projet 3A\\FlowForecasting\\env\\lib\\site-packages\\torch\\nn\\modules\\module.py:1553\u001b[0m, in \u001b[0;36mModule._wrapped_call_impl\u001b[1;34m(self, *args, **kwargs)\u001b[0m\n\u001b[0;32m   1551\u001b[0m     \u001b[38;5;28;01mreturn\u001b[39;00m \u001b[38;5;28mself\u001b[39m\u001b[38;5;241m.\u001b[39m_compiled_call_impl(\u001b[38;5;241m*\u001b[39margs, \u001b[38;5;241m*\u001b[39m\u001b[38;5;241m*\u001b[39mkwargs)  \u001b[38;5;66;03m# type: ignore[misc]\u001b[39;00m\n\u001b[0;32m   1552\u001b[0m \u001b[38;5;28;01melse\u001b[39;00m:\n\u001b[1;32m-> 1553\u001b[0m     \u001b[38;5;28;01mreturn\u001b[39;00m \u001b[38;5;28;43mself\u001b[39;49m\u001b[38;5;241;43m.\u001b[39;49m\u001b[43m_call_impl\u001b[49m\u001b[43m(\u001b[49m\u001b[38;5;241;43m*\u001b[39;49m\u001b[43margs\u001b[49m\u001b[43m,\u001b[49m\u001b[43m \u001b[49m\u001b[38;5;241;43m*\u001b[39;49m\u001b[38;5;241;43m*\u001b[39;49m\u001b[43mkwargs\u001b[49m\u001b[43m)\u001b[49m\n",
      "File \u001b[1;32mc:\\Users\\tengo\\Documents\\Cours IAM - IAAA\\IAM\\Projet 3A\\FlowForecasting\\env\\lib\\site-packages\\torch\\nn\\modules\\module.py:1562\u001b[0m, in \u001b[0;36mModule._call_impl\u001b[1;34m(self, *args, **kwargs)\u001b[0m\n\u001b[0;32m   1557\u001b[0m \u001b[38;5;66;03m# If we don't have any hooks, we want to skip the rest of the logic in\u001b[39;00m\n\u001b[0;32m   1558\u001b[0m \u001b[38;5;66;03m# this function, and just call forward.\u001b[39;00m\n\u001b[0;32m   1559\u001b[0m \u001b[38;5;28;01mif\u001b[39;00m \u001b[38;5;129;01mnot\u001b[39;00m (\u001b[38;5;28mself\u001b[39m\u001b[38;5;241m.\u001b[39m_backward_hooks \u001b[38;5;129;01mor\u001b[39;00m \u001b[38;5;28mself\u001b[39m\u001b[38;5;241m.\u001b[39m_backward_pre_hooks \u001b[38;5;129;01mor\u001b[39;00m \u001b[38;5;28mself\u001b[39m\u001b[38;5;241m.\u001b[39m_forward_hooks \u001b[38;5;129;01mor\u001b[39;00m \u001b[38;5;28mself\u001b[39m\u001b[38;5;241m.\u001b[39m_forward_pre_hooks\n\u001b[0;32m   1560\u001b[0m         \u001b[38;5;129;01mor\u001b[39;00m _global_backward_pre_hooks \u001b[38;5;129;01mor\u001b[39;00m _global_backward_hooks\n\u001b[0;32m   1561\u001b[0m         \u001b[38;5;129;01mor\u001b[39;00m _global_forward_hooks \u001b[38;5;129;01mor\u001b[39;00m _global_forward_pre_hooks):\n\u001b[1;32m-> 1562\u001b[0m     \u001b[38;5;28;01mreturn\u001b[39;00m \u001b[43mforward_call\u001b[49m\u001b[43m(\u001b[49m\u001b[38;5;241;43m*\u001b[39;49m\u001b[43margs\u001b[49m\u001b[43m,\u001b[49m\u001b[43m \u001b[49m\u001b[38;5;241;43m*\u001b[39;49m\u001b[38;5;241;43m*\u001b[39;49m\u001b[43mkwargs\u001b[49m\u001b[43m)\u001b[49m\n\u001b[0;32m   1564\u001b[0m \u001b[38;5;28;01mtry\u001b[39;00m:\n\u001b[0;32m   1565\u001b[0m     result \u001b[38;5;241m=\u001b[39m \u001b[38;5;28;01mNone\u001b[39;00m\n",
      "File \u001b[1;32mc:\\Users\\tengo\\Documents\\Cours IAM - IAAA\\IAM\\Projet 3A\\FlowForecasting\\env\\lib\\site-packages\\torch_geometric_temporal\\nn\\recurrent\\dcrnn.py:216\u001b[0m, in \u001b[0;36mDCRNN.forward\u001b[1;34m(self, X, edge_index, edge_weight, H)\u001b[0m\n\u001b[0;32m    214\u001b[0m H \u001b[38;5;241m=\u001b[39m \u001b[38;5;28mself\u001b[39m\u001b[38;5;241m.\u001b[39m_set_hidden_state(X, H)\n\u001b[0;32m    215\u001b[0m Z \u001b[38;5;241m=\u001b[39m \u001b[38;5;28mself\u001b[39m\u001b[38;5;241m.\u001b[39m_calculate_update_gate(X, edge_index, edge_weight, H)\n\u001b[1;32m--> 216\u001b[0m R \u001b[38;5;241m=\u001b[39m \u001b[38;5;28;43mself\u001b[39;49m\u001b[38;5;241;43m.\u001b[39;49m\u001b[43m_calculate_reset_gate\u001b[49m\u001b[43m(\u001b[49m\u001b[43mX\u001b[49m\u001b[43m,\u001b[49m\u001b[43m \u001b[49m\u001b[43medge_index\u001b[49m\u001b[43m,\u001b[49m\u001b[43m \u001b[49m\u001b[43medge_weight\u001b[49m\u001b[43m,\u001b[49m\u001b[43m \u001b[49m\u001b[43mH\u001b[49m\u001b[43m)\u001b[49m\n\u001b[0;32m    217\u001b[0m H_tilde \u001b[38;5;241m=\u001b[39m \u001b[38;5;28mself\u001b[39m\u001b[38;5;241m.\u001b[39m_calculate_candidate_state(X, edge_index, edge_weight, H, R)\n\u001b[0;32m    218\u001b[0m H \u001b[38;5;241m=\u001b[39m \u001b[38;5;28mself\u001b[39m\u001b[38;5;241m.\u001b[39m_calculate_hidden_state(Z, H, H_tilde)\n",
      "File \u001b[1;32mc:\\Users\\tengo\\Documents\\Cours IAM - IAAA\\IAM\\Projet 3A\\FlowForecasting\\env\\lib\\site-packages\\torch_geometric_temporal\\nn\\recurrent\\dcrnn.py:180\u001b[0m, in \u001b[0;36mDCRNN._calculate_reset_gate\u001b[1;34m(self, X, edge_index, edge_weight, H)\u001b[0m\n\u001b[0;32m    178\u001b[0m \u001b[38;5;28;01mdef\u001b[39;00m \u001b[38;5;21m_calculate_reset_gate\u001b[39m(\u001b[38;5;28mself\u001b[39m, X, edge_index, edge_weight, H):\n\u001b[0;32m    179\u001b[0m     R \u001b[38;5;241m=\u001b[39m torch\u001b[38;5;241m.\u001b[39mcat([X, H], dim\u001b[38;5;241m=\u001b[39m\u001b[38;5;241m1\u001b[39m)\n\u001b[1;32m--> 180\u001b[0m     R \u001b[38;5;241m=\u001b[39m \u001b[38;5;28;43mself\u001b[39;49m\u001b[38;5;241;43m.\u001b[39;49m\u001b[43mconv_x_r\u001b[49m\u001b[43m(\u001b[49m\u001b[43mR\u001b[49m\u001b[43m,\u001b[49m\u001b[43m \u001b[49m\u001b[43medge_index\u001b[49m\u001b[43m,\u001b[49m\u001b[43m \u001b[49m\u001b[43medge_weight\u001b[49m\u001b[43m)\u001b[49m\n\u001b[0;32m    181\u001b[0m     R \u001b[38;5;241m=\u001b[39m torch\u001b[38;5;241m.\u001b[39msigmoid(R)\n\u001b[0;32m    182\u001b[0m     \u001b[38;5;28;01mreturn\u001b[39;00m R\n",
      "File \u001b[1;32mc:\\Users\\tengo\\Documents\\Cours IAM - IAAA\\IAM\\Projet 3A\\FlowForecasting\\env\\lib\\site-packages\\torch\\nn\\modules\\module.py:1553\u001b[0m, in \u001b[0;36mModule._wrapped_call_impl\u001b[1;34m(self, *args, **kwargs)\u001b[0m\n\u001b[0;32m   1551\u001b[0m     \u001b[38;5;28;01mreturn\u001b[39;00m \u001b[38;5;28mself\u001b[39m\u001b[38;5;241m.\u001b[39m_compiled_call_impl(\u001b[38;5;241m*\u001b[39margs, \u001b[38;5;241m*\u001b[39m\u001b[38;5;241m*\u001b[39mkwargs)  \u001b[38;5;66;03m# type: ignore[misc]\u001b[39;00m\n\u001b[0;32m   1552\u001b[0m \u001b[38;5;28;01melse\u001b[39;00m:\n\u001b[1;32m-> 1553\u001b[0m     \u001b[38;5;28;01mreturn\u001b[39;00m \u001b[38;5;28;43mself\u001b[39;49m\u001b[38;5;241;43m.\u001b[39;49m\u001b[43m_call_impl\u001b[49m\u001b[43m(\u001b[49m\u001b[38;5;241;43m*\u001b[39;49m\u001b[43margs\u001b[49m\u001b[43m,\u001b[49m\u001b[43m \u001b[49m\u001b[38;5;241;43m*\u001b[39;49m\u001b[38;5;241;43m*\u001b[39;49m\u001b[43mkwargs\u001b[49m\u001b[43m)\u001b[49m\n",
      "File \u001b[1;32mc:\\Users\\tengo\\Documents\\Cours IAM - IAAA\\IAM\\Projet 3A\\FlowForecasting\\env\\lib\\site-packages\\torch\\nn\\modules\\module.py:1562\u001b[0m, in \u001b[0;36mModule._call_impl\u001b[1;34m(self, *args, **kwargs)\u001b[0m\n\u001b[0;32m   1557\u001b[0m \u001b[38;5;66;03m# If we don't have any hooks, we want to skip the rest of the logic in\u001b[39;00m\n\u001b[0;32m   1558\u001b[0m \u001b[38;5;66;03m# this function, and just call forward.\u001b[39;00m\n\u001b[0;32m   1559\u001b[0m \u001b[38;5;28;01mif\u001b[39;00m \u001b[38;5;129;01mnot\u001b[39;00m (\u001b[38;5;28mself\u001b[39m\u001b[38;5;241m.\u001b[39m_backward_hooks \u001b[38;5;129;01mor\u001b[39;00m \u001b[38;5;28mself\u001b[39m\u001b[38;5;241m.\u001b[39m_backward_pre_hooks \u001b[38;5;129;01mor\u001b[39;00m \u001b[38;5;28mself\u001b[39m\u001b[38;5;241m.\u001b[39m_forward_hooks \u001b[38;5;129;01mor\u001b[39;00m \u001b[38;5;28mself\u001b[39m\u001b[38;5;241m.\u001b[39m_forward_pre_hooks\n\u001b[0;32m   1560\u001b[0m         \u001b[38;5;129;01mor\u001b[39;00m _global_backward_pre_hooks \u001b[38;5;129;01mor\u001b[39;00m _global_backward_hooks\n\u001b[0;32m   1561\u001b[0m         \u001b[38;5;129;01mor\u001b[39;00m _global_forward_hooks \u001b[38;5;129;01mor\u001b[39;00m _global_forward_pre_hooks):\n\u001b[1;32m-> 1562\u001b[0m     \u001b[38;5;28;01mreturn\u001b[39;00m \u001b[43mforward_call\u001b[49m\u001b[43m(\u001b[49m\u001b[38;5;241;43m*\u001b[39;49m\u001b[43margs\u001b[49m\u001b[43m,\u001b[49m\u001b[43m \u001b[49m\u001b[38;5;241;43m*\u001b[39;49m\u001b[38;5;241;43m*\u001b[39;49m\u001b[43mkwargs\u001b[49m\u001b[43m)\u001b[49m\n\u001b[0;32m   1564\u001b[0m \u001b[38;5;28;01mtry\u001b[39;00m:\n\u001b[0;32m   1565\u001b[0m     result \u001b[38;5;241m=\u001b[39m \u001b[38;5;28;01mNone\u001b[39;00m\n",
      "File \u001b[1;32mc:\\Users\\tengo\\Documents\\Cours IAM - IAAA\\IAM\\Projet 3A\\FlowForecasting\\env\\lib\\site-packages\\torch_geometric_temporal\\nn\\recurrent\\dcrnn.py:81\u001b[0m, in \u001b[0;36mDConv.forward\u001b[1;34m(self, X, edge_index, edge_weight)\u001b[0m\n\u001b[0;32m     79\u001b[0m Tx_0 \u001b[38;5;241m=\u001b[39m X\n\u001b[0;32m     80\u001b[0m Tx_1 \u001b[38;5;241m=\u001b[39m X\n\u001b[1;32m---> 81\u001b[0m H \u001b[38;5;241m=\u001b[39m \u001b[43mtorch\u001b[49m\u001b[38;5;241;43m.\u001b[39;49m\u001b[43mmatmul\u001b[49m\u001b[43m(\u001b[49m\u001b[43mTx_0\u001b[49m\u001b[43m,\u001b[49m\u001b[43m \u001b[49m\u001b[43m(\u001b[49m\u001b[38;5;28;43mself\u001b[39;49m\u001b[38;5;241;43m.\u001b[39;49m\u001b[43mweight\u001b[49m\u001b[43m[\u001b[49m\u001b[38;5;241;43m0\u001b[39;49m\u001b[43m]\u001b[49m\u001b[43m)\u001b[49m\u001b[43m[\u001b[49m\u001b[38;5;241;43m0\u001b[39;49m\u001b[43m]\u001b[49m\u001b[43m)\u001b[49m \u001b[38;5;241m+\u001b[39m torch\u001b[38;5;241m.\u001b[39mmatmul(\n\u001b[0;32m     82\u001b[0m     Tx_0, (\u001b[38;5;28mself\u001b[39m\u001b[38;5;241m.\u001b[39mweight[\u001b[38;5;241m1\u001b[39m])[\u001b[38;5;241m0\u001b[39m]\n\u001b[0;32m     83\u001b[0m )\n\u001b[0;32m     85\u001b[0m \u001b[38;5;28;01mif\u001b[39;00m \u001b[38;5;28mself\u001b[39m\u001b[38;5;241m.\u001b[39mweight\u001b[38;5;241m.\u001b[39msize(\u001b[38;5;241m1\u001b[39m) \u001b[38;5;241m>\u001b[39m \u001b[38;5;241m1\u001b[39m:\n\u001b[0;32m     86\u001b[0m     Tx_1_o \u001b[38;5;241m=\u001b[39m \u001b[38;5;28mself\u001b[39m\u001b[38;5;241m.\u001b[39mpropagate(edge_index, x\u001b[38;5;241m=\u001b[39mX, norm\u001b[38;5;241m=\u001b[39mnorm_out, size\u001b[38;5;241m=\u001b[39m\u001b[38;5;28;01mNone\u001b[39;00m)\n",
      "\u001b[1;31mKeyboardInterrupt\u001b[0m: "
     ]
    }
   ],
   "source": [
    "model = RecurrentGCN(num_lag_features=lag, num_date_features=2)\n",
    "optimizer = torch.optim.Adam(model.parameters(), lr=0.01)\n",
    "# criterion =torch.nn.\n",
    "criterion =torch.nn.MSELoss()\n",
    "# criterion =torch.nn.L1Loss()\n",
    "epochs = 10\n",
    "epoch_plot = epochs // 10\n",
    "\n",
    "num_stations = numbat_dev_dataset[0].x.shape[0]\n",
    "num_links = numbat_dev_dataset[0].edge_index.shape[1]\n",
    "\n",
    "for epoch in range(epochs):\n",
    "    ### TRAIN\n",
    "\n",
    "    model.train()\n",
    "    print(\"Epoch\", epoch)\n",
    "\n",
    "    entries_train_loss = 0\n",
    "    exits_train_loss = 0\n",
    "    loads_train_loss = 0\n",
    "\n",
    "    entries_pred_plot = np.empty((num_snap_train, num_stations))\n",
    "    entries_true_plot = np.empty((num_snap_train, num_stations))\n",
    "\n",
    "    exits_pred_plot = np.empty((num_snap_train, num_stations))\n",
    "    exits_true_plot = np.empty((num_snap_train, num_stations))\n",
    "\n",
    "    loads_pred_plot = np.empty((num_snap_train, num_links))\n",
    "    loads_true_plot = np.empty((num_snap_train, num_links))\n",
    "\n",
    "    for time, snapshot in tqdm(enumerate(numbat_train_dataset), total=num_snap_train):\n",
    "        pred_entries, pred_exits, pred_loads = model(\n",
    "            snapshot.x, \n",
    "            snapshot.features_exits, \n",
    "            snapshot.features_loads, \n",
    "            snapshot.edge_index, snapshot.edge_attr)\n",
    "        entries_train_loss = entries_train_loss + criterion(pred_entries, snapshot.y)\n",
    "        exits_train_loss = exits_train_loss + criterion(pred_exits, snapshot.targets_exits)\n",
    "        loads_train_loss = loads_train_loss + criterion(pred_loads, snapshot.targets_loads)\n",
    "\n",
    "        entries_pred_plot[time] = pred_entries.detach().squeeze().numpy()\n",
    "        entries_true_plot[time] = snapshot.y.numpy()\n",
    "\n",
    "        exits_pred_plot[time] = pred_exits.detach().squeeze().numpy()\n",
    "        exits_true_plot[time] = snapshot.targets_exits.numpy()\n",
    "\n",
    "        loads_pred_plot[time] = pred_loads.detach().squeeze().numpy()\n",
    "        loads_true_plot[time] = snapshot.targets_loads.numpy()\n",
    "    \n",
    "    entries_train_loss = entries_train_loss / num_snap_train\n",
    "    exits_train_loss = exits_train_loss / num_snap_train\n",
    "    loads_train_loss = loads_train_loss / num_snap_train\n",
    "    \n",
    "    train_loss = entries_train_loss + exits_train_loss + loads_train_loss\n",
    "    train_loss.backward()\n",
    "    optimizer.step()\n",
    "    optimizer.zero_grad()\n",
    "\n",
    "    if epoch%epoch_plot == 0:\n",
    "        # print(\"Train Loss:\", train_loss.item())\n",
    "        print(\"Train Loss - Entries {}; Exits: {}; Loads {}\".format(\n",
    "            entries_train_loss.item(), exits_train_loss.item(), loads_train_loss.item()\n",
    "        ))\n",
    "        \n",
    "        fig, axs = plt.subplots(2, 3, sharex='row', figsize=(12, 8))\n",
    "\n",
    "        for ax, col in zip(axs[0], ('St. Entries', 'St. Exits', 'Link Loads')):\n",
    "            ax.set_title(col)\n",
    "\n",
    "        for ax, row in zip(axs[:,0], ('Train', 'Dev')):\n",
    "            ax.set_ylabel(row, size='large')\n",
    "        axs[0,0].plot(range(num_snap_train),np.mean(entries_true_plot, axis=1), label='Target', marker='o')\n",
    "        axs[0,0].plot(np.mean(entries_pred_plot, axis=1), label='Predicted', marker='o')\n",
    "\n",
    "        axs[0,1].plot(np.mean(exits_true_plot, axis=1), label='Target', marker='o')\n",
    "        axs[0,1].plot(np.mean(exits_pred_plot, axis=1), label='Predicted', marker='o')\n",
    "\n",
    "        axs[0,2].plot(np.mean(loads_true_plot, axis=1), label='Target', marker='o')\n",
    "        axs[0,2].plot(np.mean(loads_pred_plot, axis=1), label='Predicted', marker='o')\n",
    "\n",
    "    ### EVAL\n",
    "        model.eval()\n",
    "        entries_dev_loss = 0\n",
    "        exits_dev_loss = 0\n",
    "        loads_dev_loss = 0\n",
    "\n",
    "        entries_pred_plot = np.empty((num_snap_dev, num_stations))\n",
    "        entries_true_plot = np.empty((num_snap_dev, num_stations))\n",
    "\n",
    "        exits_pred_plot = np.empty((num_snap_dev, num_stations))\n",
    "        exits_true_plot = np.empty((num_snap_dev, num_stations))\n",
    "\n",
    "        loads_pred_plot = np.empty((num_snap_dev, num_links))\n",
    "        loads_true_plot = np.empty((num_snap_dev, num_links))\n",
    "        for time, snapshot in tqdm(enumerate(numbat_dev_dataset), total=num_snap_dev):\n",
    "            pred_entries, pred_exits, pred_loads = model(\n",
    "                snapshot.x, \n",
    "                snapshot.features_exits, \n",
    "                snapshot.features_loads, \n",
    "                snapshot.edge_index, snapshot.edge_attr)\n",
    "            \n",
    "            entries_dev_loss = entries_dev_loss + criterion(pred_entries, snapshot.y)\n",
    "            exits_dev_loss = exits_dev_loss + criterion(pred_exits, snapshot.targets_exits)\n",
    "            loads_dev_loss = loads_dev_loss + criterion(pred_loads, snapshot.targets_loads)\n",
    "        \n",
    "            entries_pred_plot[time] = pred_entries.detach().squeeze().numpy()\n",
    "            entries_true_plot[time] = snapshot.y.numpy()\n",
    "\n",
    "            exits_pred_plot[time] = pred_exits.detach().squeeze().numpy()\n",
    "            exits_true_plot[time] = snapshot.targets_exits.numpy()\n",
    "\n",
    "            loads_pred_plot[time] = pred_loads.detach().squeeze().numpy()\n",
    "            loads_true_plot[time] = snapshot.targets_loads.numpy()\n",
    "\n",
    "        entries_dev_loss = entries_dev_loss / num_snap_dev\n",
    "        exits_dev_loss = exits_dev_loss / num_snap_dev\n",
    "        loads_dev_loss = loads_dev_loss / num_snap_dev\n",
    "        print(\"Dev Loss - Entries {}; Exits: {}; Loads: {}\".format(\n",
    "            entries_dev_loss.item(), exits_dev_loss.item(), loads_dev_loss.item()\n",
    "        ))\n",
    "        axs[1,0].plot(range(num_snap_dev),np.mean(entries_true_plot, axis=1), label='Target', marker='o')\n",
    "        axs[1,0].plot(np.mean(entries_pred_plot, axis=1), label='Predicted', marker='o')\n",
    "\n",
    "        axs[1,1].plot(np.mean(exits_true_plot, axis=1), label='Target', marker='o')\n",
    "        axs[1,1].plot(np.mean(exits_pred_plot, axis=1), label='Predicted', marker='o')\n",
    "\n",
    "        axs[1,2].plot(np.mean(loads_true_plot, axis=1), label='Target', marker='o')\n",
    "        axs[1,2].plot(np.mean(loads_pred_plot, axis=1), label='Predicted', marker='o')\n",
    "\n",
    "        fig.tight_layout()\n",
    "        plt.legend()\n",
    "        plt.show()"
   ]
  },
  {
   "cell_type": "code",
   "execution_count": 23,
   "metadata": {},
   "outputs": [
    {
     "name": "stderr",
     "output_type": "stream",
     "text": [
      "100%|██████████| 96/96 [00:00<00:00, 107.17it/s]"
     ]
    },
    {
     "name": "stdout",
     "output_type": "stream",
     "text": [
      "MSE Entries: 22153.2754\n"
     ]
    },
    {
     "name": "stderr",
     "output_type": "stream",
     "text": [
      "\n"
     ]
    }
   ],
   "source": [
    "model.eval()\n",
    "cost = 0\n",
    "num_snapshot = numbat_test_dataset.snapshot_count\n",
    "for time, snapshot in tqdm(enumerate(numbat_test_dataset), total=num_snapshot):\n",
    "    y_hat, _, _ = model(snapshot.x, snapshot.features_exits, snapshot.features_loads, snapshot.edge_index, snapshot.edge_attr)\n",
    "    cost = cost + torch.mean((y_hat-snapshot.y)**2)\n",
    "cost = cost / num_snapshot\n",
    "cost = cost.item()\n",
    "print(\"MSE Entries: {:.4f}\".format(cost))"
   ]
  },
  {
   "cell_type": "markdown",
   "metadata": {},
   "source": [
    "### Sliding Split"
   ]
  },
  {
   "cell_type": "code",
   "execution_count": 13,
   "metadata": {},
   "outputs": [],
   "source": [
    "numbat_2023_ent_ex_dataset = StaticGraphTemporalSignal(\n",
    "    edge_index=edge_idx,\n",
    "    edge_weight=None,\n",
    "    features=station_entries_features,\n",
    "    targets=station_entries,\n",
    "    features_exits=station_exits_features,\n",
    "    targets_exits=station_exits,\n",
    "    features_loads=link_loads_features,\n",
    "    targets_loads=link_loads,\n",
    ")\n",
    "\n",
    "n_splits=8\n",
    "tscv = TimeSeriesSplit(\n",
    "    n_splits=n_splits,\n",
    "    max_train_size=192,\n",
    "    gap=48 #12 hours gap\n",
    ")"
   ]
  },
  {
   "cell_type": "code",
   "execution_count": 15,
   "metadata": {},
   "outputs": [
    {
     "name": "stderr",
     "output_type": "stream",
     "text": [
      "No artists with labels found to put in legend.  Note that artists whose label start with an underscore are ignored when legend() is called with no argument.\n",
      "No artists with labels found to put in legend.  Note that artists whose label start with an underscore are ignored when legend() is called with no argument.\n",
      "No artists with labels found to put in legend.  Note that artists whose label start with an underscore are ignored when legend() is called with no argument.\n",
      "No artists with labels found to put in legend.  Note that artists whose label start with an underscore are ignored when legend() is called with no argument.\n",
      "No artists with labels found to put in legend.  Note that artists whose label start with an underscore are ignored when legend() is called with no argument.\n",
      "No artists with labels found to put in legend.  Note that artists whose label start with an underscore are ignored when legend() is called with no argument.\n",
      "No artists with labels found to put in legend.  Note that artists whose label start with an underscore are ignored when legend() is called with no argument.\n"
     ]
    },
    {
     "data": {
      "image/png": "[encoded data removed]",
      "text/plain": [
       "<Figure size 1000x1600 with 8 Axes>"
      ]
     },
     "metadata": {},
     "output_type": "display_data"
    }
   ],
   "source": [
    "idx = random.randint(0, numbat_2023_ent_ex_dataset[0].x.shape[0] -1)\n",
    "\n",
    "fig, axes = plt.subplots(n_splits, 1, figsize=(10, 2 * n_splits))\n",
    "target_val = np.array([snapshot.y[idx] for snapshot in numbat_2023_ent_ex_dataset])\n",
    "\n",
    "# Loop over the splits and plot train/test sets separately\n",
    "for i, (train_index, test_index) in enumerate(tscv.split(list(numbat_2023_ent_ex_dataset))):\n",
    "    ax = axes[i]\n",
    "    # Plot the full series with low opacity for context\n",
    "    ax.plot(range(len(target_val)), target_val, color='gray', alpha=0.3, label='Full Time Series' if i == 0 else \"\")\n",
    "    \n",
    "    # Highlight train and test sets\n",
    "    ax.plot(train_index, target_val[train_index], color='blue', alpha=0.8, label='Train' if i == 0 else \"\")\n",
    "    ax.plot(test_index, target_val[test_index], color='red', alpha=0.8, label='Test' if i == 0 else \"\")\n",
    "    \n",
    "    ax.set_title(f\"Split {i+1}\")\n",
    "    ax.legend()\n",
    "\n",
    "# Adjust layout\n",
    "plt.xlabel(\"Time Index\")\n",
    "plt.tight_layout()\n",
    "plt.show()"
   ]
  },
  {
   "cell_type": "code",
   "execution_count": 18,
   "metadata": {},
   "outputs": [
    {
     "name": "stdout",
     "output_type": "stream",
     "text": [
      "Epoch 0\n"
     ]
    },
    {
     "name": "stderr",
     "output_type": "stream",
     "text": [
      "100%|██████████| 12/12 [00:00<00:00, 54.34it/s]\n"
     ]
    },
    {
     "name": "stdout",
     "output_type": "stream",
     "text": [
      "Train Loss - Entries 81711.0; Exits: 107561.9140625; Loads 596978.75\n"
     ]
    },
    {
     "name": "stderr",
     "output_type": "stream",
     "text": [
      "100%|██████████| 52/52 [00:00<00:00, 79.97it/s]\n"
     ]
    },
    {
     "name": "stdout",
     "output_type": "stream",
     "text": [
      "Dev Loss - Entries 82381.8359375; Exits: 83414.84375; Loads: 459426.84375\n",
      "Epoch 1\n"
     ]
    },
    {
     "name": "stderr",
     "output_type": "stream",
     "text": [
      "100%|██████████| 12/12 [00:00<00:00, 70.02it/s]\n"
     ]
    },
    {
     "name": "stdout",
     "output_type": "stream",
     "text": [
      "Train Loss - Entries 78550.8125; Exits: 104853.4375; Loads 596978.75\n"
     ]
    },
    {
     "name": "stderr",
     "output_type": "stream",
     "text": [
      "100%|██████████| 52/52 [00:00<00:00, 91.47it/s]\n"
     ]
    },
    {
     "name": "stdout",
     "output_type": "stream",
     "text": [
      "Dev Loss - Entries 79827.515625; Exits: 81595.7890625; Loads: 459426.84375\n",
      "Epoch 2\n"
     ]
    },
    {
     "name": "stderr",
     "output_type": "stream",
     "text": [
      "100%|██████████| 12/12 [00:00<00:00, 85.77it/s]\n"
     ]
    },
    {
     "name": "stdout",
     "output_type": "stream",
     "text": [
      "Train Loss - Entries 75591.8359375; Exits: 103065.2890625; Loads 596978.75\n"
     ]
    },
    {
     "name": "stderr",
     "output_type": "stream",
     "text": [
      "100%|██████████| 52/52 [00:00<00:00, 98.59it/s] \n"
     ]
    },
    {
     "name": "stdout",
     "output_type": "stream",
     "text": [
      "Dev Loss - Entries 78392.9609375; Exits: 80983.3671875; Loads: 459426.84375\n",
      "Epoch 3\n"
     ]
    },
    {
     "name": "stderr",
     "output_type": "stream",
     "text": [
      "100%|██████████| 12/12 [00:00<00:00, 76.50it/s]\n"
     ]
    },
    {
     "name": "stdout",
     "output_type": "stream",
     "text": [
      "Train Loss - Entries 73351.2578125; Exits: 102149.9609375; Loads 596978.75\n"
     ]
    },
    {
     "name": "stderr",
     "output_type": "stream",
     "text": [
      "100%|██████████| 52/52 [00:00<00:00, 94.33it/s] \n"
     ]
    },
    {
     "name": "stdout",
     "output_type": "stream",
     "text": [
      "Dev Loss - Entries 78168.703125; Exits: 81570.9609375; Loads: 459426.84375\n",
      "Epoch 4\n"
     ]
    },
    {
     "name": "stderr",
     "output_type": "stream",
     "text": [
      "100%|██████████| 12/12 [00:00<00:00, 77.89it/s]\n"
     ]
    },
    {
     "name": "stdout",
     "output_type": "stream",
     "text": [
      "Train Loss - Entries 71905.8828125; Exits: 102108.5234375; Loads 596978.75\n"
     ]
    },
    {
     "name": "stderr",
     "output_type": "stream",
     "text": [
      "100%|██████████| 52/52 [00:00<00:00, 98.55it/s] \n"
     ]
    },
    {
     "name": "stdout",
     "output_type": "stream",
     "text": [
      "Dev Loss - Entries 79114.046875; Exits: 82723.890625; Loads: 457140.1875\n",
      "Epoch 5\n"
     ]
    },
    {
     "name": "stderr",
     "output_type": "stream",
     "text": [
      "100%|██████████| 12/12 [00:00<00:00, 77.34it/s]\n"
     ]
    },
    {
     "name": "stdout",
     "output_type": "stream",
     "text": [
      "Train Loss - Entries 71259.59375; Exits: 102594.7890625; Loads 595304.9375\n"
     ]
    },
    {
     "name": "stderr",
     "output_type": "stream",
     "text": [
      "100%|██████████| 52/52 [00:00<00:00, 84.49it/s] \n"
     ]
    },
    {
     "name": "stdout",
     "output_type": "stream",
     "text": [
      "Dev Loss - Entries 81009.6171875; Exits: 83289.421875; Loads: 444718.0625\n",
      "Epoch 6\n"
     ]
    },
    {
     "name": "stderr",
     "output_type": "stream",
     "text": [
      "100%|██████████| 12/12 [00:00<00:00, 74.29it/s]\n"
     ]
    },
    {
     "name": "stdout",
     "output_type": "stream",
     "text": [
      "Train Loss - Entries 71338.2421875; Exits: 102853.71875; Loads 581872.875\n"
     ]
    },
    {
     "name": "stderr",
     "output_type": "stream",
     "text": [
      "100%|██████████| 52/52 [00:00<00:00, 83.88it/s]\n"
     ]
    },
    {
     "name": "stdout",
     "output_type": "stream",
     "text": [
      "Dev Loss - Entries 83165.2109375; Exits: 83171.9609375; Loads: 430222.65625\n",
      "Epoch 7\n"
     ]
    },
    {
     "name": "stderr",
     "output_type": "stream",
     "text": [
      "100%|██████████| 12/12 [00:00<00:00, 79.85it/s]\n"
     ]
    },
    {
     "name": "stdout",
     "output_type": "stream",
     "text": [
      "Train Loss - Entries 71848.265625; Exits: 102739.1953125; Loads 566129.75\n"
     ]
    },
    {
     "name": "stderr",
     "output_type": "stream",
     "text": [
      "100%|██████████| 52/52 [00:00<00:00, 86.31it/s]\n"
     ]
    },
    {
     "name": "stdout",
     "output_type": "stream",
     "text": [
      "Dev Loss - Entries 84680.640625; Exits: 82630.03125; Loads: 408876.78125\n",
      "Epoch 8\n"
     ]
    },
    {
     "name": "stderr",
     "output_type": "stream",
     "text": [
      "100%|██████████| 12/12 [00:00<00:00, 87.74it/s]\n"
     ]
    },
    {
     "name": "stdout",
     "output_type": "stream",
     "text": [
      "Train Loss - Entries 72315.78125; Exits: 102428.0859375; Loads 542508.1875\n"
     ]
    },
    {
     "name": "stderr",
     "output_type": "stream",
     "text": [
      "100%|██████████| 52/52 [00:00<00:00, 76.96it/s]\n"
     ]
    },
    {
     "name": "stdout",
     "output_type": "stream",
     "text": [
      "Dev Loss - Entries 85122.21875; Exits: 81955.015625; Loads: 382871.96875\n",
      "Epoch 9\n"
     ]
    },
    {
     "name": "stderr",
     "output_type": "stream",
     "text": [
      "100%|██████████| 12/12 [00:00<00:00, 89.50it/s]\n"
     ]
    },
    {
     "name": "stdout",
     "output_type": "stream",
     "text": [
      "Train Loss - Entries 72449.390625; Exits: 102091.9140625; Loads 511868.625\n"
     ]
    },
    {
     "name": "stderr",
     "output_type": "stream",
     "text": [
      "100%|██████████| 52/52 [00:00<00:00, 100.28it/s]\n"
     ]
    },
    {
     "name": "stdout",
     "output_type": "stream",
     "text": [
      "Dev Loss - Entries 84632.15625; Exits: 81370.5390625; Loads: 365373.28125\n",
      "Epoch 0\n"
     ]
    },
    {
     "name": "stderr",
     "output_type": "stream",
     "text": [
      "100%|██████████| 64/64 [00:00<00:00, 89.38it/s]\n"
     ]
    },
    {
     "name": "stdout",
     "output_type": "stream",
     "text": [
      "Train Loss - Entries 75967.359375; Exits: 73915.0859375; Loads 408009.78125\n"
     ]
    },
    {
     "name": "stderr",
     "output_type": "stream",
     "text": [
      "100%|██████████| 52/52 [00:00<00:00, 89.07it/s]\n"
     ]
    },
    {
     "name": "stdout",
     "output_type": "stream",
     "text": [
      "Dev Loss - Entries 83447.6796875; Exits: 82766.2421875; Loads: 450739.84375\n",
      "Epoch 1\n"
     ]
    },
    {
     "name": "stderr",
     "output_type": "stream",
     "text": [
      "100%|██████████| 64/64 [00:00<00:00, 86.58it/s]\n"
     ]
    },
    {
     "name": "stdout",
     "output_type": "stream",
     "text": [
      "Train Loss - Entries 74803.640625; Exits: 71666.390625; Loads 400118.0\n"
     ]
    },
    {
     "name": "stderr",
     "output_type": "stream",
     "text": [
      "100%|██████████| 52/52 [00:00<00:00, 92.00it/s]\n"
     ]
    },
    {
     "name": "stdout",
     "output_type": "stream",
     "text": [
      "Dev Loss - Entries 81459.9609375; Exits: 81323.9140625; Loads: 438459.125\n",
      "Epoch 2\n"
     ]
    },
    {
     "name": "stderr",
     "output_type": "stream",
     "text": [
      "100%|██████████| 64/64 [00:00<00:00, 96.91it/s] \n"
     ]
    },
    {
     "name": "stdout",
     "output_type": "stream",
     "text": [
      "Train Loss - Entries 73064.1484375; Exits: 70282.3046875; Loads 388857.65625\n"
     ]
    },
    {
     "name": "stderr",
     "output_type": "stream",
     "text": [
      "100%|██████████| 52/52 [00:00<00:00, 107.94it/s]\n"
     ]
    },
    {
     "name": "stdout",
     "output_type": "stream",
     "text": [
      "Dev Loss - Entries 79769.7421875; Exits: 80922.71875; Loads: 417832.28125\n",
      "Epoch 3\n"
     ]
    },
    {
     "name": "stderr",
     "output_type": "stream",
     "text": [
      "100%|██████████| 64/64 [00:00<00:00, 97.92it/s] \n"
     ]
    },
    {
     "name": "stdout",
     "output_type": "stream",
     "text": [
      "Train Loss - Entries 71626.9375; Exits: 69870.8515625; Loads 370179.28125\n"
     ]
    },
    {
     "name": "stderr",
     "output_type": "stream",
     "text": [
      "100%|██████████| 52/52 [00:00<00:00, 82.83it/s]\n"
     ]
    },
    {
     "name": "stdout",
     "output_type": "stream",
     "text": [
      "Dev Loss - Entries 78638.3125; Exits: 81415.328125; Loads: 389343.8125\n",
      "Epoch 4\n"
     ]
    },
    {
     "name": "stderr",
     "output_type": "stream",
     "text": [
      "100%|██████████| 64/64 [00:00<00:00, 95.90it/s]\n"
     ]
    },
    {
     "name": "stdout",
     "output_type": "stream",
     "text": [
      "Train Loss - Entries 70730.59375; Exits: 70300.09375; Loads 344894.25\n"
     ]
    },
    {
     "name": "stderr",
     "output_type": "stream",
     "text": [
      "100%|██████████| 52/52 [00:00<00:00, 95.87it/s]\n"
     ]
    },
    {
     "name": "stdout",
     "output_type": "stream",
     "text": [
      "Dev Loss - Entries 78046.640625; Exits: 81799.875; Loads: 365871.53125\n",
      "Epoch 5\n"
     ]
    },
    {
     "name": "stderr",
     "output_type": "stream",
     "text": [
      "100%|██████████| 64/64 [00:00<00:00, 79.75it/s]\n"
     ]
    },
    {
     "name": "stdout",
     "output_type": "stream",
     "text": [
      "Train Loss - Entries 70357.8515625; Exits: 70641.4375; Loads 325866.1875\n"
     ]
    },
    {
     "name": "stderr",
     "output_type": "stream",
     "text": [
      "100%|██████████| 52/52 [00:00<00:00, 80.49it/s]\n"
     ]
    },
    {
     "name": "stdout",
     "output_type": "stream",
     "text": [
      "Dev Loss - Entries 78018.46875; Exits: 81639.421875; Loads: 381520.53125\n",
      "Epoch 6\n"
     ]
    },
    {
     "name": "stderr",
     "output_type": "stream",
     "text": [
      "100%|██████████| 64/64 [00:00<00:00, 93.97it/s]\n"
     ]
    },
    {
     "name": "stdout",
     "output_type": "stream",
     "text": [
      "Train Loss - Entries 70514.5078125; Exits: 70496.125; Loads 345691.875\n"
     ]
    },
    {
     "name": "stderr",
     "output_type": "stream",
     "text": [
      "100%|██████████| 52/52 [00:00<00:00, 92.74it/s]\n"
     ]
    },
    {
     "name": "stdout",
     "output_type": "stream",
     "text": [
      "Dev Loss - Entries 78274.046875; Exits: 81217.0859375; Loads: 379965.65625\n",
      "Epoch 7\n"
     ]
    },
    {
     "name": "stderr",
     "output_type": "stream",
     "text": [
      "100%|██████████| 64/64 [00:00<00:00, 102.41it/s]\n"
     ]
    },
    {
     "name": "stdout",
     "output_type": "stream",
     "text": [
      "Train Loss - Entries 70857.3671875; Exits: 70116.4296875; Loads 344019.46875\n"
     ]
    },
    {
     "name": "stderr",
     "output_type": "stream",
     "text": [
      "100%|██████████| 52/52 [00:00<00:00, 103.95it/s]\n"
     ]
    },
    {
     "name": "stdout",
     "output_type": "stream",
     "text": [
      "Dev Loss - Entries 78327.359375; Exits: 80829.515625; Loads: 367043.0\n",
      "Epoch 8\n"
     ]
    },
    {
     "name": "stderr",
     "output_type": "stream",
     "text": [
      "100%|██████████| 64/64 [00:00<00:00, 96.73it/s]\n"
     ]
    },
    {
     "name": "stdout",
     "output_type": "stream",
     "text": [
      "Train Loss - Entries 70938.5546875; Exits: 69772.9921875; Loads 329653.96875\n"
     ]
    },
    {
     "name": "stderr",
     "output_type": "stream",
     "text": [
      "100%|██████████| 52/52 [00:00<00:00, 87.22it/s]\n"
     ]
    },
    {
     "name": "stdout",
     "output_type": "stream",
     "text": [
      "Dev Loss - Entries 78183.2890625; Exits: 80622.0078125; Loads: 363406.5625\n",
      "Epoch 9\n"
     ]
    },
    {
     "name": "stderr",
     "output_type": "stream",
     "text": [
      "100%|██████████| 64/64 [00:00<00:00, 97.26it/s] \n"
     ]
    },
    {
     "name": "stdout",
     "output_type": "stream",
     "text": [
      "Train Loss - Entries 70786.6171875; Exits: 69596.703125; Loads 324082.09375\n"
     ]
    },
    {
     "name": "stderr",
     "output_type": "stream",
     "text": [
      "100%|██████████| 52/52 [00:00<00:00, 100.59it/s]\n"
     ]
    },
    {
     "name": "stdout",
     "output_type": "stream",
     "text": [
      "Dev Loss - Entries 78015.421875; Exits: 80580.6953125; Loads: 367502.8125\n",
      "Epoch 0\n"
     ]
    },
    {
     "name": "stderr",
     "output_type": "stream",
     "text": [
      "100%|██████████| 116/116 [00:01<00:00, 97.89it/s]\n"
     ]
    },
    {
     "name": "stdout",
     "output_type": "stream",
     "text": [
      "Train Loss - Entries 61302.44140625; Exits: 70683.734375; Loads 362992.5625\n"
     ]
    },
    {
     "name": "stderr",
     "output_type": "stream",
     "text": [
      "100%|██████████| 52/52 [00:00<00:00, 94.54it/s] \n"
     ]
    },
    {
     "name": "stdout",
     "output_type": "stream",
     "text": [
      "Dev Loss - Entries 82995.3046875; Exits: 81905.546875; Loads: 438662.65625\n",
      "Epoch 1\n"
     ]
    },
    {
     "name": "stderr",
     "output_type": "stream",
     "text": [
      "100%|██████████| 116/116 [00:01<00:00, 91.47it/s]\n"
     ]
    },
    {
     "name": "stdout",
     "output_type": "stream",
     "text": [
      "Train Loss - Entries 59998.53125; Exits: 69156.703125; Loads 348703.75\n"
     ]
    },
    {
     "name": "stderr",
     "output_type": "stream",
     "text": [
      "100%|██████████| 52/52 [00:00<00:00, 97.41it/s] \n"
     ]
    },
    {
     "name": "stdout",
     "output_type": "stream",
     "text": [
      "Dev Loss - Entries 81414.1796875; Exits: 80999.6640625; Loads: 415468.53125\n",
      "Epoch 2\n"
     ]
    },
    {
     "name": "stderr",
     "output_type": "stream",
     "text": [
      "100%|██████████| 116/116 [00:01<00:00, 97.69it/s] \n"
     ]
    },
    {
     "name": "stdout",
     "output_type": "stream",
     "text": [
      "Train Loss - Entries 58845.12890625; Exits: 68758.2265625; Loads 330991.78125\n"
     ]
    },
    {
     "name": "stderr",
     "output_type": "stream",
     "text": [
      "100%|██████████| 52/52 [00:00<00:00, 94.60it/s]\n"
     ]
    },
    {
     "name": "stdout",
     "output_type": "stream",
     "text": [
      "Dev Loss - Entries 79878.8828125; Exits: 80996.015625; Loads: 386560.15625\n",
      "Epoch 3\n"
     ]
    },
    {
     "name": "stderr",
     "output_type": "stream",
     "text": [
      "100%|██████████| 116/116 [00:01<00:00, 97.18it/s] \n"
     ]
    },
    {
     "name": "stdout",
     "output_type": "stream",
     "text": [
      "Train Loss - Entries 57748.91015625; Exits: 69049.1015625; Loads 309763.375\n"
     ]
    },
    {
     "name": "stderr",
     "output_type": "stream",
     "text": [
      "100%|██████████| 52/52 [00:00<00:00, 85.64it/s]\n"
     ]
    },
    {
     "name": "stdout",
     "output_type": "stream",
     "text": [
      "Dev Loss - Entries 78649.609375; Exits: 81037.7109375; Loads: 365126.3125\n",
      "Epoch 4\n"
     ]
    },
    {
     "name": "stderr",
     "output_type": "stream",
     "text": [
      "100%|██████████| 116/116 [00:01<00:00, 100.31it/s]\n"
     ]
    },
    {
     "name": "stdout",
     "output_type": "stream",
     "text": [
      "Train Loss - Entries 56919.265625; Exits: 69178.0234375; Loads 296796.09375\n"
     ]
    },
    {
     "name": "stderr",
     "output_type": "stream",
     "text": [
      "100%|██████████| 52/52 [00:00<00:00, 90.97it/s]\n"
     ]
    },
    {
     "name": "stdout",
     "output_type": "stream",
     "text": [
      "Dev Loss - Entries 78079.15625; Exits: 80845.0390625; Loads: 378782.84375\n",
      "Epoch 5\n"
     ]
    },
    {
     "name": "stderr",
     "output_type": "stream",
     "text": [
      "100%|██████████| 116/116 [00:01<00:00, 98.60it/s] \n"
     ]
    },
    {
     "name": "stdout",
     "output_type": "stream",
     "text": [
      "Train Loss - Entries 56608.3984375; Exits: 68941.2578125; Loads 314787.40625\n"
     ]
    },
    {
     "name": "stderr",
     "output_type": "stream",
     "text": [
      "100%|██████████| 52/52 [00:00<00:00, 91.37it/s]\n"
     ]
    },
    {
     "name": "stdout",
     "output_type": "stream",
     "text": [
      "Dev Loss - Entries 78207.15625; Exits: 80600.640625; Loads: 374353.84375\n",
      "Epoch 6\n"
     ]
    },
    {
     "name": "stderr",
     "output_type": "stream",
     "text": [
      "100%|██████████| 116/116 [00:01<00:00, 90.17it/s]\n"
     ]
    },
    {
     "name": "stdout",
     "output_type": "stream",
     "text": [
      "Train Loss - Entries 56836.4921875; Exits: 68633.3984375; Loads 310277.4375\n"
     ]
    },
    {
     "name": "stderr",
     "output_type": "stream",
     "text": [
      "100%|██████████| 52/52 [00:00<00:00, 93.10it/s]\n"
     ]
    },
    {
     "name": "stdout",
     "output_type": "stream",
     "text": [
      "Dev Loss - Entries 78522.4296875; Exits: 80441.8203125; Loads: 364668.9375\n",
      "Epoch 7\n"
     ]
    },
    {
     "name": "stderr",
     "output_type": "stream",
     "text": [
      "100%|██████████| 116/116 [00:01<00:00, 99.18it/s]\n"
     ]
    },
    {
     "name": "stdout",
     "output_type": "stream",
     "text": [
      "Train Loss - Entries 57154.50390625; Exits: 68390.34375; Loads 299219.28125\n"
     ]
    },
    {
     "name": "stderr",
     "output_type": "stream",
     "text": [
      "100%|██████████| 52/52 [00:00<00:00, 98.92it/s] \n"
     ]
    },
    {
     "name": "stdout",
     "output_type": "stream",
     "text": [
      "Dev Loss - Entries 78505.484375; Exits: 80379.71875; Loads: 363821.84375\n",
      "Epoch 8\n"
     ]
    },
    {
     "name": "stderr",
     "output_type": "stream",
     "text": [
      "100%|██████████| 116/116 [00:01<00:00, 98.52it/s] \n"
     ]
    },
    {
     "name": "stdout",
     "output_type": "stream",
     "text": [
      "Train Loss - Entries 57155.640625; Exits: 68252.015625; Loads 295659.65625\n"
     ]
    },
    {
     "name": "stderr",
     "output_type": "stream",
     "text": [
      "100%|██████████| 52/52 [00:00<00:00, 82.27it/s]\n"
     ]
    },
    {
     "name": "stdout",
     "output_type": "stream",
     "text": [
      "Dev Loss - Entries 78237.34375; Exits: 80344.5546875; Loads: 368675.15625\n",
      "Epoch 9\n"
     ]
    },
    {
     "name": "stderr",
     "output_type": "stream",
     "text": [
      "100%|██████████| 116/116 [00:01<00:00, 96.02it/s]\n"
     ]
    },
    {
     "name": "stdout",
     "output_type": "stream",
     "text": [
      "Train Loss - Entries 56915.59765625; Exits: 68180.3203125; Loads 297739.28125\n"
     ]
    },
    {
     "name": "stderr",
     "output_type": "stream",
     "text": [
      "100%|██████████| 52/52 [00:00<00:00, 94.24it/s]\n"
     ]
    },
    {
     "name": "stdout",
     "output_type": "stream",
     "text": [
      "Dev Loss - Entries 77884.265625; Exits: 80269.984375; Loads: 373000.28125\n",
      "Epoch 0\n"
     ]
    },
    {
     "name": "stderr",
     "output_type": "stream",
     "text": [
      "100%|██████████| 168/168 [00:02<00:00, 78.89it/s]\n"
     ]
    },
    {
     "name": "stdout",
     "output_type": "stream",
     "text": [
      "Train Loss - Entries 74863.5; Exits: 75171.0625; Loads 392501.34375\n"
     ]
    },
    {
     "name": "stderr",
     "output_type": "stream",
     "text": [
      "100%|██████████| 52/52 [00:00<00:00, 66.65it/s]\n"
     ]
    },
    {
     "name": "stdout",
     "output_type": "stream",
     "text": [
      "Dev Loss - Entries 81507.046875; Exits: 86809.6796875; Loads: 442204.625\n",
      "Epoch 1\n"
     ]
    },
    {
     "name": "stderr",
     "output_type": "stream",
     "text": [
      "100%|██████████| 168/168 [00:01<00:00, 86.79it/s] \n"
     ]
    },
    {
     "name": "stdout",
     "output_type": "stream",
     "text": [
      "Train Loss - Entries 72340.921875; Exits: 75171.0625; Loads 378005.1875\n"
     ]
    },
    {
     "name": "stderr",
     "output_type": "stream",
     "text": [
      "100%|██████████| 52/52 [00:00<00:00, 93.55it/s] \n"
     ]
    },
    {
     "name": "stdout",
     "output_type": "stream",
     "text": [
      "Dev Loss - Entries 79402.3203125; Exits: 86809.6796875; Loads: 419909.53125\n",
      "Epoch 2\n"
     ]
    },
    {
     "name": "stderr",
     "output_type": "stream",
     "text": [
      "100%|██████████| 168/168 [00:01<00:00, 101.80it/s]\n"
     ]
    },
    {
     "name": "stdout",
     "output_type": "stream",
     "text": [
      "Train Loss - Entries 70781.9140625; Exits: 75171.0625; Loads 359213.40625\n"
     ]
    },
    {
     "name": "stderr",
     "output_type": "stream",
     "text": [
      "100%|██████████| 52/52 [00:00<00:00, 80.86it/s]\n"
     ]
    },
    {
     "name": "stdout",
     "output_type": "stream",
     "text": [
      "Dev Loss - Entries 78205.953125; Exits: 86809.6796875; Loads: 388538.34375\n",
      "Epoch 3\n"
     ]
    },
    {
     "name": "stderr",
     "output_type": "stream",
     "text": [
      "100%|██████████| 168/168 [00:02<00:00, 70.94it/s]\n"
     ]
    },
    {
     "name": "stdout",
     "output_type": "stream",
     "text": [
      "Train Loss - Entries 70135.5546875; Exits: 75171.0625; Loads 333720.5625\n"
     ]
    },
    {
     "name": "stderr",
     "output_type": "stream",
     "text": [
      "100%|██████████| 52/52 [00:00<00:00, 89.75it/s]\n"
     ]
    },
    {
     "name": "stdout",
     "output_type": "stream",
     "text": [
      "Dev Loss - Entries 78076.21875; Exits: 86809.6796875; Loads: 365222.71875\n",
      "Epoch 4\n"
     ]
    },
    {
     "name": "stderr",
     "output_type": "stream",
     "text": [
      "100%|██████████| 168/168 [00:01<00:00, 93.50it/s] \n"
     ]
    },
    {
     "name": "stdout",
     "output_type": "stream",
     "text": [
      "Train Loss - Entries 70460.734375; Exits: 75171.0625; Loads 318409.4375\n"
     ]
    },
    {
     "name": "stderr",
     "output_type": "stream",
     "text": [
      "100%|██████████| 52/52 [00:00<00:00, 96.04it/s]\n"
     ]
    },
    {
     "name": "stdout",
     "output_type": "stream",
     "text": [
      "Dev Loss - Entries 78300.0078125; Exits: 86809.6796875; Loads: 382583.03125\n",
      "Epoch 5\n"
     ]
    },
    {
     "name": "stderr",
     "output_type": "stream",
     "text": [
      "100%|██████████| 168/168 [00:01<00:00, 97.04it/s] \n"
     ]
    },
    {
     "name": "stdout",
     "output_type": "stream",
     "text": [
      "Train Loss - Entries 70889.90625; Exits: 75171.0625; Loads 341215.84375\n"
     ]
    },
    {
     "name": "stderr",
     "output_type": "stream",
     "text": [
      "100%|██████████| 52/52 [00:00<00:00, 86.10it/s]\n"
     ]
    },
    {
     "name": "stdout",
     "output_type": "stream",
     "text": [
      "Dev Loss - Entries 78207.703125; Exits: 86809.6796875; Loads: 373480.0625\n",
      "Epoch 6\n"
     ]
    },
    {
     "name": "stderr",
     "output_type": "stream",
     "text": [
      "100%|██████████| 168/168 [00:01<00:00, 95.36it/s]\n"
     ]
    },
    {
     "name": "stdout",
     "output_type": "stream",
     "text": [
      "Train Loss - Entries 70783.5390625; Exits: 75171.0625; Loads 331023.9375\n"
     ]
    },
    {
     "name": "stderr",
     "output_type": "stream",
     "text": [
      "100%|██████████| 52/52 [00:00<00:00, 96.00it/s] \n"
     ]
    },
    {
     "name": "stdout",
     "output_type": "stream",
     "text": [
      "Dev Loss - Entries 77945.203125; Exits: 86809.6796875; Loads: 363946.125\n",
      "Epoch 7\n"
     ]
    },
    {
     "name": "stderr",
     "output_type": "stream",
     "text": [
      "100%|██████████| 168/168 [00:01<00:00, 96.35it/s] \n"
     ]
    },
    {
     "name": "stdout",
     "output_type": "stream",
     "text": [
      "Train Loss - Entries 70384.0625; Exits: 75171.0625; Loads 318681.5625\n"
     ]
    },
    {
     "name": "stderr",
     "output_type": "stream",
     "text": [
      "100%|██████████| 52/52 [00:00<00:00, 90.94it/s]\n"
     ]
    },
    {
     "name": "stdout",
     "output_type": "stream",
     "text": [
      "Dev Loss - Entries 77779.765625; Exits: 86809.6796875; Loads: 366078.4375\n",
      "Epoch 8\n"
     ]
    },
    {
     "name": "stderr",
     "output_type": "stream",
     "text": [
      "100%|██████████| 168/168 [00:01<00:00, 98.31it/s] \n"
     ]
    },
    {
     "name": "stdout",
     "output_type": "stream",
     "text": [
      "Train Loss - Entries 70023.0703125; Exits: 75171.0625; Loads 317591.75\n"
     ]
    },
    {
     "name": "stderr",
     "output_type": "stream",
     "text": [
      "100%|██████████| 52/52 [00:00<00:00, 92.00it/s]\n"
     ]
    },
    {
     "name": "stdout",
     "output_type": "stream",
     "text": [
      "Dev Loss - Entries 77807.5546875; Exits: 86809.6796875; Loads: 370835.96875\n",
      "Epoch 9\n"
     ]
    },
    {
     "name": "stderr",
     "output_type": "stream",
     "text": [
      "100%|██████████| 168/168 [00:01<00:00, 96.89it/s] \n"
     ]
    },
    {
     "name": "stdout",
     "output_type": "stream",
     "text": [
      "Train Loss - Entries 69845.0859375; Exits: 75171.0625; Loads 320392.46875\n"
     ]
    },
    {
     "name": "stderr",
     "output_type": "stream",
     "text": [
      "100%|██████████| 52/52 [00:00<00:00, 93.71it/s]\n"
     ]
    },
    {
     "name": "stdout",
     "output_type": "stream",
     "text": [
      "Dev Loss - Entries 77952.4140625; Exits: 86809.6796875; Loads: 371796.1875\n",
      "Epoch 0\n"
     ]
    },
    {
     "name": "stderr",
     "output_type": "stream",
     "text": [
      "100%|██████████| 192/192 [00:02<00:00, 95.85it/s] \n"
     ]
    },
    {
     "name": "stdout",
     "output_type": "stream",
     "text": [
      "Train Loss - Entries 65640.2578125; Exits: 65823.5390625; Loads 344199.03125\n"
     ]
    },
    {
     "name": "stderr",
     "output_type": "stream",
     "text": [
      "100%|██████████| 52/52 [00:00<00:00, 95.56it/s] \n"
     ]
    },
    {
     "name": "stdout",
     "output_type": "stream",
     "text": [
      "Dev Loss - Entries 81708.171875; Exits: 85839.078125; Loads: 442523.5625\n",
      "Epoch 1\n"
     ]
    },
    {
     "name": "stderr",
     "output_type": "stream",
     "text": [
      "100%|██████████| 192/192 [00:01<00:00, 97.16it/s] \n"
     ]
    },
    {
     "name": "stdout",
     "output_type": "stream",
     "text": [
      "Train Loss - Entries 63487.703125; Exits: 65055.77734375; Loads 331674.09375\n"
     ]
    },
    {
     "name": "stderr",
     "output_type": "stream",
     "text": [
      "100%|██████████| 52/52 [00:00<00:00, 92.57it/s]\n"
     ]
    },
    {
     "name": "stdout",
     "output_type": "stream",
     "text": [
      "Dev Loss - Entries 79682.90625; Exits: 83790.6640625; Loads: 413954.6875\n",
      "Epoch 2\n"
     ]
    },
    {
     "name": "stderr",
     "output_type": "stream",
     "text": [
      "100%|██████████| 192/192 [00:02<00:00, 92.67it/s] \n"
     ]
    },
    {
     "name": "stdout",
     "output_type": "stream",
     "text": [
      "Train Loss - Entries 62198.046875; Exits: 63526.26953125; Loads 310707.53125\n"
     ]
    },
    {
     "name": "stderr",
     "output_type": "stream",
     "text": [
      "100%|██████████| 52/52 [00:00<00:00, 93.17it/s]\n"
     ]
    },
    {
     "name": "stdout",
     "output_type": "stream",
     "text": [
      "Dev Loss - Entries 78385.9296875; Exits: 82153.9609375; Loads: 380980.1875\n",
      "Epoch 3\n"
     ]
    },
    {
     "name": "stderr",
     "output_type": "stream",
     "text": [
      "100%|██████████| 192/192 [00:02<00:00, 94.23it/s] \n"
     ]
    },
    {
     "name": "stdout",
     "output_type": "stream",
     "text": [
      "Train Loss - Entries 61585.17578125; Exits: 62363.640625; Loads 287472.71875\n"
     ]
    },
    {
     "name": "stderr",
     "output_type": "stream",
     "text": [
      "100%|██████████| 52/52 [00:00<00:00, 91.30it/s]\n"
     ]
    },
    {
     "name": "stdout",
     "output_type": "stream",
     "text": [
      "Dev Loss - Entries 78129.1796875; Exits: 81222.2421875; Loads: 365329.8125\n",
      "Epoch 4\n"
     ]
    },
    {
     "name": "stderr",
     "output_type": "stream",
     "text": [
      "100%|██████████| 192/192 [00:02<00:00, 95.87it/s] \n"
     ]
    },
    {
     "name": "stdout",
     "output_type": "stream",
     "text": [
      "Train Loss - Entries 61795.48046875; Exits: 61804.85546875; Loads 280912.46875\n"
     ]
    },
    {
     "name": "stderr",
     "output_type": "stream",
     "text": [
      "100%|██████████| 52/52 [00:00<00:00, 73.84it/s]\n"
     ]
    },
    {
     "name": "stdout",
     "output_type": "stream",
     "text": [
      "Dev Loss - Entries 78271.453125; Exits: 81097.015625; Loads: 380363.03125\n",
      "Epoch 5\n"
     ]
    },
    {
     "name": "stderr",
     "output_type": "stream",
     "text": [
      "100%|██████████| 192/192 [00:02<00:00, 70.72it/s]\n"
     ]
    },
    {
     "name": "stdout",
     "output_type": "stream",
     "text": [
      "Train Loss - Entries 62103.0625; Exits: 61891.21484375; Loads 296805.3125\n"
     ]
    },
    {
     "name": "stderr",
     "output_type": "stream",
     "text": [
      "100%|██████████| 52/52 [00:00<00:00, 85.17it/s]\n"
     ]
    },
    {
     "name": "stdout",
     "output_type": "stream",
     "text": [
      "Dev Loss - Entries 78188.3515625; Exits: 81390.0078125; Loads: 368264.78125\n",
      "Epoch 6\n"
     ]
    },
    {
     "name": "stderr",
     "output_type": "stream",
     "text": [
      "100%|██████████| 192/192 [00:02<00:00, 85.02it/s] \n"
     ]
    },
    {
     "name": "stdout",
     "output_type": "stream",
     "text": [
      "Train Loss - Entries 62024.84375; Exits: 62256.51953125; Loads 284784.90625\n"
     ]
    },
    {
     "name": "stderr",
     "output_type": "stream",
     "text": [
      "100%|██████████| 52/52 [00:00<00:00, 103.01it/s]\n"
     ]
    },
    {
     "name": "stdout",
     "output_type": "stream",
     "text": [
      "Dev Loss - Entries 77977.15625; Exits: 81544.4609375; Loads: 363344.0625\n",
      "Epoch 7\n"
     ]
    },
    {
     "name": "stderr",
     "output_type": "stream",
     "text": [
      "100%|██████████| 192/192 [00:01<00:00, 105.72it/s]\n"
     ]
    },
    {
     "name": "stdout",
     "output_type": "stream",
     "text": [
      "Train Loss - Entries 61721.50390625; Exits: 62430.06640625; Loads 277616.21875\n"
     ]
    },
    {
     "name": "stderr",
     "output_type": "stream",
     "text": [
      "100%|██████████| 52/52 [00:00<00:00, 101.86it/s]\n"
     ]
    },
    {
     "name": "stdout",
     "output_type": "stream",
     "text": [
      "Dev Loss - Entries 77823.15625; Exits: 81418.59375; Loads: 368555.125\n",
      "Epoch 8\n"
     ]
    },
    {
     "name": "stderr",
     "output_type": "stream",
     "text": [
      "100%|██████████| 192/192 [00:01<00:00, 106.18it/s]\n"
     ]
    },
    {
     "name": "stdout",
     "output_type": "stream",
     "text": [
      "Train Loss - Entries 61427.42578125; Exits: 62317.44140625; Loads 279545.28125\n"
     ]
    },
    {
     "name": "stderr",
     "output_type": "stream",
     "text": [
      "100%|██████████| 52/52 [00:00<00:00, 94.97it/s]\n"
     ]
    },
    {
     "name": "stdout",
     "output_type": "stream",
     "text": [
      "Dev Loss - Entries 77830.2890625; Exits: 81138.6640625; Loads: 374230.3125\n",
      "Epoch 9\n"
     ]
    },
    {
     "name": "stderr",
     "output_type": "stream",
     "text": [
      "100%|██████████| 192/192 [00:01<00:00, 102.51it/s]\n"
     ]
    },
    {
     "name": "stdout",
     "output_type": "stream",
     "text": [
      "Train Loss - Entries 61265.046875; Exits: 62045.41796875; Loads 282954.03125\n"
     ]
    },
    {
     "name": "stderr",
     "output_type": "stream",
     "text": [
      "100%|██████████| 52/52 [00:00<00:00, 89.53it/s] \n"
     ]
    },
    {
     "name": "stdout",
     "output_type": "stream",
     "text": [
      "Dev Loss - Entries 77932.84375; Exits: 80865.0546875; Loads: 375911.625\n",
      "Epoch 0\n"
     ]
    },
    {
     "name": "stderr",
     "output_type": "stream",
     "text": [
      "100%|██████████| 192/192 [00:01<00:00, 100.67it/s]\n"
     ]
    },
    {
     "name": "stdout",
     "output_type": "stream",
     "text": [
      "Train Loss - Entries 63839.04296875; Exits: 65821.7734375; Loads 344203.59375\n"
     ]
    },
    {
     "name": "stderr",
     "output_type": "stream",
     "text": [
      "100%|██████████| 52/52 [00:00<00:00, 103.95it/s]\n"
     ]
    },
    {
     "name": "stdout",
     "output_type": "stream",
     "text": [
      "Dev Loss - Entries 80335.046875; Exits: 86254.1171875; Loads: 450236.875\n",
      "Epoch 1\n"
     ]
    },
    {
     "name": "stderr",
     "output_type": "stream",
     "text": [
      "100%|██████████| 192/192 [00:01<00:00, 103.55it/s]\n"
     ]
    },
    {
     "name": "stdout",
     "output_type": "stream",
     "text": [
      "Train Loss - Entries 62596.359375; Exits: 65456.3125; Loads 337187.78125\n"
     ]
    },
    {
     "name": "stderr",
     "output_type": "stream",
     "text": [
      "100%|██████████| 52/52 [00:00<00:00, 110.17it/s]\n"
     ]
    },
    {
     "name": "stdout",
     "output_type": "stream",
     "text": [
      "Dev Loss - Entries 79034.765625; Exits: 83967.3671875; Loads: 439049.96875\n",
      "Epoch 2\n"
     ]
    },
    {
     "name": "stderr",
     "output_type": "stream",
     "text": [
      "100%|██████████| 192/192 [00:01<00:00, 107.18it/s]\n"
     ]
    },
    {
     "name": "stdout",
     "output_type": "stream",
     "text": [
      "Train Loss - Entries 61834.6875; Exits: 63797.38671875; Loads 328833.90625\n"
     ]
    },
    {
     "name": "stderr",
     "output_type": "stream",
     "text": [
      "100%|██████████| 52/52 [00:00<00:00, 101.17it/s]\n"
     ]
    },
    {
     "name": "stdout",
     "output_type": "stream",
     "text": [
      "Dev Loss - Entries 78295.0546875; Exits: 81976.9609375; Loads: 420901.875\n",
      "Epoch 3\n"
     ]
    },
    {
     "name": "stderr",
     "output_type": "stream",
     "text": [
      "100%|██████████| 192/192 [00:01<00:00, 104.18it/s]\n"
     ]
    },
    {
     "name": "stdout",
     "output_type": "stream",
     "text": [
      "Train Loss - Entries 61566.80859375; Exits: 62322.0625; Loads 315456.28125\n"
     ]
    },
    {
     "name": "stderr",
     "output_type": "stream",
     "text": [
      "100%|██████████| 52/52 [00:00<00:00, 101.36it/s]\n"
     ]
    },
    {
     "name": "stdout",
     "output_type": "stream",
     "text": [
      "Dev Loss - Entries 78149.890625; Exits: 80896.9609375; Loads: 395565.375\n",
      "Epoch 4\n"
     ]
    },
    {
     "name": "stderr",
     "output_type": "stream",
     "text": [
      "100%|██████████| 192/192 [00:01<00:00, 106.77it/s]\n"
     ]
    },
    {
     "name": "stdout",
     "output_type": "stream",
     "text": [
      "Train Loss - Entries 61747.69140625; Exits: 61593.00390625; Loads 297301.96875\n"
     ]
    },
    {
     "name": "stderr",
     "output_type": "stream",
     "text": [
      "100%|██████████| 52/52 [00:00<00:00, 103.09it/s]\n"
     ]
    },
    {
     "name": "stdout",
     "output_type": "stream",
     "text": [
      "Dev Loss - Entries 78171.1328125; Exits: 80838.9609375; Loads: 370477.65625\n",
      "Epoch 5\n"
     ]
    },
    {
     "name": "stderr",
     "output_type": "stream",
     "text": [
      "100%|██████████| 192/192 [00:01<00:00, 105.71it/s]\n"
     ]
    },
    {
     "name": "stdout",
     "output_type": "stream",
     "text": [
      "Train Loss - Entries 61873.296875; Exits: 61692.69921875; Loads 281244.1875\n"
     ]
    },
    {
     "name": "stderr",
     "output_type": "stream",
     "text": [
      "100%|██████████| 52/52 [00:00<00:00, 108.25it/s]\n"
     ]
    },
    {
     "name": "stdout",
     "output_type": "stream",
     "text": [
      "Dev Loss - Entries 78140.078125; Exits: 81295.265625; Loads: 373461.71875\n",
      "Epoch 6\n"
     ]
    },
    {
     "name": "stderr",
     "output_type": "stream",
     "text": [
      "100%|██████████| 192/192 [00:01<00:00, 102.66it/s]\n"
     ]
    },
    {
     "name": "stdout",
     "output_type": "stream",
     "text": [
      "Train Loss - Entries 61831.828125; Exits: 62166.875; Loads 290684.53125\n"
     ]
    },
    {
     "name": "stderr",
     "output_type": "stream",
     "text": [
      "100%|██████████| 52/52 [00:00<00:00, 104.62it/s]\n"
     ]
    },
    {
     "name": "stdout",
     "output_type": "stream",
     "text": [
      "Dev Loss - Entries 78065.8828125; Exits: 81493.9609375; Loads: 376439.78125\n",
      "Epoch 7\n"
     ]
    },
    {
     "name": "stderr",
     "output_type": "stream",
     "text": [
      "100%|██████████| 192/192 [00:01<00:00, 102.34it/s]\n"
     ]
    },
    {
     "name": "stdout",
     "output_type": "stream",
     "text": [
      "Train Loss - Entries 61704.53125; Exits: 62364.359375; Loads 293815.53125\n"
     ]
    },
    {
     "name": "stderr",
     "output_type": "stream",
     "text": [
      "100%|██████████| 52/52 [00:00<00:00, 106.55it/s]\n"
     ]
    },
    {
     "name": "stdout",
     "output_type": "stream",
     "text": [
      "Dev Loss - Entries 78004.84375; Exits: 81303.1796875; Loads: 367520.46875\n",
      "Epoch 8\n"
     ]
    },
    {
     "name": "stderr",
     "output_type": "stream",
     "text": [
      "100%|██████████| 192/192 [00:01<00:00, 105.45it/s]\n"
     ]
    },
    {
     "name": "stdout",
     "output_type": "stream",
     "text": [
      "Train Loss - Entries 61555.0; Exits: 62195.94921875; Loads 284077.3125\n"
     ]
    },
    {
     "name": "stderr",
     "output_type": "stream",
     "text": [
      "100%|██████████| 52/52 [00:00<00:00, 91.40it/s]\n"
     ]
    },
    {
     "name": "stdout",
     "output_type": "stream",
     "text": [
      "Dev Loss - Entries 77984.734375; Exits: 80958.5390625; Loads: 364639.4375\n",
      "Epoch 9\n"
     ]
    },
    {
     "name": "stderr",
     "output_type": "stream",
     "text": [
      "100%|██████████| 192/192 [00:01<00:00, 109.47it/s]\n"
     ]
    },
    {
     "name": "stdout",
     "output_type": "stream",
     "text": [
      "Train Loss - Entries 61436.91015625; Exits: 61875.28515625; Loads 278947.0625\n"
     ]
    },
    {
     "name": "stderr",
     "output_type": "stream",
     "text": [
      "100%|██████████| 52/52 [00:00<00:00, 109.34it/s]\n"
     ]
    },
    {
     "name": "stdout",
     "output_type": "stream",
     "text": [
      "Dev Loss - Entries 77981.25; Exits: 80658.6171875; Loads: 367750.6875\n",
      "Epoch 0\n"
     ]
    },
    {
     "name": "stderr",
     "output_type": "stream",
     "text": [
      "100%|██████████| 192/192 [00:01<00:00, 100.52it/s]\n"
     ]
    },
    {
     "name": "stdout",
     "output_type": "stream",
     "text": [
      "Train Loss - Entries 65635.3046875; Exits: 65823.6484375; Loads 344203.59375\n"
     ]
    },
    {
     "name": "stderr",
     "output_type": "stream",
     "text": [
      "100%|██████████| 52/52 [00:00<00:00, 67.42it/s]\n"
     ]
    },
    {
     "name": "stdout",
     "output_type": "stream",
     "text": [
      "Dev Loss - Entries 84750.7890625; Exits: 86809.6796875; Loads: 454665.375\n",
      "Epoch 1\n"
     ]
    },
    {
     "name": "stderr",
     "output_type": "stream",
     "text": [
      "100%|██████████| 192/192 [00:02<00:00, 81.80it/s]\n"
     ]
    },
    {
     "name": "stdout",
     "output_type": "stream",
     "text": [
      "Train Loss - Entries 65622.2734375; Exits: 65823.6484375; Loads 340669.5625\n"
     ]
    },
    {
     "name": "stderr",
     "output_type": "stream",
     "text": [
      "100%|██████████| 52/52 [00:00<00:00, 86.03it/s]\n"
     ]
    },
    {
     "name": "stdout",
     "output_type": "stream",
     "text": [
      "Dev Loss - Entries 82668.796875; Exits: 86809.6796875; Loads: 447873.1875\n",
      "Epoch 2\n"
     ]
    },
    {
     "name": "stderr",
     "output_type": "stream",
     "text": [
      "100%|██████████| 192/192 [00:02<00:00, 89.48it/s]\n"
     ]
    },
    {
     "name": "stdout",
     "output_type": "stream",
     "text": [
      "Train Loss - Entries 64146.9375; Exits: 65823.6484375; Loads 335555.28125\n"
     ]
    },
    {
     "name": "stderr",
     "output_type": "stream",
     "text": [
      "100%|██████████| 52/52 [00:00<00:00, 80.31it/s]\n"
     ]
    },
    {
     "name": "stdout",
     "output_type": "stream",
     "text": [
      "Dev Loss - Entries 80689.3359375; Exits: 86809.6796875; Loads: 436015.3125\n",
      "Epoch 3\n"
     ]
    },
    {
     "name": "stderr",
     "output_type": "stream",
     "text": [
      "100%|██████████| 192/192 [00:02<00:00, 90.67it/s]\n"
     ]
    },
    {
     "name": "stdout",
     "output_type": "stream",
     "text": [
      "Train Loss - Entries 62802.89453125; Exits: 65823.6484375; Loads 326728.40625\n"
     ]
    },
    {
     "name": "stderr",
     "output_type": "stream",
     "text": [
      "100%|██████████| 52/52 [00:00<00:00, 88.77it/s]\n"
     ]
    },
    {
     "name": "stdout",
     "output_type": "stream",
     "text": [
      "Dev Loss - Entries 78962.53125; Exits: 86809.6796875; Loads: 417227.15625\n",
      "Epoch 4\n"
     ]
    },
    {
     "name": "stderr",
     "output_type": "stream",
     "text": [
      "100%|██████████| 192/192 [00:02<00:00, 80.62it/s]\n"
     ]
    },
    {
     "name": "stdout",
     "output_type": "stream",
     "text": [
      "Train Loss - Entries 61751.578125; Exits: 65823.6484375; Loads 312931.0\n"
     ]
    },
    {
     "name": "stderr",
     "output_type": "stream",
     "text": [
      "100%|██████████| 52/52 [00:00<00:00, 90.79it/s]\n"
     ]
    },
    {
     "name": "stdout",
     "output_type": "stream",
     "text": [
      "Dev Loss - Entries 77993.59375; Exits: 86809.6796875; Loads: 391280.4375\n",
      "Epoch 5\n"
     ]
    },
    {
     "name": "stderr",
     "output_type": "stream",
     "text": [
      "100%|██████████| 192/192 [00:02<00:00, 83.70it/s]\n"
     ]
    },
    {
     "name": "stdout",
     "output_type": "stream",
     "text": [
      "Train Loss - Entries 61397.203125; Exits: 65823.6484375; Loads 294435.34375\n"
     ]
    },
    {
     "name": "stderr",
     "output_type": "stream",
     "text": [
      "100%|██████████| 52/52 [00:00<00:00, 104.71it/s]\n"
     ]
    },
    {
     "name": "stdout",
     "output_type": "stream",
     "text": [
      "Dev Loss - Entries 77887.140625; Exits: 86809.6796875; Loads: 366953.28125\n",
      "Epoch 6\n"
     ]
    },
    {
     "name": "stderr",
     "output_type": "stream",
     "text": [
      "100%|██████████| 192/192 [00:01<00:00, 103.38it/s]\n"
     ]
    },
    {
     "name": "stdout",
     "output_type": "stream",
     "text": [
      "Train Loss - Entries 61693.48046875; Exits: 65823.6484375; Loads 279084.21875\n"
     ]
    },
    {
     "name": "stderr",
     "output_type": "stream",
     "text": [
      "100%|██████████| 52/52 [00:00<00:00, 101.17it/s]\n"
     ]
    },
    {
     "name": "stdout",
     "output_type": "stream",
     "text": [
      "Dev Loss - Entries 78034.640625; Exits: 86809.6796875; Loads: 376229.4375\n",
      "Epoch 7\n"
     ]
    },
    {
     "name": "stderr",
     "output_type": "stream",
     "text": [
      "100%|██████████| 192/192 [00:01<00:00, 100.74it/s]\n"
     ]
    },
    {
     "name": "stdout",
     "output_type": "stream",
     "text": [
      "Train Loss - Entries 61993.33203125; Exits: 65823.6484375; Loads 292974.84375\n"
     ]
    },
    {
     "name": "stderr",
     "output_type": "stream",
     "text": [
      "100%|██████████| 52/52 [00:00<00:00, 99.19it/s] \n"
     ]
    },
    {
     "name": "stdout",
     "output_type": "stream",
     "text": [
      "Dev Loss - Entries 78007.328125; Exits: 86809.6796875; Loads: 377015.0\n",
      "Epoch 8\n"
     ]
    },
    {
     "name": "stderr",
     "output_type": "stream",
     "text": [
      "100%|██████████| 192/192 [00:01<00:00, 102.18it/s]\n"
     ]
    },
    {
     "name": "stdout",
     "output_type": "stream",
     "text": [
      "Train Loss - Entries 61967.70703125; Exits: 65823.6484375; Loads 293818.09375\n"
     ]
    },
    {
     "name": "stderr",
     "output_type": "stream",
     "text": [
      "100%|██████████| 52/52 [00:00<00:00, 102.05it/s]\n"
     ]
    },
    {
     "name": "stdout",
     "output_type": "stream",
     "text": [
      "Dev Loss - Entries 77792.71875; Exits: 86809.6796875; Loads: 366124.46875\n",
      "Epoch 9\n"
     ]
    },
    {
     "name": "stderr",
     "output_type": "stream",
     "text": [
      "100%|██████████| 192/192 [00:01<00:00, 98.06it/s] \n"
     ]
    },
    {
     "name": "stdout",
     "output_type": "stream",
     "text": [
      "Train Loss - Entries 61675.53125; Exits: 65823.6484375; Loads 282556.96875\n"
     ]
    },
    {
     "name": "stderr",
     "output_type": "stream",
     "text": [
      "100%|██████████| 52/52 [00:00<00:00, 102.29it/s]\n"
     ]
    },
    {
     "name": "stdout",
     "output_type": "stream",
     "text": [
      "Dev Loss - Entries 77571.8125; Exits: 86809.6796875; Loads: 363255.5625\n",
      "Epoch 0\n"
     ]
    },
    {
     "name": "stderr",
     "output_type": "stream",
     "text": [
      "100%|██████████| 192/192 [00:01<00:00, 105.29it/s]\n"
     ]
    },
    {
     "name": "stdout",
     "output_type": "stream",
     "text": [
      "Train Loss - Entries 65640.484375; Exits: 65823.6484375; Loads 344203.59375\n"
     ]
    },
    {
     "name": "stderr",
     "output_type": "stream",
     "text": [
      "100%|██████████| 52/52 [00:00<00:00, 95.18it/s] \n"
     ]
    },
    {
     "name": "stdout",
     "output_type": "stream",
     "text": [
      "Dev Loss - Entries 83718.1953125; Exits: 86809.6796875; Loads: 451598.03125\n",
      "Epoch 1\n"
     ]
    },
    {
     "name": "stderr",
     "output_type": "stream",
     "text": [
      "100%|██████████| 192/192 [00:01<00:00, 99.91it/s] \n"
     ]
    },
    {
     "name": "stdout",
     "output_type": "stream",
     "text": [
      "Train Loss - Entries 64873.03515625; Exits: 65823.6484375; Loads 338328.46875\n"
     ]
    },
    {
     "name": "stderr",
     "output_type": "stream",
     "text": [
      "100%|██████████| 52/52 [00:00<00:00, 98.28it/s]\n"
     ]
    },
    {
     "name": "stdout",
     "output_type": "stream",
     "text": [
      "Dev Loss - Entries 81286.40625; Exits: 86809.6796875; Loads: 437711.0625\n",
      "Epoch 2\n"
     ]
    },
    {
     "name": "stderr",
     "output_type": "stream",
     "text": [
      "100%|██████████| 192/192 [00:01<00:00, 106.60it/s]\n"
     ]
    },
    {
     "name": "stdout",
     "output_type": "stream",
     "text": [
      "Train Loss - Entries 63199.3125; Exits: 65823.6484375; Loads 327945.03125\n"
     ]
    },
    {
     "name": "stderr",
     "output_type": "stream",
     "text": [
      "100%|██████████| 52/52 [00:00<00:00, 103.22it/s]\n"
     ]
    },
    {
     "name": "stdout",
     "output_type": "stream",
     "text": [
      "Dev Loss - Entries 79266.8828125; Exits: 86809.6796875; Loads: 415873.125\n",
      "Epoch 3\n"
     ]
    },
    {
     "name": "stderr",
     "output_type": "stream",
     "text": [
      "100%|██████████| 192/192 [00:01<00:00, 104.31it/s]\n"
     ]
    },
    {
     "name": "stdout",
     "output_type": "stream",
     "text": [
      "Train Loss - Entries 61950.05078125; Exits: 65823.6484375; Loads 311874.21875\n"
     ]
    },
    {
     "name": "stderr",
     "output_type": "stream",
     "text": [
      "100%|██████████| 52/52 [00:00<00:00, 96.15it/s]\n"
     ]
    },
    {
     "name": "stdout",
     "output_type": "stream",
     "text": [
      "Dev Loss - Entries 78193.078125; Exits: 86809.6796875; Loads: 386925.53125\n",
      "Epoch 4\n"
     ]
    },
    {
     "name": "stderr",
     "output_type": "stream",
     "text": [
      "100%|██████████| 192/192 [00:01<00:00, 100.50it/s]\n"
     ]
    },
    {
     "name": "stdout",
     "output_type": "stream",
     "text": [
      "Train Loss - Entries 61519.46484375; Exits: 65823.6484375; Loads 291393.34375\n"
     ]
    },
    {
     "name": "stderr",
     "output_type": "stream",
     "text": [
      "100%|██████████| 52/52 [00:00<00:00, 102.61it/s]\n"
     ]
    },
    {
     "name": "stdout",
     "output_type": "stream",
     "text": [
      "Dev Loss - Entries 78098.3828125; Exits: 86809.6796875; Loads: 365259.0\n",
      "Epoch 5\n"
     ]
    },
    {
     "name": "stderr",
     "output_type": "stream",
     "text": [
      "100%|██████████| 192/192 [00:02<00:00, 95.56it/s] \n"
     ]
    },
    {
     "name": "stdout",
     "output_type": "stream",
     "text": [
      "Train Loss - Entries 61848.17578125; Exits: 65823.6484375; Loads 279298.71875\n"
     ]
    },
    {
     "name": "stderr",
     "output_type": "stream",
     "text": [
      "100%|██████████| 52/52 [00:00<00:00, 100.69it/s]\n"
     ]
    },
    {
     "name": "stdout",
     "output_type": "stream",
     "text": [
      "Dev Loss - Entries 78261.828125; Exits: 86809.6796875; Loads: 382762.15625\n",
      "Epoch 6\n"
     ]
    },
    {
     "name": "stderr",
     "output_type": "stream",
     "text": [
      "100%|██████████| 192/192 [00:01<00:00, 103.24it/s]\n"
     ]
    },
    {
     "name": "stdout",
     "output_type": "stream",
     "text": [
      "Train Loss - Entries 62172.87890625; Exits: 65823.6484375; Loads 299899.09375\n"
     ]
    },
    {
     "name": "stderr",
     "output_type": "stream",
     "text": [
      "100%|██████████| 52/52 [00:00<00:00, 98.73it/s] \n"
     ]
    },
    {
     "name": "stdout",
     "output_type": "stream",
     "text": [
      "Dev Loss - Entries 78169.8671875; Exits: 86809.6796875; Loads: 373760.78125\n",
      "Epoch 7\n"
     ]
    },
    {
     "name": "stderr",
     "output_type": "stream",
     "text": [
      "100%|██████████| 192/192 [00:01<00:00, 104.20it/s]\n"
     ]
    },
    {
     "name": "stdout",
     "output_type": "stream",
     "text": [
      "Train Loss - Entries 62098.11328125; Exits: 65823.6484375; Loads 290992.875\n"
     ]
    },
    {
     "name": "stderr",
     "output_type": "stream",
     "text": [
      "100%|██████████| 52/52 [00:00<00:00, 104.93it/s]\n"
     ]
    },
    {
     "name": "stdout",
     "output_type": "stream",
     "text": [
      "Dev Loss - Entries 77912.015625; Exits: 86809.6796875; Loads: 364153.21875\n",
      "Epoch 8\n"
     ]
    },
    {
     "name": "stderr",
     "output_type": "stream",
     "text": [
      "100%|██████████| 192/192 [00:01<00:00, 103.28it/s]\n"
     ]
    },
    {
     "name": "stdout",
     "output_type": "stream",
     "text": [
      "Train Loss - Entries 61771.73046875; Exits: 65823.6484375; Loads 280040.40625\n"
     ]
    },
    {
     "name": "stderr",
     "output_type": "stream",
     "text": [
      "100%|██████████| 52/52 [00:00<00:00, 90.81it/s]\n"
     ]
    },
    {
     "name": "stdout",
     "output_type": "stream",
     "text": [
      "Dev Loss - Entries 77703.609375; Exits: 86809.6796875; Loads: 365028.15625\n",
      "Epoch 9\n"
     ]
    },
    {
     "name": "stderr",
     "output_type": "stream",
     "text": [
      "100%|██████████| 192/192 [00:01<00:00, 103.38it/s]\n"
     ]
    },
    {
     "name": "stdout",
     "output_type": "stream",
     "text": [
      "Train Loss - Entries 61443.70703125; Exits: 65823.6484375; Loads 277999.4375\n"
     ]
    },
    {
     "name": "stderr",
     "output_type": "stream",
     "text": [
      "100%|██████████| 52/52 [00:00<00:00, 105.56it/s]"
     ]
    },
    {
     "name": "stdout",
     "output_type": "stream",
     "text": [
      "Dev Loss - Entries 77618.703125; Exits: 86809.6796875; Loads: 370065.15625\n"
     ]
    },
    {
     "name": "stderr",
     "output_type": "stream",
     "text": [
      "\n"
     ]
    }
   ],
   "source": [
    "# criterion =torch.nn.L1Loss()\n",
    "epochs = 10\n",
    "epoch_plot = epochs // 10\n",
    "\n",
    "num_stations = numbat_2023_ent_ex_dataset[0].x.shape[0]\n",
    "num_links = numbat_2023_ent_ex_dataset[0].edge_index.shape[1]\n",
    "\n",
    "# all_splits = list(tscv.split(list(numbat_2023_ent_ex_dataset)))\n",
    "for idx_split, (train_idx, dev_idx) in enumerate(tscv.split(list(numbat_2023_ent_ex_dataset))):\n",
    "# train_idx, dev_idx = all_splits[idx_split]\n",
    "\n",
    "    model = RecurrentGCN(num_lag_features=lag, num_date_features=2)\n",
    "    optimizer = torch.optim.Adam(model.parameters(), lr=0.01)\n",
    "    criterion =torch.nn.MSELoss()\n",
    "    \n",
    "    num_snap_train = len(train_idx)\n",
    "    num_snap_dev = len(dev_idx)\n",
    "\n",
    "    for epoch in range(epochs):\n",
    "        ### TRAIN\n",
    "\n",
    "        model.train()\n",
    "        print(\"Epoch\", epoch)\n",
    "\n",
    "        entries_train_loss = 0\n",
    "        exits_train_loss = 0\n",
    "        loads_train_loss = 0\n",
    "\n",
    "        entries_pred_plot = np.empty((num_snap_train, num_stations))\n",
    "        entries_true_plot = np.empty((num_snap_train, num_stations))\n",
    "\n",
    "        exits_pred_plot = np.empty((num_snap_train, num_stations))\n",
    "        exits_true_plot = np.empty((num_snap_train, num_stations))\n",
    "\n",
    "        loads_pred_plot = np.empty((num_snap_train, num_links))\n",
    "        loads_true_plot = np.empty((num_snap_train, num_links))\n",
    "\n",
    "        for time in tqdm(range(num_snap_train), total=num_snap_train):\n",
    "            snapshot = numbat_2023_ent_ex_dataset[time]\n",
    "            pred_entries, pred_exits, pred_loads = model(\n",
    "                snapshot.x, \n",
    "                snapshot.features_exits, \n",
    "                snapshot.features_loads, \n",
    "                snapshot.edge_index, snapshot.edge_attr)\n",
    "            entries_train_loss = entries_train_loss + criterion(pred_entries, snapshot.y)\n",
    "            exits_train_loss = exits_train_loss + criterion(pred_exits, snapshot.targets_exits)\n",
    "            loads_train_loss = loads_train_loss + criterion(pred_loads, snapshot.targets_loads)\n",
    "\n",
    "            entries_pred_plot[time] = pred_entries.detach().squeeze().numpy()\n",
    "            entries_true_plot[time] = snapshot.y.numpy()\n",
    "\n",
    "            exits_pred_plot[time] = pred_exits.detach().squeeze().numpy()\n",
    "            exits_true_plot[time] = snapshot.targets_exits.numpy()\n",
    "\n",
    "            loads_pred_plot[time] = pred_loads.detach().squeeze().numpy()\n",
    "            loads_true_plot[time] = snapshot.targets_loads.numpy()\n",
    "        \n",
    "        entries_train_loss = entries_train_loss / num_snap_train\n",
    "        exits_train_loss = exits_train_loss / num_snap_train\n",
    "        loads_train_loss = loads_train_loss / num_snap_train\n",
    "        \n",
    "        train_loss = entries_train_loss + exits_train_loss + loads_train_loss\n",
    "        train_loss.backward()\n",
    "        optimizer.step()\n",
    "        optimizer.zero_grad()\n",
    "\n",
    "        print(\"Train Loss - Entries {}; Exits: {}; Loads {}\".format(\n",
    "            entries_train_loss.item(), exits_train_loss.item(), loads_train_loss.item()\n",
    "        ))\n",
    "\n",
    "        model.eval()\n",
    "        entries_dev_loss = 0\n",
    "        exits_dev_loss = 0\n",
    "        loads_dev_loss = 0\n",
    "\n",
    "        for time in tqdm(range(num_snap_dev), total=num_snap_dev):\n",
    "            snapshot = numbat_2023_ent_ex_dataset[time]\n",
    "            pred_entries, pred_exits, pred_loads = model(\n",
    "                snapshot.x, \n",
    "                snapshot.features_exits, \n",
    "                snapshot.features_loads, \n",
    "                snapshot.edge_index, snapshot.edge_attr)\n",
    "            \n",
    "            entries_dev_loss = entries_dev_loss + criterion(pred_entries, snapshot.y)\n",
    "            exits_dev_loss = exits_dev_loss + criterion(pred_exits, snapshot.targets_exits)\n",
    "            loads_dev_loss = loads_dev_loss + criterion(pred_loads, snapshot.targets_loads)\n",
    "\n",
    "        entries_dev_loss = entries_dev_loss / num_snap_dev\n",
    "        exits_dev_loss = exits_dev_loss / num_snap_dev\n",
    "        loads_dev_loss = loads_dev_loss / num_snap_dev\n",
    "\n",
    "        print(\"Dev Loss - Entries {}; Exits: {}; Loads: {}\".format(\n",
    "            entries_dev_loss.item(), exits_dev_loss.item(), loads_dev_loss.item()\n",
    "        ))"
   ]
  },
  {
   "cell_type": "code",
   "execution_count": null,
   "metadata": {},
   "outputs": [
    {
     "name": "stderr",
     "output_type": "stream",
     "text": [
      "100%|██████████| 96/96 [00:00<00:00, 107.17it/s]"
     ]
    },
    {
     "name": "stdout",
     "output_type": "stream",
     "text": [
      "MSE Entries: 22153.2754\n"
     ]
    },
    {
     "name": "stderr",
     "output_type": "stream",
     "text": [
      "\n"
     ]
    }
   ],
   "source": [
    "model.eval()\n",
    "cost = 0\n",
    "num_snapshot = numbat_test_dataset.snapshot_count\n",
    "for time, snapshot in tqdm(enumerate(numbat_test_dataset), total=num_snapshot):\n",
    "    y_hat, _, _ = model(snapshot.x, snapshot.features_exits, snapshot.features_loads, snapshot.edge_index, snapshot.edge_attr)\n",
    "    cost = cost + torch.mean((y_hat-snapshot.y)**2)\n",
    "cost = cost / num_snapshot\n",
    "cost = cost.item()\n",
    "print(\"MSE Entries: {:.4f}\".format(cost))"
   ]
  }
 ],
 "metadata": {
  "kernelspec": {
   "display_name": "env",
   "language": "python",
   "name": "python3"
  },
  "language_info": {
   "codemirror_mode": {
    "name": "ipython",
    "version": 3
   },
   "file_extension": ".py",
   "mimetype": "text/x-python",
   "name": "python",
   "nbconvert_exporter": "python",
   "pygments_lexer": "ipython3",
   "version": "3.8.10"
  }
 },
 "nbformat": 4,
 "nbformat_minor": 2
}

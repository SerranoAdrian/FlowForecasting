{
  "cells": [
    {
      "cell_type": "code",
      "execution_count": 1,
      "metadata": {
        "id": "ZvfClyA-1vf-"
      },
      "outputs": [],
      "source": [
        "%load_ext autoreload\n",
        "%autoreload 2"
      ]
    },
    {
      "cell_type": "code",
      "source": [
        "!pip install torch_geometric"
      ],
      "metadata": {
        "colab": {
          "base_uri": "https://localhost:8080/"
        },
        "id": "VaCorz002Dmw",
        "outputId": "6e5f622c-e9f0-4ee7-966f-38f29a09bae9"
      },
      "execution_count": 3,
      "outputs": [
        {
          "output_type": "stream",
          "name": "stdout",
          "text": [
            "Collecting torch_geometric\n",
            "  Downloading torch_geometric-2.6.1-py3-none-any.whl.metadata (63 kB)\n",
            "\u001b[?25l     \u001b[90m━━━━━━━━━━━━━━━━━━━━━━━━━━━━━━━━━━━━━━━━\u001b[0m \u001b[32m0.0/63.1 kB\u001b[0m \u001b[31m?\u001b[0m eta \u001b[36m-:--:--\u001b[0m\r\u001b[2K     \u001b[90m━━━━━━━━━━━━━━━━━━━━━━━━━━━━━━━━━━━━━━━━\u001b[0m \u001b[32m63.1/63.1 kB\u001b[0m \u001b[31m2.7 MB/s\u001b[0m eta \u001b[36m0:00:00\u001b[0m\n",
            "\u001b[?25hRequirement already satisfied: aiohttp in /usr/local/lib/python3.11/dist-packages (from torch_geometric) (3.11.12)\n",
            "Requirement already satisfied: fsspec in /usr/local/lib/python3.11/dist-packages (from torch_geometric) (2024.10.0)\n",
            "Requirement already satisfied: jinja2 in /usr/local/lib/python3.11/dist-packages (from torch_geometric) (3.1.5)\n",
            "Requirement already satisfied: numpy in /usr/local/lib/python3.11/dist-packages (from torch_geometric) (1.26.4)\n",
            "Requirement already satisfied: psutil>=5.8.0 in /usr/local/lib/python3.11/dist-packages (from torch_geometric) (5.9.5)\n",
            "Requirement already satisfied: pyparsing in /usr/local/lib/python3.11/dist-packages (from torch_geometric) (3.2.1)\n",
            "Requirement already satisfied: requests in /usr/local/lib/python3.11/dist-packages (from torch_geometric) (2.32.3)\n",
            "Requirement already satisfied: tqdm in /usr/local/lib/python3.11/dist-packages (from torch_geometric) (4.67.1)\n",
            "Requirement already satisfied: aiohappyeyeballs>=2.3.0 in /usr/local/lib/python3.11/dist-packages (from aiohttp->torch_geometric) (2.4.6)\n",
            "Requirement already satisfied: aiosignal>=1.1.2 in /usr/local/lib/python3.11/dist-packages (from aiohttp->torch_geometric) (1.3.2)\n",
            "Requirement already satisfied: attrs>=17.3.0 in /usr/local/lib/python3.11/dist-packages (from aiohttp->torch_geometric) (25.1.0)\n",
            "Requirement already satisfied: frozenlist>=1.1.1 in /usr/local/lib/python3.11/dist-packages (from aiohttp->torch_geometric) (1.5.0)\n",
            "Requirement already satisfied: multidict<7.0,>=4.5 in /usr/local/lib/python3.11/dist-packages (from aiohttp->torch_geometric) (6.1.0)\n",
            "Requirement already satisfied: propcache>=0.2.0 in /usr/local/lib/python3.11/dist-packages (from aiohttp->torch_geometric) (0.2.1)\n",
            "Requirement already satisfied: yarl<2.0,>=1.17.0 in /usr/local/lib/python3.11/dist-packages (from aiohttp->torch_geometric) (1.18.3)\n",
            "Requirement already satisfied: MarkupSafe>=2.0 in /usr/local/lib/python3.11/dist-packages (from jinja2->torch_geometric) (3.0.2)\n",
            "Requirement already satisfied: charset-normalizer<4,>=2 in /usr/local/lib/python3.11/dist-packages (from requests->torch_geometric) (3.4.1)\n",
            "Requirement already satisfied: idna<4,>=2.5 in /usr/local/lib/python3.11/dist-packages (from requests->torch_geometric) (3.10)\n",
            "Requirement already satisfied: urllib3<3,>=1.21.1 in /usr/local/lib/python3.11/dist-packages (from requests->torch_geometric) (2.3.0)\n",
            "Requirement already satisfied: certifi>=2017.4.17 in /usr/local/lib/python3.11/dist-packages (from requests->torch_geometric) (2025.1.31)\n",
            "Downloading torch_geometric-2.6.1-py3-none-any.whl (1.1 MB)\n",
            "\u001b[2K   \u001b[90m━━━━━━━━━━━━━━━━━━━━━━━━━━━━━━━━━━━━━━━━\u001b[0m \u001b[32m1.1/1.1 MB\u001b[0m \u001b[31m25.6 MB/s\u001b[0m eta \u001b[36m0:00:00\u001b[0m\n",
            "\u001b[?25hInstalling collected packages: torch_geometric\n",
            "Successfully installed torch_geometric-2.6.1\n"
          ]
        }
      ]
    },
    {
      "cell_type": "code",
      "execution_count": 54,
      "metadata": {
        "id": "cIdlwo9P1vgB"
      },
      "outputs": [],
      "source": [
        "import torch\n",
        "import os\n",
        "import pandas as pd\n",
        "import torch.nn as nn\n",
        "from torch_geometric.data import Data\n",
        "import torch.nn.functional as F\n",
        "from torch_geometric.nn import GCNConv\n",
        "from torch_geometric.loader import DataLoader\n",
        "from torch.utils.data import random_split, Dataset\n",
        "\n",
        "from tqdm import tqdm\n",
        "from process_data import build_train_test_loaders, build_train_test_loaders_2\n",
        "from training import CustomMAELoss, CustomMAPELoss, test_model, get_flow_forecasting_metrics\n",
        "from link_loads import get_graph_attributes, df_to_graph, build_quarter_hour_data, add_missing_nodes, add_missing_nodes_2\n",
        "from models import STGCN\n",
        "# import networkx as nx"
      ]
    },
    {
      "cell_type": "code",
      "execution_count": 18,
      "metadata": {
        "id": "0Ao6uskL1vgC"
      },
      "outputs": [],
      "source": [
        "folder_path = \"/content/\"\n",
        "# Get graph attributes, create dfs from csv, process Link column and ordered dfs by time\n",
        "num_nodes, edge_index, node_mapping, dfs = get_graph_attributes(folder_path)"
      ]
    },
    {
      "cell_type": "code",
      "execution_count": 55,
      "metadata": {
        "id": "mvIxZFaC1vgD"
      },
      "outputs": [],
      "source": [
        "MAE = CustomMAELoss()\n",
        "MAPE = CustomMAPELoss()"
      ]
    },
    {
      "cell_type": "code",
      "execution_count": 20,
      "metadata": {
        "id": "HtkTXd0p1vgD"
      },
      "outputs": [],
      "source": [
        "window_size = 4"
      ]
    },
    {
      "cell_type": "code",
      "source": [
        "dfs"
      ],
      "metadata": {
        "colab": {
          "base_uri": "https://localhost:8080/"
        },
        "collapsed": true,
        "id": "Hz2qCdHo2V1k",
        "outputId": "d4e952f7-cfbd-4a6a-bb1a-269e16f14b69"
      },
      "execution_count": 21,
      "outputs": [
        {
          "output_type": "execute_result",
          "data": {
            "text/plain": [
              "{'Link_Loads_NBT16MTT.csv':                              Link             Line Dir  Order  From NLC  \\\n",
              " 0     ELEu_BAK_NB>LAMu_BAK_NB@BAK         Bakerloo  NB      1       570   \n",
              " 1     LAMu_BAK_NB>WLOu_BAK_NB@BAK         Bakerloo  NB      2       628   \n",
              " 2     WLOu_BAK_NB>EMBu_BAK_NB@BAK         Bakerloo  NB      3       747   \n",
              " 3     EMBu_BAK_NB>CHXu_BAK_NB@BAK         Bakerloo  NB      4       542   \n",
              " 4     CHXu_BAK_NB>PICu_BAK_NB@BAK         Bakerloo  NB      5       718   \n",
              " ...                           ...              ...  ..    ...       ...   \n",
              " 1158  PIMu_VIC_SB>VUXu_VIC_SB@VIC         Victoria  SB     13       776   \n",
              " 1159  VUXu_VIC_SB>STKu_VIC_SB@VIC         Victoria  SB     14       777   \n",
              " 1160  STKu_VIC_SB>BRXu_VIC_SB@VIC         Victoria  SB     15       716   \n",
              " 1161  WLOu_WAC_EB>BNKu_WAC_EB@WAC  Waterloo & City  EB      1       747   \n",
              " 1162  BNKu_WAC_WB>WLOu_WAC_WB@WAC  Waterloo & City  WB      1       513   \n",
              " \n",
              "      From ASC          From Station  To NLC To ASC         To Station  ...  \\\n",
              " 0        ELEu  Elephant & Castle LU     628   LAMu      Lambeth North  ...   \n",
              " 1        LAMu         Lambeth North     747   WLOu        Waterloo LU  ...   \n",
              " 2        WLOu           Waterloo LU     542   EMBu         Embankment  ...   \n",
              " 3        EMBu            Embankment     718   CHXu   Charing Cross LU  ...   \n",
              " 4        CHXu      Charing Cross LU     674   PICu  Piccadilly Circus  ...   \n",
              " ...       ...                   ...     ...    ...                ...  ...   \n",
              " 1158     PIMu               Pimlico     777   VUXu        Vauxhall LU  ...   \n",
              " 1159     VUXu           Vauxhall LU     716   STKu          Stockwell  ...   \n",
              " 1160     STKu             Stockwell     778   BRXu         Brixton LU  ...   \n",
              " 1161     WLOu           Waterloo LU     513   BNKu  Bank and Monument  ...   \n",
              " 1162     BNKu     Bank and Monument     747   WLOu        Waterloo LU  ...   \n",
              " \n",
              "       0230-0245  0245-0300  0300-0315  0315-0330  0330-0345  0345-0400  \\\n",
              " 0      0.000000   0.000000   0.000000   0.000000   0.000000   0.000000   \n",
              " 1      0.000000   0.000000   0.000000   0.000000   0.000000   0.000000   \n",
              " 2      0.000000   0.000000   0.000000   0.000000   0.000000   0.000000   \n",
              " 3      0.000000   0.000000   0.000000   0.000000   0.000000   0.000000   \n",
              " 4      0.000000   0.000000   0.000000   0.000000   0.000000   0.000000   \n",
              " ...         ...        ...        ...        ...        ...        ...   \n",
              " 1158   0.047566   0.044766   0.040675   0.029598   0.023648   0.005750   \n",
              " 1159   0.046894   0.043937   0.040431   0.029354   0.023403   0.005525   \n",
              " 1160   0.001004   0.001129   0.000855   0.000703   0.000443   0.000387   \n",
              " 1161   0.000000   0.000000   0.000000   0.000000   0.000000   0.000000   \n",
              " 1162   0.000000   0.000000   0.000000   0.000000   0.000000   0.000000   \n",
              " \n",
              "       0400-0415  0415-0430  0430-0445  0445-0500  \n",
              " 0           0.0        0.0        0.0        0.0  \n",
              " 1           0.0        0.0        0.0        0.0  \n",
              " 2           0.0        0.0        0.0        0.0  \n",
              " 3           0.0        0.0        0.0        0.0  \n",
              " 4           0.0        0.0        0.0        0.0  \n",
              " ...         ...        ...        ...        ...  \n",
              " 1158        0.0        0.0        0.0        0.0  \n",
              " 1159        0.0        0.0        0.0        0.0  \n",
              " 1160        0.0        0.0        0.0        0.0  \n",
              " 1161        0.0        0.0        0.0        0.0  \n",
              " 1162        0.0        0.0        0.0        0.0  \n",
              " \n",
              " [1163 rows x 113 columns],\n",
              " 'Link_Loads_NBT16SAT.csv':                              Link             Line Dir  Order  From NLC  \\\n",
              " 0     ELEu_BAK_NB>LAMu_BAK_NB@BAK         Bakerloo  NB      1       570   \n",
              " 1     LAMu_BAK_NB>WLOu_BAK_NB@BAK         Bakerloo  NB      2       628   \n",
              " 2     WLOu_BAK_NB>EMBu_BAK_NB@BAK         Bakerloo  NB      3       747   \n",
              " 3     EMBu_BAK_NB>CHXu_BAK_NB@BAK         Bakerloo  NB      4       542   \n",
              " 4     CHXu_BAK_NB>PICu_BAK_NB@BAK         Bakerloo  NB      5       718   \n",
              " ...                           ...              ...  ..    ...       ...   \n",
              " 1158  PIMu_VIC_SB>VUXu_VIC_SB@VIC         Victoria  SB     13       776   \n",
              " 1159  VUXu_VIC_SB>STKu_VIC_SB@VIC         Victoria  SB     14       777   \n",
              " 1160  STKu_VIC_SB>BRXu_VIC_SB@VIC         Victoria  SB     15       716   \n",
              " 1161  WLOu_WAC_EB>BNKu_WAC_EB@WAC  Waterloo & City  EB      1       747   \n",
              " 1162  BNKu_WAC_WB>WLOu_WAC_WB@WAC  Waterloo & City  WB      1       513   \n",
              " \n",
              "      From ASC          From Station  To NLC To ASC         To Station  ...  \\\n",
              " 0        ELEu  Elephant & Castle LU     628   LAMu      Lambeth North  ...   \n",
              " 1        LAMu         Lambeth North     747   WLOu        Waterloo LU  ...   \n",
              " 2        WLOu           Waterloo LU     542   EMBu         Embankment  ...   \n",
              " 3        EMBu            Embankment     718   CHXu   Charing Cross LU  ...   \n",
              " 4        CHXu      Charing Cross LU     674   PICu  Piccadilly Circus  ...   \n",
              " ...       ...                   ...     ...    ...                ...  ...   \n",
              " 1158     PIMu               Pimlico     777   VUXu        Vauxhall LU  ...   \n",
              " 1159     VUXu           Vauxhall LU     716   STKu          Stockwell  ...   \n",
              " 1160     STKu             Stockwell     778   BRXu         Brixton LU  ...   \n",
              " 1161     WLOu           Waterloo LU     513   BNKu  Bank and Monument  ...   \n",
              " 1162     BNKu     Bank and Monument     747   WLOu        Waterloo LU  ...   \n",
              " \n",
              "       0230-0245  0245-0300  0300-0315  0315-0330  0330-0345  0345-0400  \\\n",
              " 0      0.000000   0.000000   0.000000   0.000000   0.000000   0.000000   \n",
              " 1      0.000000   0.000000   0.000000   0.000000   0.000000   0.000000   \n",
              " 2      0.000000   0.000000   0.000000   0.000000   0.000000   0.000000   \n",
              " 3      0.000000   0.000000   0.000000   0.000000   0.000000   0.000000   \n",
              " 4      0.000000   0.000000   0.000000   0.000000   0.000000   0.000000   \n",
              " ...         ...        ...        ...        ...        ...        ...   \n",
              " 1158  34.069203  11.237203   0.604405   0.111521   0.038372   0.033144   \n",
              " 1159  27.886974   8.921432   0.483490   0.077328   0.026981   0.024210   \n",
              " 1160  22.017815   7.948489   0.443196   0.076790   0.026355   0.023760   \n",
              " 1161   0.000000   0.000000   0.000000   0.000000   0.000000   0.000000   \n",
              " 1162   0.000000   0.000000   0.000000   0.000000   0.000000   0.000000   \n",
              " \n",
              "       0400-0415  0415-0430  0430-0445  0445-0500  \n",
              " 0      0.000000   0.000000   0.000000   0.000000  \n",
              " 1      0.000000   0.000000   0.000000   0.000000  \n",
              " 2      0.000000   0.000000   0.000000   0.000000  \n",
              " 3      0.000000   0.000000   0.000000   0.000000  \n",
              " 4      0.000000   0.000000   0.000000   0.000000  \n",
              " ...         ...        ...        ...        ...  \n",
              " 1158   0.019825   0.279902   0.273487   0.270976  \n",
              " 1159   0.014601   0.023038   0.018512   0.016931  \n",
              " 1160   0.014194   0.022848   0.018322   0.016829  \n",
              " 1161   0.000000   0.000000   0.000000   0.000000  \n",
              " 1162   0.000000   0.000000   0.000000   0.000000  \n",
              " \n",
              " [1163 rows x 113 columns],\n",
              " 'Link_Loads_NBT16SUN.csv':                              Link             Line Dir  Order  From NLC  \\\n",
              " 0     ELEu_BAK_NB>LAMu_BAK_NB@BAK         Bakerloo  NB      1       570   \n",
              " 1     LAMu_BAK_NB>WLOu_BAK_NB@BAK         Bakerloo  NB      2       628   \n",
              " 2     WLOu_BAK_NB>EMBu_BAK_NB@BAK         Bakerloo  NB      3       747   \n",
              " 3     EMBu_BAK_NB>CHXu_BAK_NB@BAK         Bakerloo  NB      4       542   \n",
              " 4     CHXu_BAK_NB>PICu_BAK_NB@BAK         Bakerloo  NB      5       718   \n",
              " ...                           ...              ...  ..    ...       ...   \n",
              " 1158  PIMu_VIC_SB>VUXu_VIC_SB@VIC         Victoria  SB     13       776   \n",
              " 1159  VUXu_VIC_SB>STKu_VIC_SB@VIC         Victoria  SB     14       777   \n",
              " 1160  STKu_VIC_SB>BRXu_VIC_SB@VIC         Victoria  SB     15       716   \n",
              " 1161  WLOu_WAC_EB>BNKu_WAC_EB@WAC  Waterloo & City  EB      1       747   \n",
              " 1162  BNKu_WAC_WB>WLOu_WAC_WB@WAC  Waterloo & City  WB      1       513   \n",
              " \n",
              "      From ASC          From Station  To NLC To ASC         To Station  ...  \\\n",
              " 0        ELEu  Elephant & Castle LU     628   LAMu      Lambeth North  ...   \n",
              " 1        LAMu         Lambeth North     747   WLOu        Waterloo LU  ...   \n",
              " 2        WLOu           Waterloo LU     542   EMBu         Embankment  ...   \n",
              " 3        EMBu            Embankment     718   CHXu   Charing Cross LU  ...   \n",
              " 4        CHXu      Charing Cross LU     674   PICu  Piccadilly Circus  ...   \n",
              " ...       ...                   ...     ...    ...                ...  ...   \n",
              " 1158     PIMu               Pimlico     777   VUXu        Vauxhall LU  ...   \n",
              " 1159     VUXu           Vauxhall LU     716   STKu          Stockwell  ...   \n",
              " 1160     STKu             Stockwell     778   BRXu         Brixton LU  ...   \n",
              " 1161     WLOu           Waterloo LU     513   BNKu  Bank and Monument  ...   \n",
              " 1162     BNKu     Bank and Monument     747   WLOu        Waterloo LU  ...   \n",
              " \n",
              "       0230-0245  0245-0300  0300-0315  0315-0330  0330-0345  0345-0400  \\\n",
              " 0           0.0   0.000000   0.000000   0.000000   0.000000   0.000000   \n",
              " 1           0.0   0.000000   0.000000   0.000000   0.000000   0.000000   \n",
              " 2           0.0   0.000000   0.000000   0.000000   0.000000   0.000000   \n",
              " 3           0.0   0.000000   0.000000   0.000000   0.000000   0.000000   \n",
              " 4           0.0   0.000000   0.000000   0.000000   0.000000   0.000000   \n",
              " ...         ...        ...        ...        ...        ...        ...   \n",
              " 1158        0.0   0.034613   0.057914   0.097507   0.117235   0.142421   \n",
              " 1159        0.0   0.034285   0.056906   0.092821   0.111041   0.133765   \n",
              " 1160        0.0   0.032813   0.054207   0.088802   0.101591   0.122442   \n",
              " 1161        0.0   0.000000   0.000000   0.000000   0.000000   0.000000   \n",
              " 1162        0.0   0.000000   0.000000   0.000000   0.000000   0.000000   \n",
              " \n",
              "       0400-0415  0415-0430  0430-0445  0445-0500  \n",
              " 0      0.000000   0.000000   0.000000   0.000000  \n",
              " 1      0.000000   0.000000   0.000000   0.000000  \n",
              " 2      0.000000   0.000000   0.000000   0.000000  \n",
              " 3      0.000000   0.000000   0.000000   0.000000  \n",
              " 4      0.000000   0.000000   0.000000   0.000000  \n",
              " ...         ...        ...        ...        ...  \n",
              " 1158   0.121163   0.115786   0.076192   0.056465  \n",
              " 1159   0.111751   0.105558   0.069643   0.051422  \n",
              " 1160   0.097958   0.091937   0.057342   0.044553  \n",
              " 1161   0.000000   0.000000   0.000000   0.000000  \n",
              " 1162   0.000000   0.000000   0.000000   0.000000  \n",
              " \n",
              " [1163 rows x 113 columns],\n",
              " 'Link_Loads_NBT17MTT.csv':                              Link             Line Dir  Order  From NLC  \\\n",
              " 0     ELEu_BAK_NB>LAMu_BAK_NB@BAK         Bakerloo  NB      1       570   \n",
              " 1     LAMu_BAK_NB>WLOu_BAK_NB@BAK         Bakerloo  NB      2       628   \n",
              " 2     WLOu_BAK_NB>EMBu_BAK_NB@BAK         Bakerloo  NB      3       747   \n",
              " 3     EMBu_BAK_NB>CHXu_BAK_NB@BAK         Bakerloo  NB      4       542   \n",
              " 4     CHXu_BAK_NB>PICu_BAK_NB@BAK         Bakerloo  NB      5       718   \n",
              " ...                           ...              ...  ..    ...       ...   \n",
              " 1158  PIMu_VIC_SB>VUXu_VIC_SB@VIC         Victoria  SB     13       776   \n",
              " 1159  VUXu_VIC_SB>STKu_VIC_SB@VIC         Victoria  SB     14       777   \n",
              " 1160  STKu_VIC_SB>BRXu_VIC_SB@VIC         Victoria  SB     15       716   \n",
              " 1161  WLOu_WAC_EB>BNKu_WAC_EB@WAC  Waterloo & City  EB      1       747   \n",
              " 1162  BNKu_WAC_WB>WLOu_WAC_WB@WAC  Waterloo & City  WB      1       513   \n",
              " \n",
              "      From ASC          From Station  To NLC To ASC         To Station  ...  \\\n",
              " 0        ELEu  Elephant & Castle LU     628   LAMu      Lambeth North  ...   \n",
              " 1        LAMu         Lambeth North     747   WLOu        Waterloo LU  ...   \n",
              " 2        WLOu           Waterloo LU     542   EMBu         Embankment  ...   \n",
              " 3        EMBu            Embankment     718   CHXu   Charing Cross LU  ...   \n",
              " 4        CHXu      Charing Cross LU     674   PICu  Piccadilly Circus  ...   \n",
              " ...       ...                   ...     ...    ...                ...  ...   \n",
              " 1158     PIMu               Pimlico     777   VUXu        Vauxhall LU  ...   \n",
              " 1159     VUXu           Vauxhall LU     716   STKu          Stockwell  ...   \n",
              " 1160     STKu             Stockwell     778   BRXu         Brixton LU  ...   \n",
              " 1161     WLOu           Waterloo LU     513   BNKu  Bank and Monument  ...   \n",
              " 1162     BNKu     Bank and Monument     747   WLOu        Waterloo LU  ...   \n",
              " \n",
              "       0230-0245  0245-0300  0300-0315  0315-0330  0330-0345  0345-0400  \\\n",
              " 0      0.000000   0.000000   0.000000   0.000000   0.000000   0.000000   \n",
              " 1      0.000000   0.000000   0.000000   0.000000   0.000000   0.000000   \n",
              " 2      0.000000   0.000000   0.000000   0.000000   0.000000   0.000000   \n",
              " 3      0.000000   0.000000   0.000000   0.000000   0.000000   0.000000   \n",
              " 4      0.000000   0.000000   0.000000   0.000000   0.000000   0.000000   \n",
              " ...         ...        ...        ...        ...        ...        ...   \n",
              " 1158   0.270034   0.241748   0.179924   0.119122   0.111241   0.006855   \n",
              " 1159   0.278021   0.252671   0.191473   0.131325   0.122003   0.010079   \n",
              " 1160   0.058314   0.058724   0.001564   0.001333   0.000804   0.000514   \n",
              " 1161   0.000000   0.000000   0.000000   0.000000   0.000000   0.000000   \n",
              " 1162   0.000000   0.000000   0.000000   0.000000   0.000000   0.000000   \n",
              " \n",
              "       0400-0415  0415-0430  0430-0445  0445-0500  \n",
              " 0           0.0        0.0        0.0        0.0  \n",
              " 1           0.0        0.0        0.0        0.0  \n",
              " 2           0.0        0.0        0.0        0.0  \n",
              " 3           0.0        0.0        0.0        0.0  \n",
              " 4           0.0        0.0        0.0        0.0  \n",
              " ...         ...        ...        ...        ...  \n",
              " 1158        0.0        0.0        0.0        0.0  \n",
              " 1159        0.0        0.0        0.0        0.0  \n",
              " 1160        0.0        0.0        0.0        0.0  \n",
              " 1161        0.0        0.0        0.0        0.0  \n",
              " 1162        0.0        0.0        0.0        0.0  \n",
              " \n",
              " [1163 rows x 113 columns],\n",
              " 'Link_Loads_NBT17SAT.csv':                              Link             Line Dir  Order  From NLC  \\\n",
              " 0     ELEu_BAK_NB>LAMu_BAK_NB@BAK         Bakerloo  NB      1       570   \n",
              " 1     LAMu_BAK_NB>WLOu_BAK_NB@BAK         Bakerloo  NB      2       628   \n",
              " 2     WLOu_BAK_NB>EMBu_BAK_NB@BAK         Bakerloo  NB      3       747   \n",
              " 3     EMBu_BAK_NB>CHXu_BAK_NB@BAK         Bakerloo  NB      4       542   \n",
              " 4     CHXu_BAK_NB>PICu_BAK_NB@BAK         Bakerloo  NB      5       718   \n",
              " ...                           ...              ...  ..    ...       ...   \n",
              " 1158  PIMu_VIC_SB>VUXu_VIC_SB@VIC         Victoria  SB     13       776   \n",
              " 1159  VUXu_VIC_SB>STKu_VIC_SB@VIC         Victoria  SB     14       777   \n",
              " 1160  STKu_VIC_SB>BRXu_VIC_SB@VIC         Victoria  SB     15       716   \n",
              " 1161  WLOu_WAC_EB>BNKu_WAC_EB@WAC  Waterloo & City  EB      1       747   \n",
              " 1162  BNKu_WAC_WB>WLOu_WAC_WB@WAC  Waterloo & City  WB      1       513   \n",
              " \n",
              "      From ASC          From Station  To NLC To ASC         To Station  ...  \\\n",
              " 0        ELEu  Elephant & Castle LU     628   LAMu      Lambeth North  ...   \n",
              " 1        LAMu         Lambeth North     747   WLOu        Waterloo LU  ...   \n",
              " 2        WLOu           Waterloo LU     542   EMBu         Embankment  ...   \n",
              " 3        EMBu            Embankment     718   CHXu   Charing Cross LU  ...   \n",
              " 4        CHXu      Charing Cross LU     674   PICu  Piccadilly Circus  ...   \n",
              " ...       ...                   ...     ...    ...                ...  ...   \n",
              " 1158     PIMu               Pimlico     777   VUXu        Vauxhall LU  ...   \n",
              " 1159     VUXu           Vauxhall LU     716   STKu          Stockwell  ...   \n",
              " 1160     STKu             Stockwell     778   BRXu         Brixton LU  ...   \n",
              " 1161     WLOu           Waterloo LU     513   BNKu  Bank and Monument  ...   \n",
              " 1162     BNKu     Bank and Monument     747   WLOu        Waterloo LU  ...   \n",
              " \n",
              "       0230-0245  0245-0300  0300-0315  0315-0330  0330-0345  0345-0400  \\\n",
              " 0      0.000000   0.000000   0.000000   0.000000   0.000000   0.000000   \n",
              " 1      0.000000   0.000000   0.000000   0.000000   0.000000   0.000000   \n",
              " 2      0.000000   0.000000   0.000000   0.000000   0.000000   0.000000   \n",
              " 3      0.000000   0.000000   0.000000   0.000000   0.000000   0.000000   \n",
              " 4      0.000000   0.000000   0.000000   0.000000   0.000000   0.000000   \n",
              " ...         ...        ...        ...        ...        ...        ...   \n",
              " 1158  36.391090  11.885092   0.726389   0.136310   0.015809   0.019792   \n",
              " 1159  30.565155   9.555484   0.586868   0.091419   0.013488   0.016440   \n",
              " 1160  23.425081   9.197086   0.550825   0.086149   0.007641   0.010497   \n",
              " 1161   0.000000   0.000000   0.000000   0.000000   0.000000   0.000000   \n",
              " 1162   0.000000   0.000000   0.000000   0.000000   0.000000   0.000000   \n",
              " \n",
              "       0400-0415  0415-0430  0430-0445  0445-0500  \n",
              " 0      0.000000   0.000000   0.000000   0.000000  \n",
              " 1      0.000000   0.000000   0.000000   0.000000  \n",
              " 2      0.000000   0.000000   0.000000   0.000000  \n",
              " 3      0.000000   0.000000   0.000000   0.000000  \n",
              " 4      0.000000   0.000000   0.000000   0.000000  \n",
              " ...         ...        ...        ...        ...  \n",
              " 1158   0.020867   0.492256   0.488811   0.477013  \n",
              " 1159   0.017360   0.047031   0.044135   0.034007  \n",
              " 1160   0.011371   0.041047   0.038221   0.033732  \n",
              " 1161   0.000000   0.000000   0.000000   0.000000  \n",
              " 1162   0.000000   0.000000   0.000000   0.000000  \n",
              " \n",
              " [1163 rows x 113 columns],\n",
              " 'Link_Loads_NBT17SUN.csv':                              Link             Line Dir  Order  From NLC  \\\n",
              " 0     ELEu_BAK_NB>LAMu_BAK_NB@BAK         Bakerloo  NB      1       570   \n",
              " 1     LAMu_BAK_NB>WLOu_BAK_NB@BAK         Bakerloo  NB      2       628   \n",
              " 2     WLOu_BAK_NB>EMBu_BAK_NB@BAK         Bakerloo  NB      3       747   \n",
              " 3     EMBu_BAK_NB>CHXu_BAK_NB@BAK         Bakerloo  NB      4       542   \n",
              " 4     CHXu_BAK_NB>PICu_BAK_NB@BAK         Bakerloo  NB      5       718   \n",
              " ...                           ...              ...  ..    ...       ...   \n",
              " 1158  PIMu_VIC_SB>VUXu_VIC_SB@VIC         Victoria  SB     13       776   \n",
              " 1159  VUXu_VIC_SB>STKu_VIC_SB@VIC         Victoria  SB     14       777   \n",
              " 1160  STKu_VIC_SB>BRXu_VIC_SB@VIC         Victoria  SB     15       716   \n",
              " 1161  WLOu_WAC_EB>BNKu_WAC_EB@WAC  Waterloo & City  EB      1       747   \n",
              " 1162  BNKu_WAC_WB>WLOu_WAC_WB@WAC  Waterloo & City  WB      1       513   \n",
              " \n",
              "      From ASC          From Station  To NLC To ASC         To Station  ...  \\\n",
              " 0        ELEu  Elephant & Castle LU     628   LAMu      Lambeth North  ...   \n",
              " 1        LAMu         Lambeth North     747   WLOu        Waterloo LU  ...   \n",
              " 2        WLOu           Waterloo LU     542   EMBu         Embankment  ...   \n",
              " 3        EMBu            Embankment     718   CHXu   Charing Cross LU  ...   \n",
              " 4        CHXu      Charing Cross LU     674   PICu  Piccadilly Circus  ...   \n",
              " ...       ...                   ...     ...    ...                ...  ...   \n",
              " 1158     PIMu               Pimlico     777   VUXu        Vauxhall LU  ...   \n",
              " 1159     VUXu           Vauxhall LU     716   STKu          Stockwell  ...   \n",
              " 1160     STKu             Stockwell     778   BRXu         Brixton LU  ...   \n",
              " 1161     WLOu           Waterloo LU     513   BNKu  Bank and Monument  ...   \n",
              " 1162     BNKu     Bank and Monument     747   WLOu        Waterloo LU  ...   \n",
              " \n",
              "       0230-0245  0245-0300  0300-0315  0315-0330  0330-0345  0345-0400  \\\n",
              " 0           0.0   0.000000   0.000000   0.000000   0.000000   0.000000   \n",
              " 1           0.0   0.000000   0.000000   0.000000   0.000000   0.000000   \n",
              " 2           0.0   0.000000   0.000000   0.000000   0.000000   0.000000   \n",
              " 3           0.0   0.000000   0.000000   0.000000   0.000000   0.000000   \n",
              " 4           0.0   0.000000   0.000000   0.000000   0.000000   0.000000   \n",
              " ...         ...        ...        ...        ...        ...        ...   \n",
              " 1158        0.0   0.015957   0.028115   0.052581   0.067832   0.085944   \n",
              " 1159        0.0   0.015242   0.026554   0.047123   0.059825   0.075420   \n",
              " 1160        0.0   0.014389   0.024654   0.044453   0.052411   0.066392   \n",
              " 1161        0.0   0.000000   0.000000   0.000000   0.000000   0.000000   \n",
              " 1162        0.0   0.000000   0.000000   0.000000   0.000000   0.000000   \n",
              " \n",
              "       0400-0415  0415-0430  0430-0445  0445-0500  \n",
              " 0      0.000000   0.000000   0.000000   0.000000  \n",
              " 1      0.000000   0.000000   0.000000   0.000000  \n",
              " 2      0.000000   0.000000   0.000000   0.000000  \n",
              " 3      0.000000   0.000000   0.000000   0.000000  \n",
              " 4      0.000000   0.000000   0.000000   0.000000  \n",
              " ...         ...        ...        ...        ...  \n",
              " 1158   0.079724   0.077722   0.053256   0.038005  \n",
              " 1159   0.068655   0.065913   0.045345   0.032642  \n",
              " 1160   0.057007   0.054641   0.034842   0.026884  \n",
              " 1161   0.000000   0.000000   0.000000   0.000000  \n",
              " 1162   0.000000   0.000000   0.000000   0.000000  \n",
              " \n",
              " [1163 rows x 113 columns],\n",
              " 'Link_Loads_NBT18MTT.csv':                              Link             Line Dir  Order  From NLC  \\\n",
              " 0     ELEu_BAK_NB>LAMu_BAK_NB@BAK         Bakerloo  NB      1       570   \n",
              " 1     LAMu_BAK_NB>WLOu_BAK_NB@BAK         Bakerloo  NB      2       628   \n",
              " 2     WLOu_BAK_NB>EMBu_BAK_NB@BAK         Bakerloo  NB      3       747   \n",
              " 3     EMBu_BAK_NB>CHXu_BAK_NB@BAK         Bakerloo  NB      4       542   \n",
              " 4     CHXu_BAK_NB>PICu_BAK_NB@BAK         Bakerloo  NB      5       718   \n",
              " ...                           ...              ...  ..    ...       ...   \n",
              " 1158  PIMu_VIC_SB>VUXu_VIC_SB@VIC         Victoria  SB     13       776   \n",
              " 1159  VUXu_VIC_SB>STKu_VIC_SB@VIC         Victoria  SB     14       777   \n",
              " 1160  STKu_VIC_SB>BRXu_VIC_SB@VIC         Victoria  SB     15       716   \n",
              " 1161  WLOu_WAC_EB>BNKu_WAC_EB@WAC  Waterloo & City  EB      1       747   \n",
              " 1162  BNKu_WAC_WB>WLOu_WAC_WB@WAC  Waterloo & City  WB      1       513   \n",
              " \n",
              "      From ASC          From Station  To NLC To ASC         To Station  ...  \\\n",
              " 0        ELEu  Elephant & Castle LU     628   LAMu      Lambeth North  ...   \n",
              " 1        LAMu         Lambeth North     747   WLOu        Waterloo LU  ...   \n",
              " 2        WLOu           Waterloo LU     542   EMBu         Embankment  ...   \n",
              " 3        EMBu            Embankment     718   CHXu   Charing Cross LU  ...   \n",
              " 4        CHXu      Charing Cross LU     674   PICu  Piccadilly Circus  ...   \n",
              " ...       ...                   ...     ...    ...                ...  ...   \n",
              " 1158     PIMu               Pimlico     777   VUXu        Vauxhall LU  ...   \n",
              " 1159     VUXu           Vauxhall LU     716   STKu          Stockwell  ...   \n",
              " 1160     STKu             Stockwell     778   BRXu         Brixton LU  ...   \n",
              " 1161     WLOu           Waterloo LU     513   BNKu  Bank and Monument  ...   \n",
              " 1162     BNKu     Bank and Monument     747   WLOu        Waterloo LU  ...   \n",
              " \n",
              "       0230-0245  0245-0300  0300-0315  0315-0330  0330-0345  0345-0400  \\\n",
              " 0        0.0000     0.0000     0.0000     0.0000     0.0000     0.0000   \n",
              " 1        0.0000     0.0000     0.0000     0.0000     0.0000     0.0000   \n",
              " 2        0.0000     0.0000     0.0000     0.0000     0.0000     0.0000   \n",
              " 3        0.0000     0.0000     0.0000     0.0000     0.0000     0.0000   \n",
              " 4        0.0000     0.0000     0.0000     0.0000     0.0000     0.0000   \n",
              " ...         ...        ...        ...        ...        ...        ...   \n",
              " 1158     0.3294     0.2754     0.2302     0.1736     0.1266     0.0372   \n",
              " 1159     0.2612     0.1936     0.1764     0.1278     0.0992     0.0202   \n",
              " 1160     0.0598     0.0176     0.0148     0.0128     0.0078     0.0046   \n",
              " 1161     0.0000     0.0000     0.0000     0.0000     0.0000     0.0000   \n",
              " 1162     0.0000     0.0000     0.0000     0.0000     0.0000     0.0000   \n",
              " \n",
              "       0400-0415  0415-0430  0430-0445  0445-0500  \n",
              " 0           0.0        0.0        0.0        0.0  \n",
              " 1           0.0        0.0        0.0        0.0  \n",
              " 2           0.0        0.0        0.0        0.0  \n",
              " 3           0.0        0.0        0.0        0.0  \n",
              " 4           0.0        0.0        0.0        0.0  \n",
              " ...         ...        ...        ...        ...  \n",
              " 1158        0.0        0.0        0.0        0.0  \n",
              " 1159        0.0        0.0        0.0        0.0  \n",
              " 1160        0.0        0.0        0.0        0.0  \n",
              " 1161        0.0        0.0        0.0        0.0  \n",
              " 1162        0.0        0.0        0.0        0.0  \n",
              " \n",
              " [1163 rows x 113 columns],\n",
              " 'Link_Loads_NBT18FRI.csv':                              Link             Line Dir  Order  From NLC  \\\n",
              " 0     ELEu_BAK_NB>LAMu_BAK_NB@BAK         Bakerloo  NB      1       570   \n",
              " 1     LAMu_BAK_NB>WLOu_BAK_NB@BAK         Bakerloo  NB      2       628   \n",
              " 2     WLOu_BAK_NB>EMBu_BAK_NB@BAK         Bakerloo  NB      3       747   \n",
              " 3     EMBu_BAK_NB>CHXu_BAK_NB@BAK         Bakerloo  NB      4       542   \n",
              " 4     CHXu_BAK_NB>PICu_BAK_NB@BAK         Bakerloo  NB      5       718   \n",
              " ...                           ...              ...  ..    ...       ...   \n",
              " 1158  PIMu_VIC_SB>VUXu_VIC_SB@VIC         Victoria  SB     13       776   \n",
              " 1159  VUXu_VIC_SB>STKu_VIC_SB@VIC         Victoria  SB     14       777   \n",
              " 1160  STKu_VIC_SB>BRXu_VIC_SB@VIC         Victoria  SB     15       716   \n",
              " 1161  WLOu_WAC_EB>BNKu_WAC_EB@WAC  Waterloo & City  EB      1       747   \n",
              " 1162  BNKu_WAC_WB>WLOu_WAC_WB@WAC  Waterloo & City  WB      1       513   \n",
              " \n",
              "      From ASC          From Station  To NLC To ASC         To Station  ...  \\\n",
              " 0        ELEu  Elephant & Castle LU     628   LAMu      Lambeth North  ...   \n",
              " 1        LAMu         Lambeth North     747   WLOu        Waterloo LU  ...   \n",
              " 2        WLOu           Waterloo LU     542   EMBu         Embankment  ...   \n",
              " 3        EMBu            Embankment     718   CHXu   Charing Cross LU  ...   \n",
              " 4        CHXu      Charing Cross LU     674   PICu  Piccadilly Circus  ...   \n",
              " ...       ...                   ...     ...    ...                ...  ...   \n",
              " 1158     PIMu               Pimlico     777   VUXu        Vauxhall LU  ...   \n",
              " 1159     VUXu           Vauxhall LU     716   STKu          Stockwell  ...   \n",
              " 1160     STKu             Stockwell     778   BRXu         Brixton LU  ...   \n",
              " 1161     WLOu           Waterloo LU     513   BNKu  Bank and Monument  ...   \n",
              " 1162     BNKu     Bank and Monument     747   WLOu        Waterloo LU  ...   \n",
              " \n",
              "        0230-0245   0245-0300   0300-0315   0315-0330  0330-0345   0345-0400  \\\n",
              " 0       0.000000    0.000000    0.000000    0.000000   0.000000    0.000000   \n",
              " 1       0.000000    0.000000    0.000000    0.000000   0.000000    0.000000   \n",
              " 2       0.000000    0.000000    0.000000    0.000000   0.000000    0.000000   \n",
              " 3       0.000000    0.000000    0.000000    0.000000   0.000000    0.000000   \n",
              " 4       0.000000    0.000000    0.000000    0.000000   0.000000    0.000000   \n",
              " ...          ...         ...         ...         ...        ...         ...   \n",
              " 1158  166.853871  151.275334  111.553335  108.935191  86.143861  114.833224   \n",
              " 1159  140.495264  125.838462   92.486951   87.956462  76.886525  101.779242   \n",
              " 1160  101.803838   96.794815   68.823162   77.158777  58.455503   76.588463   \n",
              " 1161    0.000000    0.000000    0.000000    0.000000   0.000000    0.000000   \n",
              " 1162    0.000000    0.000000    0.000000    0.000000   0.000000    0.000000   \n",
              " \n",
              "        0400-0415   0415-0430  0430-0445  0445-0500  \n",
              " 0       0.000000    0.000000   0.000000   0.000000  \n",
              " 1       0.000000    0.000000   0.000000   0.000000  \n",
              " 2       0.000000    0.000000   0.000000   0.000000  \n",
              " 3       0.000000    0.000000   0.000000   0.000000  \n",
              " 4       0.000000    0.000000   0.000000   0.000000  \n",
              " ...          ...         ...        ...        ...  \n",
              " 1158  114.008874  121.076148  87.421748  68.223283  \n",
              " 1159  102.999073  105.495093  76.571025  57.802175  \n",
              " 1160   73.093320   78.257153  51.519879  40.823409  \n",
              " 1161    0.000000    0.000000   0.000000   0.000000  \n",
              " 1162    0.000000    0.000000   0.000000   0.000000  \n",
              " \n",
              " [1163 rows x 113 columns],\n",
              " 'Link_Loads_NBT18SAT.csv':                              Link             Line Dir  Order  From NLC  \\\n",
              " 0     ELEu_BAK_NB>LAMu_BAK_NB@BAK         Bakerloo  NB      1       570   \n",
              " 1     LAMu_BAK_NB>WLOu_BAK_NB@BAK         Bakerloo  NB      2       628   \n",
              " 2     WLOu_BAK_NB>EMBu_BAK_NB@BAK         Bakerloo  NB      3       747   \n",
              " 3     EMBu_BAK_NB>CHXu_BAK_NB@BAK         Bakerloo  NB      4       542   \n",
              " 4     CHXu_BAK_NB>PICu_BAK_NB@BAK         Bakerloo  NB      5       718   \n",
              " ...                           ...              ...  ..    ...       ...   \n",
              " 1158  PIMu_VIC_SB>VUXu_VIC_SB@VIC         Victoria  SB     13       776   \n",
              " 1159  VUXu_VIC_SB>STKu_VIC_SB@VIC         Victoria  SB     14       777   \n",
              " 1160  STKu_VIC_SB>BRXu_VIC_SB@VIC         Victoria  SB     15       716   \n",
              " 1161  WLOu_WAC_EB>BNKu_WAC_EB@WAC  Waterloo & City  EB      1       747   \n",
              " 1162  BNKu_WAC_WB>WLOu_WAC_WB@WAC  Waterloo & City  WB      1       513   \n",
              " \n",
              "      From ASC          From Station  To NLC To ASC         To Station  ...  \\\n",
              " 0        ELEu  Elephant & Castle LU     628   LAMu      Lambeth North  ...   \n",
              " 1        LAMu         Lambeth North     747   WLOu        Waterloo LU  ...   \n",
              " 2        WLOu           Waterloo LU     542   EMBu         Embankment  ...   \n",
              " 3        EMBu            Embankment     718   CHXu   Charing Cross LU  ...   \n",
              " 4        CHXu      Charing Cross LU     674   PICu  Piccadilly Circus  ...   \n",
              " ...       ...                   ...     ...    ...                ...  ...   \n",
              " 1158     PIMu               Pimlico     777   VUXu        Vauxhall LU  ...   \n",
              " 1159     VUXu           Vauxhall LU     716   STKu          Stockwell  ...   \n",
              " 1160     STKu             Stockwell     778   BRXu         Brixton LU  ...   \n",
              " 1161     WLOu           Waterloo LU     513   BNKu  Bank and Monument  ...   \n",
              " 1162     BNKu     Bank and Monument     747   WLOu        Waterloo LU  ...   \n",
              " \n",
              "        0230-0245   0245-0300   0300-0315   0315-0330   0330-0345   0345-0400  \\\n",
              " 0       0.000000    0.000000    0.000000    0.000000    0.000000    0.000000   \n",
              " 1       0.000000    0.000000    0.000000    0.000000    0.000000    0.000000   \n",
              " 2       0.000000    0.000000    0.000000    0.000000    0.000000    0.000000   \n",
              " 3       0.000000    0.000000    0.000000    0.000000    0.000000    0.000000   \n",
              " 4       0.000000    0.000000    0.000000    0.000000    0.000000    0.000000   \n",
              " ...          ...         ...         ...         ...         ...         ...   \n",
              " 1158  210.298523  188.562955  135.422458  130.875697  104.507990  135.561113   \n",
              " 1159  179.035422  159.805049  115.476792  108.583530   94.411079  121.874561   \n",
              " 1160  137.310967  130.547404   91.886954   99.170399   75.226715   98.732461   \n",
              " 1161    0.000000    0.000000    0.000000    0.000000    0.000000    0.000000   \n",
              " 1162    0.000000    0.000000    0.000000    0.000000    0.000000    0.000000   \n",
              " \n",
              "        0400-0415   0415-0430  0430-0445  0445-0500  \n",
              " 0       0.000000    0.000000   0.000000   0.000000  \n",
              " 1       0.000000    0.000000   0.000000   0.000000  \n",
              " 2       0.000000    0.000000   0.000000   0.000000  \n",
              " 3       0.000000    0.000000   0.000000   0.000000  \n",
              " 4       0.000000    0.000000   0.000000   0.000000  \n",
              " ...          ...         ...        ...        ...  \n",
              " 1158  133.876654  141.297520  99.664408  75.474972  \n",
              " 1159  121.715398  123.870093  87.842373  64.478106  \n",
              " 1160   92.551426   98.477793  65.324134  51.428948  \n",
              " 1161    0.000000    0.000000   0.000000   0.000000  \n",
              " 1162    0.000000    0.000000   0.000000   0.000000  \n",
              " \n",
              " [1163 rows x 113 columns],\n",
              " 'Link_Loads_NBT18SUN.csv':                              Link             Line Dir  Order  From NLC  \\\n",
              " 0     ELEu_BAK_NB>LAMu_BAK_NB@BAK         Bakerloo  NB      1       570   \n",
              " 1     LAMu_BAK_NB>WLOu_BAK_NB@BAK         Bakerloo  NB      2       628   \n",
              " 2     WLOu_BAK_NB>EMBu_BAK_NB@BAK         Bakerloo  NB      3       747   \n",
              " 3     EMBu_BAK_NB>CHXu_BAK_NB@BAK         Bakerloo  NB      4       542   \n",
              " 4     CHXu_BAK_NB>PICu_BAK_NB@BAK         Bakerloo  NB      5       718   \n",
              " ...                           ...              ...  ..    ...       ...   \n",
              " 1158  PIMu_VIC_SB>VUXu_VIC_SB@VIC         Victoria  SB     13       776   \n",
              " 1159  VUXu_VIC_SB>STKu_VIC_SB@VIC         Victoria  SB     14       777   \n",
              " 1160  STKu_VIC_SB>BRXu_VIC_SB@VIC         Victoria  SB     15       716   \n",
              " 1161  WLOu_WAC_EB>BNKu_WAC_EB@WAC  Waterloo & City  EB      1       747   \n",
              " 1162  BNKu_WAC_WB>WLOu_WAC_WB@WAC  Waterloo & City  WB      1       513   \n",
              " \n",
              "      From ASC          From Station  To NLC To ASC         To Station  ...  \\\n",
              " 0        ELEu  Elephant & Castle LU     628   LAMu      Lambeth North  ...   \n",
              " 1        LAMu         Lambeth North     747   WLOu        Waterloo LU  ...   \n",
              " 2        WLOu           Waterloo LU     542   EMBu         Embankment  ...   \n",
              " 3        EMBu            Embankment     718   CHXu   Charing Cross LU  ...   \n",
              " 4        CHXu      Charing Cross LU     674   PICu  Piccadilly Circus  ...   \n",
              " ...       ...                   ...     ...    ...                ...  ...   \n",
              " 1158     PIMu               Pimlico     777   VUXu        Vauxhall LU  ...   \n",
              " 1159     VUXu           Vauxhall LU     716   STKu          Stockwell  ...   \n",
              " 1160     STKu             Stockwell     778   BRXu         Brixton LU  ...   \n",
              " 1161     WLOu           Waterloo LU     513   BNKu  Bank and Monument  ...   \n",
              " 1162     BNKu     Bank and Monument     747   WLOu        Waterloo LU  ...   \n",
              " \n",
              "       0230-0245  0245-0300  0300-0315  0315-0330  0330-0345  0345-0400  \\\n",
              " 0           0.0   0.000000   0.000000   0.000000   0.000000   0.000000   \n",
              " 1           0.0   0.000000   0.000000   0.000000   0.000000   0.000000   \n",
              " 2           0.0   0.000000   0.000000   0.000000   0.000000   0.000000   \n",
              " 3           0.0   0.000000   0.000000   0.000000   0.000000   0.000000   \n",
              " 4           0.0   0.000000   0.000000   0.000000   0.000000   0.000000   \n",
              " ...         ...        ...        ...        ...        ...        ...   \n",
              " 1158        0.0   0.005828   0.012075   0.027461   0.038379   0.052080   \n",
              " 1159        0.0   0.004438   0.009140   0.020668   0.030055   0.040534   \n",
              " 1160        0.0   0.003329   0.006816   0.016486   0.020456   0.028808   \n",
              " 1161        0.0   0.000000   0.000000   0.000000   0.000000   0.000000   \n",
              " 1162        0.0   0.000000   0.000000   0.000000   0.000000   0.000000   \n",
              " \n",
              "       0400-0415  0415-0430  0430-0445  0445-0500  \n",
              " 0      0.000000   0.000000   0.000000   0.000000  \n",
              " 1      0.000000   0.000000   0.000000   0.000000  \n",
              " 2      0.000000   0.000000   0.000000   0.000000  \n",
              " 3      0.000000   0.000000   0.000000   0.000000  \n",
              " 4      0.000000   0.000000   0.000000   0.000000  \n",
              " ...         ...        ...        ...        ...  \n",
              " 1158   0.054046   0.057499   0.042114   0.031196  \n",
              " 1159   0.062075   0.068888   0.057361   0.047974  \n",
              " 1160   0.028102   0.029853   0.020183   0.016213  \n",
              " 1161   0.000000   0.000000   0.000000   0.000000  \n",
              " 1162   0.000000   0.000000   0.000000   0.000000  \n",
              " \n",
              " [1163 rows x 113 columns],\n",
              " 'Link_Loads_NBT19MTT.csv':                              Link             Line Dir  Order  From NLC  \\\n",
              " 0     ELEu_BAK_NB>LAMu_BAK_NB@BAK         Bakerloo  NB      1       570   \n",
              " 1     LAMu_BAK_NB>WLOu_BAK_NB@BAK         Bakerloo  NB      2       628   \n",
              " 2     WLOu_BAK_NB>EMBu_BAK_NB@BAK         Bakerloo  NB      3       747   \n",
              " 3     EMBu_BAK_NB>CHXu_BAK_NB@BAK         Bakerloo  NB      4       542   \n",
              " 4     CHXu_BAK_NB>PICu_BAK_NB@BAK         Bakerloo  NB      5       718   \n",
              " ...                           ...              ...  ..    ...       ...   \n",
              " 1136  PIMu_VIC_SB>VUXu_VIC_SB@VIC         Victoria  SB     13       776   \n",
              " 1137  VUXu_VIC_SB>STKu_VIC_SB@VIC         Victoria  SB     14       777   \n",
              " 1138  STKu_VIC_SB>BRXu_VIC_SB@VIC         Victoria  SB     15       716   \n",
              " 1139  WLOu_WAC_EB>BNKu_WAC_EB@WAC  Waterloo & City  EB      1       747   \n",
              " 1140  BNKu_WAC_WB>WLOu_WAC_WB@WAC  Waterloo & City  WB      1       513   \n",
              " \n",
              "      From ASC          From Station  To NLC To ASC         To Station  ...  \\\n",
              " 0        ELEu  Elephant & Castle LU     628   LAMu      Lambeth North  ...   \n",
              " 1        LAMu         Lambeth North     747   WLOu        Waterloo LU  ...   \n",
              " 2        WLOu           Waterloo LU     542   EMBu         Embankment  ...   \n",
              " 3        EMBu            Embankment     718   CHXu   Charing Cross LU  ...   \n",
              " 4        CHXu      Charing Cross LU     674   PICu  Piccadilly Circus  ...   \n",
              " ...       ...                   ...     ...    ...                ...  ...   \n",
              " 1136     PIMu               Pimlico     777   VUXu        Vauxhall LU  ...   \n",
              " 1137     VUXu           Vauxhall LU     716   STKu          Stockwell  ...   \n",
              " 1138     STKu             Stockwell     778   BRXu         Brixton LU  ...   \n",
              " 1139     WLOu           Waterloo LU     513   BNKu  Bank and Monument  ...   \n",
              " 1140     BNKu     Bank and Monument     747   WLOu        Waterloo LU  ...   \n",
              " \n",
              "       0230-0245  0245-0300  0300-0315  0315-0330  0330-0345  0345-0400  \\\n",
              " 0        0.0000      0.000      0.000      0.000        0.0        0.0   \n",
              " 1        0.0000      0.000      0.000      0.000        0.0        0.0   \n",
              " 2        0.0000      0.000      0.000      0.000        0.0        0.0   \n",
              " 3        0.0000      0.000      0.000      0.000        0.0        0.0   \n",
              " 4        0.0000      0.000      0.000      0.000        0.0        0.0   \n",
              " ...         ...        ...        ...        ...        ...        ...   \n",
              " 1136     0.0012      0.001      0.001      0.001        0.0        0.0   \n",
              " 1137     0.0012      0.001      0.001      0.001        0.0        0.0   \n",
              " 1138     0.0012      0.001      0.001      0.001        0.0        0.0   \n",
              " 1139     0.0000      0.000      0.000      0.000        0.0        0.0   \n",
              " 1140     0.0000      0.000      0.000      0.000        0.0        0.0   \n",
              " \n",
              "       0400-0415  0415-0430  0430-0445  0445-0500  \n",
              " 0           0.0        0.0        0.0        0.0  \n",
              " 1           0.0        0.0        0.0        0.0  \n",
              " 2           0.0        0.0        0.0        0.0  \n",
              " 3           0.0        0.0        0.0        0.0  \n",
              " 4           0.0        0.0        0.0        0.0  \n",
              " ...         ...        ...        ...        ...  \n",
              " 1136        0.0        0.0        0.0        0.0  \n",
              " 1137        0.0        0.0        0.0        0.0  \n",
              " 1138        0.0        0.0        0.0        0.0  \n",
              " 1139        0.0        0.0        0.0        0.0  \n",
              " 1140        0.0        0.0        0.0        0.0  \n",
              " \n",
              " [1141 rows x 113 columns],\n",
              " 'Link_Loads_NBT19FRI.csv':                              Link             Line Dir  Order  From NLC  \\\n",
              " 0     ELEu_BAK_NB>LAMu_BAK_NB@BAK         Bakerloo  NB      1       570   \n",
              " 1     LAMu_BAK_NB>WLOu_BAK_NB@BAK         Bakerloo  NB      2       628   \n",
              " 2     WLOu_BAK_NB>EMBu_BAK_NB@BAK         Bakerloo  NB      3       747   \n",
              " 3     EMBu_BAK_NB>CHXu_BAK_NB@BAK         Bakerloo  NB      4       542   \n",
              " 4     CHXu_BAK_NB>PICu_BAK_NB@BAK         Bakerloo  NB      5       718   \n",
              " ...                           ...              ...  ..    ...       ...   \n",
              " 1136  PIMu_VIC_SB>VUXu_VIC_SB@VIC         Victoria  SB     13       776   \n",
              " 1137  VUXu_VIC_SB>STKu_VIC_SB@VIC         Victoria  SB     14       777   \n",
              " 1138  STKu_VIC_SB>BRXu_VIC_SB@VIC         Victoria  SB     15       716   \n",
              " 1139  WLOu_WAC_EB>BNKu_WAC_EB@WAC  Waterloo & City  EB      1       747   \n",
              " 1140  BNKu_WAC_WB>WLOu_WAC_WB@WAC  Waterloo & City  WB      1       513   \n",
              " \n",
              "      From ASC          From Station  To NLC To ASC         To Station  ...  \\\n",
              " 0        ELEu  Elephant & Castle LU     628   LAMu      Lambeth North  ...   \n",
              " 1        LAMu         Lambeth North     747   WLOu        Waterloo LU  ...   \n",
              " 2        WLOu           Waterloo LU     542   EMBu         Embankment  ...   \n",
              " 3        EMBu            Embankment     718   CHXu   Charing Cross LU  ...   \n",
              " 4        CHXu      Charing Cross LU     674   PICu  Piccadilly Circus  ...   \n",
              " ...       ...                   ...     ...    ...                ...  ...   \n",
              " 1136     PIMu               Pimlico     777   VUXu        Vauxhall LU  ...   \n",
              " 1137     VUXu           Vauxhall LU     716   STKu          Stockwell  ...   \n",
              " 1138     STKu             Stockwell     778   BRXu         Brixton LU  ...   \n",
              " 1139     WLOu           Waterloo LU     513   BNKu  Bank and Monument  ...   \n",
              " 1140     BNKu     Bank and Monument     747   WLOu        Waterloo LU  ...   \n",
              " \n",
              "       0230-0245  0245-0300  0300-0315  0315-0330  0330-0345  0345-0400  \\\n",
              " 0        0.0000     0.0000      0.000     0.0000     0.0000     0.0000   \n",
              " 1        0.0000     0.0000      0.000     0.0000     0.0000     0.0000   \n",
              " 2        0.0000     0.0000      0.000     0.0000     0.0000     0.0000   \n",
              " 3        0.0000     0.0000      0.000     0.0000     0.0000     0.0000   \n",
              " 4        0.0000     0.0000      0.000     0.0000     0.0000     0.0000   \n",
              " ...         ...        ...        ...        ...        ...        ...   \n",
              " 1136   181.8698   180.6104    151.423   149.2764   121.8740   124.1874   \n",
              " 1137   156.2534   153.6102    131.510   128.3456   108.2102   109.7876   \n",
              " 1138   114.5716   117.2824     94.522    95.6106    75.8290    79.5670   \n",
              " 1139     0.0000     0.0000      0.000     0.0000     0.0000     0.0000   \n",
              " 1140     0.0000     0.0000      0.000     0.0000     0.0000     0.0000   \n",
              " \n",
              "       0400-0415  0415-0430  0430-0445  0445-0500  \n",
              " 0        0.0000     0.0000     0.0000     0.0000  \n",
              " 1        0.0000     0.0000     0.0000     0.0000  \n",
              " 2        0.0000     0.0000     0.0000     0.0000  \n",
              " 3        0.0000     0.0000     0.0000     0.0000  \n",
              " 4        0.0000     0.0000     0.0000     0.0000  \n",
              " ...         ...        ...        ...        ...  \n",
              " 1136   106.9884   110.5732    83.2116    66.8552  \n",
              " 1137    97.0138    95.4412    72.1658    56.2962  \n",
              " 1138    66.0882    69.8414    51.3704    41.3934  \n",
              " 1139     0.0000     0.0000     0.0000     0.0000  \n",
              " 1140     0.0000     0.0000     0.0000     0.0000  \n",
              " \n",
              " [1141 rows x 113 columns],\n",
              " 'Link_Loads_NBT19SAT.csv':                              Link             Line Dir  Order  From NLC  \\\n",
              " 0     ELEu_BAK_NB>LAMu_BAK_NB@BAK         Bakerloo  NB      1       570   \n",
              " 1     LAMu_BAK_NB>WLOu_BAK_NB@BAK         Bakerloo  NB      2       628   \n",
              " 2     WLOu_BAK_NB>EMBu_BAK_NB@BAK         Bakerloo  NB      3       747   \n",
              " 3     EMBu_BAK_NB>CHXu_BAK_NB@BAK         Bakerloo  NB      4       542   \n",
              " 4     CHXu_BAK_NB>PICu_BAK_NB@BAK         Bakerloo  NB      5       718   \n",
              " ...                           ...              ...  ..    ...       ...   \n",
              " 1136  PIMu_VIC_SB>VUXu_VIC_SB@VIC         Victoria  SB     13       776   \n",
              " 1137  VUXu_VIC_SB>STKu_VIC_SB@VIC         Victoria  SB     14       777   \n",
              " 1138  STKu_VIC_SB>BRXu_VIC_SB@VIC         Victoria  SB     15       716   \n",
              " 1139  WLOu_WAC_EB>BNKu_WAC_EB@WAC  Waterloo & City  EB      1       747   \n",
              " 1140  BNKu_WAC_WB>WLOu_WAC_WB@WAC  Waterloo & City  WB      1       513   \n",
              " \n",
              "      From ASC          From Station  To NLC To ASC         To Station  ...  \\\n",
              " 0        ELEu  Elephant & Castle LU     628   LAMu      Lambeth North  ...   \n",
              " 1        LAMu         Lambeth North     747   WLOu        Waterloo LU  ...   \n",
              " 2        WLOu           Waterloo LU     542   EMBu         Embankment  ...   \n",
              " 3        EMBu            Embankment     718   CHXu   Charing Cross LU  ...   \n",
              " 4        CHXu      Charing Cross LU     674   PICu  Piccadilly Circus  ...   \n",
              " ...       ...                   ...     ...    ...                ...  ...   \n",
              " 1136     PIMu               Pimlico     777   VUXu        Vauxhall LU  ...   \n",
              " 1137     VUXu           Vauxhall LU     716   STKu          Stockwell  ...   \n",
              " 1138     STKu             Stockwell     778   BRXu         Brixton LU  ...   \n",
              " 1139     WLOu           Waterloo LU     513   BNKu  Bank and Monument  ...   \n",
              " 1140     BNKu     Bank and Monument     747   WLOu        Waterloo LU  ...   \n",
              " \n",
              "       0230-0245  0245-0300  0300-0315  0315-0330  0330-0345  0345-0400  \\\n",
              " 0        0.0000     0.0000     0.0000     0.0000     0.0000     0.0000   \n",
              " 1        0.0000     0.0000     0.0000     0.0000     0.0000     0.0000   \n",
              " 2        0.0000     0.0000     0.0000     0.0000     0.0000     0.0000   \n",
              " 3        0.0000     0.0000     0.0000     0.0000     0.0000     0.0000   \n",
              " 4        0.0000     0.0000     0.0000     0.0000     0.0000     0.0000   \n",
              " ...         ...        ...        ...        ...        ...        ...   \n",
              " 1136   223.5486   223.8966   187.6742   186.1920   152.0296   150.3578   \n",
              " 1137   191.9858   190.5182   164.1626   161.6404   136.1962   133.8832   \n",
              " 1138   142.1540   147.7714   121.0310   124.3292   101.1016   104.0302   \n",
              " 1139     0.0000     0.0000     0.0000     0.0000     0.0000     0.0000   \n",
              " 1140     0.0000     0.0000     0.0000     0.0000     0.0000     0.0000   \n",
              " \n",
              "       0400-0415  0415-0430  0430-0445  0445-0500  \n",
              " 0        0.0000     0.0000     0.0000     0.0000  \n",
              " 1        0.0000     0.0000     0.0000     0.0000  \n",
              " 2        0.0000     0.0000     0.0000     0.0000  \n",
              " 3        0.0000     0.0000     0.0000     0.0000  \n",
              " 4        0.0000     0.0000     0.0000     0.0000  \n",
              " ...         ...        ...        ...        ...  \n",
              " 1136   123.4416   120.8746    86.3784    66.8176  \n",
              " 1137   113.5792   108.2794    78.5104    59.4700  \n",
              " 1138    83.1714    80.5766    55.9122    43.5332  \n",
              " 1139     0.0000     0.0000     0.0000     0.0000  \n",
              " 1140     0.0000     0.0000     0.0000     0.0000  \n",
              " \n",
              " [1141 rows x 113 columns],\n",
              " 'Link_Loads_NBT19SUN.csv':                              Link             Line Dir  Order  From NLC  \\\n",
              " 0     ELEu_BAK_NB>LAMu_BAK_NB@BAK         Bakerloo  NB      1       570   \n",
              " 1     LAMu_BAK_NB>WLOu_BAK_NB@BAK         Bakerloo  NB      2       628   \n",
              " 2     WLOu_BAK_NB>EMBu_BAK_NB@BAK         Bakerloo  NB      3       747   \n",
              " 3     EMBu_BAK_NB>CHXu_BAK_NB@BAK         Bakerloo  NB      4       542   \n",
              " 4     CHXu_BAK_NB>PICu_BAK_NB@BAK         Bakerloo  NB      5       718   \n",
              " ...                           ...              ...  ..    ...       ...   \n",
              " 1136  PIMu_VIC_SB>VUXu_VIC_SB@VIC         Victoria  SB     13       776   \n",
              " 1137  VUXu_VIC_SB>STKu_VIC_SB@VIC         Victoria  SB     14       777   \n",
              " 1138  STKu_VIC_SB>BRXu_VIC_SB@VIC         Victoria  SB     15       716   \n",
              " 1139  WLOu_WAC_EB>BNKu_WAC_EB@WAC  Waterloo & City  EB      1       747   \n",
              " 1140  BNKu_WAC_WB>WLOu_WAC_WB@WAC  Waterloo & City  WB      1       513   \n",
              " \n",
              "      From ASC          From Station  To NLC To ASC         To Station  ...  \\\n",
              " 0        ELEu  Elephant & Castle LU     628   LAMu      Lambeth North  ...   \n",
              " 1        LAMu         Lambeth North     747   WLOu        Waterloo LU  ...   \n",
              " 2        WLOu           Waterloo LU     542   EMBu         Embankment  ...   \n",
              " 3        EMBu            Embankment     718   CHXu   Charing Cross LU  ...   \n",
              " 4        CHXu      Charing Cross LU     674   PICu  Piccadilly Circus  ...   \n",
              " ...       ...                   ...     ...    ...                ...  ...   \n",
              " 1136     PIMu               Pimlico     777   VUXu        Vauxhall LU  ...   \n",
              " 1137     VUXu           Vauxhall LU     716   STKu          Stockwell  ...   \n",
              " 1138     STKu             Stockwell     778   BRXu         Brixton LU  ...   \n",
              " 1139     WLOu           Waterloo LU     513   BNKu  Bank and Monument  ...   \n",
              " 1140     BNKu     Bank and Monument     747   WLOu        Waterloo LU  ...   \n",
              " \n",
              "       0230-0245  0245-0300  0300-0315  0315-0330  0330-0345  0345-0400  \\\n",
              " 0           0.0     0.0000     0.0000     0.0000     0.0000     0.0000   \n",
              " 1           0.0     0.0000     0.0000     0.0000     0.0000     0.0000   \n",
              " 2           0.0     0.0000     0.0000     0.0000     0.0000     0.0000   \n",
              " 3           0.0     0.0000     0.0000     0.0000     0.0000     0.0000   \n",
              " 4           0.0     0.0000     0.0000     0.0000     0.0000     0.0000   \n",
              " ...         ...        ...        ...        ...        ...        ...   \n",
              " 1136        0.0     0.0094     0.0196     0.0478     0.0686     0.1012   \n",
              " 1137        0.0     0.0080     0.0166     0.0424     0.0620     0.0924   \n",
              " 1138        0.0     0.0064     0.0132     0.0300     0.0362     0.0554   \n",
              " 1139        0.0     0.0000     0.0000     0.0000     0.0000     0.0000   \n",
              " 1140        0.0     0.0000     0.0000     0.0000     0.0000     0.0000   \n",
              " \n",
              "       0400-0415  0415-0430  0430-0445  0445-0500  \n",
              " 0        0.0000     0.0000     0.0000     0.0000  \n",
              " 1        0.0000     0.0000     0.0000     0.0000  \n",
              " 2        0.0000     0.0000     0.0000     0.0000  \n",
              " 3        0.0000     0.0000     0.0000     0.0000  \n",
              " 4        0.0000     0.0000     0.0000     0.0000  \n",
              " ...         ...        ...        ...        ...  \n",
              " 1136     0.1024     0.0986     0.0704     0.0496  \n",
              " 1137     0.0948     0.0926     0.0668     0.0472  \n",
              " 1138     0.0524     0.0492     0.0324     0.0262  \n",
              " 1139     0.0000     0.0000     0.0000     0.0000  \n",
              " 1140     0.0000     0.0000     0.0000     0.0000  \n",
              " \n",
              " [1141 rows x 113 columns],\n",
              " 'Link_Loads_NBT20MTT.csv':                              Link             Line Dir  Order  From NLC  \\\n",
              " 0     ELEu_BAK_NB>LAMu_BAK_NB@BAK         Bakerloo  NB      1       570   \n",
              " 1     LAMu_BAK_NB>WLOu_BAK_NB@BAK         Bakerloo  NB      2       628   \n",
              " 2     WLOu_BAK_NB>EMBu_BAK_NB@BAK         Bakerloo  NB      3       747   \n",
              " 3     EMBu_BAK_NB>CHXu_BAK_NB@BAK         Bakerloo  NB      4       542   \n",
              " 4     CHXu_BAK_NB>PICu_BAK_NB@BAK         Bakerloo  NB      5       718   \n",
              " ...                           ...              ...  ..    ...       ...   \n",
              " 1154  PIMu_VIC_SB>VUXu_VIC_SB@VIC         Victoria  SB     13       776   \n",
              " 1155  VUXu_VIC_SB>STKu_VIC_SB@VIC         Victoria  SB     14       777   \n",
              " 1156  STKu_VIC_SB>BRXu_VIC_SB@VIC         Victoria  SB     15       716   \n",
              " 1157  WLOu_WAC_EB>BNKu_WAC_EB@WAC  Waterloo & City  EB      1       747   \n",
              " 1158  BNKu_WAC_WB>WLOu_WAC_WB@WAC  Waterloo & City  WB      1       513   \n",
              " \n",
              "      From ASC          From Station  To NLC To ASC         To Station  ...  \\\n",
              " 0        ELEu  Elephant & Castle LU     628   LAMu      Lambeth North  ...   \n",
              " 1        LAMu         Lambeth North     747   WLOu        Waterloo LU  ...   \n",
              " 2        WLOu           Waterloo LU     542   EMBu         Embankment  ...   \n",
              " 3        EMBu            Embankment     718   CHXu   Charing Cross LU  ...   \n",
              " 4        CHXu      Charing Cross LU     674   PICu  Piccadilly Circus  ...   \n",
              " ...       ...                   ...     ...    ...                ...  ...   \n",
              " 1154     PIMu               Pimlico     777   VUXu        Vauxhall LU  ...   \n",
              " 1155     VUXu           Vauxhall LU     716   STKu          Stockwell  ...   \n",
              " 1156     STKu             Stockwell     778   BRXu         Brixton LU  ...   \n",
              " 1157     WLOu           Waterloo LU     513   BNKu  Bank and Monument  ...   \n",
              " 1158     BNKu     Bank and Monument     747   WLOu        Waterloo LU  ...   \n",
              " \n",
              "       0230-0245  0245-0300  0300-0315  0315-0330  0330-0345  0345-0400  \\\n",
              " 0      0.000000   0.000000   0.000000   0.000000   0.000000   0.000000   \n",
              " 1      0.000000   0.000000   0.000000   0.000000   0.000000   0.000000   \n",
              " 2      0.000000   0.000000   0.000000   0.000000   0.000000   0.000000   \n",
              " 3      0.000000   0.000000   0.000000   0.000000   0.000000   0.000000   \n",
              " 4      0.000000   0.000000   0.000000   0.000000   0.000000   0.000000   \n",
              " ...         ...        ...        ...        ...        ...        ...   \n",
              " 1154   0.109750   0.129038   0.109452   0.092763   0.058736   0.029033   \n",
              " 1155   0.096873   0.113583   0.096766   0.082037   0.052303   0.025475   \n",
              " 1156   0.040842   0.049832   0.041626   0.036281   0.021921   0.012171   \n",
              " 1157   0.000000   0.000000   0.000000   0.000000   0.000000   0.000000   \n",
              " 1158   0.000000   0.000000   0.000000   0.000000   0.000000   0.000000   \n",
              " \n",
              "       0400-0415  0415-0430  0430-0445  0445-0500  \n",
              " 0           0.0        0.0        0.0        0.0  \n",
              " 1           0.0        0.0        0.0        0.0  \n",
              " 2           0.0        0.0        0.0        0.0  \n",
              " 3           0.0        0.0        0.0        0.0  \n",
              " 4           0.0        0.0        0.0        0.0  \n",
              " ...         ...        ...        ...        ...  \n",
              " 1154        0.0        0.0        0.0        0.0  \n",
              " 1155        0.0        0.0        0.0        0.0  \n",
              " 1156        0.0        0.0        0.0        0.0  \n",
              " 1157        0.0        0.0        0.0        0.0  \n",
              " 1158        0.0        0.0        0.0        0.0  \n",
              " \n",
              " [1159 rows x 113 columns],\n",
              " 'Link_Loads_NBT20FRI.csv':                              Link             Line Dir  Order  From NLC  \\\n",
              " 0     ELEu_BAK_NB>LAMu_BAK_NB@BAK         Bakerloo  NB      1       570   \n",
              " 1     LAMu_BAK_NB>WLOu_BAK_NB@BAK         Bakerloo  NB      2       628   \n",
              " 2     WLOu_BAK_NB>EMBu_BAK_NB@BAK         Bakerloo  NB      3       747   \n",
              " 3     EMBu_BAK_NB>CHXu_BAK_NB@BAK         Bakerloo  NB      4       542   \n",
              " 4     CHXu_BAK_NB>PICu_BAK_NB@BAK         Bakerloo  NB      5       718   \n",
              " ...                           ...              ...  ..    ...       ...   \n",
              " 1154  PIMu_VIC_SB>VUXu_VIC_SB@VIC         Victoria  SB     13       776   \n",
              " 1155  VUXu_VIC_SB>STKu_VIC_SB@VIC         Victoria  SB     14       777   \n",
              " 1156  STKu_VIC_SB>BRXu_VIC_SB@VIC         Victoria  SB     15       716   \n",
              " 1157  WLOu_WAC_EB>BNKu_WAC_EB@WAC  Waterloo & City  EB      1       747   \n",
              " 1158  BNKu_WAC_WB>WLOu_WAC_WB@WAC  Waterloo & City  WB      1       513   \n",
              " \n",
              "      From ASC          From Station  To NLC To ASC         To Station  ...  \\\n",
              " 0        ELEu  Elephant & Castle LU     628   LAMu      Lambeth North  ...   \n",
              " 1        LAMu         Lambeth North     747   WLOu        Waterloo LU  ...   \n",
              " 2        WLOu           Waterloo LU     542   EMBu         Embankment  ...   \n",
              " 3        EMBu            Embankment     718   CHXu   Charing Cross LU  ...   \n",
              " 4        CHXu      Charing Cross LU     674   PICu  Piccadilly Circus  ...   \n",
              " ...       ...                   ...     ...    ...                ...  ...   \n",
              " 1154     PIMu               Pimlico     777   VUXu        Vauxhall LU  ...   \n",
              " 1155     VUXu           Vauxhall LU     716   STKu          Stockwell  ...   \n",
              " 1156     STKu             Stockwell     778   BRXu         Brixton LU  ...   \n",
              " 1157     WLOu           Waterloo LU     513   BNKu  Bank and Monument  ...   \n",
              " 1158     BNKu     Bank and Monument     747   WLOu        Waterloo LU  ...   \n",
              " \n",
              "       0230-0245  0245-0300  0300-0315  0315-0330     0330-0345     0345-0400  \\\n",
              " 0      0.000000   0.000000   0.000000   0.000000  0.000000e+00  0.000000e+00   \n",
              " 1      0.000000   0.000000   0.000000   0.000000  0.000000e+00  0.000000e+00   \n",
              " 2      0.000000   0.000000   0.000000   0.000000  0.000000e+00  0.000000e+00   \n",
              " 3      0.000000   0.000000   0.000000   0.000000  0.000000e+00  0.000000e+00   \n",
              " 4      0.000000   0.000000   0.000000   0.000000  0.000000e+00  0.000000e+00   \n",
              " ...         ...        ...        ...        ...           ...           ...   \n",
              " 1154   0.000050   0.000040   0.000030   0.000020  1.104858e-05  1.197128e-06   \n",
              " 1155   0.000048   0.000037   0.000029   0.000018  1.033109e-05  9.493891e-07   \n",
              " 1156   0.000004   0.000004   0.000003   0.000002  9.492594e-07  4.766602e-07   \n",
              " 1157   0.000000   0.000000   0.000000   0.000000  0.000000e+00  0.000000e+00   \n",
              " 1158   0.000000   0.000000   0.000000   0.000000  0.000000e+00  0.000000e+00   \n",
              " \n",
              "       0400-0415  0415-0430  0430-0445  0445-0500  \n",
              " 0           0.0        0.0        0.0        0.0  \n",
              " 1           0.0        0.0        0.0        0.0  \n",
              " 2           0.0        0.0        0.0        0.0  \n",
              " 3           0.0        0.0        0.0        0.0  \n",
              " 4           0.0        0.0        0.0        0.0  \n",
              " ...         ...        ...        ...        ...  \n",
              " 1154        0.0        0.0        0.0        0.0  \n",
              " 1155        0.0        0.0        0.0        0.0  \n",
              " 1156        0.0        0.0        0.0        0.0  \n",
              " 1157        0.0        0.0        0.0        0.0  \n",
              " 1158        0.0        0.0        0.0        0.0  \n",
              " \n",
              " [1159 rows x 113 columns],\n",
              " 'Link_Loads_NBT20SAT.csv':                              Link             Line Dir  Order  From NLC  \\\n",
              " 0     ELEu_BAK_NB>LAMu_BAK_NB@BAK         Bakerloo  NB      1       570   \n",
              " 1     LAMu_BAK_NB>WLOu_BAK_NB@BAK         Bakerloo  NB      2       628   \n",
              " 2     WLOu_BAK_NB>EMBu_BAK_NB@BAK         Bakerloo  NB      3       747   \n",
              " 3     EMBu_BAK_NB>CHXu_BAK_NB@BAK         Bakerloo  NB      4       542   \n",
              " 4     CHXu_BAK_NB>PICu_BAK_NB@BAK         Bakerloo  NB      5       718   \n",
              " ...                           ...              ...  ..    ...       ...   \n",
              " 1154  PIMu_VIC_SB>VUXu_VIC_SB@VIC         Victoria  SB     13       776   \n",
              " 1155  VUXu_VIC_SB>STKu_VIC_SB@VIC         Victoria  SB     14       777   \n",
              " 1156  STKu_VIC_SB>BRXu_VIC_SB@VIC         Victoria  SB     15       716   \n",
              " 1157  WLOu_WAC_EB>BNKu_WAC_EB@WAC  Waterloo & City  EB      1       747   \n",
              " 1158  BNKu_WAC_WB>WLOu_WAC_WB@WAC  Waterloo & City  WB      1       513   \n",
              " \n",
              "      From ASC          From Station  To NLC To ASC         To Station  ...  \\\n",
              " 0        ELEu  Elephant & Castle LU     628   LAMu      Lambeth North  ...   \n",
              " 1        LAMu         Lambeth North     747   WLOu        Waterloo LU  ...   \n",
              " 2        WLOu           Waterloo LU     542   EMBu         Embankment  ...   \n",
              " 3        EMBu            Embankment     718   CHXu   Charing Cross LU  ...   \n",
              " 4        CHXu      Charing Cross LU     674   PICu  Piccadilly Circus  ...   \n",
              " ...       ...                   ...     ...    ...                ...  ...   \n",
              " 1154     PIMu               Pimlico     777   VUXu        Vauxhall LU  ...   \n",
              " 1155     VUXu           Vauxhall LU     716   STKu          Stockwell  ...   \n",
              " 1156     STKu             Stockwell     778   BRXu         Brixton LU  ...   \n",
              " 1157     WLOu           Waterloo LU     513   BNKu  Bank and Monument  ...   \n",
              " 1158     BNKu     Bank and Monument     747   WLOu        Waterloo LU  ...   \n",
              " \n",
              "       0230-0245  0245-0300  0300-0315  0315-0330  0330-0345  0345-0400  \\\n",
              " 0      0.000000   0.000000   0.000000   0.000000   0.000000   0.000000   \n",
              " 1      0.000000   0.000000   0.000000   0.000000   0.000000   0.000000   \n",
              " 2      0.000000   0.000000   0.000000   0.000000   0.000000   0.000000   \n",
              " 3      0.000000   0.000000   0.000000   0.000000   0.000000   0.000000   \n",
              " 4      0.000000   0.000000   0.000000   0.000000   0.000000   0.000000   \n",
              " ...         ...        ...        ...        ...        ...        ...   \n",
              " 1154   0.000013   0.000009   0.000009   0.000009   0.000012   0.000011   \n",
              " 1155   0.000013   0.000009   0.000009   0.000009   0.000012   0.000011   \n",
              " 1156   0.000013   0.000009   0.000009   0.000009   0.000012   0.000011   \n",
              " 1157   0.000000   0.000000   0.000000   0.000000   0.000000   0.000000   \n",
              " 1158   0.000000   0.000000   0.000000   0.000000   0.000000   0.000000   \n",
              " \n",
              "       0400-0415  0415-0430  0430-0445  0445-0500  \n",
              " 0      0.000000   0.000000   0.000000   0.000000  \n",
              " 1      0.000000   0.000000   0.000000   0.000000  \n",
              " 2      0.000000   0.000000   0.000000   0.000000  \n",
              " 3      0.000000   0.000000   0.000000   0.000000  \n",
              " 4      0.000000   0.000000   0.000000   0.000000  \n",
              " ...         ...        ...        ...        ...  \n",
              " 1154   0.000006   0.004903   0.004903   0.004899  \n",
              " 1155   0.000006   0.000006   0.000006   0.000003  \n",
              " 1156   0.000006   0.000006   0.000006   0.000003  \n",
              " 1157   0.000000   0.000000   0.000000   0.000000  \n",
              " 1158   0.000000   0.000000   0.000000   0.000000  \n",
              " \n",
              " [1159 rows x 113 columns],\n",
              " 'Link_Loads_NBT20SUN.csv':                              Link             Line Dir  Order  From NLC  \\\n",
              " 0     ELEu_BAK_NB>LAMu_BAK_NB@BAK         Bakerloo  NB      1       570   \n",
              " 1     LAMu_BAK_NB>WLOu_BAK_NB@BAK         Bakerloo  NB      2       628   \n",
              " 2     WLOu_BAK_NB>EMBu_BAK_NB@BAK         Bakerloo  NB      3       747   \n",
              " 3     EMBu_BAK_NB>CHXu_BAK_NB@BAK         Bakerloo  NB      4       542   \n",
              " 4     CHXu_BAK_NB>PICu_BAK_NB@BAK         Bakerloo  NB      5       718   \n",
              " ...                           ...              ...  ..    ...       ...   \n",
              " 1154  PIMu_VIC_SB>VUXu_VIC_SB@VIC         Victoria  SB     13       776   \n",
              " 1155  VUXu_VIC_SB>STKu_VIC_SB@VIC         Victoria  SB     14       777   \n",
              " 1156  STKu_VIC_SB>BRXu_VIC_SB@VIC         Victoria  SB     15       716   \n",
              " 1157  WLOu_WAC_EB>BNKu_WAC_EB@WAC  Waterloo & City  EB      1       747   \n",
              " 1158  BNKu_WAC_WB>WLOu_WAC_WB@WAC  Waterloo & City  WB      1       513   \n",
              " \n",
              "      From ASC          From Station  To NLC To ASC         To Station  ...  \\\n",
              " 0        ELEu  Elephant & Castle LU     628   LAMu      Lambeth North  ...   \n",
              " 1        LAMu         Lambeth North     747   WLOu        Waterloo LU  ...   \n",
              " 2        WLOu           Waterloo LU     542   EMBu         Embankment  ...   \n",
              " 3        EMBu            Embankment     718   CHXu   Charing Cross LU  ...   \n",
              " 4        CHXu      Charing Cross LU     674   PICu  Piccadilly Circus  ...   \n",
              " ...       ...                   ...     ...    ...                ...  ...   \n",
              " 1154     PIMu               Pimlico     777   VUXu        Vauxhall LU  ...   \n",
              " 1155     VUXu           Vauxhall LU     716   STKu          Stockwell  ...   \n",
              " 1156     STKu             Stockwell     778   BRXu         Brixton LU  ...   \n",
              " 1157     WLOu           Waterloo LU     513   BNKu  Bank and Monument  ...   \n",
              " 1158     BNKu     Bank and Monument     747   WLOu        Waterloo LU  ...   \n",
              " \n",
              "       0230-0245  0245-0300  0300-0315  0315-0330  0330-0345  0345-0400  \\\n",
              " 0           0.0   0.000000   0.000000   0.000000   0.000000   0.000000   \n",
              " 1           0.0   0.000000   0.000000   0.000000   0.000000   0.000000   \n",
              " 2           0.0   0.000000   0.000000   0.000000   0.000000   0.000000   \n",
              " 3           0.0   0.000000   0.000000   0.000000   0.000000   0.000000   \n",
              " 4           0.0   0.000000   0.000000   0.000000   0.000000   0.000000   \n",
              " ...         ...        ...        ...        ...        ...        ...   \n",
              " 1154        0.0   0.000862   0.001537   0.004476   0.006106   0.007910   \n",
              " 1155        0.0   0.000639   0.001117   0.003218   0.004500   0.005767   \n",
              " 1156        0.0   0.000295   0.000626   0.002653   0.003201   0.004340   \n",
              " 1157        0.0   0.000000   0.000000   0.000000   0.000000   0.000000   \n",
              " 1158        0.0   0.000000   0.000000   0.000000   0.000000   0.000000   \n",
              " \n",
              "       0400-0415  0415-0430  0430-0445  0445-0500  \n",
              " 0      0.000000   0.000000   0.000000   0.000000  \n",
              " 1      0.000000   0.000000   0.000000   0.000000  \n",
              " 2      0.000000   0.000000   0.000000   0.000000  \n",
              " 3      0.000000   0.000000   0.000000   0.000000  \n",
              " 4      0.000000   0.000000   0.000000   0.000000  \n",
              " ...         ...        ...        ...        ...  \n",
              " 1154   0.008759   0.009217   0.006278   0.004648  \n",
              " 1155   0.006568   0.006886   0.004784   0.003502  \n",
              " 1156   0.004851   0.005231   0.003205   0.002656  \n",
              " 1157   0.000000   0.000000   0.000000   0.000000  \n",
              " 1158   0.000000   0.000000   0.000000   0.000000  \n",
              " \n",
              " [1159 rows x 113 columns],\n",
              " 'Link_Loads_NBT21MTT.csv':                              Link             Line Dir  Order  From NLC  \\\n",
              " 0     ELEu_BAK_NB>LAMu_BAK_NB@BAK         Bakerloo  NB      1       570   \n",
              " 1     LAMu_BAK_NB>WLOu_BAK_NB@BAK         Bakerloo  NB      2       628   \n",
              " 2     WLOu_BAK_NB>EMBu_BAK_NB@BAK         Bakerloo  NB      3       747   \n",
              " 3     EMBu_BAK_NB>CHXu_BAK_NB@BAK         Bakerloo  NB      4       542   \n",
              " 4     CHXu_BAK_NB>PICu_BAK_NB@BAK         Bakerloo  NB      5       718   \n",
              " ...                           ...              ...  ..    ...       ...   \n",
              " 1158  PIMu_VIC_SB>VUXu_VIC_SB@VIC         Victoria  SB     13       776   \n",
              " 1159  VUXu_VIC_SB>STKu_VIC_SB@VIC         Victoria  SB     14       777   \n",
              " 1160  STKu_VIC_SB>BRXu_VIC_SB@VIC         Victoria  SB     15       716   \n",
              " 1161  WLOu_WAC_EB>BNKu_WAC_EB@WAC  Waterloo & City  EB      1       747   \n",
              " 1162  BNKu_WAC_WB>WLOu_WAC_WB@WAC  Waterloo & City  WB      1       513   \n",
              " \n",
              "      From ASC          From Station  To NLC To ASC         To Station  ...  \\\n",
              " 0        ELEu  Elephant & Castle LU     628   LAMu      Lambeth North  ...   \n",
              " 1        LAMu         Lambeth North     747   WLOu        Waterloo LU  ...   \n",
              " 2        WLOu           Waterloo LU     542   EMBu         Embankment  ...   \n",
              " 3        EMBu            Embankment     718   CHXu   Charing Cross LU  ...   \n",
              " 4        CHXu      Charing Cross LU     674   PICu  Piccadilly Circus  ...   \n",
              " ...       ...                   ...     ...    ...                ...  ...   \n",
              " 1158     PIMu               Pimlico     777   VUXu        Vauxhall LU  ...   \n",
              " 1159     VUXu           Vauxhall LU     716   STKu          Stockwell  ...   \n",
              " 1160     STKu             Stockwell     778   BRXu         Brixton LU  ...   \n",
              " 1161     WLOu           Waterloo LU     513   BNKu  Bank and Monument  ...   \n",
              " 1162     BNKu     Bank and Monument     747   WLOu        Waterloo LU  ...   \n",
              " \n",
              "       0230-0245  0245-0300  0300-0315  0315-0330  0330-0345     0345-0400  \\\n",
              " 0      0.000000   0.000000   0.000000   0.000000   0.000000  0.000000e+00   \n",
              " 1      0.000000   0.000000   0.000000   0.000000   0.000000  0.000000e+00   \n",
              " 2      0.000000   0.000000   0.000000   0.000000   0.000000  0.000000e+00   \n",
              " 3      0.000000   0.000000   0.000000   0.000000   0.000000  0.000000e+00   \n",
              " 4      0.000000   0.000000   0.000000   0.000000   0.000000  0.000000e+00   \n",
              " ...         ...        ...        ...        ...        ...           ...   \n",
              " 1158   0.083757   0.097714   0.079719   0.066176   0.037992  2.078437e-02   \n",
              " 1159   0.082967   0.096934   0.078952   0.065833   0.037988  2.078265e-02   \n",
              " 1160   0.002280   0.002063   0.002053   0.001237   0.000086  2.247648e-07   \n",
              " 1161   0.000000   0.000000   0.000000   0.000000   0.000000  0.000000e+00   \n",
              " 1162   0.000000   0.000000   0.000000   0.000000   0.000000  0.000000e+00   \n",
              " \n",
              "       0400-0415  0415-0430  0430-0445  0445-0500  \n",
              " 0           0.0        0.0        0.0        0.0  \n",
              " 1           0.0        0.0        0.0        0.0  \n",
              " 2           0.0        0.0        0.0        0.0  \n",
              " 3           0.0        0.0        0.0        0.0  \n",
              " 4           0.0        0.0        0.0        0.0  \n",
              " ...         ...        ...        ...        ...  \n",
              " 1158        0.0        0.0        0.0        0.0  \n",
              " 1159        0.0        0.0        0.0        0.0  \n",
              " 1160        0.0        0.0        0.0        0.0  \n",
              " 1161        0.0        0.0        0.0        0.0  \n",
              " 1162        0.0        0.0        0.0        0.0  \n",
              " \n",
              " [1163 rows x 113 columns],\n",
              " 'Link_Loads_NBT21FRI.csv':                              Link             Line Dir  Order  From NLC  \\\n",
              " 0     ELEu_BAK_NB>LAMu_BAK_NB@BAK         Bakerloo  NB      1       570   \n",
              " 1     LAMu_BAK_NB>WLOu_BAK_NB@BAK         Bakerloo  NB      2       628   \n",
              " 2     WLOu_BAK_NB>EMBu_BAK_NB@BAK         Bakerloo  NB      3       747   \n",
              " 3     EMBu_BAK_NB>CHXu_BAK_NB@BAK         Bakerloo  NB      4       542   \n",
              " 4     CHXu_BAK_NB>PICu_BAK_NB@BAK         Bakerloo  NB      5       718   \n",
              " ...                           ...              ...  ..    ...       ...   \n",
              " 1158  PIMu_VIC_SB>VUXu_VIC_SB@VIC         Victoria  SB     13       776   \n",
              " 1159  VUXu_VIC_SB>STKu_VIC_SB@VIC         Victoria  SB     14       777   \n",
              " 1160  STKu_VIC_SB>BRXu_VIC_SB@VIC         Victoria  SB     15       716   \n",
              " 1161  WLOu_WAC_EB>BNKu_WAC_EB@WAC  Waterloo & City  EB      1       747   \n",
              " 1162  BNKu_WAC_WB>WLOu_WAC_WB@WAC  Waterloo & City  WB      1       513   \n",
              " \n",
              "      From ASC          From Station  To NLC To ASC         To Station  ...  \\\n",
              " 0        ELEu  Elephant & Castle LU     628   LAMu      Lambeth North  ...   \n",
              " 1        LAMu         Lambeth North     747   WLOu        Waterloo LU  ...   \n",
              " 2        WLOu           Waterloo LU     542   EMBu         Embankment  ...   \n",
              " 3        EMBu            Embankment     718   CHXu   Charing Cross LU  ...   \n",
              " 4        CHXu      Charing Cross LU     674   PICu  Piccadilly Circus  ...   \n",
              " ...       ...                   ...     ...    ...                ...  ...   \n",
              " 1158     PIMu               Pimlico     777   VUXu        Vauxhall LU  ...   \n",
              " 1159     VUXu           Vauxhall LU     716   STKu          Stockwell  ...   \n",
              " 1160     STKu             Stockwell     778   BRXu         Brixton LU  ...   \n",
              " 1161     WLOu           Waterloo LU     513   BNKu  Bank and Monument  ...   \n",
              " 1162     BNKu     Bank and Monument     747   WLOu        Waterloo LU  ...   \n",
              " \n",
              "       0230-0245  0245-0300  0300-0315  0315-0330  0330-0345  0345-0400  \\\n",
              " 0      0.000000   0.000000   0.000000   0.000000   0.000000   0.000000   \n",
              " 1      0.000000   0.000000   0.000000   0.000000   0.000000   0.000000   \n",
              " 2      0.000000   0.000000   0.000000   0.000000   0.000000   0.000000   \n",
              " 3      0.000000   0.000000   0.000000   0.000000   0.000000   0.000000   \n",
              " 4      0.000000   0.000000   0.000000   0.000000   0.000000   0.000000   \n",
              " ...         ...        ...        ...        ...        ...        ...   \n",
              " 1158   1.952402   0.796100   0.401726   0.194488   0.071354   0.156227   \n",
              " 1159   1.416284   0.601690   0.287788   0.127639   0.043513   0.089243   \n",
              " 1160   1.414581   0.600456   0.286588   0.126158   0.042848   0.088422   \n",
              " 1161   0.000000   0.000000   0.000000   0.000000   0.000000   0.000000   \n",
              " 1162   0.000000   0.000000   0.000000   0.000000   0.000000   0.000000   \n",
              " \n",
              "       0400-0415  0415-0430  0430-0445  0445-0500  \n",
              " 0      0.000000   0.000000   0.000000   0.000000  \n",
              " 1      0.000000   0.000000   0.000000   0.000000  \n",
              " 2      0.000000   0.000000   0.000000   0.000000  \n",
              " 3      0.000000   0.000000   0.000000   0.000000  \n",
              " 4      0.000000   0.000000   0.000000   0.000000  \n",
              " ...         ...        ...        ...        ...  \n",
              " 1158   0.231015   0.915068   0.883403   0.864963  \n",
              " 1159   0.122675   0.253011   0.235720   0.224811  \n",
              " 1160   0.122221   0.252337   0.235339   0.224433  \n",
              " 1161   0.000000   0.000000   0.000000   0.000000  \n",
              " 1162   0.000000   0.000000   0.000000   0.000000  \n",
              " \n",
              " [1163 rows x 113 columns],\n",
              " 'Link_Loads_NBT21SAT.csv':                              Link             Line Dir  Order  From NLC  \\\n",
              " 0     ELEu_BAK_NB>LAMu_BAK_NB@BAK         Bakerloo  NB      1       570   \n",
              " 1     LAMu_BAK_NB>WLOu_BAK_NB@BAK         Bakerloo  NB      2       628   \n",
              " 2     WLOu_BAK_NB>EMBu_BAK_NB@BAK         Bakerloo  NB      3       747   \n",
              " 3     EMBu_BAK_NB>CHXu_BAK_NB@BAK         Bakerloo  NB      4       542   \n",
              " 4     CHXu_BAK_NB>PICu_BAK_NB@BAK         Bakerloo  NB      5       718   \n",
              " ...                           ...              ...  ..    ...       ...   \n",
              " 1158  PIMu_VIC_SB>VUXu_VIC_SB@VIC         Victoria  SB     13       776   \n",
              " 1159  VUXu_VIC_SB>STKu_VIC_SB@VIC         Victoria  SB     14       777   \n",
              " 1160  STKu_VIC_SB>BRXu_VIC_SB@VIC         Victoria  SB     15       716   \n",
              " 1161  WLOu_WAC_EB>BNKu_WAC_EB@WAC  Waterloo & City  EB      1       747   \n",
              " 1162  BNKu_WAC_WB>WLOu_WAC_WB@WAC  Waterloo & City  WB      1       513   \n",
              " \n",
              "      From ASC          From Station  To NLC To ASC         To Station  ...  \\\n",
              " 0        ELEu  Elephant & Castle LU     628   LAMu      Lambeth North  ...   \n",
              " 1        LAMu         Lambeth North     747   WLOu        Waterloo LU  ...   \n",
              " 2        WLOu           Waterloo LU     542   EMBu         Embankment  ...   \n",
              " 3        EMBu            Embankment     718   CHXu   Charing Cross LU  ...   \n",
              " 4        CHXu      Charing Cross LU     674   PICu  Piccadilly Circus  ...   \n",
              " ...       ...                   ...     ...    ...                ...  ...   \n",
              " 1158     PIMu               Pimlico     777   VUXu        Vauxhall LU  ...   \n",
              " 1159     VUXu           Vauxhall LU     716   STKu          Stockwell  ...   \n",
              " 1160     STKu             Stockwell     778   BRXu         Brixton LU  ...   \n",
              " 1161     WLOu           Waterloo LU     513   BNKu  Bank and Monument  ...   \n",
              " 1162     BNKu     Bank and Monument     747   WLOu        Waterloo LU  ...   \n",
              " \n",
              "       0230-0245  0245-0300  0300-0315  0315-0330  0330-0345  0345-0400  \\\n",
              " 0      0.000000   0.000000   0.000000   0.000000   0.000000   0.000000   \n",
              " 1      0.000000   0.000000   0.000000   0.000000   0.000000   0.000000   \n",
              " 2      0.000000   0.000000   0.000000   0.000000   0.000000   0.000000   \n",
              " 3      0.000000   0.000000   0.000000   0.000000   0.000000   0.000000   \n",
              " 4      0.000000   0.000000   0.000000   0.000000   0.000000   0.000000   \n",
              " ...         ...        ...        ...        ...        ...        ...   \n",
              " 1158   4.037951   1.926351   0.315336   0.224982   0.113763   0.309102   \n",
              " 1159   2.716148   1.268677   0.146487   0.114693   0.104989   0.286152   \n",
              " 1160   2.151784   0.968306   0.076643   0.063969   0.095495   0.261463   \n",
              " 1161   0.000000   0.000000   0.000000   0.000000   0.000000   0.000000   \n",
              " 1162   0.000000   0.000000   0.000000   0.000000   0.000000   0.000000   \n",
              " \n",
              "       0400-0415  0415-0430  0430-0445  0445-0500  \n",
              " 0      0.000000   0.000000   0.000000   0.000000  \n",
              " 1      0.000000   0.000000   0.000000   0.000000  \n",
              " 2      0.000000   0.000000   0.000000   0.000000  \n",
              " 3      0.000000   0.000000   0.000000   0.000000  \n",
              " 4      0.000000   0.000000   0.000000   0.000000  \n",
              " ...         ...        ...        ...        ...  \n",
              " 1158   0.527963   1.880691   1.833463   1.787310  \n",
              " 1159   0.654889   1.740547   1.697001   1.654850  \n",
              " 1160   0.554457   1.267355   1.227745   1.189486  \n",
              " 1161   0.000000   0.000000   0.000000   0.000000  \n",
              " 1162   0.000000   0.000000   0.000000   0.000000  \n",
              " \n",
              " [1163 rows x 113 columns],\n",
              " 'Link_Loads_NBT21SUN.csv':                              Link             Line Dir  Order  From NLC  \\\n",
              " 0     ELEu_BAK_NB>LAMu_BAK_NB@BAK         Bakerloo  NB      1       570   \n",
              " 1     LAMu_BAK_NB>WLOu_BAK_NB@BAK         Bakerloo  NB      2       628   \n",
              " 2     WLOu_BAK_NB>EMBu_BAK_NB@BAK         Bakerloo  NB      3       747   \n",
              " 3     EMBu_BAK_NB>CHXu_BAK_NB@BAK         Bakerloo  NB      4       542   \n",
              " 4     CHXu_BAK_NB>PICu_BAK_NB@BAK         Bakerloo  NB      5       718   \n",
              " ...                           ...              ...  ..    ...       ...   \n",
              " 1158  PIMu_VIC_SB>VUXu_VIC_SB@VIC         Victoria  SB     13       776   \n",
              " 1159  VUXu_VIC_SB>STKu_VIC_SB@VIC         Victoria  SB     14       777   \n",
              " 1160  STKu_VIC_SB>BRXu_VIC_SB@VIC         Victoria  SB     15       716   \n",
              " 1161  WLOu_WAC_EB>BNKu_WAC_EB@WAC  Waterloo & City  EB      1       747   \n",
              " 1162  BNKu_WAC_WB>WLOu_WAC_WB@WAC  Waterloo & City  WB      1       513   \n",
              " \n",
              "      From ASC          From Station  To NLC To ASC         To Station  ...  \\\n",
              " 0        ELEu  Elephant & Castle LU     628   LAMu      Lambeth North  ...   \n",
              " 1        LAMu         Lambeth North     747   WLOu        Waterloo LU  ...   \n",
              " 2        WLOu           Waterloo LU     542   EMBu         Embankment  ...   \n",
              " 3        EMBu            Embankment     718   CHXu   Charing Cross LU  ...   \n",
              " 4        CHXu      Charing Cross LU     674   PICu  Piccadilly Circus  ...   \n",
              " ...       ...                   ...     ...    ...                ...  ...   \n",
              " 1158     PIMu               Pimlico     777   VUXu        Vauxhall LU  ...   \n",
              " 1159     VUXu           Vauxhall LU     716   STKu          Stockwell  ...   \n",
              " 1160     STKu             Stockwell     778   BRXu         Brixton LU  ...   \n",
              " 1161     WLOu           Waterloo LU     513   BNKu  Bank and Monument  ...   \n",
              " 1162     BNKu     Bank and Monument     747   WLOu        Waterloo LU  ...   \n",
              " \n",
              "       0230-0245  0245-0300  0300-0315  0315-0330  0330-0345  0345-0400  \\\n",
              " 0           0.0   0.000000   0.000000   0.000000   0.000000   0.000000   \n",
              " 1           0.0   0.000000   0.000000   0.000000   0.000000   0.000000   \n",
              " 2           0.0   0.000000   0.000000   0.000000   0.000000   0.000000   \n",
              " 3           0.0   0.000000   0.000000   0.000000   0.000000   0.000000   \n",
              " 4           0.0   0.000000   0.000000   0.000000   0.000000   0.000000   \n",
              " ...         ...        ...        ...        ...        ...        ...   \n",
              " 1158        0.0   0.003005   0.004912   0.010807   0.013267   0.023666   \n",
              " 1159        0.0   0.002052   0.003356   0.007570   0.009352   0.017303   \n",
              " 1160        0.0   0.001457   0.002383   0.005346   0.006660   0.011009   \n",
              " 1161        0.0   0.000000   0.000000   0.000000   0.000000   0.000000   \n",
              " 1162        0.0   0.000000   0.000000   0.000000   0.000000   0.000000   \n",
              " \n",
              "       0400-0415  0415-0430  0430-0445  0445-0500  \n",
              " 0      0.000000   0.000000   0.000000   0.000000  \n",
              " 1      0.000000   0.000000   0.000000   0.000000  \n",
              " 2      0.000000   0.000000   0.000000   0.000000  \n",
              " 3      0.000000   0.000000   0.000000   0.000000  \n",
              " 4      0.000000   0.000000   0.000000   0.000000  \n",
              " ...         ...        ...        ...        ...  \n",
              " 1158   0.023129   0.025144   0.019249   0.016789  \n",
              " 1159   0.017180   0.018926   0.014713   0.012930  \n",
              " 1160   0.010792   0.011856   0.008893   0.007580  \n",
              " 1161   0.000000   0.000000   0.000000   0.000000  \n",
              " 1162   0.000000   0.000000   0.000000   0.000000  \n",
              " \n",
              " [1163 rows x 113 columns],\n",
              " 'Link_Loads_NBT22MON.csv':                              Link             Line Dir  Order  From NLC  \\\n",
              " 0     ELEu_BAK_NB>LAMu_BAK_NB@BAK         Bakerloo  NB      1       570   \n",
              " 1     LAMu_BAK_NB>WLOu_BAK_NB@BAK         Bakerloo  NB      2       628   \n",
              " 2     WLOu_BAK_NB>EMBu_BAK_NB@BAK         Bakerloo  NB      3       747   \n",
              " 3     EMBu_BAK_NB>CHXu_BAK_NB@BAK         Bakerloo  NB      4       542   \n",
              " 4     CHXu_BAK_NB>PICu_BAK_NB@BAK         Bakerloo  NB      5       718   \n",
              " ...                           ...              ...  ..    ...       ...   \n",
              " 1182  PIMu_VIC_SB>VUXu_VIC_SB@VIC         Victoria  SB     13       776   \n",
              " 1183  VUXu_VIC_SB>STKu_VIC_SB@VIC         Victoria  SB     14       777   \n",
              " 1184  STKu_VIC_SB>BRXu_VIC_SB@VIC         Victoria  SB     15       716   \n",
              " 1185  WLOu_WAC_EB>BNKu_WAC_EB@WAC  Waterloo & City  EB      1       747   \n",
              " 1186  BNKu_WAC_WB>WLOu_WAC_WB@WAC  Waterloo & City  WB      1       513   \n",
              " \n",
              "      From ASC          From Station  To NLC To ASC         To Station  ...  \\\n",
              " 0        ELEu  Elephant & Castle LU     628   LAMu      Lambeth North  ...   \n",
              " 1        LAMu         Lambeth North     747   WLOu        Waterloo LU  ...   \n",
              " 2        WLOu           Waterloo LU     542   EMBu         Embankment  ...   \n",
              " 3        EMBu            Embankment     718   CHXu   Charing Cross LU  ...   \n",
              " 4        CHXu      Charing Cross LU     674   PICu  Piccadilly Circus  ...   \n",
              " ...       ...                   ...     ...    ...                ...  ...   \n",
              " 1182     PIMu               Pimlico     777   VUXu        Vauxhall LU  ...   \n",
              " 1183     VUXu           Vauxhall LU     716   STKu          Stockwell  ...   \n",
              " 1184     STKu             Stockwell     778   BRXu         Brixton LU  ...   \n",
              " 1185     WLOu           Waterloo LU     513   BNKu  Bank and Monument  ...   \n",
              " 1186     BNKu     Bank and Monument     747   WLOu        Waterloo LU  ...   \n",
              " \n",
              "       0230-0245  0245-0300  0300-0315  0315-0330  0330-0345  0345-0400  \\\n",
              " 0             0          0          0          0          0          0   \n",
              " 1             0          0          0          0          0          0   \n",
              " 2             0          0          0          0          0          0   \n",
              " 3             0          0          0          0          0          0   \n",
              " 4             0          0          0          0          0          0   \n",
              " ...         ...        ...        ...        ...        ...        ...   \n",
              " 1182          0          0          0          0          0          0   \n",
              " 1183          0          0          0          0          0          0   \n",
              " 1184          0          0          0          0          0          0   \n",
              " 1185          0          0          0          0          0          0   \n",
              " 1186          0          0          0          0          0          0   \n",
              " \n",
              "       0400-0415  0415-0430  0430-0445  0445-0500  \n",
              " 0           0.0        0.0        0.0        0.0  \n",
              " 1           0.0        0.0        0.0        0.0  \n",
              " 2           0.0        0.0        0.0        0.0  \n",
              " 3           0.0        0.0        0.0        0.0  \n",
              " 4           0.0        0.0        0.0        0.0  \n",
              " ...         ...        ...        ...        ...  \n",
              " 1182        0.0        0.0        0.0        0.0  \n",
              " 1183        0.0        0.0        0.0        0.0  \n",
              " 1184        0.0        0.0        0.0        0.0  \n",
              " 1185        0.0        0.0        0.0        0.0  \n",
              " 1186        0.0        0.0        0.0        0.0  \n",
              " \n",
              " [1187 rows x 113 columns],\n",
              " 'Link_Loads_NBT22TWT.csv':                              Link             Line Dir  Order  From NLC  \\\n",
              " 0     ELEu_BAK_NB>LAMu_BAK_NB@BAK         Bakerloo  NB      1       570   \n",
              " 1     LAMu_BAK_NB>WLOu_BAK_NB@BAK         Bakerloo  NB      2       628   \n",
              " 2     WLOu_BAK_NB>EMBu_BAK_NB@BAK         Bakerloo  NB      3       747   \n",
              " 3     EMBu_BAK_NB>CHXu_BAK_NB@BAK         Bakerloo  NB      4       542   \n",
              " 4     CHXu_BAK_NB>PICu_BAK_NB@BAK         Bakerloo  NB      5       718   \n",
              " ...                           ...              ...  ..    ...       ...   \n",
              " 1182  PIMu_VIC_SB>VUXu_VIC_SB@VIC         Victoria  SB     13       776   \n",
              " 1183  VUXu_VIC_SB>STKu_VIC_SB@VIC         Victoria  SB     14       777   \n",
              " 1184  STKu_VIC_SB>BRXu_VIC_SB@VIC         Victoria  SB     15       716   \n",
              " 1185  WLOu_WAC_EB>BNKu_WAC_EB@WAC  Waterloo & City  EB      1       747   \n",
              " 1186  BNKu_WAC_WB>WLOu_WAC_WB@WAC  Waterloo & City  WB      1       513   \n",
              " \n",
              "      From ASC          From Station  To NLC To ASC         To Station  ...  \\\n",
              " 0        ELEu  Elephant & Castle LU     628   LAMu      Lambeth North  ...   \n",
              " 1        LAMu         Lambeth North     747   WLOu        Waterloo LU  ...   \n",
              " 2        WLOu           Waterloo LU     542   EMBu         Embankment  ...   \n",
              " 3        EMBu            Embankment     718   CHXu   Charing Cross LU  ...   \n",
              " 4        CHXu      Charing Cross LU     674   PICu  Piccadilly Circus  ...   \n",
              " ...       ...                   ...     ...    ...                ...  ...   \n",
              " 1182     PIMu               Pimlico     777   VUXu        Vauxhall LU  ...   \n",
              " 1183     VUXu           Vauxhall LU     716   STKu          Stockwell  ...   \n",
              " 1184     STKu             Stockwell     778   BRXu         Brixton LU  ...   \n",
              " 1185     WLOu           Waterloo LU     513   BNKu  Bank and Monument  ...   \n",
              " 1186     BNKu     Bank and Monument     747   WLOu        Waterloo LU  ...   \n",
              " \n",
              "       0230-0245  0245-0300  0300-0315  0315-0330  0330-0345  0345-0400  \\\n",
              " 0             0          0          0          0          0          0   \n",
              " 1             0          0          0          0          0          0   \n",
              " 2             0          0          0          0          0          0   \n",
              " 3             0          0          0          0          0          0   \n",
              " 4             0          0          0          0          0          0   \n",
              " ...         ...        ...        ...        ...        ...        ...   \n",
              " 1182          0          0          0          0          0          0   \n",
              " 1183          0          0          0          0          0          0   \n",
              " 1184          0          0          0          0          0          0   \n",
              " 1185          0          0          0          0          0          0   \n",
              " 1186          0          0          0          0          0          0   \n",
              " \n",
              "       0400-0415  0415-0430  0430-0445  0445-0500  \n",
              " 0           0.0        0.0        0.0        0.0  \n",
              " 1           0.0        0.0        0.0        0.0  \n",
              " 2           0.0        0.0        0.0        0.0  \n",
              " 3           0.0        0.0        0.0        0.0  \n",
              " 4           0.0        0.0        0.0        0.0  \n",
              " ...         ...        ...        ...        ...  \n",
              " 1182        0.0        0.0        0.0        0.0  \n",
              " 1183        0.0        0.0        0.0        0.0  \n",
              " 1184        0.0        0.0        0.0        0.0  \n",
              " 1185        0.0        0.0        0.0        0.0  \n",
              " 1186        0.0        0.0        0.0        0.0  \n",
              " \n",
              " [1187 rows x 113 columns],\n",
              " 'Link_Loads_NBT22FRI.csv':                              Link             Line Dir  Order  From NLC  \\\n",
              " 0     ELEu_BAK_NB>LAMu_BAK_NB@BAK         Bakerloo  NB      1       570   \n",
              " 1     LAMu_BAK_NB>WLOu_BAK_NB@BAK         Bakerloo  NB      2       628   \n",
              " 2     WLOu_BAK_NB>EMBu_BAK_NB@BAK         Bakerloo  NB      3       747   \n",
              " 3     EMBu_BAK_NB>CHXu_BAK_NB@BAK         Bakerloo  NB      4       542   \n",
              " 4     CHXu_BAK_NB>PICu_BAK_NB@BAK         Bakerloo  NB      5       718   \n",
              " ...                           ...              ...  ..    ...       ...   \n",
              " 1182  PIMu_VIC_SB>VUXu_VIC_SB@VIC         Victoria  SB     13       776   \n",
              " 1183  VUXu_VIC_SB>STKu_VIC_SB@VIC         Victoria  SB     14       777   \n",
              " 1184  STKu_VIC_SB>BRXu_VIC_SB@VIC         Victoria  SB     15       716   \n",
              " 1185  WLOu_WAC_EB>BNKu_WAC_EB@WAC  Waterloo & City  EB      1       747   \n",
              " 1186  BNKu_WAC_WB>WLOu_WAC_WB@WAC  Waterloo & City  WB      1       513   \n",
              " \n",
              "      From ASC          From Station  To NLC To ASC         To Station  ...  \\\n",
              " 0        ELEu  Elephant & Castle LU     628   LAMu      Lambeth North  ...   \n",
              " 1        LAMu         Lambeth North     747   WLOu        Waterloo LU  ...   \n",
              " 2        WLOu           Waterloo LU     542   EMBu         Embankment  ...   \n",
              " 3        EMBu            Embankment     718   CHXu   Charing Cross LU  ...   \n",
              " 4        CHXu      Charing Cross LU     674   PICu  Piccadilly Circus  ...   \n",
              " ...       ...                   ...     ...    ...                ...  ...   \n",
              " 1182     PIMu               Pimlico     777   VUXu        Vauxhall LU  ...   \n",
              " 1183     VUXu           Vauxhall LU     716   STKu          Stockwell  ...   \n",
              " 1184     STKu             Stockwell     778   BRXu         Brixton LU  ...   \n",
              " 1185     WLOu           Waterloo LU     513   BNKu  Bank and Monument  ...   \n",
              " 1186     BNKu     Bank and Monument     747   WLOu        Waterloo LU  ...   \n",
              " \n",
              "        0230-0245   0245-0300  0300-0315  0315-0330  0330-0345  0345-0400  \\\n",
              " 0       0.000000    0.000000   0.000000   0.000000   0.000000   0.000000   \n",
              " 1       0.000000    0.000000   0.000000   0.000000   0.000000   0.000000   \n",
              " 2       0.000000    0.000000   0.000000   0.000000   0.000000   0.000000   \n",
              " 3       0.000000    0.000000   0.000000   0.000000   0.000000   0.000000   \n",
              " 4       0.000000    0.000000   0.000000   0.000000   0.000000   0.000000   \n",
              " ...          ...         ...        ...        ...        ...        ...   \n",
              " 1182  114.054547  108.451625  87.023135  85.292787  67.662375  86.269405   \n",
              " 1183   94.329840   89.950978  74.445523  72.241498  61.213690  76.571733   \n",
              " 1184   80.867535   78.787177  56.969694  62.386147  47.355979  61.599683   \n",
              " 1185    0.000000    0.000000   0.000000   0.000000   0.000000   0.000000   \n",
              " 1186    0.000000    0.000000   0.000000   0.000000   0.000000   0.000000   \n",
              " \n",
              "       0400-0415  0415-0430  0430-0445  0445-0500  \n",
              " 0      0.000000   0.000000   0.000000   0.000000  \n",
              " 1      0.000000   0.000000   0.000000   0.000000  \n",
              " 2      0.000000   0.000000   0.000000   0.000000  \n",
              " 3      0.000000   0.000000   0.000000   0.000000  \n",
              " 4      0.000000   0.000000   0.000000   0.000000  \n",
              " ...         ...        ...        ...        ...  \n",
              " 1182  76.141909  65.956351  44.057884  32.433551  \n",
              " 1183  66.931255  53.658156  34.540936  24.159296  \n",
              " 1184  52.293697  48.359492  29.209847  22.444741  \n",
              " 1185   0.000000   0.000000   0.000000   0.000000  \n",
              " 1186   0.000000   0.000000   0.000000   0.000000  \n",
              " \n",
              " [1187 rows x 113 columns],\n",
              " 'Link_Loads_NBT22SAT.csv':                              Link             Line Dir  Order  From NLC  \\\n",
              " 0     ELEu_BAK_NB>LAMu_BAK_NB@BAK         Bakerloo  NB      1       570   \n",
              " 1     LAMu_BAK_NB>WLOu_BAK_NB@BAK         Bakerloo  NB      2       628   \n",
              " 2     WLOu_BAK_NB>EMBu_BAK_NB@BAK         Bakerloo  NB      3       747   \n",
              " 3     EMBu_BAK_NB>CHXu_BAK_NB@BAK         Bakerloo  NB      4       542   \n",
              " 4     CHXu_BAK_NB>PICu_BAK_NB@BAK         Bakerloo  NB      5       718   \n",
              " ...                           ...              ...  ..    ...       ...   \n",
              " 1182  PIMu_VIC_SB>VUXu_VIC_SB@VIC         Victoria  SB     13       776   \n",
              " 1183  VUXu_VIC_SB>STKu_VIC_SB@VIC         Victoria  SB     14       777   \n",
              " 1184  STKu_VIC_SB>BRXu_VIC_SB@VIC         Victoria  SB     15       716   \n",
              " 1185  WLOu_WAC_EB>BNKu_WAC_EB@WAC  Waterloo & City  EB      1       747   \n",
              " 1186  BNKu_WAC_WB>WLOu_WAC_WB@WAC  Waterloo & City  WB      1       513   \n",
              " \n",
              "      From ASC          From Station  To NLC To ASC         To Station  ...  \\\n",
              " 0        ELEu  Elephant & Castle LU     628   LAMu      Lambeth North  ...   \n",
              " 1        LAMu         Lambeth North     747   WLOu        Waterloo LU  ...   \n",
              " 2        WLOu           Waterloo LU     542   EMBu         Embankment  ...   \n",
              " 3        EMBu            Embankment     718   CHXu   Charing Cross LU  ...   \n",
              " 4        CHXu      Charing Cross LU     674   PICu  Piccadilly Circus  ...   \n",
              " ...       ...                   ...     ...    ...                ...  ...   \n",
              " 1182     PIMu               Pimlico     777   VUXu        Vauxhall LU  ...   \n",
              " 1183     VUXu           Vauxhall LU     716   STKu          Stockwell  ...   \n",
              " 1184     STKu             Stockwell     778   BRXu         Brixton LU  ...   \n",
              " 1185     WLOu           Waterloo LU     513   BNKu  Bank and Monument  ...   \n",
              " 1186     BNKu     Bank and Monument     747   WLOu        Waterloo LU  ...   \n",
              " \n",
              "       0230-0245  0245-0300  0300-0315  0315-0330  0330-0345  0345-0400  \\\n",
              " 0      0.000000   0.000000   0.000000   0.000000   0.000000   0.000000   \n",
              " 1      0.000000   0.000000   0.000000   0.000000   0.000000   0.000000   \n",
              " 2      0.000000   0.000000   0.000000   0.000000   0.000000   0.000000   \n",
              " 3      0.000000   0.000000   0.000000   0.000000   0.000000   0.000000   \n",
              " 4      0.000000   0.000000   0.000000   0.000000   0.000000   0.000000   \n",
              " ...         ...        ...        ...        ...        ...        ...   \n",
              " 1182  22.812320  21.010389  17.044288   5.331849  25.624738  54.037451   \n",
              " 1183  22.809537  21.010377  19.397449   7.032662  22.826060  49.293768   \n",
              " 1184   0.003093   0.003367   2.358972  11.011601  24.331565  45.562087   \n",
              " 1185   0.000000   0.000000   0.000000   0.000000   0.000000   0.000000   \n",
              " 1186   0.000000   0.000000   0.000000   0.000000   0.000000   0.000000   \n",
              " \n",
              "       0400-0415  0415-0430  0430-0445  0445-0500  \n",
              " 0      0.000000   0.000000   0.000000   0.000000  \n",
              " 1      0.000000   0.000000   0.000000   0.000000  \n",
              " 2      0.000000   0.000000   0.000000   0.000000  \n",
              " 3      0.000000   0.000000   0.000000   0.000000  \n",
              " 4      0.000000   0.000000   0.000000   0.000000  \n",
              " ...         ...        ...        ...        ...  \n",
              " 1182  70.292410  86.505700  82.296339  62.003449  \n",
              " 1183  62.810672  74.133322  70.576309  54.782911  \n",
              " 1184  53.919912  62.505096  53.852185  40.529854  \n",
              " 1185   0.000000   0.000000   0.000000   0.000000  \n",
              " 1186   0.000000   0.000000   0.000000   0.000000  \n",
              " \n",
              " [1187 rows x 113 columns],\n",
              " 'Link_Loads_NBT22SUN.csv':                              Link             Line Dir  Order  From NLC  \\\n",
              " 0     ELEu_BAK_NB>LAMu_BAK_NB@BAK         Bakerloo  NB      1       570   \n",
              " 1     LAMu_BAK_NB>WLOu_BAK_NB@BAK         Bakerloo  NB      2       628   \n",
              " 2     WLOu_BAK_NB>EMBu_BAK_NB@BAK         Bakerloo  NB      3       747   \n",
              " 3     EMBu_BAK_NB>CHXu_BAK_NB@BAK         Bakerloo  NB      4       542   \n",
              " 4     CHXu_BAK_NB>PICu_BAK_NB@BAK         Bakerloo  NB      5       718   \n",
              " ...                           ...              ...  ..    ...       ...   \n",
              " 1182  PIMu_VIC_SB>VUXu_VIC_SB@VIC         Victoria  SB     13       776   \n",
              " 1183  VUXu_VIC_SB>STKu_VIC_SB@VIC         Victoria  SB     14       777   \n",
              " 1184  STKu_VIC_SB>BRXu_VIC_SB@VIC         Victoria  SB     15       716   \n",
              " 1185  WLOu_WAC_EB>BNKu_WAC_EB@WAC  Waterloo & City  EB      1       747   \n",
              " 1186  BNKu_WAC_WB>WLOu_WAC_WB@WAC  Waterloo & City  WB      1       513   \n",
              " \n",
              "      From ASC          From Station  To NLC To ASC         To Station  ...  \\\n",
              " 0        ELEu  Elephant & Castle LU     628   LAMu      Lambeth North  ...   \n",
              " 1        LAMu         Lambeth North     747   WLOu        Waterloo LU  ...   \n",
              " 2        WLOu           Waterloo LU     542   EMBu         Embankment  ...   \n",
              " 3        EMBu            Embankment     718   CHXu   Charing Cross LU  ...   \n",
              " 4        CHXu      Charing Cross LU     674   PICu  Piccadilly Circus  ...   \n",
              " ...       ...                   ...     ...    ...                ...  ...   \n",
              " 1182     PIMu               Pimlico     777   VUXu        Vauxhall LU  ...   \n",
              " 1183     VUXu           Vauxhall LU     716   STKu          Stockwell  ...   \n",
              " 1184     STKu             Stockwell     778   BRXu         Brixton LU  ...   \n",
              " 1185     WLOu           Waterloo LU     513   BNKu  Bank and Monument  ...   \n",
              " 1186     BNKu     Bank and Monument     747   WLOu        Waterloo LU  ...   \n",
              " \n",
              "       0230-0245  0245-0300  0300-0315  0315-0330  0330-0345  0345-0400  \\\n",
              " 0           0.0   0.000000   0.000000   0.000000   0.000000   0.000000   \n",
              " 1           0.0   0.000000   0.000000   0.000000   0.000000   0.000000   \n",
              " 2           0.0   0.000000   0.000000   0.000000   0.000000   0.000000   \n",
              " 3           0.0   0.000000   0.000000   0.000000   0.000000   0.000000   \n",
              " 4           0.0   0.000000   0.000000   0.000000   0.000000   0.000000   \n",
              " ...         ...        ...        ...        ...        ...        ...   \n",
              " 1182        0.0   0.003089   0.016888   0.023247   0.029812   0.033497   \n",
              " 1183        0.0   0.002691   0.016254   0.022058   0.028425   0.031795   \n",
              " 1184        0.0   0.002232   0.003708   0.008892   0.010276   0.013314   \n",
              " 1185        0.0   0.000000   0.000000   0.000000   0.000000   0.000000   \n",
              " 1186        0.0   0.000000   0.000000   0.000000   0.000000   0.000000   \n",
              " \n",
              "       0400-0415  0415-0430  0430-0445  0445-0500  \n",
              " 0      0.000000   0.000000   0.000000   0.000000  \n",
              " 1      0.000000   0.000000   0.000000   0.000000  \n",
              " 2      0.000000   0.000000   0.000000   0.000000  \n",
              " 3      0.000000   0.000000   0.000000   0.000000  \n",
              " 4      0.000000   0.000000   0.000000   0.000000  \n",
              " ...         ...        ...        ...        ...  \n",
              " 1182   0.036018   0.024636   0.018277   0.011712  \n",
              " 1183   0.034363   0.023009   0.017205   0.010838  \n",
              " 1184   0.012762   0.013308   0.008124   0.006740  \n",
              " 1185   0.000000   0.000000   0.000000   0.000000  \n",
              " 1186   0.000000   0.000000   0.000000   0.000000  \n",
              " \n",
              " [1187 rows x 113 columns],\n",
              " 'Link_Loads_NBT23MON.csv':                              Link             Line Dir  Order  From NLC  \\\n",
              " 0     ELEu_BAK_NB>LAMu_BAK_NB@BAK         Bakerloo  NB      1       570   \n",
              " 1     LAMu_BAK_NB>WLOu_BAK_NB@BAK         Bakerloo  NB      2       628   \n",
              " 2     WLOu_BAK_NB>EMBu_BAK_NB@BAK         Bakerloo  NB      3       747   \n",
              " 3     EMBu_BAK_NB>CHXu_BAK_NB@BAK         Bakerloo  NB      4       542   \n",
              " 4     CHXu_BAK_NB>PICu_BAK_NB@BAK         Bakerloo  NB      5       718   \n",
              " ...                           ...              ...  ..    ...       ...   \n",
              " 1201  PIMu_VIC_SB>VUXu_VIC_SB@VIC         Victoria  SB     13       776   \n",
              " 1202  VUXu_VIC_SB>STKu_VIC_SB@VIC         Victoria  SB     14       777   \n",
              " 1203  STKu_VIC_SB>BRXu_VIC_SB@VIC         Victoria  SB     15       716   \n",
              " 1204  WLOu_WAC_EB>BNKu_WAC_EB@WAC  Waterloo & City  EB      1       747   \n",
              " 1205  BNKu_WAC_WB>WLOu_WAC_WB@WAC  Waterloo & City  WB      1       513   \n",
              " \n",
              "      From ASC          From Station  To NLC To ASC         To Station  ...  \\\n",
              " 0        ELEu  Elephant & Castle LU     628   LAMu      Lambeth North  ...   \n",
              " 1        LAMu         Lambeth North     747   WLOu        Waterloo LU  ...   \n",
              " 2        WLOu           Waterloo LU     542   EMBu         Embankment  ...   \n",
              " 3        EMBu            Embankment     718   CHXu   Charing Cross LU  ...   \n",
              " 4        CHXu      Charing Cross LU     674   PICu  Piccadilly Circus  ...   \n",
              " ...       ...                   ...     ...    ...                ...  ...   \n",
              " 1201     PIMu               Pimlico     777   VUXu        Vauxhall LU  ...   \n",
              " 1202     VUXu           Vauxhall LU     716   STKu          Stockwell  ...   \n",
              " 1203     STKu             Stockwell     778   BRXu         Brixton LU  ...   \n",
              " 1204     WLOu           Waterloo LU     513   BNKu  Bank and Monument  ...   \n",
              " 1205     BNKu     Bank and Monument     747   WLOu        Waterloo LU  ...   \n",
              " \n",
              "       0230-0245  0245-0300  0300-0315  0315-0330  0330-0345  0345-0400  \\\n",
              " 0             0          0          0          0          0          0   \n",
              " 1             0          0          0          0          0          0   \n",
              " 2             0          0          0          0          0          0   \n",
              " 3             0          0          0          0          0          0   \n",
              " 4             0          0          0          0          0          0   \n",
              " ...         ...        ...        ...        ...        ...        ...   \n",
              " 1201          0          0          0          0          0          0   \n",
              " 1202          0          0          0          0          0          0   \n",
              " 1203          0          0          0          0          0          0   \n",
              " 1204          0          0          0          0          0          0   \n",
              " 1205          0          0          0          0          0          0   \n",
              " \n",
              "       0400-0415  0415-0430  0430-0445  0445-0500  \n",
              " 0           0.0        0.0        0.0        0.0  \n",
              " 1           0.0        0.0        0.0        0.0  \n",
              " 2           0.0        0.0        0.0        0.0  \n",
              " 3           0.0        0.0        0.0        0.0  \n",
              " 4           0.0        0.0        0.0        0.0  \n",
              " ...         ...        ...        ...        ...  \n",
              " 1201        0.0        0.0        0.0        0.0  \n",
              " 1202        0.0        0.0        0.0        0.0  \n",
              " 1203        0.0        0.0        0.0        0.0  \n",
              " 1204        0.0        0.0        0.0        0.0  \n",
              " 1205        0.0        0.0        0.0        0.0  \n",
              " \n",
              " [1206 rows x 113 columns],\n",
              " 'Link_Loads_NBT23TWT.csv':                              Link             Line Dir  Order  From NLC  \\\n",
              " 0     ELEu_BAK_NB>LAMu_BAK_NB@BAK         Bakerloo  NB      1       570   \n",
              " 1     LAMu_BAK_NB>WLOu_BAK_NB@BAK         Bakerloo  NB      2       628   \n",
              " 2     WLOu_BAK_NB>EMBu_BAK_NB@BAK         Bakerloo  NB      3       747   \n",
              " 3     EMBu_BAK_NB>CHXu_BAK_NB@BAK         Bakerloo  NB      4       542   \n",
              " 4     CHXu_BAK_NB>PICu_BAK_NB@BAK         Bakerloo  NB      5       718   \n",
              " ...                           ...              ...  ..    ...       ...   \n",
              " 1201  PIMu_VIC_SB>VUXu_VIC_SB@VIC         Victoria  SB     13       776   \n",
              " 1202  VUXu_VIC_SB>STKu_VIC_SB@VIC         Victoria  SB     14       777   \n",
              " 1203  STKu_VIC_SB>BRXu_VIC_SB@VIC         Victoria  SB     15       716   \n",
              " 1204  WLOu_WAC_EB>BNKu_WAC_EB@WAC  Waterloo & City  EB      1       747   \n",
              " 1205  BNKu_WAC_WB>WLOu_WAC_WB@WAC  Waterloo & City  WB      1       513   \n",
              " \n",
              "      From ASC          From Station  To NLC To ASC         To Station  ...  \\\n",
              " 0        ELEu  Elephant & Castle LU     628   LAMu      Lambeth North  ...   \n",
              " 1        LAMu         Lambeth North     747   WLOu        Waterloo LU  ...   \n",
              " 2        WLOu           Waterloo LU     542   EMBu         Embankment  ...   \n",
              " 3        EMBu            Embankment     718   CHXu   Charing Cross LU  ...   \n",
              " 4        CHXu      Charing Cross LU     674   PICu  Piccadilly Circus  ...   \n",
              " ...       ...                   ...     ...    ...                ...  ...   \n",
              " 1201     PIMu               Pimlico     777   VUXu        Vauxhall LU  ...   \n",
              " 1202     VUXu           Vauxhall LU     716   STKu          Stockwell  ...   \n",
              " 1203     STKu             Stockwell     778   BRXu         Brixton LU  ...   \n",
              " 1204     WLOu           Waterloo LU     513   BNKu  Bank and Monument  ...   \n",
              " 1205     BNKu     Bank and Monument     747   WLOu        Waterloo LU  ...   \n",
              " \n",
              "       0230-0245  0245-0300  0300-0315  0315-0330  0330-0345  0345-0400  \\\n",
              " 0             0          0          0          0          0          0   \n",
              " 1             0          0          0          0          0          0   \n",
              " 2             0          0          0          0          0          0   \n",
              " 3             0          0          0          0          0          0   \n",
              " 4             0          0          0          0          0          0   \n",
              " ...         ...        ...        ...        ...        ...        ...   \n",
              " 1201          0          0          0          0          0          0   \n",
              " 1202          0          0          0          0          0          0   \n",
              " 1203          0          0          0          0          0          0   \n",
              " 1204          0          0          0          0          0          0   \n",
              " 1205          0          0          0          0          0          0   \n",
              " \n",
              "       0400-0415  0415-0430  0430-0445  0445-0500  \n",
              " 0           0.0        0.0        0.0        0.0  \n",
              " 1           0.0        0.0        0.0        0.0  \n",
              " 2           0.0        0.0        0.0        0.0  \n",
              " 3           0.0        0.0        0.0        0.0  \n",
              " 4           0.0        0.0        0.0        0.0  \n",
              " ...         ...        ...        ...        ...  \n",
              " 1201        0.0        0.0        0.0        0.0  \n",
              " 1202        0.0        0.0        0.0        0.0  \n",
              " 1203        0.0        0.0        0.0        0.0  \n",
              " 1204        0.0        0.0        0.0        0.0  \n",
              " 1205        0.0        0.0        0.0        0.0  \n",
              " \n",
              " [1206 rows x 113 columns],\n",
              " 'Link_Loads_NBT23FRI.csv':                              Link             Line Dir  Order  From NLC  \\\n",
              " 0     ELEu_BAK_NB>LAMu_BAK_NB@BAK         Bakerloo  NB      1       570   \n",
              " 1     LAMu_BAK_NB>WLOu_BAK_NB@BAK         Bakerloo  NB      2       628   \n",
              " 2     WLOu_BAK_NB>EMBu_BAK_NB@BAK         Bakerloo  NB      3       747   \n",
              " 3     EMBu_BAK_NB>CHXu_BAK_NB@BAK         Bakerloo  NB      4       542   \n",
              " 4     CHXu_BAK_NB>PICu_BAK_NB@BAK         Bakerloo  NB      5       718   \n",
              " ...                           ...              ...  ..    ...       ...   \n",
              " 1201  PIMu_VIC_SB>VUXu_VIC_SB@VIC         Victoria  SB     13       776   \n",
              " 1202  VUXu_VIC_SB>STKu_VIC_SB@VIC         Victoria  SB     14       777   \n",
              " 1203  STKu_VIC_SB>BRXu_VIC_SB@VIC         Victoria  SB     15       716   \n",
              " 1204  WLOu_WAC_EB>BNKu_WAC_EB@WAC  Waterloo & City  EB      1       747   \n",
              " 1205  BNKu_WAC_WB>WLOu_WAC_WB@WAC  Waterloo & City  WB      1       513   \n",
              " \n",
              "      From ASC          From Station  To NLC To ASC         To Station  ...  \\\n",
              " 0        ELEu  Elephant & Castle LU     628   LAMu      Lambeth North  ...   \n",
              " 1        LAMu         Lambeth North     747   WLOu        Waterloo LU  ...   \n",
              " 2        WLOu           Waterloo LU     542   EMBu         Embankment  ...   \n",
              " 3        EMBu            Embankment     718   CHXu   Charing Cross LU  ...   \n",
              " 4        CHXu      Charing Cross LU     674   PICu  Piccadilly Circus  ...   \n",
              " ...       ...                   ...     ...    ...                ...  ...   \n",
              " 1201     PIMu               Pimlico     777   VUXu        Vauxhall LU  ...   \n",
              " 1202     VUXu           Vauxhall LU     716   STKu          Stockwell  ...   \n",
              " 1203     STKu             Stockwell     778   BRXu         Brixton LU  ...   \n",
              " 1204     WLOu           Waterloo LU     513   BNKu  Bank and Monument  ...   \n",
              " 1205     BNKu     Bank and Monument     747   WLOu        Waterloo LU  ...   \n",
              " \n",
              "        0230-0245  0245-0300  0300-0315  0315-0330  0330-0345  0345-0400  \\\n",
              " 0       0.000000   0.000000   0.000000   0.000000   0.000000   0.000000   \n",
              " 1       0.000000   0.000000   0.000000   0.000000   0.000000   0.000000   \n",
              " 2       0.000000   0.000000   0.000000   0.000000   0.000000   0.000000   \n",
              " 3       0.000000   0.000000   0.000000   0.000000   0.000000   0.000000   \n",
              " 4       0.000000   0.000000   0.000000   0.000000   0.000000   0.000000   \n",
              " ...          ...        ...        ...        ...        ...        ...   \n",
              " 1201  106.524806  99.757129  79.718061  74.731307  60.058656  74.028949   \n",
              " 1202   92.030812  85.905152  70.460473  64.712242  54.546095  66.091738   \n",
              " 1203   79.411971  76.422151  54.245271  56.491848  42.343141  53.445232   \n",
              " 1204    0.000000   0.000000   0.000000   0.000000   0.000000   0.000000   \n",
              " 1205    0.000000   0.000000   0.000000   0.000000   0.000000   0.000000   \n",
              " \n",
              "       0400-0415  0415-0430  0430-0445  0445-0500  \n",
              " 0      0.000000   0.000000   0.000000   0.000000  \n",
              " 1      0.000000   0.000000   0.000000   0.000000  \n",
              " 2      0.000000   0.000000   0.000000   0.000000  \n",
              " 3      0.000000   0.000000   0.000000   0.000000  \n",
              " 4      0.000000   0.000000   0.000000   0.000000  \n",
              " ...         ...        ...        ...        ...  \n",
              " 1201  65.581566  56.760236  38.084976  28.118383  \n",
              " 1202  57.865834  43.940063  27.783136  18.641887  \n",
              " 1203  45.887572  40.794575  23.836169  16.771999  \n",
              " 1204   0.000000   0.000000   0.000000   0.000000  \n",
              " 1205   0.000000   0.000000   0.000000   0.000000  \n",
              " \n",
              " [1206 rows x 113 columns],\n",
              " 'Link_Loads_NBT23SAT.csv':                              Link             Line Dir  Order  From NLC  \\\n",
              " 0     ELEu_BAK_NB>LAMu_BAK_NB@BAK         Bakerloo  NB      1       570   \n",
              " 1     LAMu_BAK_NB>WLOu_BAK_NB@BAK         Bakerloo  NB      2       628   \n",
              " 2     WLOu_BAK_NB>EMBu_BAK_NB@BAK         Bakerloo  NB      3       747   \n",
              " 3     EMBu_BAK_NB>CHXu_BAK_NB@BAK         Bakerloo  NB      4       542   \n",
              " 4     CHXu_BAK_NB>PICu_BAK_NB@BAK         Bakerloo  NB      5       718   \n",
              " ...                           ...              ...  ..    ...       ...   \n",
              " 1201  PIMu_VIC_SB>VUXu_VIC_SB@VIC         Victoria  SB     13       776   \n",
              " 1202  VUXu_VIC_SB>STKu_VIC_SB@VIC         Victoria  SB     14       777   \n",
              " 1203  STKu_VIC_SB>BRXu_VIC_SB@VIC         Victoria  SB     15       716   \n",
              " 1204  WLOu_WAC_EB>BNKu_WAC_EB@WAC  Waterloo & City  EB      1       747   \n",
              " 1205  BNKu_WAC_WB>WLOu_WAC_WB@WAC  Waterloo & City  WB      1       513   \n",
              " \n",
              "      From ASC          From Station  To NLC To ASC         To Station  ...  \\\n",
              " 0        ELEu  Elephant & Castle LU     628   LAMu      Lambeth North  ...   \n",
              " 1        LAMu         Lambeth North     747   WLOu        Waterloo LU  ...   \n",
              " 2        WLOu           Waterloo LU     542   EMBu         Embankment  ...   \n",
              " 3        EMBu            Embankment     718   CHXu   Charing Cross LU  ...   \n",
              " 4        CHXu      Charing Cross LU     674   PICu  Piccadilly Circus  ...   \n",
              " ...       ...                   ...     ...    ...                ...  ...   \n",
              " 1201     PIMu               Pimlico     777   VUXu        Vauxhall LU  ...   \n",
              " 1202     VUXu           Vauxhall LU     716   STKu          Stockwell  ...   \n",
              " 1203     STKu             Stockwell     778   BRXu         Brixton LU  ...   \n",
              " 1204     WLOu           Waterloo LU     513   BNKu  Bank and Monument  ...   \n",
              " 1205     BNKu     Bank and Monument     747   WLOu        Waterloo LU  ...   \n",
              " \n",
              "       0230-0245  0245-0300  0300-0315  0315-0330  0330-0345  0345-0400  \\\n",
              " 0      0.000000   0.000000   0.000000   0.000000   0.000000   0.000000   \n",
              " 1      0.000000   0.000000   0.000000   0.000000   0.000000   0.000000   \n",
              " 2      0.000000   0.000000   0.000000   0.000000   0.000000   0.000000   \n",
              " 3      0.000000   0.000000   0.000000   0.000000   0.000000   0.000000   \n",
              " 4      0.000000   0.000000   0.000000   0.000000   0.000000   0.000000   \n",
              " ...         ...        ...        ...        ...        ...        ...   \n",
              " 1201  97.045984  91.493756  80.983594  69.961674  57.534038  67.424408   \n",
              " 1202  80.849737  74.988393  68.492047  56.978686  50.762519  59.362825   \n",
              " 1203  64.225510  62.849660  50.537405  75.109793  64.681253  79.764317   \n",
              " 1204   0.000000   0.000000   0.000000   0.000000   0.000000   0.000000   \n",
              " 1205   0.000000   0.000000   0.000000   0.000000   0.000000   0.000000   \n",
              " \n",
              "       0400-0415  0415-0430  0430-0445  0445-0500  \n",
              " 0      0.000000   0.000000   0.000000   0.000000  \n",
              " 1      0.000000   0.000000   0.000000   0.000000  \n",
              " 2      0.000000   0.000000   0.000000   0.000000  \n",
              " 3      0.000000   0.000000   0.000000   0.000000  \n",
              " 4      0.000000   0.000000   0.000000   0.000000  \n",
              " ...         ...        ...        ...        ...  \n",
              " 1201  59.028079  48.956327  35.562360  24.093091  \n",
              " 1202  53.074852  42.713966  31.973789  21.157565  \n",
              " 1203  73.859990  73.779806  35.919761  28.198428  \n",
              " 1204   0.000000   0.000000   0.000000   0.000000  \n",
              " 1205   0.000000   0.000000   0.000000   0.000000  \n",
              " \n",
              " [1206 rows x 113 columns],\n",
              " 'Link_Loads_NBT23SUN.csv':                              Link             Line Dir  Order  From NLC  \\\n",
              " 0     ELEu_BAK_NB>LAMu_BAK_NB@BAK         Bakerloo  NB      1       570   \n",
              " 1     LAMu_BAK_NB>WLOu_BAK_NB@BAK         Bakerloo  NB      2       628   \n",
              " 2     WLOu_BAK_NB>EMBu_BAK_NB@BAK         Bakerloo  NB      3       747   \n",
              " 3     EMBu_BAK_NB>CHXu_BAK_NB@BAK         Bakerloo  NB      4       542   \n",
              " 4     CHXu_BAK_NB>PICu_BAK_NB@BAK         Bakerloo  NB      5       718   \n",
              " ...                           ...              ...  ..    ...       ...   \n",
              " 1201  PIMu_VIC_SB>VUXu_VIC_SB@VIC         Victoria  SB     13       776   \n",
              " 1202  VUXu_VIC_SB>STKu_VIC_SB@VIC         Victoria  SB     14       777   \n",
              " 1203  STKu_VIC_SB>BRXu_VIC_SB@VIC         Victoria  SB     15       716   \n",
              " 1204  WLOu_WAC_EB>BNKu_WAC_EB@WAC  Waterloo & City  EB      1       747   \n",
              " 1205  BNKu_WAC_WB>WLOu_WAC_WB@WAC  Waterloo & City  WB      1       513   \n",
              " \n",
              "      From ASC          From Station  To NLC To ASC         To Station  ...  \\\n",
              " 0        ELEu  Elephant & Castle LU     628   LAMu      Lambeth North  ...   \n",
              " 1        LAMu         Lambeth North     747   WLOu        Waterloo LU  ...   \n",
              " 2        WLOu           Waterloo LU     542   EMBu         Embankment  ...   \n",
              " 3        EMBu            Embankment     718   CHXu   Charing Cross LU  ...   \n",
              " 4        CHXu      Charing Cross LU     674   PICu  Piccadilly Circus  ...   \n",
              " ...       ...                   ...     ...    ...                ...  ...   \n",
              " 1201     PIMu               Pimlico     777   VUXu        Vauxhall LU  ...   \n",
              " 1202     VUXu           Vauxhall LU     716   STKu          Stockwell  ...   \n",
              " 1203     STKu             Stockwell     778   BRXu         Brixton LU  ...   \n",
              " 1204     WLOu           Waterloo LU     513   BNKu  Bank and Monument  ...   \n",
              " 1205     BNKu     Bank and Monument     747   WLOu        Waterloo LU  ...   \n",
              " \n",
              "       0230-0245  0245-0300  0300-0315  0315-0330  0330-0345  0345-0400  \\\n",
              " 0           0.0        0.0        0.0        0.0        0.0        0.0   \n",
              " 1           0.0        0.0        0.0        0.0        0.0        0.0   \n",
              " 2           0.0        0.0        0.0        0.0        0.0        0.0   \n",
              " 3           0.0        0.0        0.0        0.0        0.0        0.0   \n",
              " 4           0.0        0.0        0.0        0.0        0.0        0.0   \n",
              " ...         ...        ...        ...        ...        ...        ...   \n",
              " 1201        0.0        0.0        0.0        0.0        0.0        0.0   \n",
              " 1202        0.0        0.0        0.0        0.0        0.0        0.0   \n",
              " 1203        0.0        0.0        0.0        0.0        0.0        0.0   \n",
              " 1204        0.0        0.0        0.0        0.0        0.0        0.0   \n",
              " 1205        0.0        0.0        0.0        0.0        0.0        0.0   \n",
              " \n",
              "       0400-0415  0415-0430  0430-0445  0445-0500  \n",
              " 0      0.000000   0.000000   0.000000   0.000000  \n",
              " 1      0.000000   0.000000   0.000000   0.000000  \n",
              " 2      0.000000   0.000000   0.000000   0.000000  \n",
              " 3      0.000000   0.000000   0.000000   0.000000  \n",
              " 4      0.000000   0.000000   0.000000   0.000000  \n",
              " ...         ...        ...        ...        ...  \n",
              " 1201   0.050722   0.052232   0.052232   0.052232  \n",
              " 1202   0.050722   0.051613   0.051613   0.051613  \n",
              " 1203   0.000211   0.000808   0.000808   0.000808  \n",
              " 1204   0.000000   0.000000   0.000000   0.000000  \n",
              " 1205   0.000000   0.000000   0.000000   0.000000  \n",
              " \n",
              " [1206 rows x 113 columns]}"
            ]
          },
          "metadata": {},
          "execution_count": 21
        }
      ]
    },
    {
      "cell_type": "code",
      "execution_count": 22,
      "metadata": {
        "id": "Zgw1d90A1vgD"
      },
      "outputs": [],
      "source": [
        "# Build the Data loader\n",
        "graph_data = []\n",
        "# each df should have the same dimension and same nodes at the same columns\n",
        "for filename, df in dfs.items():\n",
        "    df = add_missing_nodes_2(df, node_mapping, num_nodes) # add zeros row for missing nodes\n",
        "    df_qhrs = build_quarter_hour_data(df, filename, num_nodes) # retourne 24*4 df avec ses paramètres temporel et le flow\n",
        "    graph_data.append(df_qhrs)\n",
        "graphs = [[df_to_graph(df, edge_index) for df in graph_data[i]] for i in range(len(graph_data))]  # Un graphe par quart d'heure\n",
        "\n",
        "train_loader, test_loader = build_train_test_loaders_2(graphs, window_size, train_split=0.8)"
      ]
    },
    {
      "cell_type": "markdown",
      "metadata": {
        "id": "BGdDgisd1vgE"
      },
      "source": [
        "### Test 1"
      ]
    },
    {
      "cell_type": "code",
      "execution_count": null,
      "metadata": {
        "id": "xo_kmqjf1vgF"
      },
      "outputs": [],
      "source": [
        "class ImprovedSTGCN(nn.Module):\n",
        "    def __init__(self, node_features, hidden_dim, temporal_features_dim=10):\n",
        "        super(ImprovedSTGCN, self).__init__()\n",
        "        self.gcn = GCNConv(node_features, hidden_dim)  # GCN\n",
        "        self.fc1 = nn.Linear(hidden_dim + temporal_features_dim, 4)  # Prédiction finale\n",
        "        self.fc2 = nn.Linear(4 + node_features, 1)\n",
        "        # self.bn1 = nn.BatchNorm1d(hidden_dim)\n",
        "\n",
        "    def forward(self, graph, temporal_features):\n",
        "        x = self.gcn(graph.x, graph.edge_index)  # GCN\n",
        "        x = F.relu(x) # (num_nodes, hideen_dim)\n",
        "\n",
        "        # Use temporal features and x as inputs of fc and use the fc layer\n",
        "        x = torch.cat((x, temporal_features), dim=-1)\n",
        "        x = self.fc1(x)\n",
        "        x = F.relu(x)\n",
        "        x = torch.cat((x, graph.x), dim=-1)\n",
        "        x = self.fc2(x)\n",
        "        x = F.relu(x)\n",
        "        return x # return the flow for each nodes (num_nodes, 1)"
      ]
    },
    {
      "cell_type": "code",
      "execution_count": null,
      "metadata": {
        "id": "gS9VqpLw1vgF",
        "outputId": "75e1290e-e7a3-439d-9e43-b02f35136d46"
      },
      "outputs": [
        {
          "name": "stderr",
          "output_type": "stream",
          "text": [
            "  0%|          | 0/40 [00:00<?, ?it/s]"
          ]
        },
        {
          "name": "stdout",
          "output_type": "stream",
          "text": [
            "Epoch 1, Train loss: 48.95288218941953\n"
          ]
        },
        {
          "name": "stderr",
          "output_type": "stream",
          "text": [
            "  2%|▎         | 1/40 [00:11<07:47, 11.98s/it]"
          ]
        },
        {
          "name": "stdout",
          "output_type": "stream",
          "text": [
            "Epoch 1, Test loss: 47.144519521130455\n",
            "Epoch 2, Train loss: 23.777809886203872\n"
          ]
        },
        {
          "name": "stderr",
          "output_type": "stream",
          "text": [
            "  5%|▌         | 2/40 [00:23<07:27, 11.78s/it]"
          ]
        },
        {
          "name": "stdout",
          "output_type": "stream",
          "text": [
            "Epoch 2, Test loss: 23.893730043418824\n",
            "Epoch 3, Train loss: 21.307010310954517\n"
          ]
        },
        {
          "name": "stderr",
          "output_type": "stream",
          "text": [
            "  8%|▊         | 3/40 [00:36<07:27, 12.09s/it]"
          ]
        },
        {
          "name": "stdout",
          "output_type": "stream",
          "text": [
            "Epoch 3, Test loss: 23.21928701419679\n",
            "Epoch 4, Train loss: 20.799809671640396\n"
          ]
        },
        {
          "name": "stderr",
          "output_type": "stream",
          "text": [
            " 10%|█         | 4/40 [00:47<07:05, 11.82s/it]"
          ]
        },
        {
          "name": "stdout",
          "output_type": "stream",
          "text": [
            "Epoch 4, Test loss: 25.108579799296365\n",
            "Epoch 5, Train loss: 20.260773273044162\n"
          ]
        },
        {
          "name": "stderr",
          "output_type": "stream",
          "text": [
            " 12%|█▎        | 5/40 [00:59<06:51, 11.77s/it]"
          ]
        },
        {
          "name": "stdout",
          "output_type": "stream",
          "text": [
            "Epoch 5, Test loss: 23.791607892702498\n",
            "Epoch 6, Train loss: 19.51487831334273\n"
          ]
        },
        {
          "name": "stderr",
          "output_type": "stream",
          "text": [
            " 15%|█▌        | 6/40 [01:11<06:42, 11.84s/it]"
          ]
        },
        {
          "name": "stdout",
          "output_type": "stream",
          "text": [
            "Epoch 6, Test loss: 23.937610835310014\n",
            "Epoch 7, Train loss: 19.129306722482045\n"
          ]
        },
        {
          "name": "stderr",
          "output_type": "stream",
          "text": [
            " 18%|█▊        | 7/40 [01:23<06:32, 11.89s/it]"
          ]
        },
        {
          "name": "stdout",
          "output_type": "stream",
          "text": [
            "Epoch 7, Test loss: 23.09024494318735\n",
            "Epoch 8, Train loss: 18.56886118657059\n"
          ]
        },
        {
          "name": "stderr",
          "output_type": "stream",
          "text": [
            " 20%|██        | 8/40 [01:35<06:22, 11.95s/it]"
          ]
        },
        {
          "name": "stdout",
          "output_type": "stream",
          "text": [
            "Epoch 8, Test loss: 22.448010003755964\n",
            "Epoch 9, Train loss: 18.155415162973934\n"
          ]
        },
        {
          "name": "stderr",
          "output_type": "stream",
          "text": [
            " 22%|██▎       | 9/40 [01:47<06:17, 12.17s/it]"
          ]
        },
        {
          "name": "stdout",
          "output_type": "stream",
          "text": [
            "Epoch 9, Test loss: 23.12962769894373\n",
            "Epoch 10, Train loss: 17.64790294766426\n"
          ]
        },
        {
          "name": "stderr",
          "output_type": "stream",
          "text": [
            " 25%|██▌       | 10/40 [02:00<06:08, 12.28s/it]"
          ]
        },
        {
          "name": "stdout",
          "output_type": "stream",
          "text": [
            "Epoch 10, Test loss: 21.897287573133195\n",
            "Epoch 11, Train loss: 17.35477966911263\n"
          ]
        },
        {
          "name": "stderr",
          "output_type": "stream",
          "text": [
            " 28%|██▊       | 11/40 [02:13<06:00, 12.44s/it]"
          ]
        },
        {
          "name": "stdout",
          "output_type": "stream",
          "text": [
            "Epoch 11, Test loss: 20.16826418562541\n",
            "Epoch 12, Train loss: 16.827348392208417\n"
          ]
        },
        {
          "name": "stderr",
          "output_type": "stream",
          "text": [
            " 30%|███       | 12/40 [02:26<05:52, 12.59s/it]"
          ]
        },
        {
          "name": "stdout",
          "output_type": "stream",
          "text": [
            "Epoch 12, Test loss: 19.26490438268298\n",
            "Epoch 13, Train loss: 16.511318118572234\n"
          ]
        },
        {
          "name": "stderr",
          "output_type": "stream",
          "text": [
            " 32%|███▎      | 13/40 [02:42<06:14, 13.88s/it]"
          ]
        },
        {
          "name": "stdout",
          "output_type": "stream",
          "text": [
            "Epoch 13, Test loss: 18.63651846704029\n",
            "Epoch 14, Train loss: 16.273992637726995\n"
          ]
        },
        {
          "name": "stderr",
          "output_type": "stream",
          "text": [
            " 35%|███▌      | 14/40 [02:59<06:25, 14.81s/it]"
          ]
        },
        {
          "name": "stdout",
          "output_type": "stream",
          "text": [
            "Epoch 14, Test loss: 18.573439594299074\n",
            "Epoch 15, Train loss: 16.081020032101208\n"
          ]
        },
        {
          "name": "stderr",
          "output_type": "stream",
          "text": [
            " 38%|███▊      | 15/40 [03:12<05:51, 14.04s/it]"
          ]
        },
        {
          "name": "stdout",
          "output_type": "stream",
          "text": [
            "Epoch 15, Test loss: 18.36386199792226\n",
            "Epoch 16, Train loss: 15.896414245565733\n"
          ]
        },
        {
          "name": "stderr",
          "output_type": "stream",
          "text": [
            " 40%|████      | 16/40 [03:24<05:22, 13.45s/it]"
          ]
        },
        {
          "name": "stdout",
          "output_type": "stream",
          "text": [
            "Epoch 16, Test loss: 18.215365266043044\n",
            "Epoch 17, Train loss: 15.723655638893446\n"
          ]
        },
        {
          "name": "stderr",
          "output_type": "stream",
          "text": [
            " 42%|████▎     | 17/40 [03:36<05:02, 13.14s/it]"
          ]
        },
        {
          "name": "stdout",
          "output_type": "stream",
          "text": [
            "Epoch 17, Test loss: 18.1059152285258\n",
            "Epoch 18, Train loss: 15.584827057388093\n"
          ]
        },
        {
          "name": "stderr",
          "output_type": "stream",
          "text": [
            " 45%|████▌     | 18/40 [03:48<04:38, 12.67s/it]"
          ]
        },
        {
          "name": "stdout",
          "output_type": "stream",
          "text": [
            "Epoch 18, Test loss: 14.526292292844682\n",
            "Epoch 19, Train loss: 15.51248979985714\n"
          ]
        },
        {
          "name": "stderr",
          "output_type": "stream",
          "text": [
            " 48%|████▊     | 19/40 [04:01<04:28, 12.76s/it]"
          ]
        },
        {
          "name": "stdout",
          "output_type": "stream",
          "text": [
            "Epoch 19, Test loss: 17.21557647084433\n",
            "Epoch 20, Train loss: 15.380550321009425\n"
          ]
        },
        {
          "name": "stderr",
          "output_type": "stream",
          "text": [
            " 50%|█████     | 20/40 [04:12<04:08, 12.43s/it]"
          ]
        },
        {
          "name": "stdout",
          "output_type": "stream",
          "text": [
            "Epoch 20, Test loss: 20.436235011570037\n",
            "Epoch 21, Train loss: 15.231626348561711\n"
          ]
        },
        {
          "name": "stderr",
          "output_type": "stream",
          "text": [
            " 52%|█████▎    | 21/40 [04:24<03:50, 12.12s/it]"
          ]
        },
        {
          "name": "stdout",
          "output_type": "stream",
          "text": [
            "Epoch 21, Test loss: 17.94770915640725\n",
            "Epoch 22, Train loss: 15.161341895659765\n"
          ]
        },
        {
          "name": "stderr",
          "output_type": "stream",
          "text": [
            " 55%|█████▌    | 22/40 [04:37<03:41, 12.32s/it]"
          ]
        },
        {
          "name": "stdout",
          "output_type": "stream",
          "text": [
            "Epoch 22, Test loss: 18.157650908780475\n",
            "Epoch 23, Train loss: 15.102868316637146\n"
          ]
        },
        {
          "name": "stderr",
          "output_type": "stream",
          "text": [
            " 57%|█████▊    | 23/40 [04:49<03:32, 12.49s/it]"
          ]
        },
        {
          "name": "stdout",
          "output_type": "stream",
          "text": [
            "Epoch 23, Test loss: 18.243406836948697\n",
            "Epoch 24, Train loss: 15.010775074362755\n"
          ]
        },
        {
          "name": "stderr",
          "output_type": "stream",
          "text": [
            " 60%|██████    | 24/40 [05:02<03:21, 12.58s/it]"
          ]
        },
        {
          "name": "stdout",
          "output_type": "stream",
          "text": [
            "Epoch 24, Test loss: 18.552049400314452\n",
            "Epoch 25, Train loss: 14.94533243669404\n"
          ]
        },
        {
          "name": "stderr",
          "output_type": "stream",
          "text": [
            " 62%|██████▎   | 25/40 [05:15<03:07, 12.52s/it]"
          ]
        },
        {
          "name": "stdout",
          "output_type": "stream",
          "text": [
            "Epoch 25, Test loss: 19.167098462581635\n",
            "Epoch 26, Train loss: 14.848031069835027\n"
          ]
        },
        {
          "name": "stderr",
          "output_type": "stream",
          "text": [
            " 65%|██████▌   | 26/40 [05:27<02:55, 12.57s/it]"
          ]
        },
        {
          "name": "stdout",
          "output_type": "stream",
          "text": [
            "Epoch 26, Test loss: 18.591238107000077\n",
            "Epoch 27, Train loss: 14.797371557354927\n"
          ]
        },
        {
          "name": "stderr",
          "output_type": "stream",
          "text": [
            " 68%|██████▊   | 27/40 [05:39<02:40, 12.32s/it]"
          ]
        },
        {
          "name": "stdout",
          "output_type": "stream",
          "text": [
            "Epoch 27, Test loss: 16.763887000462365\n",
            "Epoch 28, Train loss: 14.717523712118467\n"
          ]
        },
        {
          "name": "stderr",
          "output_type": "stream",
          "text": [
            " 70%|███████   | 28/40 [05:51<02:25, 12.15s/it]"
          ]
        },
        {
          "name": "stdout",
          "output_type": "stream",
          "text": [
            "Epoch 28, Test loss: 17.516615053017933\n",
            "Epoch 29, Train loss: 14.668176013363732\n"
          ]
        },
        {
          "name": "stderr",
          "output_type": "stream",
          "text": [
            " 72%|███████▎  | 29/40 [06:03<02:12, 12.03s/it]"
          ]
        },
        {
          "name": "stdout",
          "output_type": "stream",
          "text": [
            "Epoch 29, Test loss: 16.681578071344468\n",
            "Epoch 30, Train loss: 14.633427783515717\n"
          ]
        },
        {
          "name": "stderr",
          "output_type": "stream",
          "text": [
            " 75%|███████▌  | 30/40 [06:15<02:01, 12.20s/it]"
          ]
        },
        {
          "name": "stdout",
          "output_type": "stream",
          "text": [
            "Epoch 30, Test loss: 17.363683479172842\n",
            "Epoch 31, Train loss: 14.566520348654853\n"
          ]
        },
        {
          "name": "stderr",
          "output_type": "stream",
          "text": [
            " 78%|███████▊  | 31/40 [06:26<01:46, 11.84s/it]"
          ]
        },
        {
          "name": "stdout",
          "output_type": "stream",
          "text": [
            "Epoch 31, Test loss: 17.146037966012955\n",
            "Epoch 32, Train loss: 14.515961828960313\n"
          ]
        },
        {
          "name": "stderr",
          "output_type": "stream",
          "text": [
            " 80%|████████  | 32/40 [06:38<01:34, 11.85s/it]"
          ]
        },
        {
          "name": "stdout",
          "output_type": "stream",
          "text": [
            "Epoch 32, Test loss: 16.856675500907595\n",
            "Epoch 33, Train loss: 14.47443236509959\n"
          ]
        },
        {
          "name": "stderr",
          "output_type": "stream",
          "text": [
            " 82%|████████▎ | 33/40 [06:50<01:22, 11.85s/it]"
          ]
        },
        {
          "name": "stdout",
          "output_type": "stream",
          "text": [
            "Epoch 33, Test loss: 16.76073781176219\n",
            "Epoch 34, Train loss: 14.417643619709544\n"
          ]
        },
        {
          "name": "stderr",
          "output_type": "stream",
          "text": [
            " 85%|████████▌ | 34/40 [07:02<01:11, 11.96s/it]"
          ]
        },
        {
          "name": "stdout",
          "output_type": "stream",
          "text": [
            "Epoch 34, Test loss: 16.27910289877937\n",
            "Epoch 35, Train loss: 14.377769790755378\n"
          ]
        },
        {
          "name": "stderr",
          "output_type": "stream",
          "text": [
            " 88%|████████▊ | 35/40 [07:14<00:59, 11.83s/it]"
          ]
        },
        {
          "name": "stdout",
          "output_type": "stream",
          "text": [
            "Epoch 35, Test loss: 15.955159506627492\n",
            "Epoch 36, Train loss: 14.336757418711981\n"
          ]
        },
        {
          "name": "stderr",
          "output_type": "stream",
          "text": [
            " 90%|█████████ | 36/40 [07:25<00:46, 11.64s/it]"
          ]
        },
        {
          "name": "stdout",
          "output_type": "stream",
          "text": [
            "Epoch 36, Test loss: 15.711330930865\n",
            "Epoch 37, Train loss: 14.295268046326107\n"
          ]
        },
        {
          "name": "stderr",
          "output_type": "stream",
          "text": [
            " 92%|█████████▎| 37/40 [07:36<00:34, 11.60s/it]"
          ]
        },
        {
          "name": "stdout",
          "output_type": "stream",
          "text": [
            "Epoch 37, Test loss: 15.43465371642794\n",
            "Epoch 38, Train loss: 14.258079958293173\n"
          ]
        },
        {
          "name": "stderr",
          "output_type": "stream",
          "text": [
            " 95%|█████████▌| 38/40 [07:50<00:24, 12.24s/it]"
          ]
        },
        {
          "name": "stdout",
          "output_type": "stream",
          "text": [
            "Epoch 38, Test loss: 15.262246692464466\n",
            "Epoch 39, Train loss: 14.21717159277863\n"
          ]
        },
        {
          "name": "stderr",
          "output_type": "stream",
          "text": [
            " 98%|█████████▊| 39/40 [08:02<00:12, 12.15s/it]"
          ]
        },
        {
          "name": "stdout",
          "output_type": "stream",
          "text": [
            "Epoch 39, Test loss: 14.976269902691008\n",
            "Epoch 40, Train loss: 14.184178984562555\n"
          ]
        },
        {
          "name": "stderr",
          "output_type": "stream",
          "text": [
            "100%|██████████| 40/40 [08:13<00:00, 12.34s/it]"
          ]
        },
        {
          "name": "stdout",
          "output_type": "stream",
          "text": [
            "Epoch 40, Test loss: 14.836333154212861\n"
          ]
        },
        {
          "name": "stderr",
          "output_type": "stream",
          "text": [
            "\n"
          ]
        }
      ],
      "source": [
        "model = ImprovedSTGCN(node_features=window_size, hidden_dim=16)\n",
        "\n",
        "optimizer = torch.optim.Adam(model.parameters(), lr=0.005)\n",
        "scheduler = torch.optim.lr_scheduler.ExponentialLR(optimizer, gamma=0.95)\n",
        "criterion = MAE\n",
        "\n",
        "num_epochs = 40\n",
        "\n",
        "# Boucle d'entraînement\n",
        "for epoch in tqdm(range(num_epochs)):\n",
        "    model.train()\n",
        "    train_loss = 0\n",
        "    for graph, temporal_features in train_loader:\n",
        "        temporal_features = temporal_features.squeeze()\n",
        "        optimizer.zero_grad()\n",
        "        output = model(graph, temporal_features)\n",
        "        target = graph.y\n",
        "        loss = criterion(output, target)\n",
        "        loss.backward()\n",
        "        optimizer.step()\n",
        "        train_loss += loss.item()\n",
        "\n",
        "    scheduler.step()\n",
        "\n",
        "    print(f\"Epoch {epoch+1}, Train loss: {train_loss / len(train_loader)}\")\n",
        "\n",
        "    # Évaluation sur le jeu de test\n",
        "    model.eval()\n",
        "    test_loss = 0\n",
        "    with torch.no_grad():  # Désactivation des gradients pour l'évaluation\n",
        "        for graph, temporal_features in test_loader:\n",
        "            temporal_features = temporal_features.squeeze()  # Squeeze si nécessaire\n",
        "            output = model(graph, temporal_features)  # Assure-toi de passer aussi les temporal_features\n",
        "            target = graph.y\n",
        "            loss = criterion(output, target)\n",
        "            test_loss += loss.item()\n",
        "\n",
        "    print(f\"Epoch {epoch+1}, Test loss: {test_loss / len(test_loader)}\")"
      ]
    },
    {
      "cell_type": "code",
      "execution_count": null,
      "metadata": {
        "id": "N_z_4OE81vgG",
        "outputId": "1629081e-1481-452e-fddb-4d12247d49a2"
      },
      "outputs": [
        {
          "name": "stdout",
          "output_type": "stream",
          "text": [
            "En utilisant la dernière valeur du flow comme prédiction :\n",
            "Test MAE: 14.836332321166992\n",
            "MAPE for high targets: 0.04389444959261233\n",
            "MAE for low targets: 5.5507153447658295\n"
          ]
        }
      ],
      "source": [
        "test_model(model, test_loader)"
      ]
    },
    {
      "cell_type": "markdown",
      "metadata": {
        "id": "YpWv2nq91vgG"
      },
      "source": [
        "### Test 2"
      ]
    },
    {
      "cell_type": "code",
      "execution_count": null,
      "metadata": {
        "id": "0DXBuumz1vgG"
      },
      "outputs": [],
      "source": [
        "class ImprovedSTGCN(nn.Module):\n",
        "    def __init__(self, node_features, hidden_dim, temporal_features_dim=10):\n",
        "        super(ImprovedSTGCN, self).__init__()\n",
        "        self.gcn1 = GCNConv(node_features, hidden_dim)  # GCN\n",
        "        self.gcn2 = GCNConv(hidden_dim, hidden_dim)\n",
        "        self.fc1 = nn.Linear(hidden_dim + temporal_features_dim + node_features, hidden_dim)  # Prédiction finale\n",
        "        self.fc2 = nn.Linear(hidden_dim + node_features, 1)\n",
        "        # self.bn1 = nn.BatchNorm1d(hidden_dim)\n",
        "\n",
        "    def forward(self, graph, temporal_features):\n",
        "        x = self.gcn1(graph.x, graph.edge_index)  # GCN\n",
        "        x = F.relu(x) # (num_nodes, hideen_dim)\n",
        "        x = self.gcn2(x, graph.edge_index)  # GCN\n",
        "        x = F.relu(x) # (num_nodes, hideen_dim)\n",
        "\n",
        "        # Use temporal features and x as inputs of fc and use the fc layer\n",
        "        x = torch.cat((x, temporal_features, graph.x), dim=-1)\n",
        "        x = self.fc1(x)\n",
        "        x = F.relu(x)\n",
        "        x = torch.cat((x, graph.x), dim=-1)\n",
        "        x = self.fc2(x)\n",
        "        x = F.relu(x)\n",
        "        return x # return the flow for each nodes (num_nodes, 1)"
      ]
    },
    {
      "cell_type": "code",
      "execution_count": null,
      "metadata": {
        "id": "VSVOeaxA1vgH",
        "outputId": "ea6e6859-b584-4290-d18e-1da686312983"
      },
      "outputs": [
        {
          "name": "stderr",
          "output_type": "stream",
          "text": [
            "  0%|          | 0/500 [00:00<?, ?it/s]"
          ]
        },
        {
          "name": "stdout",
          "output_type": "stream",
          "text": [
            "Epoch 1, Train loss: 42.767816162904104\n"
          ]
        },
        {
          "name": "stderr",
          "output_type": "stream",
          "text": [
            "  0%|          | 1/500 [00:17<2:21:41, 17.04s/it]"
          ]
        },
        {
          "name": "stdout",
          "output_type": "stream",
          "text": [
            "Epoch 1, Test loss: 25.983634329031386\n",
            "Epoch 2, Train loss: 28.558133171863027\n"
          ]
        },
        {
          "name": "stderr",
          "output_type": "stream",
          "text": [
            "  0%|          | 2/500 [00:33<2:17:38, 16.58s/it]"
          ]
        },
        {
          "name": "stdout",
          "output_type": "stream",
          "text": [
            "Epoch 2, Test loss: 23.118837669728293\n",
            "Epoch 3, Train loss: 26.292576038108933\n"
          ]
        },
        {
          "name": "stderr",
          "output_type": "stream",
          "text": [
            "  1%|          | 3/500 [00:49<2:15:42, 16.38s/it]"
          ]
        },
        {
          "name": "stdout",
          "output_type": "stream",
          "text": [
            "Epoch 3, Test loss: 22.961056861612533\n",
            "Epoch 4, Train loss: 25.16089310771889\n"
          ]
        },
        {
          "name": "stderr",
          "output_type": "stream",
          "text": [
            "  1%|          | 4/500 [01:05<2:15:33, 16.40s/it]"
          ]
        },
        {
          "name": "stdout",
          "output_type": "stream",
          "text": [
            "Epoch 4, Test loss: 21.750003705895136\n",
            "Epoch 5, Train loss: 24.20426382402579\n"
          ]
        },
        {
          "name": "stderr",
          "output_type": "stream",
          "text": [
            "  1%|          | 5/500 [01:22<2:14:56, 16.36s/it]"
          ]
        },
        {
          "name": "stdout",
          "output_type": "stream",
          "text": [
            "Epoch 5, Test loss: 20.942677208355494\n",
            "Epoch 6, Train loss: 23.013602171407804\n"
          ]
        },
        {
          "name": "stderr",
          "output_type": "stream",
          "text": [
            "  1%|          | 6/500 [01:29<1:49:35, 13.31s/it]"
          ]
        },
        {
          "name": "stdout",
          "output_type": "stream",
          "text": [
            "Epoch 6, Test loss: 20.403938007733178\n",
            "Epoch 7, Train loss: 22.597079552941853\n"
          ]
        },
        {
          "name": "stderr",
          "output_type": "stream",
          "text": [
            "  1%|▏         | 7/500 [01:39<1:40:34, 12.24s/it]"
          ]
        },
        {
          "name": "stdout",
          "output_type": "stream",
          "text": [
            "Epoch 7, Test loss: 19.093237442156624\n",
            "Epoch 8, Train loss: 21.4118183391624\n"
          ]
        },
        {
          "name": "stderr",
          "output_type": "stream",
          "text": [
            "  2%|▏         | 8/500 [01:48<1:31:14, 11.13s/it]"
          ]
        },
        {
          "name": "stdout",
          "output_type": "stream",
          "text": [
            "Epoch 8, Test loss: 18.541173435392835\n",
            "Epoch 9, Train loss: 20.833026666972373\n"
          ]
        },
        {
          "name": "stderr",
          "output_type": "stream",
          "text": [
            "  2%|▏         | 9/500 [01:56<1:22:20, 10.06s/it]"
          ]
        },
        {
          "name": "stdout",
          "output_type": "stream",
          "text": [
            "Epoch 9, Test loss: 17.805660872232345\n",
            "Epoch 10, Train loss: 19.61148211710983\n"
          ]
        },
        {
          "name": "stderr",
          "output_type": "stream",
          "text": [
            "  2%|▏         | 10/500 [02:08<1:28:08, 10.79s/it]"
          ]
        },
        {
          "name": "stdout",
          "output_type": "stream",
          "text": [
            "Epoch 10, Test loss: 17.44180001105581\n",
            "Epoch 11, Train loss: 19.200676263901922\n"
          ]
        },
        {
          "name": "stderr",
          "output_type": "stream",
          "text": [
            "  2%|▏         | 11/500 [02:24<1:40:57, 12.39s/it]"
          ]
        },
        {
          "name": "stdout",
          "output_type": "stream",
          "text": [
            "Epoch 11, Test loss: 17.299046641777434\n",
            "Epoch 12, Train loss: 18.8404420022832\n"
          ]
        },
        {
          "name": "stderr",
          "output_type": "stream",
          "text": [
            "  2%|▏         | 12/500 [02:40<1:50:13, 13.55s/it]"
          ]
        },
        {
          "name": "stdout",
          "output_type": "stream",
          "text": [
            "Epoch 12, Test loss: 18.788419058398595\n",
            "Epoch 13, Train loss: 18.190121535923748\n"
          ]
        },
        {
          "name": "stderr",
          "output_type": "stream",
          "text": [
            "  3%|▎         | 13/500 [02:56<1:56:41, 14.38s/it]"
          ]
        },
        {
          "name": "stdout",
          "output_type": "stream",
          "text": [
            "Epoch 13, Test loss: 17.751769290556982\n",
            "Epoch 14, Train loss: 18.026656402084562\n"
          ]
        },
        {
          "name": "stderr",
          "output_type": "stream",
          "text": [
            "  3%|▎         | 14/500 [03:12<2:00:22, 14.86s/it]"
          ]
        },
        {
          "name": "stdout",
          "output_type": "stream",
          "text": [
            "Epoch 14, Test loss: 17.430834852986866\n",
            "Epoch 15, Train loss: 17.827206538849406\n"
          ]
        },
        {
          "name": "stderr",
          "output_type": "stream",
          "text": [
            "  3%|▎         | 15/500 [03:28<2:02:22, 15.14s/it]"
          ]
        },
        {
          "name": "stdout",
          "output_type": "stream",
          "text": [
            "Epoch 15, Test loss: 17.15519866536534\n",
            "Epoch 16, Train loss: 16.705109663407008\n"
          ]
        },
        {
          "name": "stderr",
          "output_type": "stream",
          "text": [
            "  3%|▎         | 16/500 [03:35<1:42:24, 12.69s/it]"
          ]
        },
        {
          "name": "stdout",
          "output_type": "stream",
          "text": [
            "Epoch 16, Test loss: 16.139032064449218\n",
            "Epoch 17, Train loss: 16.699760988156\n"
          ]
        },
        {
          "name": "stderr",
          "output_type": "stream",
          "text": [
            "  3%|▎         | 17/500 [03:43<1:30:14, 11.21s/it]"
          ]
        },
        {
          "name": "stdout",
          "output_type": "stream",
          "text": [
            "Epoch 17, Test loss: 18.94734269285959\n",
            "Epoch 18, Train loss: 17.672871411045392\n"
          ]
        },
        {
          "name": "stderr",
          "output_type": "stream",
          "text": [
            "  4%|▎         | 18/500 [03:50<1:20:29, 10.02s/it]"
          ]
        },
        {
          "name": "stdout",
          "output_type": "stream",
          "text": [
            "Epoch 18, Test loss: 18.552167434067954\n",
            "Epoch 19, Train loss: 16.770797817574607\n"
          ]
        },
        {
          "name": "stderr",
          "output_type": "stream",
          "text": [
            "  4%|▍         | 19/500 [03:58<1:14:04,  9.24s/it]"
          ]
        },
        {
          "name": "stdout",
          "output_type": "stream",
          "text": [
            "Epoch 19, Test loss: 18.27911789833553\n",
            "Epoch 20, Train loss: 16.547326379881966\n"
          ]
        },
        {
          "name": "stderr",
          "output_type": "stream",
          "text": [
            "  4%|▍         | 20/500 [04:06<1:11:25,  8.93s/it]"
          ]
        },
        {
          "name": "stdout",
          "output_type": "stream",
          "text": [
            "Epoch 20, Test loss: 17.78427589649246\n",
            "Epoch 21, Train loss: 16.37672871808211\n"
          ]
        },
        {
          "name": "stderr",
          "output_type": "stream",
          "text": [
            "  4%|▍         | 21/500 [04:14<1:09:09,  8.66s/it]"
          ]
        },
        {
          "name": "stdout",
          "output_type": "stream",
          "text": [
            "Epoch 21, Test loss: 18.626916506460734\n",
            "Epoch 22, Train loss: 16.202319413489764\n"
          ]
        },
        {
          "name": "stderr",
          "output_type": "stream",
          "text": [
            "  4%|▍         | 22/500 [04:22<1:07:25,  8.46s/it]"
          ]
        },
        {
          "name": "stdout",
          "output_type": "stream",
          "text": [
            "Epoch 22, Test loss: 18.107990755921318\n",
            "Epoch 23, Train loss: 15.79238522430261\n"
          ]
        },
        {
          "name": "stderr",
          "output_type": "stream",
          "text": [
            "  5%|▍         | 23/500 [04:31<1:07:36,  8.50s/it]"
          ]
        },
        {
          "name": "stdout",
          "output_type": "stream",
          "text": [
            "Epoch 23, Test loss: 17.999800399182334\n",
            "Epoch 24, Train loss: 15.682561893529362\n"
          ]
        },
        {
          "name": "stderr",
          "output_type": "stream",
          "text": [
            "  5%|▍         | 24/500 [04:39<1:06:14,  8.35s/it]"
          ]
        },
        {
          "name": "stdout",
          "output_type": "stream",
          "text": [
            "Epoch 24, Test loss: 18.650482163542794\n",
            "Epoch 25, Train loss: 15.775681836737526\n"
          ]
        },
        {
          "name": "stderr",
          "output_type": "stream",
          "text": [
            "  5%|▌         | 25/500 [04:47<1:05:17,  8.25s/it]"
          ]
        },
        {
          "name": "stdout",
          "output_type": "stream",
          "text": [
            "Epoch 25, Test loss: 18.688277272951034\n",
            "Epoch 26, Train loss: 15.326403947340118\n"
          ]
        },
        {
          "name": "stderr",
          "output_type": "stream",
          "text": [
            "  5%|▌         | 26/500 [04:54<1:03:46,  8.07s/it]"
          ]
        },
        {
          "name": "stdout",
          "output_type": "stream",
          "text": [
            "Epoch 26, Test loss: 19.190381456935217\n",
            "Epoch 27, Train loss: 15.346153835852942\n"
          ]
        },
        {
          "name": "stderr",
          "output_type": "stream",
          "text": [
            "  5%|▌         | 27/500 [05:01<1:01:41,  7.83s/it]"
          ]
        },
        {
          "name": "stdout",
          "output_type": "stream",
          "text": [
            "Epoch 27, Test loss: 18.216013236651346\n",
            "Epoch 28, Train loss: 15.141271110309495\n"
          ]
        },
        {
          "name": "stderr",
          "output_type": "stream",
          "text": [
            "  6%|▌         | 28/500 [05:09<1:01:52,  7.87s/it]"
          ]
        },
        {
          "name": "stdout",
          "output_type": "stream",
          "text": [
            "Epoch 28, Test loss: 18.86742194020559\n",
            "Epoch 29, Train loss: 14.993564987513754\n"
          ]
        },
        {
          "name": "stderr",
          "output_type": "stream",
          "text": [
            "  6%|▌         | 29/500 [05:17<1:01:06,  7.78s/it]"
          ]
        },
        {
          "name": "stdout",
          "output_type": "stream",
          "text": [
            "Epoch 29, Test loss: 17.961560957961613\n",
            "Epoch 30, Train loss: 14.954055709507731\n"
          ]
        },
        {
          "name": "stderr",
          "output_type": "stream",
          "text": [
            "  6%|▌         | 30/500 [05:25<1:00:32,  7.73s/it]"
          ]
        },
        {
          "name": "stdout",
          "output_type": "stream",
          "text": [
            "Epoch 30, Test loss: 19.159872705974276\n",
            "Epoch 31, Train loss: 14.810681721568107\n"
          ]
        },
        {
          "name": "stderr",
          "output_type": "stream",
          "text": [
            "  6%|▌         | 31/500 [05:33<1:01:55,  7.92s/it]"
          ]
        },
        {
          "name": "stdout",
          "output_type": "stream",
          "text": [
            "Epoch 31, Test loss: 18.859184468549394\n",
            "Epoch 32, Train loss: 14.693923401832581\n"
          ]
        },
        {
          "name": "stderr",
          "output_type": "stream",
          "text": [
            "  6%|▋         | 32/500 [05:41<1:02:34,  8.02s/it]"
          ]
        },
        {
          "name": "stdout",
          "output_type": "stream",
          "text": [
            "Epoch 32, Test loss: 20.033251763336242\n",
            "Epoch 33, Train loss: 14.566758670210838\n"
          ]
        },
        {
          "name": "stderr",
          "output_type": "stream",
          "text": [
            "  7%|▋         | 33/500 [05:50<1:03:25,  8.15s/it]"
          ]
        },
        {
          "name": "stdout",
          "output_type": "stream",
          "text": [
            "Epoch 33, Test loss: 19.3959809234218\n",
            "Epoch 34, Train loss: 14.528299945592881\n"
          ]
        },
        {
          "name": "stderr",
          "output_type": "stream",
          "text": [
            "  7%|▋         | 34/500 [05:58<1:03:34,  8.18s/it]"
          ]
        },
        {
          "name": "stdout",
          "output_type": "stream",
          "text": [
            "Epoch 34, Test loss: 21.23761109274531\n",
            "Epoch 35, Train loss: 14.38820781244172\n"
          ]
        },
        {
          "name": "stderr",
          "output_type": "stream",
          "text": [
            "  7%|▋         | 35/500 [06:06<1:03:12,  8.16s/it]"
          ]
        },
        {
          "name": "stdout",
          "output_type": "stream",
          "text": [
            "Epoch 35, Test loss: 19.874202514451646\n",
            "Epoch 36, Train loss: 14.335595449010532\n"
          ]
        },
        {
          "name": "stderr",
          "output_type": "stream",
          "text": [
            "  7%|▋         | 36/500 [06:15<1:04:06,  8.29s/it]"
          ]
        },
        {
          "name": "stdout",
          "output_type": "stream",
          "text": [
            "Epoch 36, Test loss: 19.73852908374771\n",
            "Epoch 37, Train loss: 14.221422477099631\n"
          ]
        },
        {
          "name": "stderr",
          "output_type": "stream",
          "text": [
            "  7%|▋         | 37/500 [06:23<1:03:06,  8.18s/it]"
          ]
        },
        {
          "name": "stdout",
          "output_type": "stream",
          "text": [
            "Epoch 37, Test loss: 18.691072371743974\n",
            "Epoch 38, Train loss: 14.2148270881176\n"
          ]
        },
        {
          "name": "stderr",
          "output_type": "stream",
          "text": [
            "  8%|▊         | 38/500 [06:30<1:00:52,  7.91s/it]"
          ]
        },
        {
          "name": "stdout",
          "output_type": "stream",
          "text": [
            "Epoch 38, Test loss: 19.6813244280361\n",
            "Epoch 39, Train loss: 14.173891015781297\n"
          ]
        },
        {
          "name": "stderr",
          "output_type": "stream",
          "text": [
            "  8%|▊         | 39/500 [06:38<1:00:42,  7.90s/it]"
          ]
        },
        {
          "name": "stdout",
          "output_type": "stream",
          "text": [
            "Epoch 39, Test loss: 19.6810416054158\n",
            "Epoch 40, Train loss: 14.094644690818257\n"
          ]
        },
        {
          "name": "stderr",
          "output_type": "stream",
          "text": [
            "  8%|▊         | 40/500 [06:45<59:14,  7.73s/it]  "
          ]
        },
        {
          "name": "stdout",
          "output_type": "stream",
          "text": [
            "Epoch 40, Test loss: 19.06538965020861\n",
            "Epoch 41, Train loss: 14.053135554326905\n"
          ]
        },
        {
          "name": "stderr",
          "output_type": "stream",
          "text": [
            "  8%|▊         | 41/500 [06:53<59:35,  7.79s/it]"
          ]
        },
        {
          "name": "stdout",
          "output_type": "stream",
          "text": [
            "Epoch 41, Test loss: 19.087559073690382\n",
            "Epoch 42, Train loss: 13.997348467244043\n"
          ]
        },
        {
          "name": "stderr",
          "output_type": "stream",
          "text": [
            "  8%|▊         | 42/500 [07:00<58:31,  7.67s/it]"
          ]
        },
        {
          "name": "stdout",
          "output_type": "stream",
          "text": [
            "Epoch 42, Test loss: 19.021689345439274\n",
            "Epoch 43, Train loss: 13.950453248752488\n"
          ]
        },
        {
          "name": "stderr",
          "output_type": "stream",
          "text": [
            "  9%|▊         | 43/500 [07:07<56:45,  7.45s/it]"
          ]
        },
        {
          "name": "stdout",
          "output_type": "stream",
          "text": [
            "Epoch 43, Test loss: 18.59593928711755\n",
            "Epoch 44, Train loss: 13.914336449371444\n"
          ]
        },
        {
          "name": "stderr",
          "output_type": "stream",
          "text": [
            "  9%|▉         | 44/500 [07:15<56:45,  7.47s/it]"
          ]
        },
        {
          "name": "stdout",
          "output_type": "stream",
          "text": [
            "Epoch 44, Test loss: 18.240337207676873\n",
            "Epoch 45, Train loss: 13.87384402314822\n"
          ]
        },
        {
          "name": "stderr",
          "output_type": "stream",
          "text": [
            "  9%|▉         | 45/500 [07:23<57:22,  7.57s/it]"
          ]
        },
        {
          "name": "stdout",
          "output_type": "stream",
          "text": [
            "Epoch 45, Test loss: 17.90282285828439\n",
            "Epoch 46, Train loss: 13.850788756608964\n"
          ]
        },
        {
          "name": "stderr",
          "output_type": "stream",
          "text": [
            "  9%|▉         | 46/500 [07:30<56:11,  7.43s/it]"
          ]
        },
        {
          "name": "stdout",
          "output_type": "stream",
          "text": [
            "Epoch 46, Test loss: 17.90461715677428\n",
            "Epoch 47, Train loss: 13.812921332849397\n"
          ]
        },
        {
          "name": "stderr",
          "output_type": "stream",
          "text": [
            "  9%|▉         | 47/500 [07:36<54:33,  7.23s/it]"
          ]
        },
        {
          "name": "stdout",
          "output_type": "stream",
          "text": [
            "Epoch 47, Test loss: 17.39343130493921\n",
            "Epoch 48, Train loss: 13.787123806211683\n"
          ]
        },
        {
          "name": "stderr",
          "output_type": "stream",
          "text": [
            " 10%|▉         | 48/500 [07:43<53:31,  7.11s/it]"
          ]
        },
        {
          "name": "stdout",
          "output_type": "stream",
          "text": [
            "Epoch 48, Test loss: 17.11563037832578\n",
            "Epoch 49, Train loss: 13.752313425739606\n"
          ]
        },
        {
          "name": "stderr",
          "output_type": "stream",
          "text": [
            " 10%|▉         | 49/500 [07:51<53:41,  7.14s/it]"
          ]
        },
        {
          "name": "stdout",
          "output_type": "stream",
          "text": [
            "Epoch 49, Test loss: 16.724107493010777\n",
            "Epoch 50, Train loss: 13.70921095430851\n"
          ]
        },
        {
          "name": "stderr",
          "output_type": "stream",
          "text": [
            " 10%|█         | 50/500 [07:57<52:48,  7.04s/it]"
          ]
        },
        {
          "name": "stdout",
          "output_type": "stream",
          "text": [
            "Epoch 50, Test loss: 16.463508955543002\n",
            "Epoch 51, Train loss: 13.671695001853838\n"
          ]
        },
        {
          "name": "stderr",
          "output_type": "stream",
          "text": [
            " 10%|█         | 51/500 [08:05<53:28,  7.15s/it]"
          ]
        },
        {
          "name": "stdout",
          "output_type": "stream",
          "text": [
            "Epoch 51, Test loss: 16.105894787444008\n",
            "Epoch 52, Train loss: 13.623860067129135\n"
          ]
        },
        {
          "name": "stderr",
          "output_type": "stream",
          "text": [
            " 10%|█         | 52/500 [08:12<53:36,  7.18s/it]"
          ]
        },
        {
          "name": "stdout",
          "output_type": "stream",
          "text": [
            "Epoch 52, Test loss: 15.832910501294666\n",
            "Epoch 53, Train loss: 13.575712124175496\n"
          ]
        },
        {
          "name": "stderr",
          "output_type": "stream",
          "text": [
            " 11%|█         | 53/500 [08:19<52:30,  7.05s/it]"
          ]
        },
        {
          "name": "stdout",
          "output_type": "stream",
          "text": [
            "Epoch 53, Test loss: 15.504224983472673\n",
            "Epoch 54, Train loss: 13.522223215500514\n"
          ]
        },
        {
          "name": "stderr",
          "output_type": "stream",
          "text": [
            " 11%|█         | 54/500 [08:25<51:49,  6.97s/it]"
          ]
        },
        {
          "name": "stdout",
          "output_type": "stream",
          "text": [
            "Epoch 54, Test loss: 15.236066944542385\n",
            "Epoch 55, Train loss: 13.465150178803338\n"
          ]
        },
        {
          "name": "stderr",
          "output_type": "stream",
          "text": [
            " 11%|█         | 55/500 [08:32<51:42,  6.97s/it]"
          ]
        },
        {
          "name": "stdout",
          "output_type": "stream",
          "text": [
            "Epoch 55, Test loss: 14.936992140516402\n",
            "Epoch 56, Train loss: 13.422040981186761\n"
          ]
        },
        {
          "name": "stderr",
          "output_type": "stream",
          "text": [
            " 11%|█         | 56/500 [08:39<51:00,  6.89s/it]"
          ]
        },
        {
          "name": "stdout",
          "output_type": "stream",
          "text": [
            "Epoch 56, Test loss: 14.702945248948204\n",
            "Epoch 57, Train loss: 13.380729219317436\n"
          ]
        },
        {
          "name": "stderr",
          "output_type": "stream",
          "text": [
            " 11%|█▏        | 57/500 [08:47<52:00,  7.04s/it]"
          ]
        },
        {
          "name": "stdout",
          "output_type": "stream",
          "text": [
            "Epoch 57, Test loss: 14.456515647589214\n",
            "Epoch 58, Train loss: 13.308613408274121\n"
          ]
        },
        {
          "name": "stderr",
          "output_type": "stream",
          "text": [
            " 12%|█▏        | 58/500 [08:54<53:13,  7.22s/it]"
          ]
        },
        {
          "name": "stdout",
          "output_type": "stream",
          "text": [
            "Epoch 58, Test loss: 14.241582850615183\n",
            "Epoch 59, Train loss: 13.261341522402233\n"
          ]
        },
        {
          "name": "stderr",
          "output_type": "stream",
          "text": [
            " 12%|█▏        | 59/500 [09:01<52:50,  7.19s/it]"
          ]
        },
        {
          "name": "stdout",
          "output_type": "stream",
          "text": [
            "Epoch 59, Test loss: 14.035996329689782\n",
            "Epoch 60, Train loss: 13.21310282256868\n"
          ]
        },
        {
          "name": "stderr",
          "output_type": "stream",
          "text": [
            " 12%|█▏        | 60/500 [09:08<52:37,  7.18s/it]"
          ]
        },
        {
          "name": "stdout",
          "output_type": "stream",
          "text": [
            "Epoch 60, Test loss: 13.899796483535615\n",
            "Epoch 61, Train loss: 13.175964452690549\n"
          ]
        },
        {
          "name": "stderr",
          "output_type": "stream",
          "text": [
            " 12%|█▏        | 61/500 [09:15<52:09,  7.13s/it]"
          ]
        },
        {
          "name": "stdout",
          "output_type": "stream",
          "text": [
            "Epoch 61, Test loss: 13.77791491481993\n",
            "Epoch 62, Train loss: 13.139804892937342\n"
          ]
        },
        {
          "name": "stderr",
          "output_type": "stream",
          "text": [
            " 12%|█▏        | 62/500 [09:22<51:32,  7.06s/it]"
          ]
        },
        {
          "name": "stdout",
          "output_type": "stream",
          "text": [
            "Epoch 62, Test loss: 13.687855461760172\n",
            "Epoch 63, Train loss: 13.104718822770648\n"
          ]
        },
        {
          "name": "stderr",
          "output_type": "stream",
          "text": [
            " 13%|█▎        | 63/500 [09:30<52:09,  7.16s/it]"
          ]
        },
        {
          "name": "stdout",
          "output_type": "stream",
          "text": [
            "Epoch 63, Test loss: 13.581516382713167\n",
            "Epoch 64, Train loss: 13.072408742904663\n"
          ]
        },
        {
          "name": "stderr",
          "output_type": "stream",
          "text": [
            " 13%|█▎        | 64/500 [09:37<52:53,  7.28s/it]"
          ]
        },
        {
          "name": "stdout",
          "output_type": "stream",
          "text": [
            "Epoch 64, Test loss: 13.499488190053002\n",
            "Epoch 65, Train loss: 13.042806700865428\n"
          ]
        },
        {
          "name": "stderr",
          "output_type": "stream",
          "text": [
            " 13%|█▎        | 65/500 [09:45<52:42,  7.27s/it]"
          ]
        },
        {
          "name": "stdout",
          "output_type": "stream",
          "text": [
            "Epoch 65, Test loss: 13.429693337470766\n",
            "Epoch 66, Train loss: 13.01208375579781\n"
          ]
        },
        {
          "name": "stderr",
          "output_type": "stream",
          "text": [
            " 13%|█▎        | 66/500 [09:52<51:51,  7.17s/it]"
          ]
        },
        {
          "name": "stdout",
          "output_type": "stream",
          "text": [
            "Epoch 66, Test loss: 13.366633240665708\n",
            "Epoch 67, Train loss: 12.98515332520008\n"
          ]
        },
        {
          "name": "stderr",
          "output_type": "stream",
          "text": [
            " 13%|█▎        | 67/500 [09:59<51:31,  7.14s/it]"
          ]
        },
        {
          "name": "stdout",
          "output_type": "stream",
          "text": [
            "Epoch 67, Test loss: 13.299551115622597\n",
            "Epoch 68, Train loss: 12.959668708774778\n"
          ]
        },
        {
          "name": "stderr",
          "output_type": "stream",
          "text": [
            " 14%|█▎        | 68/500 [10:06<51:03,  7.09s/it]"
          ]
        },
        {
          "name": "stdout",
          "output_type": "stream",
          "text": [
            "Epoch 68, Test loss: 13.264314211550213\n",
            "Epoch 69, Train loss: 12.937022229499288\n"
          ]
        },
        {
          "name": "stderr",
          "output_type": "stream",
          "text": [
            " 14%|█▍        | 69/500 [10:13<51:15,  7.14s/it]"
          ]
        },
        {
          "name": "stdout",
          "output_type": "stream",
          "text": [
            "Epoch 69, Test loss: 13.217199232843187\n",
            "Epoch 70, Train loss: 12.914191789097256\n"
          ]
        },
        {
          "name": "stderr",
          "output_type": "stream",
          "text": [
            " 14%|█▍        | 70/500 [10:20<52:17,  7.30s/it]"
          ]
        },
        {
          "name": "stdout",
          "output_type": "stream",
          "text": [
            "Epoch 70, Test loss: 13.182000063714527\n",
            "Epoch 71, Train loss: 12.892161634299491\n"
          ]
        },
        {
          "name": "stderr",
          "output_type": "stream",
          "text": [
            " 14%|█▍        | 71/500 [10:28<52:04,  7.28s/it]"
          ]
        },
        {
          "name": "stdout",
          "output_type": "stream",
          "text": [
            "Epoch 71, Test loss: 13.167715462900343\n",
            "Epoch 72, Train loss: 12.872450382643276\n"
          ]
        },
        {
          "name": "stderr",
          "output_type": "stream",
          "text": [
            " 14%|█▍        | 72/500 [10:35<51:13,  7.18s/it]"
          ]
        },
        {
          "name": "stdout",
          "output_type": "stream",
          "text": [
            "Epoch 72, Test loss: 13.126125175328482\n",
            "Epoch 73, Train loss: 12.853308137191666\n"
          ]
        },
        {
          "name": "stderr",
          "output_type": "stream",
          "text": [
            " 15%|█▍        | 73/500 [10:42<50:43,  7.13s/it]"
          ]
        },
        {
          "name": "stdout",
          "output_type": "stream",
          "text": [
            "Epoch 73, Test loss: 13.112557553109669\n",
            "Epoch 74, Train loss: 12.835950360563066\n"
          ]
        },
        {
          "name": "stderr",
          "output_type": "stream",
          "text": [
            " 15%|█▍        | 74/500 [10:49<50:16,  7.08s/it]"
          ]
        },
        {
          "name": "stdout",
          "output_type": "stream",
          "text": [
            "Epoch 74, Test loss: 13.08586635996425\n",
            "Epoch 75, Train loss: 12.817984785967402\n"
          ]
        },
        {
          "name": "stderr",
          "output_type": "stream",
          "text": [
            " 15%|█▌        | 75/500 [10:56<50:39,  7.15s/it]"
          ]
        },
        {
          "name": "stdout",
          "output_type": "stream",
          "text": [
            "Epoch 75, Test loss: 13.068229353617108\n",
            "Epoch 76, Train loss: 12.800506962537765\n"
          ]
        },
        {
          "name": "stderr",
          "output_type": "stream",
          "text": [
            " 15%|█▌        | 76/500 [11:04<51:35,  7.30s/it]"
          ]
        },
        {
          "name": "stdout",
          "output_type": "stream",
          "text": [
            "Epoch 76, Test loss: 13.060408924307142\n",
            "Epoch 77, Train loss: 12.786664155589209\n"
          ]
        },
        {
          "name": "stderr",
          "output_type": "stream",
          "text": [
            " 15%|█▌        | 77/500 [11:11<51:42,  7.34s/it]"
          ]
        },
        {
          "name": "stdout",
          "output_type": "stream",
          "text": [
            "Epoch 77, Test loss: 13.039243037738498\n",
            "Epoch 78, Train loss: 12.771491557227241\n"
          ]
        },
        {
          "name": "stderr",
          "output_type": "stream",
          "text": [
            " 16%|█▌        | 78/500 [11:18<51:07,  7.27s/it]"
          ]
        },
        {
          "name": "stdout",
          "output_type": "stream",
          "text": [
            "Epoch 78, Test loss: 13.037006986046594\n",
            "Epoch 79, Train loss: 12.757919915186035\n"
          ]
        },
        {
          "name": "stderr",
          "output_type": "stream",
          "text": [
            " 16%|█▌        | 79/500 [11:25<50:22,  7.18s/it]"
          ]
        },
        {
          "name": "stdout",
          "output_type": "stream",
          "text": [
            "Epoch 79, Test loss: 13.019105119837654\n",
            "Epoch 80, Train loss: 12.748022874792417\n"
          ]
        },
        {
          "name": "stderr",
          "output_type": "stream",
          "text": [
            " 16%|█▌        | 80/500 [11:32<49:46,  7.11s/it]"
          ]
        },
        {
          "name": "stdout",
          "output_type": "stream",
          "text": [
            "Epoch 80, Test loss: 13.00094642431017\n",
            "Epoch 81, Train loss: 12.734567435118887\n"
          ]
        },
        {
          "name": "stderr",
          "output_type": "stream",
          "text": [
            " 16%|█▌        | 81/500 [11:39<49:46,  7.13s/it]"
          ]
        },
        {
          "name": "stdout",
          "output_type": "stream",
          "text": [
            "Epoch 81, Test loss: 12.997302108340794\n",
            "Epoch 82, Train loss: 12.72104584760136\n"
          ]
        },
        {
          "name": "stderr",
          "output_type": "stream",
          "text": [
            " 16%|█▋        | 82/500 [11:47<50:36,  7.26s/it]"
          ]
        },
        {
          "name": "stdout",
          "output_type": "stream",
          "text": [
            "Epoch 82, Test loss: 12.979405931537114\n",
            "Epoch 83, Train loss: 12.705405942002931\n"
          ]
        },
        {
          "name": "stderr",
          "output_type": "stream",
          "text": [
            " 17%|█▋        | 83/500 [11:54<51:02,  7.34s/it]"
          ]
        },
        {
          "name": "stdout",
          "output_type": "stream",
          "text": [
            "Epoch 83, Test loss: 12.975931459476078\n",
            "Epoch 84, Train loss: 12.697617775466707\n"
          ]
        },
        {
          "name": "stderr",
          "output_type": "stream",
          "text": [
            " 17%|█▋        | 84/500 [12:01<50:16,  7.25s/it]"
          ]
        },
        {
          "name": "stdout",
          "output_type": "stream",
          "text": [
            "Epoch 84, Test loss: 12.972148750036482\n",
            "Epoch 85, Train loss: 12.688558095826043\n"
          ]
        },
        {
          "name": "stderr",
          "output_type": "stream",
          "text": [
            " 17%|█▋        | 85/500 [12:09<49:52,  7.21s/it]"
          ]
        },
        {
          "name": "stdout",
          "output_type": "stream",
          "text": [
            "Epoch 85, Test loss: 12.963015803268977\n",
            "Epoch 86, Train loss: 12.6741033132871\n"
          ]
        },
        {
          "name": "stderr",
          "output_type": "stream",
          "text": [
            " 17%|█▋        | 86/500 [12:16<49:25,  7.16s/it]"
          ]
        },
        {
          "name": "stdout",
          "output_type": "stream",
          "text": [
            "Epoch 86, Test loss: 12.952960432048828\n",
            "Epoch 87, Train loss: 12.668238234917323\n"
          ]
        },
        {
          "name": "stderr",
          "output_type": "stream",
          "text": [
            " 17%|█▋        | 87/500 [12:23<48:59,  7.12s/it]"
          ]
        },
        {
          "name": "stdout",
          "output_type": "stream",
          "text": [
            "Epoch 87, Test loss: 12.949438849138835\n",
            "Epoch 88, Train loss: 12.662403629289733\n"
          ]
        },
        {
          "name": "stderr",
          "output_type": "stream",
          "text": [
            " 18%|█▊        | 88/500 [12:30<49:42,  7.24s/it]"
          ]
        },
        {
          "name": "stdout",
          "output_type": "stream",
          "text": [
            "Epoch 88, Test loss: 12.94240624280203\n",
            "Epoch 89, Train loss: 12.652955410877864\n"
          ]
        },
        {
          "name": "stderr",
          "output_type": "stream",
          "text": [
            " 18%|█▊        | 89/500 [12:38<50:14,  7.33s/it]"
          ]
        },
        {
          "name": "stdout",
          "output_type": "stream",
          "text": [
            "Epoch 89, Test loss: 12.926369748418294\n",
            "Epoch 90, Train loss: 12.642233705586857\n"
          ]
        },
        {
          "name": "stderr",
          "output_type": "stream",
          "text": [
            " 18%|█▊        | 90/500 [12:45<49:19,  7.22s/it]"
          ]
        },
        {
          "name": "stdout",
          "output_type": "stream",
          "text": [
            "Epoch 90, Test loss: 12.923535345092652\n",
            "Epoch 91, Train loss: 12.635986996624204\n"
          ]
        },
        {
          "name": "stderr",
          "output_type": "stream",
          "text": [
            " 18%|█▊        | 91/500 [12:52<48:45,  7.15s/it]"
          ]
        },
        {
          "name": "stdout",
          "output_type": "stream",
          "text": [
            "Epoch 91, Test loss: 12.920252043576468\n",
            "Epoch 92, Train loss: 12.631933955483966\n"
          ]
        },
        {
          "name": "stderr",
          "output_type": "stream",
          "text": [
            " 18%|█▊        | 92/500 [12:59<48:18,  7.10s/it]"
          ]
        },
        {
          "name": "stdout",
          "output_type": "stream",
          "text": [
            "Epoch 92, Test loss: 12.929190696231903\n",
            "Epoch 93, Train loss: 12.626424751546647\n"
          ]
        },
        {
          "name": "stderr",
          "output_type": "stream",
          "text": [
            " 19%|█▊        | 93/500 [13:06<48:11,  7.11s/it]"
          ]
        },
        {
          "name": "stdout",
          "output_type": "stream",
          "text": [
            "Epoch 93, Test loss: 12.92440732367455\n",
            "Epoch 94, Train loss: 12.620017693042755\n"
          ]
        },
        {
          "name": "stderr",
          "output_type": "stream",
          "text": [
            " 19%|█▉        | 94/500 [13:13<48:43,  7.20s/it]"
          ]
        },
        {
          "name": "stdout",
          "output_type": "stream",
          "text": [
            "Epoch 94, Test loss: 12.92032298682228\n",
            "Epoch 95, Train loss: 12.614153706563844\n"
          ]
        },
        {
          "name": "stderr",
          "output_type": "stream",
          "text": [
            " 19%|█▉        | 95/500 [13:21<49:25,  7.32s/it]"
          ]
        },
        {
          "name": "stdout",
          "output_type": "stream",
          "text": [
            "Epoch 95, Test loss: 12.914235195470235\n",
            "Epoch 96, Train loss: 12.6095043973128\n"
          ]
        },
        {
          "name": "stderr",
          "output_type": "stream",
          "text": [
            " 19%|█▉        | 96/500 [13:28<48:48,  7.25s/it]"
          ]
        },
        {
          "name": "stdout",
          "output_type": "stream",
          "text": [
            "Epoch 96, Test loss: 12.909579556139688\n",
            "Epoch 97, Train loss: 12.603882776167657\n"
          ]
        },
        {
          "name": "stderr",
          "output_type": "stream",
          "text": [
            " 19%|█▉        | 97/500 [13:35<48:14,  7.18s/it]"
          ]
        },
        {
          "name": "stdout",
          "output_type": "stream",
          "text": [
            "Epoch 97, Test loss: 12.84749645042041\n",
            "Epoch 98, Train loss: 12.58795195983516\n"
          ]
        },
        {
          "name": "stderr",
          "output_type": "stream",
          "text": [
            " 20%|█▉        | 98/500 [13:42<47:46,  7.13s/it]"
          ]
        },
        {
          "name": "stdout",
          "output_type": "stream",
          "text": [
            "Epoch 98, Test loss: 12.83554953052884\n",
            "Epoch 99, Train loss: 12.573046323458353\n"
          ]
        },
        {
          "name": "stderr",
          "output_type": "stream",
          "text": [
            " 20%|█▉        | 99/500 [13:49<47:23,  7.09s/it]"
          ]
        },
        {
          "name": "stdout",
          "output_type": "stream",
          "text": [
            "Epoch 99, Test loss: 12.831826748355986\n",
            "Epoch 100, Train loss: 12.565523782173793\n"
          ]
        },
        {
          "name": "stderr",
          "output_type": "stream",
          "text": [
            " 20%|██        | 100/500 [13:56<48:09,  7.22s/it]"
          ]
        },
        {
          "name": "stdout",
          "output_type": "stream",
          "text": [
            "Epoch 100, Test loss: 12.828278330583421\n",
            "Epoch 101, Train loss: 12.559013229144943\n"
          ]
        },
        {
          "name": "stderr",
          "output_type": "stream",
          "text": [
            " 20%|██        | 101/500 [14:04<48:35,  7.31s/it]"
          ]
        },
        {
          "name": "stdout",
          "output_type": "stream",
          "text": [
            "Epoch 101, Test loss: 12.82519927147835\n",
            "Epoch 102, Train loss: 12.553137976196076\n"
          ]
        },
        {
          "name": "stderr",
          "output_type": "stream",
          "text": [
            " 20%|██        | 102/500 [14:11<48:02,  7.24s/it]"
          ]
        },
        {
          "name": "stdout",
          "output_type": "stream",
          "text": [
            "Epoch 102, Test loss: 12.821966332102578\n",
            "Epoch 103, Train loss: 12.547188008626302\n"
          ]
        },
        {
          "name": "stderr",
          "output_type": "stream",
          "text": [
            " 21%|██        | 103/500 [14:18<47:44,  7.22s/it]"
          ]
        },
        {
          "name": "stdout",
          "output_type": "stream",
          "text": [
            "Epoch 103, Test loss: 12.819950995464174\n",
            "Epoch 104, Train loss: 12.542132581604852\n"
          ]
        },
        {
          "name": "stderr",
          "output_type": "stream",
          "text": [
            " 21%|██        | 104/500 [14:25<47:09,  7.15s/it]"
          ]
        },
        {
          "name": "stdout",
          "output_type": "stream",
          "text": [
            "Epoch 104, Test loss: 12.8166280630089\n",
            "Epoch 105, Train loss: 12.536620173917877\n"
          ]
        },
        {
          "name": "stderr",
          "output_type": "stream",
          "text": [
            " 21%|██        | 105/500 [14:32<46:31,  7.07s/it]"
          ]
        },
        {
          "name": "stdout",
          "output_type": "stream",
          "text": [
            "Epoch 105, Test loss: 12.814239740371704\n",
            "Epoch 106, Train loss: 12.531708583301969\n"
          ]
        },
        {
          "name": "stderr",
          "output_type": "stream",
          "text": [
            " 21%|██        | 106/500 [14:39<46:45,  7.12s/it]"
          ]
        },
        {
          "name": "stdout",
          "output_type": "stream",
          "text": [
            "Epoch 106, Test loss: 12.811614897042986\n",
            "Epoch 107, Train loss: 12.526924168666204\n"
          ]
        },
        {
          "name": "stderr",
          "output_type": "stream",
          "text": [
            " 21%|██▏       | 107/500 [14:47<47:23,  7.24s/it]"
          ]
        },
        {
          "name": "stdout",
          "output_type": "stream",
          "text": [
            "Epoch 107, Test loss: 12.809424407898433\n",
            "Epoch 108, Train loss: 12.522464660074975\n"
          ]
        },
        {
          "name": "stderr",
          "output_type": "stream",
          "text": [
            " 22%|██▏       | 108/500 [14:54<47:39,  7.30s/it]"
          ]
        },
        {
          "name": "stdout",
          "output_type": "stream",
          "text": [
            "Epoch 108, Test loss: 12.807556749809356\n",
            "Epoch 109, Train loss: 12.518172111180094\n"
          ]
        },
        {
          "name": "stderr",
          "output_type": "stream",
          "text": [
            " 22%|██▏       | 109/500 [15:01<46:46,  7.18s/it]"
          ]
        },
        {
          "name": "stdout",
          "output_type": "stream",
          "text": [
            "Epoch 109, Test loss: 12.805075333231972\n",
            "Epoch 110, Train loss: 12.5141235156854\n"
          ]
        },
        {
          "name": "stderr",
          "output_type": "stream",
          "text": [
            " 22%|██▏       | 110/500 [15:08<46:06,  7.09s/it]"
          ]
        },
        {
          "name": "stdout",
          "output_type": "stream",
          "text": [
            "Epoch 110, Test loss: 12.802557341636174\n",
            "Epoch 111, Train loss: 12.510165327919854\n"
          ]
        },
        {
          "name": "stderr",
          "output_type": "stream",
          "text": [
            " 22%|██▏       | 111/500 [15:15<45:29,  7.02s/it]"
          ]
        },
        {
          "name": "stdout",
          "output_type": "stream",
          "text": [
            "Epoch 111, Test loss: 12.800276401024016\n",
            "Epoch 112, Train loss: 12.506467864910762\n"
          ]
        },
        {
          "name": "stderr",
          "output_type": "stream",
          "text": [
            " 22%|██▏       | 112/500 [15:22<45:15,  7.00s/it]"
          ]
        },
        {
          "name": "stdout",
          "output_type": "stream",
          "text": [
            "Epoch 112, Test loss: 12.798123095243696\n",
            "Epoch 113, Train loss: 12.503083841337098\n"
          ]
        },
        {
          "name": "stderr",
          "output_type": "stream",
          "text": [
            " 23%|██▎       | 113/500 [15:29<46:01,  7.14s/it]"
          ]
        },
        {
          "name": "stdout",
          "output_type": "stream",
          "text": [
            "Epoch 113, Test loss: 12.796137587891685\n",
            "Epoch 114, Train loss: 12.499724397328166\n"
          ]
        },
        {
          "name": "stderr",
          "output_type": "stream",
          "text": [
            " 23%|██▎       | 114/500 [15:37<46:38,  7.25s/it]"
          ]
        },
        {
          "name": "stdout",
          "output_type": "stream",
          "text": [
            "Epoch 114, Test loss: 12.794549485520712\n",
            "Epoch 115, Train loss: 12.496562610930866\n"
          ]
        },
        {
          "name": "stderr",
          "output_type": "stream",
          "text": [
            " 23%|██▎       | 115/500 [15:44<45:47,  7.14s/it]"
          ]
        },
        {
          "name": "stdout",
          "output_type": "stream",
          "text": [
            "Epoch 115, Test loss: 12.792803687708718\n",
            "Epoch 116, Train loss: 12.493605759011375\n"
          ]
        },
        {
          "name": "stderr",
          "output_type": "stream",
          "text": [
            " 23%|██▎       | 116/500 [15:50<45:01,  7.03s/it]"
          ]
        },
        {
          "name": "stdout",
          "output_type": "stream",
          "text": [
            "Epoch 116, Test loss: 12.791086117899606\n",
            "Epoch 117, Train loss: 12.490719108184178\n"
          ]
        },
        {
          "name": "stderr",
          "output_type": "stream",
          "text": [
            " 23%|██▎       | 117/500 [15:57<44:57,  7.04s/it]"
          ]
        },
        {
          "name": "stdout",
          "output_type": "stream",
          "text": [
            "Epoch 117, Test loss: 12.789577699842907\n",
            "Epoch 118, Train loss: 12.487901493840747\n"
          ]
        },
        {
          "name": "stderr",
          "output_type": "stream",
          "text": [
            " 24%|██▎       | 118/500 [16:04<44:47,  7.04s/it]"
          ]
        },
        {
          "name": "stdout",
          "output_type": "stream",
          "text": [
            "Epoch 118, Test loss: 12.788421031028506\n",
            "Epoch 119, Train loss: 12.485296013818846\n"
          ]
        },
        {
          "name": "stderr",
          "output_type": "stream",
          "text": [
            " 24%|██▍       | 119/500 [16:12<45:35,  7.18s/it]"
          ]
        },
        {
          "name": "stdout",
          "output_type": "stream",
          "text": [
            "Epoch 119, Test loss: 12.787164965319255\n",
            "Epoch 120, Train loss: 12.482733959754308\n"
          ]
        },
        {
          "name": "stderr",
          "output_type": "stream",
          "text": [
            " 24%|██▍       | 120/500 [16:19<46:01,  7.27s/it]"
          ]
        },
        {
          "name": "stdout",
          "output_type": "stream",
          "text": [
            "Epoch 120, Test loss: 12.785982589400003\n",
            "Epoch 121, Train loss: 12.480308909747336\n"
          ]
        },
        {
          "name": "stderr",
          "output_type": "stream",
          "text": [
            " 24%|██▍       | 121/500 [16:27<45:32,  7.21s/it]"
          ]
        },
        {
          "name": "stdout",
          "output_type": "stream",
          "text": [
            "Epoch 121, Test loss: 12.784766493335603\n",
            "Epoch 122, Train loss: 12.47805481215318\n"
          ]
        },
        {
          "name": "stderr",
          "output_type": "stream",
          "text": [
            " 24%|██▍       | 122/500 [16:33<44:52,  7.12s/it]"
          ]
        },
        {
          "name": "stdout",
          "output_type": "stream",
          "text": [
            "Epoch 122, Test loss: 12.783454886977635\n",
            "Epoch 123, Train loss: 12.475795572665003\n"
          ]
        },
        {
          "name": "stderr",
          "output_type": "stream",
          "text": [
            " 25%|██▍       | 123/500 [16:40<44:13,  7.04s/it]"
          ]
        },
        {
          "name": "stdout",
          "output_type": "stream",
          "text": [
            "Epoch 123, Test loss: 12.78258124750758\n",
            "Epoch 124, Train loss: 12.473682336012523\n"
          ]
        },
        {
          "name": "stderr",
          "output_type": "stream",
          "text": [
            " 25%|██▍       | 124/500 [16:47<43:46,  6.98s/it]"
          ]
        },
        {
          "name": "stdout",
          "output_type": "stream",
          "text": [
            "Epoch 124, Test loss: 12.781500674902446\n",
            "Epoch 125, Train loss: 12.47171411467923\n"
          ]
        },
        {
          "name": "stderr",
          "output_type": "stream",
          "text": [
            " 25%|██▌       | 125/500 [16:55<44:32,  7.13s/it]"
          ]
        },
        {
          "name": "stdout",
          "output_type": "stream",
          "text": [
            "Epoch 125, Test loss: 12.780615003336044\n",
            "Epoch 126, Train loss: 12.46980207780997\n"
          ]
        },
        {
          "name": "stderr",
          "output_type": "stream",
          "text": [
            " 25%|██▌       | 126/500 [17:02<45:19,  7.27s/it]"
          ]
        },
        {
          "name": "stdout",
          "output_type": "stream",
          "text": [
            "Epoch 126, Test loss: 12.779696853860976\n",
            "Epoch 127, Train loss: 12.46794038746092\n"
          ]
        },
        {
          "name": "stderr",
          "output_type": "stream",
          "text": [
            " 25%|██▌       | 127/500 [17:09<45:05,  7.25s/it]"
          ]
        },
        {
          "name": "stdout",
          "output_type": "stream",
          "text": [
            "Epoch 127, Test loss: 12.779066185156504\n",
            "Epoch 128, Train loss: 12.466256008545558\n"
          ]
        },
        {
          "name": "stderr",
          "output_type": "stream",
          "text": [
            " 26%|██▌       | 128/500 [17:16<44:17,  7.14s/it]"
          ]
        },
        {
          "name": "stdout",
          "output_type": "stream",
          "text": [
            "Epoch 128, Test loss: 12.77823209715268\n",
            "Epoch 129, Train loss: 12.464651374353302\n"
          ]
        },
        {
          "name": "stderr",
          "output_type": "stream",
          "text": [
            " 26%|██▌       | 129/500 [17:23<43:52,  7.10s/it]"
          ]
        },
        {
          "name": "stdout",
          "output_type": "stream",
          "text": [
            "Epoch 129, Test loss: 12.777479498159318\n",
            "Epoch 130, Train loss: 12.463073391715685\n"
          ]
        },
        {
          "name": "stderr",
          "output_type": "stream",
          "text": [
            " 26%|██▌       | 130/500 [17:30<43:16,  7.02s/it]"
          ]
        },
        {
          "name": "stdout",
          "output_type": "stream",
          "text": [
            "Epoch 130, Test loss: 12.776716279605079\n",
            "Epoch 131, Train loss: 12.461601205269496\n"
          ]
        },
        {
          "name": "stderr",
          "output_type": "stream",
          "text": [
            " 26%|██▌       | 131/500 [17:37<43:05,  7.01s/it]"
          ]
        },
        {
          "name": "stdout",
          "output_type": "stream",
          "text": [
            "Epoch 131, Test loss: 12.775946193744266\n",
            "Epoch 132, Train loss: 12.460169170829985\n"
          ]
        },
        {
          "name": "stderr",
          "output_type": "stream",
          "text": [
            " 26%|██▋       | 132/500 [17:45<44:07,  7.19s/it]"
          ]
        },
        {
          "name": "stdout",
          "output_type": "stream",
          "text": [
            "Epoch 132, Test loss: 12.775170373065132\n",
            "Epoch 133, Train loss: 12.458801170719994\n"
          ]
        },
        {
          "name": "stderr",
          "output_type": "stream",
          "text": [
            " 27%|██▋       | 133/500 [17:52<44:12,  7.23s/it]"
          ]
        },
        {
          "name": "stdout",
          "output_type": "stream",
          "text": [
            "Epoch 133, Test loss: 12.774544956192138\n",
            "Epoch 134, Train loss: 12.457534404198329\n"
          ]
        },
        {
          "name": "stderr",
          "output_type": "stream",
          "text": [
            " 27%|██▋       | 134/500 [17:59<43:25,  7.12s/it]"
          ]
        },
        {
          "name": "stdout",
          "output_type": "stream",
          "text": [
            "Epoch 134, Test loss: 12.773863270642265\n",
            "Epoch 135, Train loss: 12.456307257745001\n"
          ]
        },
        {
          "name": "stderr",
          "output_type": "stream",
          "text": [
            " 27%|██▋       | 135/500 [18:06<42:59,  7.07s/it]"
          ]
        },
        {
          "name": "stdout",
          "output_type": "stream",
          "text": [
            "Epoch 135, Test loss: 12.773343563079834\n",
            "Epoch 136, Train loss: 12.455145486328338\n"
          ]
        },
        {
          "name": "stderr",
          "output_type": "stream",
          "text": [
            " 27%|██▋       | 136/500 [18:13<42:46,  7.05s/it]"
          ]
        },
        {
          "name": "stdout",
          "output_type": "stream",
          "text": [
            "Epoch 136, Test loss: 12.772695282621989\n",
            "Epoch 137, Train loss: 12.454023397829797\n"
          ]
        },
        {
          "name": "stderr",
          "output_type": "stream",
          "text": [
            " 27%|██▋       | 137/500 [18:20<42:16,  6.99s/it]"
          ]
        },
        {
          "name": "stdout",
          "output_type": "stream",
          "text": [
            "Epoch 137, Test loss: 12.772070463214602\n",
            "Epoch 138, Train loss: 12.45299624396695\n"
          ]
        },
        {
          "name": "stderr",
          "output_type": "stream",
          "text": [
            " 28%|██▊       | 138/500 [18:27<42:59,  7.13s/it]"
          ]
        },
        {
          "name": "stdout",
          "output_type": "stream",
          "text": [
            "Epoch 138, Test loss: 12.771445976836342\n",
            "Epoch 139, Train loss: 12.45198082904021\n"
          ]
        },
        {
          "name": "stderr",
          "output_type": "stream",
          "text": [
            " 28%|██▊       | 139/500 [18:35<43:41,  7.26s/it]"
          ]
        },
        {
          "name": "stdout",
          "output_type": "stream",
          "text": [
            "Epoch 139, Test loss: 12.770818749117472\n",
            "Epoch 140, Train loss: 12.45100629263454\n"
          ]
        },
        {
          "name": "stderr",
          "output_type": "stream",
          "text": [
            " 28%|██▊       | 140/500 [18:42<43:09,  7.19s/it]"
          ]
        },
        {
          "name": "stdout",
          "output_type": "stream",
          "text": [
            "Epoch 140, Test loss: 12.770244464514748\n",
            "Epoch 141, Train loss: 12.450107790364159\n"
          ]
        },
        {
          "name": "stderr",
          "output_type": "stream",
          "text": [
            " 28%|██▊       | 141/500 [18:49<42:34,  7.12s/it]"
          ]
        },
        {
          "name": "stdout",
          "output_type": "stream",
          "text": [
            "Epoch 141, Test loss: 12.769688804944357\n",
            "Epoch 142, Train loss: 12.44924301902453\n"
          ]
        },
        {
          "name": "stderr",
          "output_type": "stream",
          "text": [
            " 28%|██▊       | 142/500 [18:56<42:09,  7.07s/it]"
          ]
        },
        {
          "name": "stdout",
          "output_type": "stream",
          "text": [
            "Epoch 142, Test loss: 12.769180177696168\n",
            "Epoch 143, Train loss: 12.448433231843842\n"
          ]
        },
        {
          "name": "stderr",
          "output_type": "stream",
          "text": [
            " 29%|██▊       | 143/500 [19:03<42:02,  7.06s/it]"
          ]
        },
        {
          "name": "stdout",
          "output_type": "stream",
          "text": [
            "Epoch 143, Test loss: 12.768618834397149\n",
            "Epoch 144, Train loss: 12.447658005489243\n"
          ]
        },
        {
          "name": "stderr",
          "output_type": "stream",
          "text": [
            " 29%|██▉       | 144/500 [19:10<42:31,  7.17s/it]"
          ]
        },
        {
          "name": "stdout",
          "output_type": "stream",
          "text": [
            "Epoch 144, Test loss: 12.768080335760873\n",
            "Epoch 145, Train loss: 12.44691100511286\n"
          ]
        },
        {
          "name": "stderr",
          "output_type": "stream",
          "text": [
            " 29%|██▉       | 145/500 [19:18<43:04,  7.28s/it]"
          ]
        },
        {
          "name": "stdout",
          "output_type": "stream",
          "text": [
            "Epoch 145, Test loss: 12.76754754781723\n",
            "Epoch 146, Train loss: 12.446200926502545\n"
          ]
        },
        {
          "name": "stderr",
          "output_type": "stream",
          "text": [
            " 29%|██▉       | 146/500 [19:25<42:39,  7.23s/it]"
          ]
        },
        {
          "name": "stdout",
          "output_type": "stream",
          "text": [
            "Epoch 146, Test loss: 12.767020109626982\n",
            "Epoch 147, Train loss: 12.445512663986948\n"
          ]
        },
        {
          "name": "stderr",
          "output_type": "stream",
          "text": [
            " 29%|██▉       | 147/500 [19:32<41:50,  7.11s/it]"
          ]
        },
        {
          "name": "stdout",
          "output_type": "stream",
          "text": [
            "Epoch 147, Test loss: 12.766537145962792\n",
            "Epoch 148, Train loss: 12.444850267238087\n"
          ]
        },
        {
          "name": "stderr",
          "output_type": "stream",
          "text": [
            " 30%|██▉       | 148/500 [19:39<41:22,  7.05s/it]"
          ]
        },
        {
          "name": "stdout",
          "output_type": "stream",
          "text": [
            "Epoch 148, Test loss: 12.766078166545384\n",
            "Epoch 149, Train loss: 12.444233835472001\n"
          ]
        },
        {
          "name": "stderr",
          "output_type": "stream",
          "text": [
            " 30%|██▉       | 149/500 [19:46<41:49,  7.15s/it]"
          ]
        },
        {
          "name": "stdout",
          "output_type": "stream",
          "text": [
            "Epoch 149, Test loss: 12.765638675008502\n",
            "Epoch 150, Train loss: 12.443650104006132\n"
          ]
        },
        {
          "name": "stderr",
          "output_type": "stream",
          "text": [
            " 30%|███       | 150/500 [19:54<43:17,  7.42s/it]"
          ]
        },
        {
          "name": "stdout",
          "output_type": "stream",
          "text": [
            "Epoch 150, Test loss: 12.76521841495756\n",
            "Epoch 151, Train loss: 12.44309567477968\n"
          ]
        },
        {
          "name": "stderr",
          "output_type": "stream",
          "text": [
            " 30%|███       | 151/500 [20:02<44:22,  7.63s/it]"
          ]
        },
        {
          "name": "stdout",
          "output_type": "stream",
          "text": [
            "Epoch 151, Test loss: 12.764798626067146\n",
            "Epoch 152, Train loss: 12.442541539139217\n"
          ]
        },
        {
          "name": "stderr",
          "output_type": "stream",
          "text": [
            " 30%|███       | 152/500 [20:09<43:13,  7.45s/it]"
          ]
        },
        {
          "name": "stdout",
          "output_type": "stream",
          "text": [
            "Epoch 152, Test loss: 12.764418609085537\n",
            "Epoch 153, Train loss: 12.442037504381604\n"
          ]
        },
        {
          "name": "stderr",
          "output_type": "stream",
          "text": [
            " 31%|███       | 153/500 [20:16<42:06,  7.28s/it]"
          ]
        },
        {
          "name": "stdout",
          "output_type": "stream",
          "text": [
            "Epoch 153, Test loss: 12.7640321216886\n",
            "Epoch 154, Train loss: 12.44155016594463\n"
          ]
        },
        {
          "name": "stderr",
          "output_type": "stream",
          "text": [
            " 31%|███       | 154/500 [20:23<41:21,  7.17s/it]"
          ]
        },
        {
          "name": "stdout",
          "output_type": "stream",
          "text": [
            "Epoch 154, Test loss: 12.763691077156672\n",
            "Epoch 155, Train loss: 12.441079724431038\n"
          ]
        },
        {
          "name": "stderr",
          "output_type": "stream",
          "text": [
            " 31%|███       | 155/500 [20:30<40:41,  7.08s/it]"
          ]
        },
        {
          "name": "stdout",
          "output_type": "stream",
          "text": [
            "Epoch 155, Test loss: 12.763333677299439\n",
            "Epoch 156, Train loss: 12.44061292681429\n"
          ]
        },
        {
          "name": "stderr",
          "output_type": "stream",
          "text": [
            " 31%|███       | 156/500 [20:37<40:45,  7.11s/it]"
          ]
        },
        {
          "name": "stdout",
          "output_type": "stream",
          "text": [
            "Epoch 156, Test loss: 12.763020707028252\n",
            "Epoch 157, Train loss: 12.440183083812396\n"
          ]
        },
        {
          "name": "stderr",
          "output_type": "stream",
          "text": [
            " 31%|███▏      | 157/500 [20:45<41:24,  7.24s/it]"
          ]
        },
        {
          "name": "stdout",
          "output_type": "stream",
          "text": [
            "Epoch 157, Test loss: 12.762722650217631\n",
            "Epoch 158, Train loss: 12.439766329990492\n"
          ]
        },
        {
          "name": "stderr",
          "output_type": "stream",
          "text": [
            " 32%|███▏      | 158/500 [20:52<41:16,  7.24s/it]"
          ]
        },
        {
          "name": "stdout",
          "output_type": "stream",
          "text": [
            "Epoch 158, Test loss: 12.762458480066723\n",
            "Epoch 159, Train loss: 12.439373630483946\n"
          ]
        },
        {
          "name": "stderr",
          "output_type": "stream",
          "text": [
            " 32%|███▏      | 159/500 [20:59<40:28,  7.12s/it]"
          ]
        },
        {
          "name": "stdout",
          "output_type": "stream",
          "text": [
            "Epoch 159, Test loss: 12.762192024598045\n",
            "Epoch 160, Train loss: 12.439002808332443\n"
          ]
        },
        {
          "name": "stderr",
          "output_type": "stream",
          "text": [
            " 32%|███▏      | 160/500 [21:06<40:09,  7.09s/it]"
          ]
        },
        {
          "name": "stdout",
          "output_type": "stream",
          "text": [
            "Epoch 160, Test loss: 12.761932592543344\n",
            "Epoch 161, Train loss: 12.438651330934631\n"
          ]
        },
        {
          "name": "stderr",
          "output_type": "stream",
          "text": [
            " 32%|███▏      | 161/500 [21:13<39:57,  7.07s/it]"
          ]
        },
        {
          "name": "stdout",
          "output_type": "stream",
          "text": [
            "Epoch 161, Test loss: 12.761670621614607\n",
            "Epoch 162, Train loss: 12.43831604215834\n"
          ]
        },
        {
          "name": "stderr",
          "output_type": "stream",
          "text": [
            " 32%|███▏      | 162/500 [21:20<39:58,  7.10s/it]"
          ]
        },
        {
          "name": "stdout",
          "output_type": "stream",
          "text": [
            "Epoch 162, Test loss: 12.761417294305469\n",
            "Epoch 163, Train loss: 12.437976757552889\n"
          ]
        },
        {
          "name": "stderr",
          "output_type": "stream",
          "text": [
            " 33%|███▎      | 163/500 [21:27<40:48,  7.27s/it]"
          ]
        },
        {
          "name": "stdout",
          "output_type": "stream",
          "text": [
            "Epoch 163, Test loss: 12.761199550496208\n",
            "Epoch 164, Train loss: 12.437651436395115\n"
          ]
        },
        {
          "name": "stderr",
          "output_type": "stream",
          "text": [
            " 33%|███▎      | 164/500 [21:35<40:53,  7.30s/it]"
          ]
        },
        {
          "name": "stdout",
          "output_type": "stream",
          "text": [
            "Epoch 164, Test loss: 12.76099165801018\n",
            "Epoch 165, Train loss: 12.437345039844512\n"
          ]
        },
        {
          "name": "stderr",
          "output_type": "stream",
          "text": [
            " 33%|███▎      | 165/500 [21:42<40:02,  7.17s/it]"
          ]
        },
        {
          "name": "stdout",
          "output_type": "stream",
          "text": [
            "Epoch 165, Test loss: 12.760803362206808\n",
            "Epoch 166, Train loss: 12.437052085730764\n"
          ]
        },
        {
          "name": "stderr",
          "output_type": "stream",
          "text": [
            " 33%|███▎      | 166/500 [21:49<39:19,  7.06s/it]"
          ]
        },
        {
          "name": "stdout",
          "output_type": "stream",
          "text": [
            "Epoch 166, Test loss: 12.760637891671013\n",
            "Epoch 167, Train loss: 12.43678923593627\n"
          ]
        },
        {
          "name": "stderr",
          "output_type": "stream",
          "text": [
            " 33%|███▎      | 167/500 [21:56<39:02,  7.04s/it]"
          ]
        },
        {
          "name": "stdout",
          "output_type": "stream",
          "text": [
            "Epoch 167, Test loss: 12.76047336298322\n",
            "Epoch 168, Train loss: 12.43653501033783\n"
          ]
        },
        {
          "name": "stderr",
          "output_type": "stream",
          "text": [
            " 34%|███▎      | 168/500 [22:03<38:55,  7.03s/it]"
          ]
        },
        {
          "name": "stdout",
          "output_type": "stream",
          "text": [
            "Epoch 168, Test loss: 12.760304942963616\n",
            "Epoch 169, Train loss: 12.436283544434442\n"
          ]
        },
        {
          "name": "stderr",
          "output_type": "stream",
          "text": [
            " 34%|███▍      | 169/500 [22:10<39:33,  7.17s/it]"
          ]
        },
        {
          "name": "stdout",
          "output_type": "stream",
          "text": [
            "Epoch 169, Test loss: 12.760144949432403\n",
            "Epoch 170, Train loss: 12.436046977970335\n"
          ]
        },
        {
          "name": "stderr",
          "output_type": "stream",
          "text": [
            " 34%|███▍      | 170/500 [22:18<40:03,  7.28s/it]"
          ]
        },
        {
          "name": "stdout",
          "output_type": "stream",
          "text": [
            "Epoch 170, Test loss: 12.76001723228939\n",
            "Epoch 171, Train loss: 12.435820474492179\n"
          ]
        },
        {
          "name": "stderr",
          "output_type": "stream",
          "text": [
            " 34%|███▍      | 171/500 [22:25<39:23,  7.18s/it]"
          ]
        },
        {
          "name": "stdout",
          "output_type": "stream",
          "text": [
            "Epoch 171, Test loss: 12.759897375863696\n",
            "Epoch 172, Train loss: 12.435612255401082\n"
          ]
        },
        {
          "name": "stderr",
          "output_type": "stream",
          "text": [
            " 34%|███▍      | 172/500 [22:31<38:45,  7.09s/it]"
          ]
        },
        {
          "name": "stdout",
          "output_type": "stream",
          "text": [
            "Epoch 172, Test loss: 12.759769404691363\n",
            "Epoch 173, Train loss: 12.435409670538373\n"
          ]
        },
        {
          "name": "stderr",
          "output_type": "stream",
          "text": [
            " 35%|███▍      | 173/500 [22:38<38:11,  7.01s/it]"
          ]
        },
        {
          "name": "stdout",
          "output_type": "stream",
          "text": [
            "Epoch 173, Test loss: 12.759647329648336\n",
            "Epoch 174, Train loss: 12.435224563744333\n"
          ]
        },
        {
          "name": "stderr",
          "output_type": "stream",
          "text": [
            " 35%|███▍      | 174/500 [22:45<38:02,  7.00s/it]"
          ]
        },
        {
          "name": "stdout",
          "output_type": "stream",
          "text": [
            "Epoch 174, Test loss: 12.759542246659597\n",
            "Epoch 175, Train loss: 12.435041671527756\n"
          ]
        },
        {
          "name": "stderr",
          "output_type": "stream",
          "text": [
            " 35%|███▌      | 175/500 [22:52<38:21,  7.08s/it]"
          ]
        },
        {
          "name": "stdout",
          "output_type": "stream",
          "text": [
            "Epoch 175, Test loss: 12.759435712345063\n",
            "Epoch 176, Train loss: 12.434864023327828\n"
          ]
        },
        {
          "name": "stderr",
          "output_type": "stream",
          "text": [
            " 35%|███▌      | 176/500 [23:00<39:41,  7.35s/it]"
          ]
        },
        {
          "name": "stdout",
          "output_type": "stream",
          "text": [
            "Epoch 176, Test loss: 12.759347216950523\n",
            "Epoch 177, Train loss: 12.434700260096125\n"
          ]
        },
        {
          "name": "stderr",
          "output_type": "stream",
          "text": [
            " 35%|███▌      | 177/500 [23:08<39:28,  7.33s/it]"
          ]
        },
        {
          "name": "stdout",
          "output_type": "stream",
          "text": [
            "Epoch 177, Test loss: 12.759263695232452\n",
            "Epoch 178, Train loss: 12.434549852675861\n"
          ]
        },
        {
          "name": "stderr",
          "output_type": "stream",
          "text": [
            " 36%|███▌      | 178/500 [23:15<38:49,  7.23s/it]"
          ]
        },
        {
          "name": "stdout",
          "output_type": "stream",
          "text": [
            "Epoch 178, Test loss: 12.759164588318932\n",
            "Epoch 179, Train loss: 12.43439595050282\n"
          ]
        },
        {
          "name": "stderr",
          "output_type": "stream",
          "text": [
            " 36%|███▌      | 179/500 [23:22<38:19,  7.16s/it]"
          ]
        },
        {
          "name": "stdout",
          "output_type": "stream",
          "text": [
            "Epoch 179, Test loss: 12.759074489275614\n",
            "Epoch 180, Train loss: 12.434249605801371\n"
          ]
        },
        {
          "name": "stderr",
          "output_type": "stream",
          "text": [
            " 36%|███▌      | 180/500 [23:29<37:56,  7.11s/it]"
          ]
        },
        {
          "name": "stdout",
          "output_type": "stream",
          "text": [
            "Epoch 180, Test loss: 12.758986966004448\n",
            "Epoch 181, Train loss: 12.434114739166366\n"
          ]
        },
        {
          "name": "stderr",
          "output_type": "stream",
          "text": [
            " 36%|███▌      | 181/500 [23:36<38:11,  7.18s/it]"
          ]
        },
        {
          "name": "stdout",
          "output_type": "stream",
          "text": [
            "Epoch 181, Test loss: 12.758905512945992\n",
            "Epoch 182, Train loss: 12.43397857785225\n"
          ]
        },
        {
          "name": "stderr",
          "output_type": "stream",
          "text": [
            " 36%|███▋      | 182/500 [23:44<38:55,  7.34s/it]"
          ]
        },
        {
          "name": "stdout",
          "output_type": "stream",
          "text": [
            "Epoch 182, Test loss: 12.758841398216429\n",
            "Epoch 183, Train loss: 12.433856183422936\n"
          ]
        },
        {
          "name": "stderr",
          "output_type": "stream",
          "text": [
            " 37%|███▋      | 183/500 [23:51<38:45,  7.34s/it]"
          ]
        },
        {
          "name": "stdout",
          "output_type": "stream",
          "text": [
            "Epoch 183, Test loss: 12.758776840709505\n",
            "Epoch 184, Train loss: 12.433729396197531\n"
          ]
        },
        {
          "name": "stderr",
          "output_type": "stream",
          "text": [
            " 37%|███▋      | 184/500 [23:58<38:13,  7.26s/it]"
          ]
        },
        {
          "name": "stdout",
          "output_type": "stream",
          "text": [
            "Epoch 184, Test loss: 12.758725725942188\n",
            "Epoch 185, Train loss: 12.43361952635977\n"
          ]
        },
        {
          "name": "stderr",
          "output_type": "stream",
          "text": [
            " 37%|███▋      | 185/500 [24:05<37:48,  7.20s/it]"
          ]
        },
        {
          "name": "stdout",
          "output_type": "stream",
          "text": [
            "Epoch 185, Test loss: 12.758668698961772\n",
            "Epoch 186, Train loss: 12.433515657252736\n"
          ]
        },
        {
          "name": "stderr",
          "output_type": "stream",
          "text": [
            " 37%|███▋      | 186/500 [24:13<37:49,  7.23s/it]"
          ]
        },
        {
          "name": "stdout",
          "output_type": "stream",
          "text": [
            "Epoch 186, Test loss: 12.758613660222007\n",
            "Epoch 187, Train loss: 12.433411829868952\n"
          ]
        },
        {
          "name": "stderr",
          "output_type": "stream",
          "text": [
            " 37%|███▋      | 187/500 [24:20<37:59,  7.28s/it]"
          ]
        },
        {
          "name": "stdout",
          "output_type": "stream",
          "text": [
            "Epoch 187, Test loss: 12.75856179661221\n",
            "Epoch 188, Train loss: 12.433319475054741\n"
          ]
        },
        {
          "name": "stderr",
          "output_type": "stream",
          "text": [
            " 38%|███▊      | 188/500 [24:28<38:20,  7.37s/it]"
          ]
        },
        {
          "name": "stdout",
          "output_type": "stream",
          "text": [
            "Epoch 188, Test loss: 12.758501743986493\n",
            "Epoch 189, Train loss: 12.433226036760542\n"
          ]
        },
        {
          "name": "stderr",
          "output_type": "stream",
          "text": [
            " 38%|███▊      | 189/500 [24:35<38:24,  7.41s/it]"
          ]
        },
        {
          "name": "stdout",
          "output_type": "stream",
          "text": [
            "Epoch 189, Test loss: 12.758447447466471\n",
            "Epoch 190, Train loss: 12.433135377897157\n"
          ]
        },
        {
          "name": "stderr",
          "output_type": "stream",
          "text": [
            " 38%|███▊      | 190/500 [24:42<37:42,  7.30s/it]"
          ]
        },
        {
          "name": "stdout",
          "output_type": "stream",
          "text": [
            "Epoch 190, Test loss: 12.758402520228946\n",
            "Epoch 191, Train loss: 12.433052456974984\n"
          ]
        },
        {
          "name": "stderr",
          "output_type": "stream",
          "text": [
            " 38%|███▊      | 191/500 [24:49<37:06,  7.21s/it]"
          ]
        },
        {
          "name": "stdout",
          "output_type": "stream",
          "text": [
            "Epoch 191, Test loss: 12.758355970420535\n",
            "Epoch 192, Train loss: 12.432969962954521\n"
          ]
        },
        {
          "name": "stderr",
          "output_type": "stream",
          "text": [
            " 38%|███▊      | 192/500 [24:56<36:40,  7.15s/it]"
          ]
        },
        {
          "name": "stdout",
          "output_type": "stream",
          "text": [
            "Epoch 192, Test loss: 12.758315417501661\n",
            "Epoch 193, Train loss: 12.432900931636492\n"
          ]
        },
        {
          "name": "stderr",
          "output_type": "stream",
          "text": [
            " 39%|███▊      | 193/500 [25:03<36:36,  7.15s/it]"
          ]
        },
        {
          "name": "stdout",
          "output_type": "stream",
          "text": [
            "Epoch 193, Test loss: 12.758269722499545\n",
            "Epoch 194, Train loss: 12.43283140109645\n"
          ]
        },
        {
          "name": "stderr",
          "output_type": "stream",
          "text": [
            " 39%|███▉      | 194/500 [25:11<37:25,  7.34s/it]"
          ]
        },
        {
          "name": "stdout",
          "output_type": "stream",
          "text": [
            "Epoch 194, Test loss: 12.75822132210883\n",
            "Epoch 195, Train loss: 12.432763665384716\n"
          ]
        },
        {
          "name": "stderr",
          "output_type": "stream",
          "text": [
            " 39%|███▉      | 195/500 [25:19<37:37,  7.40s/it]"
          ]
        },
        {
          "name": "stdout",
          "output_type": "stream",
          "text": [
            "Epoch 195, Test loss: 12.758173957230552\n",
            "Epoch 196, Train loss: 12.43270398788982\n"
          ]
        },
        {
          "name": "stderr",
          "output_type": "stream",
          "text": [
            " 39%|███▉      | 196/500 [25:26<37:00,  7.30s/it]"
          ]
        },
        {
          "name": "stdout",
          "output_type": "stream",
          "text": [
            "Epoch 196, Test loss: 12.758123955556325\n",
            "Epoch 197, Train loss: 12.432640169130432\n"
          ]
        },
        {
          "name": "stderr",
          "output_type": "stream",
          "text": [
            " 39%|███▉      | 197/500 [25:33<36:37,  7.25s/it]"
          ]
        },
        {
          "name": "stdout",
          "output_type": "stream",
          "text": [
            "Epoch 197, Test loss: 12.75808321720078\n",
            "Epoch 198, Train loss: 12.432584588792588\n"
          ]
        },
        {
          "name": "stderr",
          "output_type": "stream",
          "text": [
            " 40%|███▉      | 198/500 [25:40<36:06,  7.17s/it]"
          ]
        },
        {
          "name": "stdout",
          "output_type": "stream",
          "text": [
            "Epoch 198, Test loss: 12.75804762991648\n",
            "Epoch 199, Train loss: 12.43252901646826\n"
          ]
        },
        {
          "name": "stderr",
          "output_type": "stream",
          "text": [
            " 40%|███▉      | 199/500 [25:47<35:49,  7.14s/it]"
          ]
        },
        {
          "name": "stdout",
          "output_type": "stream",
          "text": [
            "Epoch 199, Test loss: 12.75800868726912\n",
            "Epoch 200, Train loss: 12.432467987603612\n"
          ]
        },
        {
          "name": "stderr",
          "output_type": "stream",
          "text": [
            " 40%|████      | 200/500 [25:55<36:30,  7.30s/it]"
          ]
        },
        {
          "name": "stdout",
          "output_type": "stream",
          "text": [
            "Epoch 200, Test loss: 12.757980894947808\n",
            "Epoch 201, Train loss: 12.432417857580715\n"
          ]
        },
        {
          "name": "stderr",
          "output_type": "stream",
          "text": [
            " 40%|████      | 201/500 [26:02<37:10,  7.46s/it]"
          ]
        },
        {
          "name": "stdout",
          "output_type": "stream",
          "text": [
            "Epoch 201, Test loss: 12.757940513747078\n",
            "Epoch 202, Train loss: 12.432365686098734\n"
          ]
        },
        {
          "name": "stderr",
          "output_type": "stream",
          "text": [
            " 40%|████      | 202/500 [26:09<36:21,  7.32s/it]"
          ]
        },
        {
          "name": "stdout",
          "output_type": "stream",
          "text": [
            "Epoch 202, Test loss: 12.757911625362578\n",
            "Epoch 203, Train loss: 12.43231522752179\n"
          ]
        },
        {
          "name": "stderr",
          "output_type": "stream",
          "text": [
            " 41%|████      | 203/500 [26:16<35:43,  7.22s/it]"
          ]
        },
        {
          "name": "stdout",
          "output_type": "stream",
          "text": [
            "Epoch 203, Test loss: 12.757888800094998\n",
            "Epoch 204, Train loss: 12.43227096286085\n"
          ]
        },
        {
          "name": "stderr",
          "output_type": "stream",
          "text": [
            " 41%|████      | 204/500 [26:23<35:15,  7.15s/it]"
          ]
        },
        {
          "name": "stdout",
          "output_type": "stream",
          "text": [
            "Epoch 204, Test loss: 12.75787188230999\n",
            "Epoch 205, Train loss: 12.432226896882057\n"
          ]
        },
        {
          "name": "stderr",
          "output_type": "stream",
          "text": [
            " 41%|████      | 205/500 [26:30<34:57,  7.11s/it]"
          ]
        },
        {
          "name": "stdout",
          "output_type": "stream",
          "text": [
            "Epoch 205, Test loss: 12.7578587886833\n",
            "Epoch 206, Train loss: 12.432190555466546\n"
          ]
        },
        {
          "name": "stderr",
          "output_type": "stream",
          "text": [
            " 41%|████      | 206/500 [26:38<35:37,  7.27s/it]"
          ]
        },
        {
          "name": "stdout",
          "output_type": "stream",
          "text": [
            "Epoch 206, Test loss: 12.757841166049715\n",
            "Epoch 207, Train loss: 12.43215236975087\n"
          ]
        },
        {
          "name": "stderr",
          "output_type": "stream",
          "text": [
            " 41%|████▏     | 207/500 [26:46<36:21,  7.45s/it]"
          ]
        },
        {
          "name": "stdout",
          "output_type": "stream",
          "text": [
            "Epoch 207, Test loss: 12.757828465529851\n",
            "Epoch 208, Train loss: 12.432114137146208\n"
          ]
        },
        {
          "name": "stderr",
          "output_type": "stream",
          "text": [
            " 42%|████▏     | 208/500 [26:53<35:42,  7.34s/it]"
          ]
        },
        {
          "name": "stdout",
          "output_type": "stream",
          "text": [
            "Epoch 208, Test loss: 12.757823670194263\n",
            "Epoch 209, Train loss: 12.432082908285988\n"
          ]
        },
        {
          "name": "stderr",
          "output_type": "stream",
          "text": [
            " 42%|████▏     | 209/500 [27:00<35:12,  7.26s/it]"
          ]
        },
        {
          "name": "stdout",
          "output_type": "stream",
          "text": [
            "Epoch 209, Test loss: 12.757814397414526\n",
            "Epoch 210, Train loss: 12.43204886827204\n"
          ]
        },
        {
          "name": "stderr",
          "output_type": "stream",
          "text": [
            " 42%|████▏     | 210/500 [27:07<34:41,  7.18s/it]"
          ]
        },
        {
          "name": "stdout",
          "output_type": "stream",
          "text": [
            "Epoch 210, Test loss: 12.757813330680605\n",
            "Epoch 211, Train loss: 12.432020147442818\n"
          ]
        },
        {
          "name": "stderr",
          "output_type": "stream",
          "text": [
            " 42%|████▏     | 211/500 [27:14<34:23,  7.14s/it]"
          ]
        },
        {
          "name": "stdout",
          "output_type": "stream",
          "text": [
            "Epoch 211, Test loss: 12.757806500745199\n",
            "Epoch 212, Train loss: 12.431995267735587\n"
          ]
        },
        {
          "name": "stderr",
          "output_type": "stream",
          "text": [
            " 42%|████▏     | 212/500 [27:22<34:45,  7.24s/it]"
          ]
        },
        {
          "name": "stdout",
          "output_type": "stream",
          "text": [
            "Epoch 212, Test loss: 12.757797425701504\n",
            "Epoch 213, Train loss: 12.431969515018993\n"
          ]
        },
        {
          "name": "stderr",
          "output_type": "stream",
          "text": [
            " 43%|████▎     | 213/500 [27:29<35:15,  7.37s/it]"
          ]
        },
        {
          "name": "stdout",
          "output_type": "stream",
          "text": [
            "Epoch 213, Test loss: 12.757793648848457\n",
            "Epoch 214, Train loss: 12.43194468067752\n"
          ]
        },
        {
          "name": "stderr",
          "output_type": "stream",
          "text": [
            " 43%|████▎     | 214/500 [27:36<34:46,  7.29s/it]"
          ]
        },
        {
          "name": "stdout",
          "output_type": "stream",
          "text": [
            "Epoch 214, Test loss: 12.75779250122252\n",
            "Epoch 215, Train loss: 12.43192450457149\n"
          ]
        },
        {
          "name": "stderr",
          "output_type": "stream",
          "text": [
            " 43%|████▎     | 215/500 [27:43<34:03,  7.17s/it]"
          ]
        },
        {
          "name": "stdout",
          "output_type": "stream",
          "text": [
            "Epoch 215, Test loss: 12.757788967045526\n",
            "Epoch 216, Train loss: 12.431904774838024\n"
          ]
        },
        {
          "name": "stderr",
          "output_type": "stream",
          "text": [
            " 43%|████▎     | 216/500 [27:50<33:27,  7.07s/it]"
          ]
        },
        {
          "name": "stdout",
          "output_type": "stream",
          "text": [
            "Epoch 216, Test loss: 12.757783684938673\n",
            "Epoch 217, Train loss: 12.43188374903467\n"
          ]
        },
        {
          "name": "stderr",
          "output_type": "stream",
          "text": [
            " 43%|████▎     | 217/500 [27:57<33:13,  7.04s/it]"
          ]
        },
        {
          "name": "stdout",
          "output_type": "stream",
          "text": [
            "Epoch 217, Test loss: 12.757781201411808\n",
            "Epoch 218, Train loss: 12.431867851548725\n"
          ]
        },
        {
          "name": "stderr",
          "output_type": "stream",
          "text": [
            " 44%|████▎     | 218/500 [28:04<33:12,  7.07s/it]"
          ]
        },
        {
          "name": "stdout",
          "output_type": "stream",
          "text": [
            "Epoch 218, Test loss: 12.757775733395228\n",
            "Epoch 219, Train loss: 12.431852323214214\n"
          ]
        },
        {
          "name": "stderr",
          "output_type": "stream",
          "text": [
            " 44%|████▍     | 219/500 [28:12<33:43,  7.20s/it]"
          ]
        },
        {
          "name": "stdout",
          "output_type": "stream",
          "text": [
            "Epoch 219, Test loss: 12.757767593576794\n",
            "Epoch 220, Train loss: 12.431829978426297\n"
          ]
        },
        {
          "name": "stderr",
          "output_type": "stream",
          "text": [
            " 44%|████▍     | 220/500 [28:19<33:45,  7.24s/it]"
          ]
        },
        {
          "name": "stdout",
          "output_type": "stream",
          "text": [
            "Epoch 220, Test loss: 12.757760955227745\n",
            "Epoch 221, Train loss: 12.431810854276021\n"
          ]
        },
        {
          "name": "stderr",
          "output_type": "stream",
          "text": [
            " 44%|████▍     | 221/500 [28:26<33:07,  7.12s/it]"
          ]
        },
        {
          "name": "stdout",
          "output_type": "stream",
          "text": [
            "Epoch 221, Test loss: 12.757753217504138\n",
            "Epoch 222, Train loss: 12.431791099508603\n"
          ]
        },
        {
          "name": "stderr",
          "output_type": "stream",
          "text": [
            " 44%|████▍     | 222/500 [28:33<32:37,  7.04s/it]"
          ]
        },
        {
          "name": "stdout",
          "output_type": "stream",
          "text": [
            "Epoch 222, Test loss: 12.757746188886582\n",
            "Epoch 223, Train loss: 12.431773116125001\n"
          ]
        },
        {
          "name": "stderr",
          "output_type": "stream",
          "text": [
            " 45%|████▍     | 223/500 [28:40<32:16,  6.99s/it]"
          ]
        },
        {
          "name": "stdout",
          "output_type": "stream",
          "text": [
            "Epoch 223, Test loss: 12.7577405127268\n",
            "Epoch 224, Train loss: 12.431761354936494\n"
          ]
        },
        {
          "name": "stderr",
          "output_type": "stream",
          "text": [
            " 45%|████▍     | 224/500 [28:47<32:20,  7.03s/it]"
          ]
        },
        {
          "name": "stdout",
          "output_type": "stream",
          "text": [
            "Epoch 224, Test loss: 12.757733970407456\n",
            "Epoch 225, Train loss: 12.431748339202668\n"
          ]
        },
        {
          "name": "stderr",
          "output_type": "stream",
          "text": [
            " 45%|████▌     | 225/500 [28:54<32:55,  7.18s/it]"
          ]
        },
        {
          "name": "stdout",
          "output_type": "stream",
          "text": [
            "Epoch 225, Test loss: 12.757724209910347\n",
            "Epoch 226, Train loss: 12.431733132004737\n"
          ]
        },
        {
          "name": "stderr",
          "output_type": "stream",
          "text": [
            " 45%|████▌     | 226/500 [29:02<33:10,  7.26s/it]"
          ]
        },
        {
          "name": "stdout",
          "output_type": "stream",
          "text": [
            "Epoch 226, Test loss: 12.757719014372144\n",
            "Epoch 227, Train loss: 12.431721656123797\n"
          ]
        },
        {
          "name": "stderr",
          "output_type": "stream",
          "text": [
            " 45%|████▌     | 227/500 [29:09<33:03,  7.26s/it]"
          ]
        },
        {
          "name": "stdout",
          "output_type": "stream",
          "text": [
            "Epoch 227, Test loss: 12.757713132907474\n",
            "Epoch 228, Train loss: 12.431711060404778\n"
          ]
        },
        {
          "name": "stderr",
          "output_type": "stream",
          "text": [
            " 46%|████▌     | 228/500 [29:16<32:25,  7.15s/it]"
          ]
        },
        {
          "name": "stdout",
          "output_type": "stream",
          "text": [
            "Epoch 228, Test loss: 12.757710388728551\n",
            "Epoch 229, Train loss: 12.431700762112936\n"
          ]
        },
        {
          "name": "stderr",
          "output_type": "stream",
          "text": [
            " 46%|████▌     | 229/500 [29:23<31:57,  7.08s/it]"
          ]
        },
        {
          "name": "stdout",
          "output_type": "stream",
          "text": [
            "Epoch 229, Test loss: 12.757708808732412\n",
            "Epoch 230, Train loss: 12.431688871516121\n"
          ]
        },
        {
          "name": "stderr",
          "output_type": "stream",
          "text": [
            " 46%|████▌     | 230/500 [29:30<31:34,  7.02s/it]"
          ]
        },
        {
          "name": "stdout",
          "output_type": "stream",
          "text": [
            "Epoch 230, Test loss: 12.757709892969283\n",
            "Epoch 231, Train loss: 12.4316773093409\n"
          ]
        },
        {
          "name": "stderr",
          "output_type": "stream",
          "text": [
            " 46%|████▌     | 231/500 [29:37<32:11,  7.18s/it]"
          ]
        },
        {
          "name": "stdout",
          "output_type": "stream",
          "text": [
            "Epoch 231, Test loss: 12.757716863874405\n",
            "Epoch 232, Train loss: 12.43166630241606\n"
          ]
        },
        {
          "name": "stderr",
          "output_type": "stream",
          "text": [
            " 46%|████▋     | 232/500 [29:45<32:36,  7.30s/it]"
          ]
        },
        {
          "name": "stdout",
          "output_type": "stream",
          "text": [
            "Epoch 232, Test loss: 12.757727119184676\n",
            "Epoch 233, Train loss: 12.431659369733598\n"
          ]
        },
        {
          "name": "stderr",
          "output_type": "stream",
          "text": [
            " 47%|████▋     | 233/500 [29:52<31:55,  7.17s/it]"
          ]
        },
        {
          "name": "stdout",
          "output_type": "stream",
          "text": [
            "Epoch 233, Test loss: 12.757735849845977\n",
            "Epoch 234, Train loss: 12.43165098634031\n"
          ]
        },
        {
          "name": "stderr",
          "output_type": "stream",
          "text": [
            " 47%|████▋     | 234/500 [29:58<31:25,  7.09s/it]"
          ]
        },
        {
          "name": "stdout",
          "output_type": "stream",
          "text": [
            "Epoch 234, Test loss: 12.757747857343583\n",
            "Epoch 235, Train loss: 12.431643714706103\n"
          ]
        },
        {
          "name": "stderr",
          "output_type": "stream",
          "text": [
            " 47%|████▋     | 235/500 [30:05<30:59,  7.02s/it]"
          ]
        },
        {
          "name": "stdout",
          "output_type": "stream",
          "text": [
            "Epoch 235, Test loss: 12.757761489304285\n",
            "Epoch 236, Train loss: 12.431637769473923\n"
          ]
        },
        {
          "name": "stderr",
          "output_type": "stream",
          "text": [
            " 47%|████▋     | 236/500 [30:12<30:50,  7.01s/it]"
          ]
        },
        {
          "name": "stdout",
          "output_type": "stream",
          "text": [
            "Epoch 236, Test loss: 12.75777422624921\n",
            "Epoch 237, Train loss: 12.431631033553018\n"
          ]
        },
        {
          "name": "stderr",
          "output_type": "stream",
          "text": [
            " 47%|████▋     | 237/500 [30:20<31:11,  7.12s/it]"
          ]
        },
        {
          "name": "stdout",
          "output_type": "stream",
          "text": [
            "Epoch 237, Test loss: 12.757787822730958\n",
            "Epoch 238, Train loss: 12.43162734011809\n"
          ]
        },
        {
          "name": "stderr",
          "output_type": "stream",
          "text": [
            " 48%|████▊     | 238/500 [30:27<31:37,  7.24s/it]"
          ]
        },
        {
          "name": "stdout",
          "output_type": "stream",
          "text": [
            "Epoch 238, Test loss: 12.75780014433558\n",
            "Epoch 239, Train loss: 12.431621991263496\n"
          ]
        },
        {
          "name": "stderr",
          "output_type": "stream",
          "text": [
            " 48%|████▊     | 239/500 [30:34<31:26,  7.23s/it]"
          ]
        },
        {
          "name": "stdout",
          "output_type": "stream",
          "text": [
            "Epoch 239, Test loss: 12.757809125714832\n",
            "Epoch 240, Train loss: 12.431618619428741\n"
          ]
        },
        {
          "name": "stderr",
          "output_type": "stream",
          "text": [
            " 48%|████▊     | 240/500 [30:41<31:03,  7.17s/it]"
          ]
        },
        {
          "name": "stdout",
          "output_type": "stream",
          "text": [
            "Epoch 240, Test loss: 12.757818034717015\n",
            "Epoch 241, Train loss: 12.431612658500672\n"
          ]
        },
        {
          "name": "stderr",
          "output_type": "stream",
          "text": [
            " 48%|████▊     | 241/500 [30:48<30:34,  7.08s/it]"
          ]
        },
        {
          "name": "stdout",
          "output_type": "stream",
          "text": [
            "Epoch 241, Test loss: 12.757823055225705\n",
            "Epoch 242, Train loss: 12.431607354283333\n"
          ]
        },
        {
          "name": "stderr",
          "output_type": "stream",
          "text": [
            " 48%|████▊     | 242/500 [30:55<30:10,  7.02s/it]"
          ]
        },
        {
          "name": "stdout",
          "output_type": "stream",
          "text": [
            "Epoch 242, Test loss: 12.757827035018376\n",
            "Epoch 243, Train loss: 12.431603405144479\n"
          ]
        },
        {
          "name": "stderr",
          "output_type": "stream",
          "text": [
            " 49%|████▊     | 243/500 [31:03<31:15,  7.30s/it]"
          ]
        },
        {
          "name": "stdout",
          "output_type": "stream",
          "text": [
            "Epoch 243, Test loss: 12.757827018934583\n",
            "Epoch 244, Train loss: 12.43159892294142\n"
          ]
        },
        {
          "name": "stderr",
          "output_type": "stream",
          "text": [
            " 49%|████▉     | 244/500 [31:11<31:22,  7.35s/it]"
          ]
        },
        {
          "name": "stdout",
          "output_type": "stream",
          "text": [
            "Epoch 244, Test loss: 12.757827843938555\n",
            "Epoch 245, Train loss: 12.43159584780534\n"
          ]
        },
        {
          "name": "stderr",
          "output_type": "stream",
          "text": [
            " 49%|████▉     | 245/500 [31:18<30:57,  7.28s/it]"
          ]
        },
        {
          "name": "stdout",
          "output_type": "stream",
          "text": [
            "Epoch 245, Test loss: 12.757828039309334\n",
            "Epoch 246, Train loss: 12.431593066983753\n"
          ]
        },
        {
          "name": "stderr",
          "output_type": "stream",
          "text": [
            " 49%|████▉     | 246/500 [31:25<30:28,  7.20s/it]"
          ]
        },
        {
          "name": "stdout",
          "output_type": "stream",
          "text": [
            "Epoch 246, Test loss: 12.757827907800674\n",
            "Epoch 247, Train loss: 12.431589834094048\n"
          ]
        },
        {
          "name": "stderr",
          "output_type": "stream",
          "text": [
            " 49%|████▉     | 247/500 [31:32<29:57,  7.10s/it]"
          ]
        },
        {
          "name": "stdout",
          "output_type": "stream",
          "text": [
            "Epoch 247, Test loss: 12.75783005782536\n",
            "Epoch 248, Train loss: 12.431587096651395\n"
          ]
        },
        {
          "name": "stderr",
          "output_type": "stream",
          "text": [
            " 50%|████▉     | 248/500 [31:38<29:31,  7.03s/it]"
          ]
        },
        {
          "name": "stdout",
          "output_type": "stream",
          "text": [
            "Epoch 248, Test loss: 12.757832952908107\n",
            "Epoch 249, Train loss: 12.431584052509733\n"
          ]
        },
        {
          "name": "stderr",
          "output_type": "stream",
          "text": [
            " 50%|████▉     | 249/500 [31:46<29:23,  7.03s/it]"
          ]
        },
        {
          "name": "stdout",
          "output_type": "stream",
          "text": [
            "Epoch 249, Test loss: 12.757836037211948\n",
            "Epoch 250, Train loss: 12.43158149600029\n"
          ]
        },
        {
          "name": "stderr",
          "output_type": "stream",
          "text": [
            " 50%|█████     | 250/500 [31:53<29:57,  7.19s/it]"
          ]
        },
        {
          "name": "stdout",
          "output_type": "stream",
          "text": [
            "Epoch 250, Test loss: 12.75784073131425\n",
            "Epoch 251, Train loss: 12.431579837799072\n"
          ]
        },
        {
          "name": "stderr",
          "output_type": "stream",
          "text": [
            " 50%|█████     | 251/500 [32:00<29:59,  7.23s/it]"
          ]
        },
        {
          "name": "stdout",
          "output_type": "stream",
          "text": [
            "Epoch 251, Test loss: 12.75784447931108\n",
            "Epoch 252, Train loss: 12.431577980120977\n"
          ]
        },
        {
          "name": "stderr",
          "output_type": "stream",
          "text": [
            " 50%|█████     | 252/500 [32:08<29:46,  7.21s/it]"
          ]
        },
        {
          "name": "stdout",
          "output_type": "stream",
          "text": [
            "Epoch 252, Test loss: 12.757848759965292\n",
            "Epoch 253, Train loss: 12.43157622039318\n"
          ]
        },
        {
          "name": "stderr",
          "output_type": "stream",
          "text": [
            " 51%|█████     | 253/500 [32:15<29:23,  7.14s/it]"
          ]
        },
        {
          "name": "stdout",
          "output_type": "stream",
          "text": [
            "Epoch 253, Test loss: 12.757853078936774\n",
            "Epoch 254, Train loss: 12.431574795775944\n"
          ]
        },
        {
          "name": "stderr",
          "output_type": "stream",
          "text": [
            " 51%|█████     | 254/500 [32:22<29:07,  7.10s/it]"
          ]
        },
        {
          "name": "stdout",
          "output_type": "stream",
          "text": [
            "Epoch 254, Test loss: 12.757857383243621\n",
            "Epoch 255, Train loss: 12.431573511030939\n"
          ]
        },
        {
          "name": "stderr",
          "output_type": "stream",
          "text": [
            " 51%|█████     | 255/500 [32:29<28:52,  7.07s/it]"
          ]
        },
        {
          "name": "stdout",
          "output_type": "stream",
          "text": [
            "Epoch 255, Test loss: 12.75786225142933\n",
            "Epoch 256, Train loss: 12.431573151217567\n"
          ]
        },
        {
          "name": "stderr",
          "output_type": "stream",
          "text": [
            " 51%|█████     | 256/500 [32:36<29:28,  7.25s/it]"
          ]
        },
        {
          "name": "stdout",
          "output_type": "stream",
          "text": [
            "Epoch 256, Test loss: 12.757864721237667\n",
            "Epoch 257, Train loss: 12.431571027437846\n"
          ]
        },
        {
          "name": "stderr",
          "output_type": "stream",
          "text": [
            " 51%|█████▏    | 257/500 [32:44<29:47,  7.36s/it]"
          ]
        },
        {
          "name": "stdout",
          "output_type": "stream",
          "text": [
            "Epoch 257, Test loss: 12.757868798479201\n",
            "Epoch 258, Train loss: 12.431569617324405\n"
          ]
        },
        {
          "name": "stderr",
          "output_type": "stream",
          "text": [
            " 52%|█████▏    | 258/500 [32:51<29:25,  7.29s/it]"
          ]
        },
        {
          "name": "stdout",
          "output_type": "stream",
          "text": [
            "Epoch 258, Test loss: 12.757872358674096\n",
            "Epoch 259, Train loss: 12.431568160454432\n"
          ]
        },
        {
          "name": "stderr",
          "output_type": "stream",
          "text": [
            " 52%|█████▏    | 259/500 [32:58<28:56,  7.20s/it]"
          ]
        },
        {
          "name": "stdout",
          "output_type": "stream",
          "text": [
            "Epoch 259, Test loss: 12.7578771398181\n",
            "Epoch 260, Train loss: 12.431566841933462\n"
          ]
        },
        {
          "name": "stderr",
          "output_type": "stream",
          "text": [
            " 52%|█████▏    | 260/500 [33:05<28:33,  7.14s/it]"
          ]
        },
        {
          "name": "stdout",
          "output_type": "stream",
          "text": [
            "Epoch 260, Test loss: 12.757882030710341\n",
            "Epoch 261, Train loss: 12.431565780970786\n"
          ]
        },
        {
          "name": "stderr",
          "output_type": "stream",
          "text": [
            " 52%|█████▏    | 261/500 [33:12<28:18,  7.11s/it]"
          ]
        },
        {
          "name": "stdout",
          "output_type": "stream",
          "text": [
            "Epoch 261, Test loss: 12.75788712170389\n",
            "Epoch 262, Train loss: 12.431565161678526\n"
          ]
        },
        {
          "name": "stderr",
          "output_type": "stream",
          "text": [
            " 52%|█████▏    | 262/500 [33:19<28:37,  7.22s/it]"
          ]
        },
        {
          "name": "stdout",
          "output_type": "stream",
          "text": [
            "Epoch 262, Test loss: 12.757891669632896\n",
            "Epoch 263, Train loss: 12.431563889450498\n"
          ]
        },
        {
          "name": "stderr",
          "output_type": "stream",
          "text": [
            " 53%|█████▎    | 263/500 [33:27<29:03,  7.36s/it]"
          ]
        },
        {
          "name": "stdout",
          "output_type": "stream",
          "text": [
            "Epoch 263, Test loss: 12.757896109705879\n",
            "Epoch 264, Train loss: 12.431563210090001\n"
          ]
        },
        {
          "name": "stderr",
          "output_type": "stream",
          "text": [
            " 53%|█████▎    | 264/500 [33:34<28:32,  7.26s/it]"
          ]
        },
        {
          "name": "stdout",
          "output_type": "stream",
          "text": [
            "Epoch 264, Test loss: 12.757900591880556\n",
            "Epoch 265, Train loss: 12.43156245595879\n"
          ]
        },
        {
          "name": "stderr",
          "output_type": "stream",
          "text": [
            " 53%|█████▎    | 265/500 [33:41<28:21,  7.24s/it]"
          ]
        },
        {
          "name": "stdout",
          "output_type": "stream",
          "text": [
            "Epoch 265, Test loss: 12.757905532916388\n",
            "Epoch 266, Train loss: 12.431562325821982\n"
          ]
        },
        {
          "name": "stderr",
          "output_type": "stream",
          "text": [
            " 53%|█████▎    | 266/500 [33:49<28:53,  7.41s/it]"
          ]
        },
        {
          "name": "stdout",
          "output_type": "stream",
          "text": [
            "Epoch 266, Test loss: 12.757909619145924\n",
            "Epoch 267, Train loss: 12.431562017732196\n"
          ]
        },
        {
          "name": "stderr",
          "output_type": "stream",
          "text": [
            " 53%|█████▎    | 267/500 [33:56<28:27,  7.33s/it]"
          ]
        },
        {
          "name": "stdout",
          "output_type": "stream",
          "text": [
            "Epoch 267, Test loss: 12.757913234687987\n",
            "Epoch 268, Train loss: 12.431561792691548\n"
          ]
        },
        {
          "name": "stderr",
          "output_type": "stream",
          "text": [
            " 54%|█████▎    | 268/500 [34:04<28:41,  7.42s/it]"
          ]
        },
        {
          "name": "stdout",
          "output_type": "stream",
          "text": [
            "Epoch 268, Test loss: 12.757916081519355\n",
            "Epoch 269, Train loss: 12.431561341020796\n"
          ]
        },
        {
          "name": "stderr",
          "output_type": "stream",
          "text": [
            " 54%|█████▍    | 269/500 [34:12<28:47,  7.48s/it]"
          ]
        },
        {
          "name": "stdout",
          "output_type": "stream",
          "text": [
            "Epoch 269, Test loss: 12.75791800684399\n",
            "Epoch 270, Train loss: 12.43156040986379\n"
          ]
        },
        {
          "name": "stderr",
          "output_type": "stream",
          "text": [
            " 54%|█████▍    | 270/500 [34:19<28:16,  7.38s/it]"
          ]
        },
        {
          "name": "stdout",
          "output_type": "stream",
          "text": [
            "Epoch 270, Test loss: 12.757918811033642\n",
            "Epoch 271, Train loss: 12.431559768716495\n"
          ]
        },
        {
          "name": "stderr",
          "output_type": "stream",
          "text": [
            " 54%|█████▍    | 271/500 [34:26<27:51,  7.30s/it]"
          ]
        },
        {
          "name": "stdout",
          "output_type": "stream",
          "text": [
            "Epoch 271, Test loss: 12.757919503109795\n",
            "Epoch 272, Train loss: 12.43155893292692\n"
          ]
        },
        {
          "name": "stderr",
          "output_type": "stream",
          "text": [
            " 54%|█████▍    | 272/500 [34:33<27:24,  7.21s/it]"
          ]
        },
        {
          "name": "stdout",
          "output_type": "stream",
          "text": [
            "Epoch 272, Test loss: 12.757920348455036\n",
            "Epoch 273, Train loss: 12.431558267209265\n"
          ]
        },
        {
          "name": "stderr",
          "output_type": "stream",
          "text": [
            " 55%|█████▍    | 273/500 [34:40<27:06,  7.16s/it]"
          ]
        },
        {
          "name": "stdout",
          "output_type": "stream",
          "text": [
            "Epoch 273, Test loss: 12.757921378290842\n",
            "Epoch 274, Train loss: 12.431557899779744\n"
          ]
        },
        {
          "name": "stderr",
          "output_type": "stream",
          "text": [
            " 55%|█████▍    | 274/500 [34:47<27:16,  7.24s/it]"
          ]
        },
        {
          "name": "stdout",
          "output_type": "stream",
          "text": [
            "Epoch 274, Test loss: 12.757922023534775\n",
            "Epoch 275, Train loss: 12.431557246711519\n"
          ]
        },
        {
          "name": "stderr",
          "output_type": "stream",
          "text": [
            " 55%|█████▌    | 275/500 [34:55<27:40,  7.38s/it]"
          ]
        },
        {
          "name": "stdout",
          "output_type": "stream",
          "text": [
            "Epoch 275, Test loss: 12.75792267965892\n",
            "Epoch 276, Train loss: 12.43155675318506\n"
          ]
        },
        {
          "name": "stderr",
          "output_type": "stream",
          "text": [
            " 55%|█████▌    | 276/500 [35:02<27:26,  7.35s/it]"
          ]
        },
        {
          "name": "stdout",
          "output_type": "stream",
          "text": [
            "Epoch 276, Test loss: 12.757923452627091\n",
            "Epoch 277, Train loss: 12.431556122700373\n"
          ]
        },
        {
          "name": "stderr",
          "output_type": "stream",
          "text": [
            " 55%|█████▌    | 277/500 [35:10<27:19,  7.35s/it]"
          ]
        },
        {
          "name": "stdout",
          "output_type": "stream",
          "text": [
            "Epoch 277, Test loss: 12.757924139972717\n",
            "Epoch 278, Train loss: 12.43155571103096\n"
          ]
        },
        {
          "name": "stderr",
          "output_type": "stream",
          "text": [
            " 56%|█████▌    | 278/500 [35:17<26:49,  7.25s/it]"
          ]
        },
        {
          "name": "stdout",
          "output_type": "stream",
          "text": [
            "Epoch 278, Test loss: 12.757925083239874\n",
            "Epoch 279, Train loss: 12.431555076969994\n"
          ]
        },
        {
          "name": "stderr",
          "output_type": "stream",
          "text": [
            " 56%|█████▌    | 279/500 [35:24<26:24,  7.17s/it]"
          ]
        },
        {
          "name": "stdout",
          "output_type": "stream",
          "text": [
            "Epoch 279, Test loss: 12.757925889321736\n",
            "Epoch 280, Train loss: 12.431554665101899\n"
          ]
        },
        {
          "name": "stderr",
          "output_type": "stream",
          "text": [
            " 56%|█████▌    | 280/500 [35:31<26:32,  7.24s/it]"
          ]
        },
        {
          "name": "stdout",
          "output_type": "stream",
          "text": [
            "Epoch 280, Test loss: 12.75792657808652\n",
            "Epoch 281, Train loss: 12.431554248465432\n"
          ]
        },
        {
          "name": "stderr",
          "output_type": "stream",
          "text": [
            " 56%|█████▌    | 281/500 [35:39<26:55,  7.38s/it]"
          ]
        },
        {
          "name": "stdout",
          "output_type": "stream",
          "text": [
            "Epoch 281, Test loss: 12.757927253605827\n",
            "Epoch 282, Train loss: 12.43155384282271\n"
          ]
        },
        {
          "name": "stderr",
          "output_type": "stream",
          "text": [
            " 56%|█████▋    | 282/500 [35:46<26:44,  7.36s/it]"
          ]
        },
        {
          "name": "stdout",
          "output_type": "stream",
          "text": [
            "Epoch 282, Test loss: 12.757927873304912\n",
            "Epoch 283, Train loss: 12.431553522083494\n"
          ]
        },
        {
          "name": "stderr",
          "output_type": "stream",
          "text": [
            " 57%|█████▋    | 283/500 [35:53<26:13,  7.25s/it]"
          ]
        },
        {
          "name": "stdout",
          "output_type": "stream",
          "text": [
            "Epoch 283, Test loss: 12.757927899795865\n",
            "Epoch 284, Train loss: 12.431553119487234\n"
          ]
        },
        {
          "name": "stderr",
          "output_type": "stream",
          "text": [
            " 57%|█████▋    | 284/500 [36:00<25:58,  7.21s/it]"
          ]
        },
        {
          "name": "stdout",
          "output_type": "stream",
          "text": [
            "Epoch 284, Test loss: 12.757927949466403\n",
            "Epoch 285, Train loss: 12.43155284702778\n"
          ]
        },
        {
          "name": "stderr",
          "output_type": "stream",
          "text": [
            " 57%|█████▋    | 285/500 [36:07<25:37,  7.15s/it]"
          ]
        },
        {
          "name": "stdout",
          "output_type": "stream",
          "text": [
            "Epoch 285, Test loss: 12.75792802515484\n",
            "Epoch 286, Train loss: 12.43155262225204\n"
          ]
        },
        {
          "name": "stderr",
          "output_type": "stream",
          "text": [
            " 57%|█████▋    | 286/500 [36:14<25:34,  7.17s/it]"
          ]
        },
        {
          "name": "stdout",
          "output_type": "stream",
          "text": [
            "Epoch 286, Test loss: 12.757928018532102\n",
            "Epoch 287, Train loss: 12.431552475690841\n"
          ]
        },
        {
          "name": "stderr",
          "output_type": "stream",
          "text": [
            " 57%|█████▋    | 287/500 [36:22<26:02,  7.33s/it]"
          ]
        },
        {
          "name": "stdout",
          "output_type": "stream",
          "text": [
            "Epoch 287, Test loss: 12.75792799393336\n",
            "Epoch 288, Train loss: 12.431552275088098\n"
          ]
        },
        {
          "name": "stderr",
          "output_type": "stream",
          "text": [
            " 58%|█████▊    | 288/500 [36:30<26:12,  7.42s/it]"
          ]
        },
        {
          "name": "stdout",
          "output_type": "stream",
          "text": [
            "Epoch 288, Test loss: 12.757928107466016\n",
            "Epoch 289, Train loss: 12.431552082233958\n"
          ]
        },
        {
          "name": "stderr",
          "output_type": "stream",
          "text": [
            " 58%|█████▊    | 289/500 [36:37<25:41,  7.31s/it]"
          ]
        },
        {
          "name": "stdout",
          "output_type": "stream",
          "text": [
            "Epoch 289, Test loss: 12.757928162813187\n",
            "Epoch 290, Train loss: 12.4315519708395\n"
          ]
        },
        {
          "name": "stderr",
          "output_type": "stream",
          "text": [
            " 58%|█████▊    | 290/500 [36:44<25:10,  7.19s/it]"
          ]
        },
        {
          "name": "stdout",
          "output_type": "stream",
          "text": [
            "Epoch 290, Test loss: 12.757928265938682\n",
            "Epoch 291, Train loss: 12.431551796529028\n"
          ]
        },
        {
          "name": "stderr",
          "output_type": "stream",
          "text": [
            " 58%|█████▊    | 291/500 [36:51<24:42,  7.09s/it]"
          ]
        },
        {
          "name": "stdout",
          "output_type": "stream",
          "text": [
            "Epoch 291, Test loss: 12.757928101316331\n",
            "Epoch 292, Train loss: 12.431551645133231\n"
          ]
        },
        {
          "name": "stderr",
          "output_type": "stream",
          "text": [
            " 58%|█████▊    | 292/500 [36:57<24:24,  7.04s/it]"
          ]
        },
        {
          "name": "stdout",
          "output_type": "stream",
          "text": [
            "Epoch 292, Test loss: 12.757928112669596\n",
            "Epoch 293, Train loss: 12.431551559501225\n"
          ]
        },
        {
          "name": "stderr",
          "output_type": "stream",
          "text": [
            " 59%|█████▊    | 293/500 [37:05<24:52,  7.21s/it]"
          ]
        },
        {
          "name": "stdout",
          "output_type": "stream",
          "text": [
            "Epoch 293, Test loss: 12.757927905472497\n",
            "Epoch 294, Train loss: 12.431551404529147\n"
          ]
        },
        {
          "name": "stderr",
          "output_type": "stream",
          "text": [
            " 59%|█████▉    | 294/500 [37:12<24:56,  7.27s/it]"
          ]
        },
        {
          "name": "stdout",
          "output_type": "stream",
          "text": [
            "Epoch 294, Test loss: 12.757927758826149\n",
            "Epoch 295, Train loss: 12.43155129386319\n"
          ]
        },
        {
          "name": "stderr",
          "output_type": "stream",
          "text": [
            " 59%|█████▉    | 295/500 [37:19<24:22,  7.14s/it]"
          ]
        },
        {
          "name": "stdout",
          "output_type": "stream",
          "text": [
            "Epoch 295, Test loss: 12.75792761691033\n",
            "Epoch 296, Train loss: 12.431551216244697\n"
          ]
        },
        {
          "name": "stderr",
          "output_type": "stream",
          "text": [
            " 59%|█████▉    | 296/500 [37:26<23:57,  7.05s/it]"
          ]
        },
        {
          "name": "stdout",
          "output_type": "stream",
          "text": [
            "Epoch 296, Test loss: 12.757927502431567\n",
            "Epoch 297, Train loss: 12.431551072729958\n"
          ]
        },
        {
          "name": "stderr",
          "output_type": "stream",
          "text": [
            " 59%|█████▉    | 297/500 [37:33<23:40,  7.00s/it]"
          ]
        },
        {
          "name": "stdout",
          "output_type": "stream",
          "text": [
            "Epoch 297, Test loss: 12.757927344431954\n",
            "Epoch 298, Train loss: 12.431550943851471\n"
          ]
        },
        {
          "name": "stderr",
          "output_type": "stream",
          "text": [
            " 60%|█████▉    | 298/500 [37:40<23:25,  6.96s/it]"
          ]
        },
        {
          "name": "stdout",
          "output_type": "stream",
          "text": [
            "Epoch 298, Test loss: 12.757927214815503\n",
            "Epoch 299, Train loss: 12.431550862325562\n"
          ]
        },
        {
          "name": "stderr",
          "output_type": "stream",
          "text": [
            " 60%|█████▉    | 299/500 [37:47<23:44,  7.09s/it]"
          ]
        },
        {
          "name": "stdout",
          "output_type": "stream",
          "text": [
            "Epoch 299, Test loss: 12.757927045462624\n",
            "Epoch 300, Train loss: 12.431550735698806\n"
          ]
        },
        {
          "name": "stderr",
          "output_type": "stream",
          "text": [
            " 60%|██████    | 300/500 [37:55<23:59,  7.20s/it]"
          ]
        },
        {
          "name": "stdout",
          "output_type": "stream",
          "text": [
            "Epoch 300, Test loss: 12.757926971666397\n",
            "Epoch 301, Train loss: 12.431550702253977\n"
          ]
        },
        {
          "name": "stderr",
          "output_type": "stream",
          "text": [
            " 60%|██████    | 301/500 [38:02<23:39,  7.13s/it]"
          ]
        },
        {
          "name": "stdout",
          "output_type": "stream",
          "text": [
            "Epoch 301, Test loss: 12.757926819816468\n",
            "Epoch 302, Train loss: 12.431550560924743\n"
          ]
        },
        {
          "name": "stderr",
          "output_type": "stream",
          "text": [
            " 60%|██████    | 302/500 [38:09<23:17,  7.06s/it]"
          ]
        },
        {
          "name": "stdout",
          "output_type": "stream",
          "text": [
            "Epoch 302, Test loss: 12.75792675264298\n",
            "Epoch 303, Train loss: 12.431550506618288\n"
          ]
        },
        {
          "name": "stderr",
          "output_type": "stream",
          "text": [
            " 61%|██████    | 303/500 [38:16<23:12,  7.07s/it]"
          ]
        },
        {
          "name": "stdout",
          "output_type": "stream",
          "text": [
            "Epoch 303, Test loss: 12.757926746966346\n",
            "Epoch 304, Train loss: 12.431550450457467\n"
          ]
        },
        {
          "name": "stderr",
          "output_type": "stream",
          "text": [
            " 61%|██████    | 304/500 [38:23<22:49,  6.99s/it]"
          ]
        },
        {
          "name": "stdout",
          "output_type": "stream",
          "text": [
            "Epoch 304, Test loss: 12.757926609781054\n",
            "Epoch 305, Train loss: 12.43155036740833\n"
          ]
        },
        {
          "name": "stderr",
          "output_type": "stream",
          "text": [
            " 61%|██████    | 305/500 [38:30<22:52,  7.04s/it]"
          ]
        },
        {
          "name": "stdout",
          "output_type": "stream",
          "text": [
            "Epoch 305, Test loss: 12.757926538823144\n",
            "Epoch 306, Train loss: 12.43155027826627\n"
          ]
        },
        {
          "name": "stderr",
          "output_type": "stream",
          "text": [
            " 61%|██████    | 306/500 [38:37<23:15,  7.19s/it]"
          ]
        },
        {
          "name": "stdout",
          "output_type": "stream",
          "text": [
            "Epoch 306, Test loss: 12.757926479218499\n",
            "Epoch 307, Train loss: 12.431550169322225\n"
          ]
        },
        {
          "name": "stderr",
          "output_type": "stream",
          "text": [
            " 61%|██████▏   | 307/500 [38:44<23:06,  7.19s/it]"
          ]
        },
        {
          "name": "stdout",
          "output_type": "stream",
          "text": [
            "Epoch 307, Test loss: 12.757926446104806\n",
            "Epoch 308, Train loss: 12.431550095677375\n"
          ]
        },
        {
          "name": "stderr",
          "output_type": "stream",
          "text": [
            " 62%|██████▏   | 308/500 [38:51<22:39,  7.08s/it]"
          ]
        },
        {
          "name": "stdout",
          "output_type": "stream",
          "text": [
            "Epoch 308, Test loss: 12.757926407314482\n",
            "Epoch 309, Train loss: 12.431550094750193\n"
          ]
        },
        {
          "name": "stderr",
          "output_type": "stream",
          "text": [
            " 62%|██████▏   | 309/500 [38:58<22:24,  7.04s/it]"
          ]
        },
        {
          "name": "stdout",
          "output_type": "stream",
          "text": [
            "Epoch 309, Test loss: 12.75792633257215\n",
            "Epoch 310, Train loss: 12.43155007123947\n"
          ]
        },
        {
          "name": "stderr",
          "output_type": "stream",
          "text": [
            " 62%|██████▏   | 310/500 [39:05<22:10,  7.00s/it]"
          ]
        },
        {
          "name": "stdout",
          "output_type": "stream",
          "text": [
            "Epoch 310, Test loss: 12.757926319326673\n",
            "Epoch 311, Train loss: 12.431549993554752\n"
          ]
        },
        {
          "name": "stderr",
          "output_type": "stream",
          "text": [
            " 62%|██████▏   | 311/500 [39:12<22:18,  7.08s/it]"
          ]
        },
        {
          "name": "stdout",
          "output_type": "stream",
          "text": [
            "Epoch 311, Test loss: 12.757926416775536\n",
            "Epoch 312, Train loss: 12.431549964878295\n"
          ]
        },
        {
          "name": "stderr",
          "output_type": "stream",
          "text": [
            " 62%|██████▏   | 312/500 [39:21<23:16,  7.43s/it]"
          ]
        },
        {
          "name": "stdout",
          "output_type": "stream",
          "text": [
            "Epoch 312, Test loss: 12.757926357170891\n",
            "Epoch 313, Train loss: 12.43154987308714\n"
          ]
        },
        {
          "name": "stderr",
          "output_type": "stream",
          "text": [
            " 63%|██████▎   | 313/500 [39:28<23:01,  7.39s/it]"
          ]
        },
        {
          "name": "stdout",
          "output_type": "stream",
          "text": [
            "Epoch 313, Test loss: 12.757926389338477\n",
            "Epoch 314, Train loss: 12.431549866596857\n"
          ]
        },
        {
          "name": "stderr",
          "output_type": "stream",
          "text": [
            " 63%|██████▎   | 314/500 [39:35<22:29,  7.26s/it]"
          ]
        },
        {
          "name": "stdout",
          "output_type": "stream",
          "text": [
            "Epoch 314, Test loss: 12.75792639123069\n",
            "Epoch 315, Train loss: 12.431549821032418\n"
          ]
        },
        {
          "name": "stderr",
          "output_type": "stream",
          "text": [
            " 63%|██████▎   | 315/500 [39:42<22:13,  7.21s/it]"
          ]
        },
        {
          "name": "stdout",
          "output_type": "stream",
          "text": [
            "Epoch 315, Test loss: 12.757926426236592\n",
            "Epoch 316, Train loss: 12.431549800700612\n"
          ]
        },
        {
          "name": "stderr",
          "output_type": "stream",
          "text": [
            " 63%|██████▎   | 316/500 [39:49<21:58,  7.17s/it]"
          ]
        },
        {
          "name": "stdout",
          "output_type": "stream",
          "text": [
            "Epoch 316, Test loss: 12.757926421506065\n",
            "Epoch 317, Train loss: 12.431549838052856\n"
          ]
        },
        {
          "name": "stderr",
          "output_type": "stream",
          "text": [
            " 63%|██████▎   | 317/500 [39:56<21:35,  7.08s/it]"
          ]
        },
        {
          "name": "stdout",
          "output_type": "stream",
          "text": [
            "Epoch 317, Test loss: 12.757926536930931\n",
            "Epoch 318, Train loss: 12.431549792952008\n"
          ]
        },
        {
          "name": "stderr",
          "output_type": "stream",
          "text": [
            " 64%|██████▎   | 318/500 [40:03<21:48,  7.19s/it]"
          ]
        },
        {
          "name": "stdout",
          "output_type": "stream",
          "text": [
            "Epoch 318, Test loss: 12.757926584236206\n",
            "Epoch 319, Train loss: 12.431549738844236\n"
          ]
        },
        {
          "name": "stderr",
          "output_type": "stream",
          "text": [
            " 64%|██████▍   | 319/500 [40:11<21:55,  7.27s/it]"
          ]
        },
        {
          "name": "stdout",
          "output_type": "stream",
          "text": [
            "Epoch 319, Test loss: 12.757926693038335\n",
            "Epoch 320, Train loss: 12.431549709041914\n"
          ]
        },
        {
          "name": "stderr",
          "output_type": "stream",
          "text": [
            " 64%|██████▍   | 320/500 [40:18<21:24,  7.14s/it]"
          ]
        },
        {
          "name": "stdout",
          "output_type": "stream",
          "text": [
            "Epoch 320, Test loss: 12.757926705337706\n",
            "Epoch 321, Train loss: 12.431549678643545\n"
          ]
        },
        {
          "name": "stderr",
          "output_type": "stream",
          "text": [
            " 64%|██████▍   | 321/500 [40:24<21:02,  7.05s/it]"
          ]
        },
        {
          "name": "stdout",
          "output_type": "stream",
          "text": [
            "Epoch 321, Test loss: 12.757926802786569\n",
            "Epoch 322, Train loss: 12.431549656060007\n"
          ]
        },
        {
          "name": "stderr",
          "output_type": "stream",
          "text": [
            " 64%|██████▍   | 322/500 [40:31<20:42,  6.98s/it]"
          ]
        },
        {
          "name": "stdout",
          "output_type": "stream",
          "text": [
            "Epoch 322, Test loss: 12.757926895504905\n",
            "Epoch 323, Train loss: 12.43154964533117\n"
          ]
        },
        {
          "name": "stderr",
          "output_type": "stream",
          "text": [
            " 65%|██████▍   | 323/500 [40:38<20:26,  6.93s/it]"
          ]
        },
        {
          "name": "stdout",
          "output_type": "stream",
          "text": [
            "Epoch 323, Test loss: 12.757926933349125\n",
            "Epoch 324, Train loss: 12.431549619237583\n"
          ]
        },
        {
          "name": "stderr",
          "output_type": "stream",
          "text": [
            " 65%|██████▍   | 324/500 [40:45<20:43,  7.06s/it]"
          ]
        },
        {
          "name": "stdout",
          "output_type": "stream",
          "text": [
            "Epoch 324, Test loss: 12.75792699295377\n",
            "Epoch 325, Train loss: 12.431549603475466\n"
          ]
        },
        {
          "name": "stderr",
          "output_type": "stream",
          "text": [
            " 65%|██████▌   | 325/500 [40:53<21:00,  7.20s/it]"
          ]
        },
        {
          "name": "stdout",
          "output_type": "stream",
          "text": [
            "Epoch 325, Test loss: 12.757927049720099\n",
            "Epoch 326, Train loss: 12.431549604071511\n"
          ]
        },
        {
          "name": "stderr",
          "output_type": "stream",
          "text": [
            " 65%|██████▌   | 326/500 [41:00<20:44,  7.15s/it]"
          ]
        },
        {
          "name": "stdout",
          "output_type": "stream",
          "text": [
            "Epoch 326, Test loss: 12.757927136761802\n",
            "Epoch 327, Train loss: 12.43154960413774\n"
          ]
        },
        {
          "name": "stderr",
          "output_type": "stream",
          "text": [
            " 65%|██████▌   | 327/500 [41:07<20:22,  7.07s/it]"
          ]
        },
        {
          "name": "stdout",
          "output_type": "stream",
          "text": [
            "Epoch 327, Test loss: 12.757927151899489\n",
            "Epoch 328, Train loss: 12.431549579964743\n"
          ]
        },
        {
          "name": "stderr",
          "output_type": "stream",
          "text": [
            " 66%|██████▌   | 328/500 [41:14<20:28,  7.14s/it]"
          ]
        },
        {
          "name": "stdout",
          "output_type": "stream",
          "text": [
            "Epoch 328, Test loss: 12.757927215288555\n",
            "Epoch 329, Train loss: 12.431549558242162\n"
          ]
        },
        {
          "name": "stderr",
          "output_type": "stream",
          "text": [
            " 66%|██████▌   | 329/500 [41:21<20:03,  7.04s/it]"
          ]
        },
        {
          "name": "stdout",
          "output_type": "stream",
          "text": [
            "Epoch 329, Test loss: 12.757927285300362\n",
            "Epoch 330, Train loss: 12.431549498703745\n"
          ]
        },
        {
          "name": "stderr",
          "output_type": "stream",
          "text": [
            " 66%|██████▌   | 330/500 [41:28<19:59,  7.06s/it]"
          ]
        },
        {
          "name": "stdout",
          "output_type": "stream",
          "text": [
            "Epoch 330, Test loss: 12.757927310845208\n",
            "Epoch 331, Train loss: 12.431549513075087\n"
          ]
        },
        {
          "name": "stderr",
          "output_type": "stream",
          "text": [
            " 66%|██████▌   | 331/500 [41:36<20:14,  7.18s/it]"
          ]
        },
        {
          "name": "stdout",
          "output_type": "stream",
          "text": [
            "Epoch 331, Test loss: 12.757927366665431\n",
            "Epoch 332, Train loss: 12.431549480027623\n"
          ]
        },
        {
          "name": "stderr",
          "output_type": "stream",
          "text": [
            " 66%|██████▋   | 332/500 [41:43<20:05,  7.17s/it]"
          ]
        },
        {
          "name": "stdout",
          "output_type": "stream",
          "text": [
            "Epoch 332, Test loss: 12.75792735247385\n",
            "Epoch 333, Train loss: 12.43154949857129\n"
          ]
        },
        {
          "name": "stderr",
          "output_type": "stream",
          "text": [
            " 67%|██████▋   | 333/500 [41:50<19:40,  7.07s/it]"
          ]
        },
        {
          "name": "stdout",
          "output_type": "stream",
          "text": [
            "Epoch 333, Test loss: 12.75792738369533\n",
            "Epoch 334, Train loss: 12.431549463338323\n"
          ]
        },
        {
          "name": "stderr",
          "output_type": "stream",
          "text": [
            " 67%|██████▋   | 334/500 [41:56<19:20,  6.99s/it]"
          ]
        },
        {
          "name": "stdout",
          "output_type": "stream",
          "text": [
            "Epoch 334, Test loss: 12.757927496281882\n",
            "Epoch 335, Train loss: 12.4315494717492\n"
          ]
        },
        {
          "name": "stderr",
          "output_type": "stream",
          "text": [
            " 67%|██████▋   | 335/500 [42:03<19:05,  6.95s/it]"
          ]
        },
        {
          "name": "stdout",
          "output_type": "stream",
          "text": [
            "Epoch 335, Test loss: 12.757927450868818\n",
            "Epoch 336, Train loss: 12.431549501220385\n"
          ]
        },
        {
          "name": "stderr",
          "output_type": "stream",
          "text": [
            " 67%|██████▋   | 336/500 [42:10<19:00,  6.95s/it]"
          ]
        },
        {
          "name": "stdout",
          "output_type": "stream",
          "text": [
            "Epoch 336, Test loss: 12.75792756534758\n",
            "Epoch 337, Train loss: 12.431549487908681\n"
          ]
        },
        {
          "name": "stderr",
          "output_type": "stream",
          "text": [
            " 67%|██████▋   | 337/500 [42:18<19:19,  7.12s/it]"
          ]
        },
        {
          "name": "stdout",
          "output_type": "stream",
          "text": [
            "Epoch 337, Test loss: 12.757927704425086\n",
            "Epoch 338, Train loss: 12.431549435125456\n"
          ]
        },
        {
          "name": "stderr",
          "output_type": "stream",
          "text": [
            " 68%|██████▊   | 338/500 [42:25<19:19,  7.16s/it]"
          ]
        },
        {
          "name": "stdout",
          "output_type": "stream",
          "text": [
            "Epoch 338, Test loss: 12.757927650497074\n",
            "Epoch 339, Train loss: 12.431549471616744\n"
          ]
        },
        {
          "name": "stderr",
          "output_type": "stream",
          "text": [
            " 68%|██████▊   | 339/500 [42:32<18:54,  7.05s/it]"
          ]
        },
        {
          "name": "stdout",
          "output_type": "stream",
          "text": [
            "Epoch 339, Test loss: 12.75792772618551\n",
            "Epoch 340, Train loss: 12.431549454861218\n"
          ]
        },
        {
          "name": "stderr",
          "output_type": "stream",
          "text": [
            " 68%|██████▊   | 340/500 [42:39<18:40,  7.00s/it]"
          ]
        },
        {
          "name": "stdout",
          "output_type": "stream",
          "text": [
            "Epoch 340, Test loss: 12.757927919191028\n",
            "Epoch 341, Train loss: 12.431549394660525\n"
          ]
        },
        {
          "name": "stderr",
          "output_type": "stream",
          "text": [
            " 68%|██████▊   | 341/500 [42:45<18:25,  6.95s/it]"
          ]
        },
        {
          "name": "stdout",
          "output_type": "stream",
          "text": [
            "Epoch 341, Test loss: 12.757927826472692\n",
            "Epoch 342, Train loss: 12.431549368699391\n"
          ]
        },
        {
          "name": "stderr",
          "output_type": "stream",
          "text": [
            " 68%|██████▊   | 342/500 [42:52<18:12,  6.91s/it]"
          ]
        },
        {
          "name": "stdout",
          "output_type": "stream",
          "text": [
            "Epoch 342, Test loss: 12.757927904999445\n",
            "Epoch 343, Train loss: 12.431549372739262\n"
          ]
        },
        {
          "name": "stderr",
          "output_type": "stream",
          "text": [
            " 69%|██████▊   | 343/500 [43:00<18:31,  7.08s/it]"
          ]
        },
        {
          "name": "stdout",
          "output_type": "stream",
          "text": [
            "Epoch 343, Test loss: 12.757928093274435\n",
            "Epoch 344, Train loss: 12.431549363732337\n"
          ]
        },
        {
          "name": "stderr",
          "output_type": "stream",
          "text": [
            " 69%|██████▉   | 344/500 [43:07<18:47,  7.23s/it]"
          ]
        },
        {
          "name": "stdout",
          "output_type": "stream",
          "text": [
            "Epoch 344, Test loss: 12.757928107466016\n",
            "Epoch 345, Train loss: 12.431549411349826\n"
          ]
        },
        {
          "name": "stderr",
          "output_type": "stream",
          "text": [
            " 69%|██████▉   | 345/500 [43:14<18:23,  7.12s/it]"
          ]
        },
        {
          "name": "stdout",
          "output_type": "stream",
          "text": [
            "Epoch 345, Test loss: 12.757928140579708\n",
            "Epoch 346, Train loss: 12.431549397640758\n"
          ]
        },
        {
          "name": "stderr",
          "output_type": "stream",
          "text": [
            " 69%|██████▉   | 346/500 [43:21<18:03,  7.04s/it]"
          ]
        },
        {
          "name": "stdout",
          "output_type": "stream",
          "text": [
            "Epoch 346, Test loss: 12.757928181262244\n",
            "Epoch 347, Train loss: 12.43154941227701\n"
          ]
        },
        {
          "name": "stderr",
          "output_type": "stream",
          "text": [
            " 69%|██████▉   | 347/500 [43:28<17:46,  6.97s/it]"
          ]
        },
        {
          "name": "stdout",
          "output_type": "stream",
          "text": [
            "Epoch 347, Test loss: 12.757928174639504\n",
            "Epoch 348, Train loss: 12.431549373070398\n"
          ]
        },
        {
          "name": "stderr",
          "output_type": "stream",
          "text": [
            " 70%|██████▉   | 348/500 [43:35<17:34,  6.93s/it]"
          ]
        },
        {
          "name": "stdout",
          "output_type": "stream",
          "text": [
            "Epoch 348, Test loss: 12.757928230459727\n",
            "Epoch 349, Train loss: 12.431549420820343\n"
          ]
        },
        {
          "name": "stderr",
          "output_type": "stream",
          "text": [
            " 70%|██████▉   | 349/500 [43:42<17:36,  6.99s/it]"
          ]
        },
        {
          "name": "stdout",
          "output_type": "stream",
          "text": [
            "Epoch 349, Test loss: 12.757928379944392\n",
            "Epoch 350, Train loss: 12.431549367043708\n"
          ]
        },
        {
          "name": "stderr",
          "output_type": "stream",
          "text": [
            " 70%|███████   | 350/500 [43:49<17:54,  7.16s/it]"
          ]
        },
        {
          "name": "stdout",
          "output_type": "stream",
          "text": [
            "Epoch 350, Test loss: 12.757928373794707\n",
            "Epoch 351, Train loss: 12.431549342075984\n"
          ]
        },
        {
          "name": "stderr",
          "output_type": "stream",
          "text": [
            " 70%|███████   | 351/500 [43:57<17:48,  7.17s/it]"
          ]
        },
        {
          "name": "stdout",
          "output_type": "stream",
          "text": [
            "Epoch 351, Test loss: 12.75792847786631\n",
            "Epoch 352, Train loss: 12.431549358434147\n"
          ]
        },
        {
          "name": "stderr",
          "output_type": "stream",
          "text": [
            " 70%|███████   | 352/500 [44:03<17:27,  7.08s/it]"
          ]
        },
        {
          "name": "stdout",
          "output_type": "stream",
          "text": [
            "Epoch 352, Test loss: 12.757928424884403\n",
            "Epoch 353, Train loss: 12.431549405654271\n"
          ]
        },
        {
          "name": "stderr",
          "output_type": "stream",
          "text": [
            " 71%|███████   | 353/500 [44:10<17:08,  7.00s/it]"
          ]
        },
        {
          "name": "stdout",
          "output_type": "stream",
          "text": [
            "Epoch 353, Test loss: 12.757928434345457\n",
            "Epoch 354, Train loss: 12.431549388302697\n"
          ]
        },
        {
          "name": "stderr",
          "output_type": "stream",
          "text": [
            " 71%|███████   | 354/500 [44:18<17:14,  7.08s/it]"
          ]
        },
        {
          "name": "stdout",
          "output_type": "stream",
          "text": [
            "Epoch 354, Test loss: 12.75792840548924\n",
            "Epoch 355, Train loss: 12.431549368434482\n"
          ]
        },
        {
          "name": "stderr",
          "output_type": "stream",
          "text": [
            " 71%|███████   | 355/500 [44:25<17:04,  7.07s/it]"
          ]
        },
        {
          "name": "stdout",
          "output_type": "stream",
          "text": [
            "Epoch 355, Test loss: 12.75792844522567\n",
            "Epoch 356, Train loss: 12.431549397375848\n"
          ]
        },
        {
          "name": "stderr",
          "output_type": "stream",
          "text": [
            " 71%|███████   | 356/500 [44:32<17:17,  7.20s/it]"
          ]
        },
        {
          "name": "stdout",
          "output_type": "stream",
          "text": [
            "Epoch 356, Test loss: 12.757928449010093\n",
            "Epoch 357, Train loss: 12.431549378832182\n"
          ]
        },
        {
          "name": "stderr",
          "output_type": "stream",
          "text": [
            " 71%|███████▏  | 357/500 [44:39<17:11,  7.22s/it]"
          ]
        },
        {
          "name": "stdout",
          "output_type": "stream",
          "text": [
            "Epoch 357, Test loss: 12.757928441441248\n",
            "Epoch 358, Train loss: 12.431549369825257\n"
          ]
        },
        {
          "name": "stderr",
          "output_type": "stream",
          "text": [
            " 72%|███████▏  | 358/500 [44:46<16:49,  7.11s/it]"
          ]
        },
        {
          "name": "stdout",
          "output_type": "stream",
          "text": [
            "Epoch 358, Test loss: 12.757928516183581\n",
            "Epoch 359, Train loss: 12.431549352738593\n"
          ]
        },
        {
          "name": "stderr",
          "output_type": "stream",
          "text": [
            " 72%|███████▏  | 359/500 [44:53<16:29,  7.02s/it]"
          ]
        },
        {
          "name": "stdout",
          "output_type": "stream",
          "text": [
            "Epoch 359, Test loss: 12.757928469824412\n",
            "Epoch 360, Train loss: 12.431549391945204\n"
          ]
        },
        {
          "name": "stderr",
          "output_type": "stream",
          "text": [
            " 72%|███████▏  | 360/500 [45:00<16:13,  6.96s/it]"
          ]
        },
        {
          "name": "stdout",
          "output_type": "stream",
          "text": [
            "Epoch 360, Test loss: 12.75792853510569\n",
            "Epoch 361, Train loss: 12.431549378236134\n"
          ]
        },
        {
          "name": "stderr",
          "output_type": "stream",
          "text": [
            " 72%|███████▏  | 361/500 [45:07<16:00,  6.91s/it]"
          ]
        },
        {
          "name": "stdout",
          "output_type": "stream",
          "text": [
            "Epoch 361, Test loss: 12.757928536997902\n",
            "Epoch 362, Train loss: 12.431549417244064\n"
          ]
        },
        {
          "name": "stderr",
          "output_type": "stream",
          "text": [
            " 72%|███████▏  | 362/500 [45:14<16:18,  7.09s/it]"
          ]
        },
        {
          "name": "stdout",
          "output_type": "stream",
          "text": [
            "Epoch 362, Test loss: 12.757928603225285\n",
            "Epoch 363, Train loss: 12.431549402938948\n"
          ]
        },
        {
          "name": "stderr",
          "output_type": "stream",
          "text": [
            " 73%|███████▎  | 363/500 [45:22<16:28,  7.21s/it]"
          ]
        },
        {
          "name": "stdout",
          "output_type": "stream",
          "text": [
            "Epoch 363, Test loss: 12.757928575788226\n",
            "Epoch 364, Train loss: 12.431549376183085\n"
          ]
        },
        {
          "name": "stderr",
          "output_type": "stream",
          "text": [
            " 73%|███████▎  | 364/500 [45:28<16:04,  7.09s/it]"
          ]
        },
        {
          "name": "stdout",
          "output_type": "stream",
          "text": [
            "Epoch 364, Test loss: 12.75792852469853\n",
            "Epoch 365, Train loss: 12.431549368566937\n"
          ]
        },
        {
          "name": "stderr",
          "output_type": "stream",
          "text": [
            " 73%|███████▎  | 365/500 [45:35<15:47,  7.02s/it]"
          ]
        },
        {
          "name": "stdout",
          "output_type": "stream",
          "text": [
            "Epoch 365, Test loss: 12.75792849347705\n",
            "Epoch 366, Train loss: 12.431549394792981\n"
          ]
        },
        {
          "name": "stderr",
          "output_type": "stream",
          "text": [
            " 73%|███████▎  | 366/500 [45:42<15:31,  6.95s/it]"
          ]
        },
        {
          "name": "stdout",
          "output_type": "stream",
          "text": [
            "Epoch 366, Test loss: 12.75792854362064\n",
            "Epoch 367, Train loss: 12.431549363864793\n"
          ]
        },
        {
          "name": "stderr",
          "output_type": "stream",
          "text": [
            " 73%|███████▎  | 367/500 [45:49<15:25,  6.96s/it]"
          ]
        },
        {
          "name": "stdout",
          "output_type": "stream",
          "text": [
            "Epoch 367, Test loss: 12.757928588087596\n",
            "Epoch 368, Train loss: 12.431549375653267\n"
          ]
        },
        {
          "name": "stderr",
          "output_type": "stream",
          "text": [
            " 74%|███████▎  | 368/500 [45:56<15:35,  7.09s/it]"
          ]
        },
        {
          "name": "stdout",
          "output_type": "stream",
          "text": [
            "Epoch 368, Test loss: 12.757928577680437\n",
            "Epoch 369, Train loss: 12.431549364195929\n"
          ]
        },
        {
          "name": "stderr",
          "output_type": "stream",
          "text": [
            " 74%|███████▍  | 369/500 [46:04<15:53,  7.28s/it]"
          ]
        },
        {
          "name": "stdout",
          "output_type": "stream",
          "text": [
            "Epoch 369, Test loss: 12.757928560650537\n",
            "Epoch 370, Train loss: 12.431549378964636\n"
          ]
        },
        {
          "name": "stderr",
          "output_type": "stream",
          "text": [
            " 74%|███████▍  | 370/500 [46:11<15:43,  7.26s/it]"
          ]
        },
        {
          "name": "stdout",
          "output_type": "stream",
          "text": [
            "Epoch 370, Test loss: 12.757928580518753\n",
            "Epoch 371, Train loss: 12.43154937810368\n"
          ]
        },
        {
          "name": "stderr",
          "output_type": "stream",
          "text": [
            " 74%|███████▍  | 371/500 [46:18<15:28,  7.20s/it]"
          ]
        },
        {
          "name": "stdout",
          "output_type": "stream",
          "text": [
            "Epoch 371, Test loss: 12.75792858714149\n",
            "Epoch 372, Train loss: 12.43154940896564\n"
          ]
        },
        {
          "name": "stderr",
          "output_type": "stream",
          "text": [
            " 74%|███████▍  | 372/500 [46:25<15:14,  7.14s/it]"
          ]
        },
        {
          "name": "stdout",
          "output_type": "stream",
          "text": [
            "Epoch 372, Test loss: 12.757928625931816\n",
            "Epoch 373, Train loss: 12.431549388037787\n"
          ]
        },
        {
          "name": "stderr",
          "output_type": "stream",
          "text": [
            " 75%|███████▍  | 373/500 [46:32<15:03,  7.12s/it]"
          ]
        },
        {
          "name": "stdout",
          "output_type": "stream",
          "text": [
            "Epoch 373, Test loss: 12.757928629716238\n",
            "Epoch 374, Train loss: 12.431549384726418\n"
          ]
        },
        {
          "name": "stderr",
          "output_type": "stream",
          "text": [
            " 75%|███████▍  | 374/500 [46:40<15:06,  7.19s/it]"
          ]
        },
        {
          "name": "stdout",
          "output_type": "stream",
          "text": [
            "Epoch 374, Test loss: 12.757928684590356\n",
            "Epoch 375, Train loss: 12.431549410091506\n"
          ]
        },
        {
          "name": "stderr",
          "output_type": "stream",
          "text": [
            " 75%|███████▌  | 375/500 [46:48<15:16,  7.34s/it]"
          ]
        },
        {
          "name": "stdout",
          "output_type": "stream",
          "text": [
            "Epoch 375, Test loss: 12.757928688374777\n",
            "Epoch 376, Train loss: 12.431549390620656\n"
          ]
        },
        {
          "name": "stderr",
          "output_type": "stream",
          "text": [
            " 75%|███████▌  | 376/500 [46:55<15:08,  7.33s/it]"
          ]
        },
        {
          "name": "stdout",
          "output_type": "stream",
          "text": [
            "Epoch 376, Test loss: 12.757928673237089\n",
            "Epoch 377, Train loss: 12.431549376183085\n"
          ]
        },
        {
          "name": "stderr",
          "output_type": "stream",
          "text": [
            " 75%|███████▌  | 377/500 [47:02<14:50,  7.24s/it]"
          ]
        },
        {
          "name": "stdout",
          "output_type": "stream",
          "text": [
            "Epoch 377, Test loss: 12.757928666614351\n",
            "Epoch 378, Train loss: 12.431549360222286\n"
          ]
        },
        {
          "name": "stderr",
          "output_type": "stream",
          "text": [
            " 76%|███████▌  | 378/500 [47:09<14:35,  7.18s/it]"
          ]
        },
        {
          "name": "stdout",
          "output_type": "stream",
          "text": [
            "Epoch 378, Test loss: 12.757928697835831\n",
            "Epoch 379, Train loss: 12.431549367374844\n"
          ]
        },
        {
          "name": "stderr",
          "output_type": "stream",
          "text": [
            " 76%|███████▌  | 379/500 [47:16<14:33,  7.22s/it]"
          ]
        },
        {
          "name": "stdout",
          "output_type": "stream",
          "text": [
            "Epoch 379, Test loss: 12.757928685536461\n",
            "Epoch 380, Train loss: 12.43154937459363\n"
          ]
        },
        {
          "name": "stderr",
          "output_type": "stream",
          "text": [
            " 76%|███████▌  | 380/500 [47:24<14:33,  7.28s/it]"
          ]
        },
        {
          "name": "stdout",
          "output_type": "stream",
          "text": [
            "Epoch 380, Test loss: 12.757928670398773\n",
            "Epoch 381, Train loss: 12.431549393402205\n"
          ]
        },
        {
          "name": "stderr",
          "output_type": "stream",
          "text": [
            " 76%|███████▌  | 381/500 [47:31<14:39,  7.39s/it]"
          ]
        },
        {
          "name": "stdout",
          "output_type": "stream",
          "text": [
            "Epoch 381, Test loss: 12.757928678913721\n",
            "Epoch 382, Train loss: 12.431549367705982\n"
          ]
        },
        {
          "name": "stderr",
          "output_type": "stream",
          "text": [
            " 76%|███████▋  | 382/500 [47:39<14:30,  7.38s/it]"
          ]
        },
        {
          "name": "stdout",
          "output_type": "stream",
          "text": [
            "Epoch 382, Test loss: 12.757928683644248\n",
            "Epoch 383, Train loss: 12.431549365917842\n"
          ]
        },
        {
          "name": "stderr",
          "output_type": "stream",
          "text": [
            " 77%|███████▋  | 383/500 [47:46<14:11,  7.28s/it]"
          ]
        },
        {
          "name": "stdout",
          "output_type": "stream",
          "text": [
            "Epoch 383, Test loss: 12.757928718650152\n",
            "Epoch 384, Train loss: 12.431549363666111\n"
          ]
        },
        {
          "name": "stderr",
          "output_type": "stream",
          "text": [
            " 77%|███████▋  | 384/500 [47:53<13:57,  7.22s/it]"
          ]
        },
        {
          "name": "stdout",
          "output_type": "stream",
          "text": [
            "Epoch 384, Test loss: 12.757928730003417\n",
            "Epoch 385, Train loss: 12.43154936061965\n"
          ]
        },
        {
          "name": "stderr",
          "output_type": "stream",
          "text": [
            " 77%|███████▋  | 385/500 [48:00<13:43,  7.17s/it]"
          ]
        },
        {
          "name": "stdout",
          "output_type": "stream",
          "text": [
            "Epoch 385, Test loss: 12.757928738518366\n",
            "Epoch 386, Train loss: 12.431549328035779\n"
          ]
        },
        {
          "name": "stderr",
          "output_type": "stream",
          "text": [
            " 77%|███████▋  | 386/500 [48:07<13:37,  7.17s/it]"
          ]
        },
        {
          "name": "stdout",
          "output_type": "stream",
          "text": [
            "Epoch 386, Test loss: 12.757928734733945\n",
            "Epoch 387, Train loss: 12.431549333466425\n"
          ]
        },
        {
          "name": "stderr",
          "output_type": "stream",
          "text": [
            " 77%|███████▋  | 387/500 [48:15<13:48,  7.33s/it]"
          ]
        },
        {
          "name": "stdout",
          "output_type": "stream",
          "text": [
            "Epoch 387, Test loss: 12.757928789608062\n",
            "Epoch 388, Train loss: 12.431549353467094\n"
          ]
        },
        {
          "name": "stderr",
          "output_type": "stream",
          "text": [
            " 78%|███████▊  | 388/500 [48:22<13:45,  7.37s/it]"
          ]
        },
        {
          "name": "stdout",
          "output_type": "stream",
          "text": [
            "Epoch 388, Test loss: 12.757928802853538\n",
            "Epoch 389, Train loss: 12.43154935253991\n"
          ]
        },
        {
          "name": "stderr",
          "output_type": "stream",
          "text": [
            " 78%|███████▊  | 389/500 [48:29<13:23,  7.24s/it]"
          ]
        },
        {
          "name": "stdout",
          "output_type": "stream",
          "text": [
            "Epoch 389, Test loss: 12.75792878582364\n",
            "Epoch 390, Train loss: 12.431549361877972\n"
          ]
        },
        {
          "name": "stderr",
          "output_type": "stream",
          "text": [
            " 78%|███████▊  | 390/500 [48:36<13:09,  7.18s/it]"
          ]
        },
        {
          "name": "stdout",
          "output_type": "stream",
          "text": [
            "Epoch 390, Test loss: 12.757928755548265\n",
            "Epoch 391, Train loss: 12.431549352738593\n"
          ]
        },
        {
          "name": "stderr",
          "output_type": "stream",
          "text": [
            " 78%|███████▊  | 391/500 [48:43<12:58,  7.14s/it]"
          ]
        },
        {
          "name": "stdout",
          "output_type": "stream",
          "text": [
            "Epoch 391, Test loss: 12.757928748925528\n",
            "Epoch 392, Train loss: 12.431549347837766\n"
          ]
        },
        {
          "name": "stderr",
          "output_type": "stream",
          "text": [
            " 78%|███████▊  | 392/500 [48:50<12:49,  7.13s/it]"
          ]
        },
        {
          "name": "stdout",
          "output_type": "stream",
          "text": [
            "Epoch 392, Test loss: 12.757928731895628\n",
            "Epoch 393, Train loss: 12.431549371812078\n"
          ]
        },
        {
          "name": "stderr",
          "output_type": "stream",
          "text": [
            " 79%|███████▊  | 393/500 [48:58<13:02,  7.31s/it]"
          ]
        },
        {
          "name": "stdout",
          "output_type": "stream",
          "text": [
            "Epoch 393, Test loss: 12.757928760278793\n",
            "Epoch 394, Train loss: 12.431549354791642\n"
          ]
        },
        {
          "name": "stderr",
          "output_type": "stream",
          "text": [
            " 79%|███████▉  | 394/500 [49:06<13:09,  7.45s/it]"
          ]
        },
        {
          "name": "stdout",
          "output_type": "stream",
          "text": [
            "Epoch 394, Test loss: 12.757928738518366\n",
            "Epoch 395, Train loss: 12.431549353996912\n"
          ]
        },
        {
          "name": "stderr",
          "output_type": "stream",
          "text": [
            " 79%|███████▉  | 395/500 [49:13<12:49,  7.33s/it]"
          ]
        },
        {
          "name": "stdout",
          "output_type": "stream",
          "text": [
            "Epoch 395, Test loss: 12.757928734733945\n",
            "Epoch 396, Train loss: 12.431549350817999\n"
          ]
        },
        {
          "name": "stderr",
          "output_type": "stream",
          "text": [
            " 79%|███████▉  | 396/500 [49:20<12:33,  7.24s/it]"
          ]
        },
        {
          "name": "stdout",
          "output_type": "stream",
          "text": [
            "Epoch 396, Test loss: 12.757928747979422\n",
            "Epoch 397, Train loss: 12.431549360818334\n"
          ]
        },
        {
          "name": "stderr",
          "output_type": "stream",
          "text": [
            " 79%|███████▉  | 397/500 [49:27<12:20,  7.19s/it]"
          ]
        },
        {
          "name": "stdout",
          "output_type": "stream",
          "text": [
            "Epoch 397, Test loss: 12.757928761224898\n",
            "Epoch 398, Train loss: 12.43154934346676\n"
          ]
        },
        {
          "name": "stderr",
          "output_type": "stream",
          "text": [
            " 80%|███████▉  | 398/500 [49:34<12:09,  7.15s/it]"
          ]
        },
        {
          "name": "stdout",
          "output_type": "stream",
          "text": [
            "Epoch 398, Test loss: 12.75792875270995\n",
            "Epoch 399, Train loss: 12.431549358963967\n"
          ]
        },
        {
          "name": "stderr",
          "output_type": "stream",
          "text": [
            " 80%|███████▉  | 399/500 [49:42<12:15,  7.28s/it]"
          ]
        },
        {
          "name": "stdout",
          "output_type": "stream",
          "text": [
            "Epoch 399, Test loss: 12.757928716757942\n",
            "Epoch 400, Train loss: 12.4315493571096\n"
          ]
        },
        {
          "name": "stderr",
          "output_type": "stream",
          "text": [
            " 80%|████████  | 400/500 [49:49<12:20,  7.40s/it]"
          ]
        },
        {
          "name": "stdout",
          "output_type": "stream",
          "text": [
            "Epoch 400, Test loss: 12.757928701620253\n",
            "Epoch 401, Train loss: 12.431549351281589\n"
          ]
        },
        {
          "name": "stderr",
          "output_type": "stream",
          "text": [
            " 80%|████████  | 401/500 [49:56<12:03,  7.31s/it]"
          ]
        },
        {
          "name": "stdout",
          "output_type": "stream",
          "text": [
            "Epoch 401, Test loss: 12.757928712027413\n",
            "Epoch 402, Train loss: 12.431549362805155\n"
          ]
        },
        {
          "name": "stderr",
          "output_type": "stream",
          "text": [
            " 80%|████████  | 402/500 [50:04<11:51,  7.26s/it]"
          ]
        },
        {
          "name": "stdout",
          "output_type": "stream",
          "text": [
            "Epoch 402, Test loss: 12.757928760278793\n",
            "Epoch 403, Train loss: 12.431549344393941\n"
          ]
        },
        {
          "name": "stderr",
          "output_type": "stream",
          "text": [
            " 81%|████████  | 403/500 [50:11<11:44,  7.26s/it]"
          ]
        },
        {
          "name": "stdout",
          "output_type": "stream",
          "text": [
            "Epoch 403, Test loss: 12.757928761224898\n",
            "Epoch 404, Train loss: 12.431549358963967\n"
          ]
        },
        {
          "name": "stderr",
          "output_type": "stream",
          "text": [
            " 81%|████████  | 404/500 [50:18<11:36,  7.26s/it]"
          ]
        },
        {
          "name": "stdout",
          "output_type": "stream",
          "text": [
            "Epoch 404, Test loss: 12.757928734733945\n",
            "Epoch 405, Train loss: 12.43154934876495\n"
          ]
        },
        {
          "name": "stderr",
          "output_type": "stream",
          "text": [
            " 81%|████████  | 405/500 [50:26<11:35,  7.32s/it]"
          ]
        },
        {
          "name": "stdout",
          "output_type": "stream",
          "text": [
            "Epoch 405, Test loss: 12.757928761224898\n",
            "Epoch 406, Train loss: 12.431549342142212\n"
          ]
        },
        {
          "name": "stderr",
          "output_type": "stream",
          "text": [
            " 81%|████████  | 406/500 [50:33<11:37,  7.42s/it]"
          ]
        },
        {
          "name": "stdout",
          "output_type": "stream",
          "text": [
            "Epoch 406, Test loss: 12.757928749871633\n",
            "Epoch 407, Train loss: 12.431549341347482\n"
          ]
        },
        {
          "name": "stderr",
          "output_type": "stream",
          "text": [
            " 81%|████████▏ | 407/500 [50:40<11:17,  7.29s/it]"
          ]
        },
        {
          "name": "stdout",
          "output_type": "stream",
          "text": [
            "Epoch 407, Test loss: 12.757928751763844\n",
            "Epoch 408, Train loss: 12.431549340685208\n"
          ]
        },
        {
          "name": "stderr",
          "output_type": "stream",
          "text": [
            " 82%|████████▏ | 408/500 [50:47<10:56,  7.14s/it]"
          ]
        },
        {
          "name": "stdout",
          "output_type": "stream",
          "text": [
            "Epoch 408, Test loss: 12.757928757440476\n",
            "Epoch 409, Train loss: 12.431549340817664\n"
          ]
        },
        {
          "name": "stderr",
          "output_type": "stream",
          "text": [
            " 82%|████████▏ | 409/500 [50:54<10:40,  7.04s/it]"
          ]
        },
        {
          "name": "stdout",
          "output_type": "stream",
          "text": [
            "Epoch 409, Test loss: 12.757928761224898\n",
            "Epoch 410, Train loss: 12.431549340420299\n"
          ]
        },
        {
          "name": "stderr",
          "output_type": "stream",
          "text": [
            " 82%|████████▏ | 410/500 [51:01<10:28,  6.98s/it]"
          ]
        },
        {
          "name": "stdout",
          "output_type": "stream",
          "text": [
            "Epoch 410, Test loss: 12.757928759332687\n",
            "Epoch 411, Train loss: 12.431549338036113\n"
          ]
        },
        {
          "name": "stderr",
          "output_type": "stream",
          "text": [
            " 82%|████████▏ | 411/500 [51:08<10:27,  7.05s/it]"
          ]
        },
        {
          "name": "stdout",
          "output_type": "stream",
          "text": [
            "Epoch 411, Test loss: 12.757928761224898\n",
            "Epoch 412, Train loss: 12.431549337771203\n"
          ]
        },
        {
          "name": "stderr",
          "output_type": "stream",
          "text": [
            " 82%|████████▏ | 412/500 [51:15<10:32,  7.19s/it]"
          ]
        },
        {
          "name": "stdout",
          "output_type": "stream",
          "text": [
            "Epoch 412, Test loss: 12.757928761224898\n",
            "Epoch 413, Train loss: 12.431549337506294\n"
          ]
        },
        {
          "name": "stderr",
          "output_type": "stream",
          "text": [
            " 83%|████████▎ | 413/500 [51:23<10:26,  7.20s/it]"
          ]
        },
        {
          "name": "stdout",
          "output_type": "stream",
          "text": [
            "Epoch 413, Test loss: 12.757928761224898\n",
            "Epoch 414, Train loss: 12.431549339095751\n"
          ]
        },
        {
          "name": "stderr",
          "output_type": "stream",
          "text": [
            " 83%|████████▎ | 414/500 [51:29<10:08,  7.08s/it]"
          ]
        },
        {
          "name": "stdout",
          "output_type": "stream",
          "text": [
            "Epoch 414, Test loss: 12.757928757440476\n",
            "Epoch 415, Train loss: 12.43154933936066\n"
          ]
        },
        {
          "name": "stderr",
          "output_type": "stream",
          "text": [
            " 83%|████████▎ | 415/500 [51:36<09:55,  7.00s/it]"
          ]
        },
        {
          "name": "stdout",
          "output_type": "stream",
          "text": [
            "Epoch 415, Test loss: 12.757928757440476\n",
            "Epoch 416, Train loss: 12.431549338565933\n"
          ]
        },
        {
          "name": "stderr",
          "output_type": "stream",
          "text": [
            " 83%|████████▎ | 416/500 [51:43<09:42,  6.94s/it]"
          ]
        },
        {
          "name": "stdout",
          "output_type": "stream",
          "text": [
            "Epoch 416, Test loss: 12.757928759332687\n",
            "Epoch 417, Train loss: 12.431549338565933\n"
          ]
        },
        {
          "name": "stderr",
          "output_type": "stream",
          "text": [
            " 83%|████████▎ | 417/500 [51:50<09:34,  6.92s/it]"
          ]
        },
        {
          "name": "stdout",
          "output_type": "stream",
          "text": [
            "Epoch 417, Test loss: 12.757928753656055\n",
            "Epoch 418, Train loss: 12.431549338698387\n"
          ]
        },
        {
          "name": "stderr",
          "output_type": "stream",
          "text": [
            " 84%|████████▎ | 418/500 [51:57<09:45,  7.14s/it]"
          ]
        },
        {
          "name": "stdout",
          "output_type": "stream",
          "text": [
            "Epoch 418, Test loss: 12.757928753656055\n",
            "Epoch 419, Train loss: 12.431549336579112\n"
          ]
        },
        {
          "name": "stderr",
          "output_type": "stream",
          "text": [
            " 84%|████████▍ | 419/500 [52:05<09:49,  7.28s/it]"
          ]
        },
        {
          "name": "stdout",
          "output_type": "stream",
          "text": [
            "Epoch 419, Test loss: 12.757928760278793\n",
            "Epoch 420, Train loss: 12.431549334857198\n"
          ]
        },
        {
          "name": "stderr",
          "output_type": "stream",
          "text": [
            " 84%|████████▍ | 420/500 [52:12<09:34,  7.18s/it]"
          ]
        },
        {
          "name": "stdout",
          "output_type": "stream",
          "text": [
            "Epoch 420, Test loss: 12.757928753656055\n",
            "Epoch 421, Train loss: 12.431549337042702\n"
          ]
        },
        {
          "name": "stderr",
          "output_type": "stream",
          "text": [
            " 84%|████████▍ | 421/500 [52:19<09:19,  7.09s/it]"
          ]
        },
        {
          "name": "stdout",
          "output_type": "stream",
          "text": [
            "Epoch 421, Test loss: 12.75792875460216\n",
            "Epoch 422, Train loss: 12.43154934320185\n"
          ]
        },
        {
          "name": "stderr",
          "output_type": "stream",
          "text": [
            " 84%|████████▍ | 422/500 [52:26<09:06,  7.01s/it]"
          ]
        },
        {
          "name": "stdout",
          "output_type": "stream",
          "text": [
            "Epoch 422, Test loss: 12.757928760278793\n",
            "Epoch 423, Train loss: 12.431549343864123\n"
          ]
        },
        {
          "name": "stderr",
          "output_type": "stream",
          "text": [
            " 85%|████████▍ | 423/500 [52:33<08:57,  6.98s/it]"
          ]
        },
        {
          "name": "stdout",
          "output_type": "stream",
          "text": [
            "Epoch 423, Test loss: 12.75792875460216\n",
            "Epoch 424, Train loss: 12.431549339956707\n"
          ]
        },
        {
          "name": "stderr",
          "output_type": "stream",
          "text": [
            " 85%|████████▍ | 424/500 [52:40<09:02,  7.13s/it]"
          ]
        },
        {
          "name": "stdout",
          "output_type": "stream",
          "text": [
            "Epoch 424, Test loss: 12.75792875460216\n",
            "Epoch 425, Train loss: 12.431549341016346\n"
          ]
        },
        {
          "name": "stderr",
          "output_type": "stream",
          "text": [
            " 85%|████████▌ | 425/500 [52:48<09:04,  7.26s/it]"
          ]
        },
        {
          "name": "stdout",
          "output_type": "stream",
          "text": [
            "Epoch 425, Test loss: 12.75792875649437\n",
            "Epoch 426, Train loss: 12.431549339956707\n"
          ]
        },
        {
          "name": "stderr",
          "output_type": "stream",
          "text": [
            " 85%|████████▌ | 426/500 [52:55<08:49,  7.15s/it]"
          ]
        },
        {
          "name": "stdout",
          "output_type": "stream",
          "text": [
            "Epoch 426, Test loss: 12.75792875649437\n",
            "Epoch 427, Train loss: 12.431549341479938\n"
          ]
        },
        {
          "name": "stderr",
          "output_type": "stream",
          "text": [
            " 85%|████████▌ | 427/500 [53:01<08:34,  7.05s/it]"
          ]
        },
        {
          "name": "stdout",
          "output_type": "stream",
          "text": [
            "Epoch 427, Test loss: 12.75792875460216\n",
            "Epoch 428, Train loss: 12.431549342804486\n"
          ]
        },
        {
          "name": "stderr",
          "output_type": "stream",
          "text": [
            " 86%|████████▌ | 428/500 [53:08<08:23,  6.99s/it]"
          ]
        },
        {
          "name": "stdout",
          "output_type": "stream",
          "text": [
            "Epoch 428, Test loss: 12.757928757440476\n",
            "Epoch 429, Train loss: 12.431549342539576\n"
          ]
        },
        {
          "name": "stderr",
          "output_type": "stream",
          "text": [
            " 86%|████████▌ | 429/500 [53:15<08:13,  6.95s/it]"
          ]
        },
        {
          "name": "stdout",
          "output_type": "stream",
          "text": [
            "Epoch 429, Test loss: 12.757928757440476\n",
            "Epoch 430, Train loss: 12.431549344592625\n"
          ]
        },
        {
          "name": "stderr",
          "output_type": "stream",
          "text": [
            " 86%|████████▌ | 430/500 [53:23<08:17,  7.11s/it]"
          ]
        },
        {
          "name": "stdout",
          "output_type": "stream",
          "text": [
            "Epoch 430, Test loss: 12.757928746087211\n",
            "Epoch 431, Train loss: 12.43154934293694\n"
          ]
        },
        {
          "name": "stderr",
          "output_type": "stream",
          "text": [
            " 86%|████████▌ | 431/500 [53:30<08:19,  7.24s/it]"
          ]
        },
        {
          "name": "stdout",
          "output_type": "stream",
          "text": [
            "Epoch 431, Test loss: 12.757928742302788\n",
            "Epoch 432, Train loss: 12.431549341347482\n"
          ]
        },
        {
          "name": "stderr",
          "output_type": "stream",
          "text": [
            " 86%|████████▋ | 432/500 [53:37<08:08,  7.18s/it]"
          ]
        },
        {
          "name": "stdout",
          "output_type": "stream",
          "text": [
            "Epoch 432, Test loss: 12.757928734733945\n",
            "Epoch 433, Train loss: 12.43154934320185\n"
          ]
        },
        {
          "name": "stderr",
          "output_type": "stream",
          "text": [
            " 87%|████████▋ | 433/500 [53:44<07:56,  7.11s/it]"
          ]
        },
        {
          "name": "stdout",
          "output_type": "stream",
          "text": [
            "Epoch 433, Test loss: 12.757928736626155\n",
            "Epoch 434, Train loss: 12.431549344725079\n"
          ]
        },
        {
          "name": "stderr",
          "output_type": "stream",
          "text": [
            " 87%|████████▋ | 434/500 [53:51<07:44,  7.04s/it]"
          ]
        },
        {
          "name": "stdout",
          "output_type": "stream",
          "text": [
            "Epoch 434, Test loss: 12.757928732841734\n",
            "Epoch 435, Train loss: 12.431549342870712\n"
          ]
        },
        {
          "name": "stderr",
          "output_type": "stream",
          "text": [
            " 87%|████████▋ | 435/500 [53:58<07:33,  6.97s/it]"
          ]
        },
        {
          "name": "stdout",
          "output_type": "stream",
          "text": [
            "Epoch 435, Test loss: 12.757928727165101\n",
            "Epoch 436, Train loss: 12.431549346049627\n"
          ]
        },
        {
          "name": "stderr",
          "output_type": "stream",
          "text": [
            " 87%|████████▋ | 436/500 [54:05<07:28,  7.01s/it]"
          ]
        },
        {
          "name": "stdout",
          "output_type": "stream",
          "text": [
            "Epoch 436, Test loss: 12.757928727165101\n",
            "Epoch 437, Train loss: 12.431549345652263\n"
          ]
        },
        {
          "name": "stderr",
          "output_type": "stream",
          "text": [
            " 87%|████████▋ | 437/500 [54:13<07:34,  7.21s/it]"
          ]
        },
        {
          "name": "stdout",
          "output_type": "stream",
          "text": [
            "Epoch 437, Test loss: 12.757928727165101\n",
            "Epoch 438, Train loss: 12.431549343996577\n"
          ]
        },
        {
          "name": "stderr",
          "output_type": "stream",
          "text": [
            " 88%|████████▊ | 438/500 [54:20<07:32,  7.30s/it]"
          ]
        },
        {
          "name": "stdout",
          "output_type": "stream",
          "text": [
            "Epoch 438, Test loss: 12.757928729057312\n",
            "Epoch 439, Train loss: 12.43154934293694\n"
          ]
        },
        {
          "name": "stderr",
          "output_type": "stream",
          "text": [
            " 88%|████████▊ | 439/500 [54:27<07:17,  7.16s/it]"
          ]
        },
        {
          "name": "stdout",
          "output_type": "stream",
          "text": [
            "Epoch 439, Test loss: 12.757928732841734\n",
            "Epoch 440, Train loss: 12.431549349294768\n"
          ]
        },
        {
          "name": "stderr",
          "output_type": "stream",
          "text": [
            " 88%|████████▊ | 440/500 [54:34<07:02,  7.05s/it]"
          ]
        },
        {
          "name": "stdout",
          "output_type": "stream",
          "text": [
            "Epoch 440, Test loss: 12.757928732841734\n",
            "Epoch 441, Train loss: 12.431549349427224\n"
          ]
        },
        {
          "name": "stderr",
          "output_type": "stream",
          "text": [
            " 88%|████████▊ | 441/500 [54:41<06:52,  6.99s/it]"
          ]
        },
        {
          "name": "stdout",
          "output_type": "stream",
          "text": [
            "Epoch 441, Test loss: 12.757928732841734\n",
            "Epoch 442, Train loss: 12.431549349427224\n"
          ]
        },
        {
          "name": "stderr",
          "output_type": "stream",
          "text": [
            " 88%|████████▊ | 442/500 [54:47<06:44,  6.97s/it]"
          ]
        },
        {
          "name": "stdout",
          "output_type": "stream",
          "text": [
            "Epoch 442, Test loss: 12.757928732841734\n",
            "Epoch 443, Train loss: 12.431549349957042\n"
          ]
        },
        {
          "name": "stderr",
          "output_type": "stream",
          "text": [
            " 89%|████████▊ | 443/500 [54:55<06:45,  7.11s/it]"
          ]
        },
        {
          "name": "stdout",
          "output_type": "stream",
          "text": [
            "Epoch 443, Test loss: 12.757928732841734\n",
            "Epoch 444, Train loss: 12.431549349427224\n"
          ]
        },
        {
          "name": "stderr",
          "output_type": "stream",
          "text": [
            " 89%|████████▉ | 444/500 [55:03<06:46,  7.26s/it]"
          ]
        },
        {
          "name": "stdout",
          "output_type": "stream",
          "text": [
            "Epoch 444, Test loss: 12.757928732841734\n",
            "Epoch 445, Train loss: 12.431549349427224\n"
          ]
        },
        {
          "name": "stderr",
          "output_type": "stream",
          "text": [
            " 89%|████████▉ | 445/500 [55:10<06:37,  7.23s/it]"
          ]
        },
        {
          "name": "stdout",
          "output_type": "stream",
          "text": [
            "Epoch 445, Test loss: 12.757928732841734\n",
            "Epoch 446, Train loss: 12.431549349427224\n"
          ]
        },
        {
          "name": "stderr",
          "output_type": "stream",
          "text": [
            " 89%|████████▉ | 446/500 [55:17<06:27,  7.18s/it]"
          ]
        },
        {
          "name": "stdout",
          "output_type": "stream",
          "text": [
            "Epoch 446, Test loss: 12.757928732841734\n",
            "Epoch 447, Train loss: 12.431549349427224\n"
          ]
        },
        {
          "name": "stderr",
          "output_type": "stream",
          "text": [
            " 89%|████████▉ | 447/500 [55:24<06:18,  7.15s/it]"
          ]
        },
        {
          "name": "stdout",
          "output_type": "stream",
          "text": [
            "Epoch 447, Test loss: 12.757928732841734\n",
            "Epoch 448, Train loss: 12.431549349427224\n"
          ]
        },
        {
          "name": "stderr",
          "output_type": "stream",
          "text": [
            " 90%|████████▉ | 448/500 [55:31<06:11,  7.14s/it]"
          ]
        },
        {
          "name": "stdout",
          "output_type": "stream",
          "text": [
            "Epoch 448, Test loss: 12.757928732841734\n",
            "Epoch 449, Train loss: 12.431549349427224\n"
          ]
        },
        {
          "name": "stderr",
          "output_type": "stream",
          "text": [
            " 90%|████████▉ | 449/500 [55:39<06:11,  7.27s/it]"
          ]
        },
        {
          "name": "stdout",
          "output_type": "stream",
          "text": [
            "Epoch 449, Test loss: 12.757928732841734\n",
            "Epoch 450, Train loss: 12.431549349427224\n"
          ]
        },
        {
          "name": "stderr",
          "output_type": "stream",
          "text": [
            " 90%|█████████ | 450/500 [55:46<06:09,  7.39s/it]"
          ]
        },
        {
          "name": "stdout",
          "output_type": "stream",
          "text": [
            "Epoch 450, Test loss: 12.757928732841734\n",
            "Epoch 451, Train loss: 12.431549349427224\n"
          ]
        },
        {
          "name": "stderr",
          "output_type": "stream",
          "text": [
            " 90%|█████████ | 451/500 [55:53<05:58,  7.31s/it]"
          ]
        },
        {
          "name": "stdout",
          "output_type": "stream",
          "text": [
            "Epoch 451, Test loss: 12.757928732841734\n",
            "Epoch 452, Train loss: 12.431549349427224\n"
          ]
        },
        {
          "name": "stderr",
          "output_type": "stream",
          "text": [
            " 90%|█████████ | 452/500 [56:00<05:47,  7.24s/it]"
          ]
        },
        {
          "name": "stdout",
          "output_type": "stream",
          "text": [
            "Epoch 452, Test loss: 12.757928732841734\n",
            "Epoch 453, Train loss: 12.431549349427224\n"
          ]
        },
        {
          "name": "stderr",
          "output_type": "stream",
          "text": [
            " 91%|█████████ | 453/500 [56:07<05:36,  7.16s/it]"
          ]
        },
        {
          "name": "stdout",
          "output_type": "stream",
          "text": [
            "Epoch 453, Test loss: 12.757928732841734\n",
            "Epoch 454, Train loss: 12.431549349427224\n"
          ]
        },
        {
          "name": "stderr",
          "output_type": "stream",
          "text": [
            " 91%|█████████ | 454/500 [56:14<05:28,  7.14s/it]"
          ]
        },
        {
          "name": "stdout",
          "output_type": "stream",
          "text": [
            "Epoch 454, Test loss: 12.757928732841734\n",
            "Epoch 455, Train loss: 12.431549349427224\n"
          ]
        },
        {
          "name": "stderr",
          "output_type": "stream",
          "text": [
            " 91%|█████████ | 455/500 [56:22<05:26,  7.26s/it]"
          ]
        },
        {
          "name": "stdout",
          "output_type": "stream",
          "text": [
            "Epoch 455, Test loss: 12.757928732841734\n",
            "Epoch 456, Train loss: 12.431549349427224\n"
          ]
        },
        {
          "name": "stderr",
          "output_type": "stream",
          "text": [
            " 91%|█████████ | 456/500 [56:30<05:25,  7.40s/it]"
          ]
        },
        {
          "name": "stdout",
          "output_type": "stream",
          "text": [
            "Epoch 456, Test loss: 12.757928732841734\n",
            "Epoch 457, Train loss: 12.431549349427224\n"
          ]
        },
        {
          "name": "stderr",
          "output_type": "stream",
          "text": [
            " 91%|█████████▏| 457/500 [56:37<05:15,  7.34s/it]"
          ]
        },
        {
          "name": "stdout",
          "output_type": "stream",
          "text": [
            "Epoch 457, Test loss: 12.757928732841734\n",
            "Epoch 458, Train loss: 12.431549349427224\n"
          ]
        },
        {
          "name": "stderr",
          "output_type": "stream",
          "text": [
            " 92%|█████████▏| 458/500 [56:44<05:06,  7.29s/it]"
          ]
        },
        {
          "name": "stdout",
          "output_type": "stream",
          "text": [
            "Epoch 458, Test loss: 12.757928732841734\n",
            "Epoch 459, Train loss: 12.431549349427224\n"
          ]
        },
        {
          "name": "stderr",
          "output_type": "stream",
          "text": [
            " 92%|█████████▏| 459/500 [56:51<04:55,  7.21s/it]"
          ]
        },
        {
          "name": "stdout",
          "output_type": "stream",
          "text": [
            "Epoch 459, Test loss: 12.757928732841734\n",
            "Epoch 460, Train loss: 12.431549349427224\n"
          ]
        },
        {
          "name": "stderr",
          "output_type": "stream",
          "text": [
            " 92%|█████████▏| 460/500 [56:58<04:46,  7.16s/it]"
          ]
        },
        {
          "name": "stdout",
          "output_type": "stream",
          "text": [
            "Epoch 460, Test loss: 12.757928732841734\n",
            "Epoch 461, Train loss: 12.431549349427224\n"
          ]
        },
        {
          "name": "stderr",
          "output_type": "stream",
          "text": [
            " 92%|█████████▏| 461/500 [57:06<04:41,  7.23s/it]"
          ]
        },
        {
          "name": "stdout",
          "output_type": "stream",
          "text": [
            "Epoch 461, Test loss: 12.757928732841734\n",
            "Epoch 462, Train loss: 12.431549349427224\n"
          ]
        },
        {
          "name": "stderr",
          "output_type": "stream",
          "text": [
            " 92%|█████████▏| 462/500 [57:13<04:39,  7.35s/it]"
          ]
        },
        {
          "name": "stdout",
          "output_type": "stream",
          "text": [
            "Epoch 462, Test loss: 12.757928732841734\n",
            "Epoch 463, Train loss: 12.431549349427224\n"
          ]
        },
        {
          "name": "stderr",
          "output_type": "stream",
          "text": [
            " 93%|█████████▎| 463/500 [57:21<04:33,  7.38s/it]"
          ]
        },
        {
          "name": "stdout",
          "output_type": "stream",
          "text": [
            "Epoch 463, Test loss: 12.757928732841734\n",
            "Epoch 464, Train loss: 12.431549349427224\n"
          ]
        },
        {
          "name": "stderr",
          "output_type": "stream",
          "text": [
            " 93%|█████████▎| 464/500 [57:28<04:21,  7.27s/it]"
          ]
        },
        {
          "name": "stdout",
          "output_type": "stream",
          "text": [
            "Epoch 464, Test loss: 12.757928732841734\n",
            "Epoch 465, Train loss: 12.431549349427224\n"
          ]
        },
        {
          "name": "stderr",
          "output_type": "stream",
          "text": [
            " 93%|█████████▎| 465/500 [57:35<04:12,  7.21s/it]"
          ]
        },
        {
          "name": "stdout",
          "output_type": "stream",
          "text": [
            "Epoch 465, Test loss: 12.757928732841734\n",
            "Epoch 466, Train loss: 12.431549349427224\n"
          ]
        },
        {
          "name": "stderr",
          "output_type": "stream",
          "text": [
            " 93%|█████████▎| 466/500 [57:42<04:03,  7.17s/it]"
          ]
        },
        {
          "name": "stdout",
          "output_type": "stream",
          "text": [
            "Epoch 466, Test loss: 12.757928732841734\n",
            "Epoch 467, Train loss: 12.431549349427224\n"
          ]
        },
        {
          "name": "stderr",
          "output_type": "stream",
          "text": [
            " 93%|█████████▎| 467/500 [57:49<03:56,  7.17s/it]"
          ]
        },
        {
          "name": "stdout",
          "output_type": "stream",
          "text": [
            "Epoch 467, Test loss: 12.757928732841734\n",
            "Epoch 468, Train loss: 12.431549349427224\n"
          ]
        },
        {
          "name": "stderr",
          "output_type": "stream",
          "text": [
            " 94%|█████████▎| 468/500 [57:57<03:54,  7.34s/it]"
          ]
        },
        {
          "name": "stdout",
          "output_type": "stream",
          "text": [
            "Epoch 468, Test loss: 12.757928732841734\n",
            "Epoch 469, Train loss: 12.431549349427224\n"
          ]
        },
        {
          "name": "stderr",
          "output_type": "stream",
          "text": [
            " 94%|█████████▍| 469/500 [58:04<03:48,  7.36s/it]"
          ]
        },
        {
          "name": "stdout",
          "output_type": "stream",
          "text": [
            "Epoch 469, Test loss: 12.757928732841734\n",
            "Epoch 470, Train loss: 12.431549349427224\n"
          ]
        },
        {
          "name": "stderr",
          "output_type": "stream",
          "text": [
            " 94%|█████████▍| 470/500 [58:11<03:37,  7.26s/it]"
          ]
        },
        {
          "name": "stdout",
          "output_type": "stream",
          "text": [
            "Epoch 470, Test loss: 12.757928732841734\n",
            "Epoch 471, Train loss: 12.431549349427224\n"
          ]
        },
        {
          "name": "stderr",
          "output_type": "stream",
          "text": [
            " 94%|█████████▍| 471/500 [58:18<03:28,  7.19s/it]"
          ]
        },
        {
          "name": "stdout",
          "output_type": "stream",
          "text": [
            "Epoch 471, Test loss: 12.757928732841734\n",
            "Epoch 472, Train loss: 12.431549349427224\n"
          ]
        },
        {
          "name": "stderr",
          "output_type": "stream",
          "text": [
            " 94%|█████████▍| 472/500 [58:25<03:21,  7.18s/it]"
          ]
        },
        {
          "name": "stdout",
          "output_type": "stream",
          "text": [
            "Epoch 472, Test loss: 12.757928732841734\n",
            "Epoch 473, Train loss: 12.431549349427224\n"
          ]
        },
        {
          "name": "stderr",
          "output_type": "stream",
          "text": [
            " 95%|█████████▍| 473/500 [58:32<03:12,  7.14s/it]"
          ]
        },
        {
          "name": "stdout",
          "output_type": "stream",
          "text": [
            "Epoch 473, Test loss: 12.757928732841734\n",
            "Epoch 474, Train loss: 12.431549349427224\n"
          ]
        },
        {
          "name": "stderr",
          "output_type": "stream",
          "text": [
            " 95%|█████████▍| 474/500 [58:40<03:10,  7.31s/it]"
          ]
        },
        {
          "name": "stdout",
          "output_type": "stream",
          "text": [
            "Epoch 474, Test loss: 12.757928732841734\n",
            "Epoch 475, Train loss: 12.431549349427224\n"
          ]
        },
        {
          "name": "stderr",
          "output_type": "stream",
          "text": [
            " 95%|█████████▌| 475/500 [58:48<03:04,  7.38s/it]"
          ]
        },
        {
          "name": "stdout",
          "output_type": "stream",
          "text": [
            "Epoch 475, Test loss: 12.757928732841734\n",
            "Epoch 476, Train loss: 12.431549349427224\n"
          ]
        },
        {
          "name": "stderr",
          "output_type": "stream",
          "text": [
            " 95%|█████████▌| 476/500 [58:55<02:54,  7.27s/it]"
          ]
        },
        {
          "name": "stdout",
          "output_type": "stream",
          "text": [
            "Epoch 476, Test loss: 12.757928732841734\n",
            "Epoch 477, Train loss: 12.431549349427224\n"
          ]
        },
        {
          "name": "stderr",
          "output_type": "stream",
          "text": [
            " 95%|█████████▌| 477/500 [59:02<02:46,  7.22s/it]"
          ]
        },
        {
          "name": "stdout",
          "output_type": "stream",
          "text": [
            "Epoch 477, Test loss: 12.757928732841734\n",
            "Epoch 478, Train loss: 12.431549349427224\n"
          ]
        },
        {
          "name": "stderr",
          "output_type": "stream",
          "text": [
            " 96%|█████████▌| 478/500 [59:09<02:37,  7.17s/it]"
          ]
        },
        {
          "name": "stdout",
          "output_type": "stream",
          "text": [
            "Epoch 478, Test loss: 12.757928732841734\n",
            "Epoch 479, Train loss: 12.431549349427224\n"
          ]
        },
        {
          "name": "stderr",
          "output_type": "stream",
          "text": [
            " 96%|█████████▌| 479/500 [59:16<02:29,  7.12s/it]"
          ]
        },
        {
          "name": "stdout",
          "output_type": "stream",
          "text": [
            "Epoch 479, Test loss: 12.757928732841734\n",
            "Epoch 480, Train loss: 12.431549349427224\n"
          ]
        },
        {
          "name": "stderr",
          "output_type": "stream",
          "text": [
            " 96%|█████████▌| 480/500 [59:24<02:26,  7.32s/it]"
          ]
        },
        {
          "name": "stdout",
          "output_type": "stream",
          "text": [
            "Epoch 480, Test loss: 12.757928732841734\n",
            "Epoch 481, Train loss: 12.431549349427224\n"
          ]
        },
        {
          "name": "stderr",
          "output_type": "stream",
          "text": [
            " 96%|█████████▌| 481/500 [59:31<02:21,  7.45s/it]"
          ]
        },
        {
          "name": "stdout",
          "output_type": "stream",
          "text": [
            "Epoch 481, Test loss: 12.757928732841734\n",
            "Epoch 482, Train loss: 12.431549349427224\n"
          ]
        },
        {
          "name": "stderr",
          "output_type": "stream",
          "text": [
            " 96%|█████████▋| 482/500 [59:38<02:11,  7.29s/it]"
          ]
        },
        {
          "name": "stdout",
          "output_type": "stream",
          "text": [
            "Epoch 482, Test loss: 12.757928732841734\n",
            "Epoch 483, Train loss: 12.431549349427224\n"
          ]
        },
        {
          "name": "stderr",
          "output_type": "stream",
          "text": [
            " 97%|█████████▋| 483/500 [59:45<02:02,  7.19s/it]"
          ]
        },
        {
          "name": "stdout",
          "output_type": "stream",
          "text": [
            "Epoch 483, Test loss: 12.757928732841734\n",
            "Epoch 484, Train loss: 12.431549349427224\n"
          ]
        },
        {
          "name": "stderr",
          "output_type": "stream",
          "text": [
            " 97%|█████████▋| 484/500 [59:52<01:53,  7.11s/it]"
          ]
        },
        {
          "name": "stdout",
          "output_type": "stream",
          "text": [
            "Epoch 484, Test loss: 12.757928732841734\n",
            "Epoch 485, Train loss: 12.431549349427224\n"
          ]
        },
        {
          "name": "stderr",
          "output_type": "stream",
          "text": [
            " 97%|█████████▋| 485/500 [59:59<01:45,  7.06s/it]"
          ]
        },
        {
          "name": "stdout",
          "output_type": "stream",
          "text": [
            "Epoch 485, Test loss: 12.757928732841734\n",
            "Epoch 486, Train loss: 12.431549349427224\n"
          ]
        },
        {
          "name": "stderr",
          "output_type": "stream",
          "text": [
            " 97%|█████████▋| 486/500 [1:00:06<01:39,  7.14s/it]"
          ]
        },
        {
          "name": "stdout",
          "output_type": "stream",
          "text": [
            "Epoch 486, Test loss: 12.757928732841734\n",
            "Epoch 487, Train loss: 12.431549349427224\n"
          ]
        },
        {
          "name": "stderr",
          "output_type": "stream",
          "text": [
            " 97%|█████████▋| 487/500 [1:00:14<01:34,  7.25s/it]"
          ]
        },
        {
          "name": "stdout",
          "output_type": "stream",
          "text": [
            "Epoch 487, Test loss: 12.757928732841734\n",
            "Epoch 488, Train loss: 12.431549349427224\n"
          ]
        },
        {
          "name": "stderr",
          "output_type": "stream",
          "text": [
            " 98%|█████████▊| 488/500 [1:00:21<01:25,  7.16s/it]"
          ]
        },
        {
          "name": "stdout",
          "output_type": "stream",
          "text": [
            "Epoch 488, Test loss: 12.757928732841734\n",
            "Epoch 489, Train loss: 12.431549349427224\n"
          ]
        },
        {
          "name": "stderr",
          "output_type": "stream",
          "text": [
            " 98%|█████████▊| 489/500 [1:00:28<01:17,  7.06s/it]"
          ]
        },
        {
          "name": "stdout",
          "output_type": "stream",
          "text": [
            "Epoch 489, Test loss: 12.757928732841734\n",
            "Epoch 490, Train loss: 12.431549349427224\n"
          ]
        },
        {
          "name": "stderr",
          "output_type": "stream",
          "text": [
            " 98%|█████████▊| 490/500 [1:00:34<01:09,  6.98s/it]"
          ]
        },
        {
          "name": "stdout",
          "output_type": "stream",
          "text": [
            "Epoch 490, Test loss: 12.757928732841734\n",
            "Epoch 491, Train loss: 12.431549349427224\n"
          ]
        },
        {
          "name": "stderr",
          "output_type": "stream",
          "text": [
            " 98%|█████████▊| 491/500 [1:00:41<01:02,  6.94s/it]"
          ]
        },
        {
          "name": "stdout",
          "output_type": "stream",
          "text": [
            "Epoch 491, Test loss: 12.757928732841734\n",
            "Epoch 492, Train loss: 12.431549349427224\n"
          ]
        },
        {
          "name": "stderr",
          "output_type": "stream",
          "text": [
            " 98%|█████████▊| 492/500 [1:00:48<00:55,  6.99s/it]"
          ]
        },
        {
          "name": "stdout",
          "output_type": "stream",
          "text": [
            "Epoch 492, Test loss: 12.757928732841734\n",
            "Epoch 493, Train loss: 12.431549349427224\n"
          ]
        },
        {
          "name": "stderr",
          "output_type": "stream",
          "text": [
            " 99%|█████████▊| 493/500 [1:00:56<00:50,  7.18s/it]"
          ]
        },
        {
          "name": "stdout",
          "output_type": "stream",
          "text": [
            "Epoch 493, Test loss: 12.757928732841734\n",
            "Epoch 494, Train loss: 12.431549349427224\n"
          ]
        },
        {
          "name": "stderr",
          "output_type": "stream",
          "text": [
            " 99%|█████████▉| 494/500 [1:01:03<00:42,  7.17s/it]"
          ]
        },
        {
          "name": "stdout",
          "output_type": "stream",
          "text": [
            "Epoch 494, Test loss: 12.757928732841734\n",
            "Epoch 495, Train loss: 12.431549349427224\n"
          ]
        },
        {
          "name": "stderr",
          "output_type": "stream",
          "text": [
            " 99%|█████████▉| 495/500 [1:01:10<00:35,  7.09s/it]"
          ]
        },
        {
          "name": "stdout",
          "output_type": "stream",
          "text": [
            "Epoch 495, Test loss: 12.757928732841734\n",
            "Epoch 496, Train loss: 12.431549349427224\n"
          ]
        },
        {
          "name": "stderr",
          "output_type": "stream",
          "text": [
            " 99%|█████████▉| 496/500 [1:01:17<00:28,  7.02s/it]"
          ]
        },
        {
          "name": "stdout",
          "output_type": "stream",
          "text": [
            "Epoch 496, Test loss: 12.757928732841734\n",
            "Epoch 497, Train loss: 12.431549349427224\n"
          ]
        },
        {
          "name": "stderr",
          "output_type": "stream",
          "text": [
            " 99%|█████████▉| 497/500 [1:01:24<00:20,  6.97s/it]"
          ]
        },
        {
          "name": "stdout",
          "output_type": "stream",
          "text": [
            "Epoch 497, Test loss: 12.757928732841734\n",
            "Epoch 498, Train loss: 12.431549349427224\n"
          ]
        },
        {
          "name": "stderr",
          "output_type": "stream",
          "text": [
            "100%|█████████▉| 498/500 [1:01:31<00:13,  6.95s/it]"
          ]
        },
        {
          "name": "stdout",
          "output_type": "stream",
          "text": [
            "Epoch 498, Test loss: 12.757928732841734\n",
            "Epoch 499, Train loss: 12.431549349427224\n"
          ]
        },
        {
          "name": "stderr",
          "output_type": "stream",
          "text": [
            "100%|█████████▉| 499/500 [1:01:38<00:07,  7.10s/it]"
          ]
        },
        {
          "name": "stdout",
          "output_type": "stream",
          "text": [
            "Epoch 499, Test loss: 12.757928732841734\n",
            "Epoch 500, Train loss: 12.431549349427224\n"
          ]
        },
        {
          "name": "stderr",
          "output_type": "stream",
          "text": [
            "100%|██████████| 500/500 [1:01:46<00:00,  7.41s/it]"
          ]
        },
        {
          "name": "stdout",
          "output_type": "stream",
          "text": [
            "Epoch 500, Test loss: 12.757928732841734\n"
          ]
        },
        {
          "name": "stderr",
          "output_type": "stream",
          "text": [
            "\n"
          ]
        }
      ],
      "source": [
        "model = ImprovedSTGCN(node_features=window_size, hidden_dim=32)\n",
        "\n",
        "optimizer = torch.optim.Adam(model.parameters(), lr=0.01)\n",
        "scheduler = torch.optim.lr_scheduler.ExponentialLR(optimizer, gamma=0.95)\n",
        "criterion = MAE\n",
        "\n",
        "num_epochs = 500\n",
        "\n",
        "# Boucle d'entraînement\n",
        "for epoch in tqdm(range(num_epochs)):\n",
        "    model.train()\n",
        "    train_loss = 0\n",
        "    for graph, temporal_features in train_loader:\n",
        "        temporal_features = temporal_features.squeeze()\n",
        "        optimizer.zero_grad()\n",
        "        output = model(graph, temporal_features)\n",
        "        target = graph.y\n",
        "        loss = criterion(output, target)\n",
        "        loss.backward()\n",
        "        optimizer.step()\n",
        "        train_loss += loss.item()\n",
        "\n",
        "    scheduler.step()\n",
        "\n",
        "    print(f\"Epoch {epoch+1}, Train loss: {train_loss / len(train_loader)}\")\n",
        "\n",
        "    # Évaluation sur le jeu de test\n",
        "    model.eval()\n",
        "    test_loss = 0\n",
        "    with torch.no_grad():  # Désactivation des gradients pour l'évaluation\n",
        "        for graph, temporal_features in test_loader:\n",
        "            temporal_features = temporal_features.squeeze()  # Squeeze si nécessaire\n",
        "            output = model(graph, temporal_features)  # Assure-toi de passer aussi les temporal_features\n",
        "            target = graph.y\n",
        "            loss = criterion(output, target)\n",
        "            test_loss += loss.item()\n",
        "\n",
        "    print(f\"Epoch {epoch+1}, Test loss: {test_loss / len(test_loader)}\")"
      ]
    },
    {
      "cell_type": "code",
      "execution_count": null,
      "metadata": {
        "id": "rA0aWXOl1vgH",
        "outputId": "f942a732-5035-4d5c-cff3-aa5eaf54fd07"
      },
      "outputs": [
        {
          "name": "stdout",
          "output_type": "stream",
          "text": [
            "En utilisant la dernière valeur du flow comme prédiction :\n",
            "Test MAE: 12.757927894592285\n",
            "MAPE for high targets: 0.038881105119510304\n",
            "MAE for low targets: 4.805690102633976\n"
          ]
        }
      ],
      "source": [
        "test_model(model, test_loader)"
      ]
    },
    {
      "cell_type": "markdown",
      "metadata": {
        "id": "UIAG-D761vgH"
      },
      "source": [
        "### Test 3"
      ]
    },
    {
      "cell_type": "code",
      "execution_count": null,
      "metadata": {
        "id": "dvhpm-b21vgH"
      },
      "outputs": [],
      "source": [
        "class DeepSTGCN(nn.Module):\n",
        "    def __init__(self, node_features, hidden_dim, temporal_features_dim=10):\n",
        "        super(DeepSTGCN, self).__init__()\n",
        "        self.gcn1 = GCNConv(node_features, hidden_dim)  # GCN\n",
        "        self.gcn2 = GCNConv(hidden_dim, hidden_dim)\n",
        "        self.gcn3 = GCNConv(hidden_dim, hidden_dim)\n",
        "        self.fc1 = nn.Linear(hidden_dim, 8)  # Prédiction finale\n",
        "        self.fc2 = nn.Linear(8 + temporal_features_dim + node_features, 16)\n",
        "        self.fc3 = nn.Linear(16 + node_features, 8)\n",
        "        self.fc4 = nn.Linear(8 + node_features, 1)\n",
        "        # self.bn1 = nn.BatchNorm1d(hidden_dim)\n",
        "\n",
        "    def forward(self, graph, temporal_features):\n",
        "        x = self.gcn1(graph.x, graph.edge_index)  # GCN\n",
        "        x = F.tanh(x) # (num_nodes, hideen_dim)\n",
        "        x = self.gcn2(x, graph.edge_index)  # GCN\n",
        "        x = F.tanh(x) # (num_nodes, hideen_dim)\n",
        "        x = self.gcn3(x, graph.edge_index)  # GCN\n",
        "        x = F.tanh(x) # (num_nodes, hideen_dim)\n",
        "        x = self.fc1(x)\n",
        "        x = F.tanh(x)\n",
        "        x = torch.cat((x, temporal_features, graph.x), dim=-1)\n",
        "        x = self.fc2(x)\n",
        "        x = F.tanh(x)\n",
        "        x = torch.cat((x, graph.x), dim=-1)\n",
        "        x = self.fc3(x)\n",
        "        x = F.tanh(x)\n",
        "        x = torch.cat((x, graph.x), dim=-1)\n",
        "        x = self.fc4(x)\n",
        "        x = F.relu(x)\n",
        "        return x # return the flow for each nodes (num_nodes, 1)"
      ]
    },
    {
      "cell_type": "code",
      "execution_count": null,
      "metadata": {
        "id": "IVk8xVW81vgI",
        "outputId": "46a986b7-b38d-4bd9-8060-b068f776c80e"
      },
      "outputs": [
        {
          "name": "stderr",
          "output_type": "stream",
          "text": [
            "  0%|          | 0/500 [00:00<?, ?it/s]"
          ]
        },
        {
          "name": "stdout",
          "output_type": "stream",
          "text": [
            "Epoch 1, Train loss: 42.802639022138386\n"
          ]
        },
        {
          "name": "stderr",
          "output_type": "stream",
          "text": [
            "  0%|          | 1/500 [00:23<3:15:14, 23.48s/it]"
          ]
        },
        {
          "name": "stdout",
          "output_type": "stream",
          "text": [
            "Epoch 1, Test loss: 22.921436099779037\n",
            "Epoch 2, Train loss: 28.965290353298187\n"
          ]
        },
        {
          "name": "stderr",
          "output_type": "stream",
          "text": [
            "  0%|          | 2/500 [00:46<3:14:25, 23.42s/it]"
          ]
        },
        {
          "name": "stdout",
          "output_type": "stream",
          "text": [
            "Epoch 2, Test loss: 22.104155269880142\n",
            "Epoch 3, Train loss: 27.76226814985275\n"
          ]
        },
        {
          "name": "stderr",
          "output_type": "stream",
          "text": [
            "  1%|          | 3/500 [01:10<3:13:21, 23.34s/it]"
          ]
        },
        {
          "name": "stdout",
          "output_type": "stream",
          "text": [
            "Epoch 3, Test loss: 21.2406919011994\n",
            "Epoch 4, Train loss: 26.288449197477764\n"
          ]
        },
        {
          "name": "stderr",
          "output_type": "stream",
          "text": [
            "  1%|          | 4/500 [01:33<3:13:17, 23.38s/it]"
          ]
        },
        {
          "name": "stdout",
          "output_type": "stream",
          "text": [
            "Epoch 4, Test loss: 20.53952062603027\n",
            "Epoch 5, Train loss: 25.215543877018824\n"
          ]
        },
        {
          "name": "stderr",
          "output_type": "stream",
          "text": [
            "  1%|          | 5/500 [01:56<3:12:48, 23.37s/it]"
          ]
        },
        {
          "name": "stdout",
          "output_type": "stream",
          "text": [
            "Epoch 5, Test loss: 19.56498494886217\n",
            "Epoch 6, Train loss: 24.226276149815984\n"
          ]
        },
        {
          "name": "stderr",
          "output_type": "stream",
          "text": [
            "  1%|          | 6/500 [02:20<3:12:58, 23.44s/it]"
          ]
        },
        {
          "name": "stdout",
          "output_type": "stream",
          "text": [
            "Epoch 6, Test loss: 18.84599671430058\n",
            "Epoch 7, Train loss: 23.43012790746159\n"
          ]
        },
        {
          "name": "stderr",
          "output_type": "stream",
          "text": [
            "  1%|▏         | 7/500 [02:44<3:12:58, 23.49s/it]"
          ]
        },
        {
          "name": "stdout",
          "output_type": "stream",
          "text": [
            "Epoch 7, Test loss: 19.517633271122737\n",
            "Epoch 8, Train loss: 22.57621082239681\n"
          ]
        },
        {
          "name": "stderr",
          "output_type": "stream",
          "text": [
            "  2%|▏         | 8/500 [03:07<3:12:34, 23.48s/it]"
          ]
        },
        {
          "name": "stdout",
          "output_type": "stream",
          "text": [
            "Epoch 8, Test loss: 18.053772555457222\n",
            "Epoch 9, Train loss: 22.031735838188066\n"
          ]
        },
        {
          "name": "stderr",
          "output_type": "stream",
          "text": [
            "  2%|▏         | 9/500 [03:30<3:12:01, 23.47s/it]"
          ]
        },
        {
          "name": "stdout",
          "output_type": "stream",
          "text": [
            "Epoch 9, Test loss: 17.746173830259416\n",
            "Epoch 10, Train loss: 21.335401111510066\n"
          ]
        },
        {
          "name": "stderr",
          "output_type": "stream",
          "text": [
            "  2%|▏         | 10/500 [03:54<3:10:59, 23.39s/it]"
          ]
        },
        {
          "name": "stdout",
          "output_type": "stream",
          "text": [
            "Epoch 10, Test loss: 17.98871712126429\n",
            "Epoch 11, Train loss: 20.685278891589906\n"
          ]
        },
        {
          "name": "stderr",
          "output_type": "stream",
          "text": [
            "  2%|▏         | 11/500 [04:17<3:11:22, 23.48s/it]"
          ]
        },
        {
          "name": "stdout",
          "output_type": "stream",
          "text": [
            "Epoch 11, Test loss: 17.32527937018682\n",
            "Epoch 12, Train loss: 20.29427095241017\n"
          ]
        },
        {
          "name": "stderr",
          "output_type": "stream",
          "text": [
            "  2%|▏         | 12/500 [04:42<3:13:54, 23.84s/it]"
          ]
        },
        {
          "name": "stdout",
          "output_type": "stream",
          "text": [
            "Epoch 12, Test loss: 17.45104143591154\n",
            "Epoch 13, Train loss: 19.72013692749871\n"
          ]
        },
        {
          "name": "stderr",
          "output_type": "stream",
          "text": [
            "  3%|▎         | 13/500 [05:07<3:16:40, 24.23s/it]"
          ]
        },
        {
          "name": "stdout",
          "output_type": "stream",
          "text": [
            "Epoch 13, Test loss: 17.555553290579056\n",
            "Epoch 14, Train loss: 19.383955988354153\n"
          ]
        },
        {
          "name": "stderr",
          "output_type": "stream",
          "text": [
            "  3%|▎         | 14/500 [05:31<3:14:30, 24.01s/it]"
          ]
        },
        {
          "name": "stdout",
          "output_type": "stream",
          "text": [
            "Epoch 14, Test loss: 17.39317678269886\n",
            "Epoch 15, Train loss: 18.89150250189834\n"
          ]
        },
        {
          "name": "stderr",
          "output_type": "stream",
          "text": [
            "  3%|▎         | 15/500 [05:54<3:12:38, 23.83s/it]"
          ]
        },
        {
          "name": "stdout",
          "output_type": "stream",
          "text": [
            "Epoch 15, Test loss: 17.56184162790813\n",
            "Epoch 16, Train loss: 18.50050094458792\n"
          ]
        },
        {
          "name": "stderr",
          "output_type": "stream",
          "text": [
            "  3%|▎         | 16/500 [06:18<3:11:20, 23.72s/it]"
          ]
        },
        {
          "name": "stdout",
          "output_type": "stream",
          "text": [
            "Epoch 16, Test loss: 17.215334239460173\n",
            "Epoch 17, Train loss: 18.001192939149007\n"
          ]
        },
        {
          "name": "stderr",
          "output_type": "stream",
          "text": [
            "  3%|▎         | 17/500 [06:41<3:09:53, 23.59s/it]"
          ]
        },
        {
          "name": "stdout",
          "output_type": "stream",
          "text": [
            "Epoch 17, Test loss: 17.206816003436135\n",
            "Epoch 18, Train loss: 17.652078267998167\n"
          ]
        },
        {
          "name": "stderr",
          "output_type": "stream",
          "text": [
            "  4%|▎         | 18/500 [07:04<3:08:51, 23.51s/it]"
          ]
        },
        {
          "name": "stdout",
          "output_type": "stream",
          "text": [
            "Epoch 18, Test loss: 18.14657804606453\n",
            "Epoch 19, Train loss: 17.597077137033146\n"
          ]
        },
        {
          "name": "stderr",
          "output_type": "stream",
          "text": [
            "  4%|▍         | 19/500 [07:29<3:11:23, 23.87s/it]"
          ]
        },
        {
          "name": "stdout",
          "output_type": "stream",
          "text": [
            "Epoch 19, Test loss: 17.250320155469197\n",
            "Epoch 20, Train loss: 17.089548441701464\n"
          ]
        },
        {
          "name": "stderr",
          "output_type": "stream",
          "text": [
            "  4%|▍         | 20/500 [07:52<3:09:48, 23.73s/it]"
          ]
        },
        {
          "name": "stdout",
          "output_type": "stream",
          "text": [
            "Epoch 20, Test loss: 17.393268368546924\n",
            "Epoch 21, Train loss: 16.851155372725593\n"
          ]
        },
        {
          "name": "stderr",
          "output_type": "stream",
          "text": [
            "  4%|▍         | 21/500 [08:15<3:06:56, 23.42s/it]"
          ]
        },
        {
          "name": "stdout",
          "output_type": "stream",
          "text": [
            "Epoch 21, Test loss: 17.59424680566031\n",
            "Epoch 22, Train loss: 16.7675621016158\n"
          ]
        },
        {
          "name": "stderr",
          "output_type": "stream",
          "text": [
            "  4%|▍         | 22/500 [08:38<3:04:29, 23.16s/it]"
          ]
        },
        {
          "name": "stdout",
          "output_type": "stream",
          "text": [
            "Epoch 22, Test loss: 20.049051889351436\n",
            "Epoch 23, Train loss: 16.67258795393838\n"
          ]
        },
        {
          "name": "stderr",
          "output_type": "stream",
          "text": [
            "  5%|▍         | 23/500 [09:00<3:02:58, 23.02s/it]"
          ]
        },
        {
          "name": "stdout",
          "output_type": "stream",
          "text": [
            "Epoch 23, Test loss: 19.437827410205962\n",
            "Epoch 24, Train loss: 16.303516697353786\n"
          ]
        },
        {
          "name": "stderr",
          "output_type": "stream",
          "text": [
            "  5%|▍         | 24/500 [09:24<3:04:28, 23.25s/it]"
          ]
        },
        {
          "name": "stdout",
          "output_type": "stream",
          "text": [
            "Epoch 24, Test loss: 18.584620920438613\n",
            "Epoch 25, Train loss: 16.123034363587696\n"
          ]
        },
        {
          "name": "stderr",
          "output_type": "stream",
          "text": [
            "  5%|▌         | 25/500 [09:47<3:02:26, 23.04s/it]"
          ]
        },
        {
          "name": "stdout",
          "output_type": "stream",
          "text": [
            "Epoch 25, Test loss: 19.896595160166424\n",
            "Epoch 26, Train loss: 16.01665445751614\n"
          ]
        },
        {
          "name": "stderr",
          "output_type": "stream",
          "text": [
            "  5%|▌         | 26/500 [10:09<3:00:42, 22.87s/it]"
          ]
        },
        {
          "name": "stdout",
          "output_type": "stream",
          "text": [
            "Epoch 26, Test loss: 18.041042435736884\n",
            "Epoch 27, Train loss: 15.844105505678389\n"
          ]
        },
        {
          "name": "stderr",
          "output_type": "stream",
          "text": [
            "  5%|▌         | 27/500 [10:32<3:00:54, 22.95s/it]"
          ]
        },
        {
          "name": "stdout",
          "output_type": "stream",
          "text": [
            "Epoch 27, Test loss: 19.30811608358035\n",
            "Epoch 28, Train loss: 15.677881282965343\n"
          ]
        },
        {
          "name": "stderr",
          "output_type": "stream",
          "text": [
            "  6%|▌         | 28/500 [10:55<3:00:48, 22.98s/it]"
          ]
        },
        {
          "name": "stdout",
          "output_type": "stream",
          "text": [
            "Epoch 28, Test loss: 17.881690379646088\n",
            "Epoch 29, Train loss: 15.38776252163781\n"
          ]
        },
        {
          "name": "stderr",
          "output_type": "stream",
          "text": [
            "  6%|▌         | 29/500 [11:18<3:00:41, 23.02s/it]"
          ]
        },
        {
          "name": "stdout",
          "output_type": "stream",
          "text": [
            "Epoch 29, Test loss: 18.72960973495529\n",
            "Epoch 30, Train loss: 15.310182885527611\n"
          ]
        },
        {
          "name": "stderr",
          "output_type": "stream",
          "text": [
            "  6%|▌         | 30/500 [11:42<3:01:41, 23.20s/it]"
          ]
        },
        {
          "name": "stdout",
          "output_type": "stream",
          "text": [
            "Epoch 30, Test loss: 18.263807802919356\n",
            "Epoch 31, Train loss: 15.142791558835242\n"
          ]
        },
        {
          "name": "stderr",
          "output_type": "stream",
          "text": [
            "  6%|▌         | 31/500 [12:05<3:00:15, 23.06s/it]"
          ]
        },
        {
          "name": "stdout",
          "output_type": "stream",
          "text": [
            "Epoch 31, Test loss: 17.98999659835346\n",
            "Epoch 32, Train loss: 14.967226039303673\n"
          ]
        },
        {
          "name": "stderr",
          "output_type": "stream",
          "text": [
            "  6%|▋         | 32/500 [12:27<2:58:30, 22.88s/it]"
          ]
        },
        {
          "name": "stdout",
          "output_type": "stream",
          "text": [
            "Epoch 32, Test loss: 17.43573926365565\n",
            "Epoch 33, Train loss: 14.828893949919276\n"
          ]
        },
        {
          "name": "stderr",
          "output_type": "stream",
          "text": [
            "  7%|▋         | 33/500 [12:49<2:56:50, 22.72s/it]"
          ]
        },
        {
          "name": "stdout",
          "output_type": "stream",
          "text": [
            "Epoch 33, Test loss: 17.59126270621542\n",
            "Epoch 34, Train loss: 14.798419993784693\n"
          ]
        },
        {
          "name": "stderr",
          "output_type": "stream",
          "text": [
            "  7%|▋         | 34/500 [13:12<2:55:29, 22.60s/it]"
          ]
        },
        {
          "name": "stdout",
          "output_type": "stream",
          "text": [
            "Epoch 34, Test loss: 17.42745773990949\n",
            "Epoch 35, Train loss: 14.685494755307833\n"
          ]
        },
        {
          "name": "stderr",
          "output_type": "stream",
          "text": [
            "  7%|▋         | 35/500 [13:34<2:54:57, 22.57s/it]"
          ]
        },
        {
          "name": "stdout",
          "output_type": "stream",
          "text": [
            "Epoch 35, Test loss: 17.372056739197838\n",
            "Epoch 36, Train loss: 14.5947077899509\n"
          ]
        },
        {
          "name": "stderr",
          "output_type": "stream",
          "text": [
            "  7%|▋         | 36/500 [13:57<2:54:02, 22.50s/it]"
          ]
        },
        {
          "name": "stdout",
          "output_type": "stream",
          "text": [
            "Epoch 36, Test loss: 16.639032572034804\n",
            "Epoch 37, Train loss: 14.52309371954865\n"
          ]
        },
        {
          "name": "stderr",
          "output_type": "stream",
          "text": [
            "  7%|▋         | 37/500 [14:19<2:53:21, 22.46s/it]"
          ]
        },
        {
          "name": "stdout",
          "output_type": "stream",
          "text": [
            "Epoch 37, Test loss: 16.782684946344013\n",
            "Epoch 38, Train loss: 14.48244563738505\n"
          ]
        },
        {
          "name": "stderr",
          "output_type": "stream",
          "text": [
            "  8%|▊         | 38/500 [14:42<2:53:32, 22.54s/it]"
          ]
        },
        {
          "name": "stdout",
          "output_type": "stream",
          "text": [
            "Epoch 38, Test loss: 17.37576251890924\n",
            "Epoch 39, Train loss: 14.409897227022382\n"
          ]
        },
        {
          "name": "stderr",
          "output_type": "stream",
          "text": [
            "  8%|▊         | 39/500 [15:04<2:52:39, 22.47s/it]"
          ]
        },
        {
          "name": "stdout",
          "output_type": "stream",
          "text": [
            "Epoch 39, Test loss: 17.570711415438424\n",
            "Epoch 40, Train loss: 14.370874358879195\n"
          ]
        },
        {
          "name": "stderr",
          "output_type": "stream",
          "text": [
            "  8%|▊         | 40/500 [15:26<2:51:57, 22.43s/it]"
          ]
        },
        {
          "name": "stdout",
          "output_type": "stream",
          "text": [
            "Epoch 40, Test loss: 16.946075164609486\n",
            "Epoch 41, Train loss: 14.32665500720342\n"
          ]
        },
        {
          "name": "stderr",
          "output_type": "stream",
          "text": [
            "  8%|▊         | 41/500 [15:49<2:51:35, 22.43s/it]"
          ]
        },
        {
          "name": "stdout",
          "output_type": "stream",
          "text": [
            "Epoch 41, Test loss: 17.013186546072127\n",
            "Epoch 42, Train loss: 14.293423186275694\n"
          ]
        },
        {
          "name": "stderr",
          "output_type": "stream",
          "text": [
            "  8%|▊         | 42/500 [16:11<2:50:56, 22.39s/it]"
          ]
        },
        {
          "name": "stdout",
          "output_type": "stream",
          "text": [
            "Epoch 42, Test loss: 16.674252764573172\n",
            "Epoch 43, Train loss: 14.256891492141618\n"
          ]
        },
        {
          "name": "stderr",
          "output_type": "stream",
          "text": [
            "  9%|▊         | 43/500 [16:34<2:51:17, 22.49s/it]"
          ]
        },
        {
          "name": "stdout",
          "output_type": "stream",
          "text": [
            "Epoch 43, Test loss: 16.938190085547312\n",
            "Epoch 44, Train loss: 14.216851774189207\n"
          ]
        },
        {
          "name": "stderr",
          "output_type": "stream",
          "text": [
            "  9%|▉         | 44/500 [16:58<2:54:25, 22.95s/it]"
          ]
        },
        {
          "name": "stdout",
          "output_type": "stream",
          "text": [
            "Epoch 44, Test loss: 16.96534577012062\n",
            "Epoch 45, Train loss: 14.18351266986794\n"
          ]
        },
        {
          "name": "stderr",
          "output_type": "stream",
          "text": [
            "  9%|▉         | 45/500 [17:23<2:58:01, 23.48s/it]"
          ]
        },
        {
          "name": "stdout",
          "output_type": "stream",
          "text": [
            "Epoch 45, Test loss: 16.786246145055408\n",
            "Epoch 46, Train loss: 14.182558979060914\n"
          ]
        },
        {
          "name": "stderr",
          "output_type": "stream",
          "text": [
            "  9%|▉         | 46/500 [17:47<2:59:14, 23.69s/it]"
          ]
        },
        {
          "name": "stdout",
          "output_type": "stream",
          "text": [
            "Epoch 46, Test loss: 16.7056923149124\n",
            "Epoch 47, Train loss: 14.136964422133234\n"
          ]
        },
        {
          "name": "stderr",
          "output_type": "stream",
          "text": [
            "  9%|▉         | 47/500 [18:11<2:59:06, 23.72s/it]"
          ]
        },
        {
          "name": "stdout",
          "output_type": "stream",
          "text": [
            "Epoch 47, Test loss: 16.50450702934038\n",
            "Epoch 48, Train loss: 14.107559576100773\n"
          ]
        },
        {
          "name": "stderr",
          "output_type": "stream",
          "text": [
            " 10%|▉         | 48/500 [18:33<2:56:08, 23.38s/it]"
          ]
        },
        {
          "name": "stdout",
          "output_type": "stream",
          "text": [
            "Epoch 48, Test loss: 16.15109364475523\n",
            "Epoch 49, Train loss: 14.092766015463406\n"
          ]
        },
        {
          "name": "stderr",
          "output_type": "stream",
          "text": [
            " 10%|▉         | 49/500 [18:55<2:53:06, 23.03s/it]"
          ]
        },
        {
          "name": "stdout",
          "output_type": "stream",
          "text": [
            "Epoch 49, Test loss: 16.078669162023637\n",
            "Epoch 50, Train loss: 14.087744525207414\n"
          ]
        },
        {
          "name": "stderr",
          "output_type": "stream",
          "text": [
            " 10%|█         | 50/500 [19:17<2:50:26, 22.73s/it]"
          ]
        },
        {
          "name": "stdout",
          "output_type": "stream",
          "text": [
            "Epoch 50, Test loss: 15.877558816993048\n",
            "Epoch 51, Train loss: 14.089318260484271\n"
          ]
        },
        {
          "name": "stderr",
          "output_type": "stream",
          "text": [
            " 10%|█         | 51/500 [19:40<2:50:12, 22.75s/it]"
          ]
        },
        {
          "name": "stdout",
          "output_type": "stream",
          "text": [
            "Epoch 51, Test loss: 15.772955120555938\n",
            "Epoch 52, Train loss: 14.068513283729553\n"
          ]
        },
        {
          "name": "stderr",
          "output_type": "stream",
          "text": [
            " 10%|█         | 52/500 [20:02<2:47:35, 22.45s/it]"
          ]
        },
        {
          "name": "stdout",
          "output_type": "stream",
          "text": [
            "Epoch 52, Test loss: 15.462677919675434\n",
            "Epoch 53, Train loss: 14.035385555426279\n"
          ]
        },
        {
          "name": "stderr",
          "output_type": "stream",
          "text": [
            " 11%|█         | 53/500 [20:24<2:46:01, 22.28s/it]"
          ]
        },
        {
          "name": "stdout",
          "output_type": "stream",
          "text": [
            "Epoch 53, Test loss: 15.258959462718359\n",
            "Epoch 54, Train loss: 14.016657638019986\n"
          ]
        },
        {
          "name": "stderr",
          "output_type": "stream",
          "text": [
            " 11%|█         | 54/500 [20:46<2:44:50, 22.18s/it]"
          ]
        },
        {
          "name": "stdout",
          "output_type": "stream",
          "text": [
            "Epoch 54, Test loss: 14.991150064600838\n",
            "Epoch 55, Train loss: 13.982474825316006\n"
          ]
        },
        {
          "name": "stderr",
          "output_type": "stream",
          "text": [
            " 11%|█         | 55/500 [21:07<2:43:23, 22.03s/it]"
          ]
        },
        {
          "name": "stdout",
          "output_type": "stream",
          "text": [
            "Epoch 55, Test loss: 14.795683087337585\n",
            "Epoch 56, Train loss: 13.942111244135432\n"
          ]
        },
        {
          "name": "stderr",
          "output_type": "stream",
          "text": [
            " 11%|█         | 56/500 [21:30<2:43:11, 22.05s/it]"
          ]
        },
        {
          "name": "stdout",
          "output_type": "stream",
          "text": [
            "Epoch 56, Test loss: 14.536263231720243\n",
            "Epoch 57, Train loss: 13.914779311882125\n"
          ]
        },
        {
          "name": "stderr",
          "output_type": "stream",
          "text": [
            " 11%|█▏        | 57/500 [21:51<2:42:22, 21.99s/it]"
          ]
        },
        {
          "name": "stdout",
          "output_type": "stream",
          "text": [
            "Epoch 57, Test loss: 14.370246605740654\n",
            "Epoch 58, Train loss: 13.883130978080962\n"
          ]
        },
        {
          "name": "stderr",
          "output_type": "stream",
          "text": [
            " 12%|█▏        | 58/500 [22:13<2:41:47, 21.96s/it]"
          ]
        },
        {
          "name": "stdout",
          "output_type": "stream",
          "text": [
            "Epoch 58, Test loss: 14.302412576145596\n",
            "Epoch 59, Train loss: 13.875451785657141\n"
          ]
        },
        {
          "name": "stderr",
          "output_type": "stream",
          "text": [
            " 12%|█▏        | 59/500 [22:36<2:42:07, 22.06s/it]"
          ]
        },
        {
          "name": "stdout",
          "output_type": "stream",
          "text": [
            "Epoch 59, Test loss: 14.166290715100272\n",
            "Epoch 60, Train loss: 13.851833828422759\n"
          ]
        },
        {
          "name": "stderr",
          "output_type": "stream",
          "text": [
            " 12%|█▏        | 60/500 [22:57<2:41:23, 22.01s/it]"
          ]
        },
        {
          "name": "stdout",
          "output_type": "stream",
          "text": [
            "Epoch 60, Test loss: 14.06694414076351\n",
            "Epoch 61, Train loss: 13.816821754773457\n"
          ]
        },
        {
          "name": "stderr",
          "output_type": "stream",
          "text": [
            " 12%|█▏        | 61/500 [23:21<2:44:27, 22.48s/it]"
          ]
        },
        {
          "name": "stdout",
          "output_type": "stream",
          "text": [
            "Epoch 61, Test loss: 13.981613573100832\n",
            "Epoch 62, Train loss: 13.806716803974576\n"
          ]
        },
        {
          "name": "stderr",
          "output_type": "stream",
          "text": [
            " 12%|█▏        | 62/500 [23:43<2:43:35, 22.41s/it]"
          ]
        },
        {
          "name": "stdout",
          "output_type": "stream",
          "text": [
            "Epoch 62, Test loss: 13.919724058064203\n",
            "Epoch 63, Train loss: 13.786051373614205\n"
          ]
        },
        {
          "name": "stderr",
          "output_type": "stream",
          "text": [
            " 13%|█▎        | 63/500 [24:06<2:44:23, 22.57s/it]"
          ]
        },
        {
          "name": "stdout",
          "output_type": "stream",
          "text": [
            "Epoch 63, Test loss: 13.843872499371331\n",
            "Epoch 64, Train loss: 13.752001655697823\n"
          ]
        },
        {
          "name": "stderr",
          "output_type": "stream",
          "text": [
            " 13%|█▎        | 64/500 [24:28<2:43:04, 22.44s/it]"
          ]
        },
        {
          "name": "stdout",
          "output_type": "stream",
          "text": [
            "Epoch 64, Test loss: 13.804927614473161\n",
            "Epoch 65, Train loss: 13.722590249180794\n"
          ]
        },
        {
          "name": "stderr",
          "output_type": "stream",
          "text": [
            " 13%|█▎        | 65/500 [24:52<2:44:37, 22.71s/it]"
          ]
        },
        {
          "name": "stdout",
          "output_type": "stream",
          "text": [
            "Epoch 65, Test loss: 13.761351514903327\n",
            "Epoch 66, Train loss: 13.706462004582088\n"
          ]
        },
        {
          "name": "stderr",
          "output_type": "stream",
          "text": [
            " 13%|█▎        | 66/500 [25:14<2:43:48, 22.65s/it]"
          ]
        },
        {
          "name": "stdout",
          "output_type": "stream",
          "text": [
            "Epoch 66, Test loss: 13.713875721844415\n",
            "Epoch 67, Train loss: 13.685270630584823\n"
          ]
        },
        {
          "name": "stderr",
          "output_type": "stream",
          "text": [
            " 13%|█▎        | 67/500 [25:36<2:42:31, 22.52s/it]"
          ]
        },
        {
          "name": "stdout",
          "output_type": "stream",
          "text": [
            "Epoch 67, Test loss: 13.68299343046688\n",
            "Epoch 68, Train loss: 13.664418694443173\n"
          ]
        },
        {
          "name": "stderr",
          "output_type": "stream",
          "text": [
            " 14%|█▎        | 68/500 [26:00<2:43:26, 22.70s/it]"
          ]
        },
        {
          "name": "stdout",
          "output_type": "stream",
          "text": [
            "Epoch 68, Test loss: 13.657064738254698\n",
            "Epoch 69, Train loss: 13.648001156780454\n"
          ]
        },
        {
          "name": "stderr",
          "output_type": "stream",
          "text": [
            " 14%|█▍        | 69/500 [26:22<2:43:17, 22.73s/it]"
          ]
        },
        {
          "name": "stdout",
          "output_type": "stream",
          "text": [
            "Epoch 69, Test loss: 13.643079439325938\n",
            "Epoch 70, Train loss: 13.630890355110168\n"
          ]
        },
        {
          "name": "stderr",
          "output_type": "stream",
          "text": [
            " 14%|█▍        | 70/500 [26:45<2:42:55, 22.73s/it]"
          ]
        },
        {
          "name": "stdout",
          "output_type": "stream",
          "text": [
            "Epoch 70, Test loss: 13.624825788395745\n",
            "Epoch 71, Train loss: 13.619898829129006\n"
          ]
        },
        {
          "name": "stderr",
          "output_type": "stream",
          "text": [
            " 14%|█▍        | 71/500 [27:07<2:41:47, 22.63s/it]"
          ]
        },
        {
          "name": "stdout",
          "output_type": "stream",
          "text": [
            "Epoch 71, Test loss: 13.611050740593956\n",
            "Epoch 72, Train loss: 13.596598513656192\n"
          ]
        },
        {
          "name": "stderr",
          "output_type": "stream",
          "text": [
            " 14%|█▍        | 72/500 [27:30<2:40:26, 22.49s/it]"
          ]
        },
        {
          "name": "stdout",
          "output_type": "stream",
          "text": [
            "Epoch 72, Test loss: 13.59562422595327\n",
            "Epoch 73, Train loss: 13.582231317758561\n"
          ]
        },
        {
          "name": "stderr",
          "output_type": "stream",
          "text": [
            " 15%|█▍        | 73/500 [27:53<2:41:02, 22.63s/it]"
          ]
        },
        {
          "name": "stdout",
          "output_type": "stream",
          "text": [
            "Epoch 73, Test loss: 13.596323585699475\n",
            "Epoch 74, Train loss: 13.568023779657151\n"
          ]
        },
        {
          "name": "stderr",
          "output_type": "stream",
          "text": [
            " 15%|█▍        | 74/500 [28:15<2:39:59, 22.53s/it]"
          ]
        },
        {
          "name": "stdout",
          "output_type": "stream",
          "text": [
            "Epoch 74, Test loss: 13.584932009379068\n",
            "Epoch 75, Train loss: 13.557765901419852\n"
          ]
        },
        {
          "name": "stderr",
          "output_type": "stream",
          "text": [
            " 15%|█▌        | 75/500 [28:38<2:40:00, 22.59s/it]"
          ]
        },
        {
          "name": "stdout",
          "output_type": "stream",
          "text": [
            "Epoch 75, Test loss: 13.574170317441698\n",
            "Epoch 76, Train loss: 13.538577848540411\n"
          ]
        },
        {
          "name": "stderr",
          "output_type": "stream",
          "text": [
            " 15%|█▌        | 76/500 [29:00<2:39:16, 22.54s/it]"
          ]
        },
        {
          "name": "stdout",
          "output_type": "stream",
          "text": [
            "Epoch 76, Test loss: 13.571085180082019\n",
            "Epoch 77, Train loss: 13.532883215546608\n"
          ]
        },
        {
          "name": "stderr",
          "output_type": "stream",
          "text": [
            " 15%|█▌        | 77/500 [29:23<2:40:39, 22.79s/it]"
          ]
        },
        {
          "name": "stdout",
          "output_type": "stream",
          "text": [
            "Epoch 77, Test loss: 13.560047961416698\n",
            "Epoch 78, Train loss: 13.523502216074203\n"
          ]
        },
        {
          "name": "stderr",
          "output_type": "stream",
          "text": [
            " 16%|█▌        | 78/500 [29:48<2:43:22, 23.23s/it]"
          ]
        },
        {
          "name": "stdout",
          "output_type": "stream",
          "text": [
            "Epoch 78, Test loss: 13.554521689339289\n",
            "Epoch 79, Train loss: 13.508550027012825\n"
          ]
        },
        {
          "name": "stderr",
          "output_type": "stream",
          "text": [
            " 16%|█▌        | 79/500 [30:11<2:43:38, 23.32s/it]"
          ]
        },
        {
          "name": "stdout",
          "output_type": "stream",
          "text": [
            "Epoch 79, Test loss: 13.55508429332385\n",
            "Epoch 80, Train loss: 13.499139777819316\n"
          ]
        },
        {
          "name": "stderr",
          "output_type": "stream",
          "text": [
            " 16%|█▌        | 80/500 [30:36<2:45:40, 23.67s/it]"
          ]
        },
        {
          "name": "stdout",
          "output_type": "stream",
          "text": [
            "Epoch 80, Test loss: 13.554762942450386\n",
            "Epoch 81, Train loss: 13.487371260722478\n"
          ]
        },
        {
          "name": "stderr",
          "output_type": "stream",
          "text": [
            " 16%|█▌        | 81/500 [31:00<2:46:55, 23.90s/it]"
          ]
        },
        {
          "name": "stdout",
          "output_type": "stream",
          "text": [
            "Epoch 81, Test loss: 13.549276486748742\n",
            "Epoch 82, Train loss: 13.478894203371471\n"
          ]
        },
        {
          "name": "stderr",
          "output_type": "stream",
          "text": [
            " 16%|█▋        | 82/500 [31:24<2:47:21, 24.02s/it]"
          ]
        },
        {
          "name": "stdout",
          "output_type": "stream",
          "text": [
            "Epoch 82, Test loss: 13.547637072820512\n",
            "Epoch 83, Train loss: 13.472900563942062\n"
          ]
        },
        {
          "name": "stderr",
          "output_type": "stream",
          "text": [
            " 17%|█▋        | 83/500 [31:49<2:48:00, 24.17s/it]"
          ]
        },
        {
          "name": "stdout",
          "output_type": "stream",
          "text": [
            "Epoch 83, Test loss: 13.551027277632365\n",
            "Epoch 84, Train loss: 13.463087333374553\n"
          ]
        },
        {
          "name": "stderr",
          "output_type": "stream",
          "text": [
            " 17%|█▋        | 84/500 [32:12<2:44:24, 23.71s/it]"
          ]
        },
        {
          "name": "stdout",
          "output_type": "stream",
          "text": [
            "Epoch 84, Test loss: 13.550031942507577\n",
            "Epoch 85, Train loss: 13.455105452603764\n"
          ]
        },
        {
          "name": "stderr",
          "output_type": "stream",
          "text": [
            " 17%|█▋        | 85/500 [32:34<2:42:00, 23.42s/it]"
          ]
        },
        {
          "name": "stdout",
          "output_type": "stream",
          "text": [
            "Epoch 85, Test loss: 13.551570809549755\n",
            "Epoch 86, Train loss: 13.449219783610769\n"
          ]
        },
        {
          "name": "stderr",
          "output_type": "stream",
          "text": [
            " 17%|█▋        | 86/500 [32:57<2:39:44, 23.15s/it]"
          ]
        },
        {
          "name": "stdout",
          "output_type": "stream",
          "text": [
            "Epoch 86, Test loss: 13.547624450354348\n",
            "Epoch 87, Train loss: 13.444392999543084\n"
          ]
        },
        {
          "name": "stderr",
          "output_type": "stream",
          "text": [
            " 17%|█▋        | 87/500 [33:19<2:37:56, 22.94s/it]"
          ]
        },
        {
          "name": "stdout",
          "output_type": "stream",
          "text": [
            "Epoch 87, Test loss: 13.547757960974224\n",
            "Epoch 88, Train loss: 13.436960025032361\n"
          ]
        },
        {
          "name": "stderr",
          "output_type": "stream",
          "text": [
            " 18%|█▊        | 88/500 [33:42<2:36:26, 22.78s/it]"
          ]
        },
        {
          "name": "stdout",
          "output_type": "stream",
          "text": [
            "Epoch 88, Test loss: 13.541501711758356\n",
            "Epoch 89, Train loss: 13.43120158387555\n"
          ]
        },
        {
          "name": "stderr",
          "output_type": "stream",
          "text": [
            " 18%|█▊        | 89/500 [34:04<2:35:13, 22.66s/it]"
          ]
        },
        {
          "name": "stdout",
          "output_type": "stream",
          "text": [
            "Epoch 89, Test loss: 13.53965742389361\n",
            "Epoch 90, Train loss: 13.425807159874175\n"
          ]
        },
        {
          "name": "stderr",
          "output_type": "stream",
          "text": [
            " 18%|█▊        | 90/500 [34:27<2:34:50, 22.66s/it]"
          ]
        },
        {
          "name": "stdout",
          "output_type": "stream",
          "text": [
            "Epoch 90, Test loss: 13.540509468979305\n",
            "Epoch 91, Train loss: 13.419856550097466\n"
          ]
        },
        {
          "name": "stderr",
          "output_type": "stream",
          "text": [
            " 18%|█▊        | 91/500 [34:50<2:34:39, 22.69s/it]"
          ]
        },
        {
          "name": "stdout",
          "output_type": "stream",
          "text": [
            "Epoch 91, Test loss: 13.53754127498657\n",
            "Epoch 92, Train loss: 13.413805556032393\n"
          ]
        },
        {
          "name": "stderr",
          "output_type": "stream",
          "text": [
            " 18%|█▊        | 92/500 [35:12<2:33:52, 22.63s/it]"
          ]
        },
        {
          "name": "stdout",
          "output_type": "stream",
          "text": [
            "Epoch 92, Test loss: 13.53993135312247\n",
            "Epoch 93, Train loss: 13.410766391356786\n"
          ]
        },
        {
          "name": "stderr",
          "output_type": "stream",
          "text": [
            " 19%|█▊        | 93/500 [35:35<2:33:19, 22.60s/it]"
          ]
        },
        {
          "name": "stdout",
          "output_type": "stream",
          "text": [
            "Epoch 93, Test loss: 13.538719619550402\n",
            "Epoch 94, Train loss: 13.405726753671964\n"
          ]
        },
        {
          "name": "stderr",
          "output_type": "stream",
          "text": [
            " 19%|█▉        | 94/500 [35:57<2:33:20, 22.66s/it]"
          ]
        },
        {
          "name": "stdout",
          "output_type": "stream",
          "text": [
            "Epoch 94, Test loss: 13.536377689668111\n",
            "Epoch 95, Train loss: 13.401504810651144\n"
          ]
        },
        {
          "name": "stderr",
          "output_type": "stream",
          "text": [
            " 19%|█▉        | 95/500 [36:20<2:33:29, 22.74s/it]"
          ]
        },
        {
          "name": "stdout",
          "output_type": "stream",
          "text": [
            "Epoch 95, Test loss: 13.535161562382228\n",
            "Epoch 96, Train loss: 13.399925114644898\n"
          ]
        },
        {
          "name": "stderr",
          "output_type": "stream",
          "text": [
            " 19%|█▉        | 96/500 [36:43<2:32:56, 22.71s/it]"
          ]
        },
        {
          "name": "stdout",
          "output_type": "stream",
          "text": [
            "Epoch 96, Test loss: 13.53886617270727\n",
            "Epoch 97, Train loss: 13.395227622124883\n"
          ]
        },
        {
          "name": "stderr",
          "output_type": "stream",
          "text": [
            " 19%|█▉        | 97/500 [37:06<2:32:26, 22.70s/it]"
          ]
        },
        {
          "name": "stdout",
          "output_type": "stream",
          "text": [
            "Epoch 97, Test loss: 13.534733771331727\n",
            "Epoch 98, Train loss: 13.392038421432177\n"
          ]
        },
        {
          "name": "stderr",
          "output_type": "stream",
          "text": [
            " 20%|█▉        | 98/500 [37:29<2:33:17, 22.88s/it]"
          ]
        },
        {
          "name": "stdout",
          "output_type": "stream",
          "text": [
            "Epoch 98, Test loss: 13.532890697793356\n",
            "Epoch 99, Train loss: 13.388346031639312\n"
          ]
        },
        {
          "name": "stderr",
          "output_type": "stream",
          "text": [
            " 20%|█▉        | 99/500 [37:52<2:32:46, 22.86s/it]"
          ]
        },
        {
          "name": "stdout",
          "output_type": "stream",
          "text": [
            "Epoch 99, Test loss: 13.5320445374837\n",
            "Epoch 100, Train loss: 13.384549628363715\n"
          ]
        },
        {
          "name": "stderr",
          "output_type": "stream",
          "text": [
            " 20%|██        | 100/500 [38:14<2:32:11, 22.83s/it]"
          ]
        },
        {
          "name": "stdout",
          "output_type": "stream",
          "text": [
            "Epoch 100, Test loss: 13.532026453150642\n",
            "Epoch 101, Train loss: 13.381827944715818\n"
          ]
        },
        {
          "name": "stderr",
          "output_type": "stream",
          "text": [
            " 20%|██        | 101/500 [38:37<2:31:20, 22.76s/it]"
          ]
        },
        {
          "name": "stdout",
          "output_type": "stream",
          "text": [
            "Epoch 101, Test loss: 13.53098678920004\n",
            "Epoch 102, Train loss: 13.379647239711549\n"
          ]
        },
        {
          "name": "stderr",
          "output_type": "stream",
          "text": [
            " 20%|██        | 102/500 [39:00<2:30:42, 22.72s/it]"
          ]
        },
        {
          "name": "stdout",
          "output_type": "stream",
          "text": [
            "Epoch 102, Test loss: 13.531773944695791\n",
            "Epoch 103, Train loss: 13.377784691784116\n"
          ]
        },
        {
          "name": "stderr",
          "output_type": "stream",
          "text": [
            " 21%|██        | 103/500 [39:23<2:32:08, 22.99s/it]"
          ]
        },
        {
          "name": "stdout",
          "output_type": "stream",
          "text": [
            "Epoch 103, Test loss: 13.531165244560393\n",
            "Epoch 104, Train loss: 13.375466289454037\n"
          ]
        },
        {
          "name": "stderr",
          "output_type": "stream",
          "text": [
            " 21%|██        | 104/500 [39:46<2:31:32, 22.96s/it]"
          ]
        },
        {
          "name": "stdout",
          "output_type": "stream",
          "text": [
            "Epoch 104, Test loss: 13.531256371074253\n",
            "Epoch 105, Train loss: 13.372663540773921\n"
          ]
        },
        {
          "name": "stderr",
          "output_type": "stream",
          "text": [
            " 21%|██        | 105/500 [40:09<2:30:38, 22.88s/it]"
          ]
        },
        {
          "name": "stdout",
          "output_type": "stream",
          "text": [
            "Epoch 105, Test loss: 13.530390878518423\n",
            "Epoch 106, Train loss: 13.3703081132306\n"
          ]
        },
        {
          "name": "stderr",
          "output_type": "stream",
          "text": [
            " 21%|██        | 106/500 [40:31<2:29:39, 22.79s/it]"
          ]
        },
        {
          "name": "stdout",
          "output_type": "stream",
          "text": [
            "Epoch 106, Test loss: 13.53149607872206\n",
            "Epoch 107, Train loss: 13.368159089485804\n"
          ]
        },
        {
          "name": "stderr",
          "output_type": "stream",
          "text": [
            " 21%|██▏       | 107/500 [40:54<2:29:35, 22.84s/it]"
          ]
        },
        {
          "name": "stdout",
          "output_type": "stream",
          "text": [
            "Epoch 107, Test loss: 13.529881409236364\n",
            "Epoch 108, Train loss: 13.366319073836008\n"
          ]
        },
        {
          "name": "stderr",
          "output_type": "stream",
          "text": [
            " 22%|██▏       | 108/500 [41:17<2:29:12, 22.84s/it]"
          ]
        },
        {
          "name": "stdout",
          "output_type": "stream",
          "text": [
            "Epoch 108, Test loss: 13.52975271382029\n",
            "Epoch 109, Train loss: 13.36444002562099\n"
          ]
        },
        {
          "name": "stderr",
          "output_type": "stream",
          "text": [
            " 22%|██▏       | 109/500 [41:40<2:28:24, 22.77s/it]"
          ]
        },
        {
          "name": "stdout",
          "output_type": "stream",
          "text": [
            "Epoch 109, Test loss: 13.52972856589726\n",
            "Epoch 110, Train loss: 13.361912349992329\n"
          ]
        },
        {
          "name": "stderr",
          "output_type": "stream",
          "text": [
            " 22%|██▏       | 110/500 [42:03<2:27:50, 22.74s/it]"
          ]
        },
        {
          "name": "stdout",
          "output_type": "stream",
          "text": [
            "Epoch 110, Test loss: 13.528385989722752\n",
            "Epoch 111, Train loss: 13.360588555998273\n"
          ]
        },
        {
          "name": "stderr",
          "output_type": "stream",
          "text": [
            " 22%|██▏       | 111/500 [42:25<2:27:27, 22.74s/it]"
          ]
        },
        {
          "name": "stdout",
          "output_type": "stream",
          "text": [
            "Epoch 111, Test loss: 13.526910177772008\n",
            "Epoch 112, Train loss: 13.359173364308145\n"
          ]
        },
        {
          "name": "stderr",
          "output_type": "stream",
          "text": [
            " 22%|██▏       | 112/500 [42:48<2:27:02, 22.74s/it]"
          ]
        },
        {
          "name": "stdout",
          "output_type": "stream",
          "text": [
            "Epoch 112, Test loss: 13.526984043537624\n",
            "Epoch 113, Train loss: 13.357582213878631\n"
          ]
        },
        {
          "name": "stderr",
          "output_type": "stream",
          "text": [
            " 23%|██▎       | 113/500 [43:11<2:26:23, 22.70s/it]"
          ]
        },
        {
          "name": "stdout",
          "output_type": "stream",
          "text": [
            "Epoch 113, Test loss: 13.526544323989324\n",
            "Epoch 114, Train loss: 13.355864376624424\n"
          ]
        },
        {
          "name": "stderr",
          "output_type": "stream",
          "text": [
            " 23%|██▎       | 114/500 [43:34<2:26:25, 22.76s/it]"
          ]
        },
        {
          "name": "stdout",
          "output_type": "stream",
          "text": [
            "Epoch 114, Test loss: 13.526636539470582\n",
            "Epoch 115, Train loss: 13.354700623883142\n"
          ]
        },
        {
          "name": "stderr",
          "output_type": "stream",
          "text": [
            " 23%|██▎       | 115/500 [43:57<2:26:38, 22.85s/it]"
          ]
        },
        {
          "name": "stdout",
          "output_type": "stream",
          "text": [
            "Epoch 115, Test loss: 13.528678314080315\n",
            "Epoch 116, Train loss: 13.353509501020113\n"
          ]
        },
        {
          "name": "stderr",
          "output_type": "stream",
          "text": [
            " 23%|██▎       | 116/500 [44:19<2:25:51, 22.79s/it]"
          ]
        },
        {
          "name": "stdout",
          "output_type": "stream",
          "text": [
            "Epoch 116, Test loss: 13.525616436723679\n",
            "Epoch 117, Train loss: 13.352224712835417\n"
          ]
        },
        {
          "name": "stderr",
          "output_type": "stream",
          "text": [
            " 23%|██▎       | 117/500 [44:42<2:25:48, 22.84s/it]"
          ]
        },
        {
          "name": "stdout",
          "output_type": "stream",
          "text": [
            "Epoch 117, Test loss: 13.525452857925778\n",
            "Epoch 118, Train loss: 13.35102931704786\n"
          ]
        },
        {
          "name": "stderr",
          "output_type": "stream",
          "text": [
            " 24%|██▎       | 118/500 [45:05<2:26:08, 22.95s/it]"
          ]
        },
        {
          "name": "stdout",
          "output_type": "stream",
          "text": [
            "Epoch 118, Test loss: 13.525602365770037\n",
            "Epoch 119, Train loss: 13.350082448191113\n"
          ]
        },
        {
          "name": "stderr",
          "output_type": "stream",
          "text": [
            " 24%|██▍       | 119/500 [45:28<2:25:22, 22.89s/it]"
          ]
        },
        {
          "name": "stdout",
          "output_type": "stream",
          "text": [
            "Epoch 119, Test loss: 13.525656944229489\n",
            "Epoch 120, Train loss: 13.348619904253217\n"
          ]
        },
        {
          "name": "stderr",
          "output_type": "stream",
          "text": [
            " 24%|██▍       | 120/500 [45:51<2:24:41, 22.84s/it]"
          ]
        },
        {
          "name": "stdout",
          "output_type": "stream",
          "text": [
            "Epoch 120, Test loss: 13.52574660475292\n",
            "Epoch 121, Train loss: 13.347662253843414\n"
          ]
        },
        {
          "name": "stderr",
          "output_type": "stream",
          "text": [
            " 24%|██▍       | 121/500 [46:14<2:24:07, 22.82s/it]"
          ]
        },
        {
          "name": "stdout",
          "output_type": "stream",
          "text": [
            "Epoch 121, Test loss: 13.525046551038349\n",
            "Epoch 122, Train loss: 13.346768990357717\n"
          ]
        },
        {
          "name": "stderr",
          "output_type": "stream",
          "text": [
            " 24%|██▍       | 122/500 [46:36<2:23:36, 22.79s/it]"
          ]
        },
        {
          "name": "stdout",
          "output_type": "stream",
          "text": [
            "Epoch 122, Test loss: 13.524502052201164\n",
            "Epoch 123, Train loss: 13.346018786032994\n"
          ]
        },
        {
          "name": "stderr",
          "output_type": "stream",
          "text": [
            " 25%|██▍       | 123/500 [46:59<2:23:18, 22.81s/it]"
          ]
        },
        {
          "name": "stdout",
          "output_type": "stream",
          "text": [
            "Epoch 123, Test loss: 13.524333556493124\n",
            "Epoch 124, Train loss: 13.344913376371066\n"
          ]
        },
        {
          "name": "stderr",
          "output_type": "stream",
          "text": [
            " 25%|██▍       | 124/500 [47:23<2:24:37, 23.08s/it]"
          ]
        },
        {
          "name": "stdout",
          "output_type": "stream",
          "text": [
            "Epoch 124, Test loss: 13.524069894873907\n",
            "Epoch 125, Train loss: 13.344236671858363\n"
          ]
        },
        {
          "name": "stderr",
          "output_type": "stream",
          "text": [
            " 25%|██▌       | 125/500 [47:47<2:26:46, 23.49s/it]"
          ]
        },
        {
          "name": "stdout",
          "output_type": "stream",
          "text": [
            "Epoch 125, Test loss: 13.523710598548254\n",
            "Epoch 126, Train loss: 13.343244523273574\n"
          ]
        },
        {
          "name": "stderr",
          "output_type": "stream",
          "text": [
            " 25%|██▌       | 126/500 [48:10<2:25:39, 23.37s/it]"
          ]
        },
        {
          "name": "stdout",
          "output_type": "stream",
          "text": [
            "Epoch 126, Test loss: 13.523562944124615\n",
            "Epoch 127, Train loss: 13.342854549222523\n"
          ]
        },
        {
          "name": "stderr",
          "output_type": "stream",
          "text": [
            " 25%|██▌       | 127/500 [48:32<2:22:29, 22.92s/it]"
          ]
        },
        {
          "name": "stdout",
          "output_type": "stream",
          "text": [
            "Epoch 127, Test loss: 13.523171338297072\n",
            "Epoch 128, Train loss: 13.341748235821724\n"
          ]
        },
        {
          "name": "stderr",
          "output_type": "stream",
          "text": [
            " 26%|██▌       | 128/500 [48:55<2:21:10, 22.77s/it]"
          ]
        },
        {
          "name": "stdout",
          "output_type": "stream",
          "text": [
            "Epoch 128, Test loss: 13.523780687933876\n",
            "Epoch 129, Train loss: 13.341129385232925\n"
          ]
        },
        {
          "name": "stderr",
          "output_type": "stream",
          "text": [
            " 26%|██▌       | 129/500 [49:18<2:20:45, 22.76s/it]"
          ]
        },
        {
          "name": "stdout",
          "output_type": "stream",
          "text": [
            "Epoch 129, Test loss: 13.523160826119165\n",
            "Epoch 130, Train loss: 13.34069080458747\n"
          ]
        },
        {
          "name": "stderr",
          "output_type": "stream",
          "text": [
            " 26%|██▌       | 130/500 [49:40<2:19:19, 22.59s/it]"
          ]
        },
        {
          "name": "stdout",
          "output_type": "stream",
          "text": [
            "Epoch 130, Test loss: 13.524260514785373\n",
            "Epoch 131, Train loss: 13.339995552102724\n"
          ]
        },
        {
          "name": "stderr",
          "output_type": "stream",
          "text": [
            " 26%|██▌       | 131/500 [50:03<2:19:45, 22.73s/it]"
          ]
        },
        {
          "name": "stdout",
          "output_type": "stream",
          "text": [
            "Epoch 131, Test loss: 13.523249335705287\n",
            "Epoch 132, Train loss: 13.339421868191826\n"
          ]
        },
        {
          "name": "stderr",
          "output_type": "stream",
          "text": [
            " 26%|██▋       | 132/500 [50:26<2:21:00, 22.99s/it]"
          ]
        },
        {
          "name": "stdout",
          "output_type": "stream",
          "text": [
            "Epoch 132, Test loss: 13.522623090990006\n",
            "Epoch 133, Train loss: 13.338824081553353\n"
          ]
        },
        {
          "name": "stderr",
          "output_type": "stream",
          "text": [
            " 27%|██▋       | 133/500 [50:51<2:23:02, 23.38s/it]"
          ]
        },
        {
          "name": "stdout",
          "output_type": "stream",
          "text": [
            "Epoch 133, Test loss: 13.52221942988653\n",
            "Epoch 134, Train loss: 13.338355760971705\n"
          ]
        },
        {
          "name": "stderr",
          "output_type": "stream",
          "text": [
            " 27%|██▋       | 134/500 [51:16<2:25:31, 23.86s/it]"
          ]
        },
        {
          "name": "stdout",
          "output_type": "stream",
          "text": [
            "Epoch 134, Test loss: 13.521510450612931\n",
            "Epoch 135, Train loss: 13.337949486573537\n"
          ]
        },
        {
          "name": "stderr",
          "output_type": "stream",
          "text": [
            " 27%|██▋       | 135/500 [51:40<2:25:54, 23.99s/it]"
          ]
        },
        {
          "name": "stdout",
          "output_type": "stream",
          "text": [
            "Epoch 135, Test loss: 13.521590286777133\n",
            "Epoch 136, Train loss: 13.337453597519133\n"
          ]
        },
        {
          "name": "stderr",
          "output_type": "stream",
          "text": [
            " 27%|██▋       | 136/500 [52:03<2:24:39, 23.85s/it]"
          ]
        },
        {
          "name": "stdout",
          "output_type": "stream",
          "text": [
            "Epoch 136, Test loss: 13.521206380355926\n",
            "Epoch 137, Train loss: 13.33695827808645\n"
          ]
        },
        {
          "name": "stderr",
          "output_type": "stream",
          "text": [
            " 27%|██▋       | 137/500 [52:27<2:23:41, 23.75s/it]"
          ]
        },
        {
          "name": "stdout",
          "output_type": "stream",
          "text": [
            "Epoch 137, Test loss: 13.520787615151633\n",
            "Epoch 138, Train loss: 13.336504574550522\n"
          ]
        },
        {
          "name": "stderr",
          "output_type": "stream",
          "text": [
            " 28%|██▊       | 138/500 [52:50<2:21:26, 23.44s/it]"
          ]
        },
        {
          "name": "stdout",
          "output_type": "stream",
          "text": [
            "Epoch 138, Test loss: 13.52110059441082\n",
            "Epoch 139, Train loss: 13.33614058819082\n"
          ]
        },
        {
          "name": "stderr",
          "output_type": "stream",
          "text": [
            " 28%|██▊       | 139/500 [53:15<2:24:09, 23.96s/it]"
          ]
        },
        {
          "name": "stdout",
          "output_type": "stream",
          "text": [
            "Epoch 139, Test loss: 13.5205521214576\n",
            "Epoch 140, Train loss: 13.335746865537432\n"
          ]
        },
        {
          "name": "stderr",
          "output_type": "stream",
          "text": [
            " 28%|██▊       | 140/500 [53:39<2:24:22, 24.06s/it]"
          ]
        },
        {
          "name": "stdout",
          "output_type": "stream",
          "text": [
            "Epoch 140, Test loss: 13.520636351335616\n",
            "Epoch 141, Train loss: 13.335396393471294\n"
          ]
        },
        {
          "name": "stderr",
          "output_type": "stream",
          "text": [
            " 28%|██▊       | 141/500 [54:03<2:24:15, 24.11s/it]"
          ]
        },
        {
          "name": "stdout",
          "output_type": "stream",
          "text": [
            "Epoch 141, Test loss: 13.52044461643885\n",
            "Epoch 142, Train loss: 13.334999419119622\n"
          ]
        },
        {
          "name": "stderr",
          "output_type": "stream",
          "text": [
            " 28%|██▊       | 142/500 [54:27<2:23:50, 24.11s/it]"
          ]
        },
        {
          "name": "stdout",
          "output_type": "stream",
          "text": [
            "Epoch 142, Test loss: 13.520157501338021\n",
            "Epoch 143, Train loss: 13.334656477371851\n"
          ]
        },
        {
          "name": "stderr",
          "output_type": "stream",
          "text": [
            " 29%|██▊       | 143/500 [54:52<2:23:56, 24.19s/it]"
          ]
        },
        {
          "name": "stdout",
          "output_type": "stream",
          "text": [
            "Epoch 143, Test loss: 13.519903814508801\n",
            "Epoch 144, Train loss: 13.33429288579358\n"
          ]
        },
        {
          "name": "stderr",
          "output_type": "stream",
          "text": [
            " 29%|██▉       | 144/500 [55:15<2:22:32, 24.02s/it]"
          ]
        },
        {
          "name": "stdout",
          "output_type": "stream",
          "text": [
            "Epoch 144, Test loss: 13.519822046870278\n",
            "Epoch 145, Train loss: 13.333962191608217\n"
          ]
        },
        {
          "name": "stderr",
          "output_type": "stream",
          "text": [
            " 29%|██▉       | 145/500 [55:40<2:22:16, 24.05s/it]"
          ]
        },
        {
          "name": "stdout",
          "output_type": "stream",
          "text": [
            "Epoch 145, Test loss: 13.519725968913427\n",
            "Epoch 146, Train loss: 13.333680136667358\n"
          ]
        },
        {
          "name": "stderr",
          "output_type": "stream",
          "text": [
            " 29%|██▉       | 146/500 [56:03<2:21:23, 23.96s/it]"
          ]
        },
        {
          "name": "stdout",
          "output_type": "stream",
          "text": [
            "Epoch 146, Test loss: 13.519566019849172\n",
            "Epoch 147, Train loss: 13.333489809102483\n"
          ]
        },
        {
          "name": "stderr",
          "output_type": "stream",
          "text": [
            " 29%|██▉       | 147/500 [56:28<2:21:20, 24.02s/it]"
          ]
        },
        {
          "name": "stdout",
          "output_type": "stream",
          "text": [
            "Epoch 147, Test loss: 13.519465810249722\n",
            "Epoch 148, Train loss: 13.333202334708638\n"
          ]
        },
        {
          "name": "stderr",
          "output_type": "stream",
          "text": [
            " 30%|██▉       | 148/500 [56:52<2:21:09, 24.06s/it]"
          ]
        },
        {
          "name": "stdout",
          "output_type": "stream",
          "text": [
            "Epoch 148, Test loss: 13.51935444275538\n",
            "Epoch 149, Train loss: 13.332928730911679\n"
          ]
        },
        {
          "name": "stderr",
          "output_type": "stream",
          "text": [
            " 30%|██▉       | 149/500 [57:15<2:19:58, 23.93s/it]"
          ]
        },
        {
          "name": "stdout",
          "output_type": "stream",
          "text": [
            "Epoch 149, Test loss: 13.51918067771291\n",
            "Epoch 150, Train loss: 13.332686633533902\n"
          ]
        },
        {
          "name": "stderr",
          "output_type": "stream",
          "text": [
            " 30%|███       | 150/500 [57:39<2:19:38, 23.94s/it]"
          ]
        },
        {
          "name": "stdout",
          "output_type": "stream",
          "text": [
            "Epoch 150, Test loss: 13.51915457466292\n",
            "Epoch 151, Train loss: 13.332448145813412\n"
          ]
        },
        {
          "name": "stderr",
          "output_type": "stream",
          "text": [
            " 30%|███       | 151/500 [58:03<2:18:31, 23.82s/it]"
          ]
        },
        {
          "name": "stdout",
          "output_type": "stream",
          "text": [
            "Epoch 151, Test loss: 13.519042914348935\n",
            "Epoch 152, Train loss: 13.332193564573924\n"
          ]
        },
        {
          "name": "stderr",
          "output_type": "stream",
          "text": [
            " 30%|███       | 152/500 [58:26<2:17:27, 23.70s/it]"
          ]
        },
        {
          "name": "stdout",
          "output_type": "stream",
          "text": [
            "Epoch 152, Test loss: 13.519036264646621\n",
            "Epoch 153, Train loss: 13.331995813714133\n"
          ]
        },
        {
          "name": "stderr",
          "output_type": "stream",
          "text": [
            " 31%|███       | 153/500 [58:51<2:18:28, 23.94s/it]"
          ]
        },
        {
          "name": "stdout",
          "output_type": "stream",
          "text": [
            "Epoch 153, Test loss: 13.518963012430403\n",
            "Epoch 154, Train loss: 13.331790215969086\n"
          ]
        },
        {
          "name": "stderr",
          "output_type": "stream",
          "text": [
            " 31%|███       | 154/500 [59:15<2:19:01, 24.11s/it]"
          ]
        },
        {
          "name": "stdout",
          "output_type": "stream",
          "text": [
            "Epoch 154, Test loss: 13.51892079815032\n"
          ]
        },
        {
          "name": "stderr",
          "output_type": "stream",
          "text": [
            " 31%|███       | 154/500 [59:32<2:13:47, 23.20s/it]\n"
          ]
        },
        {
          "ename": "KeyboardInterrupt",
          "evalue": "",
          "output_type": "error",
          "traceback": [
            "\u001b[1;31m---------------------------------------------------------------------------\u001b[0m",
            "\u001b[1;31mKeyboardInterrupt\u001b[0m                         Traceback (most recent call last)",
            "Cell \u001b[1;32mIn[12], line 16\u001b[0m\n\u001b[0;32m     14\u001b[0m temporal_features \u001b[38;5;241m=\u001b[39m temporal_features\u001b[38;5;241m.\u001b[39msqueeze()\n\u001b[0;32m     15\u001b[0m optimizer\u001b[38;5;241m.\u001b[39mzero_grad()\n\u001b[1;32m---> 16\u001b[0m output \u001b[38;5;241m=\u001b[39m \u001b[43mmodel\u001b[49m\u001b[43m(\u001b[49m\u001b[43mgraph\u001b[49m\u001b[43m,\u001b[49m\u001b[43m \u001b[49m\u001b[43mtemporal_features\u001b[49m\u001b[43m)\u001b[49m\n\u001b[0;32m     17\u001b[0m target \u001b[38;5;241m=\u001b[39m graph\u001b[38;5;241m.\u001b[39my    \n\u001b[0;32m     18\u001b[0m loss \u001b[38;5;241m=\u001b[39m criterion(output, target)\n",
            "File \u001b[1;32mc:\\Users\\Adrian Serrano\\Documents\\Alstom Projet\\venv\\Lib\\site-packages\\torch\\nn\\modules\\module.py:1739\u001b[0m, in \u001b[0;36mModule._wrapped_call_impl\u001b[1;34m(self, *args, **kwargs)\u001b[0m\n\u001b[0;32m   1737\u001b[0m     \u001b[38;5;28;01mreturn\u001b[39;00m \u001b[38;5;28mself\u001b[39m\u001b[38;5;241m.\u001b[39m_compiled_call_impl(\u001b[38;5;241m*\u001b[39margs, \u001b[38;5;241m*\u001b[39m\u001b[38;5;241m*\u001b[39mkwargs)  \u001b[38;5;66;03m# type: ignore[misc]\u001b[39;00m\n\u001b[0;32m   1738\u001b[0m \u001b[38;5;28;01melse\u001b[39;00m:\n\u001b[1;32m-> 1739\u001b[0m     \u001b[38;5;28;01mreturn\u001b[39;00m \u001b[38;5;28;43mself\u001b[39;49m\u001b[38;5;241;43m.\u001b[39;49m\u001b[43m_call_impl\u001b[49m\u001b[43m(\u001b[49m\u001b[38;5;241;43m*\u001b[39;49m\u001b[43margs\u001b[49m\u001b[43m,\u001b[49m\u001b[43m \u001b[49m\u001b[38;5;241;43m*\u001b[39;49m\u001b[38;5;241;43m*\u001b[39;49m\u001b[43mkwargs\u001b[49m\u001b[43m)\u001b[49m\n",
            "File \u001b[1;32mc:\\Users\\Adrian Serrano\\Documents\\Alstom Projet\\venv\\Lib\\site-packages\\torch\\nn\\modules\\module.py:1750\u001b[0m, in \u001b[0;36mModule._call_impl\u001b[1;34m(self, *args, **kwargs)\u001b[0m\n\u001b[0;32m   1745\u001b[0m \u001b[38;5;66;03m# If we don't have any hooks, we want to skip the rest of the logic in\u001b[39;00m\n\u001b[0;32m   1746\u001b[0m \u001b[38;5;66;03m# this function, and just call forward.\u001b[39;00m\n\u001b[0;32m   1747\u001b[0m \u001b[38;5;28;01mif\u001b[39;00m \u001b[38;5;129;01mnot\u001b[39;00m (\u001b[38;5;28mself\u001b[39m\u001b[38;5;241m.\u001b[39m_backward_hooks \u001b[38;5;129;01mor\u001b[39;00m \u001b[38;5;28mself\u001b[39m\u001b[38;5;241m.\u001b[39m_backward_pre_hooks \u001b[38;5;129;01mor\u001b[39;00m \u001b[38;5;28mself\u001b[39m\u001b[38;5;241m.\u001b[39m_forward_hooks \u001b[38;5;129;01mor\u001b[39;00m \u001b[38;5;28mself\u001b[39m\u001b[38;5;241m.\u001b[39m_forward_pre_hooks\n\u001b[0;32m   1748\u001b[0m         \u001b[38;5;129;01mor\u001b[39;00m _global_backward_pre_hooks \u001b[38;5;129;01mor\u001b[39;00m _global_backward_hooks\n\u001b[0;32m   1749\u001b[0m         \u001b[38;5;129;01mor\u001b[39;00m _global_forward_hooks \u001b[38;5;129;01mor\u001b[39;00m _global_forward_pre_hooks):\n\u001b[1;32m-> 1750\u001b[0m     \u001b[38;5;28;01mreturn\u001b[39;00m \u001b[43mforward_call\u001b[49m\u001b[43m(\u001b[49m\u001b[38;5;241;43m*\u001b[39;49m\u001b[43margs\u001b[49m\u001b[43m,\u001b[49m\u001b[43m \u001b[49m\u001b[38;5;241;43m*\u001b[39;49m\u001b[38;5;241;43m*\u001b[39;49m\u001b[43mkwargs\u001b[49m\u001b[43m)\u001b[49m\n\u001b[0;32m   1752\u001b[0m result \u001b[38;5;241m=\u001b[39m \u001b[38;5;28;01mNone\u001b[39;00m\n\u001b[0;32m   1753\u001b[0m called_always_called_hooks \u001b[38;5;241m=\u001b[39m \u001b[38;5;28mset\u001b[39m()\n",
            "Cell \u001b[1;32mIn[11], line 22\u001b[0m, in \u001b[0;36mDeepSTGCN.forward\u001b[1;34m(self, graph, temporal_features)\u001b[0m\n\u001b[0;32m     20\u001b[0m x \u001b[38;5;241m=\u001b[39m \u001b[38;5;28mself\u001b[39m\u001b[38;5;241m.\u001b[39mfc1(x)\n\u001b[0;32m     21\u001b[0m x \u001b[38;5;241m=\u001b[39m F\u001b[38;5;241m.\u001b[39mtanh(x)     \n\u001b[1;32m---> 22\u001b[0m x \u001b[38;5;241m=\u001b[39m \u001b[43mtorch\u001b[49m\u001b[38;5;241;43m.\u001b[39;49m\u001b[43mcat\u001b[49m\u001b[43m(\u001b[49m\u001b[43m(\u001b[49m\u001b[43mx\u001b[49m\u001b[43m,\u001b[49m\u001b[43m \u001b[49m\u001b[43mtemporal_features\u001b[49m\u001b[43m,\u001b[49m\u001b[43m \u001b[49m\u001b[43mgraph\u001b[49m\u001b[38;5;241;43m.\u001b[39;49m\u001b[43mx\u001b[49m\u001b[43m)\u001b[49m\u001b[43m,\u001b[49m\u001b[43m \u001b[49m\u001b[43mdim\u001b[49m\u001b[38;5;241;43m=\u001b[39;49m\u001b[38;5;241;43m-\u001b[39;49m\u001b[38;5;241;43m1\u001b[39;49m\u001b[43m)\u001b[49m\n\u001b[0;32m     23\u001b[0m x \u001b[38;5;241m=\u001b[39m \u001b[38;5;28mself\u001b[39m\u001b[38;5;241m.\u001b[39mfc2(x)\n\u001b[0;32m     24\u001b[0m x \u001b[38;5;241m=\u001b[39m F\u001b[38;5;241m.\u001b[39mtanh(x)\n",
            "\u001b[1;31mKeyboardInterrupt\u001b[0m: "
          ]
        }
      ],
      "source": [
        "model = DeepSTGCN(node_features=window_size, hidden_dim=32)\n",
        "\n",
        "optimizer = torch.optim.Adam(model.parameters(), lr=0.01)\n",
        "scheduler = torch.optim.lr_scheduler.ExponentialLR(optimizer, gamma=0.95)\n",
        "criterion = MAE\n",
        "\n",
        "num_epochs = 500\n",
        "\n",
        "# Boucle d'entraînement\n",
        "for epoch in tqdm(range(num_epochs)):\n",
        "    model.train()\n",
        "    train_loss = 0\n",
        "    for graph, temporal_features in train_loader:\n",
        "        temporal_features = temporal_features.squeeze()\n",
        "        optimizer.zero_grad()\n",
        "        output = model(graph, temporal_features)\n",
        "        target = graph.y\n",
        "        loss = criterion(output, target)\n",
        "        loss.backward()\n",
        "        optimizer.step()\n",
        "        train_loss += loss.item()\n",
        "\n",
        "    scheduler.step()\n",
        "\n",
        "    print(f\"Epoch {epoch+1}, Train loss: {train_loss / len(train_loader)}\")\n",
        "\n",
        "    # Évaluation sur le jeu de test\n",
        "    model.eval()\n",
        "    test_loss = 0\n",
        "    with torch.no_grad():  # Désactivation des gradients pour l'évaluation\n",
        "        for graph, temporal_features in test_loader:\n",
        "            temporal_features = temporal_features.squeeze()  # Squeeze si nécessaire\n",
        "            output = model(graph, temporal_features)  # Assure-toi de passer aussi les temporal_features\n",
        "            target = graph.y\n",
        "            loss = criterion(output, target)\n",
        "            test_loss += loss.item()\n",
        "\n",
        "    print(f\"Epoch {epoch+1}, Test loss: {test_loss / len(test_loader)}\")"
      ]
    },
    {
      "cell_type": "code",
      "execution_count": null,
      "metadata": {
        "id": "ZT9Vr0B_1vgI",
        "outputId": "7a5cc39e-e887-4897-a244-6f33d63a3fa1"
      },
      "outputs": [
        {
          "name": "stdout",
          "output_type": "stream",
          "text": [
            "Test MAE: 13.51826000213623\n",
            "MAPE for high targets: 0.04106026636214838\n",
            "MAE for low targets: 5.213425626357396\n"
          ]
        }
      ],
      "source": [
        "test_model(model, test_loader)"
      ]
    },
    {
      "cell_type": "code",
      "execution_count": null,
      "metadata": {
        "id": "OoCd38eB1vgI",
        "outputId": "be13c7b7-a568-475d-96f1-c9e5962d7b2b"
      },
      "outputs": [
        {
          "name": "stdout",
          "output_type": "stream",
          "text": [
            "Test MAE: 13.328251838684082\n",
            "MAPE for high targets: nan\n",
            "MAE for low targets: 5.288397481242816\n"
          ]
        }
      ],
      "source": [
        "test_model(model, train_loader)"
      ]
    },
    {
      "cell_type": "markdown",
      "metadata": {
        "id": "v79E52Su1vgI"
      },
      "source": [
        "### Test 4"
      ]
    },
    {
      "cell_type": "markdown",
      "metadata": {
        "id": "UjX1liXA1vgI"
      },
      "source": [
        "Modifs par rapport au meilleur modèle (Test 2): suffle les batchs"
      ]
    },
    {
      "cell_type": "code",
      "execution_count": 60,
      "metadata": {
        "id": "zzkNka-a1vgI"
      },
      "outputs": [],
      "source": [
        "window_size = 4"
      ]
    },
    {
      "cell_type": "code",
      "execution_count": 61,
      "metadata": {
        "id": "TR_LUPxF1vgI"
      },
      "outputs": [],
      "source": [
        "# Build the Data loader\n",
        "graph_data = []\n",
        "# each df should have the same dimension and same nodes at the same columns\n",
        "for filename, df in dfs.items():\n",
        "    df = add_missing_nodes_2(df, node_mapping, num_nodes) # add zeros row for missing nodes\n",
        "    df_qhrs = build_quarter_hour_data(df, filename, num_nodes) # retourne 24*4 df avec ses paramètres temporel et le flow\n",
        "    graph_data.append(df_qhrs)\n",
        "graphs = [[df_to_graph(df, edge_index) for df in graph_data[i]] for i in range(len(graph_data))]  # Un graphe par quart d'heure\n",
        "\n",
        "train_loader, test_loader = build_train_test_loaders_2(graphs, window_size, train_split=0.8, batch_size=32, shuffle=True)"
      ]
    },
    {
      "cell_type": "code",
      "source": [
        "i=0\n",
        "for graph, temporal_features in train_loader:\n",
        "  i+=1\n",
        "print(i)"
      ],
      "metadata": {
        "colab": {
          "base_uri": "https://localhost:8080/"
        },
        "id": "iQwFhell3JJJ",
        "outputId": "13d054d3-0338-4483-c5ca-6e5ae5e693d4"
      },
      "execution_count": 62,
      "outputs": [
        {
          "output_type": "stream",
          "name": "stdout",
          "text": [
            "57\n"
          ]
        }
      ]
    },
    {
      "cell_type": "markdown",
      "source": [
        "### Test 1 GPU batch size = 8"
      ],
      "metadata": {
        "id": "Je1VaxYP9-HT"
      }
    },
    {
      "cell_type": "code",
      "execution_count": 45,
      "metadata": {
        "id": "T2IRJWJs1vgJ"
      },
      "outputs": [],
      "source": [
        "class ImprovedSTGCN(nn.Module):\n",
        "    def __init__(self, node_features, hidden_dim, temporal_features_dim=10):\n",
        "        super(ImprovedSTGCN, self).__init__()\n",
        "        self.gcn1 = GCNConv(node_features, hidden_dim)  # GCN\n",
        "        self.gcn2 = GCNConv(hidden_dim, hidden_dim)\n",
        "        self.fc1 = nn.Linear(hidden_dim + temporal_features_dim + node_features, hidden_dim)  # Prédiction finale\n",
        "        self.fc2 = nn.Linear(hidden_dim + node_features, 1)\n",
        "        # self.bn1 = nn.BatchNorm1d(hidden_dim)\n",
        "\n",
        "    def forward(self, graph, temporal_features):\n",
        "        x = self.gcn1(graph.x, graph.edge_index)  # GCN\n",
        "        x = F.relu(x) # (num_nodes, hideen_dim)\n",
        "        x = self.gcn2(x, graph.edge_index)  # GCN\n",
        "        x = F.relu(x) # (num_nodes, hideen_dim)\n",
        "\n",
        "        # Use temporal features and x as inputs of fc and use the fc layer\n",
        "        x = torch.cat((x, temporal_features, graph.x), dim=-1)\n",
        "        x = self.fc1(x)\n",
        "        x = F.relu(x)\n",
        "        x = torch.cat((x, graph.x), dim=-1)\n",
        "        x = self.fc2(x)\n",
        "        x = F.relu(x)\n",
        "        return x # return the flow for each nodes (num_nodes, 1)"
      ]
    },
    {
      "cell_type": "code",
      "execution_count": 48,
      "metadata": {
        "colab": {
          "base_uri": "https://localhost:8080/",
          "height": 1000
        },
        "collapsed": true,
        "id": "IhKSJWKX1vgJ",
        "outputId": "e976c9a7-6753-48b5-917d-e72f7c3fe412"
      },
      "outputs": [
        {
          "output_type": "stream",
          "name": "stdout",
          "text": [
            "Using device: cuda\n"
          ]
        },
        {
          "output_type": "stream",
          "name": "stderr",
          "text": [
            "\r  0%|          | 0/250 [00:00<?, ?it/s]"
          ]
        },
        {
          "output_type": "stream",
          "name": "stdout",
          "text": [
            "Epoch 1, Train loss: 35.02877683003744\n"
          ]
        },
        {
          "output_type": "stream",
          "name": "stderr",
          "text": [
            "\r  0%|          | 1/250 [00:01<06:14,  1.50s/it]"
          ]
        },
        {
          "output_type": "stream",
          "name": "stdout",
          "text": [
            "Epoch 1, Test loss: 21.914756517561656\n",
            "Epoch 2, Train loss: 18.169094056023493\n"
          ]
        },
        {
          "output_type": "stream",
          "name": "stderr",
          "text": [
            "\r  1%|          | 2/250 [00:02<06:10,  1.49s/it]"
          ]
        },
        {
          "output_type": "stream",
          "name": "stdout",
          "text": [
            "Epoch 2, Test loss: 20.976369857788086\n",
            "Epoch 3, Train loss: 16.220277858310276\n"
          ]
        },
        {
          "output_type": "stream",
          "name": "stderr",
          "text": [
            "\r  1%|          | 3/250 [00:04<06:13,  1.51s/it]"
          ]
        },
        {
          "output_type": "stream",
          "name": "stdout",
          "text": [
            "Epoch 3, Test loss: 15.856963051689995\n",
            "Epoch 4, Train loss: 16.16799910651313\n"
          ]
        },
        {
          "output_type": "stream",
          "name": "stderr",
          "text": [
            "\r  2%|▏         | 4/250 [00:06<06:12,  1.51s/it]"
          ]
        },
        {
          "output_type": "stream",
          "name": "stdout",
          "text": [
            "Epoch 4, Test loss: 14.80290741390652\n",
            "Epoch 5, Train loss: 15.348804357316759\n"
          ]
        },
        {
          "output_type": "stream",
          "name": "stderr",
          "text": [
            "\r  2%|▏         | 5/250 [00:07<06:49,  1.67s/it]"
          ]
        },
        {
          "output_type": "stream",
          "name": "stdout",
          "text": [
            "Epoch 5, Test loss: 15.998044468107677\n",
            "Epoch 6, Train loss: 14.167636644575332\n"
          ]
        },
        {
          "output_type": "stream",
          "name": "stderr",
          "text": [
            "\r  2%|▏         | 6/250 [00:09<06:42,  1.65s/it]"
          ]
        },
        {
          "output_type": "stream",
          "name": "stdout",
          "text": [
            "Epoch 6, Test loss: 13.061166430276538\n",
            "Epoch 7, Train loss: 13.496798703935411\n"
          ]
        },
        {
          "output_type": "stream",
          "name": "stderr",
          "text": [
            "\r  3%|▎         | 7/250 [00:11<06:27,  1.60s/it]"
          ]
        },
        {
          "output_type": "stream",
          "name": "stdout",
          "text": [
            "Epoch 7, Test loss: 13.598426470680842\n",
            "Epoch 8, Train loss: 14.70340808444553\n"
          ]
        },
        {
          "output_type": "stream",
          "name": "stderr",
          "text": [
            "\r  3%|▎         | 8/250 [00:12<06:20,  1.57s/it]"
          ]
        },
        {
          "output_type": "stream",
          "name": "stdout",
          "text": [
            "Epoch 8, Test loss: 14.168698870946491\n",
            "Epoch 9, Train loss: 13.337031391991509\n"
          ]
        },
        {
          "output_type": "stream",
          "name": "stderr",
          "text": [
            "\r  4%|▎         | 9/250 [00:14<06:13,  1.55s/it]"
          ]
        },
        {
          "output_type": "stream",
          "name": "stdout",
          "text": [
            "Epoch 9, Test loss: 12.696843548426552\n",
            "Epoch 10, Train loss: 12.611889315711128\n"
          ]
        },
        {
          "output_type": "stream",
          "name": "stderr",
          "text": [
            "\r  4%|▍         | 10/250 [00:15<06:08,  1.54s/it]"
          ]
        },
        {
          "output_type": "stream",
          "name": "stdout",
          "text": [
            "Epoch 10, Test loss: 12.328452503870404\n",
            "Epoch 11, Train loss: 13.182300815582275\n"
          ]
        },
        {
          "output_type": "stream",
          "name": "stderr",
          "text": [
            "\r  4%|▍         | 11/250 [00:17<06:06,  1.53s/it]"
          ]
        },
        {
          "output_type": "stream",
          "name": "stdout",
          "text": [
            "Epoch 11, Test loss: 13.308342691451784\n",
            "Epoch 12, Train loss: 12.415987760755751\n"
          ]
        },
        {
          "output_type": "stream",
          "name": "stderr",
          "text": [
            "\r  5%|▍         | 12/250 [00:18<06:14,  1.57s/it]"
          ]
        },
        {
          "output_type": "stream",
          "name": "stdout",
          "text": [
            "Epoch 12, Test loss: 12.139425671289837\n",
            "Epoch 13, Train loss: 12.218178248935276\n"
          ]
        },
        {
          "output_type": "stream",
          "name": "stderr",
          "text": [
            "\r  5%|▌         | 13/250 [00:20<06:36,  1.67s/it]"
          ]
        },
        {
          "output_type": "stream",
          "name": "stdout",
          "text": [
            "Epoch 13, Test loss: 13.819405358935159\n",
            "Epoch 14, Train loss: 12.207828523847791\n"
          ]
        },
        {
          "output_type": "stream",
          "name": "stderr",
          "text": [
            "\r  6%|▌         | 14/250 [00:22<06:23,  1.62s/it]"
          ]
        },
        {
          "output_type": "stream",
          "name": "stdout",
          "text": [
            "Epoch 14, Test loss: 13.119197345915294\n",
            "Epoch 15, Train loss: 12.384122009277343\n"
          ]
        },
        {
          "output_type": "stream",
          "name": "stderr",
          "text": [
            "\r  6%|▌         | 15/250 [00:23<06:13,  1.59s/it]"
          ]
        },
        {
          "output_type": "stream",
          "name": "stdout",
          "text": [
            "Epoch 15, Test loss: 12.577911891634502\n",
            "Epoch 16, Train loss: 12.335186608632405\n"
          ]
        },
        {
          "output_type": "stream",
          "name": "stderr",
          "text": [
            "\r  6%|▋         | 16/250 [00:25<06:05,  1.56s/it]"
          ]
        },
        {
          "output_type": "stream",
          "name": "stdout",
          "text": [
            "Epoch 16, Test loss: 13.158945991879417\n",
            "Epoch 17, Train loss: 12.248877716064452\n"
          ]
        },
        {
          "output_type": "stream",
          "name": "stderr",
          "text": [
            "\r  7%|▋         | 17/250 [00:26<05:59,  1.54s/it]"
          ]
        },
        {
          "output_type": "stream",
          "name": "stdout",
          "text": [
            "Epoch 17, Test loss: 12.341596474723211\n",
            "Epoch 18, Train loss: 12.08941854900784\n"
          ]
        },
        {
          "output_type": "stream",
          "name": "stderr",
          "text": [
            "\r  7%|▋         | 18/250 [00:28<05:56,  1.54s/it]"
          ]
        },
        {
          "output_type": "stream",
          "name": "stdout",
          "text": [
            "Epoch 18, Test loss: 12.046467856755333\n",
            "Epoch 19, Train loss: 12.213693673875596\n"
          ]
        },
        {
          "output_type": "stream",
          "name": "stderr",
          "text": [
            "\r  8%|▊         | 19/250 [00:29<05:54,  1.54s/it]"
          ]
        },
        {
          "output_type": "stream",
          "name": "stdout",
          "text": [
            "Epoch 19, Test loss: 12.226544016883487\n",
            "Epoch 20, Train loss: 12.307624168395996\n"
          ]
        },
        {
          "output_type": "stream",
          "name": "stderr",
          "text": [
            "\r  8%|▊         | 20/250 [00:31<06:10,  1.61s/it]"
          ]
        },
        {
          "output_type": "stream",
          "name": "stdout",
          "text": [
            "Epoch 20, Test loss: 14.916634211464533\n",
            "Epoch 21, Train loss: 11.98980399025811\n"
          ]
        },
        {
          "output_type": "stream",
          "name": "stderr",
          "text": [
            "\r  8%|▊         | 21/250 [00:33<06:19,  1.66s/it]"
          ]
        },
        {
          "output_type": "stream",
          "name": "stdout",
          "text": [
            "Epoch 21, Test loss: 12.124469083452981\n",
            "Epoch 22, Train loss: 11.824791942172581\n"
          ]
        },
        {
          "output_type": "stream",
          "name": "stderr",
          "text": [
            "\r  9%|▉         | 22/250 [00:34<06:08,  1.62s/it]"
          ]
        },
        {
          "output_type": "stream",
          "name": "stdout",
          "text": [
            "Epoch 22, Test loss: 12.071294330415272\n",
            "Epoch 23, Train loss: 11.844646949768066\n"
          ]
        },
        {
          "output_type": "stream",
          "name": "stderr",
          "text": [
            "\r  9%|▉         | 23/250 [00:36<06:00,  1.59s/it]"
          ]
        },
        {
          "output_type": "stream",
          "name": "stdout",
          "text": [
            "Epoch 23, Test loss: 12.499509463234553\n",
            "Epoch 24, Train loss: 11.744364270104303\n"
          ]
        },
        {
          "output_type": "stream",
          "name": "stderr",
          "text": [
            "\r 10%|▉         | 24/250 [00:37<05:56,  1.58s/it]"
          ]
        },
        {
          "output_type": "stream",
          "name": "stdout",
          "text": [
            "Epoch 24, Test loss: 12.587067346724252\n",
            "Epoch 25, Train loss: 11.727949013180202\n"
          ]
        },
        {
          "output_type": "stream",
          "name": "stderr",
          "text": [
            "\r 10%|█         | 25/250 [00:39<05:52,  1.57s/it]"
          ]
        },
        {
          "output_type": "stream",
          "name": "stdout",
          "text": [
            "Epoch 25, Test loss: 11.965893760560052\n",
            "Epoch 26, Train loss: 11.646889264848497\n"
          ]
        },
        {
          "output_type": "stream",
          "name": "stderr",
          "text": [
            "\r 10%|█         | 26/250 [00:41<05:55,  1.59s/it]"
          ]
        },
        {
          "output_type": "stream",
          "name": "stdout",
          "text": [
            "Epoch 26, Test loss: 12.347360716925728\n",
            "Epoch 27, Train loss: 11.780788156721327\n"
          ]
        },
        {
          "output_type": "stream",
          "name": "stderr",
          "text": [
            "\r 11%|█         | 27/250 [00:42<05:58,  1.61s/it]"
          ]
        },
        {
          "output_type": "stream",
          "name": "stdout",
          "text": [
            "Epoch 27, Test loss: 12.203913840036543\n",
            "Epoch 28, Train loss: 11.562939306894938\n"
          ]
        },
        {
          "output_type": "stream",
          "name": "stderr",
          "text": [
            "\r 11%|█         | 28/250 [00:44<06:17,  1.70s/it]"
          ]
        },
        {
          "output_type": "stream",
          "name": "stdout",
          "text": [
            "Epoch 28, Test loss: 11.905728090377082\n",
            "Epoch 29, Train loss: 11.527056939866808\n"
          ]
        },
        {
          "output_type": "stream",
          "name": "stderr",
          "text": [
            "\r 12%|█▏        | 29/250 [00:46<06:02,  1.64s/it]"
          ]
        },
        {
          "output_type": "stream",
          "name": "stdout",
          "text": [
            "Epoch 29, Test loss: 11.969499572875007\n",
            "Epoch 30, Train loss: 11.675886351267497\n"
          ]
        },
        {
          "output_type": "stream",
          "name": "stderr",
          "text": [
            "\r 12%|█▏        | 30/250 [00:47<05:52,  1.60s/it]"
          ]
        },
        {
          "output_type": "stream",
          "name": "stdout",
          "text": [
            "Epoch 30, Test loss: 11.889951115562802\n",
            "Epoch 31, Train loss: 11.690300299326578\n"
          ]
        },
        {
          "output_type": "stream",
          "name": "stderr",
          "text": [
            "\r 12%|█▏        | 31/250 [00:49<05:49,  1.60s/it]"
          ]
        },
        {
          "output_type": "stream",
          "name": "stdout",
          "text": [
            "Epoch 31, Test loss: 12.143797692798433\n",
            "Epoch 32, Train loss: 11.5526408428616\n"
          ]
        },
        {
          "output_type": "stream",
          "name": "stderr",
          "text": [
            "\r 13%|█▎        | 32/250 [00:50<05:44,  1.58s/it]"
          ]
        },
        {
          "output_type": "stream",
          "name": "stdout",
          "text": [
            "Epoch 32, Test loss: 12.121401423499698\n",
            "Epoch 33, Train loss: 11.423146559397379\n"
          ]
        },
        {
          "output_type": "stream",
          "name": "stderr",
          "text": [
            "\r 13%|█▎        | 33/250 [00:52<05:39,  1.57s/it]"
          ]
        },
        {
          "output_type": "stream",
          "name": "stdout",
          "text": [
            "Epoch 33, Test loss: 11.900306156703405\n",
            "Epoch 34, Train loss: 11.396194205813938\n"
          ]
        },
        {
          "output_type": "stream",
          "name": "stderr",
          "text": [
            "\r 14%|█▎        | 34/250 [00:53<05:34,  1.55s/it]"
          ]
        },
        {
          "output_type": "stream",
          "name": "stdout",
          "text": [
            "Epoch 34, Test loss: 11.802184907216875\n",
            "Epoch 35, Train loss: 11.378570902082656\n"
          ]
        },
        {
          "output_type": "stream",
          "name": "stderr",
          "text": [
            "\r 14%|█▍        | 35/250 [00:55<05:50,  1.63s/it]"
          ]
        },
        {
          "output_type": "stream",
          "name": "stdout",
          "text": [
            "Epoch 35, Test loss: 12.246616847931392\n",
            "Epoch 36, Train loss: 11.458367498185899\n"
          ]
        },
        {
          "output_type": "stream",
          "name": "stderr",
          "text": [
            "\r 14%|█▍        | 36/250 [00:57<05:54,  1.66s/it]"
          ]
        },
        {
          "output_type": "stream",
          "name": "stdout",
          "text": [
            "Epoch 36, Test loss: 11.77823757746863\n",
            "Epoch 37, Train loss: 11.335565963321262\n"
          ]
        },
        {
          "output_type": "stream",
          "name": "stderr",
          "text": [
            "\r 15%|█▍        | 37/250 [00:58<05:45,  1.62s/it]"
          ]
        },
        {
          "output_type": "stream",
          "name": "stdout",
          "text": [
            "Epoch 37, Test loss: 11.808782426137773\n",
            "Epoch 38, Train loss: 11.322231610616049\n"
          ]
        },
        {
          "output_type": "stream",
          "name": "stderr",
          "text": [
            "\r 15%|█▌        | 38/250 [01:00<05:37,  1.59s/it]"
          ]
        },
        {
          "output_type": "stream",
          "name": "stdout",
          "text": [
            "Epoch 38, Test loss: 11.74760813940139\n",
            "Epoch 39, Train loss: 11.298600396050347\n"
          ]
        },
        {
          "output_type": "stream",
          "name": "stderr",
          "text": [
            "\r 16%|█▌        | 39/250 [01:01<05:31,  1.57s/it]"
          ]
        },
        {
          "output_type": "stream",
          "name": "stdout",
          "text": [
            "Epoch 39, Test loss: 13.309308460780553\n",
            "Epoch 40, Train loss: 11.406275645362006\n"
          ]
        },
        {
          "output_type": "stream",
          "name": "stderr",
          "text": [
            "\r 16%|█▌        | 40/250 [01:03<05:26,  1.56s/it]"
          ]
        },
        {
          "output_type": "stream",
          "name": "stdout",
          "text": [
            "Epoch 40, Test loss: 12.649059045882453\n",
            "Epoch 41, Train loss: 11.347631564670138\n"
          ]
        },
        {
          "output_type": "stream",
          "name": "stderr",
          "text": [
            "\r 16%|█▋        | 41/250 [01:05<05:21,  1.54s/it]"
          ]
        },
        {
          "output_type": "stream",
          "name": "stdout",
          "text": [
            "Epoch 41, Test loss: 11.748289880298433\n",
            "Epoch 42, Train loss: 11.27432710647583\n"
          ]
        },
        {
          "output_type": "stream",
          "name": "stderr",
          "text": [
            "\r 17%|█▋        | 42/250 [01:06<05:21,  1.55s/it]"
          ]
        },
        {
          "output_type": "stream",
          "name": "stdout",
          "text": [
            "Epoch 42, Test loss: 11.814452080499558\n",
            "Epoch 43, Train loss: 11.323081268734402\n"
          ]
        },
        {
          "output_type": "stream",
          "name": "stderr",
          "text": [
            "\r 17%|█▋        | 43/250 [01:08<05:49,  1.69s/it]"
          ]
        },
        {
          "output_type": "stream",
          "name": "stdout",
          "text": [
            "Epoch 43, Test loss: 11.887573491959344\n",
            "Epoch 44, Train loss: 11.26877082824707\n"
          ]
        },
        {
          "output_type": "stream",
          "name": "stderr",
          "text": [
            "\r 18%|█▊        | 44/250 [01:10<05:37,  1.64s/it]"
          ]
        },
        {
          "output_type": "stream",
          "name": "stdout",
          "text": [
            "Epoch 44, Test loss: 11.855728474874345\n",
            "Epoch 45, Train loss: 11.304187564849853\n"
          ]
        },
        {
          "output_type": "stream",
          "name": "stderr",
          "text": [
            "\r 18%|█▊        | 45/250 [01:11<05:28,  1.60s/it]"
          ]
        },
        {
          "output_type": "stream",
          "name": "stdout",
          "text": [
            "Epoch 45, Test loss: 11.91338092561752\n",
            "Epoch 46, Train loss: 11.254411192999946\n"
          ]
        },
        {
          "output_type": "stream",
          "name": "stderr",
          "text": [
            "\r 18%|█▊        | 46/250 [01:13<05:21,  1.58s/it]"
          ]
        },
        {
          "output_type": "stream",
          "name": "stdout",
          "text": [
            "Epoch 46, Test loss: 11.694274009220184\n",
            "Epoch 47, Train loss: 11.172440242767333\n"
          ]
        },
        {
          "output_type": "stream",
          "name": "stderr",
          "text": [
            "\r 19%|█▉        | 47/250 [01:14<05:16,  1.56s/it]"
          ]
        },
        {
          "output_type": "stream",
          "name": "stdout",
          "text": [
            "Epoch 47, Test loss: 11.85826960064116\n",
            "Epoch 48, Train loss: 11.174232173495822\n"
          ]
        },
        {
          "output_type": "stream",
          "name": "stderr",
          "text": [
            "\r 19%|█▉        | 48/250 [01:16<05:13,  1.55s/it]"
          ]
        },
        {
          "output_type": "stream",
          "name": "stdout",
          "text": [
            "Epoch 48, Test loss: 11.702189717973981\n",
            "Epoch 49, Train loss: 11.19752985848321\n"
          ]
        },
        {
          "output_type": "stream",
          "name": "stderr",
          "text": [
            "\r 20%|█▉        | 49/250 [01:17<05:10,  1.55s/it]"
          ]
        },
        {
          "output_type": "stream",
          "name": "stdout",
          "text": [
            "Epoch 49, Test loss: 11.749410364362928\n",
            "Epoch 50, Train loss: 11.151308275858561\n"
          ]
        },
        {
          "output_type": "stream",
          "name": "stderr",
          "text": [
            "\r 20%|██        | 50/250 [01:19<05:24,  1.62s/it]"
          ]
        },
        {
          "output_type": "stream",
          "name": "stdout",
          "text": [
            "Epoch 50, Test loss: 11.764329880002945\n",
            "Epoch 51, Train loss: 11.242176236046685\n"
          ]
        },
        {
          "output_type": "stream",
          "name": "stderr",
          "text": [
            "\r 20%|██        | 51/250 [01:21<05:36,  1.69s/it]"
          ]
        },
        {
          "output_type": "stream",
          "name": "stdout",
          "text": [
            "Epoch 51, Test loss: 11.680842558542887\n",
            "Epoch 52, Train loss: 11.17443295372857\n"
          ]
        },
        {
          "output_type": "stream",
          "name": "stderr",
          "text": [
            "\r 21%|██        | 52/250 [01:22<05:24,  1.64s/it]"
          ]
        },
        {
          "output_type": "stream",
          "name": "stdout",
          "text": [
            "Epoch 52, Test loss: 11.661974982609825\n",
            "Epoch 53, Train loss: 11.109453014797635\n"
          ]
        },
        {
          "output_type": "stream",
          "name": "stderr",
          "text": [
            "\r 21%|██        | 53/250 [01:24<05:15,  1.60s/it]"
          ]
        },
        {
          "output_type": "stream",
          "name": "stdout",
          "text": [
            "Epoch 53, Test loss: 11.77468216608441\n",
            "Epoch 54, Train loss: 11.130527337392172\n"
          ]
        },
        {
          "output_type": "stream",
          "name": "stderr",
          "text": [
            "\r 22%|██▏       | 54/250 [01:25<05:10,  1.59s/it]"
          ]
        },
        {
          "output_type": "stream",
          "name": "stdout",
          "text": [
            "Epoch 54, Test loss: 11.76820595302279\n",
            "Epoch 55, Train loss: 11.117675501505534\n"
          ]
        },
        {
          "output_type": "stream",
          "name": "stderr",
          "text": [
            "\r 22%|██▏       | 55/250 [01:27<05:05,  1.57s/it]"
          ]
        },
        {
          "output_type": "stream",
          "name": "stdout",
          "text": [
            "Epoch 55, Test loss: 11.776375528365847\n",
            "Epoch 56, Train loss: 11.134119483100044\n"
          ]
        },
        {
          "output_type": "stream",
          "name": "stderr",
          "text": [
            "\r 22%|██▏       | 56/250 [01:29<05:04,  1.57s/it]"
          ]
        },
        {
          "output_type": "stream",
          "name": "stdout",
          "text": [
            "Epoch 56, Test loss: 11.679543813069662\n",
            "Epoch 57, Train loss: 11.070217626359728\n"
          ]
        },
        {
          "output_type": "stream",
          "name": "stderr",
          "text": [
            "\r 23%|██▎       | 57/250 [01:30<05:00,  1.56s/it]"
          ]
        },
        {
          "output_type": "stream",
          "name": "stdout",
          "text": [
            "Epoch 57, Test loss: 11.783588621351454\n",
            "Epoch 58, Train loss: 11.112098202175565\n"
          ]
        },
        {
          "output_type": "stream",
          "name": "stderr",
          "text": [
            "\r 23%|██▎       | 58/250 [01:32<05:28,  1.71s/it]"
          ]
        },
        {
          "output_type": "stream",
          "name": "stdout",
          "text": [
            "Epoch 58, Test loss: 11.613878015487913\n",
            "Epoch 59, Train loss: 11.14112912495931\n"
          ]
        },
        {
          "output_type": "stream",
          "name": "stderr",
          "text": [
            "\r 24%|██▎       | 59/250 [01:34<05:16,  1.66s/it]"
          ]
        },
        {
          "output_type": "stream",
          "name": "stdout",
          "text": [
            "Epoch 59, Test loss: 11.951206956590925\n",
            "Epoch 60, Train loss: 11.064640606774224\n"
          ]
        },
        {
          "output_type": "stream",
          "name": "stderr",
          "text": [
            "\r 24%|██▍       | 60/250 [01:35<05:07,  1.62s/it]"
          ]
        },
        {
          "output_type": "stream",
          "name": "stdout",
          "text": [
            "Epoch 60, Test loss: 11.990678590441506\n",
            "Epoch 61, Train loss: 11.087965261671279\n"
          ]
        },
        {
          "output_type": "stream",
          "name": "stderr",
          "text": [
            "\r 24%|██▍       | 61/250 [01:37<05:01,  1.60s/it]"
          ]
        },
        {
          "output_type": "stream",
          "name": "stdout",
          "text": [
            "Epoch 61, Test loss: 11.723476924593486\n",
            "Epoch 62, Train loss: 11.098370333777533\n"
          ]
        },
        {
          "output_type": "stream",
          "name": "stderr",
          "text": [
            "\r 25%|██▍       | 62/250 [01:38<04:54,  1.57s/it]"
          ]
        },
        {
          "output_type": "stream",
          "name": "stdout",
          "text": [
            "Epoch 62, Test loss: 11.68006638118199\n",
            "Epoch 63, Train loss: 11.047384914822048\n"
          ]
        },
        {
          "output_type": "stream",
          "name": "stderr",
          "text": [
            "\r 25%|██▌       | 63/250 [01:40<04:51,  1.56s/it]"
          ]
        },
        {
          "output_type": "stream",
          "name": "stdout",
          "text": [
            "Epoch 63, Test loss: 11.586924265301416\n",
            "Epoch 64, Train loss: 11.080532889895968\n"
          ]
        },
        {
          "output_type": "stream",
          "name": "stderr",
          "text": [
            "\r 26%|██▌       | 64/250 [01:41<04:48,  1.55s/it]"
          ]
        },
        {
          "output_type": "stream",
          "name": "stdout",
          "text": [
            "Epoch 64, Test loss: 11.650046545361716\n",
            "Epoch 65, Train loss: 11.077890393998889\n"
          ]
        },
        {
          "output_type": "stream",
          "name": "stderr",
          "text": [
            "\r 26%|██▌       | 65/250 [01:43<04:57,  1.61s/it]"
          ]
        },
        {
          "output_type": "stream",
          "name": "stdout",
          "text": [
            "Epoch 65, Test loss: 12.018462650359623\n",
            "Epoch 66, Train loss: 11.04219059838189\n"
          ]
        },
        {
          "output_type": "stream",
          "name": "stderr",
          "text": [
            "\r 26%|██▋       | 66/250 [01:45<05:05,  1.66s/it]"
          ]
        },
        {
          "output_type": "stream",
          "name": "stdout",
          "text": [
            "Epoch 66, Test loss: 11.637144527738057\n",
            "Epoch 67, Train loss: 11.039670136769614\n"
          ]
        },
        {
          "output_type": "stream",
          "name": "stderr",
          "text": [
            "\r 27%|██▋       | 67/250 [01:46<04:55,  1.62s/it]"
          ]
        },
        {
          "output_type": "stream",
          "name": "stdout",
          "text": [
            "Epoch 67, Test loss: 11.613818766578795\n",
            "Epoch 68, Train loss: 11.014916161431207\n"
          ]
        },
        {
          "output_type": "stream",
          "name": "stderr",
          "text": [
            "\r 27%|██▋       | 68/250 [01:48<04:48,  1.59s/it]"
          ]
        },
        {
          "output_type": "stream",
          "name": "stdout",
          "text": [
            "Epoch 68, Test loss: 11.640665864187573\n",
            "Epoch 69, Train loss: 11.050362750159369\n"
          ]
        },
        {
          "output_type": "stream",
          "name": "stderr",
          "text": [
            "\r 28%|██▊       | 69/250 [01:49<04:44,  1.57s/it]"
          ]
        },
        {
          "output_type": "stream",
          "name": "stdout",
          "text": [
            "Epoch 69, Test loss: 11.600744186885773\n",
            "Epoch 70, Train loss: 11.019436058468289\n"
          ]
        },
        {
          "output_type": "stream",
          "name": "stderr",
          "text": [
            "\r 28%|██▊       | 70/250 [01:51<04:39,  1.55s/it]"
          ]
        },
        {
          "output_type": "stream",
          "name": "stdout",
          "text": [
            "Epoch 70, Test loss: 11.581063527909537\n",
            "Epoch 71, Train loss: 11.021784528096516\n"
          ]
        },
        {
          "output_type": "stream",
          "name": "stderr",
          "text": [
            "\r 28%|██▊       | 71/250 [01:52<04:36,  1.54s/it]"
          ]
        },
        {
          "output_type": "stream",
          "name": "stdout",
          "text": [
            "Epoch 71, Test loss: 11.607955493624248\n",
            "Epoch 72, Train loss: 11.021960235171848\n"
          ]
        },
        {
          "output_type": "stream",
          "name": "stderr",
          "text": [
            "\r 29%|██▉       | 72/250 [01:54<04:32,  1.53s/it]"
          ]
        },
        {
          "output_type": "stream",
          "name": "stdout",
          "text": [
            "Epoch 72, Test loss: 11.693313341292123\n",
            "Epoch 73, Train loss: 11.018676560719808\n"
          ]
        },
        {
          "output_type": "stream",
          "name": "stderr",
          "text": [
            "\r 29%|██▉       | 73/250 [01:56<04:56,  1.68s/it]"
          ]
        },
        {
          "output_type": "stream",
          "name": "stdout",
          "text": [
            "Epoch 73, Test loss: 11.621579018850175\n",
            "Epoch 74, Train loss: 11.01124718983968\n"
          ]
        },
        {
          "output_type": "stream",
          "name": "stderr",
          "text": [
            "\r 30%|██▉       | 74/250 [01:58<04:48,  1.64s/it]"
          ]
        },
        {
          "output_type": "stream",
          "name": "stdout",
          "text": [
            "Epoch 74, Test loss: 11.67429280659509\n",
            "Epoch 75, Train loss: 10.997982495625815\n"
          ]
        },
        {
          "output_type": "stream",
          "name": "stderr",
          "text": [
            "\r 30%|███       | 75/250 [01:59<04:40,  1.61s/it]"
          ]
        },
        {
          "output_type": "stream",
          "name": "stdout",
          "text": [
            "Epoch 75, Test loss: 11.609880394405788\n",
            "Epoch 76, Train loss: 11.017927299075657\n"
          ]
        },
        {
          "output_type": "stream",
          "name": "stderr",
          "text": [
            "\r 30%|███       | 76/250 [02:01<04:35,  1.59s/it]"
          ]
        },
        {
          "output_type": "stream",
          "name": "stdout",
          "text": [
            "Epoch 76, Test loss: 11.761909590827095\n",
            "Epoch 77, Train loss: 10.989463602701823\n"
          ]
        },
        {
          "output_type": "stream",
          "name": "stderr",
          "text": [
            "\r 31%|███       | 77/250 [02:02<04:31,  1.57s/it]"
          ]
        },
        {
          "output_type": "stream",
          "name": "stdout",
          "text": [
            "Epoch 77, Test loss: 11.57070527757917\n",
            "Epoch 78, Train loss: 10.989048048655192\n"
          ]
        },
        {
          "output_type": "stream",
          "name": "stderr",
          "text": [
            "\r 31%|███       | 78/250 [02:04<04:28,  1.56s/it]"
          ]
        },
        {
          "output_type": "stream",
          "name": "stdout",
          "text": [
            "Epoch 78, Test loss: 11.597667497301858\n",
            "Epoch 79, Train loss: 10.98019138760037\n"
          ]
        },
        {
          "output_type": "stream",
          "name": "stderr",
          "text": [
            "\r 32%|███▏      | 79/250 [02:05<04:25,  1.55s/it]"
          ]
        },
        {
          "output_type": "stream",
          "name": "stdout",
          "text": [
            "Epoch 79, Test loss: 11.639931042989096\n",
            "Epoch 80, Train loss: 11.002861419253879\n"
          ]
        },
        {
          "output_type": "stream",
          "name": "stderr",
          "text": [
            "\r 32%|███▏      | 80/250 [02:07<04:34,  1.62s/it]"
          ]
        },
        {
          "output_type": "stream",
          "name": "stdout",
          "text": [
            "Epoch 80, Test loss: 11.598068729279534\n",
            "Epoch 81, Train loss: 11.005805331336127\n"
          ]
        },
        {
          "output_type": "stream",
          "name": "stderr",
          "text": [
            "\r 32%|███▏      | 81/250 [02:09<04:43,  1.68s/it]"
          ]
        },
        {
          "output_type": "stream",
          "name": "stdout",
          "text": [
            "Epoch 81, Test loss: 11.579106240045457\n",
            "Epoch 82, Train loss: 10.98002788119846\n"
          ]
        },
        {
          "output_type": "stream",
          "name": "stderr",
          "text": [
            "\r 33%|███▎      | 82/250 [02:10<04:33,  1.63s/it]"
          ]
        },
        {
          "output_type": "stream",
          "name": "stdout",
          "text": [
            "Epoch 82, Test loss: 11.55820053342789\n",
            "Epoch 83, Train loss: 10.968089226616753\n"
          ]
        },
        {
          "output_type": "stream",
          "name": "stderr",
          "text": [
            "\r 33%|███▎      | 83/250 [02:12<04:28,  1.61s/it]"
          ]
        },
        {
          "output_type": "stream",
          "name": "stdout",
          "text": [
            "Epoch 83, Test loss: 11.610079402015323\n",
            "Epoch 84, Train loss: 10.971971060434978\n"
          ]
        },
        {
          "output_type": "stream",
          "name": "stderr",
          "text": [
            "\r 34%|███▎      | 84/250 [02:13<04:23,  1.59s/it]"
          ]
        },
        {
          "output_type": "stream",
          "name": "stdout",
          "text": [
            "Epoch 84, Test loss: 11.582024332076784\n",
            "Epoch 85, Train loss: 10.954409448835586\n"
          ]
        },
        {
          "output_type": "stream",
          "name": "stderr",
          "text": [
            "\r 34%|███▍      | 85/250 [02:15<04:18,  1.57s/it]"
          ]
        },
        {
          "output_type": "stream",
          "name": "stdout",
          "text": [
            "Epoch 85, Test loss: 11.6314968684363\n",
            "Epoch 86, Train loss: 10.97135520723131\n"
          ]
        },
        {
          "output_type": "stream",
          "name": "stderr",
          "text": [
            "\r 34%|███▍      | 86/250 [02:16<04:14,  1.55s/it]"
          ]
        },
        {
          "output_type": "stream",
          "name": "stdout",
          "text": [
            "Epoch 86, Test loss: 11.642430335756332\n",
            "Epoch 87, Train loss: 10.988190646701389\n"
          ]
        },
        {
          "output_type": "stream",
          "name": "stderr",
          "text": [
            "\r 35%|███▍      | 87/250 [02:18<04:10,  1.54s/it]"
          ]
        },
        {
          "output_type": "stream",
          "name": "stdout",
          "text": [
            "Epoch 87, Test loss: 11.558385394868397\n",
            "Epoch 88, Train loss: 10.965551662445069\n"
          ]
        },
        {
          "output_type": "stream",
          "name": "stderr",
          "text": [
            "\r 35%|███▌      | 88/250 [02:20<04:29,  1.66s/it]"
          ]
        },
        {
          "output_type": "stream",
          "name": "stdout",
          "text": [
            "Epoch 88, Test loss: 11.558585848127093\n",
            "Epoch 89, Train loss: 10.969656482272677\n"
          ]
        },
        {
          "output_type": "stream",
          "name": "stderr",
          "text": [
            "\r 36%|███▌      | 89/250 [02:22<04:26,  1.65s/it]"
          ]
        },
        {
          "output_type": "stream",
          "name": "stdout",
          "text": [
            "Epoch 89, Test loss: 11.555464805118621\n",
            "Epoch 90, Train loss: 10.961864846547444\n"
          ]
        },
        {
          "output_type": "stream",
          "name": "stderr",
          "text": [
            "\r 36%|███▌      | 90/250 [02:23<04:17,  1.61s/it]"
          ]
        },
        {
          "output_type": "stream",
          "name": "stdout",
          "text": [
            "Epoch 90, Test loss: 11.549289052448575\n",
            "Epoch 91, Train loss: 10.959941781361898\n"
          ]
        },
        {
          "output_type": "stream",
          "name": "stderr",
          "text": [
            "\r 36%|███▋      | 91/250 [02:25<04:12,  1.59s/it]"
          ]
        },
        {
          "output_type": "stream",
          "name": "stdout",
          "text": [
            "Epoch 91, Test loss: 11.594947209433904\n",
            "Epoch 92, Train loss: 10.965092955695258\n"
          ]
        },
        {
          "output_type": "stream",
          "name": "stderr",
          "text": [
            "\r 37%|███▋      | 92/250 [02:26<04:06,  1.56s/it]"
          ]
        },
        {
          "output_type": "stream",
          "name": "stdout",
          "text": [
            "Epoch 92, Test loss: 11.54795984237913\n",
            "Epoch 93, Train loss: 10.954178880055746\n"
          ]
        },
        {
          "output_type": "stream",
          "name": "stderr",
          "text": [
            "\r 37%|███▋      | 93/250 [02:28<04:03,  1.55s/it]"
          ]
        },
        {
          "output_type": "stream",
          "name": "stdout",
          "text": [
            "Epoch 93, Test loss: 11.554942494346982\n",
            "Epoch 94, Train loss: 10.950362739562989\n"
          ]
        },
        {
          "output_type": "stream",
          "name": "stderr",
          "text": [
            "\r 38%|███▊      | 94/250 [02:29<04:00,  1.54s/it]"
          ]
        },
        {
          "output_type": "stream",
          "name": "stdout",
          "text": [
            "Epoch 94, Test loss: 11.546286340743777\n",
            "Epoch 95, Train loss: 10.953192679087321\n"
          ]
        },
        {
          "output_type": "stream",
          "name": "stderr",
          "text": [
            "\r 38%|███▊      | 95/250 [02:31<04:05,  1.58s/it]"
          ]
        },
        {
          "output_type": "stream",
          "name": "stdout",
          "text": [
            "Epoch 95, Test loss: 11.573800480554974\n",
            "Epoch 96, Train loss: 10.960293755001492\n"
          ]
        },
        {
          "output_type": "stream",
          "name": "stderr",
          "text": [
            "\r 38%|███▊      | 96/250 [02:33<04:18,  1.68s/it]"
          ]
        },
        {
          "output_type": "stream",
          "name": "stdout",
          "text": [
            "Epoch 96, Test loss: 11.570970088716537\n",
            "Epoch 97, Train loss: 10.951997447543674\n"
          ]
        },
        {
          "output_type": "stream",
          "name": "stderr",
          "text": [
            "\r 39%|███▉      | 97/250 [02:34<04:08,  1.63s/it]"
          ]
        },
        {
          "output_type": "stream",
          "name": "stdout",
          "text": [
            "Epoch 97, Test loss: 11.551748987228152\n",
            "Epoch 98, Train loss: 10.942087099287246\n"
          ]
        },
        {
          "output_type": "stream",
          "name": "stderr",
          "text": [
            "\r 39%|███▉      | 98/250 [02:36<04:02,  1.60s/it]"
          ]
        },
        {
          "output_type": "stream",
          "name": "stdout",
          "text": [
            "Epoch 98, Test loss: 11.55321837228442\n",
            "Epoch 99, Train loss: 10.961106077829998\n"
          ]
        },
        {
          "output_type": "stream",
          "name": "stderr",
          "text": [
            "\r 40%|███▉      | 99/250 [02:37<03:57,  1.57s/it]"
          ]
        },
        {
          "output_type": "stream",
          "name": "stdout",
          "text": [
            "Epoch 99, Test loss: 11.541707583836146\n",
            "Epoch 100, Train loss: 10.942810446421305\n"
          ]
        },
        {
          "output_type": "stream",
          "name": "stderr",
          "text": [
            "\r 40%|████      | 100/250 [02:39<03:52,  1.55s/it]"
          ]
        },
        {
          "output_type": "stream",
          "name": "stdout",
          "text": [
            "Epoch 100, Test loss: 11.543280540950715\n",
            "Epoch 101, Train loss: 10.945038503011068\n"
          ]
        },
        {
          "output_type": "stream",
          "name": "stderr",
          "text": [
            "\r 40%|████      | 101/250 [02:40<03:49,  1.54s/it]"
          ]
        },
        {
          "output_type": "stream",
          "name": "stdout",
          "text": [
            "Epoch 101, Test loss: 11.545688212863983\n",
            "Epoch 102, Train loss: 10.948654793633356\n"
          ]
        },
        {
          "output_type": "stream",
          "name": "stderr",
          "text": [
            "\r 41%|████      | 102/250 [02:42<03:47,  1.54s/it]"
          ]
        },
        {
          "output_type": "stream",
          "name": "stdout",
          "text": [
            "Epoch 102, Test loss: 11.559545153663272\n",
            "Epoch 103, Train loss: 10.943515383402506\n"
          ]
        },
        {
          "output_type": "stream",
          "name": "stderr",
          "text": [
            "\r 41%|████      | 103/250 [02:44<03:59,  1.63s/it]"
          ]
        },
        {
          "output_type": "stream",
          "name": "stdout",
          "text": [
            "Epoch 103, Test loss: 11.550960533202641\n",
            "Epoch 104, Train loss: 10.947380691104465\n"
          ]
        },
        {
          "output_type": "stream",
          "name": "stderr",
          "text": [
            "\r 42%|████▏     | 104/250 [02:45<04:00,  1.65s/it]"
          ]
        },
        {
          "output_type": "stream",
          "name": "stdout",
          "text": [
            "Epoch 104, Test loss: 11.553924560546875\n",
            "Epoch 105, Train loss: 10.939594821929932\n"
          ]
        },
        {
          "output_type": "stream",
          "name": "stderr",
          "text": [
            "\r 42%|████▏     | 105/250 [02:47<03:53,  1.61s/it]"
          ]
        },
        {
          "output_type": "stream",
          "name": "stdout",
          "text": [
            "Epoch 105, Test loss: 11.54320724426754\n",
            "Epoch 106, Train loss: 10.94372355779012\n"
          ]
        },
        {
          "output_type": "stream",
          "name": "stderr",
          "text": [
            "\r 42%|████▏     | 106/250 [02:48<03:48,  1.59s/it]"
          ]
        },
        {
          "output_type": "stream",
          "name": "stdout",
          "text": [
            "Epoch 106, Test loss: 11.549627061874148\n",
            "Epoch 107, Train loss: 10.93869858847724\n"
          ]
        },
        {
          "output_type": "stream",
          "name": "stderr",
          "text": [
            "\r 43%|████▎     | 107/250 [02:50<03:44,  1.57s/it]"
          ]
        },
        {
          "output_type": "stream",
          "name": "stdout",
          "text": [
            "Epoch 107, Test loss: 11.544109253656297\n",
            "Epoch 108, Train loss: 10.937649224599202\n"
          ]
        },
        {
          "output_type": "stream",
          "name": "stderr",
          "text": [
            "\r 43%|████▎     | 108/250 [02:51<03:40,  1.55s/it]"
          ]
        },
        {
          "output_type": "stream",
          "name": "stdout",
          "text": [
            "Epoch 108, Test loss: 11.540478396037269\n",
            "Epoch 109, Train loss: 10.935622005462646\n"
          ]
        },
        {
          "output_type": "stream",
          "name": "stderr",
          "text": [
            "\r 44%|████▎     | 109/250 [02:53<03:36,  1.54s/it]"
          ]
        },
        {
          "output_type": "stream",
          "name": "stdout",
          "text": [
            "Epoch 109, Test loss: 11.540773149520632\n",
            "Epoch 110, Train loss: 10.933029770321316\n"
          ]
        },
        {
          "output_type": "stream",
          "name": "stderr",
          "text": [
            "\r 44%|████▍     | 110/250 [02:55<03:37,  1.55s/it]"
          ]
        },
        {
          "output_type": "stream",
          "name": "stdout",
          "text": [
            "Epoch 110, Test loss: 11.539181663876487\n",
            "Epoch 111, Train loss: 10.934616862403022\n"
          ]
        },
        {
          "output_type": "stream",
          "name": "stderr",
          "text": [
            "\r 44%|████▍     | 111/250 [02:56<03:52,  1.67s/it]"
          ]
        },
        {
          "output_type": "stream",
          "name": "stdout",
          "text": [
            "Epoch 111, Test loss: 11.567241638425797\n",
            "Epoch 112, Train loss: 10.935069391462537\n"
          ]
        },
        {
          "output_type": "stream",
          "name": "stderr",
          "text": [
            "\r 45%|████▍     | 112/250 [02:58<03:42,  1.61s/it]"
          ]
        },
        {
          "output_type": "stream",
          "name": "stdout",
          "text": [
            "Epoch 112, Test loss: 11.548960398113916\n",
            "Epoch 113, Train loss: 10.936574410332573\n"
          ]
        },
        {
          "output_type": "stream",
          "name": "stderr",
          "text": [
            "\r 45%|████▌     | 113/250 [02:59<03:37,  1.59s/it]"
          ]
        },
        {
          "output_type": "stream",
          "name": "stdout",
          "text": [
            "Epoch 113, Test loss: 11.54650804731581\n",
            "Epoch 114, Train loss: 10.935500734117296\n"
          ]
        },
        {
          "output_type": "stream",
          "name": "stderr",
          "text": [
            "\r 46%|████▌     | 114/250 [03:01<03:34,  1.57s/it]"
          ]
        },
        {
          "output_type": "stream",
          "name": "stdout",
          "text": [
            "Epoch 114, Test loss: 11.54325951470269\n",
            "Epoch 115, Train loss: 10.932442898220486\n"
          ]
        },
        {
          "output_type": "stream",
          "name": "stderr",
          "text": [
            "\r 46%|████▌     | 115/250 [03:03<03:31,  1.56s/it]"
          ]
        },
        {
          "output_type": "stream",
          "name": "stdout",
          "text": [
            "Epoch 115, Test loss: 11.54302910396031\n",
            "Epoch 116, Train loss: 10.93443074544271\n"
          ]
        },
        {
          "output_type": "stream",
          "name": "stderr",
          "text": [
            "\r 46%|████▋     | 116/250 [03:04<03:27,  1.55s/it]"
          ]
        },
        {
          "output_type": "stream",
          "name": "stdout",
          "text": [
            "Epoch 116, Test loss: 11.53789336340768\n",
            "Epoch 117, Train loss: 10.933642126719157\n"
          ]
        },
        {
          "output_type": "stream",
          "name": "stderr",
          "text": [
            "\r 47%|████▋     | 117/250 [03:06<03:23,  1.53s/it]"
          ]
        },
        {
          "output_type": "stream",
          "name": "stdout",
          "text": [
            "Epoch 117, Test loss: 11.542709577651252\n",
            "Epoch 118, Train loss: 10.933227458530002\n"
          ]
        },
        {
          "output_type": "stream",
          "name": "stderr",
          "text": [
            "\r 47%|████▋     | 118/250 [03:07<03:31,  1.60s/it]"
          ]
        },
        {
          "output_type": "stream",
          "name": "stdout",
          "text": [
            "Epoch 118, Test loss: 11.541587314908467\n",
            "Epoch 119, Train loss: 10.93253336376614\n"
          ]
        },
        {
          "output_type": "stream",
          "name": "stderr",
          "text": [
            "\r 48%|████▊     | 119/250 [03:09<03:37,  1.66s/it]"
          ]
        },
        {
          "output_type": "stream",
          "name": "stdout",
          "text": [
            "Epoch 119, Test loss: 11.538797635880728\n",
            "Epoch 120, Train loss: 10.931123243967692\n"
          ]
        },
        {
          "output_type": "stream",
          "name": "stderr",
          "text": [
            "\r 48%|████▊     | 120/250 [03:11<03:30,  1.62s/it]"
          ]
        },
        {
          "output_type": "stream",
          "name": "stdout",
          "text": [
            "Epoch 120, Test loss: 11.54309354509626\n",
            "Epoch 121, Train loss: 10.929006748199463\n"
          ]
        },
        {
          "output_type": "stream",
          "name": "stderr",
          "text": [
            "\r 48%|████▊     | 121/250 [03:12<03:25,  1.59s/it]"
          ]
        },
        {
          "output_type": "stream",
          "name": "stdout",
          "text": [
            "Epoch 121, Test loss: 11.54108981480674\n",
            "Epoch 122, Train loss: 10.93345201280382\n"
          ]
        },
        {
          "output_type": "stream",
          "name": "stderr",
          "text": [
            "\r 49%|████▉     | 122/250 [03:14<03:20,  1.57s/it]"
          ]
        },
        {
          "output_type": "stream",
          "name": "stdout",
          "text": [
            "Epoch 122, Test loss: 11.54104655129569\n",
            "Epoch 123, Train loss: 10.930908120473227\n"
          ]
        },
        {
          "output_type": "stream",
          "name": "stderr",
          "text": [
            "\r 49%|████▉     | 123/250 [03:15<03:16,  1.55s/it]"
          ]
        },
        {
          "output_type": "stream",
          "name": "stdout",
          "text": [
            "Epoch 123, Test loss: 11.538026158771817\n",
            "Epoch 124, Train loss: 10.93024905734592\n"
          ]
        },
        {
          "output_type": "stream",
          "name": "stderr",
          "text": [
            "\r 50%|████▉     | 124/250 [03:17<03:13,  1.54s/it]"
          ]
        },
        {
          "output_type": "stream",
          "name": "stdout",
          "text": [
            "Epoch 124, Test loss: 11.5540727055262\n",
            "Epoch 125, Train loss: 10.929686715867785\n"
          ]
        },
        {
          "output_type": "stream",
          "name": "stderr",
          "text": [
            "\r 50%|█████     | 125/250 [03:18<03:11,  1.53s/it]"
          ]
        },
        {
          "output_type": "stream",
          "name": "stdout",
          "text": [
            "Epoch 125, Test loss: 11.545329230172294\n",
            "Epoch 126, Train loss: 10.929226036071777\n"
          ]
        },
        {
          "output_type": "stream",
          "name": "stderr",
          "text": [
            "\r 50%|█████     | 126/250 [03:20<03:27,  1.67s/it]"
          ]
        },
        {
          "output_type": "stream",
          "name": "stdout",
          "text": [
            "Epoch 126, Test loss: 11.544811006576296\n",
            "Epoch 127, Train loss: 10.930840045081245\n"
          ]
        },
        {
          "output_type": "stream",
          "name": "stderr",
          "text": [
            "\r 51%|█████     | 127/250 [03:22<03:21,  1.64s/it]"
          ]
        },
        {
          "output_type": "stream",
          "name": "stdout",
          "text": [
            "Epoch 127, Test loss: 11.539560688866509\n",
            "Epoch 128, Train loss: 10.92896271387736\n"
          ]
        },
        {
          "output_type": "stream",
          "name": "stderr",
          "text": [
            "\r 51%|█████     | 128/250 [03:23<03:15,  1.60s/it]"
          ]
        },
        {
          "output_type": "stream",
          "name": "stdout",
          "text": [
            "Epoch 128, Test loss: 11.53799409714956\n",
            "Epoch 129, Train loss: 10.928617081112332\n"
          ]
        },
        {
          "output_type": "stream",
          "name": "stderr",
          "text": [
            "\r 52%|█████▏    | 129/250 [03:25<03:10,  1.57s/it]"
          ]
        },
        {
          "output_type": "stream",
          "name": "stdout",
          "text": [
            "Epoch 129, Test loss: 11.549899441855294\n",
            "Epoch 130, Train loss: 10.93007656733195\n"
          ]
        },
        {
          "output_type": "stream",
          "name": "stderr",
          "text": [
            "\r 52%|█████▏    | 130/250 [03:26<03:06,  1.56s/it]"
          ]
        },
        {
          "output_type": "stream",
          "name": "stdout",
          "text": [
            "Epoch 130, Test loss: 11.537005681840201\n",
            "Epoch 131, Train loss: 10.926753828260633\n"
          ]
        },
        {
          "output_type": "stream",
          "name": "stderr",
          "text": [
            "\r 52%|█████▏    | 131/250 [03:28<03:02,  1.54s/it]"
          ]
        },
        {
          "output_type": "stream",
          "name": "stdout",
          "text": [
            "Epoch 131, Test loss: 11.548522956787593\n",
            "Epoch 132, Train loss: 10.9263581360711\n"
          ]
        },
        {
          "output_type": "stream",
          "name": "stderr",
          "text": [
            "\r 53%|█████▎    | 132/250 [03:29<03:00,  1.53s/it]"
          ]
        },
        {
          "output_type": "stream",
          "name": "stdout",
          "text": [
            "Epoch 132, Test loss: 11.539192093743218\n"
          ]
        },
        {
          "output_type": "stream",
          "name": "stderr",
          "text": [
            "\r 53%|█████▎    | 132/250 [03:31<03:08,  1.60s/it]"
          ]
        },
        {
          "output_type": "stream",
          "name": "stdout",
          "text": [
            "Epoch 133, Train loss: 10.927998044755723\n"
          ]
        },
        {
          "output_type": "stream",
          "name": "stderr",
          "text": [
            "\n"
          ]
        },
        {
          "output_type": "error",
          "ename": "KeyboardInterrupt",
          "evalue": "",
          "traceback": [
            "\u001b[0;31m---------------------------------------------------------------------------\u001b[0m",
            "\u001b[0;31mKeyboardInterrupt\u001b[0m                         Traceback (most recent call last)",
            "\u001b[0;32m<ipython-input-48-b12c2af7d65d>\u001b[0m in \u001b[0;36m<cell line: 0>\u001b[0;34m()\u001b[0m\n\u001b[1;32m     47\u001b[0m             \u001b[0mtemporal_features\u001b[0m \u001b[0;34m=\u001b[0m \u001b[0mtemporal_features\u001b[0m\u001b[0;34m.\u001b[0m\u001b[0mflatten\u001b[0m\u001b[0;34m(\u001b[0m\u001b[0mstart_dim\u001b[0m\u001b[0;34m=\u001b[0m\u001b[0;36m0\u001b[0m\u001b[0;34m,\u001b[0m \u001b[0mend_dim\u001b[0m\u001b[0;34m=\u001b[0m\u001b[0;36m1\u001b[0m\u001b[0;34m)\u001b[0m\u001b[0;34m\u001b[0m\u001b[0;34m\u001b[0m\u001b[0m\n\u001b[1;32m     48\u001b[0m \u001b[0;34m\u001b[0m\u001b[0m\n\u001b[0;32m---> 49\u001b[0;31m             \u001b[0moutput\u001b[0m \u001b[0;34m=\u001b[0m \u001b[0mmodel\u001b[0m\u001b[0;34m(\u001b[0m\u001b[0mgraph\u001b[0m\u001b[0;34m,\u001b[0m \u001b[0mtemporal_features\u001b[0m\u001b[0;34m)\u001b[0m\u001b[0;34m\u001b[0m\u001b[0;34m\u001b[0m\u001b[0m\n\u001b[0m\u001b[1;32m     50\u001b[0m             \u001b[0mtarget\u001b[0m \u001b[0;34m=\u001b[0m \u001b[0mgraph\u001b[0m\u001b[0;34m.\u001b[0m\u001b[0my\u001b[0m\u001b[0;34m.\u001b[0m\u001b[0mto\u001b[0m\u001b[0;34m(\u001b[0m\u001b[0mdevice\u001b[0m\u001b[0;34m,\u001b[0m \u001b[0mnon_blocking\u001b[0m\u001b[0;34m=\u001b[0m\u001b[0;32mTrue\u001b[0m\u001b[0;34m)\u001b[0m\u001b[0;34m\u001b[0m\u001b[0;34m\u001b[0m\u001b[0m\n\u001b[1;32m     51\u001b[0m \u001b[0;34m\u001b[0m\u001b[0m\n",
            "\u001b[0;32m/usr/local/lib/python3.11/dist-packages/torch/nn/modules/module.py\u001b[0m in \u001b[0;36m_wrapped_call_impl\u001b[0;34m(self, *args, **kwargs)\u001b[0m\n\u001b[1;32m   1734\u001b[0m             \u001b[0;32mreturn\u001b[0m \u001b[0mself\u001b[0m\u001b[0;34m.\u001b[0m\u001b[0m_compiled_call_impl\u001b[0m\u001b[0;34m(\u001b[0m\u001b[0;34m*\u001b[0m\u001b[0margs\u001b[0m\u001b[0;34m,\u001b[0m \u001b[0;34m**\u001b[0m\u001b[0mkwargs\u001b[0m\u001b[0;34m)\u001b[0m  \u001b[0;31m# type: ignore[misc]\u001b[0m\u001b[0;34m\u001b[0m\u001b[0;34m\u001b[0m\u001b[0m\n\u001b[1;32m   1735\u001b[0m         \u001b[0;32melse\u001b[0m\u001b[0;34m:\u001b[0m\u001b[0;34m\u001b[0m\u001b[0;34m\u001b[0m\u001b[0m\n\u001b[0;32m-> 1736\u001b[0;31m             \u001b[0;32mreturn\u001b[0m \u001b[0mself\u001b[0m\u001b[0;34m.\u001b[0m\u001b[0m_call_impl\u001b[0m\u001b[0;34m(\u001b[0m\u001b[0;34m*\u001b[0m\u001b[0margs\u001b[0m\u001b[0;34m,\u001b[0m \u001b[0;34m**\u001b[0m\u001b[0mkwargs\u001b[0m\u001b[0;34m)\u001b[0m\u001b[0;34m\u001b[0m\u001b[0;34m\u001b[0m\u001b[0m\n\u001b[0m\u001b[1;32m   1737\u001b[0m \u001b[0;34m\u001b[0m\u001b[0m\n\u001b[1;32m   1738\u001b[0m     \u001b[0;31m# torchrec tests the code consistency with the following code\u001b[0m\u001b[0;34m\u001b[0m\u001b[0;34m\u001b[0m\u001b[0m\n",
            "\u001b[0;32m/usr/local/lib/python3.11/dist-packages/torch/nn/modules/module.py\u001b[0m in \u001b[0;36m_call_impl\u001b[0;34m(self, *args, **kwargs)\u001b[0m\n\u001b[1;32m   1745\u001b[0m                 \u001b[0;32mor\u001b[0m \u001b[0m_global_backward_pre_hooks\u001b[0m \u001b[0;32mor\u001b[0m \u001b[0m_global_backward_hooks\u001b[0m\u001b[0;34m\u001b[0m\u001b[0;34m\u001b[0m\u001b[0m\n\u001b[1;32m   1746\u001b[0m                 or _global_forward_hooks or _global_forward_pre_hooks):\n\u001b[0;32m-> 1747\u001b[0;31m             \u001b[0;32mreturn\u001b[0m \u001b[0mforward_call\u001b[0m\u001b[0;34m(\u001b[0m\u001b[0;34m*\u001b[0m\u001b[0margs\u001b[0m\u001b[0;34m,\u001b[0m \u001b[0;34m**\u001b[0m\u001b[0mkwargs\u001b[0m\u001b[0;34m)\u001b[0m\u001b[0;34m\u001b[0m\u001b[0;34m\u001b[0m\u001b[0m\n\u001b[0m\u001b[1;32m   1748\u001b[0m \u001b[0;34m\u001b[0m\u001b[0m\n\u001b[1;32m   1749\u001b[0m         \u001b[0mresult\u001b[0m \u001b[0;34m=\u001b[0m \u001b[0;32mNone\u001b[0m\u001b[0;34m\u001b[0m\u001b[0;34m\u001b[0m\u001b[0m\n",
            "\u001b[0;32m<ipython-input-45-cf67d2881529>\u001b[0m in \u001b[0;36mforward\u001b[0;34m(self, graph, temporal_features)\u001b[0m\n\u001b[1;32m      9\u001b[0m \u001b[0;34m\u001b[0m\u001b[0m\n\u001b[1;32m     10\u001b[0m     \u001b[0;32mdef\u001b[0m \u001b[0mforward\u001b[0m\u001b[0;34m(\u001b[0m\u001b[0mself\u001b[0m\u001b[0;34m,\u001b[0m \u001b[0mgraph\u001b[0m\u001b[0;34m,\u001b[0m \u001b[0mtemporal_features\u001b[0m\u001b[0;34m)\u001b[0m\u001b[0;34m:\u001b[0m\u001b[0;34m\u001b[0m\u001b[0;34m\u001b[0m\u001b[0m\n\u001b[0;32m---> 11\u001b[0;31m         \u001b[0mx\u001b[0m \u001b[0;34m=\u001b[0m \u001b[0mself\u001b[0m\u001b[0;34m.\u001b[0m\u001b[0mgcn1\u001b[0m\u001b[0;34m(\u001b[0m\u001b[0mgraph\u001b[0m\u001b[0;34m.\u001b[0m\u001b[0mx\u001b[0m\u001b[0;34m,\u001b[0m \u001b[0mgraph\u001b[0m\u001b[0;34m.\u001b[0m\u001b[0medge_index\u001b[0m\u001b[0;34m)\u001b[0m  \u001b[0;31m# GCN\u001b[0m\u001b[0;34m\u001b[0m\u001b[0;34m\u001b[0m\u001b[0m\n\u001b[0m\u001b[1;32m     12\u001b[0m         \u001b[0mx\u001b[0m \u001b[0;34m=\u001b[0m \u001b[0mF\u001b[0m\u001b[0;34m.\u001b[0m\u001b[0mrelu\u001b[0m\u001b[0;34m(\u001b[0m\u001b[0mx\u001b[0m\u001b[0;34m)\u001b[0m \u001b[0;31m# (num_nodes, hideen_dim)\u001b[0m\u001b[0;34m\u001b[0m\u001b[0;34m\u001b[0m\u001b[0m\n\u001b[1;32m     13\u001b[0m         \u001b[0mx\u001b[0m \u001b[0;34m=\u001b[0m \u001b[0mself\u001b[0m\u001b[0;34m.\u001b[0m\u001b[0mgcn2\u001b[0m\u001b[0;34m(\u001b[0m\u001b[0mx\u001b[0m\u001b[0;34m,\u001b[0m \u001b[0mgraph\u001b[0m\u001b[0;34m.\u001b[0m\u001b[0medge_index\u001b[0m\u001b[0;34m)\u001b[0m  \u001b[0;31m# GCN\u001b[0m\u001b[0;34m\u001b[0m\u001b[0;34m\u001b[0m\u001b[0m\n",
            "\u001b[0;32m/usr/local/lib/python3.11/dist-packages/torch/nn/modules/module.py\u001b[0m in \u001b[0;36m_wrapped_call_impl\u001b[0;34m(self, *args, **kwargs)\u001b[0m\n\u001b[1;32m   1734\u001b[0m             \u001b[0;32mreturn\u001b[0m \u001b[0mself\u001b[0m\u001b[0;34m.\u001b[0m\u001b[0m_compiled_call_impl\u001b[0m\u001b[0;34m(\u001b[0m\u001b[0;34m*\u001b[0m\u001b[0margs\u001b[0m\u001b[0;34m,\u001b[0m \u001b[0;34m**\u001b[0m\u001b[0mkwargs\u001b[0m\u001b[0;34m)\u001b[0m  \u001b[0;31m# type: ignore[misc]\u001b[0m\u001b[0;34m\u001b[0m\u001b[0;34m\u001b[0m\u001b[0m\n\u001b[1;32m   1735\u001b[0m         \u001b[0;32melse\u001b[0m\u001b[0;34m:\u001b[0m\u001b[0;34m\u001b[0m\u001b[0;34m\u001b[0m\u001b[0m\n\u001b[0;32m-> 1736\u001b[0;31m             \u001b[0;32mreturn\u001b[0m \u001b[0mself\u001b[0m\u001b[0;34m.\u001b[0m\u001b[0m_call_impl\u001b[0m\u001b[0;34m(\u001b[0m\u001b[0;34m*\u001b[0m\u001b[0margs\u001b[0m\u001b[0;34m,\u001b[0m \u001b[0;34m**\u001b[0m\u001b[0mkwargs\u001b[0m\u001b[0;34m)\u001b[0m\u001b[0;34m\u001b[0m\u001b[0;34m\u001b[0m\u001b[0m\n\u001b[0m\u001b[1;32m   1737\u001b[0m \u001b[0;34m\u001b[0m\u001b[0m\n\u001b[1;32m   1738\u001b[0m     \u001b[0;31m# torchrec tests the code consistency with the following code\u001b[0m\u001b[0;34m\u001b[0m\u001b[0;34m\u001b[0m\u001b[0m\n",
            "\u001b[0;32m/usr/local/lib/python3.11/dist-packages/torch/nn/modules/module.py\u001b[0m in \u001b[0;36m_call_impl\u001b[0;34m(self, *args, **kwargs)\u001b[0m\n\u001b[1;32m   1745\u001b[0m                 \u001b[0;32mor\u001b[0m \u001b[0m_global_backward_pre_hooks\u001b[0m \u001b[0;32mor\u001b[0m \u001b[0m_global_backward_hooks\u001b[0m\u001b[0;34m\u001b[0m\u001b[0;34m\u001b[0m\u001b[0m\n\u001b[1;32m   1746\u001b[0m                 or _global_forward_hooks or _global_forward_pre_hooks):\n\u001b[0;32m-> 1747\u001b[0;31m             \u001b[0;32mreturn\u001b[0m \u001b[0mforward_call\u001b[0m\u001b[0;34m(\u001b[0m\u001b[0;34m*\u001b[0m\u001b[0margs\u001b[0m\u001b[0;34m,\u001b[0m \u001b[0;34m**\u001b[0m\u001b[0mkwargs\u001b[0m\u001b[0;34m)\u001b[0m\u001b[0;34m\u001b[0m\u001b[0;34m\u001b[0m\u001b[0m\n\u001b[0m\u001b[1;32m   1748\u001b[0m \u001b[0;34m\u001b[0m\u001b[0m\n\u001b[1;32m   1749\u001b[0m         \u001b[0mresult\u001b[0m \u001b[0;34m=\u001b[0m \u001b[0;32mNone\u001b[0m\u001b[0;34m\u001b[0m\u001b[0;34m\u001b[0m\u001b[0m\n",
            "\u001b[0;32m/usr/local/lib/python3.11/dist-packages/torch_geometric/nn/conv/gcn_conv.py\u001b[0m in \u001b[0;36mforward\u001b[0;34m(self, x, edge_index, edge_weight)\u001b[0m\n\u001b[1;32m    261\u001b[0m \u001b[0;34m\u001b[0m\u001b[0m\n\u001b[1;32m    262\u001b[0m         \u001b[0;31m# propagate_type: (x: Tensor, edge_weight: OptTensor)\u001b[0m\u001b[0;34m\u001b[0m\u001b[0;34m\u001b[0m\u001b[0m\n\u001b[0;32m--> 263\u001b[0;31m         \u001b[0mout\u001b[0m \u001b[0;34m=\u001b[0m \u001b[0mself\u001b[0m\u001b[0;34m.\u001b[0m\u001b[0mpropagate\u001b[0m\u001b[0;34m(\u001b[0m\u001b[0medge_index\u001b[0m\u001b[0;34m,\u001b[0m \u001b[0mx\u001b[0m\u001b[0;34m=\u001b[0m\u001b[0mx\u001b[0m\u001b[0;34m,\u001b[0m \u001b[0medge_weight\u001b[0m\u001b[0;34m=\u001b[0m\u001b[0medge_weight\u001b[0m\u001b[0;34m)\u001b[0m\u001b[0;34m\u001b[0m\u001b[0;34m\u001b[0m\u001b[0m\n\u001b[0m\u001b[1;32m    264\u001b[0m \u001b[0;34m\u001b[0m\u001b[0m\n\u001b[1;32m    265\u001b[0m         \u001b[0;32mif\u001b[0m \u001b[0mself\u001b[0m\u001b[0;34m.\u001b[0m\u001b[0mbias\u001b[0m \u001b[0;32mis\u001b[0m \u001b[0;32mnot\u001b[0m \u001b[0;32mNone\u001b[0m\u001b[0;34m:\u001b[0m\u001b[0;34m\u001b[0m\u001b[0;34m\u001b[0m\u001b[0m\n",
            "\u001b[0;32m/tmp/torch_geometric.nn.conv.gcn_conv_GCNConv_propagate_2b79a_z5.py\u001b[0m in \u001b[0;36mpropagate\u001b[0;34m(self, edge_index, x, edge_weight, size)\u001b[0m\n\u001b[1;32m    136\u001b[0m     \u001b[0;31m# End Propagate Forward Pre Hook ###########################################\u001b[0m\u001b[0;34m\u001b[0m\u001b[0;34m\u001b[0m\u001b[0m\n\u001b[1;32m    137\u001b[0m \u001b[0;34m\u001b[0m\u001b[0m\n\u001b[0;32m--> 138\u001b[0;31m     \u001b[0mmutable_size\u001b[0m \u001b[0;34m=\u001b[0m \u001b[0mself\u001b[0m\u001b[0;34m.\u001b[0m\u001b[0m_check_input\u001b[0m\u001b[0;34m(\u001b[0m\u001b[0medge_index\u001b[0m\u001b[0;34m,\u001b[0m \u001b[0msize\u001b[0m\u001b[0;34m)\u001b[0m\u001b[0;34m\u001b[0m\u001b[0;34m\u001b[0m\u001b[0m\n\u001b[0m\u001b[1;32m    139\u001b[0m \u001b[0;34m\u001b[0m\u001b[0m\n\u001b[1;32m    140\u001b[0m     \u001b[0;31m# Run \"fused\" message and aggregation (if applicable).\u001b[0m\u001b[0;34m\u001b[0m\u001b[0;34m\u001b[0m\u001b[0m\n",
            "\u001b[0;32m/usr/local/lib/python3.11/dist-packages/torch_geometric/nn/conv/message_passing.py\u001b[0m in \u001b[0;36m_check_input\u001b[0;34m(self, edge_index, size)\u001b[0m\n\u001b[1;32m    235\u001b[0m                 raise ValueError(f\"Expected 'edge_index' to be two-dimensional\"\n\u001b[1;32m    236\u001b[0m                                  f\" (got {edge_index.dim()} dimensions)\")\n\u001b[0;32m--> 237\u001b[0;31m             \u001b[0;32mif\u001b[0m \u001b[0;32mnot\u001b[0m \u001b[0mtorch\u001b[0m\u001b[0;34m.\u001b[0m\u001b[0mjit\u001b[0m\u001b[0;34m.\u001b[0m\u001b[0mis_tracing\u001b[0m\u001b[0;34m(\u001b[0m\u001b[0;34m)\u001b[0m \u001b[0;32mand\u001b[0m \u001b[0medge_index\u001b[0m\u001b[0;34m.\u001b[0m\u001b[0msize\u001b[0m\u001b[0;34m(\u001b[0m\u001b[0;36m0\u001b[0m\u001b[0;34m)\u001b[0m \u001b[0;34m!=\u001b[0m \u001b[0;36m2\u001b[0m\u001b[0;34m:\u001b[0m\u001b[0;34m\u001b[0m\u001b[0;34m\u001b[0m\u001b[0m\n\u001b[0m\u001b[1;32m    238\u001b[0m                 raise ValueError(f\"Expected 'edge_index' to have size '2' in \"\n\u001b[1;32m    239\u001b[0m                                  \u001b[0;34mf\"the first dimension (got \"\u001b[0m\u001b[0;34m\u001b[0m\u001b[0;34m\u001b[0m\u001b[0m\n",
            "\u001b[0;31mKeyboardInterrupt\u001b[0m: "
          ]
        }
      ],
      "source": [
        "import torch\n",
        "from tqdm import tqdm\n",
        "\n",
        "# Détection du GPU\n",
        "device = torch.device(\"cuda\" if torch.cuda.is_available() else \"cpu\")\n",
        "print(f\"Using device: {device}\")\n",
        "\n",
        "# Initialisation du modèle et des composants d'entraînement\n",
        "model = ImprovedSTGCN(node_features=window_size, hidden_dim=32).to(device)\n",
        "\n",
        "optimizer = torch.optim.Adam(model.parameters(), lr=0.008)\n",
        "scheduler = torch.optim.lr_scheduler.ExponentialLR(optimizer, gamma=0.95)\n",
        "criterion = torch.nn.L1Loss()  # MAE\n",
        "\n",
        "num_epochs = 250\n",
        "\n",
        "# Boucle d'entraînement\n",
        "for epoch in tqdm(range(num_epochs)):\n",
        "    model.train()\n",
        "    train_loss = 0\n",
        "\n",
        "    for graph, temporal_features in train_loader:\n",
        "        graph = graph.to(device)  # Déplacement du graphe sur GPU\n",
        "        temporal_features = temporal_features.to(device, non_blocking=True)\n",
        "        temporal_features = temporal_features.flatten(start_dim=0, end_dim=1)\n",
        "\n",
        "        optimizer.zero_grad()\n",
        "        output = model(graph, temporal_features)\n",
        "        target = graph.y.to(device, non_blocking=True)  # Déplacement de la cible sur GPU\n",
        "\n",
        "        loss = criterion(output, target)\n",
        "        loss.backward()\n",
        "        optimizer.step()\n",
        "        train_loss += loss.item()\n",
        "\n",
        "    scheduler.step()\n",
        "\n",
        "    print(f\"Epoch {epoch+1}, Train loss: {train_loss / len(train_loader)}\")\n",
        "\n",
        "    # Évaluation sur le jeu de test\n",
        "    model.eval()\n",
        "    test_loss = 0\n",
        "    with torch.no_grad():  # Désactivation des gradients pour l'évaluation\n",
        "        for graph, temporal_features in test_loader:\n",
        "            graph = graph.to(device)\n",
        "            temporal_features = temporal_features.to(device, non_blocking=True)\n",
        "            temporal_features = temporal_features.flatten(start_dim=0, end_dim=1)\n",
        "\n",
        "            output = model(graph, temporal_features)\n",
        "            target = graph.y.to(device, non_blocking=True)\n",
        "\n",
        "            loss = criterion(output, target)\n",
        "            test_loss += loss.item()\n",
        "\n",
        "    print(f\"Epoch {epoch+1}, Test loss: {test_loss / len(test_loader)}\")\n"
      ]
    },
    {
      "cell_type": "code",
      "execution_count": 59,
      "metadata": {
        "colab": {
          "base_uri": "https://localhost:8080/"
        },
        "id": "EWJJ4Lfk1vgJ",
        "outputId": "fdf6fe2f-6f58-44c2-e4a2-bd8e56720578"
      },
      "outputs": [
        {
          "output_type": "stream",
          "name": "stdout",
          "text": [
            "Test MAE: 11.541644399128263\n",
            "MAPE for high targets: 0.03323933627042505\n",
            "MAE for low targets: 4.533527544566563\n"
          ]
        }
      ],
      "source": [
        "test_model(model, test_loader, device)"
      ]
    },
    {
      "cell_type": "code",
      "source": [
        "import torch\n",
        "\n",
        "def test_model(model, test_loader, device):\n",
        "    model.to(device)  # S'assurer que le modèle est sur le bon device\n",
        "    model.eval()  # Mode évaluation (désactive dropout, batchnorm...)\n",
        "\n",
        "    loss_mae = 0\n",
        "    loss_mape = 0\n",
        "    MAPE_high_target = 0\n",
        "    MAE_low_target = 0\n",
        "\n",
        "    MAE = CustomMAELoss()\n",
        "    MAPE = CustomMAPELoss()\n",
        "\n",
        "    with torch.no_grad():  # Désactivation des gradients pour économiser la mémoire\n",
        "        for graph, temporal_features in test_loader:\n",
        "            graph = graph.to(device)  # Déplacer le graphe sur GPU\n",
        "            temporal_features = temporal_features.to(device, non_blocking=True).squeeze()\n",
        "            temporal_features = temporal_features.flatten(start_dim=0, end_dim=1)\n",
        "            target = graph.y.to(device, non_blocking=True)  # Déplacer target sur GPU\n",
        "\n",
        "            output = model(graph, temporal_features)  # Prédiction sur GPU\n",
        "\n",
        "            loss_mae += MAE(output, target).item()\n",
        "            loss_mape += MAPE(output, target).item()\n",
        "\n",
        "            MAPE_high_target_, MAE_low_target_ = get_flow_forecasting_metrics(output, target)\n",
        "            MAPE_high_target += float(MAPE_high_target_)\n",
        "            MAE_low_target += float(MAE_low_target_)\n",
        "\n",
        "    print(f\"Test MAE: {loss_mae / len(test_loader)}\")\n",
        "    print(f\"MAPE for high targets: {MAPE_high_target / len(test_loader)}\")\n",
        "    print(f\"MAE for low targets: {MAE_low_target / len(test_loader)}\")\n"
      ],
      "metadata": {
        "id": "lTqRCZn88jW1"
      },
      "execution_count": 58,
      "outputs": []
    },
    {
      "cell_type": "markdown",
      "source": [
        "### Test 2 GPU batch size = 32"
      ],
      "metadata": {
        "id": "LqkTuPj_-GBz"
      }
    },
    {
      "cell_type": "code",
      "source": [
        "import torch\n",
        "from tqdm import tqdm\n",
        "\n",
        "# Détection du GPU\n",
        "device = torch.device(\"cuda\" if torch.cuda.is_available() else \"cpu\")\n",
        "print(f\"Using device: {device}\")\n",
        "\n",
        "# Initialisation du modèle et des composants d'entraînement\n",
        "model = ImprovedSTGCN(node_features=window_size, hidden_dim=32).to(device)\n",
        "\n",
        "optimizer = torch.optim.Adam(model.parameters(), lr=0.008)\n",
        "scheduler = torch.optim.lr_scheduler.ExponentialLR(optimizer, gamma=0.95)\n",
        "criterion = torch.nn.L1Loss()  # MAE\n",
        "\n",
        "num_epochs = 250\n",
        "\n",
        "# Boucle d'entraînement\n",
        "for epoch in tqdm(range(num_epochs)):\n",
        "    model.train()\n",
        "    train_loss = 0\n",
        "\n",
        "    for graph, temporal_features in train_loader:\n",
        "        graph = graph.to(device)  # Déplacement du graphe sur GPU\n",
        "        temporal_features = temporal_features.to(device, non_blocking=True)\n",
        "        temporal_features = temporal_features.flatten(start_dim=0, end_dim=1)\n",
        "\n",
        "        optimizer.zero_grad()\n",
        "        output = model(graph, temporal_features)\n",
        "        target = graph.y.to(device, non_blocking=True)  # Déplacement de la cible sur GPU\n",
        "\n",
        "        loss = criterion(output, target)\n",
        "        loss.backward()\n",
        "        optimizer.step()\n",
        "        train_loss += loss.item()\n",
        "\n",
        "    scheduler.step()\n",
        "\n",
        "    print(f\"Epoch {epoch+1}, Train loss: {train_loss / len(train_loader)}\")\n",
        "\n",
        "    # Évaluation sur le jeu de test\n",
        "    model.eval()\n",
        "    test_loss = 0\n",
        "    with torch.no_grad():  # Désactivation des gradients pour l'évaluation\n",
        "        for graph, temporal_features in test_loader:\n",
        "            graph = graph.to(device)\n",
        "            temporal_features = temporal_features.to(device, non_blocking=True)\n",
        "            temporal_features = temporal_features.flatten(start_dim=0, end_dim=1)\n",
        "\n",
        "            output = model(graph, temporal_features)\n",
        "            target = graph.y.to(device, non_blocking=True)\n",
        "\n",
        "            loss = criterion(output, target)\n",
        "            test_loss += loss.item()\n",
        "\n",
        "    print(f\"Epoch {epoch+1}, Test loss: {test_loss / len(test_loader)}\")\n"
      ],
      "metadata": {
        "colab": {
          "base_uri": "https://localhost:8080/"
        },
        "id": "05Yc33DL-LxR",
        "outputId": "38e82542-571d-4096-c4cb-832a22e5a571"
      },
      "execution_count": 65,
      "outputs": [
        {
          "output_type": "stream",
          "name": "stdout",
          "text": [
            "Using device: cuda\n"
          ]
        },
        {
          "output_type": "stream",
          "name": "stderr",
          "text": [
            "  0%|          | 1/250 [00:00<03:32,  1.17it/s]"
          ]
        },
        {
          "output_type": "stream",
          "name": "stdout",
          "text": [
            "Epoch 1, Train loss: 54.08898611236037\n",
            "Epoch 1, Test loss: 23.367042422294617\n"
          ]
        },
        {
          "output_type": "stream",
          "name": "stderr",
          "text": [
            "\r  1%|          | 2/250 [00:01<03:29,  1.18it/s]"
          ]
        },
        {
          "output_type": "stream",
          "name": "stdout",
          "text": [
            "Epoch 2, Train loss: 21.53876729597125\n",
            "Epoch 2, Test loss: 19.114429712295532\n"
          ]
        },
        {
          "output_type": "stream",
          "name": "stderr",
          "text": [
            "\r  1%|          | 3/250 [00:02<03:27,  1.19it/s]"
          ]
        },
        {
          "output_type": "stream",
          "name": "stdout",
          "text": [
            "Epoch 3, Train loss: 18.34546112595943\n",
            "Epoch 3, Test loss: 17.5321506857872\n"
          ]
        },
        {
          "output_type": "stream",
          "name": "stderr",
          "text": [
            "\r  2%|▏         | 4/250 [00:03<03:23,  1.21it/s]"
          ]
        },
        {
          "output_type": "stream",
          "name": "stdout",
          "text": [
            "Epoch 4, Train loss: 16.818750180696185\n",
            "Epoch 4, Test loss: 16.43060141801834\n"
          ]
        },
        {
          "output_type": "stream",
          "name": "stderr",
          "text": [
            "\r  2%|▏         | 5/250 [00:04<03:21,  1.22it/s]"
          ]
        },
        {
          "output_type": "stream",
          "name": "stdout",
          "text": [
            "Epoch 5, Train loss: 17.156671172694157\n",
            "Epoch 5, Test loss: 16.14548510313034\n"
          ]
        },
        {
          "output_type": "stream",
          "name": "stderr",
          "text": [
            "\r  2%|▏         | 6/250 [00:04<03:19,  1.23it/s]"
          ]
        },
        {
          "output_type": "stream",
          "name": "stdout",
          "text": [
            "Epoch 6, Train loss: 15.822247521919117\n",
            "Epoch 6, Test loss: 19.698681831359863\n"
          ]
        },
        {
          "output_type": "stream",
          "name": "stderr",
          "text": [
            "\r  3%|▎         | 7/250 [00:05<03:16,  1.24it/s]"
          ]
        },
        {
          "output_type": "stream",
          "name": "stdout",
          "text": [
            "Epoch 7, Train loss: 15.30434208585505\n",
            "Epoch 7, Test loss: 19.533953189849854\n"
          ]
        },
        {
          "output_type": "stream",
          "name": "stderr",
          "text": [
            "\r  3%|▎         | 8/250 [00:06<03:14,  1.24it/s]"
          ]
        },
        {
          "output_type": "stream",
          "name": "stdout",
          "text": [
            "Epoch 8, Train loss: 14.682189841019479\n",
            "Epoch 8, Test loss: 15.483303129673004\n"
          ]
        },
        {
          "output_type": "stream",
          "name": "stderr",
          "text": [
            "\r  4%|▎         | 9/250 [00:07<03:12,  1.25it/s]"
          ]
        },
        {
          "output_type": "stream",
          "name": "stdout",
          "text": [
            "Epoch 9, Train loss: 13.752211001881381\n",
            "Epoch 9, Test loss: 13.443357825279236\n"
          ]
        },
        {
          "output_type": "stream",
          "name": "stderr",
          "text": [
            "\r  4%|▍         | 10/250 [00:08<03:11,  1.25it/s]"
          ]
        },
        {
          "output_type": "stream",
          "name": "stdout",
          "text": [
            "Epoch 10, Train loss: 13.33327741790236\n",
            "Epoch 10, Test loss: 13.201192021369934\n"
          ]
        },
        {
          "output_type": "stream",
          "name": "stderr",
          "text": [
            "\r  4%|▍         | 11/250 [00:08<03:09,  1.26it/s]"
          ]
        },
        {
          "output_type": "stream",
          "name": "stdout",
          "text": [
            "Epoch 11, Train loss: 12.997405872010349\n",
            "Epoch 11, Test loss: 13.122751593589783\n"
          ]
        },
        {
          "output_type": "stream",
          "name": "stderr",
          "text": [
            "\r  5%|▍         | 12/250 [00:09<03:18,  1.20it/s]"
          ]
        },
        {
          "output_type": "stream",
          "name": "stdout",
          "text": [
            "Epoch 12, Train loss: 13.165462962368078\n",
            "Epoch 12, Test loss: 12.747293531894684\n",
            "Epoch 13, Train loss: 12.719189526741964\n",
            "Epoch 13, Test loss: 12.639621198177338\n"
          ]
        },
        {
          "output_type": "stream",
          "name": "stderr",
          "text": [
            "  6%|▌         | 14/250 [00:11<03:33,  1.10it/s]"
          ]
        },
        {
          "output_type": "stream",
          "name": "stdout",
          "text": [
            "Epoch 14, Train loss: 12.381753954971046\n",
            "Epoch 14, Test loss: 12.548335433006287\n"
          ]
        },
        {
          "output_type": "stream",
          "name": "stderr",
          "text": [
            "\r  6%|▌         | 15/250 [00:12<03:26,  1.14it/s]"
          ]
        },
        {
          "output_type": "stream",
          "name": "stdout",
          "text": [
            "Epoch 15, Train loss: 12.594492427089758\n",
            "Epoch 15, Test loss: 12.440708637237549\n"
          ]
        },
        {
          "output_type": "stream",
          "name": "stderr",
          "text": [
            "\r  6%|▋         | 16/250 [00:13<03:20,  1.16it/s]"
          ]
        },
        {
          "output_type": "stream",
          "name": "stdout",
          "text": [
            "Epoch 16, Train loss: 12.133564012092457\n",
            "Epoch 16, Test loss: 12.834312856197357\n"
          ]
        },
        {
          "output_type": "stream",
          "name": "stderr",
          "text": [
            "\r  7%|▋         | 17/250 [00:14<03:16,  1.18it/s]"
          ]
        },
        {
          "output_type": "stream",
          "name": "stdout",
          "text": [
            "Epoch 17, Train loss: 12.114244176630388\n",
            "Epoch 17, Test loss: 12.94084757566452\n"
          ]
        },
        {
          "output_type": "stream",
          "name": "stderr",
          "text": [
            "\r  7%|▋         | 18/250 [00:15<03:12,  1.20it/s]"
          ]
        },
        {
          "output_type": "stream",
          "name": "stdout",
          "text": [
            "Epoch 18, Train loss: 12.372023180911416\n",
            "Epoch 18, Test loss: 13.192442119121552\n"
          ]
        },
        {
          "output_type": "stream",
          "name": "stderr",
          "text": [
            "\r  8%|▊         | 19/250 [00:15<03:09,  1.22it/s]"
          ]
        },
        {
          "output_type": "stream",
          "name": "stdout",
          "text": [
            "Epoch 19, Train loss: 11.838144452948319\n",
            "Epoch 19, Test loss: 12.17224407196045\n"
          ]
        },
        {
          "output_type": "stream",
          "name": "stderr",
          "text": [
            "\r  8%|▊         | 20/250 [00:16<03:07,  1.22it/s]"
          ]
        },
        {
          "output_type": "stream",
          "name": "stdout",
          "text": [
            "Epoch 20, Train loss: 11.798050428691663\n",
            "Epoch 20, Test loss: 12.924906015396118\n"
          ]
        },
        {
          "output_type": "stream",
          "name": "stderr",
          "text": [
            "\r  8%|▊         | 21/250 [00:17<03:05,  1.23it/s]"
          ]
        },
        {
          "output_type": "stream",
          "name": "stdout",
          "text": [
            "Epoch 21, Train loss: 11.647923569930228\n",
            "Epoch 21, Test loss: 12.168374478816986\n"
          ]
        },
        {
          "output_type": "stream",
          "name": "stderr",
          "text": [
            "\r  9%|▉         | 22/250 [00:18<03:02,  1.25it/s]"
          ]
        },
        {
          "output_type": "stream",
          "name": "stdout",
          "text": [
            "Epoch 22, Train loss: 11.61495528304786\n",
            "Epoch 22, Test loss: 12.369209706783295\n"
          ]
        },
        {
          "output_type": "stream",
          "name": "stderr",
          "text": [
            "\r  9%|▉         | 23/250 [00:19<03:01,  1.25it/s]"
          ]
        },
        {
          "output_type": "stream",
          "name": "stdout",
          "text": [
            "Epoch 23, Train loss: 11.5651877888462\n",
            "Epoch 23, Test loss: 12.98803585767746\n"
          ]
        },
        {
          "output_type": "stream",
          "name": "stderr",
          "text": [
            "\r 10%|▉         | 24/250 [00:19<02:59,  1.26it/s]"
          ]
        },
        {
          "output_type": "stream",
          "name": "stdout",
          "text": [
            "Epoch 24, Train loss: 11.716608532688074\n",
            "Epoch 24, Test loss: 11.988594353199005\n"
          ]
        },
        {
          "output_type": "stream",
          "name": "stderr",
          "text": [
            "\r 10%|█         | 25/250 [00:20<02:58,  1.26it/s]"
          ]
        },
        {
          "output_type": "stream",
          "name": "stdout",
          "text": [
            "Epoch 25, Train loss: 11.482769096106814\n",
            "Epoch 25, Test loss: 12.338828802108765\n"
          ]
        },
        {
          "output_type": "stream",
          "name": "stderr",
          "text": [
            "\r 10%|█         | 26/250 [00:21<02:58,  1.25it/s]"
          ]
        },
        {
          "output_type": "stream",
          "name": "stdout",
          "text": [
            "Epoch 26, Train loss: 11.725459048622533\n",
            "Epoch 26, Test loss: 12.432707726955414\n"
          ]
        },
        {
          "output_type": "stream",
          "name": "stderr",
          "text": [
            "\r 11%|█         | 27/250 [00:22<03:11,  1.16it/s]"
          ]
        },
        {
          "output_type": "stream",
          "name": "stdout",
          "text": [
            "Epoch 27, Train loss: 11.54852937397204\n",
            "Epoch 27, Test loss: 11.972380995750427\n"
          ]
        },
        {
          "output_type": "stream",
          "name": "stderr",
          "text": [
            "\r 11%|█         | 28/250 [00:23<03:23,  1.09it/s]"
          ]
        },
        {
          "output_type": "stream",
          "name": "stdout",
          "text": [
            "Epoch 28, Train loss: 11.646568783542566\n",
            "Epoch 28, Test loss: 12.778493463993073\n"
          ]
        },
        {
          "output_type": "stream",
          "name": "stderr",
          "text": [
            "\r 12%|█▏        | 29/250 [00:24<03:15,  1.13it/s]"
          ]
        },
        {
          "output_type": "stream",
          "name": "stdout",
          "text": [
            "Epoch 29, Train loss: 11.569933489749307\n",
            "Epoch 29, Test loss: 12.122897148132324\n"
          ]
        },
        {
          "output_type": "stream",
          "name": "stderr",
          "text": [
            "\r 12%|█▏        | 30/250 [00:25<03:08,  1.17it/s]"
          ]
        },
        {
          "output_type": "stream",
          "name": "stdout",
          "text": [
            "Epoch 30, Train loss: 11.47330981806705\n",
            "Epoch 30, Test loss: 11.938200891017914\n"
          ]
        },
        {
          "output_type": "stream",
          "name": "stderr",
          "text": [
            "\r 12%|█▏        | 31/250 [00:25<03:04,  1.19it/s]"
          ]
        },
        {
          "output_type": "stream",
          "name": "stdout",
          "text": [
            "Epoch 31, Train loss: 11.472976015325179\n",
            "Epoch 31, Test loss: 11.887764811515808\n"
          ]
        },
        {
          "output_type": "stream",
          "name": "stderr",
          "text": [
            "\r 13%|█▎        | 32/250 [00:26<03:01,  1.20it/s]"
          ]
        },
        {
          "output_type": "stream",
          "name": "stdout",
          "text": [
            "Epoch 32, Train loss: 11.539470622414036\n",
            "Epoch 32, Test loss: 12.06480461359024\n"
          ]
        },
        {
          "output_type": "stream",
          "name": "stderr",
          "text": [
            "\r 13%|█▎        | 33/250 [00:27<02:57,  1.22it/s]"
          ]
        },
        {
          "output_type": "stream",
          "name": "stdout",
          "text": [
            "Epoch 33, Train loss: 11.502288349887781\n",
            "Epoch 33, Test loss: 12.11974847316742\n"
          ]
        },
        {
          "output_type": "stream",
          "name": "stderr",
          "text": [
            "\r 14%|█▎        | 34/250 [00:28<02:55,  1.23it/s]"
          ]
        },
        {
          "output_type": "stream",
          "name": "stdout",
          "text": [
            "Epoch 34, Train loss: 11.434682929724978\n",
            "Epoch 34, Test loss: 11.919776856899261\n"
          ]
        },
        {
          "output_type": "stream",
          "name": "stderr",
          "text": [
            "\r 14%|█▍        | 35/250 [00:29<02:55,  1.23it/s]"
          ]
        },
        {
          "output_type": "stream",
          "name": "stdout",
          "text": [
            "Epoch 35, Train loss: 11.453868799042283\n",
            "Epoch 35, Test loss: 11.998774945735931\n"
          ]
        },
        {
          "output_type": "stream",
          "name": "stderr",
          "text": [
            "\r 14%|█▍        | 36/250 [00:29<02:53,  1.23it/s]"
          ]
        },
        {
          "output_type": "stream",
          "name": "stdout",
          "text": [
            "Epoch 36, Train loss: 11.400741727728592\n",
            "Epoch 36, Test loss: 12.006669461727142\n"
          ]
        },
        {
          "output_type": "stream",
          "name": "stderr",
          "text": [
            "\r 15%|█▍        | 37/250 [00:30<02:50,  1.25it/s]"
          ]
        },
        {
          "output_type": "stream",
          "name": "stdout",
          "text": [
            "Epoch 37, Train loss: 11.396208930433842\n",
            "Epoch 37, Test loss: 11.940809786319733\n"
          ]
        },
        {
          "output_type": "stream",
          "name": "stderr",
          "text": [
            "\r 15%|█▌        | 38/250 [00:31<02:49,  1.25it/s]"
          ]
        },
        {
          "output_type": "stream",
          "name": "stdout",
          "text": [
            "Epoch 38, Train loss: 11.401971147771468\n",
            "Epoch 38, Test loss: 12.50910609960556\n"
          ]
        },
        {
          "output_type": "stream",
          "name": "stderr",
          "text": [
            "\r 16%|█▌        | 39/250 [00:32<02:48,  1.25it/s]"
          ]
        },
        {
          "output_type": "stream",
          "name": "stdout",
          "text": [
            "Epoch 39, Train loss: 11.367168510169314\n",
            "Epoch 39, Test loss: 12.127117931842804\n"
          ]
        },
        {
          "output_type": "stream",
          "name": "stderr",
          "text": [
            "\r 16%|█▌        | 40/250 [00:33<02:57,  1.18it/s]"
          ]
        },
        {
          "output_type": "stream",
          "name": "stdout",
          "text": [
            "Epoch 40, Train loss: 11.48867396304482\n",
            "Epoch 40, Test loss: 12.022212505340576\n",
            "Epoch 41, Train loss: 11.402652974714313\n"
          ]
        },
        {
          "output_type": "stream",
          "name": "stderr",
          "text": [
            "\r 16%|█▋        | 41/250 [00:34<03:37,  1.04s/it]"
          ]
        },
        {
          "output_type": "stream",
          "name": "stdout",
          "text": [
            "Epoch 41, Test loss: 12.0445237159729\n"
          ]
        },
        {
          "output_type": "stream",
          "name": "stderr",
          "text": [
            "\r 17%|█▋        | 42/250 [00:35<03:36,  1.04s/it]"
          ]
        },
        {
          "output_type": "stream",
          "name": "stdout",
          "text": [
            "Epoch 42, Train loss: 11.394540786743164\n",
            "Epoch 42, Test loss: 11.955009937286377\n"
          ]
        },
        {
          "output_type": "stream",
          "name": "stderr",
          "text": [
            "\r 17%|█▋        | 43/250 [00:36<03:22,  1.02it/s]"
          ]
        },
        {
          "output_type": "stream",
          "name": "stdout",
          "text": [
            "Epoch 43, Train loss: 11.373894256457948\n",
            "Epoch 43, Test loss: 12.009594321250916\n"
          ]
        },
        {
          "output_type": "stream",
          "name": "stderr",
          "text": [
            "\r 18%|█▊        | 44/250 [00:37<03:11,  1.07it/s]"
          ]
        },
        {
          "output_type": "stream",
          "name": "stdout",
          "text": [
            "Epoch 44, Train loss: 11.32798091152258\n",
            "Epoch 44, Test loss: 11.91694039106369\n"
          ]
        },
        {
          "output_type": "stream",
          "name": "stderr",
          "text": [
            "\r 18%|█▊        | 45/250 [00:38<03:05,  1.10it/s]"
          ]
        },
        {
          "output_type": "stream",
          "name": "stdout",
          "text": [
            "Epoch 45, Train loss: 11.377781182004695\n",
            "Epoch 45, Test loss: 11.889051795005798\n"
          ]
        },
        {
          "output_type": "stream",
          "name": "stderr",
          "text": [
            "\r 18%|█▊        | 46/250 [00:39<02:59,  1.14it/s]"
          ]
        },
        {
          "output_type": "stream",
          "name": "stdout",
          "text": [
            "Epoch 46, Train loss: 11.400590193899054\n",
            "Epoch 46, Test loss: 11.890419661998749\n"
          ]
        },
        {
          "output_type": "stream",
          "name": "stderr",
          "text": [
            "\r 19%|█▉        | 47/250 [00:39<02:53,  1.17it/s]"
          ]
        },
        {
          "output_type": "stream",
          "name": "stdout",
          "text": [
            "Epoch 47, Train loss: 11.314407449019583\n",
            "Epoch 47, Test loss: 11.944909393787384\n"
          ]
        },
        {
          "output_type": "stream",
          "name": "stderr",
          "text": [
            "\r 19%|█▉        | 48/250 [00:40<02:49,  1.19it/s]"
          ]
        },
        {
          "output_type": "stream",
          "name": "stdout",
          "text": [
            "Epoch 48, Train loss: 11.325891377633077\n",
            "Epoch 48, Test loss: 11.945693016052246\n"
          ]
        },
        {
          "output_type": "stream",
          "name": "stderr",
          "text": [
            "\r 20%|█▉        | 49/250 [00:41<02:46,  1.21it/s]"
          ]
        },
        {
          "output_type": "stream",
          "name": "stdout",
          "text": [
            "Epoch 49, Train loss: 11.36766703086987\n",
            "Epoch 49, Test loss: 11.980297267436981\n"
          ]
        },
        {
          "output_type": "stream",
          "name": "stderr",
          "text": [
            "\r 20%|██        | 50/250 [00:42<02:43,  1.22it/s]"
          ]
        },
        {
          "output_type": "stream",
          "name": "stdout",
          "text": [
            "Epoch 50, Train loss: 11.277808172660961\n",
            "Epoch 50, Test loss: 11.90288656949997\n"
          ]
        },
        {
          "output_type": "stream",
          "name": "stderr",
          "text": [
            "\r 20%|██        | 51/250 [00:43<02:41,  1.23it/s]"
          ]
        },
        {
          "output_type": "stream",
          "name": "stdout",
          "text": [
            "Epoch 51, Train loss: 11.375331544039541\n",
            "Epoch 51, Test loss: 11.941077291965485\n"
          ]
        },
        {
          "output_type": "stream",
          "name": "stderr",
          "text": [
            "\r 21%|██        | 52/250 [00:43<02:40,  1.24it/s]"
          ]
        },
        {
          "output_type": "stream",
          "name": "stdout",
          "text": [
            "Epoch 52, Train loss: 11.312361181828013\n",
            "Epoch 52, Test loss: 11.998645186424255\n"
          ]
        },
        {
          "output_type": "stream",
          "name": "stderr",
          "text": [
            "\r 21%|██        | 53/250 [00:44<02:38,  1.25it/s]"
          ]
        },
        {
          "output_type": "stream",
          "name": "stdout",
          "text": [
            "Epoch 53, Train loss: 11.398309640717088\n",
            "Epoch 53, Test loss: 12.109277725219727\n"
          ]
        },
        {
          "output_type": "stream",
          "name": "stderr",
          "text": [
            "\r 22%|██▏       | 54/250 [00:45<02:40,  1.22it/s]"
          ]
        },
        {
          "output_type": "stream",
          "name": "stdout",
          "text": [
            "Epoch 54, Train loss: 11.325997369331226\n",
            "Epoch 54, Test loss: 12.014334738254547\n"
          ]
        },
        {
          "output_type": "stream",
          "name": "stderr",
          "text": [
            "\r 22%|██▏       | 55/250 [00:46<02:48,  1.16it/s]"
          ]
        },
        {
          "output_type": "stream",
          "name": "stdout",
          "text": [
            "Epoch 55, Train loss: 11.30797503287332\n",
            "Epoch 55, Test loss: 11.874593198299408\n"
          ]
        },
        {
          "output_type": "stream",
          "name": "stderr",
          "text": [
            "\r 22%|██▏       | 56/250 [00:47<02:57,  1.09it/s]"
          ]
        },
        {
          "output_type": "stream",
          "name": "stdout",
          "text": [
            "Epoch 56, Train loss: 11.313411361292788\n",
            "Epoch 56, Test loss: 11.864701449871063\n"
          ]
        },
        {
          "output_type": "stream",
          "name": "stderr",
          "text": [
            "\r 23%|██▎       | 57/250 [00:48<02:54,  1.11it/s]"
          ]
        },
        {
          "output_type": "stream",
          "name": "stdout",
          "text": [
            "Epoch 57, Train loss: 11.35208849321332\n",
            "Epoch 57, Test loss: 11.95994383096695\n"
          ]
        },
        {
          "output_type": "stream",
          "name": "stderr",
          "text": [
            "\r 23%|██▎       | 58/250 [00:49<02:47,  1.15it/s]"
          ]
        },
        {
          "output_type": "stream",
          "name": "stdout",
          "text": [
            "Epoch 58, Train loss: 11.301723028484144\n",
            "Epoch 58, Test loss: 11.897713243961334\n"
          ]
        },
        {
          "output_type": "stream",
          "name": "stderr",
          "text": [
            "\r 24%|██▎       | 59/250 [00:49<02:42,  1.17it/s]"
          ]
        },
        {
          "output_type": "stream",
          "name": "stdout",
          "text": [
            "Epoch 59, Train loss: 11.257890718025074\n",
            "Epoch 59, Test loss: 11.861123502254486\n"
          ]
        },
        {
          "output_type": "stream",
          "name": "stderr",
          "text": [
            "\r 24%|██▍       | 60/250 [00:50<02:39,  1.19it/s]"
          ]
        },
        {
          "output_type": "stream",
          "name": "stdout",
          "text": [
            "Epoch 60, Train loss: 11.28063342445775\n",
            "Epoch 60, Test loss: 11.916341781616211\n"
          ]
        },
        {
          "output_type": "stream",
          "name": "stderr",
          "text": [
            "\r 24%|██▍       | 61/250 [00:51<02:36,  1.21it/s]"
          ]
        },
        {
          "output_type": "stream",
          "name": "stdout",
          "text": [
            "Epoch 61, Train loss: 11.301162786651076\n",
            "Epoch 61, Test loss: 11.83966612815857\n"
          ]
        },
        {
          "output_type": "stream",
          "name": "stderr",
          "text": [
            "\r 25%|██▍       | 62/250 [00:52<02:33,  1.23it/s]"
          ]
        },
        {
          "output_type": "stream",
          "name": "stdout",
          "text": [
            "Epoch 62, Train loss: 11.258057326601262\n",
            "Epoch 62, Test loss: 11.868400812149048\n"
          ]
        },
        {
          "output_type": "stream",
          "name": "stderr",
          "text": [
            "\r 25%|██▌       | 63/250 [00:53<02:31,  1.23it/s]"
          ]
        },
        {
          "output_type": "stream",
          "name": "stdout",
          "text": [
            "Epoch 63, Train loss: 11.291685823808637\n",
            "Epoch 63, Test loss: 11.906338930130005\n"
          ]
        },
        {
          "output_type": "stream",
          "name": "stderr",
          "text": [
            "\r 26%|██▌       | 64/250 [00:53<02:29,  1.24it/s]"
          ]
        },
        {
          "output_type": "stream",
          "name": "stdout",
          "text": [
            "Epoch 64, Train loss: 11.27833650823225\n",
            "Epoch 64, Test loss: 11.893366277217865\n"
          ]
        },
        {
          "output_type": "stream",
          "name": "stderr",
          "text": [
            "\r 26%|██▌       | 65/250 [00:54<02:27,  1.25it/s]"
          ]
        },
        {
          "output_type": "stream",
          "name": "stdout",
          "text": [
            "Epoch 65, Train loss: 11.263034352085047\n",
            "Epoch 65, Test loss: 11.859601080417633\n"
          ]
        },
        {
          "output_type": "stream",
          "name": "stderr",
          "text": [
            "\r 26%|██▋       | 66/250 [00:55<02:26,  1.25it/s]"
          ]
        },
        {
          "output_type": "stream",
          "name": "stdout",
          "text": [
            "Epoch 66, Train loss: 11.268125433670846\n",
            "Epoch 66, Test loss: 11.801271677017212\n"
          ]
        },
        {
          "output_type": "stream",
          "name": "stderr",
          "text": [
            "\r 27%|██▋       | 67/250 [00:56<02:25,  1.26it/s]"
          ]
        },
        {
          "output_type": "stream",
          "name": "stdout",
          "text": [
            "Epoch 67, Train loss: 11.235050301802787\n",
            "Epoch 67, Test loss: 11.946898341178894\n"
          ]
        },
        {
          "output_type": "stream",
          "name": "stderr",
          "text": [
            "\r 27%|██▋       | 68/250 [00:57<02:24,  1.26it/s]"
          ]
        },
        {
          "output_type": "stream",
          "name": "stdout",
          "text": [
            "Epoch 68, Train loss: 11.301062215838517\n",
            "Epoch 68, Test loss: 11.810535311698914\n",
            "Epoch 69, Train loss: 11.210239084143387\n"
          ]
        },
        {
          "output_type": "stream",
          "name": "stderr",
          "text": [
            "\r 28%|██▊       | 69/250 [00:57<02:27,  1.23it/s]"
          ]
        },
        {
          "output_type": "stream",
          "name": "stdout",
          "text": [
            "Epoch 69, Test loss: 11.905273377895355\n"
          ]
        },
        {
          "output_type": "stream",
          "name": "stderr",
          "text": [
            "\r 28%|██▊       | 70/250 [00:58<02:37,  1.14it/s]"
          ]
        },
        {
          "output_type": "stream",
          "name": "stdout",
          "text": [
            "Epoch 70, Train loss: 11.299757639567057\n",
            "Epoch 70, Test loss: 11.983868718147278\n"
          ]
        },
        {
          "output_type": "stream",
          "name": "stderr",
          "text": [
            "\r 28%|██▊       | 71/250 [01:00<02:44,  1.09it/s]"
          ]
        },
        {
          "output_type": "stream",
          "name": "stdout",
          "text": [
            "Epoch 71, Train loss: 11.317250117920993\n",
            "Epoch 71, Test loss: 11.84100991487503\n"
          ]
        },
        {
          "output_type": "stream",
          "name": "stderr",
          "text": [
            "\r 29%|██▉       | 72/250 [01:00<02:37,  1.13it/s]"
          ]
        },
        {
          "output_type": "stream",
          "name": "stdout",
          "text": [
            "Epoch 72, Train loss: 11.246320239284582\n",
            "Epoch 72, Test loss: 11.9071364402771\n"
          ]
        },
        {
          "output_type": "stream",
          "name": "stderr",
          "text": [
            "\r 29%|██▉       | 73/250 [01:01<02:32,  1.16it/s]"
          ]
        },
        {
          "output_type": "stream",
          "name": "stdout",
          "text": [
            "Epoch 73, Train loss: 11.283757937581916\n",
            "Epoch 73, Test loss: 11.82728785276413\n"
          ]
        },
        {
          "output_type": "stream",
          "name": "stderr",
          "text": [
            "\r 30%|██▉       | 74/250 [01:02<02:28,  1.19it/s]"
          ]
        },
        {
          "output_type": "stream",
          "name": "stdout",
          "text": [
            "Epoch 74, Train loss: 11.245011965433756\n",
            "Epoch 74, Test loss: 11.846164166927338\n"
          ]
        },
        {
          "output_type": "stream",
          "name": "stderr",
          "text": [
            "\r 30%|███       | 75/250 [01:03<02:25,  1.20it/s]"
          ]
        },
        {
          "output_type": "stream",
          "name": "stdout",
          "text": [
            "Epoch 75, Train loss: 11.299704250536466\n",
            "Epoch 75, Test loss: 11.833230435848236\n"
          ]
        },
        {
          "output_type": "stream",
          "name": "stderr",
          "text": [
            "\r 30%|███       | 76/250 [01:04<02:22,  1.22it/s]"
          ]
        },
        {
          "output_type": "stream",
          "name": "stdout",
          "text": [
            "Epoch 76, Train loss: 11.262852049710459\n",
            "Epoch 76, Test loss: 11.825880289077759\n"
          ]
        },
        {
          "output_type": "stream",
          "name": "stderr",
          "text": [
            "\r 31%|███       | 77/250 [01:04<02:20,  1.23it/s]"
          ]
        },
        {
          "output_type": "stream",
          "name": "stdout",
          "text": [
            "Epoch 77, Train loss: 11.2596996039675\n",
            "Epoch 77, Test loss: 11.836589395999908\n"
          ]
        },
        {
          "output_type": "stream",
          "name": "stderr",
          "text": [
            "\r 31%|███       | 78/250 [01:05<02:18,  1.24it/s]"
          ]
        },
        {
          "output_type": "stream",
          "name": "stdout",
          "text": [
            "Epoch 78, Train loss: 11.216010578891687\n",
            "Epoch 78, Test loss: 11.845616042613983\n"
          ]
        },
        {
          "output_type": "stream",
          "name": "stderr",
          "text": [
            "\r 32%|███▏      | 79/250 [01:06<02:17,  1.25it/s]"
          ]
        },
        {
          "output_type": "stream",
          "name": "stdout",
          "text": [
            "Epoch 79, Train loss: 11.258610775596217\n",
            "Epoch 79, Test loss: 11.841879963874817\n"
          ]
        },
        {
          "output_type": "stream",
          "name": "stderr",
          "text": [
            "\r 32%|███▏      | 80/250 [01:07<02:15,  1.25it/s]"
          ]
        },
        {
          "output_type": "stream",
          "name": "stdout",
          "text": [
            "Epoch 80, Train loss: 11.220462916190165\n",
            "Epoch 80, Test loss: 11.85695743560791\n"
          ]
        },
        {
          "output_type": "stream",
          "name": "stderr",
          "text": [
            "\r 32%|███▏      | 81/250 [01:08<02:17,  1.23it/s]"
          ]
        },
        {
          "output_type": "stream",
          "name": "stdout",
          "text": [
            "Epoch 81, Train loss: 11.275027626439146\n",
            "Epoch 81, Test loss: 11.843992531299591\n"
          ]
        },
        {
          "output_type": "stream",
          "name": "stderr",
          "text": [
            "\r 33%|███▎      | 82/250 [01:08<02:15,  1.24it/s]"
          ]
        },
        {
          "output_type": "stream",
          "name": "stdout",
          "text": [
            "Epoch 82, Train loss: 11.250963277984084\n",
            "Epoch 82, Test loss: 11.84489631652832\n"
          ]
        },
        {
          "output_type": "stream",
          "name": "stderr",
          "text": [
            "\r 33%|███▎      | 83/250 [01:09<02:14,  1.24it/s]"
          ]
        },
        {
          "output_type": "stream",
          "name": "stdout",
          "text": [
            "Epoch 83, Train loss: 11.300098184953656\n",
            "Epoch 83, Test loss: 11.827615737915039\n"
          ]
        },
        {
          "output_type": "stream",
          "name": "stderr",
          "text": [
            "\r 34%|███▎      | 84/250 [01:10<02:21,  1.17it/s]"
          ]
        },
        {
          "output_type": "stream",
          "name": "stdout",
          "text": [
            "Epoch 84, Train loss: 11.238612258643435\n",
            "Epoch 84, Test loss: 11.831477463245392\n",
            "Epoch 85, Train loss: 11.249219091315018\n"
          ]
        },
        {
          "output_type": "stream",
          "name": "stderr",
          "text": [
            "\r 34%|███▍      | 85/250 [01:11<02:30,  1.10it/s]"
          ]
        },
        {
          "output_type": "stream",
          "name": "stdout",
          "text": [
            "Epoch 85, Test loss: 11.859949588775635\n"
          ]
        },
        {
          "output_type": "stream",
          "name": "stderr",
          "text": [
            "\r 34%|███▍      | 86/250 [01:12<02:28,  1.10it/s]"
          ]
        },
        {
          "output_type": "stream",
          "name": "stdout",
          "text": [
            "Epoch 86, Train loss: 11.290883867364181\n",
            "Epoch 86, Test loss: 11.876118183135986\n"
          ]
        },
        {
          "output_type": "stream",
          "name": "stderr",
          "text": [
            "\r 35%|███▍      | 87/250 [01:13<02:23,  1.13it/s]"
          ]
        },
        {
          "output_type": "stream",
          "name": "stdout",
          "text": [
            "Epoch 87, Train loss: 11.266399182771382\n",
            "Epoch 87, Test loss: 11.824433982372284\n"
          ]
        },
        {
          "output_type": "stream",
          "name": "stderr",
          "text": [
            "\r 35%|███▌      | 88/250 [01:14<02:19,  1.16it/s]"
          ]
        },
        {
          "output_type": "stream",
          "name": "stdout",
          "text": [
            "Epoch 88, Train loss: 11.244832524082117\n",
            "Epoch 88, Test loss: 11.902095079421997\n"
          ]
        },
        {
          "output_type": "stream",
          "name": "stderr",
          "text": [
            "\r 36%|███▌      | 89/250 [01:15<02:33,  1.05it/s]"
          ]
        },
        {
          "output_type": "stream",
          "name": "stdout",
          "text": [
            "Epoch 89, Train loss: 11.240526734736928\n",
            "Epoch 89, Test loss: 11.82056051492691\n"
          ]
        },
        {
          "output_type": "stream",
          "name": "stderr",
          "text": [
            "\r 36%|███▌      | 90/250 [01:16<02:26,  1.10it/s]"
          ]
        },
        {
          "output_type": "stream",
          "name": "stdout",
          "text": [
            "Epoch 90, Train loss: 11.227266646268076\n",
            "Epoch 90, Test loss: 11.808857321739197\n"
          ]
        },
        {
          "output_type": "stream",
          "name": "stderr",
          "text": [
            "\r 36%|███▋      | 91/250 [01:16<02:19,  1.14it/s]"
          ]
        },
        {
          "output_type": "stream",
          "name": "stdout",
          "text": [
            "Epoch 91, Train loss: 11.312678571332965\n",
            "Epoch 91, Test loss: 11.84213376045227\n"
          ]
        },
        {
          "output_type": "stream",
          "name": "stderr",
          "text": [
            "\r 37%|███▋      | 92/250 [01:17<02:14,  1.17it/s]"
          ]
        },
        {
          "output_type": "stream",
          "name": "stdout",
          "text": [
            "Epoch 92, Train loss: 11.287085047939367\n",
            "Epoch 92, Test loss: 11.840731978416443\n"
          ]
        },
        {
          "output_type": "stream",
          "name": "stderr",
          "text": [
            "\r 37%|███▋      | 93/250 [01:18<02:10,  1.20it/s]"
          ]
        },
        {
          "output_type": "stream",
          "name": "stdout",
          "text": [
            "Epoch 93, Train loss: 11.223735257198935\n",
            "Epoch 93, Test loss: 11.818349838256836\n"
          ]
        },
        {
          "output_type": "stream",
          "name": "stderr",
          "text": [
            "\r 38%|███▊      | 94/250 [01:19<02:08,  1.22it/s]"
          ]
        },
        {
          "output_type": "stream",
          "name": "stdout",
          "text": [
            "Epoch 94, Train loss: 11.19957939783732\n",
            "Epoch 94, Test loss: 11.801591217517853\n"
          ]
        },
        {
          "output_type": "stream",
          "name": "stderr",
          "text": [
            "\r 38%|███▊      | 95/250 [01:20<02:05,  1.23it/s]"
          ]
        },
        {
          "output_type": "stream",
          "name": "stdout",
          "text": [
            "Epoch 95, Train loss: 11.215668979444002\n",
            "Epoch 95, Test loss: 11.813665509223938\n"
          ]
        },
        {
          "output_type": "stream",
          "name": "stderr",
          "text": [
            "\r 38%|███▊      | 96/250 [01:20<02:04,  1.24it/s]"
          ]
        },
        {
          "output_type": "stream",
          "name": "stdout",
          "text": [
            "Epoch 96, Train loss: 11.259734488370126\n",
            "Epoch 96, Test loss: 11.84566342830658\n"
          ]
        },
        {
          "output_type": "stream",
          "name": "stderr",
          "text": [
            "\r 39%|███▉      | 97/250 [01:21<02:02,  1.24it/s]"
          ]
        },
        {
          "output_type": "stream",
          "name": "stdout",
          "text": [
            "Epoch 97, Train loss: 11.204027627643786\n",
            "Epoch 97, Test loss: 11.837238907814026\n"
          ]
        },
        {
          "output_type": "stream",
          "name": "stderr",
          "text": [
            "\r 39%|███▉      | 98/250 [01:22<02:09,  1.17it/s]"
          ]
        },
        {
          "output_type": "stream",
          "name": "stdout",
          "text": [
            "Epoch 98, Train loss: 11.227362800062748\n",
            "Epoch 98, Test loss: 11.84548807144165\n",
            "Epoch 99, Train loss: 11.23562699033503\n"
          ]
        },
        {
          "output_type": "stream",
          "name": "stderr",
          "text": [
            "\r 40%|███▉      | 99/250 [01:23<02:16,  1.11it/s]"
          ]
        },
        {
          "output_type": "stream",
          "name": "stdout",
          "text": [
            "Epoch 99, Test loss: 11.82842469215393\n"
          ]
        },
        {
          "output_type": "stream",
          "name": "stderr",
          "text": [
            "\r 40%|████      | 100/250 [01:24<02:18,  1.08it/s]"
          ]
        },
        {
          "output_type": "stream",
          "name": "stdout",
          "text": [
            "Epoch 100, Train loss: 11.198446014471221\n",
            "Epoch 100, Test loss: 11.82154095172882\n"
          ]
        },
        {
          "output_type": "stream",
          "name": "stderr",
          "text": [
            "\r 40%|████      | 101/250 [01:25<02:15,  1.10it/s]"
          ]
        },
        {
          "output_type": "stream",
          "name": "stdout",
          "text": [
            "Epoch 101, Train loss: 11.25349305805407\n",
            "Epoch 101, Test loss: 11.82988852262497\n"
          ]
        },
        {
          "output_type": "stream",
          "name": "stderr",
          "text": [
            "\r 41%|████      | 102/250 [01:26<02:11,  1.12it/s]"
          ]
        },
        {
          "output_type": "stream",
          "name": "stdout",
          "text": [
            "Epoch 102, Train loss: 11.226350901419657\n",
            "Epoch 102, Test loss: 11.877627670764923\n"
          ]
        },
        {
          "output_type": "stream",
          "name": "stderr",
          "text": [
            "\r 41%|████      | 103/250 [01:27<02:07,  1.16it/s]"
          ]
        },
        {
          "output_type": "stream",
          "name": "stdout",
          "text": [
            "Epoch 103, Train loss: 11.251497670223838\n",
            "Epoch 103, Test loss: 11.843938291072845\n"
          ]
        },
        {
          "output_type": "stream",
          "name": "stderr",
          "text": [
            "\r 42%|████▏     | 104/250 [01:28<02:03,  1.18it/s]"
          ]
        },
        {
          "output_type": "stream",
          "name": "stdout",
          "text": [
            "Epoch 104, Train loss: 11.251404979772735\n",
            "Epoch 104, Test loss: 11.82918393611908\n"
          ]
        },
        {
          "output_type": "stream",
          "name": "stderr",
          "text": [
            "\r 42%|████▏     | 105/250 [01:28<02:02,  1.19it/s]"
          ]
        },
        {
          "output_type": "stream",
          "name": "stdout",
          "text": [
            "Epoch 105, Train loss: 11.204530063428377\n",
            "Epoch 105, Test loss: 11.786680579185486\n"
          ]
        },
        {
          "output_type": "stream",
          "name": "stderr",
          "text": [
            "\r 42%|████▏     | 106/250 [01:29<01:59,  1.21it/s]"
          ]
        },
        {
          "output_type": "stream",
          "name": "stdout",
          "text": [
            "Epoch 106, Train loss: 11.263920951307865\n",
            "Epoch 106, Test loss: 11.795449793338776\n"
          ]
        },
        {
          "output_type": "stream",
          "name": "stderr",
          "text": [
            "\r 43%|████▎     | 107/250 [01:30<01:58,  1.21it/s]"
          ]
        },
        {
          "output_type": "stream",
          "name": "stdout",
          "text": [
            "Epoch 107, Train loss: 11.246975212766413\n",
            "Epoch 107, Test loss: 11.840599834918976\n"
          ]
        },
        {
          "output_type": "stream",
          "name": "stderr",
          "text": [
            "\r 43%|████▎     | 108/250 [01:31<01:58,  1.20it/s]"
          ]
        },
        {
          "output_type": "stream",
          "name": "stdout",
          "text": [
            "Epoch 108, Train loss: 11.217173760397392\n",
            "Epoch 108, Test loss: 11.811777770519257\n"
          ]
        },
        {
          "output_type": "stream",
          "name": "stderr",
          "text": [
            "\r 44%|████▎     | 109/250 [01:32<01:57,  1.20it/s]"
          ]
        },
        {
          "output_type": "stream",
          "name": "stdout",
          "text": [
            "Epoch 109, Train loss: 11.231689603705155\n",
            "Epoch 109, Test loss: 11.843432307243347\n"
          ]
        },
        {
          "output_type": "stream",
          "name": "stderr",
          "text": [
            "\r 44%|████▍     | 110/250 [01:32<01:56,  1.20it/s]"
          ]
        },
        {
          "output_type": "stream",
          "name": "stdout",
          "text": [
            "Epoch 110, Train loss: 11.206541613528604\n",
            "Epoch 110, Test loss: 11.81550145149231\n"
          ]
        },
        {
          "output_type": "stream",
          "name": "stderr",
          "text": [
            "\r 44%|████▍     | 111/250 [01:33<01:56,  1.19it/s]"
          ]
        },
        {
          "output_type": "stream",
          "name": "stdout",
          "text": [
            "Epoch 111, Train loss: 11.252314333330121\n",
            "Epoch 111, Test loss: 11.844986081123352\n"
          ]
        },
        {
          "output_type": "stream",
          "name": "stderr",
          "text": [
            "\r 45%|████▍     | 112/250 [01:34<02:05,  1.10it/s]"
          ]
        },
        {
          "output_type": "stream",
          "name": "stdout",
          "text": [
            "Epoch 112, Train loss: 11.199960675155907\n",
            "Epoch 112, Test loss: 11.822210252285004\n",
            "Epoch 113, Train loss: 11.254696946395072\n"
          ]
        },
        {
          "output_type": "stream",
          "name": "stderr",
          "text": [
            "\r 45%|████▌     | 113/250 [01:36<02:14,  1.02it/s]"
          ]
        },
        {
          "output_type": "stream",
          "name": "stdout",
          "text": [
            "Epoch 113, Test loss: 11.833541691303253\n"
          ]
        },
        {
          "output_type": "stream",
          "name": "stderr",
          "text": [
            "\r 46%|████▌     | 114/250 [01:37<02:13,  1.02it/s]"
          ]
        },
        {
          "output_type": "stream",
          "name": "stdout",
          "text": [
            "Epoch 114, Train loss: 11.214262309827303\n",
            "Epoch 114, Test loss: 11.831666707992554\n"
          ]
        },
        {
          "output_type": "stream",
          "name": "stderr",
          "text": [
            "\r 46%|████▌     | 115/250 [01:37<02:09,  1.04it/s]"
          ]
        },
        {
          "output_type": "stream",
          "name": "stdout",
          "text": [
            "Epoch 115, Train loss: 11.26454572510301\n",
            "Epoch 115, Test loss: 11.826395809650421\n"
          ]
        },
        {
          "output_type": "stream",
          "name": "stderr",
          "text": [
            "\r 46%|████▋     | 116/250 [01:38<02:06,  1.06it/s]"
          ]
        },
        {
          "output_type": "stream",
          "name": "stdout",
          "text": [
            "Epoch 116, Train loss: 11.278164319824754\n",
            "Epoch 116, Test loss: 11.841625690460205\n"
          ]
        },
        {
          "output_type": "stream",
          "name": "stderr",
          "text": [
            "\r 47%|████▋     | 117/250 [01:39<02:03,  1.07it/s]"
          ]
        },
        {
          "output_type": "stream",
          "name": "stdout",
          "text": [
            "Epoch 117, Train loss: 11.226682780081767\n",
            "Epoch 117, Test loss: 11.817876636981964\n"
          ]
        },
        {
          "output_type": "stream",
          "name": "stderr",
          "text": [
            "\r 47%|████▋     | 118/250 [01:40<02:00,  1.09it/s]"
          ]
        },
        {
          "output_type": "stream",
          "name": "stdout",
          "text": [
            "Epoch 118, Train loss: 11.21746255640398\n",
            "Epoch 118, Test loss: 11.821039378643036\n"
          ]
        },
        {
          "output_type": "stream",
          "name": "stderr",
          "text": [
            "\r 48%|████▊     | 119/250 [01:41<01:57,  1.12it/s]"
          ]
        },
        {
          "output_type": "stream",
          "name": "stdout",
          "text": [
            "Epoch 119, Train loss: 11.192317628023916\n",
            "Epoch 119, Test loss: 11.779529869556427\n"
          ]
        },
        {
          "output_type": "stream",
          "name": "stderr",
          "text": [
            "\r 48%|████▊     | 120/250 [01:42<01:55,  1.13it/s]"
          ]
        },
        {
          "output_type": "stream",
          "name": "stdout",
          "text": [
            "Epoch 120, Train loss: 11.256356348071183\n",
            "Epoch 120, Test loss: 11.829138576984406\n"
          ]
        },
        {
          "output_type": "stream",
          "name": "stderr",
          "text": [
            "\r 48%|████▊     | 121/250 [01:43<01:52,  1.14it/s]"
          ]
        },
        {
          "output_type": "stream",
          "name": "stdout",
          "text": [
            "Epoch 121, Train loss: 11.200713492276376\n",
            "Epoch 121, Test loss: 11.846262156963348\n"
          ]
        },
        {
          "output_type": "stream",
          "name": "stderr",
          "text": [
            "\r 49%|████▉     | 122/250 [01:44<01:50,  1.15it/s]"
          ]
        },
        {
          "output_type": "stream",
          "name": "stdout",
          "text": [
            "Epoch 122, Train loss: 11.221834918908906\n",
            "Epoch 122, Test loss: 11.835252702236176\n"
          ]
        },
        {
          "output_type": "stream",
          "name": "stderr",
          "text": [
            "\r 49%|████▉     | 123/250 [01:44<01:47,  1.18it/s]"
          ]
        },
        {
          "output_type": "stream",
          "name": "stdout",
          "text": [
            "Epoch 123, Train loss: 11.267356537936026\n",
            "Epoch 123, Test loss: 11.791526854038239\n"
          ]
        },
        {
          "output_type": "stream",
          "name": "stderr",
          "text": [
            "\r 50%|████▉     | 124/250 [01:45<01:45,  1.19it/s]"
          ]
        },
        {
          "output_type": "stream",
          "name": "stdout",
          "text": [
            "Epoch 124, Train loss: 11.185534293191475\n",
            "Epoch 124, Test loss: 11.824965715408325\n",
            "Epoch 125, Train loss: 11.199157706478186\n"
          ]
        },
        {
          "output_type": "stream",
          "name": "stderr",
          "text": [
            "\r 50%|█████     | 125/250 [01:46<01:47,  1.17it/s]"
          ]
        },
        {
          "output_type": "stream",
          "name": "stdout",
          "text": [
            "Epoch 125, Test loss: 11.869949042797089\n"
          ]
        },
        {
          "output_type": "stream",
          "name": "stderr",
          "text": [
            "\r 50%|█████     | 126/250 [01:47<01:52,  1.10it/s]"
          ]
        },
        {
          "output_type": "stream",
          "name": "stdout",
          "text": [
            "Epoch 126, Train loss: 11.266411346301698\n",
            "Epoch 126, Test loss: 11.81684285402298\n"
          ]
        },
        {
          "output_type": "stream",
          "name": "stderr",
          "text": [
            "\r 51%|█████     | 127/250 [01:48<01:57,  1.05it/s]"
          ]
        },
        {
          "output_type": "stream",
          "name": "stdout",
          "text": [
            "Epoch 127, Train loss: 11.242874496861509\n",
            "Epoch 127, Test loss: 11.811139404773712\n"
          ]
        },
        {
          "output_type": "stream",
          "name": "stderr",
          "text": [
            "\r 51%|█████     | 128/250 [01:49<01:51,  1.09it/s]"
          ]
        },
        {
          "output_type": "stream",
          "name": "stdout",
          "text": [
            "Epoch 128, Train loss: 11.245999102006879\n",
            "Epoch 128, Test loss: 11.814339637756348\n"
          ]
        },
        {
          "output_type": "stream",
          "name": "stderr",
          "text": [
            "\r 52%|█████▏    | 129/250 [01:50<01:48,  1.12it/s]"
          ]
        },
        {
          "output_type": "stream",
          "name": "stdout",
          "text": [
            "Epoch 129, Train loss: 11.226790913364344\n",
            "Epoch 129, Test loss: 11.831943273544312\n"
          ]
        },
        {
          "output_type": "stream",
          "name": "stderr",
          "text": [
            "\r 52%|█████▏    | 130/250 [01:51<01:44,  1.15it/s]"
          ]
        },
        {
          "output_type": "stream",
          "name": "stdout",
          "text": [
            "Epoch 130, Train loss: 11.280133414686771\n",
            "Epoch 130, Test loss: 11.816043138504028\n"
          ]
        },
        {
          "output_type": "stream",
          "name": "stderr",
          "text": [
            "\r 52%|█████▏    | 131/250 [01:51<01:41,  1.17it/s]"
          ]
        },
        {
          "output_type": "stream",
          "name": "stdout",
          "text": [
            "Epoch 131, Train loss: 11.182730080788595\n",
            "Epoch 131, Test loss: 11.804570257663727\n"
          ]
        },
        {
          "output_type": "stream",
          "name": "stderr",
          "text": [
            "\r 53%|█████▎    | 132/250 [01:52<01:38,  1.19it/s]"
          ]
        },
        {
          "output_type": "stream",
          "name": "stdout",
          "text": [
            "Epoch 132, Train loss: 11.243476784020139\n",
            "Epoch 132, Test loss: 11.819783508777618\n"
          ]
        },
        {
          "output_type": "stream",
          "name": "stderr",
          "text": [
            "\r 53%|█████▎    | 133/250 [01:53<01:37,  1.21it/s]"
          ]
        },
        {
          "output_type": "stream",
          "name": "stdout",
          "text": [
            "Epoch 133, Train loss: 11.320163810462283\n",
            "Epoch 133, Test loss: 11.845504879951477\n"
          ]
        },
        {
          "output_type": "stream",
          "name": "stderr",
          "text": [
            "\r 54%|█████▎    | 134/250 [01:54<01:34,  1.22it/s]"
          ]
        },
        {
          "output_type": "stream",
          "name": "stdout",
          "text": [
            "Epoch 134, Train loss: 11.233934452659206\n",
            "Epoch 134, Test loss: 11.816129565238953\n"
          ]
        },
        {
          "output_type": "stream",
          "name": "stderr",
          "text": [
            "\r 54%|█████▍    | 135/250 [01:55<01:32,  1.24it/s]"
          ]
        },
        {
          "output_type": "stream",
          "name": "stdout",
          "text": [
            "Epoch 135, Train loss: 11.246763028596577\n",
            "Epoch 135, Test loss: 11.842256784439087\n"
          ]
        },
        {
          "output_type": "stream",
          "name": "stderr",
          "text": [
            "\r 54%|█████▍    | 136/250 [01:55<01:31,  1.25it/s]"
          ]
        },
        {
          "output_type": "stream",
          "name": "stdout",
          "text": [
            "Epoch 136, Train loss: 11.235610292668929\n",
            "Epoch 136, Test loss: 11.821979522705078\n"
          ]
        },
        {
          "output_type": "stream",
          "name": "stderr",
          "text": [
            "\r 55%|█████▍    | 137/250 [01:56<01:30,  1.25it/s]"
          ]
        },
        {
          "output_type": "stream",
          "name": "stdout",
          "text": [
            "Epoch 137, Train loss: 11.237772439655505\n",
            "Epoch 137, Test loss: 11.856294512748718\n"
          ]
        },
        {
          "output_type": "stream",
          "name": "stderr",
          "text": [
            "\r 55%|█████▌    | 138/250 [01:57<01:28,  1.26it/s]"
          ]
        },
        {
          "output_type": "stream",
          "name": "stdout",
          "text": [
            "Epoch 138, Train loss: 11.230448170712119\n",
            "Epoch 138, Test loss: 11.874465465545654\n"
          ]
        },
        {
          "output_type": "stream",
          "name": "stderr",
          "text": [
            "\r 56%|█████▌    | 139/250 [01:58<01:27,  1.27it/s]"
          ]
        },
        {
          "output_type": "stream",
          "name": "stdout",
          "text": [
            "Epoch 139, Train loss: 11.223189186631588\n",
            "Epoch 139, Test loss: 11.830291390419006\n"
          ]
        },
        {
          "output_type": "stream",
          "name": "stderr",
          "text": [
            "\r 56%|█████▌    | 140/250 [01:59<01:33,  1.18it/s]"
          ]
        },
        {
          "output_type": "stream",
          "name": "stdout",
          "text": [
            "Epoch 140, Train loss: 11.258775443361516\n",
            "Epoch 140, Test loss: 11.819410383701324\n",
            "Epoch 141, Train loss: 11.267932975501346\n"
          ]
        },
        {
          "output_type": "stream",
          "name": "stderr",
          "text": [
            "\r 56%|█████▋    | 141/250 [02:00<01:38,  1.11it/s]"
          ]
        },
        {
          "output_type": "stream",
          "name": "stdout",
          "text": [
            "Epoch 141, Test loss: 11.81389045715332\n"
          ]
        },
        {
          "output_type": "stream",
          "name": "stderr",
          "text": [
            "\r 57%|█████▋    | 142/250 [02:01<01:36,  1.12it/s]"
          ]
        },
        {
          "output_type": "stream",
          "name": "stdout",
          "text": [
            "Epoch 142, Train loss: 11.185218610261616\n",
            "Epoch 142, Test loss: 11.829108715057373\n"
          ]
        },
        {
          "output_type": "stream",
          "name": "stderr",
          "text": [
            "\r 57%|█████▋    | 143/250 [02:01<01:32,  1.15it/s]"
          ]
        },
        {
          "output_type": "stream",
          "name": "stdout",
          "text": [
            "Epoch 143, Train loss: 11.206809027153149\n",
            "Epoch 143, Test loss: 11.794768929481506\n"
          ]
        },
        {
          "output_type": "stream",
          "name": "stderr",
          "text": [
            "\r 58%|█████▊    | 144/250 [02:02<01:29,  1.18it/s]"
          ]
        },
        {
          "output_type": "stream",
          "name": "stdout",
          "text": [
            "Epoch 144, Train loss: 11.214361876772161\n",
            "Epoch 144, Test loss: 11.844901144504547\n"
          ]
        },
        {
          "output_type": "stream",
          "name": "stderr",
          "text": [
            "\r 58%|█████▊    | 145/250 [02:03<01:27,  1.20it/s]"
          ]
        },
        {
          "output_type": "stream",
          "name": "stdout",
          "text": [
            "Epoch 145, Train loss: 11.274628639221191\n",
            "Epoch 145, Test loss: 11.809557318687439\n"
          ]
        },
        {
          "output_type": "stream",
          "name": "stderr",
          "text": [
            "\r 58%|█████▊    | 146/250 [02:04<01:25,  1.22it/s]"
          ]
        },
        {
          "output_type": "stream",
          "name": "stdout",
          "text": [
            "Epoch 146, Train loss: 11.206340555559125\n",
            "Epoch 146, Test loss: 11.838143527507782\n"
          ]
        },
        {
          "output_type": "stream",
          "name": "stderr",
          "text": [
            "\r 59%|█████▉    | 147/250 [02:05<01:24,  1.22it/s]"
          ]
        },
        {
          "output_type": "stream",
          "name": "stdout",
          "text": [
            "Epoch 147, Train loss: 11.238659975821513\n",
            "Epoch 147, Test loss: 11.824533224105835\n"
          ]
        },
        {
          "output_type": "stream",
          "name": "stderr",
          "text": [
            "\r 59%|█████▉    | 148/250 [02:05<01:22,  1.23it/s]"
          ]
        },
        {
          "output_type": "stream",
          "name": "stdout",
          "text": [
            "Epoch 148, Train loss: 11.225316382291025\n",
            "Epoch 148, Test loss: 11.797202050685883\n"
          ]
        },
        {
          "output_type": "stream",
          "name": "stderr",
          "text": [
            "\r 60%|█████▉    | 149/250 [02:06<01:21,  1.24it/s]"
          ]
        },
        {
          "output_type": "stream",
          "name": "stdout",
          "text": [
            "Epoch 149, Train loss: 11.189575964944405\n",
            "Epoch 149, Test loss: 11.820306479930878\n"
          ]
        },
        {
          "output_type": "stream",
          "name": "stderr",
          "text": [
            "\r 60%|██████    | 150/250 [02:07<01:19,  1.25it/s]"
          ]
        },
        {
          "output_type": "stream",
          "name": "stdout",
          "text": [
            "Epoch 150, Train loss: 11.241904526426081\n",
            "Epoch 150, Test loss: 11.793253302574158\n"
          ]
        },
        {
          "output_type": "stream",
          "name": "stderr",
          "text": [
            "\r 60%|██████    | 151/250 [02:08<01:18,  1.26it/s]"
          ]
        },
        {
          "output_type": "stream",
          "name": "stdout",
          "text": [
            "Epoch 151, Train loss: 11.265526545675177\n",
            "Epoch 151, Test loss: 11.837968587875366\n",
            "Epoch 152, Train loss: 11.309387441267047\n"
          ]
        },
        {
          "output_type": "stream",
          "name": "stderr",
          "text": [
            "\r 61%|██████    | 152/250 [02:09<01:23,  1.17it/s]"
          ]
        },
        {
          "output_type": "stream",
          "name": "stdout",
          "text": [
            "Epoch 152, Test loss: 11.816649973392487\n"
          ]
        },
        {
          "output_type": "stream",
          "name": "stderr",
          "text": [
            "\r 61%|██████    | 153/250 [02:10<01:23,  1.17it/s]"
          ]
        },
        {
          "output_type": "stream",
          "name": "stdout",
          "text": [
            "Epoch 153, Train loss: 11.292127876950984\n",
            "Epoch 153, Test loss: 11.789503574371338\n",
            "Epoch 154, Train loss: 11.236178264283298\n"
          ]
        },
        {
          "output_type": "stream",
          "name": "stderr",
          "text": [
            "\r 62%|██████▏   | 154/250 [02:11<01:36,  1.01s/it]"
          ]
        },
        {
          "output_type": "stream",
          "name": "stdout",
          "text": [
            "Epoch 154, Test loss: 11.820603907108307\n",
            "Epoch 155, Train loss: 11.24613268333569\n"
          ]
        },
        {
          "output_type": "stream",
          "name": "stderr",
          "text": [
            "\r 62%|██████▏   | 155/250 [02:12<01:37,  1.03s/it]"
          ]
        },
        {
          "output_type": "stream",
          "name": "stdout",
          "text": [
            "Epoch 155, Test loss: 11.860604107379913\n"
          ]
        },
        {
          "output_type": "stream",
          "name": "stderr",
          "text": [
            "\r 62%|██████▏   | 156/250 [02:13<01:31,  1.03it/s]"
          ]
        },
        {
          "output_type": "stream",
          "name": "stdout",
          "text": [
            "Epoch 156, Train loss: 11.256437887225236\n",
            "Epoch 156, Test loss: 11.837571203708649\n"
          ]
        },
        {
          "output_type": "stream",
          "name": "stderr",
          "text": [
            "\r 63%|██████▎   | 157/250 [02:14<01:25,  1.09it/s]"
          ]
        },
        {
          "output_type": "stream",
          "name": "stdout",
          "text": [
            "Epoch 157, Train loss: 11.19880211144163\n",
            "Epoch 157, Test loss: 11.812462210655212\n"
          ]
        },
        {
          "output_type": "stream",
          "name": "stderr",
          "text": [
            "\r 63%|██████▎   | 158/250 [02:15<01:21,  1.13it/s]"
          ]
        },
        {
          "output_type": "stream",
          "name": "stdout",
          "text": [
            "Epoch 158, Train loss: 11.257293299624795\n",
            "Epoch 158, Test loss: 11.813188374042511\n"
          ]
        },
        {
          "output_type": "stream",
          "name": "stderr",
          "text": [
            "\r 64%|██████▎   | 159/250 [02:15<01:17,  1.17it/s]"
          ]
        },
        {
          "output_type": "stream",
          "name": "stdout",
          "text": [
            "Epoch 159, Train loss: 11.198708935787803\n",
            "Epoch 159, Test loss: 11.797530114650726\n"
          ]
        },
        {
          "output_type": "stream",
          "name": "stderr",
          "text": [
            "\r 64%|██████▍   | 160/250 [02:16<01:15,  1.19it/s]"
          ]
        },
        {
          "output_type": "stream",
          "name": "stdout",
          "text": [
            "Epoch 160, Train loss: 11.22159512837728\n",
            "Epoch 160, Test loss: 11.844097971916199\n"
          ]
        },
        {
          "output_type": "stream",
          "name": "stderr",
          "text": [
            "\r 64%|██████▍   | 161/250 [02:17<01:13,  1.21it/s]"
          ]
        },
        {
          "output_type": "stream",
          "name": "stdout",
          "text": [
            "Epoch 161, Train loss: 11.226643980595103\n",
            "Epoch 161, Test loss: 11.806467115879059\n"
          ]
        },
        {
          "output_type": "stream",
          "name": "stderr",
          "text": [
            "\r 65%|██████▍   | 162/250 [02:18<01:11,  1.23it/s]"
          ]
        },
        {
          "output_type": "stream",
          "name": "stdout",
          "text": [
            "Epoch 162, Train loss: 11.207822983725029\n",
            "Epoch 162, Test loss: 11.81434029340744\n"
          ]
        },
        {
          "output_type": "stream",
          "name": "stderr",
          "text": [
            "\r 65%|██████▌   | 163/250 [02:19<01:10,  1.24it/s]"
          ]
        },
        {
          "output_type": "stream",
          "name": "stdout",
          "text": [
            "Epoch 163, Train loss: 11.194813092549643\n",
            "Epoch 163, Test loss: 11.819398641586304\n"
          ]
        },
        {
          "output_type": "stream",
          "name": "stderr",
          "text": [
            "\r 66%|██████▌   | 164/250 [02:19<01:08,  1.25it/s]"
          ]
        },
        {
          "output_type": "stream",
          "name": "stdout",
          "text": [
            "Epoch 164, Train loss: 11.25886559068111\n",
            "Epoch 164, Test loss: 11.81172651052475\n"
          ]
        },
        {
          "output_type": "stream",
          "name": "stderr",
          "text": [
            "\r 66%|██████▌   | 165/250 [02:20<01:07,  1.26it/s]"
          ]
        },
        {
          "output_type": "stream",
          "name": "stdout",
          "text": [
            "Epoch 165, Train loss: 11.22806441993044\n",
            "Epoch 165, Test loss: 11.822308838367462\n"
          ]
        },
        {
          "output_type": "stream",
          "name": "stderr",
          "text": [
            "\r 66%|██████▋   | 166/250 [02:21<01:06,  1.26it/s]"
          ]
        },
        {
          "output_type": "stream",
          "name": "stdout",
          "text": [
            "Epoch 166, Train loss: 11.215265993486371\n",
            "Epoch 166, Test loss: 11.793351590633392\n"
          ]
        },
        {
          "output_type": "stream",
          "name": "stderr",
          "text": [
            "\r 67%|██████▋   | 167/250 [02:22<01:05,  1.26it/s]"
          ]
        },
        {
          "output_type": "stream",
          "name": "stdout",
          "text": [
            "Epoch 167, Train loss: 11.176563488809686\n",
            "Epoch 167, Test loss: 11.82750552892685\n"
          ]
        },
        {
          "output_type": "stream",
          "name": "stderr",
          "text": [
            "\r 67%|██████▋   | 168/250 [02:23<01:07,  1.22it/s]"
          ]
        },
        {
          "output_type": "stream",
          "name": "stdout",
          "text": [
            "Epoch 168, Train loss: 11.197604547467147\n",
            "Epoch 168, Test loss: 11.837870478630066\n",
            "Epoch 169, Train loss: 11.206769943237305\n"
          ]
        },
        {
          "output_type": "stream",
          "name": "stderr",
          "text": [
            "\r 68%|██████▊   | 169/250 [02:24<01:28,  1.09s/it]"
          ]
        },
        {
          "output_type": "stream",
          "name": "stdout",
          "text": [
            "Epoch 169, Test loss: 11.799215734004974\n",
            "Epoch 170, Train loss: 11.320558313737836\n"
          ]
        },
        {
          "output_type": "stream",
          "name": "stderr",
          "text": [
            "\r 68%|██████▊   | 170/250 [02:25<01:27,  1.09s/it]"
          ]
        },
        {
          "output_type": "stream",
          "name": "stdout",
          "text": [
            "Epoch 170, Test loss: 11.7790487408638\n"
          ]
        },
        {
          "output_type": "stream",
          "name": "stderr",
          "text": [
            "\r 68%|██████▊   | 171/250 [02:26<01:23,  1.05s/it]"
          ]
        },
        {
          "output_type": "stream",
          "name": "stdout",
          "text": [
            "Epoch 171, Train loss: 11.178404933527895\n",
            "Epoch 171, Test loss: 11.812683284282684\n"
          ]
        },
        {
          "output_type": "stream",
          "name": "stderr",
          "text": [
            "\r 69%|██████▉   | 172/250 [02:27<01:20,  1.04s/it]"
          ]
        },
        {
          "output_type": "stream",
          "name": "stdout",
          "text": [
            "Epoch 172, Train loss: 11.191845659624066\n",
            "Epoch 172, Test loss: 11.807424426078796\n"
          ]
        },
        {
          "output_type": "stream",
          "name": "stderr",
          "text": [
            "\r 69%|██████▉   | 173/250 [02:28<01:20,  1.04s/it]"
          ]
        },
        {
          "output_type": "stream",
          "name": "stdout",
          "text": [
            "Epoch 173, Train loss: 11.245120266027618\n",
            "Epoch 173, Test loss: 11.802720546722412\n"
          ]
        },
        {
          "output_type": "stream",
          "name": "stderr",
          "text": [
            "\r 70%|██████▉   | 174/250 [02:29<01:17,  1.02s/it]"
          ]
        },
        {
          "output_type": "stream",
          "name": "stdout",
          "text": [
            "Epoch 174, Train loss: 11.26131798928244\n",
            "Epoch 174, Test loss: 11.897812128067017\n",
            "Epoch 175, Train loss: 11.220545659985458\n"
          ]
        },
        {
          "output_type": "stream",
          "name": "stderr",
          "text": [
            "\r 70%|███████   | 175/250 [02:30<01:15,  1.00s/it]"
          ]
        },
        {
          "output_type": "stream",
          "name": "stdout",
          "text": [
            "Epoch 175, Test loss: 11.8158238530159\n"
          ]
        },
        {
          "output_type": "stream",
          "name": "stderr",
          "text": [
            "\r 70%|███████   | 176/250 [02:31<01:13,  1.01it/s]"
          ]
        },
        {
          "output_type": "stream",
          "name": "stdout",
          "text": [
            "Epoch 176, Train loss: 11.192833816796018\n",
            "Epoch 176, Test loss: 11.814066886901855\n",
            "Epoch 177, Train loss: 11.22014311740273\n"
          ]
        },
        {
          "output_type": "stream",
          "name": "stderr",
          "text": [
            "\r 71%|███████   | 177/250 [02:32<01:10,  1.04it/s]"
          ]
        },
        {
          "output_type": "stream",
          "name": "stdout",
          "text": [
            "Epoch 177, Test loss: 11.78989952802658\n"
          ]
        },
        {
          "output_type": "stream",
          "name": "stderr",
          "text": [
            "\r 71%|███████   | 178/250 [02:33<01:11,  1.01it/s]"
          ]
        },
        {
          "output_type": "stream",
          "name": "stdout",
          "text": [
            "Epoch 178, Train loss: 11.223538532591702\n",
            "Epoch 178, Test loss: 11.809052109718323\n"
          ]
        },
        {
          "output_type": "stream",
          "name": "stderr",
          "text": [
            "\r 72%|███████▏  | 179/250 [02:34<01:06,  1.07it/s]"
          ]
        },
        {
          "output_type": "stream",
          "name": "stdout",
          "text": [
            "Epoch 179, Train loss: 11.260251597354287\n",
            "Epoch 179, Test loss: 11.846742808818817\n"
          ]
        },
        {
          "output_type": "stream",
          "name": "stderr",
          "text": [
            "\r 72%|███████▏  | 180/250 [02:35<01:05,  1.07it/s]"
          ]
        },
        {
          "output_type": "stream",
          "name": "stdout",
          "text": [
            "Epoch 180, Train loss: 11.282525798730683\n",
            "Epoch 180, Test loss: 11.841603457927704\n",
            "Epoch 181, Train loss: 11.330684159931383\n"
          ]
        },
        {
          "output_type": "stream",
          "name": "stderr",
          "text": [
            "\r 72%|███████▏  | 181/250 [02:36<01:06,  1.04it/s]"
          ]
        },
        {
          "output_type": "stream",
          "name": "stdout",
          "text": [
            "Epoch 181, Test loss: 11.818137764930725\n"
          ]
        },
        {
          "output_type": "stream",
          "name": "stderr",
          "text": [
            "\r 73%|███████▎  | 182/250 [02:37<01:06,  1.03it/s]"
          ]
        },
        {
          "output_type": "stream",
          "name": "stdout",
          "text": [
            "Epoch 182, Train loss: 11.213297659890694\n",
            "Epoch 182, Test loss: 11.831332087516785\n"
          ]
        },
        {
          "output_type": "stream",
          "name": "stderr",
          "text": [
            "\r 73%|███████▎  | 183/250 [02:38<01:02,  1.07it/s]"
          ]
        },
        {
          "output_type": "stream",
          "name": "stdout",
          "text": [
            "Epoch 183, Train loss: 11.229896829839339\n",
            "Epoch 183, Test loss: 11.796645879745483\n"
          ]
        },
        {
          "output_type": "stream",
          "name": "stderr",
          "text": [
            "\r 74%|███████▎  | 184/250 [02:39<00:59,  1.11it/s]"
          ]
        },
        {
          "output_type": "stream",
          "name": "stdout",
          "text": [
            "Epoch 184, Train loss: 11.222828112150493\n",
            "Epoch 184, Test loss: 11.797056674957275\n"
          ]
        },
        {
          "output_type": "stream",
          "name": "stderr",
          "text": [
            "\r 74%|███████▍  | 185/250 [02:39<00:56,  1.15it/s]"
          ]
        },
        {
          "output_type": "stream",
          "name": "stdout",
          "text": [
            "Epoch 185, Train loss: 11.192211987679464\n",
            "Epoch 185, Test loss: 11.846707940101624\n"
          ]
        },
        {
          "output_type": "stream",
          "name": "stderr",
          "text": [
            "\r 74%|███████▍  | 186/250 [02:40<00:54,  1.17it/s]"
          ]
        },
        {
          "output_type": "stream",
          "name": "stdout",
          "text": [
            "Epoch 186, Train loss: 11.18453908384892\n",
            "Epoch 186, Test loss: 11.826786041259766\n"
          ]
        },
        {
          "output_type": "stream",
          "name": "stderr",
          "text": [
            "\r 75%|███████▍  | 187/250 [02:41<00:52,  1.20it/s]"
          ]
        },
        {
          "output_type": "stream",
          "name": "stdout",
          "text": [
            "Epoch 187, Train loss: 11.200563531172904\n",
            "Epoch 187, Test loss: 11.79014104604721\n"
          ]
        },
        {
          "output_type": "stream",
          "name": "stderr",
          "text": [
            "\r 75%|███████▌  | 188/250 [02:42<00:51,  1.21it/s]"
          ]
        },
        {
          "output_type": "stream",
          "name": "stdout",
          "text": [
            "Epoch 188, Train loss: 11.197384700440525\n",
            "Epoch 188, Test loss: 11.823972880840302\n"
          ]
        },
        {
          "output_type": "stream",
          "name": "stderr",
          "text": [
            "\r 76%|███████▌  | 189/250 [02:43<00:49,  1.22it/s]"
          ]
        },
        {
          "output_type": "stream",
          "name": "stdout",
          "text": [
            "Epoch 189, Train loss: 11.29975180040326\n",
            "Epoch 189, Test loss: 11.825130343437195\n"
          ]
        },
        {
          "output_type": "stream",
          "name": "stderr",
          "text": [
            "\r 76%|███████▌  | 190/250 [02:43<00:48,  1.23it/s]"
          ]
        },
        {
          "output_type": "stream",
          "name": "stdout",
          "text": [
            "Epoch 190, Train loss: 11.222972016585501\n",
            "Epoch 190, Test loss: 11.830638885498047\n"
          ]
        },
        {
          "output_type": "stream",
          "name": "stderr",
          "text": [
            "\r 76%|███████▋  | 191/250 [02:44<00:47,  1.24it/s]"
          ]
        },
        {
          "output_type": "stream",
          "name": "stdout",
          "text": [
            "Epoch 191, Train loss: 11.332667083070989\n",
            "Epoch 191, Test loss: 11.814205527305603\n"
          ]
        },
        {
          "output_type": "stream",
          "name": "stderr",
          "text": [
            "\r 77%|███████▋  | 192/250 [02:45<00:46,  1.25it/s]"
          ]
        },
        {
          "output_type": "stream",
          "name": "stdout",
          "text": [
            "Epoch 192, Train loss: 11.242264814544143\n",
            "Epoch 192, Test loss: 11.82858681678772\n"
          ]
        },
        {
          "output_type": "stream",
          "name": "stderr",
          "text": [
            "\r 77%|███████▋  | 193/250 [02:46<00:45,  1.25it/s]"
          ]
        },
        {
          "output_type": "stream",
          "name": "stdout",
          "text": [
            "Epoch 193, Train loss: 11.187347228066963\n",
            "Epoch 193, Test loss: 11.846628606319427\n"
          ]
        },
        {
          "output_type": "stream",
          "name": "stderr",
          "text": [
            "\r 78%|███████▊  | 194/250 [02:47<00:45,  1.23it/s]"
          ]
        },
        {
          "output_type": "stream",
          "name": "stdout",
          "text": [
            "Epoch 194, Train loss: 11.19645475086413\n",
            "Epoch 194, Test loss: 11.828212857246399\n"
          ]
        },
        {
          "output_type": "stream",
          "name": "stderr",
          "text": [
            "\r 78%|███████▊  | 195/250 [02:48<00:48,  1.14it/s]"
          ]
        },
        {
          "output_type": "stream",
          "name": "stdout",
          "text": [
            "Epoch 195, Train loss: 11.265582436009458\n",
            "Epoch 195, Test loss: 11.807514667510986\n"
          ]
        },
        {
          "output_type": "stream",
          "name": "stderr",
          "text": [
            "\r 78%|███████▊  | 196/250 [02:49<00:50,  1.08it/s]"
          ]
        },
        {
          "output_type": "stream",
          "name": "stdout",
          "text": [
            "Epoch 196, Train loss: 11.315148102609735\n",
            "Epoch 196, Test loss: 11.827628493309021\n"
          ]
        },
        {
          "output_type": "stream",
          "name": "stderr",
          "text": [
            "\r 79%|███████▉  | 197/250 [02:50<00:47,  1.12it/s]"
          ]
        },
        {
          "output_type": "stream",
          "name": "stdout",
          "text": [
            "Epoch 197, Train loss: 11.196391272963139\n",
            "Epoch 197, Test loss: 11.841521501541138\n"
          ]
        },
        {
          "output_type": "stream",
          "name": "stderr",
          "text": [
            "\r 79%|███████▉  | 198/250 [02:50<00:44,  1.16it/s]"
          ]
        },
        {
          "output_type": "stream",
          "name": "stdout",
          "text": [
            "Epoch 198, Train loss: 11.295627945347837\n",
            "Epoch 198, Test loss: 11.814325749874115\n"
          ]
        },
        {
          "output_type": "stream",
          "name": "stderr",
          "text": [
            "\r 80%|███████▉  | 199/250 [02:51<00:43,  1.18it/s]"
          ]
        },
        {
          "output_type": "stream",
          "name": "stdout",
          "text": [
            "Epoch 199, Train loss: 11.255433433934263\n",
            "Epoch 199, Test loss: 11.813626408576965\n"
          ]
        },
        {
          "output_type": "stream",
          "name": "stderr",
          "text": [
            "\r 80%|████████  | 200/250 [02:52<00:41,  1.20it/s]"
          ]
        },
        {
          "output_type": "stream",
          "name": "stdout",
          "text": [
            "Epoch 200, Train loss: 11.175382103836327\n",
            "Epoch 200, Test loss: 11.824418544769287\n"
          ]
        },
        {
          "output_type": "stream",
          "name": "stderr",
          "text": [
            "\r 80%|████████  | 201/250 [02:53<00:40,  1.22it/s]"
          ]
        },
        {
          "output_type": "stream",
          "name": "stdout",
          "text": [
            "Epoch 201, Train loss: 11.210176802518076\n",
            "Epoch 201, Test loss: 11.822204053401947\n"
          ]
        },
        {
          "output_type": "stream",
          "name": "stderr",
          "text": [
            "\r 81%|████████  | 202/250 [02:54<00:38,  1.23it/s]"
          ]
        },
        {
          "output_type": "stream",
          "name": "stdout",
          "text": [
            "Epoch 202, Train loss: 11.267151866042823\n",
            "Epoch 202, Test loss: 11.812354981899261\n"
          ]
        },
        {
          "output_type": "stream",
          "name": "stderr",
          "text": [
            "\r 81%|████████  | 203/250 [02:54<00:37,  1.24it/s]"
          ]
        },
        {
          "output_type": "stream",
          "name": "stdout",
          "text": [
            "Epoch 203, Train loss: 11.194812824851589\n",
            "Epoch 203, Test loss: 11.812477111816406\n"
          ]
        },
        {
          "output_type": "stream",
          "name": "stderr",
          "text": [
            "\r 82%|████████▏ | 204/250 [02:55<00:37,  1.24it/s]"
          ]
        },
        {
          "output_type": "stream",
          "name": "stdout",
          "text": [
            "Epoch 204, Train loss: 11.213394047921163\n",
            "Epoch 204, Test loss: 11.804380118846893\n"
          ]
        },
        {
          "output_type": "stream",
          "name": "stderr",
          "text": [
            "\r 82%|████████▏ | 205/250 [02:56<00:36,  1.24it/s]"
          ]
        },
        {
          "output_type": "stream",
          "name": "stdout",
          "text": [
            "Epoch 205, Train loss: 11.257764732628537\n",
            "Epoch 205, Test loss: 11.827889442443848\n",
            "Epoch 206, Train loss: 11.285717445507384\n"
          ]
        },
        {
          "output_type": "stream",
          "name": "stderr",
          "text": [
            "\r 82%|████████▏ | 206/250 [02:57<00:36,  1.21it/s]"
          ]
        },
        {
          "output_type": "stream",
          "name": "stdout",
          "text": [
            "Epoch 206, Test loss: 11.806914031505585\n"
          ]
        },
        {
          "output_type": "stream",
          "name": "stderr",
          "text": [
            "\r 83%|████████▎ | 207/250 [02:58<00:36,  1.18it/s]"
          ]
        },
        {
          "output_type": "stream",
          "name": "stdout",
          "text": [
            "Epoch 207, Train loss: 11.183181812888698\n",
            "Epoch 207, Test loss: 11.794459581375122\n"
          ]
        },
        {
          "output_type": "stream",
          "name": "stderr",
          "text": [
            "\r 83%|████████▎ | 208/250 [02:59<00:35,  1.19it/s]"
          ]
        },
        {
          "output_type": "stream",
          "name": "stdout",
          "text": [
            "Epoch 208, Train loss: 11.225015874494586\n",
            "Epoch 208, Test loss: 11.827119946479797\n"
          ]
        },
        {
          "output_type": "stream",
          "name": "stderr",
          "text": [
            "\r 84%|████████▎ | 209/250 [03:00<00:36,  1.13it/s]"
          ]
        },
        {
          "output_type": "stream",
          "name": "stdout",
          "text": [
            "Epoch 209, Train loss: 11.196682729219136\n",
            "Epoch 209, Test loss: 11.801129221916199\n"
          ]
        },
        {
          "output_type": "stream",
          "name": "stderr",
          "text": [
            "\r 84%|████████▍ | 210/250 [03:01<00:45,  1.15s/it]"
          ]
        },
        {
          "output_type": "stream",
          "name": "stdout",
          "text": [
            "Epoch 210, Train loss: 11.203185667071427\n",
            "Epoch 210, Test loss: 11.820876240730286\n"
          ]
        },
        {
          "output_type": "stream",
          "name": "stderr",
          "text": [
            "\r 84%|████████▍ | 211/250 [03:02<00:41,  1.05s/it]"
          ]
        },
        {
          "output_type": "stream",
          "name": "stdout",
          "text": [
            "Epoch 211, Train loss: 11.203708698875026\n",
            "Epoch 211, Test loss: 11.815796136856079\n"
          ]
        },
        {
          "output_type": "stream",
          "name": "stderr",
          "text": [
            "\r 85%|████████▍ | 212/250 [03:03<00:37,  1.01it/s]"
          ]
        },
        {
          "output_type": "stream",
          "name": "stdout",
          "text": [
            "Epoch 212, Train loss: 11.20326144235176\n",
            "Epoch 212, Test loss: 11.845696032047272\n"
          ]
        },
        {
          "output_type": "stream",
          "name": "stderr",
          "text": [
            "\r 85%|████████▌ | 213/250 [03:04<00:34,  1.07it/s]"
          ]
        },
        {
          "output_type": "stream",
          "name": "stdout",
          "text": [
            "Epoch 213, Train loss: 11.260714798642878\n",
            "Epoch 213, Test loss: 11.82196170091629\n",
            "Epoch 214, Train loss: 11.235642500091018\n"
          ]
        },
        {
          "output_type": "stream",
          "name": "stderr",
          "text": [
            "\r 86%|████████▌ | 214/250 [03:05<00:34,  1.05it/s]"
          ]
        },
        {
          "output_type": "stream",
          "name": "stdout",
          "text": [
            "Epoch 214, Test loss: 11.807973980903625\n",
            "Epoch 215, Train loss: 11.249411616409034\n"
          ]
        },
        {
          "output_type": "stream",
          "name": "stderr",
          "text": [
            "\r 86%|████████▌ | 215/250 [03:06<00:34,  1.02it/s]"
          ]
        },
        {
          "output_type": "stream",
          "name": "stdout",
          "text": [
            "Epoch 215, Test loss: 11.830771505832672\n"
          ]
        },
        {
          "output_type": "stream",
          "name": "stderr",
          "text": [
            "\r 86%|████████▋ | 216/250 [03:07<00:33,  1.02it/s]"
          ]
        },
        {
          "output_type": "stream",
          "name": "stdout",
          "text": [
            "Epoch 216, Train loss: 11.256002593458744\n",
            "Epoch 216, Test loss: 11.83742219209671\n"
          ]
        },
        {
          "output_type": "stream",
          "name": "stderr",
          "text": [
            "\r 87%|████████▋ | 217/250 [03:08<00:30,  1.07it/s]"
          ]
        },
        {
          "output_type": "stream",
          "name": "stdout",
          "text": [
            "Epoch 217, Train loss: 11.29012740285773\n",
            "Epoch 217, Test loss: 11.828032970428467\n"
          ]
        },
        {
          "output_type": "stream",
          "name": "stderr",
          "text": [
            "\r 87%|████████▋ | 218/250 [03:08<00:28,  1.12it/s]"
          ]
        },
        {
          "output_type": "stream",
          "name": "stdout",
          "text": [
            "Epoch 218, Train loss: 11.273229264376456\n",
            "Epoch 218, Test loss: 11.813029110431671\n"
          ]
        },
        {
          "output_type": "stream",
          "name": "stderr",
          "text": [
            "\r 88%|████████▊ | 219/250 [03:09<00:26,  1.16it/s]"
          ]
        },
        {
          "output_type": "stream",
          "name": "stdout",
          "text": [
            "Epoch 219, Train loss: 11.269977920933774\n",
            "Epoch 219, Test loss: 11.822154343128204\n",
            "Epoch 220, Train loss: 11.208089694642185\n"
          ]
        },
        {
          "output_type": "stream",
          "name": "stderr",
          "text": [
            "\r 88%|████████▊ | 220/250 [03:10<00:26,  1.14it/s]"
          ]
        },
        {
          "output_type": "stream",
          "name": "stdout",
          "text": [
            "Epoch 220, Test loss: 11.823514342308044\n"
          ]
        },
        {
          "output_type": "stream",
          "name": "stderr",
          "text": [
            "\r 88%|████████▊ | 221/250 [03:11<00:24,  1.17it/s]"
          ]
        },
        {
          "output_type": "stream",
          "name": "stdout",
          "text": [
            "Epoch 221, Train loss: 11.199554727788557\n",
            "Epoch 221, Test loss: 11.822158992290497\n"
          ]
        },
        {
          "output_type": "stream",
          "name": "stderr",
          "text": [
            "\r 89%|████████▉ | 222/250 [03:12<00:25,  1.10it/s]"
          ]
        },
        {
          "output_type": "stream",
          "name": "stdout",
          "text": [
            "Epoch 222, Train loss: 11.210707547371847\n",
            "Epoch 222, Test loss: 11.810176372528076\n",
            "Epoch 223, Train loss: 11.257198517782646\n"
          ]
        },
        {
          "output_type": "stream",
          "name": "stderr",
          "text": [
            "\r 89%|████████▉ | 223/250 [03:13<00:25,  1.04it/s]"
          ]
        },
        {
          "output_type": "stream",
          "name": "stdout",
          "text": [
            "Epoch 223, Test loss: 11.800483524799347\n"
          ]
        },
        {
          "output_type": "stream",
          "name": "stderr",
          "text": [
            "\r 90%|████████▉ | 224/250 [03:14<00:23,  1.09it/s]"
          ]
        },
        {
          "output_type": "stream",
          "name": "stdout",
          "text": [
            "Epoch 224, Train loss: 11.185464114473577\n",
            "Epoch 224, Test loss: 11.811280727386475\n"
          ]
        },
        {
          "output_type": "stream",
          "name": "stderr",
          "text": [
            "\r 90%|█████████ | 225/250 [03:15<00:22,  1.13it/s]"
          ]
        },
        {
          "output_type": "stream",
          "name": "stdout",
          "text": [
            "Epoch 225, Train loss: 11.216783481731749\n",
            "Epoch 225, Test loss: 11.823269546031952\n"
          ]
        },
        {
          "output_type": "stream",
          "name": "stderr",
          "text": [
            "\r 90%|█████████ | 226/250 [03:15<00:20,  1.16it/s]"
          ]
        },
        {
          "output_type": "stream",
          "name": "stdout",
          "text": [
            "Epoch 226, Train loss: 11.214433469270405\n",
            "Epoch 226, Test loss: 11.807854294776917\n"
          ]
        },
        {
          "output_type": "stream",
          "name": "stderr",
          "text": [
            "\r 91%|█████████ | 227/250 [03:16<00:19,  1.19it/s]"
          ]
        },
        {
          "output_type": "stream",
          "name": "stdout",
          "text": [
            "Epoch 227, Train loss: 11.248024221052203\n",
            "Epoch 227, Test loss: 11.834751069545746\n"
          ]
        },
        {
          "output_type": "stream",
          "name": "stderr",
          "text": [
            "\r 91%|█████████ | 228/250 [03:17<00:18,  1.20it/s]"
          ]
        },
        {
          "output_type": "stream",
          "name": "stdout",
          "text": [
            "Epoch 228, Train loss: 11.255162239074707\n",
            "Epoch 228, Test loss: 11.806440114974976\n"
          ]
        },
        {
          "output_type": "stream",
          "name": "stderr",
          "text": [
            "\r 92%|█████████▏| 229/250 [03:18<00:17,  1.22it/s]"
          ]
        },
        {
          "output_type": "stream",
          "name": "stdout",
          "text": [
            "Epoch 229, Train loss: 11.227458736352753\n",
            "Epoch 229, Test loss: 11.807071447372437\n"
          ]
        },
        {
          "output_type": "stream",
          "name": "stderr",
          "text": [
            "\r 92%|█████████▏| 230/250 [03:19<00:16,  1.23it/s]"
          ]
        },
        {
          "output_type": "stream",
          "name": "stdout",
          "text": [
            "Epoch 230, Train loss: 11.209252324020653\n",
            "Epoch 230, Test loss: 11.844463527202606\n"
          ]
        },
        {
          "output_type": "stream",
          "name": "stderr",
          "text": [
            "\r 92%|█████████▏| 231/250 [03:19<00:15,  1.24it/s]"
          ]
        },
        {
          "output_type": "stream",
          "name": "stdout",
          "text": [
            "Epoch 231, Train loss: 11.223754464534291\n",
            "Epoch 231, Test loss: 11.827088057994843\n"
          ]
        },
        {
          "output_type": "stream",
          "name": "stderr",
          "text": [
            "\r 93%|█████████▎| 232/250 [03:20<00:14,  1.25it/s]"
          ]
        },
        {
          "output_type": "stream",
          "name": "stdout",
          "text": [
            "Epoch 232, Train loss: 11.226688870212488\n",
            "Epoch 232, Test loss: 11.800976991653442\n"
          ]
        },
        {
          "output_type": "stream",
          "name": "stderr",
          "text": [
            "\r 93%|█████████▎| 233/250 [03:21<00:13,  1.25it/s]"
          ]
        },
        {
          "output_type": "stream",
          "name": "stdout",
          "text": [
            "Epoch 233, Train loss: 11.306697996039139\n",
            "Epoch 233, Test loss: 11.845990478992462\n"
          ]
        },
        {
          "output_type": "stream",
          "name": "stderr",
          "text": [
            "\r 94%|█████████▎| 234/250 [03:22<00:12,  1.25it/s]"
          ]
        },
        {
          "output_type": "stream",
          "name": "stdout",
          "text": [
            "Epoch 234, Train loss: 11.199775996961092\n",
            "Epoch 234, Test loss: 11.823950588703156\n"
          ]
        },
        {
          "output_type": "stream",
          "name": "stderr",
          "text": [
            "\r 94%|█████████▍| 235/250 [03:23<00:13,  1.13it/s]"
          ]
        },
        {
          "output_type": "stream",
          "name": "stdout",
          "text": [
            "Epoch 235, Train loss: 11.185345039033054\n",
            "Epoch 235, Test loss: 11.88033813238144\n"
          ]
        },
        {
          "output_type": "stream",
          "name": "stderr",
          "text": [
            "\r 94%|█████████▍| 236/250 [03:24<00:12,  1.08it/s]"
          ]
        },
        {
          "output_type": "stream",
          "name": "stdout",
          "text": [
            "Epoch 236, Train loss: 11.227994584200674\n",
            "Epoch 236, Test loss: 11.803151667118073\n",
            "Epoch 237, Train loss: 11.167765834875274\n"
          ]
        },
        {
          "output_type": "stream",
          "name": "stderr",
          "text": [
            "\r 95%|█████████▍| 237/250 [03:25<00:12,  1.03it/s]"
          ]
        },
        {
          "output_type": "stream",
          "name": "stdout",
          "text": [
            "Epoch 237, Test loss: 11.823546946048737\n"
          ]
        },
        {
          "output_type": "stream",
          "name": "stderr",
          "text": [
            "\r 95%|█████████▌| 238/250 [03:26<00:11,  1.03it/s]"
          ]
        },
        {
          "output_type": "stream",
          "name": "stdout",
          "text": [
            "Epoch 238, Train loss: 11.225594629321183\n",
            "Epoch 238, Test loss: 11.816080510616302\n"
          ]
        },
        {
          "output_type": "stream",
          "name": "stderr",
          "text": [
            "\r 96%|█████████▌| 239/250 [03:27<00:10,  1.08it/s]"
          ]
        },
        {
          "output_type": "stream",
          "name": "stdout",
          "text": [
            "Epoch 239, Train loss: 11.259204128332305\n",
            "Epoch 239, Test loss: 11.799082100391388\n"
          ]
        },
        {
          "output_type": "stream",
          "name": "stderr",
          "text": [
            "\r 96%|█████████▌| 240/250 [03:28<00:08,  1.13it/s]"
          ]
        },
        {
          "output_type": "stream",
          "name": "stdout",
          "text": [
            "Epoch 240, Train loss: 11.205951004697566\n",
            "Epoch 240, Test loss: 11.85791015625\n",
            "Epoch 241, Train loss: 11.259072169922947\n"
          ]
        },
        {
          "output_type": "stream",
          "name": "stderr",
          "text": [
            "\r 96%|█████████▋| 241/250 [03:29<00:07,  1.13it/s]"
          ]
        },
        {
          "output_type": "stream",
          "name": "stdout",
          "text": [
            "Epoch 241, Test loss: 11.813577771186829\n"
          ]
        },
        {
          "output_type": "stream",
          "name": "stderr",
          "text": [
            "\r 97%|█████████▋| 242/250 [03:29<00:06,  1.14it/s]"
          ]
        },
        {
          "output_type": "stream",
          "name": "stdout",
          "text": [
            "Epoch 242, Train loss: 11.213109685663591\n",
            "Epoch 242, Test loss: 11.833805620670319\n"
          ]
        },
        {
          "output_type": "stream",
          "name": "stderr",
          "text": [
            "\r 97%|█████████▋| 243/250 [03:30<00:05,  1.17it/s]"
          ]
        },
        {
          "output_type": "stream",
          "name": "stdout",
          "text": [
            "Epoch 243, Train loss: 11.232086482800936\n",
            "Epoch 243, Test loss: 11.81301212310791\n"
          ]
        },
        {
          "output_type": "stream",
          "name": "stderr",
          "text": [
            "\r 98%|█████████▊| 244/250 [03:31<00:05,  1.20it/s]"
          ]
        },
        {
          "output_type": "stream",
          "name": "stdout",
          "text": [
            "Epoch 244, Train loss: 11.183249507034034\n",
            "Epoch 244, Test loss: 11.80794382095337\n"
          ]
        },
        {
          "output_type": "stream",
          "name": "stderr",
          "text": [
            "\r 98%|█████████▊| 245/250 [03:32<00:04,  1.21it/s]"
          ]
        },
        {
          "output_type": "stream",
          "name": "stdout",
          "text": [
            "Epoch 245, Train loss: 11.278433582238984\n",
            "Epoch 245, Test loss: 11.857070565223694\n"
          ]
        },
        {
          "output_type": "stream",
          "name": "stderr",
          "text": [
            "\r 98%|█████████▊| 246/250 [03:33<00:03,  1.23it/s]"
          ]
        },
        {
          "output_type": "stream",
          "name": "stdout",
          "text": [
            "Epoch 246, Train loss: 11.301753763566937\n",
            "Epoch 246, Test loss: 11.831641376018524\n"
          ]
        },
        {
          "output_type": "stream",
          "name": "stderr",
          "text": [
            "\r 99%|█████████▉| 247/250 [03:33<00:02,  1.24it/s]"
          ]
        },
        {
          "output_type": "stream",
          "name": "stdout",
          "text": [
            "Epoch 247, Train loss: 11.24264144897461\n",
            "Epoch 247, Test loss: 11.798231065273285\n"
          ]
        },
        {
          "output_type": "stream",
          "name": "stderr",
          "text": [
            "\r 99%|█████████▉| 248/250 [03:34<00:01,  1.24it/s]"
          ]
        },
        {
          "output_type": "stream",
          "name": "stdout",
          "text": [
            "Epoch 248, Train loss: 11.17767365773519\n",
            "Epoch 248, Test loss: 11.832853496074677\n"
          ]
        },
        {
          "output_type": "stream",
          "name": "stderr",
          "text": [
            "\r100%|█████████▉| 249/250 [03:35<00:00,  1.24it/s]"
          ]
        },
        {
          "output_type": "stream",
          "name": "stdout",
          "text": [
            "Epoch 249, Train loss: 11.236089773345412\n",
            "Epoch 249, Test loss: 11.799924612045288\n",
            "Epoch 250, Train loss: 11.181410990263286\n"
          ]
        },
        {
          "output_type": "stream",
          "name": "stderr",
          "text": [
            "100%|██████████| 250/250 [03:36<00:00,  1.15it/s]"
          ]
        },
        {
          "output_type": "stream",
          "name": "stdout",
          "text": [
            "Epoch 250, Test loss: 11.821921348571777\n"
          ]
        },
        {
          "output_type": "stream",
          "name": "stderr",
          "text": [
            "\n"
          ]
        }
      ]
    },
    {
      "cell_type": "code",
      "source": [
        "test_model(model, test_loader, device)"
      ],
      "metadata": {
        "colab": {
          "base_uri": "https://localhost:8080/"
        },
        "id": "Z_FKyk6X_Eo-",
        "outputId": "9040bacc-6707-4600-f8c5-9e5321f30ef8"
      },
      "execution_count": 66,
      "outputs": [
        {
          "output_type": "stream",
          "name": "stdout",
          "text": [
            "Test MAE: 11.799169361591339\n",
            "MAPE for high targets: 0.03375766787212342\n",
            "MAE for low targets: 4.686810076236725\n"
          ]
        }
      ]
    },
    {
      "cell_type": "code",
      "source": [
        "test_model(model, train_loader, device)"
      ],
      "metadata": {
        "colab": {
          "base_uri": "https://localhost:8080/"
        },
        "id": "aN_o63Vf_ILI",
        "outputId": "66020a45-36c3-443f-b4c8-fe53ccdd8e57"
      },
      "execution_count": 67,
      "outputs": [
        {
          "output_type": "stream",
          "name": "stdout",
          "text": [
            "Test MAE: 11.202487460353918\n",
            "MAPE for high targets: 0.03386963897368364\n",
            "MAE for low targets: 4.492502153965464\n"
          ]
        }
      ]
    },
    {
      "cell_type": "markdown",
      "source": [
        "### Test 3 GPU batch size = 16"
      ],
      "metadata": {
        "id": "jEuHXJBB-2Pj"
      }
    },
    {
      "cell_type": "code",
      "source": [
        "# Build the Data loader\n",
        "graph_data = []\n",
        "# each df should have the same dimension and same nodes at the same columns\n",
        "for filename, df in dfs.items():\n",
        "    df = add_missing_nodes_2(df, node_mapping, num_nodes) # add zeros row for missing nodes\n",
        "    df_qhrs = build_quarter_hour_data(df, filename, num_nodes) # retourne 24*4 df avec ses paramètres temporel et le flow\n",
        "    graph_data.append(df_qhrs)\n",
        "graphs = [[df_to_graph(df, edge_index) for df in graph_data[i]] for i in range(len(graph_data))]  # Un graphe par quart d'heure\n",
        "\n",
        "train_loader, test_loader = build_train_test_loaders_2(graphs, window_size, train_split=0.8, batch_size=16, shuffle=True)"
      ],
      "metadata": {
        "id": "d4uiXQng-yp6"
      },
      "execution_count": 68,
      "outputs": []
    },
    {
      "cell_type": "code",
      "source": [
        "import torch\n",
        "from tqdm import tqdm\n",
        "\n",
        "# Détection du GPU\n",
        "device = torch.device(\"cuda\" if torch.cuda.is_available() else \"cpu\")\n",
        "print(f\"Using device: {device}\")\n",
        "\n",
        "# Initialisation du modèle et des composants d'entraînement\n",
        "model = ImprovedSTGCN(node_features=window_size, hidden_dim=32).to(device)\n",
        "\n",
        "optimizer = torch.optim.Adam(model.parameters(), lr=0.008)\n",
        "scheduler = torch.optim.lr_scheduler.ExponentialLR(optimizer, gamma=0.95)\n",
        "criterion = torch.nn.L1Loss()  # MAE\n",
        "\n",
        "num_epochs = 250\n",
        "\n",
        "# Boucle d'entraînement\n",
        "for epoch in tqdm(range(num_epochs)):\n",
        "    model.train()\n",
        "    train_loss = 0\n",
        "\n",
        "    for graph, temporal_features in train_loader:\n",
        "        graph = graph.to(device)  # Déplacement du graphe sur GPU\n",
        "        temporal_features = temporal_features.to(device, non_blocking=True)\n",
        "        temporal_features = temporal_features.flatten(start_dim=0, end_dim=1)\n",
        "\n",
        "        optimizer.zero_grad()\n",
        "        output = model(graph, temporal_features)\n",
        "        target = graph.y.to(device, non_blocking=True)  # Déplacement de la cible sur GPU\n",
        "\n",
        "        loss = criterion(output, target)\n",
        "        loss.backward()\n",
        "        optimizer.step()\n",
        "        train_loss += loss.item()\n",
        "\n",
        "    scheduler.step()\n",
        "\n",
        "    print(f\"Epoch {epoch+1}, Train loss: {train_loss / len(train_loader)}\")\n",
        "\n",
        "    # Évaluation sur le jeu de test\n",
        "    model.eval()\n",
        "    test_loss = 0\n",
        "    with torch.no_grad():  # Désactivation des gradients pour l'évaluation\n",
        "        for graph, temporal_features in test_loader:\n",
        "            graph = graph.to(device)\n",
        "            temporal_features = temporal_features.to(device, non_blocking=True)\n",
        "            temporal_features = temporal_features.flatten(start_dim=0, end_dim=1)\n",
        "\n",
        "            output = model(graph, temporal_features)\n",
        "            target = graph.y.to(device, non_blocking=True)\n",
        "\n",
        "            loss = criterion(output, target)\n",
        "            test_loss += loss.item()\n",
        "\n",
        "    print(f\"Epoch {epoch+1}, Test loss: {test_loss / len(test_loader)}\")\n"
      ],
      "metadata": {
        "colab": {
          "base_uri": "https://localhost:8080/"
        },
        "id": "pIzaq-Fa_AR6",
        "outputId": "1a61cf72-6d5e-4bad-c6c0-b90e21e258ed"
      },
      "execution_count": 69,
      "outputs": [
        {
          "output_type": "stream",
          "name": "stdout",
          "text": [
            "Using device: cuda\n"
          ]
        },
        {
          "output_type": "stream",
          "name": "stderr",
          "text": [
            "  0%|          | 1/250 [00:01<04:22,  1.05s/it]"
          ]
        },
        {
          "output_type": "stream",
          "name": "stdout",
          "text": [
            "Epoch 1, Train loss: 43.299754817928886\n",
            "Epoch 1, Test loss: 20.443081945180893\n"
          ]
        },
        {
          "output_type": "stream",
          "name": "stderr",
          "text": [
            "\r  1%|          | 2/250 [00:02<04:18,  1.04s/it]"
          ]
        },
        {
          "output_type": "stream",
          "name": "stdout",
          "text": [
            "Epoch 2, Train loss: 18.82448738233178\n",
            "Epoch 2, Test loss: 28.519316732883453\n"
          ]
        },
        {
          "output_type": "stream",
          "name": "stderr",
          "text": [
            "\r  1%|          | 3/250 [00:03<04:15,  1.04s/it]"
          ]
        },
        {
          "output_type": "stream",
          "name": "stdout",
          "text": [
            "Epoch 3, Train loss: 16.974270356439913\n",
            "Epoch 3, Test loss: 15.483488082885742\n",
            "Epoch 4, Train loss: 16.296130880845332\n"
          ]
        },
        {
          "output_type": "stream",
          "name": "stderr",
          "text": [
            "\r  2%|▏         | 4/250 [00:04<04:40,  1.14s/it]"
          ]
        },
        {
          "output_type": "stream",
          "name": "stdout",
          "text": [
            "Epoch 4, Test loss: 14.652378678321838\n",
            "Epoch 5, Train loss: 15.188798431801585\n"
          ]
        },
        {
          "output_type": "stream",
          "name": "stderr",
          "text": [
            "\r  2%|▏         | 5/250 [00:06<05:18,  1.30s/it]"
          ]
        },
        {
          "output_type": "stream",
          "name": "stdout",
          "text": [
            "Epoch 5, Test loss: 15.742375791072845\n",
            "Epoch 6, Train loss: 14.446905532769398\n"
          ]
        },
        {
          "output_type": "stream",
          "name": "stderr",
          "text": [
            "\r  2%|▏         | 6/250 [00:07<05:16,  1.30s/it]"
          ]
        },
        {
          "output_type": "stream",
          "name": "stdout",
          "text": [
            "Epoch 6, Test loss: 13.587680697441101\n"
          ]
        },
        {
          "output_type": "stream",
          "name": "stderr",
          "text": [
            "\r  3%|▎         | 7/250 [00:08<05:28,  1.35s/it]"
          ]
        },
        {
          "output_type": "stream",
          "name": "stdout",
          "text": [
            "Epoch 7, Train loss: 15.320474742788129\n",
            "Epoch 7, Test loss: 13.24058911204338\n"
          ]
        },
        {
          "output_type": "stream",
          "name": "stderr",
          "text": [
            "\r  3%|▎         | 8/250 [00:10<05:30,  1.37s/it]"
          ]
        },
        {
          "output_type": "stream",
          "name": "stdout",
          "text": [
            "Epoch 8, Train loss: 13.058053033541789\n",
            "Epoch 8, Test loss: 16.346823155879974\n",
            "Epoch 9, Train loss: 12.704045726134714\n"
          ]
        },
        {
          "output_type": "stream",
          "name": "stderr",
          "text": [
            "\r  4%|▎         | 9/250 [00:11<05:05,  1.27s/it]"
          ]
        },
        {
          "output_type": "stream",
          "name": "stdout",
          "text": [
            "Epoch 9, Test loss: 12.532217860221863\n"
          ]
        },
        {
          "output_type": "stream",
          "name": "stderr",
          "text": [
            "\r  4%|▍         | 10/250 [00:12<04:46,  1.19s/it]"
          ]
        },
        {
          "output_type": "stream",
          "name": "stdout",
          "text": [
            "Epoch 10, Train loss: 13.177943035564592\n",
            "Epoch 10, Test loss: 15.30988422036171\n"
          ]
        },
        {
          "output_type": "stream",
          "name": "stderr",
          "text": [
            "\r  4%|▍         | 11/250 [00:13<04:33,  1.14s/it]"
          ]
        },
        {
          "output_type": "stream",
          "name": "stdout",
          "text": [
            "Epoch 11, Train loss: 12.322691166295414\n",
            "Epoch 11, Test loss: 12.372251033782959\n"
          ]
        },
        {
          "output_type": "stream",
          "name": "stderr",
          "text": [
            "\r  5%|▍         | 12/250 [00:14<04:23,  1.11s/it]"
          ]
        },
        {
          "output_type": "stream",
          "name": "stdout",
          "text": [
            "Epoch 12, Train loss: 12.745341343162334\n",
            "Epoch 12, Test loss: 12.526269853115082\n"
          ]
        },
        {
          "output_type": "stream",
          "name": "stderr",
          "text": [
            "\r  5%|▌         | 13/250 [00:15<04:16,  1.08s/it]"
          ]
        },
        {
          "output_type": "stream",
          "name": "stdout",
          "text": [
            "Epoch 13, Train loss: 12.816187858581543\n",
            "Epoch 13, Test loss: 12.930670619010925\n",
            "Epoch 14, Train loss: 12.31924437632603\n"
          ]
        },
        {
          "output_type": "stream",
          "name": "stderr",
          "text": [
            "\r  6%|▌         | 14/250 [00:16<04:28,  1.14s/it]"
          ]
        },
        {
          "output_type": "stream",
          "name": "stdout",
          "text": [
            "Epoch 14, Test loss: 12.445592403411865\n"
          ]
        },
        {
          "output_type": "stream",
          "name": "stderr",
          "text": [
            "\r  6%|▌         | 15/250 [00:17<04:39,  1.19s/it]"
          ]
        },
        {
          "output_type": "stream",
          "name": "stdout",
          "text": [
            "Epoch 15, Train loss: 12.034179953347266\n",
            "Epoch 15, Test loss: 12.981055468320847\n"
          ]
        },
        {
          "output_type": "stream",
          "name": "stderr",
          "text": [
            "\r  6%|▋         | 16/250 [00:18<04:30,  1.15s/it]"
          ]
        },
        {
          "output_type": "stream",
          "name": "stdout",
          "text": [
            "Epoch 16, Train loss: 11.940835222733758\n",
            "Epoch 16, Test loss: 13.505239367485046\n"
          ]
        },
        {
          "output_type": "stream",
          "name": "stderr",
          "text": [
            "\r  7%|▋         | 17/250 [00:19<04:20,  1.12s/it]"
          ]
        },
        {
          "output_type": "stream",
          "name": "stdout",
          "text": [
            "Epoch 17, Train loss: 11.899912690694354\n",
            "Epoch 17, Test loss: 12.15707191824913\n"
          ]
        },
        {
          "output_type": "stream",
          "name": "stderr",
          "text": [
            "\r  7%|▋         | 18/250 [00:21<04:13,  1.09s/it]"
          ]
        },
        {
          "output_type": "stream",
          "name": "stdout",
          "text": [
            "Epoch 18, Train loss: 11.775139821314179\n",
            "Epoch 18, Test loss: 12.569286912679672\n"
          ]
        },
        {
          "output_type": "stream",
          "name": "stderr",
          "text": [
            "\r  8%|▊         | 19/250 [00:22<04:09,  1.08s/it]"
          ]
        },
        {
          "output_type": "stream",
          "name": "stdout",
          "text": [
            "Epoch 19, Train loss: 11.957856250020255\n",
            "Epoch 19, Test loss: 12.163701057434082\n"
          ]
        },
        {
          "output_type": "stream",
          "name": "stderr",
          "text": [
            "\r  8%|▊         | 20/250 [00:23<04:04,  1.06s/it]"
          ]
        },
        {
          "output_type": "stream",
          "name": "stdout",
          "text": [
            "Epoch 20, Train loss: 12.147461654865637\n",
            "Epoch 20, Test loss: 12.244788467884064\n"
          ]
        },
        {
          "output_type": "stream",
          "name": "stderr",
          "text": [
            "\r  8%|▊         | 21/250 [00:24<04:00,  1.05s/it]"
          ]
        },
        {
          "output_type": "stream",
          "name": "stdout",
          "text": [
            "Epoch 21, Train loss: 12.21490841418241\n",
            "Epoch 21, Test loss: 12.821299642324448\n"
          ]
        },
        {
          "output_type": "stream",
          "name": "stderr",
          "text": [
            "\r  9%|▉         | 22/250 [00:25<03:57,  1.04s/it]"
          ]
        },
        {
          "output_type": "stream",
          "name": "stdout",
          "text": [
            "Epoch 22, Train loss: 11.741732048777353\n",
            "Epoch 22, Test loss: 11.979428172111511\n"
          ]
        },
        {
          "output_type": "stream",
          "name": "stderr",
          "text": [
            "\r  9%|▉         | 23/250 [00:26<03:55,  1.04s/it]"
          ]
        },
        {
          "output_type": "stream",
          "name": "stdout",
          "text": [
            "Epoch 23, Train loss: 11.593517050278924\n",
            "Epoch 23, Test loss: 12.083600997924805\n"
          ]
        },
        {
          "output_type": "stream",
          "name": "stderr",
          "text": [
            "\r 10%|▉         | 24/250 [00:27<03:52,  1.03s/it]"
          ]
        },
        {
          "output_type": "stream",
          "name": "stdout",
          "text": [
            "Epoch 24, Train loss: 11.665373076379826\n",
            "Epoch 24, Test loss: 11.976253986358643\n",
            "Epoch 25, Train loss: 11.663640338762672\n"
          ]
        },
        {
          "output_type": "stream",
          "name": "stderr",
          "text": [
            "\r 10%|█         | 25/250 [00:28<04:02,  1.08s/it]"
          ]
        },
        {
          "output_type": "stream",
          "name": "stdout",
          "text": [
            "Epoch 25, Test loss: 12.60118779540062\n",
            "Epoch 26, Train loss: 11.71191861988169\n"
          ]
        },
        {
          "output_type": "stream",
          "name": "stderr",
          "text": [
            "\r 10%|█         | 26/250 [00:29<04:22,  1.17s/it]"
          ]
        },
        {
          "output_type": "stream",
          "name": "stdout",
          "text": [
            "Epoch 26, Test loss: 12.596477806568146\n"
          ]
        },
        {
          "output_type": "stream",
          "name": "stderr",
          "text": [
            "\r 11%|█         | 27/250 [00:30<04:12,  1.13s/it]"
          ]
        },
        {
          "output_type": "stream",
          "name": "stdout",
          "text": [
            "Epoch 27, Train loss: 11.632503332289975\n",
            "Epoch 27, Test loss: 11.911245584487915\n"
          ]
        },
        {
          "output_type": "stream",
          "name": "stderr",
          "text": [
            "\r 11%|█         | 28/250 [00:31<04:04,  1.10s/it]"
          ]
        },
        {
          "output_type": "stream",
          "name": "stdout",
          "text": [
            "Epoch 28, Train loss: 11.49033323220447\n",
            "Epoch 28, Test loss: 12.113416403532028\n"
          ]
        },
        {
          "output_type": "stream",
          "name": "stderr",
          "text": [
            "\r 12%|█▏        | 29/250 [00:32<03:59,  1.08s/it]"
          ]
        },
        {
          "output_type": "stream",
          "name": "stdout",
          "text": [
            "Epoch 29, Train loss: 11.551436411595978\n",
            "Epoch 29, Test loss: 12.455536246299744\n"
          ]
        },
        {
          "output_type": "stream",
          "name": "stderr",
          "text": [
            "\r 12%|█▏        | 30/250 [00:33<03:54,  1.07s/it]"
          ]
        },
        {
          "output_type": "stream",
          "name": "stdout",
          "text": [
            "Epoch 30, Train loss: 11.51165793005344\n",
            "Epoch 30, Test loss: 12.297246247529984\n"
          ]
        },
        {
          "output_type": "stream",
          "name": "stderr",
          "text": [
            "\r 12%|█▏        | 31/250 [00:34<03:50,  1.05s/it]"
          ]
        },
        {
          "output_type": "stream",
          "name": "stdout",
          "text": [
            "Epoch 31, Train loss: 11.731112399987415\n",
            "Epoch 31, Test loss: 12.328412503004074\n"
          ]
        },
        {
          "output_type": "stream",
          "name": "stderr",
          "text": [
            "\r 13%|█▎        | 32/250 [00:35<03:46,  1.04s/it]"
          ]
        },
        {
          "output_type": "stream",
          "name": "stdout",
          "text": [
            "Epoch 32, Train loss: 11.456818677682792\n",
            "Epoch 32, Test loss: 11.97794097661972\n"
          ]
        },
        {
          "output_type": "stream",
          "name": "stderr",
          "text": [
            "\r 13%|█▎        | 33/250 [00:36<03:43,  1.03s/it]"
          ]
        },
        {
          "output_type": "stream",
          "name": "stdout",
          "text": [
            "Epoch 33, Train loss: 11.513939300469593\n",
            "Epoch 33, Test loss: 11.92039269208908\n"
          ]
        },
        {
          "output_type": "stream",
          "name": "stderr",
          "text": [
            "\r 14%|█▎        | 34/250 [00:37<03:42,  1.03s/it]"
          ]
        },
        {
          "output_type": "stream",
          "name": "stdout",
          "text": [
            "Epoch 34, Train loss: 11.354192214729512\n",
            "Epoch 34, Test loss: 12.241352140903473\n"
          ]
        },
        {
          "output_type": "stream",
          "name": "stderr",
          "text": [
            "\r 14%|█▍        | 35/250 [00:39<03:41,  1.03s/it]"
          ]
        },
        {
          "output_type": "stream",
          "name": "stdout",
          "text": [
            "Epoch 35, Train loss: 11.40113974883493\n",
            "Epoch 35, Test loss: 11.820021450519562\n",
            "Epoch 36, Train loss: 11.416635289656378\n"
          ]
        },
        {
          "output_type": "stream",
          "name": "stderr",
          "text": [
            "\r 14%|█▍        | 36/250 [00:40<03:45,  1.05s/it]"
          ]
        },
        {
          "output_type": "stream",
          "name": "stdout",
          "text": [
            "Epoch 36, Test loss: 12.126321017742157\n",
            "Epoch 37, Train loss: 11.393734877088429\n"
          ]
        },
        {
          "output_type": "stream",
          "name": "stderr",
          "text": [
            "\r 15%|█▍        | 37/250 [00:41<04:03,  1.14s/it]"
          ]
        },
        {
          "output_type": "stream",
          "name": "stdout",
          "text": [
            "Epoch 37, Test loss: 11.85903200507164\n"
          ]
        },
        {
          "output_type": "stream",
          "name": "stderr",
          "text": [
            "\r 15%|█▌        | 38/250 [00:42<04:03,  1.15s/it]"
          ]
        },
        {
          "output_type": "stream",
          "name": "stdout",
          "text": [
            "Epoch 38, Train loss: 11.383446803135154\n",
            "Epoch 38, Test loss: 11.918724834918976\n"
          ]
        },
        {
          "output_type": "stream",
          "name": "stderr",
          "text": [
            "\r 16%|█▌        | 39/250 [00:43<03:54,  1.11s/it]"
          ]
        },
        {
          "output_type": "stream",
          "name": "stdout",
          "text": [
            "Epoch 39, Train loss: 11.346619880304928\n",
            "Epoch 39, Test loss: 12.097994804382324\n"
          ]
        },
        {
          "output_type": "stream",
          "name": "stderr",
          "text": [
            "\r 16%|█▌        | 40/250 [00:44<03:47,  1.08s/it]"
          ]
        },
        {
          "output_type": "stream",
          "name": "stdout",
          "text": [
            "Epoch 40, Train loss: 11.259426918704953\n",
            "Epoch 40, Test loss: 11.803969383239746\n"
          ]
        },
        {
          "output_type": "stream",
          "name": "stderr",
          "text": [
            "\r 16%|█▋        | 41/250 [00:45<03:43,  1.07s/it]"
          ]
        },
        {
          "output_type": "stream",
          "name": "stdout",
          "text": [
            "Epoch 41, Train loss: 11.307867467930887\n",
            "Epoch 41, Test loss: 12.06255704164505\n"
          ]
        },
        {
          "output_type": "stream",
          "name": "stderr",
          "text": [
            "\r 17%|█▋        | 42/250 [00:46<03:37,  1.05s/it]"
          ]
        },
        {
          "output_type": "stream",
          "name": "stdout",
          "text": [
            "Epoch 42, Train loss: 11.320824066094593\n",
            "Epoch 42, Test loss: 12.104322254657745\n"
          ]
        },
        {
          "output_type": "stream",
          "name": "stderr",
          "text": [
            "\r 17%|█▋        | 43/250 [00:47<03:34,  1.04s/it]"
          ]
        },
        {
          "output_type": "stream",
          "name": "stdout",
          "text": [
            "Epoch 43, Train loss: 11.338928944241685\n",
            "Epoch 43, Test loss: 11.810009747743607\n"
          ]
        },
        {
          "output_type": "stream",
          "name": "stderr",
          "text": [
            "\r 18%|█▊        | 44/250 [00:48<03:32,  1.03s/it]"
          ]
        },
        {
          "output_type": "stream",
          "name": "stdout",
          "text": [
            "Epoch 44, Train loss: 11.350547035183526\n",
            "Epoch 44, Test loss: 11.951893210411072\n"
          ]
        },
        {
          "output_type": "stream",
          "name": "stderr",
          "text": [
            "\r 18%|█▊        | 45/250 [00:49<03:31,  1.03s/it]"
          ]
        },
        {
          "output_type": "stream",
          "name": "stdout",
          "text": [
            "Epoch 45, Train loss: 11.285001632386605\n",
            "Epoch 45, Test loss: 11.775201290845871\n"
          ]
        },
        {
          "output_type": "stream",
          "name": "stderr",
          "text": [
            "\r 18%|█▊        | 46/250 [00:50<03:30,  1.03s/it]"
          ]
        },
        {
          "output_type": "stream",
          "name": "stdout",
          "text": [
            "Epoch 46, Train loss: 11.301413717523085\n",
            "Epoch 46, Test loss: 11.883636176586151\n"
          ]
        },
        {
          "output_type": "stream",
          "name": "stderr",
          "text": [
            "\r 19%|█▉        | 47/250 [00:51<03:28,  1.02s/it]"
          ]
        },
        {
          "output_type": "stream",
          "name": "stdout",
          "text": [
            "Epoch 47, Train loss: 11.295976259012138\n",
            "Epoch 47, Test loss: 11.791348367929459\n",
            "Epoch 48, Train loss: 11.316571273634919\n"
          ]
        },
        {
          "output_type": "stream",
          "name": "stderr",
          "text": [
            "\r 19%|█▉        | 48/250 [00:53<03:43,  1.11s/it]"
          ]
        },
        {
          "output_type": "stream",
          "name": "stdout",
          "text": [
            "Epoch 48, Test loss: 12.358041167259216\n"
          ]
        },
        {
          "output_type": "stream",
          "name": "stderr",
          "text": [
            "\r 20%|█▉        | 49/250 [00:54<03:52,  1.15s/it]"
          ]
        },
        {
          "output_type": "stream",
          "name": "stdout",
          "text": [
            "Epoch 49, Train loss: 11.315923538883176\n",
            "Epoch 49, Test loss: 11.800280600786209\n"
          ]
        },
        {
          "output_type": "stream",
          "name": "stderr",
          "text": [
            "\r 20%|██        | 50/250 [00:55<03:43,  1.12s/it]"
          ]
        },
        {
          "output_type": "stream",
          "name": "stdout",
          "text": [
            "Epoch 50, Train loss: 11.40178129736301\n",
            "Epoch 50, Test loss: 11.782706528902054\n"
          ]
        },
        {
          "output_type": "stream",
          "name": "stderr",
          "text": [
            "\r 20%|██        | 51/250 [00:56<03:36,  1.09s/it]"
          ]
        },
        {
          "output_type": "stream",
          "name": "stdout",
          "text": [
            "Epoch 51, Train loss: 11.251281734061452\n",
            "Epoch 51, Test loss: 11.868545830249786\n"
          ]
        },
        {
          "output_type": "stream",
          "name": "stderr",
          "text": [
            "\r 21%|██        | 52/250 [00:57<03:32,  1.07s/it]"
          ]
        },
        {
          "output_type": "stream",
          "name": "stdout",
          "text": [
            "Epoch 52, Train loss: 11.225432100549208\n",
            "Epoch 52, Test loss: 11.731821060180664\n"
          ]
        },
        {
          "output_type": "stream",
          "name": "stderr",
          "text": [
            "\r 21%|██        | 53/250 [00:58<03:27,  1.06s/it]"
          ]
        },
        {
          "output_type": "stream",
          "name": "stdout",
          "text": [
            "Epoch 53, Train loss: 11.248631422498585\n",
            "Epoch 53, Test loss: 11.739571303129196\n"
          ]
        },
        {
          "output_type": "stream",
          "name": "stderr",
          "text": [
            "\r 22%|██▏       | 54/250 [00:59<03:24,  1.04s/it]"
          ]
        },
        {
          "output_type": "stream",
          "name": "stdout",
          "text": [
            "Epoch 54, Train loss: 11.180342881025465\n",
            "Epoch 54, Test loss: 11.694375693798065\n"
          ]
        },
        {
          "output_type": "stream",
          "name": "stderr",
          "text": [
            "\r 22%|██▏       | 55/250 [01:00<03:22,  1.04s/it]"
          ]
        },
        {
          "output_type": "stream",
          "name": "stdout",
          "text": [
            "Epoch 55, Train loss: 11.216328342403985\n",
            "Epoch 55, Test loss: 11.799508303403854\n"
          ]
        },
        {
          "output_type": "stream",
          "name": "stderr",
          "text": [
            "\r 22%|██▏       | 56/250 [01:01<03:20,  1.03s/it]"
          ]
        },
        {
          "output_type": "stream",
          "name": "stdout",
          "text": [
            "Epoch 56, Train loss: 11.216326709342214\n",
            "Epoch 56, Test loss: 11.880790203809738\n"
          ]
        },
        {
          "output_type": "stream",
          "name": "stderr",
          "text": [
            "\r 23%|██▎       | 57/250 [01:02<03:17,  1.02s/it]"
          ]
        },
        {
          "output_type": "stream",
          "name": "stdout",
          "text": [
            "Epoch 57, Train loss: 11.261345331647755\n",
            "Epoch 57, Test loss: 11.98149898648262\n"
          ]
        },
        {
          "output_type": "stream",
          "name": "stderr",
          "text": [
            "\r 23%|██▎       | 58/250 [01:03<03:16,  1.02s/it]"
          ]
        },
        {
          "output_type": "stream",
          "name": "stdout",
          "text": [
            "Epoch 58, Train loss: 11.20241839062851\n",
            "Epoch 58, Test loss: 11.72507917881012\n",
            "Epoch 59, Train loss: 11.203248762451443\n"
          ]
        },
        {
          "output_type": "stream",
          "name": "stderr",
          "text": [
            "\r 24%|██▎       | 59/250 [01:04<03:28,  1.09s/it]"
          ]
        },
        {
          "output_type": "stream",
          "name": "stdout",
          "text": [
            "Epoch 59, Test loss: 11.722753912210464\n"
          ]
        },
        {
          "output_type": "stream",
          "name": "stderr",
          "text": [
            "\r 24%|██▍       | 60/250 [01:06<03:41,  1.16s/it]"
          ]
        },
        {
          "output_type": "stream",
          "name": "stdout",
          "text": [
            "Epoch 60, Train loss: 11.217528630146939\n",
            "Epoch 60, Test loss: 11.701655119657516\n"
          ]
        },
        {
          "output_type": "stream",
          "name": "stderr",
          "text": [
            "\r 24%|██▍       | 61/250 [01:07<03:33,  1.13s/it]"
          ]
        },
        {
          "output_type": "stream",
          "name": "stdout",
          "text": [
            "Epoch 61, Train loss: 11.211526739913806\n",
            "Epoch 61, Test loss: 11.702696233987808\n"
          ]
        },
        {
          "output_type": "stream",
          "name": "stderr",
          "text": [
            "\r 25%|██▍       | 62/250 [01:08<03:26,  1.10s/it]"
          ]
        },
        {
          "output_type": "stream",
          "name": "stdout",
          "text": [
            "Epoch 62, Train loss: 11.160830396466551\n",
            "Epoch 62, Test loss: 11.68980297446251\n"
          ]
        },
        {
          "output_type": "stream",
          "name": "stderr",
          "text": [
            "\r 25%|██▌       | 63/250 [01:09<03:21,  1.08s/it]"
          ]
        },
        {
          "output_type": "stream",
          "name": "stdout",
          "text": [
            "Epoch 63, Train loss: 11.137229252705533\n",
            "Epoch 63, Test loss: 11.722314924001694\n"
          ]
        },
        {
          "output_type": "stream",
          "name": "stderr",
          "text": [
            "\r 26%|██▌       | 64/250 [01:10<03:18,  1.07s/it]"
          ]
        },
        {
          "output_type": "stream",
          "name": "stdout",
          "text": [
            "Epoch 64, Train loss: 11.178098581533517\n",
            "Epoch 64, Test loss: 11.68109518289566\n"
          ]
        },
        {
          "output_type": "stream",
          "name": "stderr",
          "text": [
            "\r 26%|██▌       | 65/250 [01:11<03:14,  1.05s/it]"
          ]
        },
        {
          "output_type": "stream",
          "name": "stdout",
          "text": [
            "Epoch 65, Train loss: 11.158094389248738\n",
            "Epoch 65, Test loss: 11.762185275554657\n"
          ]
        },
        {
          "output_type": "stream",
          "name": "stderr",
          "text": [
            "\r 26%|██▋       | 66/250 [01:12<03:12,  1.05s/it]"
          ]
        },
        {
          "output_type": "stream",
          "name": "stdout",
          "text": [
            "Epoch 66, Train loss: 11.160078694335127\n",
            "Epoch 66, Test loss: 11.681578367948532\n"
          ]
        },
        {
          "output_type": "stream",
          "name": "stderr",
          "text": [
            "\r 27%|██▋       | 67/250 [01:13<03:09,  1.04s/it]"
          ]
        },
        {
          "output_type": "stream",
          "name": "stdout",
          "text": [
            "Epoch 67, Train loss: 11.144983523714858\n",
            "Epoch 67, Test loss: 11.8341144323349\n"
          ]
        },
        {
          "output_type": "stream",
          "name": "stderr",
          "text": [
            "\r 27%|██▋       | 68/250 [01:14<03:07,  1.03s/it]"
          ]
        },
        {
          "output_type": "stream",
          "name": "stdout",
          "text": [
            "Epoch 68, Train loss: 11.142665808179737\n",
            "Epoch 68, Test loss: 11.7433400452137\n"
          ]
        },
        {
          "output_type": "stream",
          "name": "stderr",
          "text": [
            "\r 28%|██▊       | 69/250 [01:15<03:04,  1.02s/it]"
          ]
        },
        {
          "output_type": "stream",
          "name": "stdout",
          "text": [
            "Epoch 69, Train loss: 11.150816913199636\n",
            "Epoch 69, Test loss: 11.68280228972435\n",
            "Epoch 70, Train loss: 11.16360608666344\n"
          ]
        },
        {
          "output_type": "stream",
          "name": "stderr",
          "text": [
            "\r 28%|██▊       | 70/250 [01:16<03:24,  1.14s/it]"
          ]
        },
        {
          "output_type": "stream",
          "name": "stdout",
          "text": [
            "Epoch 70, Test loss: 11.794938057661057\n",
            "Epoch 71, Train loss: 11.12453209193407\n"
          ]
        },
        {
          "output_type": "stream",
          "name": "stderr",
          "text": [
            "\r 28%|██▊       | 71/250 [01:18<03:35,  1.20s/it]"
          ]
        },
        {
          "output_type": "stream",
          "name": "stdout",
          "text": [
            "Epoch 71, Test loss: 11.709494829177856\n"
          ]
        },
        {
          "output_type": "stream",
          "name": "stderr",
          "text": [
            "\r 29%|██▉       | 72/250 [01:19<03:26,  1.16s/it]"
          ]
        },
        {
          "output_type": "stream",
          "name": "stdout",
          "text": [
            "Epoch 72, Train loss: 11.123520420715872\n",
            "Epoch 72, Test loss: 11.659453094005585\n"
          ]
        },
        {
          "output_type": "stream",
          "name": "stderr",
          "text": [
            "\r 29%|██▉       | 73/250 [01:20<03:21,  1.14s/it]"
          ]
        },
        {
          "output_type": "stream",
          "name": "stdout",
          "text": [
            "Epoch 73, Train loss: 11.119202495676227\n",
            "Epoch 73, Test loss: 11.697548300027847\n",
            "Epoch 74, Train loss: 11.124073948480387\n"
          ]
        },
        {
          "output_type": "stream",
          "name": "stderr",
          "text": [
            "\r 30%|██▉       | 74/250 [01:21<03:30,  1.20s/it]"
          ]
        },
        {
          "output_type": "stream",
          "name": "stdout",
          "text": [
            "Epoch 74, Test loss: 11.703555166721344\n"
          ]
        },
        {
          "output_type": "stream",
          "name": "stderr",
          "text": [
            "\r 30%|███       | 75/250 [01:22<03:21,  1.15s/it]"
          ]
        },
        {
          "output_type": "stream",
          "name": "stdout",
          "text": [
            "Epoch 75, Train loss: 11.109348276020151\n",
            "Epoch 75, Test loss: 11.745510697364807\n"
          ]
        },
        {
          "output_type": "stream",
          "name": "stderr",
          "text": [
            "\r 30%|███       | 76/250 [01:23<03:13,  1.11s/it]"
          ]
        },
        {
          "output_type": "stream",
          "name": "stdout",
          "text": [
            "Epoch 76, Train loss: 11.14373627384152\n",
            "Epoch 76, Test loss: 11.73399543762207\n"
          ]
        },
        {
          "output_type": "stream",
          "name": "stderr",
          "text": [
            "\r 31%|███       | 77/250 [01:24<03:07,  1.08s/it]"
          ]
        },
        {
          "output_type": "stream",
          "name": "stdout",
          "text": [
            "Epoch 77, Train loss: 11.147580501252571\n",
            "Epoch 77, Test loss: 11.713908940553665\n"
          ]
        },
        {
          "output_type": "stream",
          "name": "stderr",
          "text": [
            "\r 31%|███       | 78/250 [01:26<03:18,  1.15s/it]"
          ]
        },
        {
          "output_type": "stream",
          "name": "stdout",
          "text": [
            "Epoch 78, Train loss: 11.110087200603655\n",
            "Epoch 78, Test loss: 11.692652404308319\n"
          ]
        },
        {
          "output_type": "stream",
          "name": "stderr",
          "text": [
            "\r 32%|███▏      | 79/250 [01:27<03:11,  1.12s/it]"
          ]
        },
        {
          "output_type": "stream",
          "name": "stdout",
          "text": [
            "Epoch 79, Train loss: 11.15048088647623\n",
            "Epoch 79, Test loss: 11.751993656158447\n",
            "Epoch 80, Train loss: 11.120109296478\n"
          ]
        },
        {
          "output_type": "stream",
          "name": "stderr",
          "text": [
            "\r 32%|███▏      | 80/250 [01:28<03:07,  1.10s/it]"
          ]
        },
        {
          "output_type": "stream",
          "name": "stdout",
          "text": [
            "Epoch 80, Test loss: 11.6658094227314\n",
            "Epoch 81, Train loss: 11.113475445097526\n"
          ]
        },
        {
          "output_type": "stream",
          "name": "stderr",
          "text": [
            "\r 32%|███▏      | 81/250 [01:29<03:17,  1.17s/it]"
          ]
        },
        {
          "output_type": "stream",
          "name": "stdout",
          "text": [
            "Epoch 81, Test loss: 11.675632625818253\n"
          ]
        },
        {
          "output_type": "stream",
          "name": "stderr",
          "text": [
            "\r 33%|███▎      | 82/250 [01:30<03:28,  1.24s/it]"
          ]
        },
        {
          "output_type": "stream",
          "name": "stdout",
          "text": [
            "Epoch 82, Train loss: 11.134776659771404\n",
            "Epoch 82, Test loss: 11.64258000254631\n"
          ]
        },
        {
          "output_type": "stream",
          "name": "stderr",
          "text": [
            "\r 33%|███▎      | 83/250 [01:31<03:16,  1.18s/it]"
          ]
        },
        {
          "output_type": "stream",
          "name": "stdout",
          "text": [
            "Epoch 83, Train loss: 11.125361050124717\n",
            "Epoch 83, Test loss: 11.66683766245842\n"
          ]
        },
        {
          "output_type": "stream",
          "name": "stderr",
          "text": [
            "\r 34%|███▎      | 84/250 [01:32<03:08,  1.13s/it]"
          ]
        },
        {
          "output_type": "stream",
          "name": "stdout",
          "text": [
            "Epoch 84, Train loss: 11.110671891575366\n",
            "Epoch 84, Test loss: 11.662217378616333\n"
          ]
        },
        {
          "output_type": "stream",
          "name": "stderr",
          "text": [
            "\r 34%|███▍      | 85/250 [01:33<03:01,  1.10s/it]"
          ]
        },
        {
          "output_type": "stream",
          "name": "stdout",
          "text": [
            "Epoch 85, Train loss: 11.093634660265087\n",
            "Epoch 85, Test loss: 11.754885256290436\n"
          ]
        },
        {
          "output_type": "stream",
          "name": "stderr",
          "text": [
            "\r 34%|███▍      | 86/250 [01:34<02:56,  1.08s/it]"
          ]
        },
        {
          "output_type": "stream",
          "name": "stdout",
          "text": [
            "Epoch 86, Train loss: 11.103987351982994\n",
            "Epoch 86, Test loss: 11.694141000509262\n",
            "Epoch 87, Train loss: 11.08912400861757\n"
          ]
        },
        {
          "output_type": "stream",
          "name": "stderr",
          "text": [
            "\r 35%|███▍      | 87/250 [01:36<03:02,  1.12s/it]"
          ]
        },
        {
          "output_type": "stream",
          "name": "stdout",
          "text": [
            "Epoch 87, Test loss: 11.699226886034012\n"
          ]
        },
        {
          "output_type": "stream",
          "name": "stderr",
          "text": [
            "\r 35%|███▌      | 88/250 [01:37<03:11,  1.18s/it]"
          ]
        },
        {
          "output_type": "stream",
          "name": "stdout",
          "text": [
            "Epoch 88, Train loss: 11.106742550841474\n",
            "Epoch 88, Test loss: 11.704101532697678\n",
            "Epoch 89, Train loss: 11.085032847075336\n"
          ]
        },
        {
          "output_type": "stream",
          "name": "stderr",
          "text": [
            "\r 36%|███▌      | 89/250 [01:38<03:15,  1.22s/it]"
          ]
        },
        {
          "output_type": "stream",
          "name": "stdout",
          "text": [
            "Epoch 89, Test loss: 11.642428040504456\n",
            "Epoch 90, Train loss: 11.093015734073335\n"
          ]
        },
        {
          "output_type": "stream",
          "name": "stderr",
          "text": [
            "\r 36%|███▌      | 90/250 [01:40<03:19,  1.25s/it]"
          ]
        },
        {
          "output_type": "stream",
          "name": "stdout",
          "text": [
            "Epoch 90, Test loss: 11.650826126337051\n",
            "Epoch 91, Train loss: 11.124405358744934\n"
          ]
        },
        {
          "output_type": "stream",
          "name": "stderr",
          "text": [
            "\r 36%|███▋      | 91/250 [01:41<03:20,  1.26s/it]"
          ]
        },
        {
          "output_type": "stream",
          "name": "stdout",
          "text": [
            "Epoch 91, Test loss: 11.671876698732376\n",
            "Epoch 92, Train loss: 11.090064875847471\n"
          ]
        },
        {
          "output_type": "stream",
          "name": "stderr",
          "text": [
            "\r 37%|███▋      | 92/250 [01:43<03:35,  1.36s/it]"
          ]
        },
        {
          "output_type": "stream",
          "name": "stdout",
          "text": [
            "Epoch 92, Test loss: 11.744822084903717\n",
            "Epoch 93, Train loss: 11.103715685616553\n"
          ]
        },
        {
          "output_type": "stream",
          "name": "stderr",
          "text": [
            "\r 37%|███▋      | 93/250 [01:44<03:46,  1.44s/it]"
          ]
        },
        {
          "output_type": "stream",
          "name": "stdout",
          "text": [
            "Epoch 93, Test loss: 11.643280804157257\n"
          ]
        },
        {
          "output_type": "stream",
          "name": "stderr",
          "text": [
            "\r 38%|███▊      | 94/250 [01:45<03:27,  1.33s/it]"
          ]
        },
        {
          "output_type": "stream",
          "name": "stdout",
          "text": [
            "Epoch 94, Train loss: 11.09613745191456\n",
            "Epoch 94, Test loss: 11.705091267824173\n"
          ]
        },
        {
          "output_type": "stream",
          "name": "stderr",
          "text": [
            "\r 38%|███▊      | 95/250 [01:46<03:12,  1.24s/it]"
          ]
        },
        {
          "output_type": "stream",
          "name": "stdout",
          "text": [
            "Epoch 95, Train loss: 11.107741461390942\n",
            "Epoch 95, Test loss: 11.748648285865784\n"
          ]
        },
        {
          "output_type": "stream",
          "name": "stderr",
          "text": [
            "\r 38%|███▊      | 96/250 [01:47<03:01,  1.18s/it]"
          ]
        },
        {
          "output_type": "stream",
          "name": "stdout",
          "text": [
            "Epoch 96, Train loss: 11.0864275577849\n",
            "Epoch 96, Test loss: 11.745319694280624\n"
          ]
        },
        {
          "output_type": "stream",
          "name": "stderr",
          "text": [
            "\r 39%|███▉      | 97/250 [01:48<02:52,  1.13s/it]"
          ]
        },
        {
          "output_type": "stream",
          "name": "stdout",
          "text": [
            "Epoch 97, Train loss: 11.087247561564487\n",
            "Epoch 97, Test loss: 11.659568101167679\n"
          ]
        },
        {
          "output_type": "stream",
          "name": "stderr",
          "text": [
            "\r 39%|███▉      | 98/250 [01:49<02:52,  1.14s/it]"
          ]
        },
        {
          "output_type": "stream",
          "name": "stdout",
          "text": [
            "Epoch 98, Train loss: 11.088132664165666\n",
            "Epoch 98, Test loss: 11.7000230550766\n"
          ]
        },
        {
          "output_type": "stream",
          "name": "stderr",
          "text": [
            "\r 40%|███▉      | 99/250 [01:50<02:47,  1.11s/it]"
          ]
        },
        {
          "output_type": "stream",
          "name": "stdout",
          "text": [
            "Epoch 99, Train loss: 11.087130360898719\n",
            "Epoch 99, Test loss: 11.6419175863266\n",
            "Epoch 100, Train loss: 11.107107040101448\n"
          ]
        },
        {
          "output_type": "stream",
          "name": "stderr",
          "text": [
            "\r 40%|████      | 100/250 [01:52<03:04,  1.23s/it]"
          ]
        },
        {
          "output_type": "stream",
          "name": "stdout",
          "text": [
            "Epoch 100, Test loss: 11.703843206167221\n",
            "Epoch 101, Train loss: 11.066297801194994\n"
          ]
        },
        {
          "output_type": "stream",
          "name": "stderr",
          "text": [
            "\r 40%|████      | 101/250 [01:54<03:18,  1.33s/it]"
          ]
        },
        {
          "output_type": "stream",
          "name": "stdout",
          "text": [
            "Epoch 101, Test loss: 11.632464110851288\n",
            "Epoch 102, Train loss: 11.079678738011722\n"
          ]
        },
        {
          "output_type": "stream",
          "name": "stderr",
          "text": [
            "\r 41%|████      | 102/250 [01:55<03:19,  1.35s/it]"
          ]
        },
        {
          "output_type": "stream",
          "name": "stdout",
          "text": [
            "Epoch 102, Test loss: 11.687438488006592\n",
            "Epoch 103, Train loss: 11.110046239025825\n"
          ]
        },
        {
          "output_type": "stream",
          "name": "stderr",
          "text": [
            "\r 41%|████      | 103/250 [01:56<03:19,  1.36s/it]"
          ]
        },
        {
          "output_type": "stream",
          "name": "stdout",
          "text": [
            "Epoch 103, Test loss: 11.676715523004532\n"
          ]
        },
        {
          "output_type": "stream",
          "name": "stderr",
          "text": [
            "\r 42%|████▏     | 104/250 [01:58<03:09,  1.30s/it]"
          ]
        },
        {
          "output_type": "stream",
          "name": "stdout",
          "text": [
            "Epoch 104, Train loss: 11.098218259558214\n",
            "Epoch 104, Test loss: 11.68220716714859\n",
            "Epoch 105, Train loss: 11.08037170477673\n"
          ]
        },
        {
          "output_type": "stream",
          "name": "stderr",
          "text": [
            "\r 42%|████▏     | 105/250 [01:59<03:06,  1.28s/it]"
          ]
        },
        {
          "output_type": "stream",
          "name": "stdout",
          "text": [
            "Epoch 105, Test loss: 11.643963307142258\n"
          ]
        },
        {
          "output_type": "stream",
          "name": "stderr",
          "text": [
            "\r 42%|████▏     | 106/250 [02:00<03:15,  1.36s/it]"
          ]
        },
        {
          "output_type": "stream",
          "name": "stdout",
          "text": [
            "Epoch 106, Train loss: 11.087207958761569\n",
            "Epoch 106, Test loss: 11.66064766049385\n",
            "Epoch 107, Train loss: 11.088418644086449\n"
          ]
        },
        {
          "output_type": "stream",
          "name": "stderr",
          "text": [
            "\r 43%|████▎     | 107/250 [02:02<03:15,  1.37s/it]"
          ]
        },
        {
          "output_type": "stream",
          "name": "stdout",
          "text": [
            "Epoch 107, Test loss: 11.671751290559769\n"
          ]
        },
        {
          "output_type": "stream",
          "name": "stderr",
          "text": [
            "\r 43%|████▎     | 108/250 [02:03<03:12,  1.36s/it]"
          ]
        },
        {
          "output_type": "stream",
          "name": "stdout",
          "text": [
            "Epoch 108, Train loss: 11.060100217836093\n",
            "Epoch 108, Test loss: 11.678821712732315\n",
            "Epoch 109, Train loss: 11.104959631388166\n"
          ]
        },
        {
          "output_type": "stream",
          "name": "stderr",
          "text": [
            "\r 44%|████▎     | 109/250 [02:04<03:08,  1.34s/it]"
          ]
        },
        {
          "output_type": "stream",
          "name": "stdout",
          "text": [
            "Epoch 109, Test loss: 11.681272089481354\n",
            "Epoch 110, Train loss: 11.077133811680616\n"
          ]
        },
        {
          "output_type": "stream",
          "name": "stderr",
          "text": [
            "\r 44%|████▍     | 110/250 [02:06<03:08,  1.35s/it]"
          ]
        },
        {
          "output_type": "stream",
          "name": "stdout",
          "text": [
            "Epoch 110, Test loss: 11.652583003044128\n"
          ]
        },
        {
          "output_type": "stream",
          "name": "stderr",
          "text": [
            "\r 44%|████▍     | 111/250 [02:07<03:00,  1.30s/it]"
          ]
        },
        {
          "output_type": "stream",
          "name": "stdout",
          "text": [
            "Epoch 111, Train loss: 11.089522868131114\n",
            "Epoch 111, Test loss: 11.653880000114441\n"
          ]
        },
        {
          "output_type": "stream",
          "name": "stderr",
          "text": [
            "\r 45%|████▍     | 112/250 [02:08<03:06,  1.35s/it]"
          ]
        },
        {
          "output_type": "stream",
          "name": "stdout",
          "text": [
            "Epoch 112, Train loss: 11.076253114548404\n",
            "Epoch 112, Test loss: 11.689206749200821\n"
          ]
        },
        {
          "output_type": "stream",
          "name": "stderr",
          "text": [
            "\r 45%|████▌     | 113/250 [02:09<02:52,  1.26s/it]"
          ]
        },
        {
          "output_type": "stream",
          "name": "stdout",
          "text": [
            "Epoch 113, Train loss: 11.08892431934323\n",
            "Epoch 113, Test loss: 11.667268186807632\n"
          ]
        },
        {
          "output_type": "stream",
          "name": "stderr",
          "text": [
            "\r 46%|████▌     | 114/250 [02:10<02:44,  1.21s/it]"
          ]
        },
        {
          "output_type": "stream",
          "name": "stdout",
          "text": [
            "Epoch 114, Train loss: 11.060266022133616\n",
            "Epoch 114, Test loss: 11.604631066322327\n"
          ]
        },
        {
          "output_type": "stream",
          "name": "stderr",
          "text": [
            "\r 46%|████▌     | 115/250 [02:12<02:36,  1.16s/it]"
          ]
        },
        {
          "output_type": "stream",
          "name": "stdout",
          "text": [
            "Epoch 115, Train loss: 11.080538623100889\n",
            "Epoch 115, Test loss: 11.628224551677704\n"
          ]
        },
        {
          "output_type": "stream",
          "name": "stderr",
          "text": [
            "\r 46%|████▋     | 116/250 [02:13<02:29,  1.12s/it]"
          ]
        },
        {
          "output_type": "stream",
          "name": "stdout",
          "text": [
            "Epoch 116, Train loss: 11.05503580211538\n",
            "Epoch 116, Test loss: 11.681985527276993\n"
          ]
        },
        {
          "output_type": "stream",
          "name": "stderr",
          "text": [
            "\r 47%|████▋     | 117/250 [02:14<02:25,  1.09s/it]"
          ]
        },
        {
          "output_type": "stream",
          "name": "stdout",
          "text": [
            "Epoch 117, Train loss: 11.088903427124023\n",
            "Epoch 117, Test loss: 11.710267007350922\n"
          ]
        },
        {
          "output_type": "stream",
          "name": "stderr",
          "text": [
            "\r 47%|████▋     | 118/250 [02:15<02:21,  1.07s/it]"
          ]
        },
        {
          "output_type": "stream",
          "name": "stdout",
          "text": [
            "Epoch 118, Train loss: 11.083977640202615\n",
            "Epoch 118, Test loss: 11.62039303779602\n"
          ]
        },
        {
          "output_type": "stream",
          "name": "stderr",
          "text": [
            "\r 48%|████▊     | 119/250 [02:16<02:18,  1.06s/it]"
          ]
        },
        {
          "output_type": "stream",
          "name": "stdout",
          "text": [
            "Epoch 119, Train loss: 11.080501573275676\n",
            "Epoch 119, Test loss: 11.680777549743652\n",
            "Epoch 120, Train loss: 11.080349808245634\n"
          ]
        },
        {
          "output_type": "stream",
          "name": "stderr",
          "text": [
            "\r 48%|████▊     | 120/250 [02:17<02:23,  1.11s/it]"
          ]
        },
        {
          "output_type": "stream",
          "name": "stdout",
          "text": [
            "Epoch 120, Test loss: 11.658222258090973\n",
            "Epoch 121, Train loss: 11.06016589476999\n"
          ]
        },
        {
          "output_type": "stream",
          "name": "stderr",
          "text": [
            "\r 48%|████▊     | 121/250 [02:18<02:33,  1.19s/it]"
          ]
        },
        {
          "output_type": "stream",
          "name": "stdout",
          "text": [
            "Epoch 121, Test loss: 11.639803320169449\n"
          ]
        },
        {
          "output_type": "stream",
          "name": "stderr",
          "text": [
            "\r 49%|████▉     | 122/250 [02:19<02:27,  1.15s/it]"
          ]
        },
        {
          "output_type": "stream",
          "name": "stdout",
          "text": [
            "Epoch 122, Train loss: 11.056122838923361\n",
            "Epoch 122, Test loss: 11.658473372459412\n"
          ]
        },
        {
          "output_type": "stream",
          "name": "stderr",
          "text": [
            "\r 49%|████▉     | 123/250 [02:20<02:22,  1.12s/it]"
          ]
        },
        {
          "output_type": "stream",
          "name": "stdout",
          "text": [
            "Epoch 123, Train loss: 11.09093479139615\n",
            "Epoch 123, Test loss: 11.712380915880203\n"
          ]
        },
        {
          "output_type": "stream",
          "name": "stderr",
          "text": [
            "\r 50%|████▉     | 124/250 [02:21<02:18,  1.10s/it]"
          ]
        },
        {
          "output_type": "stream",
          "name": "stdout",
          "text": [
            "Epoch 124, Train loss: 11.074301601511188\n",
            "Epoch 124, Test loss: 11.654939144849777\n"
          ]
        },
        {
          "output_type": "stream",
          "name": "stderr",
          "text": [
            "\r 50%|█████     | 125/250 [02:22<02:14,  1.08s/it]"
          ]
        },
        {
          "output_type": "stream",
          "name": "stdout",
          "text": [
            "Epoch 125, Train loss: 11.069309306355704\n",
            "Epoch 125, Test loss: 11.673966467380524\n"
          ]
        },
        {
          "output_type": "stream",
          "name": "stderr",
          "text": [
            "\r 50%|█████     | 126/250 [02:23<02:11,  1.06s/it]"
          ]
        },
        {
          "output_type": "stream",
          "name": "stdout",
          "text": [
            "Epoch 126, Train loss: 11.06862217135134\n",
            "Epoch 126, Test loss: 11.637741088867188\n"
          ]
        },
        {
          "output_type": "stream",
          "name": "stderr",
          "text": [
            "\r 51%|█████     | 127/250 [02:24<02:09,  1.05s/it]"
          ]
        },
        {
          "output_type": "stream",
          "name": "stdout",
          "text": [
            "Epoch 127, Train loss: 11.067640258147653\n",
            "Epoch 127, Test loss: 11.675243020057678\n"
          ]
        },
        {
          "output_type": "stream",
          "name": "stderr",
          "text": [
            "\r 51%|█████     | 128/250 [02:25<02:07,  1.04s/it]"
          ]
        },
        {
          "output_type": "stream",
          "name": "stdout",
          "text": [
            "Epoch 128, Train loss: 11.069477279629327\n",
            "Epoch 128, Test loss: 11.734536588191986\n"
          ]
        },
        {
          "output_type": "stream",
          "name": "stderr",
          "text": [
            "\r 52%|█████▏    | 129/250 [02:26<02:05,  1.03s/it]"
          ]
        },
        {
          "output_type": "stream",
          "name": "stdout",
          "text": [
            "Epoch 129, Train loss: 11.060014117080554\n",
            "Epoch 129, Test loss: 11.644736975431442\n"
          ]
        },
        {
          "output_type": "stream",
          "name": "stderr",
          "text": [
            "\r 52%|█████▏    | 130/250 [02:28<02:03,  1.03s/it]"
          ]
        },
        {
          "output_type": "stream",
          "name": "stdout",
          "text": [
            "Epoch 130, Train loss: 11.056143769120748\n",
            "Epoch 130, Test loss: 11.682344168424606\n",
            "Epoch 131, Train loss: 11.067740495226024\n"
          ]
        },
        {
          "output_type": "stream",
          "name": "stderr",
          "text": [
            "\r 52%|█████▏    | 131/250 [02:29<02:07,  1.07s/it]"
          ]
        },
        {
          "output_type": "stream",
          "name": "stdout",
          "text": [
            "Epoch 131, Test loss: 11.640754342079163\n",
            "Epoch 132, Train loss: 11.055968267727742\n"
          ]
        },
        {
          "output_type": "stream",
          "name": "stderr",
          "text": [
            "\r 53%|█████▎    | 132/250 [02:30<02:16,  1.16s/it]"
          ]
        },
        {
          "output_type": "stream",
          "name": "stdout",
          "text": [
            "Epoch 132, Test loss: 11.6604562997818\n"
          ]
        },
        {
          "output_type": "stream",
          "name": "stderr",
          "text": [
            "\r 53%|█████▎    | 133/250 [02:31<02:14,  1.15s/it]"
          ]
        },
        {
          "output_type": "stream",
          "name": "stdout",
          "text": [
            "Epoch 133, Train loss: 11.064985473599053\n",
            "Epoch 133, Test loss: 11.656234413385391\n"
          ]
        },
        {
          "output_type": "stream",
          "name": "stderr",
          "text": [
            "\r 54%|█████▎    | 134/250 [02:32<02:09,  1.12s/it]"
          ]
        },
        {
          "output_type": "stream",
          "name": "stdout",
          "text": [
            "Epoch 134, Train loss: 11.058286084538013\n",
            "Epoch 134, Test loss: 11.62567538022995\n",
            "Epoch 135, Train loss: 11.058009316435957\n"
          ]
        },
        {
          "output_type": "stream",
          "name": "stderr",
          "text": [
            "\r 54%|█████▍    | 135/250 [02:33<02:11,  1.15s/it]"
          ]
        },
        {
          "output_type": "stream",
          "name": "stdout",
          "text": [
            "Epoch 135, Test loss: 11.745531976222992\n"
          ]
        },
        {
          "output_type": "stream",
          "name": "stderr",
          "text": [
            "\r 54%|█████▍    | 136/250 [02:35<02:26,  1.28s/it]"
          ]
        },
        {
          "output_type": "stream",
          "name": "stdout",
          "text": [
            "Epoch 136, Train loss: 11.064651974534566\n",
            "Epoch 136, Test loss: 11.622049272060394\n"
          ]
        },
        {
          "output_type": "stream",
          "name": "stderr",
          "text": [
            "\r 55%|█████▍    | 137/250 [02:36<02:17,  1.22s/it]"
          ]
        },
        {
          "output_type": "stream",
          "name": "stdout",
          "text": [
            "Epoch 137, Train loss: 11.053844506761669\n",
            "Epoch 137, Test loss: 11.665156185626984\n"
          ]
        },
        {
          "output_type": "stream",
          "name": "stderr",
          "text": [
            "\r 55%|█████▌    | 138/250 [02:37<02:13,  1.19s/it]"
          ]
        },
        {
          "output_type": "stream",
          "name": "stdout",
          "text": [
            "Epoch 138, Train loss: 11.067380094950177\n",
            "Epoch 138, Test loss: 11.650829166173935\n"
          ]
        },
        {
          "output_type": "stream",
          "name": "stderr",
          "text": [
            "\r 56%|█████▌    | 139/250 [02:38<02:07,  1.15s/it]"
          ]
        },
        {
          "output_type": "stream",
          "name": "stdout",
          "text": [
            "Epoch 139, Train loss: 11.055402747297709\n",
            "Epoch 139, Test loss: 11.607153832912445\n"
          ]
        },
        {
          "output_type": "stream",
          "name": "stderr",
          "text": [
            "\r 56%|█████▌    | 140/250 [02:39<02:02,  1.11s/it]"
          ]
        },
        {
          "output_type": "stream",
          "name": "stdout",
          "text": [
            "Epoch 140, Train loss: 11.04628778136937\n",
            "Epoch 140, Test loss: 11.709850788116455\n",
            "Epoch 141, Train loss: 11.066285804309675\n"
          ]
        },
        {
          "output_type": "stream",
          "name": "stderr",
          "text": [
            "\r 56%|█████▋    | 141/250 [02:40<01:59,  1.10s/it]"
          ]
        },
        {
          "output_type": "stream",
          "name": "stdout",
          "text": [
            "Epoch 141, Test loss: 11.66300505399704\n",
            "Epoch 142, Train loss: 11.046653156786894\n"
          ]
        },
        {
          "output_type": "stream",
          "name": "stderr",
          "text": [
            "\r 57%|█████▋    | 142/250 [02:42<02:06,  1.18s/it]"
          ]
        },
        {
          "output_type": "stream",
          "name": "stdout",
          "text": [
            "Epoch 142, Test loss: 11.679718762636185\n"
          ]
        },
        {
          "output_type": "stream",
          "name": "stderr",
          "text": [
            "\r 57%|█████▋    | 143/250 [02:43<02:10,  1.22s/it]"
          ]
        },
        {
          "output_type": "stream",
          "name": "stdout",
          "text": [
            "Epoch 143, Train loss: 11.064968868694475\n",
            "Epoch 143, Test loss: 11.699662804603577\n",
            "Epoch 144, Train loss: 11.075867619134684\n"
          ]
        },
        {
          "output_type": "stream",
          "name": "stderr",
          "text": [
            "\r 58%|█████▊    | 144/250 [02:45<02:17,  1.30s/it]"
          ]
        },
        {
          "output_type": "stream",
          "name": "stdout",
          "text": [
            "Epoch 144, Test loss: 11.620875209569931\n",
            "Epoch 145, Train loss: 11.055501650919956\n"
          ]
        },
        {
          "output_type": "stream",
          "name": "stderr",
          "text": [
            "\r 58%|█████▊    | 145/250 [02:46<02:14,  1.28s/it]"
          ]
        },
        {
          "output_type": "stream",
          "name": "stdout",
          "text": [
            "Epoch 145, Test loss: 11.616491258144379\n"
          ]
        },
        {
          "output_type": "stream",
          "name": "stderr",
          "text": [
            "\r 58%|█████▊    | 146/250 [02:47<02:17,  1.32s/it]"
          ]
        },
        {
          "output_type": "stream",
          "name": "stdout",
          "text": [
            "Epoch 146, Train loss: 11.059289725480882\n",
            "Epoch 146, Test loss: 11.676163256168365\n"
          ]
        },
        {
          "output_type": "stream",
          "name": "stderr",
          "text": [
            "\r 59%|█████▉    | 147/250 [02:48<02:06,  1.23s/it]"
          ]
        },
        {
          "output_type": "stream",
          "name": "stdout",
          "text": [
            "Epoch 147, Train loss: 11.053626912885008\n",
            "Epoch 147, Test loss: 11.678493678569794\n"
          ]
        },
        {
          "output_type": "stream",
          "name": "stderr",
          "text": [
            "\r 59%|█████▉    | 148/250 [02:49<01:59,  1.17s/it]"
          ]
        },
        {
          "output_type": "stream",
          "name": "stdout",
          "text": [
            "Epoch 148, Train loss: 11.057676425022361\n",
            "Epoch 148, Test loss: 11.636585980653763\n"
          ]
        },
        {
          "output_type": "stream",
          "name": "stderr",
          "text": [
            "\r 60%|█████▉    | 149/250 [02:50<01:54,  1.13s/it]"
          ]
        },
        {
          "output_type": "stream",
          "name": "stdout",
          "text": [
            "Epoch 149, Train loss: 11.098471244879528\n",
            "Epoch 149, Test loss: 11.645931482315063\n",
            "Epoch 150, Train loss: 11.078762801347581\n"
          ]
        },
        {
          "output_type": "stream",
          "name": "stderr",
          "text": [
            "\r 60%|██████    | 150/250 [02:51<01:50,  1.10s/it]"
          ]
        },
        {
          "output_type": "stream",
          "name": "stdout",
          "text": [
            "Epoch 150, Test loss: 11.668493002653122\n"
          ]
        },
        {
          "output_type": "stream",
          "name": "stderr",
          "text": [
            "\r 60%|██████    | 151/250 [02:52<01:46,  1.08s/it]"
          ]
        },
        {
          "output_type": "stream",
          "name": "stdout",
          "text": [
            "Epoch 151, Train loss: 11.05329970553913\n",
            "Epoch 151, Test loss: 11.707448422908783\n",
            "Epoch 152, Train loss: 11.06634627823281\n"
          ]
        },
        {
          "output_type": "stream",
          "name": "stderr",
          "text": [
            "\r 61%|██████    | 152/250 [02:54<01:53,  1.16s/it]"
          ]
        },
        {
          "output_type": "stream",
          "name": "stdout",
          "text": [
            "Epoch 152, Test loss: 11.676365911960602\n"
          ]
        },
        {
          "output_type": "stream",
          "name": "stderr",
          "text": [
            "\r 61%|██████    | 153/250 [02:55<01:54,  1.18s/it]"
          ]
        },
        {
          "output_type": "stream",
          "name": "stdout",
          "text": [
            "Epoch 153, Train loss: 11.049529109380941\n",
            "Epoch 153, Test loss: 11.710928559303284\n"
          ]
        },
        {
          "output_type": "stream",
          "name": "stderr",
          "text": [
            "\r 62%|██████▏   | 154/250 [02:56<01:49,  1.14s/it]"
          ]
        },
        {
          "output_type": "stream",
          "name": "stdout",
          "text": [
            "Epoch 154, Train loss: 11.067514478632834\n",
            "Epoch 154, Test loss: 11.624152272939682\n"
          ]
        },
        {
          "output_type": "stream",
          "name": "stderr",
          "text": [
            "\r 62%|██████▏   | 155/250 [02:57<01:51,  1.17s/it]"
          ]
        },
        {
          "output_type": "stream",
          "name": "stdout",
          "text": [
            "Epoch 155, Train loss: 11.055136039193753\n",
            "Epoch 155, Test loss: 11.654887616634369\n"
          ]
        },
        {
          "output_type": "stream",
          "name": "stderr",
          "text": [
            "\r 62%|██████▏   | 156/250 [02:59<01:57,  1.25s/it]"
          ]
        },
        {
          "output_type": "stream",
          "name": "stdout",
          "text": [
            "Epoch 156, Train loss: 11.053596032404267\n",
            "Epoch 156, Test loss: 11.6513050198555\n"
          ]
        },
        {
          "output_type": "stream",
          "name": "stderr",
          "text": [
            "\r 63%|██████▎   | 157/250 [03:00<01:49,  1.18s/it]"
          ]
        },
        {
          "output_type": "stream",
          "name": "stdout",
          "text": [
            "Epoch 157, Train loss: 11.087056067137592\n",
            "Epoch 157, Test loss: 11.640575975179672\n"
          ]
        },
        {
          "output_type": "stream",
          "name": "stderr",
          "text": [
            "\r 63%|██████▎   | 158/250 [03:01<01:43,  1.13s/it]"
          ]
        },
        {
          "output_type": "stream",
          "name": "stdout",
          "text": [
            "Epoch 158, Train loss: 11.053387616587951\n",
            "Epoch 158, Test loss: 11.61534732580185\n"
          ]
        },
        {
          "output_type": "stream",
          "name": "stderr",
          "text": [
            "\r 64%|██████▎   | 159/250 [03:02<01:40,  1.10s/it]"
          ]
        },
        {
          "output_type": "stream",
          "name": "stdout",
          "text": [
            "Epoch 159, Train loss: 11.054868744537893\n",
            "Epoch 159, Test loss: 11.644250452518463\n"
          ]
        },
        {
          "output_type": "stream",
          "name": "stderr",
          "text": [
            "\r 64%|██████▍   | 160/250 [03:03<01:36,  1.07s/it]"
          ]
        },
        {
          "output_type": "stream",
          "name": "stdout",
          "text": [
            "Epoch 160, Train loss: 11.061280258988912\n",
            "Epoch 160, Test loss: 11.732771098613739\n"
          ]
        },
        {
          "output_type": "stream",
          "name": "stderr",
          "text": [
            "\r 64%|██████▍   | 161/250 [03:04<01:34,  1.06s/it]"
          ]
        },
        {
          "output_type": "stream",
          "name": "stdout",
          "text": [
            "Epoch 161, Train loss: 11.065720904189929\n",
            "Epoch 161, Test loss: 11.649003267288208\n",
            "Epoch 162, Train loss: 11.05250731189694\n"
          ]
        },
        {
          "output_type": "stream",
          "name": "stderr",
          "text": [
            "\r 65%|██████▍   | 162/250 [03:05<01:35,  1.09s/it]"
          ]
        },
        {
          "output_type": "stream",
          "name": "stdout",
          "text": [
            "Epoch 162, Test loss: 11.654560774564743\n",
            "Epoch 163, Train loss: 11.053076621705452\n"
          ]
        },
        {
          "output_type": "stream",
          "name": "stderr",
          "text": [
            "\r 65%|██████▌   | 163/250 [03:06<01:41,  1.17s/it]"
          ]
        },
        {
          "output_type": "stream",
          "name": "stdout",
          "text": [
            "Epoch 163, Test loss: 11.605373054742813\n"
          ]
        },
        {
          "output_type": "stream",
          "name": "stderr",
          "text": [
            "\r 66%|██████▌   | 164/250 [03:07<01:38,  1.15s/it]"
          ]
        },
        {
          "output_type": "stream",
          "name": "stdout",
          "text": [
            "Epoch 164, Train loss: 11.056267130691394\n",
            "Epoch 164, Test loss: 11.656677514314651\n",
            "Epoch 165, Train loss: 11.060752632343664\n"
          ]
        },
        {
          "output_type": "stream",
          "name": "stderr",
          "text": [
            "\r 66%|██████▌   | 165/250 [03:09<01:41,  1.19s/it]"
          ]
        },
        {
          "output_type": "stream",
          "name": "stdout",
          "text": [
            "Epoch 165, Test loss: 11.671544969081879\n"
          ]
        },
        {
          "output_type": "stream",
          "name": "stderr",
          "text": [
            "\r 66%|██████▋   | 166/250 [03:10<01:38,  1.18s/it]"
          ]
        },
        {
          "output_type": "stream",
          "name": "stdout",
          "text": [
            "Epoch 166, Train loss: 11.050203956333936\n",
            "Epoch 166, Test loss: 11.710267126560211\n"
          ]
        },
        {
          "output_type": "stream",
          "name": "stderr",
          "text": [
            "\r 67%|██████▋   | 167/250 [03:11<01:33,  1.13s/it]"
          ]
        },
        {
          "output_type": "stream",
          "name": "stdout",
          "text": [
            "Epoch 167, Train loss: 11.067907219439482\n",
            "Epoch 167, Test loss: 11.681775242090225\n"
          ]
        },
        {
          "output_type": "stream",
          "name": "stderr",
          "text": [
            "\r 67%|██████▋   | 168/250 [03:12<01:30,  1.11s/it]"
          ]
        },
        {
          "output_type": "stream",
          "name": "stdout",
          "text": [
            "Epoch 168, Train loss: 11.062454670931386\n",
            "Epoch 168, Test loss: 11.624349802732468\n"
          ]
        },
        {
          "output_type": "stream",
          "name": "stderr",
          "text": [
            "\r 68%|██████▊   | 169/250 [03:13<01:27,  1.08s/it]"
          ]
        },
        {
          "output_type": "stream",
          "name": "stdout",
          "text": [
            "Epoch 169, Train loss: 11.073305121565287\n",
            "Epoch 169, Test loss: 11.68085291981697\n"
          ]
        },
        {
          "output_type": "stream",
          "name": "stderr",
          "text": [
            "\r 68%|██████▊   | 170/250 [03:14<01:25,  1.07s/it]"
          ]
        },
        {
          "output_type": "stream",
          "name": "stdout",
          "text": [
            "Epoch 170, Train loss: 11.065011855775277\n",
            "Epoch 170, Test loss: 11.694953560829163\n"
          ]
        },
        {
          "output_type": "stream",
          "name": "stderr",
          "text": [
            "\r 68%|██████▊   | 171/250 [03:15<01:23,  1.06s/it]"
          ]
        },
        {
          "output_type": "stream",
          "name": "stdout",
          "text": [
            "Epoch 171, Train loss: 11.05156557538868\n",
            "Epoch 171, Test loss: 11.715273410081863\n"
          ]
        },
        {
          "output_type": "stream",
          "name": "stderr",
          "text": [
            "\r 69%|██████▉   | 172/250 [03:16<01:21,  1.05s/it]"
          ]
        },
        {
          "output_type": "stream",
          "name": "stdout",
          "text": [
            "Epoch 172, Train loss: 11.054727064824737\n",
            "Epoch 172, Test loss: 11.739004999399185\n",
            "Epoch 173, Train loss: 11.059136871742991\n"
          ]
        },
        {
          "output_type": "stream",
          "name": "stderr",
          "text": [
            "\r 69%|██████▉   | 173/250 [03:17<01:25,  1.11s/it]"
          ]
        },
        {
          "output_type": "stream",
          "name": "stdout",
          "text": [
            "Epoch 173, Test loss: 11.63130596280098\n",
            "Epoch 174, Train loss: 11.06244342095029\n"
          ]
        },
        {
          "output_type": "stream",
          "name": "stderr",
          "text": [
            "\r 70%|██████▉   | 174/250 [03:19<01:38,  1.29s/it]"
          ]
        },
        {
          "output_type": "stream",
          "name": "stdout",
          "text": [
            "Epoch 174, Test loss: 11.718809396028519\n"
          ]
        },
        {
          "output_type": "stream",
          "name": "stderr",
          "text": [
            "\r 70%|███████   | 175/250 [03:20<01:31,  1.22s/it]"
          ]
        },
        {
          "output_type": "stream",
          "name": "stdout",
          "text": [
            "Epoch 175, Train loss: 11.09193880368123\n",
            "Epoch 175, Test loss: 11.630000501871109\n"
          ]
        },
        {
          "output_type": "stream",
          "name": "stderr",
          "text": [
            "\r 70%|███████   | 176/250 [03:21<01:26,  1.17s/it]"
          ]
        },
        {
          "output_type": "stream",
          "name": "stdout",
          "text": [
            "Epoch 176, Train loss: 11.073881976372373\n",
            "Epoch 176, Test loss: 11.666853040456772\n"
          ]
        },
        {
          "output_type": "stream",
          "name": "stderr",
          "text": [
            "\r 71%|███████   | 177/250 [03:22<01:22,  1.13s/it]"
          ]
        },
        {
          "output_type": "stream",
          "name": "stdout",
          "text": [
            "Epoch 177, Train loss: 11.048703999645943\n",
            "Epoch 177, Test loss: 11.69264417886734\n"
          ]
        },
        {
          "output_type": "stream",
          "name": "stderr",
          "text": [
            "\r 71%|███████   | 178/250 [03:23<01:19,  1.10s/it]"
          ]
        },
        {
          "output_type": "stream",
          "name": "stdout",
          "text": [
            "Epoch 178, Train loss: 11.0573130962068\n",
            "Epoch 178, Test loss: 11.648934781551361\n"
          ]
        },
        {
          "output_type": "stream",
          "name": "stderr",
          "text": [
            "\r 72%|███████▏  | 179/250 [03:24<01:16,  1.07s/it]"
          ]
        },
        {
          "output_type": "stream",
          "name": "stdout",
          "text": [
            "Epoch 179, Train loss: 11.052803676740258\n",
            "Epoch 179, Test loss: 11.661318928003311\n"
          ]
        },
        {
          "output_type": "stream",
          "name": "stderr",
          "text": [
            "\r 72%|███████▏  | 180/250 [03:25<01:13,  1.06s/it]"
          ]
        },
        {
          "output_type": "stream",
          "name": "stdout",
          "text": [
            "Epoch 180, Train loss: 11.052230362343577\n",
            "Epoch 180, Test loss: 11.641557067632675\n",
            "Epoch 181, Train loss: 11.050203745344044\n"
          ]
        },
        {
          "output_type": "stream",
          "name": "stderr",
          "text": [
            "\r 72%|███████▏  | 181/250 [03:26<01:18,  1.14s/it]"
          ]
        },
        {
          "output_type": "stream",
          "name": "stdout",
          "text": [
            "Epoch 181, Test loss: 11.606874346733093\n",
            "Epoch 182, Train loss: 11.070568004540638\n"
          ]
        },
        {
          "output_type": "stream",
          "name": "stderr",
          "text": [
            "\r 73%|███████▎  | 182/250 [03:28<01:18,  1.16s/it]"
          ]
        },
        {
          "output_type": "stream",
          "name": "stdout",
          "text": [
            "Epoch 182, Test loss: 11.683955937623978\n",
            "Epoch 183, Train loss: 11.077785061523977\n"
          ]
        },
        {
          "output_type": "stream",
          "name": "stderr",
          "text": [
            "\r 73%|███████▎  | 183/250 [03:29<01:28,  1.32s/it]"
          ]
        },
        {
          "output_type": "stream",
          "name": "stdout",
          "text": [
            "Epoch 183, Test loss: 11.624235987663269\n"
          ]
        },
        {
          "output_type": "stream",
          "name": "stderr",
          "text": [
            "\r 74%|███████▎  | 184/250 [03:31<01:35,  1.45s/it]"
          ]
        },
        {
          "output_type": "stream",
          "name": "stdout",
          "text": [
            "Epoch 184, Train loss: 11.058385819460439\n",
            "Epoch 184, Test loss: 11.636994391679764\n"
          ]
        },
        {
          "output_type": "stream",
          "name": "stderr",
          "text": [
            "\r 74%|███████▍  | 185/250 [03:32<01:26,  1.32s/it]"
          ]
        },
        {
          "output_type": "stream",
          "name": "stdout",
          "text": [
            "Epoch 185, Train loss: 11.056924478142662\n",
            "Epoch 185, Test loss: 11.653302133083344\n"
          ]
        },
        {
          "output_type": "stream",
          "name": "stderr",
          "text": [
            "\r 74%|███████▍  | 186/250 [03:33<01:19,  1.24s/it]"
          ]
        },
        {
          "output_type": "stream",
          "name": "stdout",
          "text": [
            "Epoch 186, Train loss: 11.054839716548413\n",
            "Epoch 186, Test loss: 11.61551895737648\n"
          ]
        },
        {
          "output_type": "stream",
          "name": "stderr",
          "text": [
            "\r 75%|███████▍  | 187/250 [03:34<01:14,  1.18s/it]"
          ]
        },
        {
          "output_type": "stream",
          "name": "stdout",
          "text": [
            "Epoch 187, Train loss: 11.050082329100212\n",
            "Epoch 187, Test loss: 11.671366542577744\n"
          ]
        },
        {
          "output_type": "stream",
          "name": "stderr",
          "text": [
            "\r 75%|███████▌  | 188/250 [03:35<01:09,  1.13s/it]"
          ]
        },
        {
          "output_type": "stream",
          "name": "stdout",
          "text": [
            "Epoch 188, Train loss: 11.067364895238285\n",
            "Epoch 188, Test loss: 11.631184697151184\n"
          ]
        },
        {
          "output_type": "stream",
          "name": "stderr",
          "text": [
            "\r 76%|███████▌  | 189/250 [03:36<01:06,  1.09s/it]"
          ]
        },
        {
          "output_type": "stream",
          "name": "stdout",
          "text": [
            "Epoch 189, Train loss: 11.0706976451705\n",
            "Epoch 189, Test loss: 11.609631896018982\n"
          ]
        },
        {
          "output_type": "stream",
          "name": "stderr",
          "text": [
            "\r 76%|███████▌  | 190/250 [03:37<01:03,  1.06s/it]"
          ]
        },
        {
          "output_type": "stream",
          "name": "stdout",
          "text": [
            "Epoch 190, Train loss: 11.06711873333011\n",
            "Epoch 190, Test loss: 11.625708311796188\n"
          ]
        },
        {
          "output_type": "stream",
          "name": "stderr",
          "text": [
            "\r 76%|███████▋  | 191/250 [03:38<01:01,  1.05s/it]"
          ]
        },
        {
          "output_type": "stream",
          "name": "stdout",
          "text": [
            "Epoch 191, Train loss: 11.063765551136658\n",
            "Epoch 191, Test loss: 11.714860320091248\n"
          ]
        },
        {
          "output_type": "stream",
          "name": "stderr",
          "text": [
            "\r 77%|███████▋  | 192/250 [03:39<01:00,  1.03s/it]"
          ]
        },
        {
          "output_type": "stream",
          "name": "stdout",
          "text": [
            "Epoch 192, Train loss: 11.098868441792716\n",
            "Epoch 192, Test loss: 11.622106701135635\n"
          ]
        },
        {
          "output_type": "stream",
          "name": "stderr",
          "text": [
            "\r 77%|███████▋  | 193/250 [03:40<00:58,  1.03s/it]"
          ]
        },
        {
          "output_type": "stream",
          "name": "stdout",
          "text": [
            "Epoch 193, Train loss: 11.069563747507281\n",
            "Epoch 193, Test loss: 11.661633908748627\n",
            "Epoch 194, Train loss: 11.077952338530954\n"
          ]
        },
        {
          "output_type": "stream",
          "name": "stderr",
          "text": [
            "\r 78%|███████▊  | 194/250 [03:42<01:02,  1.11s/it]"
          ]
        },
        {
          "output_type": "stream",
          "name": "stdout",
          "text": [
            "Epoch 194, Test loss: 11.62982189655304\n",
            "Epoch 195, Train loss: 11.064861791323771\n"
          ]
        },
        {
          "output_type": "stream",
          "name": "stderr",
          "text": [
            "\r 78%|███████▊  | 195/250 [03:43<01:05,  1.19s/it]"
          ]
        },
        {
          "output_type": "stream",
          "name": "stdout",
          "text": [
            "Epoch 195, Test loss: 11.709382474422455\n"
          ]
        },
        {
          "output_type": "stream",
          "name": "stderr",
          "text": [
            "\r 78%|███████▊  | 196/250 [03:44<01:01,  1.15s/it]"
          ]
        },
        {
          "output_type": "stream",
          "name": "stdout",
          "text": [
            "Epoch 196, Train loss: 11.079035535322882\n",
            "Epoch 196, Test loss: 11.643351882696152\n"
          ]
        },
        {
          "output_type": "stream",
          "name": "stderr",
          "text": [
            "\r 79%|███████▉  | 197/250 [03:45<00:58,  1.11s/it]"
          ]
        },
        {
          "output_type": "stream",
          "name": "stdout",
          "text": [
            "Epoch 197, Train loss: 11.061946607269016\n",
            "Epoch 197, Test loss: 11.653494000434875\n"
          ]
        },
        {
          "output_type": "stream",
          "name": "stderr",
          "text": [
            "\r 79%|███████▉  | 198/250 [03:46<00:55,  1.08s/it]"
          ]
        },
        {
          "output_type": "stream",
          "name": "stdout",
          "text": [
            "Epoch 198, Train loss: 11.077121823234895\n",
            "Epoch 198, Test loss: 11.71141141653061\n"
          ]
        },
        {
          "output_type": "stream",
          "name": "stderr",
          "text": [
            "\r 80%|███████▉  | 199/250 [03:47<00:53,  1.06s/it]"
          ]
        },
        {
          "output_type": "stream",
          "name": "stdout",
          "text": [
            "Epoch 199, Train loss: 11.08540151393519\n",
            "Epoch 199, Test loss: 11.624987989664078\n"
          ]
        },
        {
          "output_type": "stream",
          "name": "stderr",
          "text": [
            "\r 80%|████████  | 200/250 [03:48<00:52,  1.04s/it]"
          ]
        },
        {
          "output_type": "stream",
          "name": "stdout",
          "text": [
            "Epoch 200, Train loss: 11.068948374385327\n",
            "Epoch 200, Test loss: 11.659475684165955\n"
          ]
        },
        {
          "output_type": "stream",
          "name": "stderr",
          "text": [
            "\r 80%|████████  | 201/250 [03:49<00:50,  1.04s/it]"
          ]
        },
        {
          "output_type": "stream",
          "name": "stdout",
          "text": [
            "Epoch 201, Train loss: 11.064696818326427\n",
            "Epoch 201, Test loss: 11.732836797833443\n"
          ]
        },
        {
          "output_type": "stream",
          "name": "stderr",
          "text": [
            "\r 81%|████████  | 202/250 [03:50<00:49,  1.03s/it]"
          ]
        },
        {
          "output_type": "stream",
          "name": "stdout",
          "text": [
            "Epoch 202, Train loss: 11.043134706210246\n",
            "Epoch 202, Test loss: 11.671461462974548\n"
          ]
        },
        {
          "output_type": "stream",
          "name": "stderr",
          "text": [
            "\r 81%|████████  | 203/250 [03:51<00:48,  1.03s/it]"
          ]
        },
        {
          "output_type": "stream",
          "name": "stdout",
          "text": [
            "Epoch 203, Train loss: 11.087289464157239\n",
            "Epoch 203, Test loss: 11.616923660039902\n"
          ]
        },
        {
          "output_type": "stream",
          "name": "stderr",
          "text": [
            "\r 82%|████████▏ | 204/250 [03:52<00:47,  1.03s/it]"
          ]
        },
        {
          "output_type": "stream",
          "name": "stdout",
          "text": [
            "Epoch 204, Train loss: 11.060217983954775\n",
            "Epoch 204, Test loss: 11.630327671766281\n",
            "Epoch 205, Train loss: 11.082679828711315\n"
          ]
        },
        {
          "output_type": "stream",
          "name": "stderr",
          "text": [
            "\r 82%|████████▏ | 205/250 [03:53<00:47,  1.05s/it]"
          ]
        },
        {
          "output_type": "stream",
          "name": "stdout",
          "text": [
            "Epoch 205, Test loss: 11.659603834152222\n",
            "Epoch 206, Train loss: 11.071610307271502\n"
          ]
        },
        {
          "output_type": "stream",
          "name": "stderr",
          "text": [
            "\r 82%|████████▏ | 206/250 [03:55<00:49,  1.13s/it]"
          ]
        },
        {
          "output_type": "stream",
          "name": "stdout",
          "text": [
            "Epoch 206, Test loss: 11.6560098528862\n"
          ]
        },
        {
          "output_type": "stream",
          "name": "stderr",
          "text": [
            "\r 83%|████████▎ | 207/250 [03:56<00:48,  1.13s/it]"
          ]
        },
        {
          "output_type": "stream",
          "name": "stdout",
          "text": [
            "Epoch 207, Train loss: 11.084649803364172\n",
            "Epoch 207, Test loss: 11.629315584897995\n"
          ]
        },
        {
          "output_type": "stream",
          "name": "stderr",
          "text": [
            "\r 83%|████████▎ | 208/250 [03:57<00:46,  1.10s/it]"
          ]
        },
        {
          "output_type": "stream",
          "name": "stdout",
          "text": [
            "Epoch 208, Train loss: 11.056366764338671\n",
            "Epoch 208, Test loss: 11.660716086626053\n"
          ]
        },
        {
          "output_type": "stream",
          "name": "stderr",
          "text": [
            "\r 84%|████████▎ | 209/250 [03:58<00:44,  1.08s/it]"
          ]
        },
        {
          "output_type": "stream",
          "name": "stdout",
          "text": [
            "Epoch 209, Train loss: 11.062054461082527\n",
            "Epoch 209, Test loss: 11.605280965566635\n"
          ]
        },
        {
          "output_type": "stream",
          "name": "stderr",
          "text": [
            "\r 84%|████████▍ | 210/250 [03:59<00:42,  1.06s/it]"
          ]
        },
        {
          "output_type": "stream",
          "name": "stdout",
          "text": [
            "Epoch 210, Train loss: 11.037673237049475\n",
            "Epoch 210, Test loss: 11.618610441684723\n"
          ]
        },
        {
          "output_type": "stream",
          "name": "stderr",
          "text": [
            "\r 84%|████████▍ | 211/250 [04:00<00:40,  1.05s/it]"
          ]
        },
        {
          "output_type": "stream",
          "name": "stdout",
          "text": [
            "Epoch 211, Train loss: 11.083448523968721\n",
            "Epoch 211, Test loss: 11.624892503023148\n"
          ]
        },
        {
          "output_type": "stream",
          "name": "stderr",
          "text": [
            "\r 85%|████████▍ | 212/250 [04:01<00:39,  1.04s/it]"
          ]
        },
        {
          "output_type": "stream",
          "name": "stdout",
          "text": [
            "Epoch 212, Train loss: 11.058623461596733\n",
            "Epoch 212, Test loss: 11.645975232124329\n"
          ]
        },
        {
          "output_type": "stream",
          "name": "stderr",
          "text": [
            "\r 85%|████████▌ | 213/250 [04:02<00:37,  1.03s/it]"
          ]
        },
        {
          "output_type": "stream",
          "name": "stdout",
          "text": [
            "Epoch 213, Train loss: 11.080314623571075\n",
            "Epoch 213, Test loss: 11.646990984678268\n"
          ]
        },
        {
          "output_type": "stream",
          "name": "stderr",
          "text": [
            "\r 86%|████████▌ | 214/250 [04:03<00:36,  1.03s/it]"
          ]
        },
        {
          "output_type": "stream",
          "name": "stdout",
          "text": [
            "Epoch 214, Train loss: 11.074831992124034\n",
            "Epoch 214, Test loss: 11.669481575489044\n"
          ]
        },
        {
          "output_type": "stream",
          "name": "stderr",
          "text": [
            "\r 86%|████████▌ | 215/250 [04:04<00:35,  1.02s/it]"
          ]
        },
        {
          "output_type": "stream",
          "name": "stdout",
          "text": [
            "Epoch 215, Train loss: 11.068621635437012\n",
            "Epoch 215, Test loss: 11.628694534301758\n"
          ]
        },
        {
          "output_type": "stream",
          "name": "stderr",
          "text": [
            "\r 86%|████████▋ | 216/250 [04:05<00:34,  1.02s/it]"
          ]
        },
        {
          "output_type": "stream",
          "name": "stdout",
          "text": [
            "Epoch 216, Train loss: 11.068279578622464\n",
            "Epoch 216, Test loss: 11.670240253210068\n",
            "Epoch 217, Train loss: 11.054521033194213\n"
          ]
        },
        {
          "output_type": "stream",
          "name": "stderr",
          "text": [
            "\r 87%|████████▋ | 217/250 [04:06<00:36,  1.10s/it]"
          ]
        },
        {
          "output_type": "stream",
          "name": "stdout",
          "text": [
            "Epoch 217, Test loss: 11.733953326940536\n"
          ]
        },
        {
          "output_type": "stream",
          "name": "stderr",
          "text": [
            "\r 87%|████████▋ | 218/250 [04:07<00:36,  1.15s/it]"
          ]
        },
        {
          "output_type": "stream",
          "name": "stdout",
          "text": [
            "Epoch 218, Train loss: 11.043731900443017\n",
            "Epoch 218, Test loss: 11.66116189956665\n"
          ]
        },
        {
          "output_type": "stream",
          "name": "stderr",
          "text": [
            "\r 88%|████████▊ | 219/250 [04:08<00:34,  1.12s/it]"
          ]
        },
        {
          "output_type": "stream",
          "name": "stdout",
          "text": [
            "Epoch 219, Train loss: 11.052866290100908\n",
            "Epoch 219, Test loss: 11.700443714857101\n"
          ]
        },
        {
          "output_type": "stream",
          "name": "stderr",
          "text": [
            "\r 88%|████████▊ | 220/250 [04:09<00:32,  1.09s/it]"
          ]
        },
        {
          "output_type": "stream",
          "name": "stdout",
          "text": [
            "Epoch 220, Train loss: 11.053720174637515\n",
            "Epoch 220, Test loss: 11.684706330299377\n"
          ]
        },
        {
          "output_type": "stream",
          "name": "stderr",
          "text": [
            "\r 88%|████████▊ | 221/250 [04:10<00:30,  1.07s/it]"
          ]
        },
        {
          "output_type": "stream",
          "name": "stdout",
          "text": [
            "Epoch 221, Train loss: 11.073925853830524\n",
            "Epoch 221, Test loss: 11.594498127698898\n"
          ]
        },
        {
          "output_type": "stream",
          "name": "stderr",
          "text": [
            "\r 89%|████████▉ | 222/250 [04:11<00:29,  1.05s/it]"
          ]
        },
        {
          "output_type": "stream",
          "name": "stdout",
          "text": [
            "Epoch 222, Train loss: 11.073511047700865\n",
            "Epoch 222, Test loss: 11.721555233001709\n"
          ]
        },
        {
          "output_type": "stream",
          "name": "stderr",
          "text": [
            "\r 89%|████████▉ | 223/250 [04:12<00:28,  1.05s/it]"
          ]
        },
        {
          "output_type": "stream",
          "name": "stdout",
          "text": [
            "Epoch 223, Train loss: 11.06910262487631\n",
            "Epoch 223, Test loss: 11.705602079629898\n"
          ]
        },
        {
          "output_type": "stream",
          "name": "stderr",
          "text": [
            "\r 90%|████████▉ | 224/250 [04:13<00:27,  1.04s/it]"
          ]
        },
        {
          "output_type": "stream",
          "name": "stdout",
          "text": [
            "Epoch 224, Train loss: 11.071703480408255\n",
            "Epoch 224, Test loss: 11.719892889261246\n"
          ]
        },
        {
          "output_type": "stream",
          "name": "stderr",
          "text": [
            "\r 90%|█████████ | 225/250 [04:15<00:25,  1.03s/it]"
          ]
        },
        {
          "output_type": "stream",
          "name": "stdout",
          "text": [
            "Epoch 225, Train loss: 11.040273122027912\n",
            "Epoch 225, Test loss: 11.701797515153885\n"
          ]
        },
        {
          "output_type": "stream",
          "name": "stderr",
          "text": [
            "\r 90%|█████████ | 226/250 [04:16<00:24,  1.03s/it]"
          ]
        },
        {
          "output_type": "stream",
          "name": "stdout",
          "text": [
            "Epoch 226, Train loss: 11.063620326793298\n",
            "Epoch 226, Test loss: 11.629582226276398\n"
          ]
        },
        {
          "output_type": "stream",
          "name": "stderr",
          "text": [
            "\r 91%|█████████ | 227/250 [04:17<00:23,  1.02s/it]"
          ]
        },
        {
          "output_type": "stream",
          "name": "stdout",
          "text": [
            "Epoch 227, Train loss: 11.063796018077209\n",
            "Epoch 227, Test loss: 11.710154354572296\n",
            "Epoch 228, Train loss: 11.047019865660541\n"
          ]
        },
        {
          "output_type": "stream",
          "name": "stderr",
          "text": [
            "\r 91%|█████████ | 228/250 [04:18<00:23,  1.07s/it]"
          ]
        },
        {
          "output_type": "stream",
          "name": "stdout",
          "text": [
            "Epoch 228, Test loss: 11.671639114618301\n",
            "Epoch 229, Train loss: 11.069791063798212\n"
          ]
        },
        {
          "output_type": "stream",
          "name": "stderr",
          "text": [
            "\r 92%|█████████▏| 229/250 [04:19<00:24,  1.17s/it]"
          ]
        },
        {
          "output_type": "stream",
          "name": "stdout",
          "text": [
            "Epoch 229, Test loss: 11.692578107118607\n",
            "Epoch 230, Train loss: 11.054805624801501\n"
          ]
        },
        {
          "output_type": "stream",
          "name": "stderr",
          "text": [
            "\r 92%|█████████▏| 230/250 [04:20<00:23,  1.16s/it]"
          ]
        },
        {
          "output_type": "stream",
          "name": "stdout",
          "text": [
            "Epoch 230, Test loss: 11.619044572114944\n"
          ]
        },
        {
          "output_type": "stream",
          "name": "stderr",
          "text": [
            "\r 92%|█████████▏| 231/250 [04:21<00:22,  1.18s/it]"
          ]
        },
        {
          "output_type": "stream",
          "name": "stdout",
          "text": [
            "Epoch 231, Train loss: 11.053183559822825\n",
            "Epoch 231, Test loss: 11.609655499458313\n"
          ]
        },
        {
          "output_type": "stream",
          "name": "stderr",
          "text": [
            "\r 93%|█████████▎| 232/250 [04:23<00:20,  1.14s/it]"
          ]
        },
        {
          "output_type": "stream",
          "name": "stdout",
          "text": [
            "Epoch 232, Train loss: 11.056899408323575\n",
            "Epoch 232, Test loss: 11.639194786548615\n"
          ]
        },
        {
          "output_type": "stream",
          "name": "stderr",
          "text": [
            "\r 93%|█████████▎| 233/250 [04:24<00:18,  1.10s/it]"
          ]
        },
        {
          "output_type": "stream",
          "name": "stdout",
          "text": [
            "Epoch 233, Train loss: 11.048629608829465\n",
            "Epoch 233, Test loss: 11.659496814012527\n"
          ]
        },
        {
          "output_type": "stream",
          "name": "stderr",
          "text": [
            "\r 94%|█████████▎| 234/250 [04:25<00:17,  1.08s/it]"
          ]
        },
        {
          "output_type": "stream",
          "name": "stdout",
          "text": [
            "Epoch 234, Train loss: 11.046492665214876\n",
            "Epoch 234, Test loss: 11.691480487585068\n"
          ]
        },
        {
          "output_type": "stream",
          "name": "stderr",
          "text": [
            "\r 94%|█████████▍| 235/250 [04:26<00:15,  1.06s/it]"
          ]
        },
        {
          "output_type": "stream",
          "name": "stdout",
          "text": [
            "Epoch 235, Train loss: 11.06284024230147\n",
            "Epoch 235, Test loss: 11.713646024465561\n"
          ]
        },
        {
          "output_type": "stream",
          "name": "stderr",
          "text": [
            "\r 94%|█████████▍| 236/250 [04:27<00:14,  1.05s/it]"
          ]
        },
        {
          "output_type": "stream",
          "name": "stdout",
          "text": [
            "Epoch 236, Train loss: 11.063120470637768\n",
            "Epoch 236, Test loss: 11.633404612541199\n"
          ]
        },
        {
          "output_type": "stream",
          "name": "stderr",
          "text": [
            "\r 95%|█████████▍| 237/250 [04:28<00:13,  1.04s/it]"
          ]
        },
        {
          "output_type": "stream",
          "name": "stdout",
          "text": [
            "Epoch 237, Train loss: 11.074313184856313\n",
            "Epoch 237, Test loss: 11.649106860160828\n"
          ]
        },
        {
          "output_type": "stream",
          "name": "stderr",
          "text": [
            "\r 95%|█████████▌| 238/250 [04:29<00:12,  1.04s/it]"
          ]
        },
        {
          "output_type": "stream",
          "name": "stdout",
          "text": [
            "Epoch 238, Train loss: 11.06148693202871\n",
            "Epoch 238, Test loss: 11.629325717687607\n",
            "Epoch 239, Train loss: 11.083714447190276\n"
          ]
        },
        {
          "output_type": "stream",
          "name": "stderr",
          "text": [
            "\r 96%|█████████▌| 239/250 [04:30<00:12,  1.10s/it]"
          ]
        },
        {
          "output_type": "stream",
          "name": "stdout",
          "text": [
            "Epoch 239, Test loss: 11.709082782268524\n",
            "Epoch 240, Train loss: 11.05810355718157\n"
          ]
        },
        {
          "output_type": "stream",
          "name": "stderr",
          "text": [
            "\r 96%|█████████▌| 240/250 [04:31<00:11,  1.17s/it]"
          ]
        },
        {
          "output_type": "stream",
          "name": "stdout",
          "text": [
            "Epoch 240, Test loss: 11.679860234260559\n"
          ]
        },
        {
          "output_type": "stream",
          "name": "stderr",
          "text": [
            "\r 96%|█████████▋| 241/250 [04:32<00:10,  1.13s/it]"
          ]
        },
        {
          "output_type": "stream",
          "name": "stdout",
          "text": [
            "Epoch 241, Train loss: 11.072914068677784\n",
            "Epoch 241, Test loss: 11.699355006217957\n"
          ]
        },
        {
          "output_type": "stream",
          "name": "stderr",
          "text": [
            "\r 97%|█████████▋| 242/250 [04:33<00:08,  1.10s/it]"
          ]
        },
        {
          "output_type": "stream",
          "name": "stdout",
          "text": [
            "Epoch 242, Train loss: 11.054647272667\n",
            "Epoch 242, Test loss: 11.680935859680176\n"
          ]
        },
        {
          "output_type": "stream",
          "name": "stderr",
          "text": [
            "\r 97%|█████████▋| 243/250 [04:34<00:07,  1.08s/it]"
          ]
        },
        {
          "output_type": "stream",
          "name": "stdout",
          "text": [
            "Epoch 243, Train loss: 11.06140004639077\n",
            "Epoch 243, Test loss: 11.735369145870209\n"
          ]
        },
        {
          "output_type": "stream",
          "name": "stderr",
          "text": [
            "\r 98%|█████████▊| 244/250 [04:35<00:06,  1.06s/it]"
          ]
        },
        {
          "output_type": "stream",
          "name": "stdout",
          "text": [
            "Epoch 244, Train loss: 11.078769118384978\n",
            "Epoch 244, Test loss: 11.642262250185013\n"
          ]
        },
        {
          "output_type": "stream",
          "name": "stderr",
          "text": [
            "\r 98%|█████████▊| 245/250 [04:36<00:05,  1.05s/it]"
          ]
        },
        {
          "output_type": "stream",
          "name": "stdout",
          "text": [
            "Epoch 245, Train loss: 11.060809076359842\n",
            "Epoch 245, Test loss: 11.613919883966446\n"
          ]
        },
        {
          "output_type": "stream",
          "name": "stderr",
          "text": [
            "\r 98%|█████████▊| 246/250 [04:37<00:04,  1.04s/it]"
          ]
        },
        {
          "output_type": "stream",
          "name": "stdout",
          "text": [
            "Epoch 246, Train loss: 11.049745627209148\n",
            "Epoch 246, Test loss: 11.678639858961105\n"
          ]
        },
        {
          "output_type": "stream",
          "name": "stderr",
          "text": [
            "\r 99%|█████████▉| 247/250 [04:38<00:03,  1.04s/it]"
          ]
        },
        {
          "output_type": "stream",
          "name": "stdout",
          "text": [
            "Epoch 247, Train loss: 11.068126201629639\n",
            "Epoch 247, Test loss: 11.696338444948196\n"
          ]
        },
        {
          "output_type": "stream",
          "name": "stderr",
          "text": [
            "\r 99%|█████████▉| 248/250 [04:39<00:02,  1.04s/it]"
          ]
        },
        {
          "output_type": "stream",
          "name": "stdout",
          "text": [
            "Epoch 248, Train loss: 11.073030594175895\n",
            "Epoch 248, Test loss: 11.671331524848938\n"
          ]
        },
        {
          "output_type": "stream",
          "name": "stderr",
          "text": [
            "\r100%|█████████▉| 249/250 [04:41<00:01,  1.03s/it]"
          ]
        },
        {
          "output_type": "stream",
          "name": "stdout",
          "text": [
            "Epoch 249, Train loss: 11.047512202136284\n",
            "Epoch 249, Test loss: 11.62993386387825\n",
            "Epoch 250, Train loss: 11.061775870027795\n"
          ]
        },
        {
          "output_type": "stream",
          "name": "stderr",
          "text": [
            "100%|██████████| 250/250 [04:42<00:00,  1.13s/it]"
          ]
        },
        {
          "output_type": "stream",
          "name": "stdout",
          "text": [
            "Epoch 250, Test loss: 11.687492698431015\n"
          ]
        },
        {
          "output_type": "stream",
          "name": "stderr",
          "text": [
            "\n"
          ]
        }
      ]
    },
    {
      "cell_type": "code",
      "source": [
        "test_model(model, test_loader, device)"
      ],
      "metadata": {
        "colab": {
          "base_uri": "https://localhost:8080/"
        },
        "id": "u3Ly9kZb_ph1",
        "outputId": "0d063895-0b98-4ade-d27b-d545e0870a38"
      },
      "execution_count": 70,
      "outputs": [
        {
          "output_type": "stream",
          "name": "stdout",
          "text": [
            "Test MAE: 11.708517402410507\n",
            "MAPE for high targets: 0.03346586041152477\n",
            "MAE for low targets: 4.606855109333992\n"
          ]
        }
      ]
    },
    {
      "cell_type": "code",
      "source": [
        "test_model(model, train_loader, device)"
      ],
      "metadata": {
        "colab": {
          "base_uri": "https://localhost:8080/"
        },
        "id": "C6W4nrVO_qHp",
        "outputId": "df514ad5-c9a6-4cc2-fe98-f50ff34b7db5"
      },
      "execution_count": 71,
      "outputs": [
        {
          "output_type": "stream",
          "name": "stdout",
          "text": [
            "Test MAE: 11.065855427125914\n",
            "MAPE for high targets: 0.03339383930825027\n",
            "MAE for low targets: 4.377037879640022\n"
          ]
        }
      ]
    },
    {
      "cell_type": "markdown",
      "source": [
        "### Test GPU without temporal features, batch size = 16 (to compare with the last cell)"
      ],
      "metadata": {
        "id": "7GPR_V43_tbG"
      }
    },
    {
      "cell_type": "code",
      "source": [
        "class ImprovedSTGCN(nn.Module):\n",
        "    def __init__(self, node_features, hidden_dim, temporal_features_dim=10):\n",
        "        super(ImprovedSTGCN, self).__init__()\n",
        "        self.gcn1 = GCNConv(node_features, hidden_dim)  # GCN\n",
        "        self.gcn2 = GCNConv(hidden_dim, hidden_dim)\n",
        "        self.fc1 = nn.Linear(hidden_dim + node_features, hidden_dim)  # Prédiction finale\n",
        "        self.fc2 = nn.Linear(hidden_dim + node_features, 1)\n",
        "        # self.bn1 = nn.BatchNorm1d(hidden_dim)\n",
        "\n",
        "    def forward(self, graph, temporal_features):\n",
        "        x = self.gcn1(graph.x, graph.edge_index)  # GCN\n",
        "        x = F.relu(x) # (num_nodes, hideen_dim)\n",
        "        x = self.gcn2(x, graph.edge_index)  # GCN\n",
        "        x = F.relu(x) # (num_nodes, hideen_dim)\n",
        "\n",
        "        # Use temporal features and x as inputs of fc and use the fc layer\n",
        "        x = torch.cat((x, graph.x), dim=-1)\n",
        "        x = self.fc1(x)\n",
        "        x = F.relu(x)\n",
        "        x = torch.cat((x, graph.x), dim=-1)\n",
        "        x = self.fc2(x)\n",
        "        x = F.relu(x)\n",
        "        return x # return the flow for each nodes (num_nodes, 1)"
      ],
      "metadata": {
        "id": "GPYCIjGV_3pA"
      },
      "execution_count": 72,
      "outputs": []
    },
    {
      "cell_type": "code",
      "source": [
        "import torch\n",
        "from tqdm import tqdm\n",
        "\n",
        "# Détection du GPU\n",
        "device = torch.device(\"cuda\" if torch.cuda.is_available() else \"cpu\")\n",
        "print(f\"Using device: {device}\")\n",
        "\n",
        "# Initialisation du modèle et des composants d'entraînement\n",
        "model = ImprovedSTGCN(node_features=window_size, hidden_dim=32).to(device)\n",
        "\n",
        "optimizer = torch.optim.Adam(model.parameters(), lr=0.008)\n",
        "scheduler = torch.optim.lr_scheduler.ExponentialLR(optimizer, gamma=0.95)\n",
        "criterion = torch.nn.L1Loss()  # MAE\n",
        "\n",
        "num_epochs = 250\n",
        "\n",
        "# Boucle d'entraînement\n",
        "for epoch in tqdm(range(num_epochs)):\n",
        "    model.train()\n",
        "    train_loss = 0\n",
        "\n",
        "    for graph, temporal_features in train_loader:\n",
        "        graph = graph.to(device)  # Déplacement du graphe sur GPU\n",
        "        # temporal_features = temporal_features.to(device, non_blocking=True)\n",
        "        # temporal_features = temporal_features.flatten(start_dim=0, end_dim=1)\n",
        "\n",
        "        optimizer.zero_grad()\n",
        "        output = model(graph, temporal_features)\n",
        "        target = graph.y.to(device, non_blocking=True)  # Déplacement de la cible sur GPU\n",
        "\n",
        "        loss = criterion(output, target)\n",
        "        loss.backward()\n",
        "        optimizer.step()\n",
        "        train_loss += loss.item()\n",
        "\n",
        "    scheduler.step()\n",
        "\n",
        "    print(f\"Epoch {epoch+1}, Train loss: {train_loss / len(train_loader)}\")\n",
        "\n",
        "    # Évaluation sur le jeu de test\n",
        "    model.eval()\n",
        "    test_loss = 0\n",
        "    with torch.no_grad():  # Désactivation des gradients pour l'évaluation\n",
        "        for graph, temporal_features in test_loader:\n",
        "            graph = graph.to(device)\n",
        "            # temporal_features = temporal_features.to(device, non_blocking=True)\n",
        "            # temporal_features = temporal_features.flatten(start_dim=0, end_dim=1)\n",
        "\n",
        "            output = model(graph, temporal_features)\n",
        "            target = graph.y.to(device, non_blocking=True)\n",
        "\n",
        "            loss = criterion(output, target)\n",
        "            test_loss += loss.item()\n",
        "\n",
        "    print(f\"Epoch {epoch+1}, Test loss: {test_loss / len(test_loader)}\")\n"
      ],
      "metadata": {
        "colab": {
          "base_uri": "https://localhost:8080/"
        },
        "id": "WEvRkylr_l9h",
        "outputId": "ad0b7711-3b5d-41a9-fc0d-2de9ddae0b01"
      },
      "execution_count": 73,
      "outputs": [
        {
          "output_type": "stream",
          "name": "stdout",
          "text": [
            "Using device: cuda\n"
          ]
        },
        {
          "output_type": "stream",
          "name": "stderr",
          "text": [
            "  0%|          | 1/250 [00:01<04:14,  1.02s/it]"
          ]
        },
        {
          "output_type": "stream",
          "name": "stdout",
          "text": [
            "Epoch 1, Train loss: 47.26280099311761\n",
            "Epoch 1, Test loss: 19.156573593616486\n"
          ]
        },
        {
          "output_type": "stream",
          "name": "stderr",
          "text": [
            "\r  1%|          | 2/250 [00:02<04:11,  1.01s/it]"
          ]
        },
        {
          "output_type": "stream",
          "name": "stdout",
          "text": [
            "Epoch 2, Train loss: 19.577083351337805\n",
            "Epoch 2, Test loss: 24.19652372598648\n"
          ]
        },
        {
          "output_type": "stream",
          "name": "stderr",
          "text": [
            "\r  1%|          | 3/250 [00:03<04:09,  1.01s/it]"
          ]
        },
        {
          "output_type": "stream",
          "name": "stdout",
          "text": [
            "Epoch 3, Train loss: 18.320099763110676\n",
            "Epoch 3, Test loss: 18.471763134002686\n"
          ]
        },
        {
          "output_type": "stream",
          "name": "stderr",
          "text": [
            "\r  2%|▏         | 4/250 [00:04<04:08,  1.01s/it]"
          ]
        },
        {
          "output_type": "stream",
          "name": "stdout",
          "text": [
            "Epoch 4, Train loss: 16.977676796702156\n",
            "Epoch 4, Test loss: 15.9002965092659\n"
          ]
        },
        {
          "output_type": "stream",
          "name": "stderr",
          "text": [
            "\r  2%|▏         | 5/250 [00:05<04:04,  1.00it/s]"
          ]
        },
        {
          "output_type": "stream",
          "name": "stdout",
          "text": [
            "Epoch 5, Train loss: 15.55780620912535\n",
            "Epoch 5, Test loss: 14.967758059501648\n"
          ]
        },
        {
          "output_type": "stream",
          "name": "stderr",
          "text": [
            "\r  2%|▏         | 6/250 [00:06<04:03,  1.00it/s]"
          ]
        },
        {
          "output_type": "stream",
          "name": "stdout",
          "text": [
            "Epoch 6, Train loss: 15.249153289119754\n",
            "Epoch 6, Test loss: 14.341338515281677\n"
          ]
        },
        {
          "output_type": "stream",
          "name": "stderr",
          "text": [
            "\r  3%|▎         | 7/250 [00:07<04:02,  1.00it/s]"
          ]
        },
        {
          "output_type": "stream",
          "name": "stdout",
          "text": [
            "Epoch 7, Train loss: 15.475263671537416\n",
            "Epoch 7, Test loss: 14.380912065505981\n"
          ]
        },
        {
          "output_type": "stream",
          "name": "stderr",
          "text": [
            "\r  3%|▎         | 8/250 [00:08<04:00,  1.01it/s]"
          ]
        },
        {
          "output_type": "stream",
          "name": "stdout",
          "text": [
            "Epoch 8, Train loss: 14.742738462127415\n",
            "Epoch 8, Test loss: 13.742642879486084\n",
            "Epoch 9, Train loss: 14.323290985242455\n"
          ]
        },
        {
          "output_type": "stream",
          "name": "stderr",
          "text": [
            "\r  4%|▎         | 9/250 [00:09<04:24,  1.10s/it]"
          ]
        },
        {
          "output_type": "stream",
          "name": "stdout",
          "text": [
            "Epoch 9, Test loss: 15.353761285543442\n"
          ]
        },
        {
          "output_type": "stream",
          "name": "stderr",
          "text": [
            "\r  4%|▍         | 10/250 [00:10<04:36,  1.15s/it]"
          ]
        },
        {
          "output_type": "stream",
          "name": "stdout",
          "text": [
            "Epoch 10, Train loss: 14.42720515327116\n",
            "Epoch 10, Test loss: 13.362392991781235\n"
          ]
        },
        {
          "output_type": "stream",
          "name": "stderr",
          "text": [
            "\r  4%|▍         | 11/250 [00:11<04:25,  1.11s/it]"
          ]
        },
        {
          "output_type": "stream",
          "name": "stdout",
          "text": [
            "Epoch 11, Train loss: 13.13564054944874\n",
            "Epoch 11, Test loss: 12.849882245063782\n"
          ]
        },
        {
          "output_type": "stream",
          "name": "stderr",
          "text": [
            "\r  5%|▍         | 12/250 [00:12<04:17,  1.08s/it]"
          ]
        },
        {
          "output_type": "stream",
          "name": "stdout",
          "text": [
            "Epoch 12, Train loss: 14.103994487661176\n",
            "Epoch 12, Test loss: 13.057640343904495\n"
          ]
        },
        {
          "output_type": "stream",
          "name": "stderr",
          "text": [
            "\r  5%|▌         | 13/250 [00:13<04:10,  1.06s/it]"
          ]
        },
        {
          "output_type": "stream",
          "name": "stdout",
          "text": [
            "Epoch 13, Train loss: 13.515113974039533\n",
            "Epoch 13, Test loss: 14.361726850271225\n"
          ]
        },
        {
          "output_type": "stream",
          "name": "stderr",
          "text": [
            "\r  6%|▌         | 14/250 [00:14<04:05,  1.04s/it]"
          ]
        },
        {
          "output_type": "stream",
          "name": "stdout",
          "text": [
            "Epoch 14, Train loss: 12.920147541349968\n",
            "Epoch 14, Test loss: 12.782453298568726\n"
          ]
        },
        {
          "output_type": "stream",
          "name": "stderr",
          "text": [
            "\r  6%|▌         | 15/250 [00:15<04:05,  1.04s/it]"
          ]
        },
        {
          "output_type": "stream",
          "name": "stdout",
          "text": [
            "Epoch 15, Train loss: 12.951373796547408\n",
            "Epoch 15, Test loss: 13.47362020611763\n"
          ]
        },
        {
          "output_type": "stream",
          "name": "stderr",
          "text": [
            "\r  6%|▋         | 16/250 [00:16<04:01,  1.03s/it]"
          ]
        },
        {
          "output_type": "stream",
          "name": "stdout",
          "text": [
            "Epoch 16, Train loss: 12.588421433372835\n",
            "Epoch 16, Test loss: 12.45535945892334\n"
          ]
        },
        {
          "output_type": "stream",
          "name": "stderr",
          "text": [
            "\r  7%|▋         | 17/250 [00:17<03:57,  1.02s/it]"
          ]
        },
        {
          "output_type": "stream",
          "name": "stdout",
          "text": [
            "Epoch 17, Train loss: 12.750796419329347\n",
            "Epoch 17, Test loss: 12.410448729991913\n"
          ]
        },
        {
          "output_type": "stream",
          "name": "stderr",
          "text": [
            "\r  7%|▋         | 18/250 [00:18<04:07,  1.07s/it]"
          ]
        },
        {
          "output_type": "stream",
          "name": "stdout",
          "text": [
            "Epoch 18, Train loss: 13.261143988212654\n",
            "Epoch 18, Test loss: 12.863779813051224\n"
          ]
        },
        {
          "output_type": "stream",
          "name": "stderr",
          "text": [
            "\r  8%|▊         | 19/250 [00:19<04:01,  1.05s/it]"
          ]
        },
        {
          "output_type": "stream",
          "name": "stdout",
          "text": [
            "Epoch 19, Train loss: 12.229901891894045\n",
            "Epoch 19, Test loss: 12.467389166355133\n",
            "Epoch 20, Train loss: 12.078048929703973\n"
          ]
        },
        {
          "output_type": "stream",
          "name": "stderr",
          "text": [
            "\r  8%|▊         | 20/250 [00:21<04:17,  1.12s/it]"
          ]
        },
        {
          "output_type": "stream",
          "name": "stdout",
          "text": [
            "Epoch 20, Test loss: 12.826470881700516\n"
          ]
        },
        {
          "output_type": "stream",
          "name": "stderr",
          "text": [
            "\r  8%|▊         | 21/250 [00:22<04:28,  1.17s/it]"
          ]
        },
        {
          "output_type": "stream",
          "name": "stdout",
          "text": [
            "Epoch 21, Train loss: 12.363412249404773\n",
            "Epoch 21, Test loss: 12.381552636623383\n"
          ]
        },
        {
          "output_type": "stream",
          "name": "stderr",
          "text": [
            "\r  9%|▉         | 22/250 [00:23<04:16,  1.12s/it]"
          ]
        },
        {
          "output_type": "stream",
          "name": "stdout",
          "text": [
            "Epoch 22, Train loss: 12.202541536989465\n",
            "Epoch 22, Test loss: 12.58763998746872\n",
            "Epoch 23, Train loss: 11.988785954703271\n"
          ]
        },
        {
          "output_type": "stream",
          "name": "stderr",
          "text": [
            "\r  9%|▉         | 23/250 [00:24<04:13,  1.12s/it]"
          ]
        },
        {
          "output_type": "stream",
          "name": "stdout",
          "text": [
            "Epoch 23, Test loss: 12.617963284254074\n",
            "Epoch 24, Train loss: 12.01498010095242\n"
          ]
        },
        {
          "output_type": "stream",
          "name": "stderr",
          "text": [
            "\r 10%|▉         | 24/250 [00:25<04:15,  1.13s/it]"
          ]
        },
        {
          "output_type": "stream",
          "name": "stdout",
          "text": [
            "Epoch 24, Test loss: 13.13033252954483\n",
            "Epoch 25, Train loss: 12.188766006874827\n"
          ]
        },
        {
          "output_type": "stream",
          "name": "stderr",
          "text": [
            "\r 10%|█         | 25/250 [00:27<05:01,  1.34s/it]"
          ]
        },
        {
          "output_type": "stream",
          "name": "stdout",
          "text": [
            "Epoch 25, Test loss: 12.197104781866074\n"
          ]
        },
        {
          "output_type": "stream",
          "name": "stderr",
          "text": [
            "\r 10%|█         | 26/250 [00:28<04:53,  1.31s/it]"
          ]
        },
        {
          "output_type": "stream",
          "name": "stdout",
          "text": [
            "Epoch 26, Train loss: 12.012744920443645\n",
            "Epoch 26, Test loss: 12.287559986114502\n"
          ]
        },
        {
          "output_type": "stream",
          "name": "stderr",
          "text": [
            "\r 11%|█         | 27/250 [00:29<04:33,  1.22s/it]"
          ]
        },
        {
          "output_type": "stream",
          "name": "stdout",
          "text": [
            "Epoch 27, Train loss: 12.04610808971709\n",
            "Epoch 27, Test loss: 12.433723539113998\n"
          ]
        },
        {
          "output_type": "stream",
          "name": "stderr",
          "text": [
            "\r 11%|█         | 28/250 [00:31<04:48,  1.30s/it]"
          ]
        },
        {
          "output_type": "stream",
          "name": "stdout",
          "text": [
            "Epoch 28, Train loss: 11.840311257185133\n",
            "Epoch 28, Test loss: 12.264475375413895\n",
            "Epoch 29, Train loss: 11.878597166685932\n"
          ]
        },
        {
          "output_type": "stream",
          "name": "stderr",
          "text": [
            "\r 12%|█▏        | 29/250 [00:32<05:03,  1.38s/it]"
          ]
        },
        {
          "output_type": "stream",
          "name": "stdout",
          "text": [
            "Epoch 29, Test loss: 12.156939566135406\n",
            "Epoch 30, Train loss: 11.885156530194578\n"
          ]
        },
        {
          "output_type": "stream",
          "name": "stderr",
          "text": [
            "\r 12%|█▏        | 30/250 [00:34<05:39,  1.54s/it]"
          ]
        },
        {
          "output_type": "stream",
          "name": "stdout",
          "text": [
            "Epoch 30, Test loss: 12.38254702091217\n"
          ]
        },
        {
          "output_type": "stream",
          "name": "stderr",
          "text": [
            "\r 12%|█▏        | 31/250 [00:35<05:11,  1.42s/it]"
          ]
        },
        {
          "output_type": "stream",
          "name": "stdout",
          "text": [
            "Epoch 31, Train loss: 11.912408541789096\n",
            "Epoch 31, Test loss: 12.225087463855743\n"
          ]
        },
        {
          "output_type": "stream",
          "name": "stderr",
          "text": [
            "\r 13%|█▎        | 32/250 [00:37<04:49,  1.33s/it]"
          ]
        },
        {
          "output_type": "stream",
          "name": "stdout",
          "text": [
            "Epoch 32, Train loss: 11.74741684230028\n",
            "Epoch 32, Test loss: 12.251119196414948\n",
            "Epoch 33, Train loss: 11.887418350287243\n"
          ]
        },
        {
          "output_type": "stream",
          "name": "stderr",
          "text": [
            "\r 13%|█▎        | 33/250 [00:38<04:47,  1.32s/it]"
          ]
        },
        {
          "output_type": "stream",
          "name": "stdout",
          "text": [
            "Epoch 33, Test loss: 12.715541124343872\n"
          ]
        },
        {
          "output_type": "stream",
          "name": "stderr",
          "text": [
            "\r 14%|█▎        | 34/250 [00:39<04:35,  1.28s/it]"
          ]
        },
        {
          "output_type": "stream",
          "name": "stdout",
          "text": [
            "Epoch 34, Train loss: 11.799308662920927\n",
            "Epoch 34, Test loss: 13.01242047548294\n",
            "Epoch 35, Train loss: 11.78540725201632\n"
          ]
        },
        {
          "output_type": "stream",
          "name": "stderr",
          "text": [
            "\r 14%|█▍        | 35/250 [00:40<04:26,  1.24s/it]"
          ]
        },
        {
          "output_type": "stream",
          "name": "stdout",
          "text": [
            "Epoch 35, Test loss: 12.386934161186218\n"
          ]
        },
        {
          "output_type": "stream",
          "name": "stderr",
          "text": [
            "\r 14%|█▍        | 36/250 [00:41<04:11,  1.17s/it]"
          ]
        },
        {
          "output_type": "stream",
          "name": "stdout",
          "text": [
            "Epoch 36, Train loss: 11.804717540740967\n",
            "Epoch 36, Test loss: 12.467206358909607\n"
          ]
        },
        {
          "output_type": "stream",
          "name": "stderr",
          "text": [
            "\r 15%|█▍        | 37/250 [00:42<04:05,  1.15s/it]"
          ]
        },
        {
          "output_type": "stream",
          "name": "stdout",
          "text": [
            "Epoch 37, Train loss: 11.699458615969768\n",
            "Epoch 37, Test loss: 12.236210435628891\n",
            "Epoch 38, Train loss: 11.669516082358571\n"
          ]
        },
        {
          "output_type": "stream",
          "name": "stderr",
          "text": [
            "\r 15%|█▌        | 38/250 [00:43<04:05,  1.16s/it]"
          ]
        },
        {
          "output_type": "stream",
          "name": "stdout",
          "text": [
            "Epoch 38, Test loss: 12.195046693086624\n",
            "Epoch 39, Train loss: 11.643219643989495\n"
          ]
        },
        {
          "output_type": "stream",
          "name": "stderr",
          "text": [
            "\r 16%|█▌        | 39/250 [00:46<05:16,  1.50s/it]"
          ]
        },
        {
          "output_type": "stream",
          "name": "stdout",
          "text": [
            "Epoch 39, Test loss: 12.540812849998474\n"
          ]
        },
        {
          "output_type": "stream",
          "name": "stderr",
          "text": [
            "\r 16%|█▌        | 40/250 [00:47<04:57,  1.41s/it]"
          ]
        },
        {
          "output_type": "stream",
          "name": "stdout",
          "text": [
            "Epoch 40, Train loss: 11.646557997813266\n",
            "Epoch 40, Test loss: 12.59895572066307\n"
          ]
        },
        {
          "output_type": "stream",
          "name": "stderr",
          "text": [
            "\r 16%|█▋        | 41/250 [00:48<04:29,  1.29s/it]"
          ]
        },
        {
          "output_type": "stream",
          "name": "stdout",
          "text": [
            "Epoch 41, Train loss: 11.66856624383842\n",
            "Epoch 41, Test loss: 12.87858098745346\n"
          ]
        },
        {
          "output_type": "stream",
          "name": "stderr",
          "text": [
            "\r 17%|█▋        | 42/250 [00:49<04:10,  1.21s/it]"
          ]
        },
        {
          "output_type": "stream",
          "name": "stdout",
          "text": [
            "Epoch 42, Train loss: 11.636276494085262\n",
            "Epoch 42, Test loss: 12.126312464475632\n"
          ]
        },
        {
          "output_type": "stream",
          "name": "stderr",
          "text": [
            "\r 17%|█▋        | 43/250 [00:50<03:57,  1.15s/it]"
          ]
        },
        {
          "output_type": "stream",
          "name": "stdout",
          "text": [
            "Epoch 43, Train loss: 11.56862611264254\n",
            "Epoch 43, Test loss: 12.324913382530212\n"
          ]
        },
        {
          "output_type": "stream",
          "name": "stderr",
          "text": [
            "\r 18%|█▊        | 44/250 [00:51<03:47,  1.10s/it]"
          ]
        },
        {
          "output_type": "stream",
          "name": "stdout",
          "text": [
            "Epoch 44, Train loss: 11.585538387298584\n",
            "Epoch 44, Test loss: 12.287254869937897\n"
          ]
        },
        {
          "output_type": "stream",
          "name": "stderr",
          "text": [
            "\r 18%|█▊        | 45/250 [00:52<03:39,  1.07s/it]"
          ]
        },
        {
          "output_type": "stream",
          "name": "stdout",
          "text": [
            "Epoch 45, Train loss: 11.577540178214555\n",
            "Epoch 45, Test loss: 12.109063982963562\n"
          ]
        },
        {
          "output_type": "stream",
          "name": "stderr",
          "text": [
            "\r 18%|█▊        | 46/250 [00:53<03:35,  1.06s/it]"
          ]
        },
        {
          "output_type": "stream",
          "name": "stdout",
          "text": [
            "Epoch 46, Train loss: 11.582317107546645\n",
            "Epoch 46, Test loss: 12.03908696770668\n"
          ]
        },
        {
          "output_type": "stream",
          "name": "stderr",
          "text": [
            "\r 19%|█▉        | 47/250 [00:54<03:32,  1.05s/it]"
          ]
        },
        {
          "output_type": "stream",
          "name": "stdout",
          "text": [
            "Epoch 47, Train loss: 11.55159010929344\n",
            "Epoch 47, Test loss: 12.109092682600021\n"
          ]
        },
        {
          "output_type": "stream",
          "name": "stderr",
          "text": [
            "\r 19%|█▉        | 48/250 [00:55<03:29,  1.04s/it]"
          ]
        },
        {
          "output_type": "stream",
          "name": "stdout",
          "text": [
            "Epoch 48, Train loss: 11.619866565265486\n",
            "Epoch 48, Test loss: 12.073170363903046\n"
          ]
        },
        {
          "output_type": "stream",
          "name": "stderr",
          "text": [
            "\r 20%|█▉        | 49/250 [00:56<03:27,  1.03s/it]"
          ]
        },
        {
          "output_type": "stream",
          "name": "stdout",
          "text": [
            "Epoch 49, Train loss: 11.512974312875123\n",
            "Epoch 49, Test loss: 12.135806798934937\n",
            "Epoch 50, Train loss: 11.491672060130972\n"
          ]
        },
        {
          "output_type": "stream",
          "name": "stderr",
          "text": [
            "\r 20%|██        | 50/250 [00:57<03:35,  1.08s/it]"
          ]
        },
        {
          "output_type": "stream",
          "name": "stdout",
          "text": [
            "Epoch 50, Test loss: 12.127711087465286\n",
            "Epoch 51, Train loss: 11.476983348880195\n"
          ]
        },
        {
          "output_type": "stream",
          "name": "stderr",
          "text": [
            "\r 20%|██        | 51/250 [00:59<03:49,  1.15s/it]"
          ]
        },
        {
          "output_type": "stream",
          "name": "stdout",
          "text": [
            "Epoch 51, Test loss: 12.035880953073502\n"
          ]
        },
        {
          "output_type": "stream",
          "name": "stderr",
          "text": [
            "\r 21%|██        | 52/250 [01:00<03:38,  1.10s/it]"
          ]
        },
        {
          "output_type": "stream",
          "name": "stdout",
          "text": [
            "Epoch 52, Train loss: 11.543651964812152\n",
            "Epoch 52, Test loss: 12.341673880815506\n"
          ]
        },
        {
          "output_type": "stream",
          "name": "stderr",
          "text": [
            "\r 21%|██        | 53/250 [01:01<03:32,  1.08s/it]"
          ]
        },
        {
          "output_type": "stream",
          "name": "stdout",
          "text": [
            "Epoch 53, Train loss: 11.465281731259507\n",
            "Epoch 53, Test loss: 12.030305683612823\n"
          ]
        },
        {
          "output_type": "stream",
          "name": "stderr",
          "text": [
            "\r 22%|██▏       | 54/250 [01:02<03:26,  1.06s/it]"
          ]
        },
        {
          "output_type": "stream",
          "name": "stdout",
          "text": [
            "Epoch 54, Train loss: 11.487508997452997\n",
            "Epoch 54, Test loss: 12.724866569042206\n"
          ]
        },
        {
          "output_type": "stream",
          "name": "stderr",
          "text": [
            "\r 22%|██▏       | 55/250 [01:03<03:21,  1.04s/it]"
          ]
        },
        {
          "output_type": "stream",
          "name": "stdout",
          "text": [
            "Epoch 55, Train loss: 11.52422031048125\n",
            "Epoch 55, Test loss: 12.28448274731636\n"
          ]
        },
        {
          "output_type": "stream",
          "name": "stderr",
          "text": [
            "\r 22%|██▏       | 56/250 [01:04<03:18,  1.02s/it]"
          ]
        },
        {
          "output_type": "stream",
          "name": "stdout",
          "text": [
            "Epoch 56, Train loss: 11.54157683279662\n",
            "Epoch 56, Test loss: 12.011506259441376\n"
          ]
        },
        {
          "output_type": "stream",
          "name": "stderr",
          "text": [
            "\r 23%|██▎       | 57/250 [01:05<03:15,  1.01s/it]"
          ]
        },
        {
          "output_type": "stream",
          "name": "stdout",
          "text": [
            "Epoch 57, Train loss: 11.464618357936892\n",
            "Epoch 57, Test loss: 11.995021849870682\n"
          ]
        },
        {
          "output_type": "stream",
          "name": "stderr",
          "text": [
            "\r 23%|██▎       | 58/250 [01:06<03:13,  1.01s/it]"
          ]
        },
        {
          "output_type": "stream",
          "name": "stdout",
          "text": [
            "Epoch 58, Train loss: 11.473278784118923\n",
            "Epoch 58, Test loss: 12.088358640670776\n"
          ]
        },
        {
          "output_type": "stream",
          "name": "stderr",
          "text": [
            "\r 24%|██▎       | 59/250 [01:07<03:11,  1.00s/it]"
          ]
        },
        {
          "output_type": "stream",
          "name": "stdout",
          "text": [
            "Epoch 59, Train loss: 11.435334171869059\n",
            "Epoch 59, Test loss: 12.203576475381851\n"
          ]
        },
        {
          "output_type": "stream",
          "name": "stderr",
          "text": [
            "\r 24%|██▍       | 60/250 [01:08<03:10,  1.00s/it]"
          ]
        },
        {
          "output_type": "stream",
          "name": "stdout",
          "text": [
            "Epoch 60, Train loss: 11.488154137029056\n",
            "Epoch 60, Test loss: 11.969789385795593\n"
          ]
        },
        {
          "output_type": "stream",
          "name": "stderr",
          "text": [
            "\r 24%|██▍       | 61/250 [01:09<03:10,  1.01s/it]"
          ]
        },
        {
          "output_type": "stream",
          "name": "stdout",
          "text": [
            "Epoch 61, Train loss: 11.460843879564674\n",
            "Epoch 61, Test loss: 12.06227120757103\n",
            "Epoch 62, Train loss: 11.46843372193058\n"
          ]
        },
        {
          "output_type": "stream",
          "name": "stderr",
          "text": [
            "\r 25%|██▍       | 62/250 [01:10<03:26,  1.10s/it]"
          ]
        },
        {
          "output_type": "stream",
          "name": "stdout",
          "text": [
            "Epoch 62, Test loss: 12.086836606264114\n"
          ]
        },
        {
          "output_type": "stream",
          "name": "stderr",
          "text": [
            "\r 25%|██▌       | 63/250 [01:11<03:31,  1.13s/it]"
          ]
        },
        {
          "output_type": "stream",
          "name": "stdout",
          "text": [
            "Epoch 63, Train loss: 11.431101836989411\n",
            "Epoch 63, Test loss: 11.982272624969482\n"
          ]
        },
        {
          "output_type": "stream",
          "name": "stderr",
          "text": [
            "\r 26%|██▌       | 64/250 [01:12<03:23,  1.09s/it]"
          ]
        },
        {
          "output_type": "stream",
          "name": "stdout",
          "text": [
            "Epoch 64, Train loss: 11.415892947036609\n",
            "Epoch 64, Test loss: 12.03474873304367\n"
          ]
        },
        {
          "output_type": "stream",
          "name": "stderr",
          "text": [
            "\r 26%|██▌       | 65/250 [01:13<03:16,  1.06s/it]"
          ]
        },
        {
          "output_type": "stream",
          "name": "stdout",
          "text": [
            "Epoch 65, Train loss: 11.405464066868335\n",
            "Epoch 65, Test loss: 12.220852345228195\n"
          ]
        },
        {
          "output_type": "stream",
          "name": "stderr",
          "text": [
            "\r 26%|██▋       | 66/250 [01:14<03:11,  1.04s/it]"
          ]
        },
        {
          "output_type": "stream",
          "name": "stdout",
          "text": [
            "Epoch 66, Train loss: 11.429411145438134\n",
            "Epoch 66, Test loss: 12.032035768032074\n"
          ]
        },
        {
          "output_type": "stream",
          "name": "stderr",
          "text": [
            "\r 27%|██▋       | 67/250 [01:15<03:09,  1.03s/it]"
          ]
        },
        {
          "output_type": "stream",
          "name": "stdout",
          "text": [
            "Epoch 67, Train loss: 11.41042513973945\n",
            "Epoch 67, Test loss: 12.094269424676895\n"
          ]
        },
        {
          "output_type": "stream",
          "name": "stderr",
          "text": [
            "\r 27%|██▋       | 68/250 [01:16<03:05,  1.02s/it]"
          ]
        },
        {
          "output_type": "stream",
          "name": "stdout",
          "text": [
            "Epoch 68, Train loss: 11.432449374578695\n",
            "Epoch 68, Test loss: 12.037503600120544\n",
            "Epoch 69, Train loss: 11.400418336412548\n"
          ]
        },
        {
          "output_type": "stream",
          "name": "stderr",
          "text": [
            "\r 28%|██▊       | 69/250 [01:17<03:19,  1.10s/it]"
          ]
        },
        {
          "output_type": "stream",
          "name": "stdout",
          "text": [
            "Epoch 69, Test loss: 11.974627286195755\n"
          ]
        },
        {
          "output_type": "stream",
          "name": "stderr",
          "text": [
            "\r 28%|██▊       | 70/250 [01:18<03:13,  1.07s/it]"
          ]
        },
        {
          "output_type": "stream",
          "name": "stdout",
          "text": [
            "Epoch 70, Train loss: 11.416549906266473\n",
            "Epoch 70, Test loss: 11.971123158931732\n"
          ]
        },
        {
          "output_type": "stream",
          "name": "stderr",
          "text": [
            "\r 28%|██▊       | 71/250 [01:19<03:14,  1.09s/it]"
          ]
        },
        {
          "output_type": "stream",
          "name": "stdout",
          "text": [
            "Epoch 71, Train loss: 11.461061321528613\n",
            "Epoch 71, Test loss: 11.965074807405472\n",
            "Epoch 72, Train loss: 11.39965571766406\n"
          ]
        },
        {
          "output_type": "stream",
          "name": "stderr",
          "text": [
            "\r 29%|██▉       | 72/250 [01:21<03:38,  1.23s/it]"
          ]
        },
        {
          "output_type": "stream",
          "name": "stdout",
          "text": [
            "Epoch 72, Test loss: 11.98310124874115\n",
            "Epoch 73, Train loss: 11.41465094237201\n"
          ]
        },
        {
          "output_type": "stream",
          "name": "stderr",
          "text": [
            "\r 29%|██▉       | 73/250 [01:23<03:58,  1.35s/it]"
          ]
        },
        {
          "output_type": "stream",
          "name": "stdout",
          "text": [
            "Epoch 73, Test loss: 11.924199759960175\n"
          ]
        },
        {
          "output_type": "stream",
          "name": "stderr",
          "text": [
            "\r 30%|██▉       | 74/250 [01:24<03:51,  1.31s/it]"
          ]
        },
        {
          "output_type": "stream",
          "name": "stdout",
          "text": [
            "Epoch 74, Train loss: 11.389569662313546\n",
            "Epoch 74, Test loss: 12.054170399904251\n"
          ]
        },
        {
          "output_type": "stream",
          "name": "stderr",
          "text": [
            "\r 30%|███       | 75/250 [01:25<03:36,  1.24s/it]"
          ]
        },
        {
          "output_type": "stream",
          "name": "stdout",
          "text": [
            "Epoch 75, Train loss: 11.396866739323709\n",
            "Epoch 75, Test loss: 11.99824258685112\n"
          ]
        },
        {
          "output_type": "stream",
          "name": "stderr",
          "text": [
            "\r 30%|███       | 76/250 [01:26<03:33,  1.23s/it]"
          ]
        },
        {
          "output_type": "stream",
          "name": "stdout",
          "text": [
            "Epoch 76, Train loss: 11.376851233760867\n",
            "Epoch 76, Test loss: 11.980347067117691\n",
            "Epoch 77, Train loss: 11.375863193410687\n"
          ]
        },
        {
          "output_type": "stream",
          "name": "stderr",
          "text": [
            "\r 31%|███       | 77/250 [01:28<03:37,  1.26s/it]"
          ]
        },
        {
          "output_type": "stream",
          "name": "stdout",
          "text": [
            "Epoch 77, Test loss: 12.040074855089188\n"
          ]
        },
        {
          "output_type": "stream",
          "name": "stderr",
          "text": [
            "\r 31%|███       | 78/250 [01:29<03:32,  1.24s/it]"
          ]
        },
        {
          "output_type": "stream",
          "name": "stdout",
          "text": [
            "Epoch 78, Train loss: 11.376449141882162\n",
            "Epoch 78, Test loss: 11.943704843521118\n",
            "Epoch 79, Train loss: 11.384001740312154\n"
          ]
        },
        {
          "output_type": "stream",
          "name": "stderr",
          "text": [
            "\r 32%|███▏      | 79/250 [01:30<03:27,  1.21s/it]"
          ]
        },
        {
          "output_type": "stream",
          "name": "stdout",
          "text": [
            "Epoch 79, Test loss: 11.926411837339401\n"
          ]
        },
        {
          "output_type": "stream",
          "name": "stderr",
          "text": [
            "\r 32%|███▏      | 80/250 [01:31<03:29,  1.23s/it]"
          ]
        },
        {
          "output_type": "stream",
          "name": "stdout",
          "text": [
            "Epoch 80, Train loss: 11.366783990269214\n",
            "Epoch 80, Test loss: 11.954949170351028\n"
          ]
        },
        {
          "output_type": "stream",
          "name": "stderr",
          "text": [
            "\r 32%|███▏      | 81/250 [01:32<03:17,  1.17s/it]"
          ]
        },
        {
          "output_type": "stream",
          "name": "stdout",
          "text": [
            "Epoch 81, Train loss: 11.36382594994739\n",
            "Epoch 81, Test loss: 11.931234866380692\n",
            "Epoch 82, Train loss: 11.363569272302948\n"
          ]
        },
        {
          "output_type": "stream",
          "name": "stderr",
          "text": [
            "\r 33%|███▎      | 82/250 [01:33<03:14,  1.16s/it]"
          ]
        },
        {
          "output_type": "stream",
          "name": "stdout",
          "text": [
            "Epoch 82, Test loss: 11.998568266630173\n",
            "Epoch 83, Train loss: 11.356675987750029\n"
          ]
        },
        {
          "output_type": "stream",
          "name": "stderr",
          "text": [
            "\r 33%|███▎      | 83/250 [01:35<03:21,  1.21s/it]"
          ]
        },
        {
          "output_type": "stream",
          "name": "stdout",
          "text": [
            "Epoch 83, Test loss: 11.96043574810028\n"
          ]
        },
        {
          "output_type": "stream",
          "name": "stderr",
          "text": [
            "\r 34%|███▎      | 84/250 [01:36<03:14,  1.17s/it]"
          ]
        },
        {
          "output_type": "stream",
          "name": "stdout",
          "text": [
            "Epoch 84, Train loss: 11.341155913023822\n",
            "Epoch 84, Test loss: 11.947835832834244\n"
          ]
        },
        {
          "output_type": "stream",
          "name": "stderr",
          "text": [
            "\r 34%|███▍      | 85/250 [01:37<03:05,  1.12s/it]"
          ]
        },
        {
          "output_type": "stream",
          "name": "stdout",
          "text": [
            "Epoch 85, Train loss: 11.404153055849328\n",
            "Epoch 85, Test loss: 11.96329551935196\n"
          ]
        },
        {
          "output_type": "stream",
          "name": "stderr",
          "text": [
            "\r 34%|███▍      | 86/250 [01:38<02:57,  1.08s/it]"
          ]
        },
        {
          "output_type": "stream",
          "name": "stdout",
          "text": [
            "Epoch 86, Train loss: 11.352438589112948\n",
            "Epoch 86, Test loss: 12.193124145269394\n"
          ]
        },
        {
          "output_type": "stream",
          "name": "stderr",
          "text": [
            "\r 35%|███▍      | 87/250 [01:39<02:51,  1.05s/it]"
          ]
        },
        {
          "output_type": "stream",
          "name": "stdout",
          "text": [
            "Epoch 87, Train loss: 11.377303790202182\n",
            "Epoch 87, Test loss: 11.956837683916092\n"
          ]
        },
        {
          "output_type": "stream",
          "name": "stderr",
          "text": [
            "\r 35%|███▌      | 88/250 [01:40<02:47,  1.03s/it]"
          ]
        },
        {
          "output_type": "stream",
          "name": "stdout",
          "text": [
            "Epoch 88, Train loss: 11.32307363611407\n",
            "Epoch 88, Test loss: 11.932084739208221\n"
          ]
        },
        {
          "output_type": "stream",
          "name": "stderr",
          "text": [
            "\r 36%|███▌      | 89/250 [01:41<02:44,  1.02s/it]"
          ]
        },
        {
          "output_type": "stream",
          "name": "stdout",
          "text": [
            "Epoch 89, Train loss: 11.33863237684807\n",
            "Epoch 89, Test loss: 11.963953256607056\n"
          ]
        },
        {
          "output_type": "stream",
          "name": "stderr",
          "text": [
            "\r 36%|███▌      | 90/250 [01:42<02:42,  1.02s/it]"
          ]
        },
        {
          "output_type": "stream",
          "name": "stdout",
          "text": [
            "Epoch 90, Train loss: 11.36708134254523\n",
            "Epoch 90, Test loss: 11.949377238750458\n"
          ]
        },
        {
          "output_type": "stream",
          "name": "stderr",
          "text": [
            "\r 36%|███▋      | 91/250 [01:43<02:40,  1.01s/it]"
          ]
        },
        {
          "output_type": "stream",
          "name": "stdout",
          "text": [
            "Epoch 91, Train loss: 11.323191043549935\n",
            "Epoch 91, Test loss: 11.951772004365921\n"
          ]
        },
        {
          "output_type": "stream",
          "name": "stderr",
          "text": [
            "\r 37%|███▋      | 92/250 [01:44<02:39,  1.01s/it]"
          ]
        },
        {
          "output_type": "stream",
          "name": "stdout",
          "text": [
            "Epoch 92, Train loss: 11.346437842445036\n",
            "Epoch 92, Test loss: 12.006447404623032\n"
          ]
        },
        {
          "output_type": "stream",
          "name": "stderr",
          "text": [
            "\r 37%|███▋      | 93/250 [01:45<02:38,  1.01s/it]"
          ]
        },
        {
          "output_type": "stream",
          "name": "stdout",
          "text": [
            "Epoch 93, Train loss: 11.334955046662188\n",
            "Epoch 93, Test loss: 11.952702462673187\n",
            "Epoch 94, Train loss: 11.33020481177136\n"
          ]
        },
        {
          "output_type": "stream",
          "name": "stderr",
          "text": [
            "\r 38%|███▊      | 94/250 [01:46<02:51,  1.10s/it]"
          ]
        },
        {
          "output_type": "stream",
          "name": "stdout",
          "text": [
            "Epoch 94, Test loss: 11.8966084420681\n"
          ]
        },
        {
          "output_type": "stream",
          "name": "stderr",
          "text": [
            "\r 38%|███▊      | 95/250 [01:47<02:57,  1.14s/it]"
          ]
        },
        {
          "output_type": "stream",
          "name": "stdout",
          "text": [
            "Epoch 95, Train loss: 11.338205827020966\n",
            "Epoch 95, Test loss: 11.911795914173126\n"
          ]
        },
        {
          "output_type": "stream",
          "name": "stderr",
          "text": [
            "\r 38%|███▊      | 96/250 [01:48<02:50,  1.11s/it]"
          ]
        },
        {
          "output_type": "stream",
          "name": "stdout",
          "text": [
            "Epoch 96, Train loss: 11.325545775151886\n",
            "Epoch 96, Test loss: 11.960218578577042\n"
          ]
        },
        {
          "output_type": "stream",
          "name": "stderr",
          "text": [
            "\r 39%|███▉      | 97/250 [01:49<02:45,  1.08s/it]"
          ]
        },
        {
          "output_type": "stream",
          "name": "stdout",
          "text": [
            "Epoch 97, Train loss: 11.33647056596469\n",
            "Epoch 97, Test loss: 11.984433352947235\n"
          ]
        },
        {
          "output_type": "stream",
          "name": "stderr",
          "text": [
            "\r 39%|███▉      | 98/250 [01:50<02:40,  1.06s/it]"
          ]
        },
        {
          "output_type": "stream",
          "name": "stdout",
          "text": [
            "Epoch 98, Train loss: 11.328366313360434\n",
            "Epoch 98, Test loss: 11.946841388940811\n"
          ]
        },
        {
          "output_type": "stream",
          "name": "stderr",
          "text": [
            "\r 40%|███▉      | 99/250 [01:51<02:36,  1.04s/it]"
          ]
        },
        {
          "output_type": "stream",
          "name": "stdout",
          "text": [
            "Epoch 99, Train loss: 11.315552184012084\n",
            "Epoch 99, Test loss: 12.010807633399963\n"
          ]
        },
        {
          "output_type": "stream",
          "name": "stderr",
          "text": [
            "\r 40%|████      | 100/250 [01:52<02:34,  1.03s/it]"
          ]
        },
        {
          "output_type": "stream",
          "name": "stdout",
          "text": [
            "Epoch 100, Train loss: 11.340505705470532\n",
            "Epoch 100, Test loss: 11.961877048015594\n"
          ]
        },
        {
          "output_type": "stream",
          "name": "stderr",
          "text": [
            "\r 40%|████      | 101/250 [01:53<02:32,  1.02s/it]"
          ]
        },
        {
          "output_type": "stream",
          "name": "stdout",
          "text": [
            "Epoch 101, Train loss: 11.320508918930999\n",
            "Epoch 101, Test loss: 11.897852122783661\n"
          ]
        },
        {
          "output_type": "stream",
          "name": "stderr",
          "text": [
            "\r 41%|████      | 102/250 [01:54<02:30,  1.02s/it]"
          ]
        },
        {
          "output_type": "stream",
          "name": "stdout",
          "text": [
            "Epoch 102, Train loss: 11.30769723284561\n",
            "Epoch 102, Test loss: 11.944513022899628\n"
          ]
        },
        {
          "output_type": "stream",
          "name": "stderr",
          "text": [
            "\r 41%|████      | 103/250 [01:55<02:28,  1.01s/it]"
          ]
        },
        {
          "output_type": "stream",
          "name": "stdout",
          "text": [
            "Epoch 103, Train loss: 11.31533011714969\n",
            "Epoch 103, Test loss: 11.989522367715836\n"
          ]
        },
        {
          "output_type": "stream",
          "name": "stderr",
          "text": [
            "\r 42%|████▏     | 104/250 [01:56<02:29,  1.02s/it]"
          ]
        },
        {
          "output_type": "stream",
          "name": "stdout",
          "text": [
            "Epoch 104, Train loss: 11.339199564098257\n",
            "Epoch 104, Test loss: 11.921395421028137\n",
            "Epoch 105, Train loss: 11.313741658641174\n"
          ]
        },
        {
          "output_type": "stream",
          "name": "stderr",
          "text": [
            "\r 42%|████▏     | 105/250 [01:58<02:36,  1.08s/it]"
          ]
        },
        {
          "output_type": "stream",
          "name": "stdout",
          "text": [
            "Epoch 105, Test loss: 11.927723079919815\n",
            "Epoch 106, Train loss: 11.295073661129031\n"
          ]
        },
        {
          "output_type": "stream",
          "name": "stderr",
          "text": [
            "\r 42%|████▏     | 106/250 [01:59<02:46,  1.15s/it]"
          ]
        },
        {
          "output_type": "stream",
          "name": "stdout",
          "text": [
            "Epoch 106, Test loss: 11.913787424564362\n"
          ]
        },
        {
          "output_type": "stream",
          "name": "stderr",
          "text": [
            "\r 43%|████▎     | 107/250 [02:00<02:39,  1.11s/it]"
          ]
        },
        {
          "output_type": "stream",
          "name": "stdout",
          "text": [
            "Epoch 107, Train loss: 11.3232133958192\n",
            "Epoch 107, Test loss: 11.920679867267609\n"
          ]
        },
        {
          "output_type": "stream",
          "name": "stderr",
          "text": [
            "\r 43%|████▎     | 108/250 [02:01<02:34,  1.08s/it]"
          ]
        },
        {
          "output_type": "stream",
          "name": "stdout",
          "text": [
            "Epoch 108, Train loss: 11.296949272662138\n",
            "Epoch 108, Test loss: 11.984315782785416\n"
          ]
        },
        {
          "output_type": "stream",
          "name": "stderr",
          "text": [
            "\r 44%|████▎     | 109/250 [02:02<02:30,  1.07s/it]"
          ]
        },
        {
          "output_type": "stream",
          "name": "stdout",
          "text": [
            "Epoch 109, Train loss: 11.289750597118276\n",
            "Epoch 109, Test loss: 11.994999796152115\n"
          ]
        },
        {
          "output_type": "stream",
          "name": "stderr",
          "text": [
            "\r 44%|████▍     | 110/250 [02:03<02:26,  1.05s/it]"
          ]
        },
        {
          "output_type": "stream",
          "name": "stdout",
          "text": [
            "Epoch 110, Train loss: 11.312491872669321\n",
            "Epoch 110, Test loss: 11.973028779029846\n"
          ]
        },
        {
          "output_type": "stream",
          "name": "stderr",
          "text": [
            "\r 44%|████▍     | 111/250 [02:04<02:23,  1.03s/it]"
          ]
        },
        {
          "output_type": "stream",
          "name": "stdout",
          "text": [
            "Epoch 111, Train loss: 11.315824972844757\n",
            "Epoch 111, Test loss: 11.91775757074356\n"
          ]
        },
        {
          "output_type": "stream",
          "name": "stderr",
          "text": [
            "\r 45%|████▍     | 112/250 [02:05<02:21,  1.02s/it]"
          ]
        },
        {
          "output_type": "stream",
          "name": "stdout",
          "text": [
            "Epoch 112, Train loss: 11.312033016069801\n",
            "Epoch 112, Test loss: 11.903418451547623\n"
          ]
        },
        {
          "output_type": "stream",
          "name": "stderr",
          "text": [
            "\r 45%|████▌     | 113/250 [02:06<02:31,  1.11s/it]"
          ]
        },
        {
          "output_type": "stream",
          "name": "stdout",
          "text": [
            "Epoch 113, Train loss: 11.320918349038184\n",
            "Epoch 113, Test loss: 11.871531993150711\n",
            "Epoch 114, Train loss: 11.311484957163312\n"
          ]
        },
        {
          "output_type": "stream",
          "name": "stderr",
          "text": [
            "\r 46%|████▌     | 114/250 [02:07<02:35,  1.14s/it]"
          ]
        },
        {
          "output_type": "stream",
          "name": "stdout",
          "text": [
            "Epoch 114, Test loss: 11.943111389875412\n"
          ]
        },
        {
          "output_type": "stream",
          "name": "stderr",
          "text": [
            "\r 46%|████▌     | 115/250 [02:09<02:35,  1.15s/it]"
          ]
        },
        {
          "output_type": "stream",
          "name": "stdout",
          "text": [
            "Epoch 115, Train loss: 11.324449176281954\n",
            "Epoch 115, Test loss: 11.99414473772049\n",
            "Epoch 116, Train loss: 11.297776180031025\n"
          ]
        },
        {
          "output_type": "stream",
          "name": "stderr",
          "text": [
            "\r 46%|████▋     | 116/250 [02:11<03:05,  1.38s/it]"
          ]
        },
        {
          "output_type": "stream",
          "name": "stdout",
          "text": [
            "Epoch 116, Test loss: 11.929211854934692\n",
            "Epoch 117, Train loss: 11.309680428125162\n"
          ]
        },
        {
          "output_type": "stream",
          "name": "stderr",
          "text": [
            "\r 47%|████▋     | 117/250 [02:12<03:05,  1.39s/it]"
          ]
        },
        {
          "output_type": "stream",
          "name": "stdout",
          "text": [
            "Epoch 117, Test loss: 11.992263078689575\n",
            "Epoch 118, Train loss: 11.30706156249595\n"
          ]
        },
        {
          "output_type": "stream",
          "name": "stderr",
          "text": [
            "\r 47%|████▋     | 118/250 [02:13<03:07,  1.42s/it]"
          ]
        },
        {
          "output_type": "stream",
          "name": "stdout",
          "text": [
            "Epoch 118, Test loss: 11.916756361722946\n",
            "Epoch 119, Train loss: 11.291223652594912\n"
          ]
        },
        {
          "output_type": "stream",
          "name": "stderr",
          "text": [
            "\r 48%|████▊     | 119/250 [02:15<03:09,  1.45s/it]"
          ]
        },
        {
          "output_type": "stream",
          "name": "stdout",
          "text": [
            "Epoch 119, Test loss: 11.929189682006836\n",
            "Epoch 120, Train loss: 11.301623703104205\n"
          ]
        },
        {
          "output_type": "stream",
          "name": "stderr",
          "text": [
            "\r 48%|████▊     | 120/250 [02:16<02:57,  1.36s/it]"
          ]
        },
        {
          "output_type": "stream",
          "name": "stdout",
          "text": [
            "Epoch 120, Test loss: 11.93976241350174\n"
          ]
        },
        {
          "output_type": "stream",
          "name": "stderr",
          "text": [
            "\r 48%|████▊     | 121/250 [02:17<02:51,  1.33s/it]"
          ]
        },
        {
          "output_type": "stream",
          "name": "stdout",
          "text": [
            "Epoch 121, Train loss: 11.303728234451428\n",
            "Epoch 121, Test loss: 11.919859826564789\n"
          ]
        },
        {
          "output_type": "stream",
          "name": "stderr",
          "text": [
            "\r 49%|████▉     | 122/250 [02:18<02:37,  1.23s/it]"
          ]
        },
        {
          "output_type": "stream",
          "name": "stdout",
          "text": [
            "Epoch 122, Train loss: 11.294424242677941\n",
            "Epoch 122, Test loss: 11.909659147262573\n"
          ]
        },
        {
          "output_type": "stream",
          "name": "stderr",
          "text": [
            "\r 49%|████▉     | 123/250 [02:19<02:27,  1.16s/it]"
          ]
        },
        {
          "output_type": "stream",
          "name": "stdout",
          "text": [
            "Epoch 123, Train loss: 11.283279726990557\n",
            "Epoch 123, Test loss: 11.900565326213837\n",
            "Epoch 124, Train loss: 11.284308695160183\n"
          ]
        },
        {
          "output_type": "stream",
          "name": "stderr",
          "text": [
            "\r 50%|████▉     | 124/250 [02:21<02:29,  1.19s/it]"
          ]
        },
        {
          "output_type": "stream",
          "name": "stdout",
          "text": [
            "Epoch 124, Test loss: 11.887462049722672\n",
            "Epoch 125, Train loss: 11.307725661623794\n"
          ]
        },
        {
          "output_type": "stream",
          "name": "stderr",
          "text": [
            "\r 50%|█████     | 125/250 [02:22<02:43,  1.31s/it]"
          ]
        },
        {
          "output_type": "stream",
          "name": "stdout",
          "text": [
            "Epoch 125, Test loss: 11.99340033531189\n",
            "Epoch 126, Train loss: 11.296518595872728\n"
          ]
        },
        {
          "output_type": "stream",
          "name": "stderr",
          "text": [
            "\r 50%|█████     | 126/250 [02:24<02:43,  1.32s/it]"
          ]
        },
        {
          "output_type": "stream",
          "name": "stdout",
          "text": [
            "Epoch 126, Test loss: 11.917398035526276\n",
            "Epoch 127, Train loss: 11.288056706960223\n"
          ]
        },
        {
          "output_type": "stream",
          "name": "stderr",
          "text": [
            "\r 51%|█████     | 127/250 [02:25<02:37,  1.28s/it]"
          ]
        },
        {
          "output_type": "stream",
          "name": "stdout",
          "text": [
            "Epoch 127, Test loss: 11.894633620977402\n",
            "Epoch 128, Train loss: 11.284938272121734\n"
          ]
        },
        {
          "output_type": "stream",
          "name": "stderr",
          "text": [
            "\r 51%|█████     | 128/250 [02:26<02:33,  1.26s/it]"
          ]
        },
        {
          "output_type": "stream",
          "name": "stdout",
          "text": [
            "Epoch 128, Test loss: 11.950199276208878\n"
          ]
        },
        {
          "output_type": "stream",
          "name": "stderr",
          "text": [
            "\r 52%|█████▏    | 129/250 [02:27<02:35,  1.29s/it]"
          ]
        },
        {
          "output_type": "stream",
          "name": "stdout",
          "text": [
            "Epoch 129, Train loss: 11.30479718520578\n",
            "Epoch 129, Test loss: 11.906566083431244\n",
            "Epoch 130, Train loss: 11.317257298832446\n"
          ]
        },
        {
          "output_type": "stream",
          "name": "stderr",
          "text": [
            "\r 52%|█████▏    | 130/250 [02:29<02:46,  1.39s/it]"
          ]
        },
        {
          "output_type": "stream",
          "name": "stdout",
          "text": [
            "Epoch 130, Test loss: 11.882054924964905\n",
            "Epoch 131, Train loss: 11.298335391863258\n"
          ]
        },
        {
          "output_type": "stream",
          "name": "stderr",
          "text": [
            "\r 52%|█████▏    | 131/250 [02:30<02:41,  1.36s/it]"
          ]
        },
        {
          "output_type": "stream",
          "name": "stdout",
          "text": [
            "Epoch 131, Test loss: 11.896637260913849\n"
          ]
        },
        {
          "output_type": "stream",
          "name": "stderr",
          "text": [
            "\r 53%|█████▎    | 132/250 [02:31<02:33,  1.30s/it]"
          ]
        },
        {
          "output_type": "stream",
          "name": "stdout",
          "text": [
            "Epoch 132, Train loss: 11.304661130483172\n",
            "Epoch 132, Test loss: 11.924556761980057\n"
          ]
        },
        {
          "output_type": "stream",
          "name": "stderr",
          "text": [
            "\r 53%|█████▎    | 133/250 [02:33<02:28,  1.27s/it]"
          ]
        },
        {
          "output_type": "stream",
          "name": "stdout",
          "text": [
            "Epoch 133, Train loss: 11.28996913200986\n",
            "Epoch 133, Test loss: 11.909666270017624\n"
          ]
        },
        {
          "output_type": "stream",
          "name": "stderr",
          "text": [
            "\r 54%|█████▎    | 134/250 [02:34<02:18,  1.19s/it]"
          ]
        },
        {
          "output_type": "stream",
          "name": "stdout",
          "text": [
            "Epoch 134, Train loss: 11.308908538480775\n",
            "Epoch 134, Test loss: 12.011953234672546\n",
            "Epoch 135, Train loss: 11.300236199809387\n"
          ]
        },
        {
          "output_type": "stream",
          "name": "stderr",
          "text": [
            "\r 54%|█████▍    | 135/250 [02:35<02:19,  1.22s/it]"
          ]
        },
        {
          "output_type": "stream",
          "name": "stdout",
          "text": [
            "Epoch 135, Test loss: 11.89374777674675\n",
            "Epoch 136, Train loss: 11.342357120682708\n"
          ]
        },
        {
          "output_type": "stream",
          "name": "stderr",
          "text": [
            "\r 54%|█████▍    | 136/250 [02:36<02:29,  1.31s/it]"
          ]
        },
        {
          "output_type": "stream",
          "name": "stdout",
          "text": [
            "Epoch 136, Test loss: 11.958137184381485\n"
          ]
        },
        {
          "output_type": "stream",
          "name": "stderr",
          "text": [
            "\r 55%|█████▍    | 137/250 [02:37<02:18,  1.22s/it]"
          ]
        },
        {
          "output_type": "stream",
          "name": "stdout",
          "text": [
            "Epoch 137, Train loss: 11.297401985235973\n",
            "Epoch 137, Test loss: 11.933524519205093\n"
          ]
        },
        {
          "output_type": "stream",
          "name": "stderr",
          "text": [
            "\r 55%|█████▌    | 138/250 [02:38<02:09,  1.16s/it]"
          ]
        },
        {
          "output_type": "stream",
          "name": "stdout",
          "text": [
            "Epoch 138, Train loss: 11.29698438981993\n",
            "Epoch 138, Test loss: 11.926322221755981\n"
          ]
        },
        {
          "output_type": "stream",
          "name": "stderr",
          "text": [
            "\r 56%|█████▌    | 139/250 [02:40<02:12,  1.19s/it]"
          ]
        },
        {
          "output_type": "stream",
          "name": "stdout",
          "text": [
            "Epoch 139, Train loss: 11.285764124541156\n",
            "Epoch 139, Test loss: 11.93542218208313\n",
            "Epoch 140, Train loss: 11.295978837308631\n"
          ]
        },
        {
          "output_type": "stream",
          "name": "stderr",
          "text": [
            "\r 56%|█████▌    | 140/250 [02:41<02:09,  1.18s/it]"
          ]
        },
        {
          "output_type": "stream",
          "name": "stdout",
          "text": [
            "Epoch 140, Test loss: 11.925067603588104\n"
          ]
        },
        {
          "output_type": "stream",
          "name": "stderr",
          "text": [
            "\r 56%|█████▋    | 141/250 [02:42<02:04,  1.14s/it]"
          ]
        },
        {
          "output_type": "stream",
          "name": "stdout",
          "text": [
            "Epoch 141, Train loss: 11.283502574515554\n",
            "Epoch 141, Test loss: 11.923732340335846\n"
          ]
        },
        {
          "output_type": "stream",
          "name": "stderr",
          "text": [
            "\r 57%|█████▋    | 142/250 [02:43<01:58,  1.10s/it]"
          ]
        },
        {
          "output_type": "stream",
          "name": "stdout",
          "text": [
            "Epoch 142, Train loss: 11.30063190713393\n",
            "Epoch 142, Test loss: 11.936445623636246\n"
          ]
        },
        {
          "output_type": "stream",
          "name": "stderr",
          "text": [
            "\r 57%|█████▋    | 143/250 [02:44<01:54,  1.07s/it]"
          ]
        },
        {
          "output_type": "stream",
          "name": "stdout",
          "text": [
            "Epoch 143, Train loss: 11.291666984558105\n",
            "Epoch 143, Test loss: 11.932792156934738\n"
          ]
        },
        {
          "output_type": "stream",
          "name": "stderr",
          "text": [
            "\r 58%|█████▊    | 144/250 [02:45<01:51,  1.06s/it]"
          ]
        },
        {
          "output_type": "stream",
          "name": "stdout",
          "text": [
            "Epoch 144, Train loss: 11.289660255465888\n",
            "Epoch 144, Test loss: 11.956918776035309\n",
            "Epoch 145, Train loss: 11.302404087201683\n"
          ]
        },
        {
          "output_type": "stream",
          "name": "stderr",
          "text": [
            "\r 58%|█████▊    | 145/250 [02:46<01:53,  1.08s/it]"
          ]
        },
        {
          "output_type": "stream",
          "name": "stdout",
          "text": [
            "Epoch 145, Test loss: 11.911438167095184\n",
            "Epoch 146, Train loss: 11.297042078676476\n"
          ]
        },
        {
          "output_type": "stream",
          "name": "stderr",
          "text": [
            "\r 58%|█████▊    | 146/250 [02:47<01:58,  1.14s/it]"
          ]
        },
        {
          "output_type": "stream",
          "name": "stdout",
          "text": [
            "Epoch 146, Test loss: 11.924305379390717\n"
          ]
        },
        {
          "output_type": "stream",
          "name": "stderr",
          "text": [
            "\r 59%|█████▉    | 147/250 [02:48<01:56,  1.13s/it]"
          ]
        },
        {
          "output_type": "stream",
          "name": "stdout",
          "text": [
            "Epoch 147, Train loss: 11.30711068516284\n",
            "Epoch 147, Test loss: 11.922021746635437\n"
          ]
        },
        {
          "output_type": "stream",
          "name": "stderr",
          "text": [
            "\r 59%|█████▉    | 148/250 [02:49<01:51,  1.10s/it]"
          ]
        },
        {
          "output_type": "stream",
          "name": "stdout",
          "text": [
            "Epoch 148, Train loss: 11.301061921415076\n",
            "Epoch 148, Test loss: 11.884169220924377\n"
          ]
        },
        {
          "output_type": "stream",
          "name": "stderr",
          "text": [
            "\r 60%|█████▉    | 149/250 [02:50<01:47,  1.07s/it]"
          ]
        },
        {
          "output_type": "stream",
          "name": "stdout",
          "text": [
            "Epoch 149, Train loss: 11.2910450116723\n",
            "Epoch 149, Test loss: 11.954160571098328\n"
          ]
        },
        {
          "output_type": "stream",
          "name": "stderr",
          "text": [
            "\r 60%|██████    | 150/250 [02:52<01:45,  1.05s/it]"
          ]
        },
        {
          "output_type": "stream",
          "name": "stdout",
          "text": [
            "Epoch 150, Train loss: 11.286949545936247\n",
            "Epoch 150, Test loss: 11.894702166318893\n"
          ]
        },
        {
          "output_type": "stream",
          "name": "stderr",
          "text": [
            "\r 60%|██████    | 151/250 [02:53<01:43,  1.04s/it]"
          ]
        },
        {
          "output_type": "stream",
          "name": "stdout",
          "text": [
            "Epoch 151, Train loss: 11.286469278082384\n",
            "Epoch 151, Test loss: 11.963024884462357\n"
          ]
        },
        {
          "output_type": "stream",
          "name": "stderr",
          "text": [
            "\r 61%|██████    | 152/250 [02:54<01:41,  1.03s/it]"
          ]
        },
        {
          "output_type": "stream",
          "name": "stdout",
          "text": [
            "Epoch 152, Train loss: 11.29593979151903\n",
            "Epoch 152, Test loss: 11.906539857387543\n"
          ]
        },
        {
          "output_type": "stream",
          "name": "stderr",
          "text": [
            "\r 61%|██████    | 153/250 [02:55<01:39,  1.02s/it]"
          ]
        },
        {
          "output_type": "stream",
          "name": "stdout",
          "text": [
            "Epoch 153, Train loss: 11.294767506354678\n",
            "Epoch 153, Test loss: 11.962902396917343\n"
          ]
        },
        {
          "output_type": "stream",
          "name": "stderr",
          "text": [
            "\r 62%|██████▏   | 154/250 [02:56<01:37,  1.02s/it]"
          ]
        },
        {
          "output_type": "stream",
          "name": "stdout",
          "text": [
            "Epoch 154, Train loss: 11.314423409183469\n",
            "Epoch 154, Test loss: 11.90391331911087\n"
          ]
        },
        {
          "output_type": "stream",
          "name": "stderr",
          "text": [
            "\r 62%|██████▏   | 155/250 [02:57<01:36,  1.01s/it]"
          ]
        },
        {
          "output_type": "stream",
          "name": "stdout",
          "text": [
            "Epoch 155, Train loss: 11.284830734793063\n",
            "Epoch 155, Test loss: 11.896215111017227\n"
          ]
        },
        {
          "output_type": "stream",
          "name": "stderr",
          "text": [
            "\r 62%|██████▏   | 156/250 [02:58<01:34,  1.01s/it]"
          ]
        },
        {
          "output_type": "stream",
          "name": "stdout",
          "text": [
            "Epoch 156, Train loss: 11.306827287758345\n",
            "Epoch 156, Test loss: 11.947918027639389\n",
            "Epoch 157, Train loss: 11.2966213943684\n"
          ]
        },
        {
          "output_type": "stream",
          "name": "stderr",
          "text": [
            "\r 63%|██████▎   | 157/250 [02:59<01:40,  1.08s/it]"
          ]
        },
        {
          "output_type": "stream",
          "name": "stdout",
          "text": [
            "Epoch 157, Test loss: 11.878024756908417\n"
          ]
        },
        {
          "output_type": "stream",
          "name": "stderr",
          "text": [
            "\r 63%|██████▎   | 158/250 [03:00<01:48,  1.18s/it]"
          ]
        },
        {
          "output_type": "stream",
          "name": "stdout",
          "text": [
            "Epoch 158, Train loss: 11.303701421855825\n",
            "Epoch 158, Test loss: 11.870547473430634\n"
          ]
        },
        {
          "output_type": "stream",
          "name": "stderr",
          "text": [
            "\r 64%|██████▎   | 159/250 [03:02<01:55,  1.27s/it]"
          ]
        },
        {
          "output_type": "stream",
          "name": "stdout",
          "text": [
            "Epoch 159, Train loss: 11.27914846048946\n",
            "Epoch 159, Test loss: 11.903022974729538\n"
          ]
        },
        {
          "output_type": "stream",
          "name": "stderr",
          "text": [
            "\r 64%|██████▍   | 160/250 [03:03<01:46,  1.19s/it]"
          ]
        },
        {
          "output_type": "stream",
          "name": "stdout",
          "text": [
            "Epoch 160, Train loss: 11.31142712061384\n",
            "Epoch 160, Test loss: 11.903977662324905\n"
          ]
        },
        {
          "output_type": "stream",
          "name": "stderr",
          "text": [
            "\r 64%|██████▍   | 161/250 [03:04<01:41,  1.14s/it]"
          ]
        },
        {
          "output_type": "stream",
          "name": "stdout",
          "text": [
            "Epoch 161, Train loss: 11.292834682802184\n",
            "Epoch 161, Test loss: 11.905147343873978\n"
          ]
        },
        {
          "output_type": "stream",
          "name": "stderr",
          "text": [
            "\r 65%|██████▍   | 162/250 [03:05<01:36,  1.09s/it]"
          ]
        },
        {
          "output_type": "stream",
          "name": "stdout",
          "text": [
            "Epoch 162, Train loss: 11.289659605617016\n",
            "Epoch 162, Test loss: 11.908365070819855\n"
          ]
        },
        {
          "output_type": "stream",
          "name": "stderr",
          "text": [
            "\r 65%|██████▌   | 163/250 [03:06<01:32,  1.07s/it]"
          ]
        },
        {
          "output_type": "stream",
          "name": "stdout",
          "text": [
            "Epoch 163, Train loss: 11.29589500680434\n",
            "Epoch 163, Test loss: 11.969232350587845\n"
          ]
        },
        {
          "output_type": "stream",
          "name": "stderr",
          "text": [
            "\r 66%|██████▌   | 164/250 [03:07<01:30,  1.05s/it]"
          ]
        },
        {
          "output_type": "stream",
          "name": "stdout",
          "text": [
            "Epoch 164, Train loss: 11.288512626580433\n",
            "Epoch 164, Test loss: 11.923923254013062\n"
          ]
        },
        {
          "output_type": "stream",
          "name": "stderr",
          "text": [
            "\r 66%|██████▌   | 165/250 [03:08<01:27,  1.03s/it]"
          ]
        },
        {
          "output_type": "stream",
          "name": "stdout",
          "text": [
            "Epoch 165, Train loss: 11.294339766544578\n",
            "Epoch 165, Test loss: 11.937041908502579\n"
          ]
        },
        {
          "output_type": "stream",
          "name": "stderr",
          "text": [
            "\r 66%|██████▋   | 166/250 [03:09<01:26,  1.03s/it]"
          ]
        },
        {
          "output_type": "stream",
          "name": "stdout",
          "text": [
            "Epoch 166, Train loss: 11.284405450905318\n",
            "Epoch 166, Test loss: 11.857116013765335\n"
          ]
        },
        {
          "output_type": "stream",
          "name": "stderr",
          "text": [
            "\r 67%|██████▋   | 167/250 [03:10<01:24,  1.02s/it]"
          ]
        },
        {
          "output_type": "stream",
          "name": "stdout",
          "text": [
            "Epoch 167, Train loss: 11.29764763232881\n",
            "Epoch 167, Test loss: 11.930373132228851\n",
            "Epoch 168, Train loss: 11.280255537117476\n"
          ]
        },
        {
          "output_type": "stream",
          "name": "stderr",
          "text": [
            "\r 67%|██████▋   | 168/250 [03:11<01:29,  1.09s/it]"
          ]
        },
        {
          "output_type": "stream",
          "name": "stdout",
          "text": [
            "Epoch 168, Test loss: 11.949310839176178\n"
          ]
        },
        {
          "output_type": "stream",
          "name": "stderr",
          "text": [
            "\r 68%|██████▊   | 169/250 [03:12<01:31,  1.14s/it]"
          ]
        },
        {
          "output_type": "stream",
          "name": "stdout",
          "text": [
            "Epoch 169, Train loss: 11.287900122921023\n",
            "Epoch 169, Test loss: 11.907980144023895\n"
          ]
        },
        {
          "output_type": "stream",
          "name": "stderr",
          "text": [
            "\r 68%|██████▊   | 170/250 [03:13<01:27,  1.10s/it]"
          ]
        },
        {
          "output_type": "stream",
          "name": "stdout",
          "text": [
            "Epoch 170, Train loss: 11.303286231724561\n",
            "Epoch 170, Test loss: 11.936513036489487\n"
          ]
        },
        {
          "output_type": "stream",
          "name": "stderr",
          "text": [
            "\r 68%|██████▊   | 171/250 [03:14<01:24,  1.07s/it]"
          ]
        },
        {
          "output_type": "stream",
          "name": "stdout",
          "text": [
            "Epoch 171, Train loss: 11.279237915984297\n",
            "Epoch 171, Test loss: 11.928233951330185\n"
          ]
        },
        {
          "output_type": "stream",
          "name": "stderr",
          "text": [
            "\r 69%|██████▉   | 172/250 [03:15<01:22,  1.06s/it]"
          ]
        },
        {
          "output_type": "stream",
          "name": "stdout",
          "text": [
            "Epoch 172, Train loss: 11.29636431584316\n",
            "Epoch 172, Test loss: 11.899937689304352\n"
          ]
        },
        {
          "output_type": "stream",
          "name": "stderr",
          "text": [
            "\r 69%|██████▉   | 173/250 [03:16<01:20,  1.05s/it]"
          ]
        },
        {
          "output_type": "stream",
          "name": "stdout",
          "text": [
            "Epoch 173, Train loss: 11.290367691917757\n",
            "Epoch 173, Test loss: 11.946974694728851\n"
          ]
        },
        {
          "output_type": "stream",
          "name": "stderr",
          "text": [
            "\r 70%|██████▉   | 174/250 [03:17<01:18,  1.03s/it]"
          ]
        },
        {
          "output_type": "stream",
          "name": "stdout",
          "text": [
            "Epoch 174, Train loss: 11.29356837483634\n",
            "Epoch 174, Test loss: 11.917663544416428\n",
            "Epoch 175, Train loss: 11.300345610728305\n"
          ]
        },
        {
          "output_type": "stream",
          "name": "stderr",
          "text": [
            "\r 70%|███████   | 175/250 [03:18<01:19,  1.06s/it]"
          ]
        },
        {
          "output_type": "stream",
          "name": "stdout",
          "text": [
            "Epoch 175, Test loss: 11.892873585224152\n"
          ]
        },
        {
          "output_type": "stream",
          "name": "stderr",
          "text": [
            "\r 70%|███████   | 176/250 [03:20<01:20,  1.09s/it]"
          ]
        },
        {
          "output_type": "stream",
          "name": "stdout",
          "text": [
            "Epoch 176, Train loss: 11.30704641342163\n",
            "Epoch 176, Test loss: 11.927383810281754\n"
          ]
        },
        {
          "output_type": "stream",
          "name": "stderr",
          "text": [
            "\r 71%|███████   | 177/250 [03:21<01:17,  1.06s/it]"
          ]
        },
        {
          "output_type": "stream",
          "name": "stdout",
          "text": [
            "Epoch 177, Train loss: 11.290706845511377\n",
            "Epoch 177, Test loss: 11.927083134651184\n",
            "Epoch 178, Train loss: 11.312957210878356\n"
          ]
        },
        {
          "output_type": "stream",
          "name": "stderr",
          "text": [
            "\r 71%|███████   | 178/250 [03:22<01:15,  1.05s/it]"
          ]
        },
        {
          "output_type": "stream",
          "name": "stdout",
          "text": [
            "Epoch 178, Test loss: 11.886049538850784\n",
            "Epoch 179, Train loss: 11.286876737543967\n"
          ]
        },
        {
          "output_type": "stream",
          "name": "stderr",
          "text": [
            "\r 72%|███████▏  | 179/250 [03:23<01:22,  1.16s/it]"
          ]
        },
        {
          "output_type": "stream",
          "name": "stdout",
          "text": [
            "Epoch 179, Test loss: 11.932703226804733\n"
          ]
        },
        {
          "output_type": "stream",
          "name": "stderr",
          "text": [
            "\r 72%|███████▏  | 180/250 [03:24<01:23,  1.19s/it]"
          ]
        },
        {
          "output_type": "stream",
          "name": "stdout",
          "text": [
            "Epoch 180, Train loss: 11.297965399986875\n",
            "Epoch 180, Test loss: 11.88197049498558\n"
          ]
        },
        {
          "output_type": "stream",
          "name": "stderr",
          "text": [
            "\r 72%|███████▏  | 181/250 [03:25<01:18,  1.13s/it]"
          ]
        },
        {
          "output_type": "stream",
          "name": "stdout",
          "text": [
            "Epoch 181, Train loss: 11.285901571797059\n",
            "Epoch 181, Test loss: 12.000403851270676\n"
          ]
        },
        {
          "output_type": "stream",
          "name": "stderr",
          "text": [
            "\r 73%|███████▎  | 182/250 [03:26<01:14,  1.09s/it]"
          ]
        },
        {
          "output_type": "stream",
          "name": "stdout",
          "text": [
            "Epoch 182, Train loss: 11.293781824871502\n",
            "Epoch 182, Test loss: 11.952436655759811\n"
          ]
        },
        {
          "output_type": "stream",
          "name": "stderr",
          "text": [
            "\r 73%|███████▎  | 183/250 [03:27<01:11,  1.06s/it]"
          ]
        },
        {
          "output_type": "stream",
          "name": "stdout",
          "text": [
            "Epoch 183, Train loss: 11.280003294480585\n",
            "Epoch 183, Test loss: 11.99200302362442\n"
          ]
        },
        {
          "output_type": "stream",
          "name": "stderr",
          "text": [
            "\r 74%|███████▎  | 184/250 [03:28<01:09,  1.05s/it]"
          ]
        },
        {
          "output_type": "stream",
          "name": "stdout",
          "text": [
            "Epoch 184, Train loss: 11.32630197136803\n",
            "Epoch 184, Test loss: 11.932680070400238\n"
          ]
        },
        {
          "output_type": "stream",
          "name": "stderr",
          "text": [
            "\r 74%|███████▍  | 185/250 [03:30<01:12,  1.11s/it]"
          ]
        },
        {
          "output_type": "stream",
          "name": "stdout",
          "text": [
            "Epoch 185, Train loss: 11.277753821516459\n",
            "Epoch 185, Test loss: 11.980654507875443\n",
            "Epoch 186, Train loss: 11.30411006286081\n"
          ]
        },
        {
          "output_type": "stream",
          "name": "stderr",
          "text": [
            "\r 74%|███████▍  | 186/250 [03:31<01:12,  1.13s/it]"
          ]
        },
        {
          "output_type": "stream",
          "name": "stdout",
          "text": [
            "Epoch 186, Test loss: 11.87810006737709\n"
          ]
        },
        {
          "output_type": "stream",
          "name": "stderr",
          "text": [
            "\r 75%|███████▍  | 187/250 [03:32<01:18,  1.25s/it]"
          ]
        },
        {
          "output_type": "stream",
          "name": "stdout",
          "text": [
            "Epoch 187, Train loss: 11.29750793170085\n",
            "Epoch 187, Test loss: 11.91027969121933\n"
          ]
        },
        {
          "output_type": "stream",
          "name": "stderr",
          "text": [
            "\r 75%|███████▌  | 188/250 [03:33<01:13,  1.19s/it]"
          ]
        },
        {
          "output_type": "stream",
          "name": "stdout",
          "text": [
            "Epoch 188, Train loss: 11.278239094050585\n",
            "Epoch 188, Test loss: 11.946130365133286\n",
            "Epoch 189, Train loss: 11.278394690657084\n"
          ]
        },
        {
          "output_type": "stream",
          "name": "stderr",
          "text": [
            "\r 76%|███████▌  | 189/250 [03:35<01:22,  1.35s/it]"
          ]
        },
        {
          "output_type": "stream",
          "name": "stdout",
          "text": [
            "Epoch 189, Test loss: 11.90347671508789\n"
          ]
        },
        {
          "output_type": "stream",
          "name": "stderr",
          "text": [
            "\r 76%|███████▌  | 190/250 [03:37<01:24,  1.40s/it]"
          ]
        },
        {
          "output_type": "stream",
          "name": "stdout",
          "text": [
            "Epoch 190, Train loss: 11.295774607531792\n",
            "Epoch 190, Test loss: 11.975626081228256\n"
          ]
        },
        {
          "output_type": "stream",
          "name": "stderr",
          "text": [
            "\r 76%|███████▋  | 191/250 [03:38<01:15,  1.28s/it]"
          ]
        },
        {
          "output_type": "stream",
          "name": "stdout",
          "text": [
            "Epoch 191, Train loss: 11.299978315302756\n",
            "Epoch 191, Test loss: 11.917508095502853\n"
          ]
        },
        {
          "output_type": "stream",
          "name": "stderr",
          "text": [
            "\r 77%|███████▋  | 192/250 [03:39<01:09,  1.19s/it]"
          ]
        },
        {
          "output_type": "stream",
          "name": "stdout",
          "text": [
            "Epoch 192, Train loss: 11.29060457027064\n",
            "Epoch 192, Test loss: 11.881301134824753\n"
          ]
        },
        {
          "output_type": "stream",
          "name": "stderr",
          "text": [
            "\r 77%|███████▋  | 193/250 [03:39<01:04,  1.13s/it]"
          ]
        },
        {
          "output_type": "stream",
          "name": "stdout",
          "text": [
            "Epoch 193, Train loss: 11.282711029052734\n",
            "Epoch 193, Test loss: 11.924525797367096\n"
          ]
        },
        {
          "output_type": "stream",
          "name": "stderr",
          "text": [
            "\r 78%|███████▊  | 194/250 [03:41<01:01,  1.10s/it]"
          ]
        },
        {
          "output_type": "stream",
          "name": "stdout",
          "text": [
            "Epoch 194, Train loss: 11.283469980796882\n",
            "Epoch 194, Test loss: 11.915515840053558\n"
          ]
        },
        {
          "output_type": "stream",
          "name": "stderr",
          "text": [
            "\r 78%|███████▊  | 195/250 [03:42<00:58,  1.07s/it]"
          ]
        },
        {
          "output_type": "stream",
          "name": "stdout",
          "text": [
            "Epoch 195, Train loss: 11.273108448602457\n",
            "Epoch 195, Test loss: 11.905559837818146\n"
          ]
        },
        {
          "output_type": "stream",
          "name": "stderr",
          "text": [
            "\r 78%|███████▊  | 196/250 [03:43<00:56,  1.04s/it]"
          ]
        },
        {
          "output_type": "stream",
          "name": "stdout",
          "text": [
            "Epoch 196, Train loss: 11.312417675963545\n",
            "Epoch 196, Test loss: 11.946973830461502\n"
          ]
        },
        {
          "output_type": "stream",
          "name": "stderr",
          "text": [
            "\r 79%|███████▉  | 197/250 [03:44<00:54,  1.03s/it]"
          ]
        },
        {
          "output_type": "stream",
          "name": "stdout",
          "text": [
            "Epoch 197, Train loss: 11.291804516209965\n",
            "Epoch 197, Test loss: 11.918810546398163\n"
          ]
        },
        {
          "output_type": "stream",
          "name": "stderr",
          "text": [
            "\r 79%|███████▉  | 198/250 [03:45<00:53,  1.03s/it]"
          ]
        },
        {
          "output_type": "stream",
          "name": "stdout",
          "text": [
            "Epoch 198, Train loss: 11.288603786873606\n",
            "Epoch 198, Test loss: 11.909081727266312\n"
          ]
        },
        {
          "output_type": "stream",
          "name": "stderr",
          "text": [
            "\r 80%|███████▉  | 199/250 [03:46<00:52,  1.03s/it]"
          ]
        },
        {
          "output_type": "stream",
          "name": "stdout",
          "text": [
            "Epoch 199, Train loss: 11.278393268585205\n",
            "Epoch 199, Test loss: 11.891362339258194\n",
            "Epoch 200, Train loss: 11.297752937384411\n"
          ]
        },
        {
          "output_type": "stream",
          "name": "stderr",
          "text": [
            "\r 80%|████████  | 200/250 [03:47<00:52,  1.06s/it]"
          ]
        },
        {
          "output_type": "stream",
          "name": "stdout",
          "text": [
            "Epoch 200, Test loss: 11.93543416261673\n",
            "Epoch 201, Train loss: 11.296817252066283\n"
          ]
        },
        {
          "output_type": "stream",
          "name": "stderr",
          "text": [
            "\r 80%|████████  | 201/250 [03:48<00:55,  1.13s/it]"
          ]
        },
        {
          "output_type": "stream",
          "name": "stdout",
          "text": [
            "Epoch 201, Test loss: 11.891488999128342\n"
          ]
        },
        {
          "output_type": "stream",
          "name": "stderr",
          "text": [
            "\r 81%|████████  | 202/250 [03:49<00:54,  1.13s/it]"
          ]
        },
        {
          "output_type": "stream",
          "name": "stdout",
          "text": [
            "Epoch 202, Train loss: 11.308746494023145\n",
            "Epoch 202, Test loss: 11.927376329898834\n"
          ]
        },
        {
          "output_type": "stream",
          "name": "stderr",
          "text": [
            "\r 81%|████████  | 203/250 [03:50<00:51,  1.09s/it]"
          ]
        },
        {
          "output_type": "stream",
          "name": "stdout",
          "text": [
            "Epoch 203, Train loss: 11.287012513759917\n",
            "Epoch 203, Test loss: 11.88424438238144\n"
          ]
        },
        {
          "output_type": "stream",
          "name": "stderr",
          "text": [
            "\r 82%|████████▏ | 204/250 [03:51<00:48,  1.06s/it]"
          ]
        },
        {
          "output_type": "stream",
          "name": "stdout",
          "text": [
            "Epoch 204, Train loss: 11.287923348688446\n",
            "Epoch 204, Test loss: 11.893572062253952\n"
          ]
        },
        {
          "output_type": "stream",
          "name": "stderr",
          "text": [
            "\r 82%|████████▏ | 205/250 [03:52<00:46,  1.04s/it]"
          ]
        },
        {
          "output_type": "stream",
          "name": "stdout",
          "text": [
            "Epoch 205, Train loss: 11.296924384294359\n",
            "Epoch 205, Test loss: 11.918980330228806\n"
          ]
        },
        {
          "output_type": "stream",
          "name": "stderr",
          "text": [
            "\r 82%|████████▏ | 206/250 [03:53<00:45,  1.03s/it]"
          ]
        },
        {
          "output_type": "stream",
          "name": "stdout",
          "text": [
            "Epoch 206, Train loss: 11.296978030584555\n",
            "Epoch 206, Test loss: 11.952827721834183\n"
          ]
        },
        {
          "output_type": "stream",
          "name": "stderr",
          "text": [
            "\r 83%|████████▎ | 207/250 [03:54<00:43,  1.02s/it]"
          ]
        },
        {
          "output_type": "stream",
          "name": "stdout",
          "text": [
            "Epoch 207, Train loss: 11.291943617626629\n",
            "Epoch 207, Test loss: 11.905326664447784\n"
          ]
        },
        {
          "output_type": "stream",
          "name": "stderr",
          "text": [
            "\r 83%|████████▎ | 208/250 [03:55<00:42,  1.02s/it]"
          ]
        },
        {
          "output_type": "stream",
          "name": "stdout",
          "text": [
            "Epoch 208, Train loss: 11.286109299786323\n",
            "Epoch 208, Test loss: 11.904313683509827\n"
          ]
        },
        {
          "output_type": "stream",
          "name": "stderr",
          "text": [
            "\r 84%|████████▎ | 209/250 [03:56<00:41,  1.02s/it]"
          ]
        },
        {
          "output_type": "stream",
          "name": "stdout",
          "text": [
            "Epoch 209, Train loss: 11.30558967590332\n",
            "Epoch 209, Test loss: 11.896914720535278\n"
          ]
        },
        {
          "output_type": "stream",
          "name": "stderr",
          "text": [
            "\r 84%|████████▍ | 210/250 [03:57<00:40,  1.01s/it]"
          ]
        },
        {
          "output_type": "stream",
          "name": "stdout",
          "text": [
            "Epoch 210, Train loss: 11.284947627413588\n",
            "Epoch 210, Test loss: 11.930612593889236\n"
          ]
        },
        {
          "output_type": "stream",
          "name": "stderr",
          "text": [
            "\r 84%|████████▍ | 211/250 [03:58<00:39,  1.00s/it]"
          ]
        },
        {
          "output_type": "stream",
          "name": "stdout",
          "text": [
            "Epoch 211, Train loss: 11.300435091541932\n",
            "Epoch 211, Test loss: 11.964693009853363\n",
            "Epoch 212, Train loss: 11.289330452944325\n"
          ]
        },
        {
          "output_type": "stream",
          "name": "stderr",
          "text": [
            "\r 85%|████████▍ | 212/250 [03:59<00:40,  1.07s/it]"
          ]
        },
        {
          "output_type": "stream",
          "name": "stdout",
          "text": [
            "Epoch 212, Test loss: 11.918609201908112\n"
          ]
        },
        {
          "output_type": "stream",
          "name": "stderr",
          "text": [
            "\r 85%|████████▌ | 213/250 [04:01<00:41,  1.13s/it]"
          ]
        },
        {
          "output_type": "stream",
          "name": "stdout",
          "text": [
            "Epoch 213, Train loss: 11.312956679183825\n",
            "Epoch 213, Test loss: 11.903539896011353\n"
          ]
        },
        {
          "output_type": "stream",
          "name": "stderr",
          "text": [
            "\r 86%|████████▌ | 214/250 [04:02<00:39,  1.09s/it]"
          ]
        },
        {
          "output_type": "stream",
          "name": "stdout",
          "text": [
            "Epoch 214, Train loss: 11.28148893339444\n",
            "Epoch 214, Test loss: 11.888310670852661\n"
          ]
        },
        {
          "output_type": "stream",
          "name": "stderr",
          "text": [
            "\r 86%|████████▌ | 215/250 [04:03<00:37,  1.06s/it]"
          ]
        },
        {
          "output_type": "stream",
          "name": "stdout",
          "text": [
            "Epoch 215, Train loss: 11.306661867462429\n",
            "Epoch 215, Test loss: 11.881124585866928\n"
          ]
        },
        {
          "output_type": "stream",
          "name": "stderr",
          "text": [
            "\r 86%|████████▋ | 216/250 [04:04<00:35,  1.04s/it]"
          ]
        },
        {
          "output_type": "stream",
          "name": "stdout",
          "text": [
            "Epoch 216, Train loss: 11.326455086733388\n",
            "Epoch 216, Test loss: 11.962645679712296\n"
          ]
        },
        {
          "output_type": "stream",
          "name": "stderr",
          "text": [
            "\r 87%|████████▋ | 217/250 [04:05<00:34,  1.04s/it]"
          ]
        },
        {
          "output_type": "stream",
          "name": "stdout",
          "text": [
            "Epoch 217, Train loss: 11.295196001508595\n",
            "Epoch 217, Test loss: 11.91840410232544\n"
          ]
        },
        {
          "output_type": "stream",
          "name": "stderr",
          "text": [
            "\r 87%|████████▋ | 218/250 [04:06<00:32,  1.03s/it]"
          ]
        },
        {
          "output_type": "stream",
          "name": "stdout",
          "text": [
            "Epoch 218, Train loss: 11.276091596721548\n",
            "Epoch 218, Test loss: 11.924571931362152\n"
          ]
        },
        {
          "output_type": "stream",
          "name": "stderr",
          "text": [
            "\r 88%|████████▊ | 219/250 [04:07<00:31,  1.02s/it]"
          ]
        },
        {
          "output_type": "stream",
          "name": "stdout",
          "text": [
            "Epoch 219, Train loss: 11.319970611977366\n",
            "Epoch 219, Test loss: 11.903481125831604\n"
          ]
        },
        {
          "output_type": "stream",
          "name": "stderr",
          "text": [
            "\r 88%|████████▊ | 220/250 [04:08<00:30,  1.02s/it]"
          ]
        },
        {
          "output_type": "stream",
          "name": "stdout",
          "text": [
            "Epoch 220, Train loss: 11.273906775280437\n",
            "Epoch 220, Test loss: 11.986416399478912\n"
          ]
        },
        {
          "output_type": "stream",
          "name": "stderr",
          "text": [
            "\r 88%|████████▊ | 221/250 [04:09<00:29,  1.01s/it]"
          ]
        },
        {
          "output_type": "stream",
          "name": "stdout",
          "text": [
            "Epoch 221, Train loss: 11.294271756062466\n",
            "Epoch 221, Test loss: 11.899146974086761\n"
          ]
        },
        {
          "output_type": "stream",
          "name": "stderr",
          "text": [
            "\r 89%|████████▉ | 222/250 [04:10<00:28,  1.01s/it]"
          ]
        },
        {
          "output_type": "stream",
          "name": "stdout",
          "text": [
            "Epoch 222, Train loss: 11.295747925749922\n",
            "Epoch 222, Test loss: 11.955329596996307\n",
            "Epoch 223, Train loss: 11.291002957166823\n"
          ]
        },
        {
          "output_type": "stream",
          "name": "stderr",
          "text": [
            "\r 89%|████████▉ | 223/250 [04:11<00:28,  1.04s/it]"
          ]
        },
        {
          "output_type": "stream",
          "name": "stdout",
          "text": [
            "Epoch 223, Test loss: 11.906282663345337\n",
            "Epoch 224, Train loss: 11.287584347007549\n"
          ]
        },
        {
          "output_type": "stream",
          "name": "stderr",
          "text": [
            "\r 90%|████████▉ | 224/250 [04:12<00:31,  1.19s/it]"
          ]
        },
        {
          "output_type": "stream",
          "name": "stdout",
          "text": [
            "Epoch 224, Test loss: 11.928935199975967\n"
          ]
        },
        {
          "output_type": "stream",
          "name": "stderr",
          "text": [
            "\r 90%|█████████ | 225/250 [04:13<00:28,  1.15s/it]"
          ]
        },
        {
          "output_type": "stream",
          "name": "stdout",
          "text": [
            "Epoch 225, Train loss: 11.291213010264709\n",
            "Epoch 225, Test loss: 11.881194412708282\n"
          ]
        },
        {
          "output_type": "stream",
          "name": "stderr",
          "text": [
            "\r 90%|█████████ | 226/250 [04:14<00:26,  1.11s/it]"
          ]
        },
        {
          "output_type": "stream",
          "name": "stdout",
          "text": [
            "Epoch 226, Train loss: 11.285912973690877\n",
            "Epoch 226, Test loss: 11.917897254228592\n",
            "Epoch 227, Train loss: 11.272076847278967\n"
          ]
        },
        {
          "output_type": "stream",
          "name": "stderr",
          "text": [
            "\r 91%|█████████ | 227/250 [04:16<00:28,  1.23s/it]"
          ]
        },
        {
          "output_type": "stream",
          "name": "stdout",
          "text": [
            "Epoch 227, Test loss: 11.899695038795471\n"
          ]
        },
        {
          "output_type": "stream",
          "name": "stderr",
          "text": [
            "\r 91%|█████████ | 228/250 [04:17<00:25,  1.17s/it]"
          ]
        },
        {
          "output_type": "stream",
          "name": "stdout",
          "text": [
            "Epoch 228, Train loss: 11.275630360156034\n",
            "Epoch 228, Test loss: 11.919375121593475\n"
          ]
        },
        {
          "output_type": "stream",
          "name": "stderr",
          "text": [
            "\r 92%|█████████▏| 229/250 [04:18<00:23,  1.12s/it]"
          ]
        },
        {
          "output_type": "stream",
          "name": "stdout",
          "text": [
            "Epoch 229, Train loss: 11.288247104239675\n",
            "Epoch 229, Test loss: 11.979688555002213\n"
          ]
        },
        {
          "output_type": "stream",
          "name": "stderr",
          "text": [
            "\r 92%|█████████▏| 230/250 [04:19<00:21,  1.09s/it]"
          ]
        },
        {
          "output_type": "stream",
          "name": "stdout",
          "text": [
            "Epoch 230, Train loss: 11.284908957185998\n",
            "Epoch 230, Test loss: 11.901522934436798\n",
            "Epoch 231, Train loss: 11.297038681739199\n"
          ]
        },
        {
          "output_type": "stream",
          "name": "stderr",
          "text": [
            "\r 92%|█████████▏| 231/250 [04:20<00:20,  1.09s/it]"
          ]
        },
        {
          "output_type": "stream",
          "name": "stdout",
          "text": [
            "Epoch 231, Test loss: 11.888092756271362\n"
          ]
        },
        {
          "output_type": "stream",
          "name": "stderr",
          "text": [
            "\r 93%|█████████▎| 232/250 [04:21<00:20,  1.14s/it]"
          ]
        },
        {
          "output_type": "stream",
          "name": "stdout",
          "text": [
            "Epoch 232, Train loss: 11.291561514930388\n",
            "Epoch 232, Test loss: 11.91071993112564\n"
          ]
        },
        {
          "output_type": "stream",
          "name": "stderr",
          "text": [
            "\r 93%|█████████▎| 233/250 [04:22<00:18,  1.11s/it]"
          ]
        },
        {
          "output_type": "stream",
          "name": "stdout",
          "text": [
            "Epoch 233, Train loss: 11.299646858620433\n",
            "Epoch 233, Test loss: 11.866572886705399\n",
            "Epoch 234, Train loss: 11.285134277512542\n"
          ]
        },
        {
          "output_type": "stream",
          "name": "stderr",
          "text": [
            "\r 94%|█████████▎| 234/250 [04:24<00:21,  1.35s/it]"
          ]
        },
        {
          "output_type": "stream",
          "name": "stdout",
          "text": [
            "Epoch 234, Test loss: 11.854275867342949\n"
          ]
        },
        {
          "output_type": "stream",
          "name": "stderr",
          "text": [
            "\r 94%|█████████▍| 235/250 [04:26<00:20,  1.40s/it]"
          ]
        },
        {
          "output_type": "stream",
          "name": "stdout",
          "text": [
            "Epoch 235, Train loss: 11.2850245163504\n",
            "Epoch 235, Test loss: 11.902083933353424\n",
            "Epoch 236, Train loss: 11.297891253918673\n"
          ]
        },
        {
          "output_type": "stream",
          "name": "stderr",
          "text": [
            "\r 94%|█████████▍| 236/250 [04:27<00:18,  1.32s/it]"
          ]
        },
        {
          "output_type": "stream",
          "name": "stdout",
          "text": [
            "Epoch 236, Test loss: 11.940411567687988\n"
          ]
        },
        {
          "output_type": "stream",
          "name": "stderr",
          "text": [
            "\r 95%|█████████▍| 237/250 [04:28<00:17,  1.33s/it]"
          ]
        },
        {
          "output_type": "stream",
          "name": "stdout",
          "text": [
            "Epoch 237, Train loss: 11.281418483869164\n",
            "Epoch 237, Test loss: 11.93738055229187\n"
          ]
        },
        {
          "output_type": "stream",
          "name": "stderr",
          "text": [
            "\r 95%|█████████▌| 238/250 [04:29<00:14,  1.24s/it]"
          ]
        },
        {
          "output_type": "stream",
          "name": "stdout",
          "text": [
            "Epoch 238, Train loss: 11.294798053471387\n",
            "Epoch 238, Test loss: 11.873238384723663\n",
            "Epoch 239, Train loss: 11.284607283836973\n"
          ]
        },
        {
          "output_type": "stream",
          "name": "stderr",
          "text": [
            "\r 96%|█████████▌| 239/250 [04:31<00:14,  1.29s/it]"
          ]
        },
        {
          "output_type": "stream",
          "name": "stdout",
          "text": [
            "Epoch 239, Test loss: 11.888121455907822\n"
          ]
        },
        {
          "output_type": "stream",
          "name": "stderr",
          "text": [
            "\r 96%|█████████▌| 240/250 [04:32<00:12,  1.26s/it]"
          ]
        },
        {
          "output_type": "stream",
          "name": "stdout",
          "text": [
            "Epoch 240, Train loss: 11.314095307240445\n",
            "Epoch 240, Test loss: 11.915112644433975\n"
          ]
        },
        {
          "output_type": "stream",
          "name": "stderr",
          "text": [
            "\r 96%|█████████▋| 241/250 [04:33<00:10,  1.19s/it]"
          ]
        },
        {
          "output_type": "stream",
          "name": "stdout",
          "text": [
            "Epoch 241, Train loss: 11.283772038147513\n",
            "Epoch 241, Test loss: 12.000439941883087\n"
          ]
        },
        {
          "output_type": "stream",
          "name": "stderr",
          "text": [
            "\r 97%|█████████▋| 242/250 [04:34<00:09,  1.13s/it]"
          ]
        },
        {
          "output_type": "stream",
          "name": "stdout",
          "text": [
            "Epoch 242, Train loss: 11.309023477334891\n",
            "Epoch 242, Test loss: 11.898230284452438\n",
            "Epoch 243, Train loss: 11.296240599809495\n"
          ]
        },
        {
          "output_type": "stream",
          "name": "stderr",
          "text": [
            "\r 97%|█████████▋| 243/250 [04:36<00:10,  1.47s/it]"
          ]
        },
        {
          "output_type": "stream",
          "name": "stdout",
          "text": [
            "Epoch 243, Test loss: 11.8563342243433\n"
          ]
        },
        {
          "output_type": "stream",
          "name": "stderr",
          "text": [
            "\r 98%|█████████▊| 244/250 [04:38<00:08,  1.48s/it]"
          ]
        },
        {
          "output_type": "stream",
          "name": "stdout",
          "text": [
            "Epoch 244, Train loss: 11.310835412118287\n",
            "Epoch 244, Test loss: 11.942284166812897\n"
          ]
        },
        {
          "output_type": "stream",
          "name": "stderr",
          "text": [
            "\r 98%|█████████▊| 245/250 [04:39<00:06,  1.33s/it]"
          ]
        },
        {
          "output_type": "stream",
          "name": "stdout",
          "text": [
            "Epoch 245, Train loss: 11.293923145901841\n",
            "Epoch 245, Test loss: 11.909698873758316\n"
          ]
        },
        {
          "output_type": "stream",
          "name": "stderr",
          "text": [
            "\r 98%|█████████▊| 246/250 [04:40<00:04,  1.23s/it]"
          ]
        },
        {
          "output_type": "stream",
          "name": "stdout",
          "text": [
            "Epoch 246, Train loss: 11.309640002461661\n",
            "Epoch 246, Test loss: 11.880880385637283\n"
          ]
        },
        {
          "output_type": "stream",
          "name": "stderr",
          "text": [
            "\r 99%|█████████▉| 247/250 [04:41<00:03,  1.16s/it]"
          ]
        },
        {
          "output_type": "stream",
          "name": "stdout",
          "text": [
            "Epoch 247, Train loss: 11.30761141059673\n",
            "Epoch 247, Test loss: 11.90588304400444\n"
          ]
        },
        {
          "output_type": "stream",
          "name": "stderr",
          "text": [
            "\r 99%|█████████▉| 248/250 [04:42<00:02,  1.11s/it]"
          ]
        },
        {
          "output_type": "stream",
          "name": "stdout",
          "text": [
            "Epoch 248, Train loss: 11.312954619922468\n",
            "Epoch 248, Test loss: 11.918468028306961\n"
          ]
        },
        {
          "output_type": "stream",
          "name": "stderr",
          "text": [
            "\r100%|█████████▉| 249/250 [04:43<00:01,  1.07s/it]"
          ]
        },
        {
          "output_type": "stream",
          "name": "stdout",
          "text": [
            "Epoch 249, Train loss: 11.296911636285023\n",
            "Epoch 249, Test loss: 11.931018680334091\n"
          ]
        },
        {
          "output_type": "stream",
          "name": "stderr",
          "text": [
            "100%|██████████| 250/250 [04:44<00:00,  1.14s/it]"
          ]
        },
        {
          "output_type": "stream",
          "name": "stdout",
          "text": [
            "Epoch 250, Train loss: 11.293305409693085\n",
            "Epoch 250, Test loss: 11.879538238048553\n"
          ]
        },
        {
          "output_type": "stream",
          "name": "stderr",
          "text": [
            "\n"
          ]
        }
      ]
    },
    {
      "cell_type": "code",
      "source": [
        "test_model(model, test_loader, device)"
      ],
      "metadata": {
        "colab": {
          "base_uri": "https://localhost:8080/"
        },
        "id": "JyNPUi4TBLY6",
        "outputId": "b4e937f6-2889-408c-cbdf-8e3675c740cf"
      },
      "execution_count": 78,
      "outputs": [
        {
          "output_type": "stream",
          "name": "stdout",
          "text": [
            "Test MAE: 11.927453517913818\n",
            "MAPE for high targets: 0.034039315360132605\n",
            "MAE for low targets: 4.717480376362801\n"
          ]
        }
      ]
    },
    {
      "cell_type": "code",
      "source": [
        "test_model(model, train_loader, device)"
      ],
      "metadata": {
        "colab": {
          "base_uri": "https://localhost:8080/"
        },
        "id": "JNPT_LjLBOUL",
        "outputId": "bac6280d-d7f4-486b-b1ca-9e1a88823101"
      },
      "execution_count": 79,
      "outputs": [
        {
          "output_type": "stream",
          "name": "stdout",
          "text": [
            "Test MAE: 11.285873117700087\n",
            "MAPE for high targets: 0.03407631882062528\n",
            "MAE for low targets: 4.498197236947254\n"
          ]
        }
      ]
    },
    {
      "cell_type": "markdown",
      "source": [
        "## Window Size comparaison"
      ],
      "metadata": {
        "id": "4hfAknh7Attc"
      }
    },
    {
      "cell_type": "code",
      "source": [
        "class ImprovedSTGCN(nn.Module):\n",
        "    def __init__(self, node_features, hidden_dim, temporal_features_dim=10):\n",
        "        super(ImprovedSTGCN, self).__init__()\n",
        "        self.gcn1 = GCNConv(node_features, hidden_dim)  # GCN\n",
        "        self.gcn2 = GCNConv(hidden_dim, hidden_dim)\n",
        "        self.fc1 = nn.Linear(hidden_dim + node_features + temporal_features_dim, hidden_dim)  # Prédiction finale\n",
        "        self.fc2 = nn.Linear(hidden_dim + node_features, 1)\n",
        "        # self.bn1 = nn.BatchNorm1d(hidden_dim)\n",
        "\n",
        "    def forward(self, graph, temporal_features):\n",
        "        x = self.gcn1(graph.x, graph.edge_index)  # GCN\n",
        "        x = F.relu(x) # (num_nodes, hideen_dim)\n",
        "        x = self.gcn2(x, graph.edge_index)  # GCN\n",
        "        x = F.relu(x) # (num_nodes, hideen_dim)\n",
        "\n",
        "        # Use temporal features and x as inputs of fc and use the fc layer\n",
        "        x = torch.cat((x, graph.x, temporal_features), dim=-1)\n",
        "        x = self.fc1(x)\n",
        "        x = F.relu(x)\n",
        "        x = torch.cat((x, graph.x), dim=-1)\n",
        "        x = self.fc2(x)\n",
        "        x = F.relu(x)\n",
        "        return x # return the flow for each nodes (num_nodes, 1)"
      ],
      "metadata": {
        "id": "CD_BJKYFBG5p"
      },
      "execution_count": 96,
      "outputs": []
    },
    {
      "cell_type": "markdown",
      "source": [
        "### window size = 2"
      ],
      "metadata": {
        "id": "k6FHtmoXA5l7"
      }
    },
    {
      "cell_type": "code",
      "source": [
        "window_size = 2"
      ],
      "metadata": {
        "id": "duBQ-NRTA-Oq"
      },
      "execution_count": 97,
      "outputs": []
    },
    {
      "cell_type": "code",
      "source": [
        "# Build the Data loader\n",
        "graph_data = []\n",
        "# each df should have the same dimension and same nodes at the same columns\n",
        "for filename, df in dfs.items():\n",
        "    df = add_missing_nodes_2(df, node_mapping, num_nodes) # add zeros row for missing nodes\n",
        "    df_qhrs = build_quarter_hour_data(df, filename, num_nodes) # retourne 24*4 df avec ses paramètres temporel et le flow\n",
        "    graph_data.append(df_qhrs)\n",
        "graphs = [[df_to_graph(df, edge_index) for df in graph_data[i]] for i in range(len(graph_data))]  # Un graphe par quart d'heure\n",
        "\n",
        "train_loader, test_loader = build_train_test_loaders_2(graphs, window_size, train_split=0.8, batch_size=16)"
      ],
      "metadata": {
        "id": "nzmcbFu0A9MT"
      },
      "execution_count": 98,
      "outputs": []
    },
    {
      "cell_type": "code",
      "source": [
        "import torch\n",
        "from tqdm import tqdm\n",
        "\n",
        "# Détection du GPU\n",
        "device = torch.device(\"cuda\" if torch.cuda.is_available() else \"cpu\")\n",
        "print(f\"Using device: {device}\")\n",
        "\n",
        "# Initialisation du modèle et des composants d'entraînement\n",
        "model = ImprovedSTGCN(node_features=window_size, hidden_dim=32).to(device)\n",
        "\n",
        "optimizer = torch.optim.Adam(model.parameters(), lr=0.008)\n",
        "scheduler = torch.optim.lr_scheduler.ExponentialLR(optimizer, gamma=0.95)\n",
        "criterion = torch.nn.L1Loss()  # MAE\n",
        "\n",
        "num_epochs = 150\n",
        "\n",
        "# Boucle d'entraînement\n",
        "for epoch in tqdm(range(num_epochs)):\n",
        "    model.train()\n",
        "    train_loss = 0\n",
        "\n",
        "    for graph, temporal_features in train_loader:\n",
        "        graph = graph.to(device)  # Déplacement du graphe sur GPU\n",
        "        temporal_features = temporal_features.to(device, non_blocking=True)\n",
        "        temporal_features = temporal_features.flatten(start_dim=0, end_dim=1)\n",
        "\n",
        "        optimizer.zero_grad()\n",
        "        output = model(graph, temporal_features)\n",
        "        target = graph.y.to(device, non_blocking=True)  # Déplacement de la cible sur GPU\n",
        "\n",
        "        loss = criterion(output, target)\n",
        "        loss.backward()\n",
        "        optimizer.step()\n",
        "        train_loss += loss.item()\n",
        "\n",
        "    scheduler.step()\n",
        "\n",
        "    print(f\"Epoch {epoch+1}, Train loss: {train_loss / len(train_loader)}\")\n",
        "\n",
        "    # Évaluation sur le jeu de test\n",
        "    model.eval()\n",
        "    test_loss = 0\n",
        "    with torch.no_grad():  # Désactivation des gradients pour l'évaluation\n",
        "        for graph, temporal_features in test_loader:\n",
        "            graph = graph.to(device)\n",
        "            temporal_features = temporal_features.to(device, non_blocking=True)\n",
        "            temporal_features = temporal_features.flatten(start_dim=0, end_dim=1)\n",
        "\n",
        "            output = model(graph, temporal_features)\n",
        "            target = graph.y.to(device, non_blocking=True)\n",
        "\n",
        "            loss = criterion(output, target)\n",
        "            test_loss += loss.item()\n",
        "\n",
        "    print(f\"Epoch {epoch+1}, Test loss: {test_loss / len(test_loader)}\")\n"
      ],
      "metadata": {
        "colab": {
          "base_uri": "https://localhost:8080/"
        },
        "collapsed": true,
        "id": "J8lfUNJiBZQF",
        "outputId": "630a0f92-3247-4c94-b3a4-777924556f4e"
      },
      "execution_count": 99,
      "outputs": [
        {
          "output_type": "stream",
          "name": "stdout",
          "text": [
            "Using device: cuda\n"
          ]
        },
        {
          "output_type": "stream",
          "name": "stderr",
          "text": [
            "  1%|          | 1/150 [00:01<02:55,  1.17s/it]"
          ]
        },
        {
          "output_type": "stream",
          "name": "stdout",
          "text": [
            "Epoch 1, Train loss: 39.00233799835731\n",
            "Epoch 1, Test loss: 19.83356218627005\n"
          ]
        },
        {
          "output_type": "stream",
          "name": "stderr",
          "text": [
            "\r  1%|▏         | 2/150 [00:02<02:44,  1.11s/it]"
          ]
        },
        {
          "output_type": "stream",
          "name": "stdout",
          "text": [
            "Epoch 2, Train loss: 17.74400205447756\n",
            "Epoch 2, Test loss: 19.88889286734841\n"
          ]
        },
        {
          "output_type": "stream",
          "name": "stderr",
          "text": [
            "\r  2%|▏         | 3/150 [00:03<02:38,  1.08s/it]"
          ]
        },
        {
          "output_type": "stream",
          "name": "stdout",
          "text": [
            "Epoch 3, Train loss: 16.435635607818078\n",
            "Epoch 3, Test loss: 16.272197434396453\n"
          ]
        },
        {
          "output_type": "stream",
          "name": "stderr",
          "text": [
            "\r  3%|▎         | 4/150 [00:04<02:34,  1.06s/it]"
          ]
        },
        {
          "output_type": "stream",
          "name": "stdout",
          "text": [
            "Epoch 4, Train loss: 15.837191557062082\n",
            "Epoch 4, Test loss: 16.061450640360516\n"
          ]
        },
        {
          "output_type": "stream",
          "name": "stderr",
          "text": [
            "\r  3%|▎         | 5/150 [00:05<02:31,  1.04s/it]"
          ]
        },
        {
          "output_type": "stream",
          "name": "stdout",
          "text": [
            "Epoch 5, Train loss: 15.925212860107422\n",
            "Epoch 5, Test loss: 15.820951635187322\n"
          ]
        },
        {
          "output_type": "stream",
          "name": "stderr",
          "text": [
            "\r  4%|▍         | 6/150 [00:06<02:28,  1.03s/it]"
          ]
        },
        {
          "output_type": "stream",
          "name": "stdout",
          "text": [
            "Epoch 6, Train loss: 16.276759303849317\n",
            "Epoch 6, Test loss: 16.327616691589355\n"
          ]
        },
        {
          "output_type": "stream",
          "name": "stderr",
          "text": [
            "\r  5%|▍         | 7/150 [00:07<02:26,  1.02s/it]"
          ]
        },
        {
          "output_type": "stream",
          "name": "stdout",
          "text": [
            "Epoch 7, Train loss: 15.355375676319516\n",
            "Epoch 7, Test loss: 15.596340612931685\n"
          ]
        },
        {
          "output_type": "stream",
          "name": "stderr",
          "text": [
            "\r  5%|▌         | 8/150 [00:08<02:24,  1.02s/it]"
          ]
        },
        {
          "output_type": "stream",
          "name": "stdout",
          "text": [
            "Epoch 8, Train loss: 15.32283382580198\n",
            "Epoch 8, Test loss: 15.775113625959916\n"
          ]
        },
        {
          "output_type": "stream",
          "name": "stderr",
          "text": [
            "\r  6%|▌         | 9/150 [00:09<02:23,  1.02s/it]"
          ]
        },
        {
          "output_type": "stream",
          "name": "stdout",
          "text": [
            "Epoch 9, Train loss: 15.234695919628802\n",
            "Epoch 9, Test loss: 15.401270028316613\n",
            "Epoch 10, Train loss: 15.034602929805887\n"
          ]
        },
        {
          "output_type": "stream",
          "name": "stderr",
          "text": [
            "\r  7%|▋         | 10/150 [00:10<02:26,  1.05s/it]"
          ]
        },
        {
          "output_type": "stream",
          "name": "stdout",
          "text": [
            "Epoch 10, Test loss: 16.730129357540246\n",
            "Epoch 11, Train loss: 14.849726849588855\n"
          ]
        },
        {
          "output_type": "stream",
          "name": "stderr",
          "text": [
            "\r  7%|▋         | 11/150 [00:11<02:37,  1.13s/it]"
          ]
        },
        {
          "output_type": "stream",
          "name": "stdout",
          "text": [
            "Epoch 11, Test loss: 15.548145294189453\n"
          ]
        },
        {
          "output_type": "stream",
          "name": "stderr",
          "text": [
            "\r  8%|▊         | 12/150 [00:12<02:38,  1.15s/it]"
          ]
        },
        {
          "output_type": "stream",
          "name": "stdout",
          "text": [
            "Epoch 12, Train loss: 14.824101966002893\n",
            "Epoch 12, Test loss: 15.432765556104256\n"
          ]
        },
        {
          "output_type": "stream",
          "name": "stderr",
          "text": [
            "\r  9%|▊         | 13/150 [00:14<02:31,  1.11s/it]"
          ]
        },
        {
          "output_type": "stream",
          "name": "stdout",
          "text": [
            "Epoch 13, Train loss: 15.035661672723704\n",
            "Epoch 13, Test loss: 15.332912676262133\n"
          ]
        },
        {
          "output_type": "stream",
          "name": "stderr",
          "text": [
            "\r  9%|▉         | 14/150 [00:15<02:26,  1.08s/it]"
          ]
        },
        {
          "output_type": "stream",
          "name": "stdout",
          "text": [
            "Epoch 14, Train loss: 14.841178778944345\n",
            "Epoch 14, Test loss: 15.62320411566532\n"
          ]
        },
        {
          "output_type": "stream",
          "name": "stderr",
          "text": [
            "\r 10%|█         | 15/150 [00:16<02:23,  1.06s/it]"
          ]
        },
        {
          "output_type": "stream",
          "name": "stdout",
          "text": [
            "Epoch 15, Train loss: 14.56807516361105\n",
            "Epoch 15, Test loss: 15.47486449732925\n"
          ]
        },
        {
          "output_type": "stream",
          "name": "stderr",
          "text": [
            "\r 11%|█         | 16/150 [00:17<02:20,  1.05s/it]"
          ]
        },
        {
          "output_type": "stream",
          "name": "stdout",
          "text": [
            "Epoch 16, Train loss: 14.60462053890886\n",
            "Epoch 16, Test loss: 16.35535578294234\n"
          ]
        },
        {
          "output_type": "stream",
          "name": "stderr",
          "text": [
            "\r 11%|█▏        | 17/150 [00:18<02:17,  1.04s/it]"
          ]
        },
        {
          "output_type": "stream",
          "name": "stdout",
          "text": [
            "Epoch 17, Train loss: 14.552687184563998\n",
            "Epoch 17, Test loss: 15.56275445764715\n"
          ]
        },
        {
          "output_type": "stream",
          "name": "stderr",
          "text": [
            "\r 12%|█▏        | 18/150 [00:19<02:16,  1.03s/it]"
          ]
        },
        {
          "output_type": "stream",
          "name": "stdout",
          "text": [
            "Epoch 18, Train loss: 14.620566886046838\n",
            "Epoch 18, Test loss: 15.123044274070047\n"
          ]
        },
        {
          "output_type": "stream",
          "name": "stderr",
          "text": [
            "\r 13%|█▎        | 19/150 [00:20<02:14,  1.02s/it]"
          ]
        },
        {
          "output_type": "stream",
          "name": "stdout",
          "text": [
            "Epoch 19, Train loss: 14.252403645679868\n",
            "Epoch 19, Test loss: 15.062394806832978\n"
          ]
        },
        {
          "output_type": "stream",
          "name": "stderr",
          "text": [
            "\r 13%|█▎        | 20/150 [00:21<02:14,  1.03s/it]"
          ]
        },
        {
          "output_type": "stream",
          "name": "stdout",
          "text": [
            "Epoch 20, Train loss: 14.309963012563772\n",
            "Epoch 20, Test loss: 15.051567482225822\n"
          ]
        },
        {
          "output_type": "stream",
          "name": "stderr",
          "text": [
            "\r 14%|█▍        | 21/150 [00:22<02:12,  1.03s/it]"
          ]
        },
        {
          "output_type": "stream",
          "name": "stdout",
          "text": [
            "Epoch 21, Train loss: 14.44331645143443\n",
            "Epoch 21, Test loss: 14.920648574829102\n",
            "Epoch 22, Train loss: 14.290184555382565\n"
          ]
        },
        {
          "output_type": "stream",
          "name": "stderr",
          "text": [
            "\r 15%|█▍        | 22/150 [00:23<02:19,  1.09s/it]"
          ]
        },
        {
          "output_type": "stream",
          "name": "stdout",
          "text": [
            "Epoch 22, Test loss: 15.230576572996197\n"
          ]
        },
        {
          "output_type": "stream",
          "name": "stderr",
          "text": [
            "\r 15%|█▌        | 23/150 [00:24<02:26,  1.15s/it]"
          ]
        },
        {
          "output_type": "stream",
          "name": "stdout",
          "text": [
            "Epoch 23, Train loss: 14.454955117455844\n",
            "Epoch 23, Test loss: 14.992599487304688\n"
          ]
        },
        {
          "output_type": "stream",
          "name": "stderr",
          "text": [
            "\r 16%|█▌        | 24/150 [00:25<02:20,  1.11s/it]"
          ]
        },
        {
          "output_type": "stream",
          "name": "stdout",
          "text": [
            "Epoch 24, Train loss: 14.302576862532517\n",
            "Epoch 24, Test loss: 15.465938134626908\n"
          ]
        },
        {
          "output_type": "stream",
          "name": "stderr",
          "text": [
            "\r 17%|█▋        | 25/150 [00:26<02:17,  1.10s/it]"
          ]
        },
        {
          "output_type": "stream",
          "name": "stdout",
          "text": [
            "Epoch 25, Train loss: 14.211816384874542\n",
            "Epoch 25, Test loss: 15.672462318882797\n"
          ]
        },
        {
          "output_type": "stream",
          "name": "stderr",
          "text": [
            "\r 17%|█▋        | 26/150 [00:27<02:13,  1.08s/it]"
          ]
        },
        {
          "output_type": "stream",
          "name": "stdout",
          "text": [
            "Epoch 26, Train loss: 14.374474393910376\n",
            "Epoch 26, Test loss: 17.067026167204887\n"
          ]
        },
        {
          "output_type": "stream",
          "name": "stderr",
          "text": [
            "\r 18%|█▊        | 27/150 [00:28<02:10,  1.06s/it]"
          ]
        },
        {
          "output_type": "stream",
          "name": "stdout",
          "text": [
            "Epoch 27, Train loss: 14.22137660815798\n",
            "Epoch 27, Test loss: 15.143834431966146\n"
          ]
        },
        {
          "output_type": "stream",
          "name": "stderr",
          "text": [
            "\r 19%|█▊        | 28/150 [00:29<02:08,  1.05s/it]"
          ]
        },
        {
          "output_type": "stream",
          "name": "stdout",
          "text": [
            "Epoch 28, Train loss: 14.319002315915863\n",
            "Epoch 28, Test loss: 15.035895838881984\n"
          ]
        },
        {
          "output_type": "stream",
          "name": "stderr",
          "text": [
            "\r 19%|█▉        | 29/150 [00:30<02:07,  1.05s/it]"
          ]
        },
        {
          "output_type": "stream",
          "name": "stdout",
          "text": [
            "Epoch 29, Train loss: 14.195426061235626\n",
            "Epoch 29, Test loss: 14.867801492864436\n"
          ]
        },
        {
          "output_type": "stream",
          "name": "stderr",
          "text": [
            "\r 20%|██        | 30/150 [00:31<02:05,  1.05s/it]"
          ]
        },
        {
          "output_type": "stream",
          "name": "stdout",
          "text": [
            "Epoch 30, Train loss: 14.089422711010638\n",
            "Epoch 30, Test loss: 15.124807531183416\n"
          ]
        },
        {
          "output_type": "stream",
          "name": "stderr",
          "text": [
            "\r 21%|██        | 31/150 [00:32<02:03,  1.04s/it]"
          ]
        },
        {
          "output_type": "stream",
          "name": "stdout",
          "text": [
            "Epoch 31, Train loss: 14.201957743743371\n",
            "Epoch 31, Test loss: 15.135192235310873\n"
          ]
        },
        {
          "output_type": "stream",
          "name": "stderr",
          "text": [
            "\r 21%|██▏       | 32/150 [00:33<02:01,  1.03s/it]"
          ]
        },
        {
          "output_type": "stream",
          "name": "stdout",
          "text": [
            "Epoch 32, Train loss: 14.107911422334869\n",
            "Epoch 32, Test loss: 15.101481379884662\n",
            "Epoch 33, Train loss: 14.1199558192286\n"
          ]
        },
        {
          "output_type": "stream",
          "name": "stderr",
          "text": [
            "\r 22%|██▏       | 33/150 [00:35<02:06,  1.08s/it]"
          ]
        },
        {
          "output_type": "stream",
          "name": "stdout",
          "text": [
            "Epoch 33, Test loss: 14.989494641621908\n",
            "Epoch 34, Train loss: 14.084716739325687\n"
          ]
        },
        {
          "output_type": "stream",
          "name": "stderr",
          "text": [
            "\r 23%|██▎       | 34/150 [00:36<02:14,  1.16s/it]"
          ]
        },
        {
          "output_type": "stream",
          "name": "stdout",
          "text": [
            "Epoch 34, Test loss: 14.903951904990457\n"
          ]
        },
        {
          "output_type": "stream",
          "name": "stderr",
          "text": [
            "\r 23%|██▎       | 35/150 [00:37<02:08,  1.12s/it]"
          ]
        },
        {
          "output_type": "stream",
          "name": "stdout",
          "text": [
            "Epoch 35, Train loss: 14.109946686646033\n",
            "Epoch 35, Test loss: 14.857835885250207\n"
          ]
        },
        {
          "output_type": "stream",
          "name": "stderr",
          "text": [
            "\r 24%|██▍       | 36/150 [00:38<02:04,  1.09s/it]"
          ]
        },
        {
          "output_type": "stream",
          "name": "stdout",
          "text": [
            "Epoch 36, Train loss: 14.185262047011276\n",
            "Epoch 36, Test loss: 15.001424182545055\n"
          ]
        },
        {
          "output_type": "stream",
          "name": "stderr",
          "text": [
            "\r 25%|██▍       | 37/150 [00:39<02:00,  1.07s/it]"
          ]
        },
        {
          "output_type": "stream",
          "name": "stdout",
          "text": [
            "Epoch 37, Train loss: 14.134670857725473\n",
            "Epoch 37, Test loss: 14.887914830988104\n"
          ]
        },
        {
          "output_type": "stream",
          "name": "stderr",
          "text": [
            "\r 25%|██▌       | 38/150 [00:40<01:57,  1.05s/it]"
          ]
        },
        {
          "output_type": "stream",
          "name": "stdout",
          "text": [
            "Epoch 38, Train loss: 14.084582772748224\n",
            "Epoch 38, Test loss: 14.829698764916623\n"
          ]
        },
        {
          "output_type": "stream",
          "name": "stderr",
          "text": [
            "\r 26%|██▌       | 39/150 [00:41<01:55,  1.04s/it]"
          ]
        },
        {
          "output_type": "stream",
          "name": "stdout",
          "text": [
            "Epoch 39, Train loss: 14.045813428944555\n",
            "Epoch 39, Test loss: 14.912035768682307\n"
          ]
        },
        {
          "output_type": "stream",
          "name": "stderr",
          "text": [
            "\r 27%|██▋       | 40/150 [00:42<01:53,  1.03s/it]"
          ]
        },
        {
          "output_type": "stream",
          "name": "stdout",
          "text": [
            "Epoch 40, Train loss: 14.080004437216397\n",
            "Epoch 40, Test loss: 15.010455536119865\n"
          ]
        },
        {
          "output_type": "stream",
          "name": "stderr",
          "text": [
            "\r 27%|██▋       | 41/150 [00:43<01:52,  1.03s/it]"
          ]
        },
        {
          "output_type": "stream",
          "name": "stdout",
          "text": [
            "Epoch 41, Train loss: 14.028333285759235\n",
            "Epoch 41, Test loss: 15.292683890371611\n"
          ]
        },
        {
          "output_type": "stream",
          "name": "stderr",
          "text": [
            "\r 28%|██▊       | 42/150 [00:44<01:51,  1.03s/it]"
          ]
        },
        {
          "output_type": "stream",
          "name": "stdout",
          "text": [
            "Epoch 42, Train loss: 14.249697471487112\n",
            "Epoch 42, Test loss: 14.990975986827504\n"
          ]
        },
        {
          "output_type": "stream",
          "name": "stderr",
          "text": [
            "\r 29%|██▊       | 43/150 [00:45<01:50,  1.03s/it]"
          ]
        },
        {
          "output_type": "stream",
          "name": "stdout",
          "text": [
            "Epoch 43, Train loss: 13.985415146268647\n",
            "Epoch 43, Test loss: 14.91106822273948\n",
            "Epoch 44, Train loss: 14.047024447342444\n"
          ]
        },
        {
          "output_type": "stream",
          "name": "stderr",
          "text": [
            "\r 29%|██▉       | 44/150 [00:46<01:52,  1.06s/it]"
          ]
        },
        {
          "output_type": "stream",
          "name": "stdout",
          "text": [
            "Epoch 44, Test loss: 14.77794144370339\n",
            "Epoch 45, Train loss: 14.049966795691128\n"
          ]
        },
        {
          "output_type": "stream",
          "name": "stderr",
          "text": [
            "\r 30%|███       | 45/150 [00:48<01:59,  1.14s/it]"
          ]
        },
        {
          "output_type": "stream",
          "name": "stdout",
          "text": [
            "Epoch 45, Test loss: 15.070856412251791\n"
          ]
        },
        {
          "output_type": "stream",
          "name": "stderr",
          "text": [
            "\r 31%|███       | 46/150 [00:49<01:58,  1.14s/it]"
          ]
        },
        {
          "output_type": "stream",
          "name": "stdout",
          "text": [
            "Epoch 46, Train loss: 14.055376644792227\n",
            "Epoch 46, Test loss: 14.920941208348129\n"
          ]
        },
        {
          "output_type": "stream",
          "name": "stderr",
          "text": [
            "\r 31%|███▏      | 47/150 [00:50<01:53,  1.10s/it]"
          ]
        },
        {
          "output_type": "stream",
          "name": "stdout",
          "text": [
            "Epoch 47, Train loss: 13.962855676124835\n",
            "Epoch 47, Test loss: 14.804489713726621\n"
          ]
        },
        {
          "output_type": "stream",
          "name": "stderr",
          "text": [
            "\r 32%|███▏      | 48/150 [00:51<01:50,  1.09s/it]"
          ]
        },
        {
          "output_type": "stream",
          "name": "stdout",
          "text": [
            "Epoch 48, Train loss: 14.017918446968341\n",
            "Epoch 48, Test loss: 14.844669168645686\n"
          ]
        },
        {
          "output_type": "stream",
          "name": "stderr",
          "text": [
            "\r 33%|███▎      | 49/150 [00:52<01:48,  1.08s/it]"
          ]
        },
        {
          "output_type": "stream",
          "name": "stdout",
          "text": [
            "Epoch 49, Train loss: 14.054674682946041\n",
            "Epoch 49, Test loss: 15.120856747482762\n"
          ]
        },
        {
          "output_type": "stream",
          "name": "stderr",
          "text": [
            "\r 33%|███▎      | 50/150 [00:53<01:46,  1.07s/it]"
          ]
        },
        {
          "output_type": "stream",
          "name": "stdout",
          "text": [
            "Epoch 50, Train loss: 14.073644317429642\n",
            "Epoch 50, Test loss: 15.225003618182559\n"
          ]
        },
        {
          "output_type": "stream",
          "name": "stderr",
          "text": [
            "\r 34%|███▍      | 51/150 [00:54<01:44,  1.06s/it]"
          ]
        },
        {
          "output_type": "stream",
          "name": "stdout",
          "text": [
            "Epoch 51, Train loss: 14.041610076509674\n",
            "Epoch 51, Test loss: 15.194612069563432\n"
          ]
        },
        {
          "output_type": "stream",
          "name": "stderr",
          "text": [
            "\r 35%|███▍      | 52/150 [00:55<01:42,  1.05s/it]"
          ]
        },
        {
          "output_type": "stream",
          "name": "stdout",
          "text": [
            "Epoch 52, Train loss: 13.975715497444416\n",
            "Epoch 52, Test loss: 15.17768703807484\n"
          ]
        },
        {
          "output_type": "stream",
          "name": "stderr",
          "text": [
            "\r 35%|███▌      | 53/150 [00:56<01:41,  1.05s/it]"
          ]
        },
        {
          "output_type": "stream",
          "name": "stdout",
          "text": [
            "Epoch 53, Train loss: 13.983533661941003\n",
            "Epoch 53, Test loss: 14.90551200057521\n"
          ]
        },
        {
          "output_type": "stream",
          "name": "stderr",
          "text": [
            "\r 36%|███▌      | 54/150 [00:57<01:40,  1.04s/it]"
          ]
        },
        {
          "output_type": "stream",
          "name": "stdout",
          "text": [
            "Epoch 54, Train loss: 14.007846511643509\n",
            "Epoch 54, Test loss: 14.83482924374667\n",
            "Epoch 55, Train loss: 13.929075504171438\n"
          ]
        },
        {
          "output_type": "stream",
          "name": "stderr",
          "text": [
            "\r 37%|███▋      | 55/150 [00:58<01:39,  1.05s/it]"
          ]
        },
        {
          "output_type": "stream",
          "name": "stdout",
          "text": [
            "Epoch 55, Test loss: 15.013931621204723\n",
            "Epoch 56, Train loss: 13.94705766644971\n"
          ]
        },
        {
          "output_type": "stream",
          "name": "stderr",
          "text": [
            "\r 37%|███▋      | 56/150 [00:59<01:46,  1.13s/it]"
          ]
        },
        {
          "output_type": "stream",
          "name": "stdout",
          "text": [
            "Epoch 56, Test loss: 14.95055291146943\n"
          ]
        },
        {
          "output_type": "stream",
          "name": "stderr",
          "text": [
            "\r 38%|███▊      | 57/150 [01:01<01:46,  1.15s/it]"
          ]
        },
        {
          "output_type": "stream",
          "name": "stdout",
          "text": [
            "Epoch 57, Train loss: 13.916710220534226\n",
            "Epoch 57, Test loss: 14.80398432413737\n"
          ]
        },
        {
          "output_type": "stream",
          "name": "stderr",
          "text": [
            "\r 39%|███▊      | 58/150 [01:02<01:42,  1.11s/it]"
          ]
        },
        {
          "output_type": "stream",
          "name": "stdout",
          "text": [
            "Epoch 58, Train loss: 13.973120911368008\n",
            "Epoch 58, Test loss: 14.794883236740574\n"
          ]
        },
        {
          "output_type": "stream",
          "name": "stderr",
          "text": [
            "\r 39%|███▉      | 59/150 [01:03<01:39,  1.09s/it]"
          ]
        },
        {
          "output_type": "stream",
          "name": "stdout",
          "text": [
            "Epoch 59, Train loss: 13.98117366330377\n",
            "Epoch 59, Test loss: 14.945776014616996\n"
          ]
        },
        {
          "output_type": "stream",
          "name": "stderr",
          "text": [
            "\r 40%|████      | 60/150 [01:04<01:36,  1.07s/it]"
          ]
        },
        {
          "output_type": "stream",
          "name": "stdout",
          "text": [
            "Epoch 60, Train loss: 13.89525452153436\n",
            "Epoch 60, Test loss: 14.815759340922037\n"
          ]
        },
        {
          "output_type": "stream",
          "name": "stderr",
          "text": [
            "\r 41%|████      | 61/150 [01:05<01:34,  1.06s/it]"
          ]
        },
        {
          "output_type": "stream",
          "name": "stdout",
          "text": [
            "Epoch 61, Train loss: 13.896132978899725\n",
            "Epoch 61, Test loss: 14.827841498635031\n"
          ]
        },
        {
          "output_type": "stream",
          "name": "stderr",
          "text": [
            "\r 41%|████▏     | 62/150 [01:06<01:32,  1.06s/it]"
          ]
        },
        {
          "output_type": "stream",
          "name": "stdout",
          "text": [
            "Epoch 62, Train loss: 13.933611327204211\n",
            "Epoch 62, Test loss: 15.01103470542214\n"
          ]
        },
        {
          "output_type": "stream",
          "name": "stderr",
          "text": [
            "\r 42%|████▏     | 63/150 [01:07<01:31,  1.05s/it]"
          ]
        },
        {
          "output_type": "stream",
          "name": "stdout",
          "text": [
            "Epoch 63, Train loss: 13.929809529205848\n",
            "Epoch 63, Test loss: 14.817708333333334\n"
          ]
        },
        {
          "output_type": "stream",
          "name": "stderr",
          "text": [
            "\r 43%|████▎     | 64/150 [01:08<01:30,  1.05s/it]"
          ]
        },
        {
          "output_type": "stream",
          "name": "stdout",
          "text": [
            "Epoch 64, Train loss: 13.925486885268112\n",
            "Epoch 64, Test loss: 14.75914174860174\n"
          ]
        },
        {
          "output_type": "stream",
          "name": "stderr",
          "text": [
            "\r 43%|████▎     | 65/150 [01:09<01:29,  1.05s/it]"
          ]
        },
        {
          "output_type": "stream",
          "name": "stdout",
          "text": [
            "Epoch 65, Train loss: 13.901568494994065\n",
            "Epoch 65, Test loss: 14.814295508644797\n"
          ]
        },
        {
          "output_type": "stream",
          "name": "stderr",
          "text": [
            "\r 44%|████▍     | 66/150 [01:10<01:27,  1.04s/it]"
          ]
        },
        {
          "output_type": "stream",
          "name": "stdout",
          "text": [
            "Epoch 66, Train loss: 13.914358722752539\n",
            "Epoch 66, Test loss: 14.856418696316807\n",
            "Epoch 67, Train loss: 13.919561262788443\n"
          ]
        },
        {
          "output_type": "stream",
          "name": "stderr",
          "text": [
            "\r 45%|████▍     | 67/150 [01:11<01:32,  1.12s/it]"
          ]
        },
        {
          "output_type": "stream",
          "name": "stdout",
          "text": [
            "Epoch 67, Test loss: 14.797440788962625\n"
          ]
        },
        {
          "output_type": "stream",
          "name": "stderr",
          "text": [
            "\r 45%|████▌     | 68/150 [01:13<01:34,  1.15s/it]"
          ]
        },
        {
          "output_type": "stream",
          "name": "stdout",
          "text": [
            "Epoch 68, Train loss: 13.902217009971881\n",
            "Epoch 68, Test loss: 14.756144003434615\n"
          ]
        },
        {
          "output_type": "stream",
          "name": "stderr",
          "text": [
            "\r 46%|████▌     | 69/150 [01:14<01:30,  1.11s/it]"
          ]
        },
        {
          "output_type": "stream",
          "name": "stdout",
          "text": [
            "Epoch 69, Train loss: 13.90602053444961\n",
            "Epoch 69, Test loss: 14.872451840025006\n"
          ]
        },
        {
          "output_type": "stream",
          "name": "stderr",
          "text": [
            "\r 47%|████▋     | 70/150 [01:15<01:26,  1.08s/it]"
          ]
        },
        {
          "output_type": "stream",
          "name": "stdout",
          "text": [
            "Epoch 70, Train loss: 13.907295005074863\n",
            "Epoch 70, Test loss: 14.787412267742734\n"
          ]
        },
        {
          "output_type": "stream",
          "name": "stderr",
          "text": [
            "\r 47%|████▋     | 71/150 [01:16<01:23,  1.06s/it]"
          ]
        },
        {
          "output_type": "stream",
          "name": "stdout",
          "text": [
            "Epoch 71, Train loss: 13.887169928386294\n",
            "Epoch 71, Test loss: 14.86146539630312\n"
          ]
        },
        {
          "output_type": "stream",
          "name": "stderr",
          "text": [
            "\r 48%|████▊     | 72/150 [01:17<01:21,  1.05s/it]"
          ]
        },
        {
          "output_type": "stream",
          "name": "stdout",
          "text": [
            "Epoch 72, Train loss: 13.90192649282258\n",
            "Epoch 72, Test loss: 14.839953249151057\n"
          ]
        },
        {
          "output_type": "stream",
          "name": "stderr",
          "text": [
            "\r 49%|████▊     | 73/150 [01:18<01:19,  1.03s/it]"
          ]
        },
        {
          "output_type": "stream",
          "name": "stdout",
          "text": [
            "Epoch 73, Train loss: 13.894798303472585\n",
            "Epoch 73, Test loss: 14.77167762409557\n"
          ]
        },
        {
          "output_type": "stream",
          "name": "stderr",
          "text": [
            "\r 49%|████▉     | 74/150 [01:19<01:18,  1.03s/it]"
          ]
        },
        {
          "output_type": "stream",
          "name": "stdout",
          "text": [
            "Epoch 74, Train loss: 13.868523104437466\n",
            "Epoch 74, Test loss: 14.842188025965836\n"
          ]
        },
        {
          "output_type": "stream",
          "name": "stderr",
          "text": [
            "\r 50%|█████     | 75/150 [01:20<01:16,  1.03s/it]"
          ]
        },
        {
          "output_type": "stream",
          "name": "stdout",
          "text": [
            "Epoch 75, Train loss: 13.875406109053513\n",
            "Epoch 75, Test loss: 14.75118486809008\n"
          ]
        },
        {
          "output_type": "stream",
          "name": "stderr",
          "text": [
            "\r 51%|█████     | 76/150 [01:21<01:16,  1.03s/it]"
          ]
        },
        {
          "output_type": "stream",
          "name": "stdout",
          "text": [
            "Epoch 76, Train loss: 13.849800512708466\n",
            "Epoch 76, Test loss: 14.734361186172023\n"
          ]
        },
        {
          "output_type": "stream",
          "name": "stderr",
          "text": [
            "\r 51%|█████▏    | 77/150 [01:22<01:15,  1.03s/it]"
          ]
        },
        {
          "output_type": "stream",
          "name": "stdout",
          "text": [
            "Epoch 77, Train loss: 13.870924357710214\n",
            "Epoch 77, Test loss: 14.747719938104803\n",
            "Epoch 78, Train loss: 13.86023551842262\n"
          ]
        },
        {
          "output_type": "stream",
          "name": "stderr",
          "text": [
            "\r 52%|█████▏    | 78/150 [01:23<01:18,  1.09s/it]"
          ]
        },
        {
          "output_type": "stream",
          "name": "stdout",
          "text": [
            "Epoch 78, Test loss: 14.834448063012326\n",
            "Epoch 79, Train loss: 13.870243738437521\n"
          ]
        },
        {
          "output_type": "stream",
          "name": "stderr",
          "text": [
            "\r 53%|█████▎    | 79/150 [01:24<01:22,  1.16s/it]"
          ]
        },
        {
          "output_type": "stream",
          "name": "stdout",
          "text": [
            "Epoch 79, Test loss: 14.874239459182277\n"
          ]
        },
        {
          "output_type": "stream",
          "name": "stderr",
          "text": [
            "\r 53%|█████▎    | 80/150 [01:25<01:18,  1.12s/it]"
          ]
        },
        {
          "output_type": "stream",
          "name": "stdout",
          "text": [
            "Epoch 80, Train loss: 13.84792973255289\n",
            "Epoch 80, Test loss: 14.831461415146336\n"
          ]
        },
        {
          "output_type": "stream",
          "name": "stderr",
          "text": [
            "\r 54%|█████▍    | 81/150 [01:26<01:15,  1.09s/it]"
          ]
        },
        {
          "output_type": "stream",
          "name": "stdout",
          "text": [
            "Epoch 81, Train loss: 13.856796535952338\n",
            "Epoch 81, Test loss: 14.810715241865678\n"
          ]
        },
        {
          "output_type": "stream",
          "name": "stderr",
          "text": [
            "\r 55%|█████▍    | 82/150 [01:27<01:12,  1.07s/it]"
          ]
        },
        {
          "output_type": "stream",
          "name": "stdout",
          "text": [
            "Epoch 82, Train loss: 13.840921928142679\n",
            "Epoch 82, Test loss: 14.768695137717508\n"
          ]
        },
        {
          "output_type": "stream",
          "name": "stderr",
          "text": [
            "\r 55%|█████▌    | 83/150 [01:28<01:11,  1.06s/it]"
          ]
        },
        {
          "output_type": "stream",
          "name": "stdout",
          "text": [
            "Epoch 83, Train loss: 13.843247142331354\n",
            "Epoch 83, Test loss: 14.728303013425885\n"
          ]
        },
        {
          "output_type": "stream",
          "name": "stderr",
          "text": [
            "\r 56%|█████▌    | 84/150 [01:29<01:09,  1.05s/it]"
          ]
        },
        {
          "output_type": "stream",
          "name": "stdout",
          "text": [
            "Epoch 84, Train loss: 13.85611681280465\n",
            "Epoch 84, Test loss: 14.79394210468639\n"
          ]
        },
        {
          "output_type": "stream",
          "name": "stderr",
          "text": [
            "\r 57%|█████▋    | 85/150 [01:30<01:07,  1.04s/it]"
          ]
        },
        {
          "output_type": "stream",
          "name": "stdout",
          "text": [
            "Epoch 85, Train loss: 13.840277400510065\n",
            "Epoch 85, Test loss: 14.863890647888184\n"
          ]
        },
        {
          "output_type": "stream",
          "name": "stderr",
          "text": [
            "\r 57%|█████▋    | 86/150 [01:31<01:06,  1.03s/it]"
          ]
        },
        {
          "output_type": "stream",
          "name": "stdout",
          "text": [
            "Epoch 86, Train loss: 13.864952194279638\n",
            "Epoch 86, Test loss: 14.803705533345541\n"
          ]
        },
        {
          "output_type": "stream",
          "name": "stderr",
          "text": [
            "\r 58%|█████▊    | 87/150 [01:32<01:04,  1.02s/it]"
          ]
        },
        {
          "output_type": "stream",
          "name": "stdout",
          "text": [
            "Epoch 87, Train loss: 13.856288030229766\n",
            "Epoch 87, Test loss: 14.78474472508286\n"
          ]
        },
        {
          "output_type": "stream",
          "name": "stderr",
          "text": [
            "\r 59%|█████▊    | 88/150 [01:33<01:03,  1.02s/it]"
          ]
        },
        {
          "output_type": "stream",
          "name": "stdout",
          "text": [
            "Epoch 88, Train loss: 13.861294976596174\n",
            "Epoch 88, Test loss: 14.820113933447635\n",
            "Epoch 89, Train loss: 13.827429089052924\n"
          ]
        },
        {
          "output_type": "stream",
          "name": "stderr",
          "text": [
            "\r 59%|█████▉    | 89/150 [01:35<01:04,  1.05s/it]"
          ]
        },
        {
          "output_type": "stream",
          "name": "stdout",
          "text": [
            "Epoch 89, Test loss: 14.781350049105557\n",
            "Epoch 90, Train loss: 13.831595733247955\n"
          ]
        },
        {
          "output_type": "stream",
          "name": "stderr",
          "text": [
            "\r 60%|██████    | 90/150 [01:36<01:07,  1.13s/it]"
          ]
        },
        {
          "output_type": "stream",
          "name": "stdout",
          "text": [
            "Epoch 90, Test loss: 14.82308292388916\n"
          ]
        },
        {
          "output_type": "stream",
          "name": "stderr",
          "text": [
            "\r 61%|██████    | 91/150 [01:37<01:07,  1.14s/it]"
          ]
        },
        {
          "output_type": "stream",
          "name": "stdout",
          "text": [
            "Epoch 91, Train loss: 13.860115240360129\n",
            "Epoch 91, Test loss: 14.83265397042939\n"
          ]
        },
        {
          "output_type": "stream",
          "name": "stderr",
          "text": [
            "\r 61%|██████▏   | 92/150 [01:38<01:04,  1.11s/it]"
          ]
        },
        {
          "output_type": "stream",
          "name": "stdout",
          "text": [
            "Epoch 92, Train loss: 13.860644200752521\n",
            "Epoch 92, Test loss: 14.731394796660453\n"
          ]
        },
        {
          "output_type": "stream",
          "name": "stderr",
          "text": [
            "\r 62%|██████▏   | 93/150 [01:39<01:01,  1.08s/it]"
          ]
        },
        {
          "output_type": "stream",
          "name": "stdout",
          "text": [
            "Epoch 93, Train loss: 13.860605050777567\n",
            "Epoch 93, Test loss: 14.76086272615375\n"
          ]
        },
        {
          "output_type": "stream",
          "name": "stderr",
          "text": [
            "\r 63%|██████▎   | 94/150 [01:40<00:59,  1.07s/it]"
          ]
        },
        {
          "output_type": "stream",
          "name": "stdout",
          "text": [
            "Epoch 94, Train loss: 13.836891256529709\n",
            "Epoch 94, Test loss: 14.73339421821363\n"
          ]
        },
        {
          "output_type": "stream",
          "name": "stderr",
          "text": [
            "\r 63%|██████▎   | 95/150 [01:41<00:57,  1.05s/it]"
          ]
        },
        {
          "output_type": "stream",
          "name": "stdout",
          "text": [
            "Epoch 95, Train loss: 13.841858386993408\n",
            "Epoch 95, Test loss: 14.809422146190297\n"
          ]
        },
        {
          "output_type": "stream",
          "name": "stderr",
          "text": [
            "\r 64%|██████▍   | 96/150 [01:42<00:56,  1.05s/it]"
          ]
        },
        {
          "output_type": "stream",
          "name": "stdout",
          "text": [
            "Epoch 96, Train loss: 13.823760928778812\n",
            "Epoch 96, Test loss: 14.739661765821053\n"
          ]
        },
        {
          "output_type": "stream",
          "name": "stderr",
          "text": [
            "\r 65%|██████▍   | 97/150 [01:43<00:55,  1.04s/it]"
          ]
        },
        {
          "output_type": "stream",
          "name": "stdout",
          "text": [
            "Epoch 97, Train loss: 13.82619805171572\n",
            "Epoch 97, Test loss: 14.803694320447518\n"
          ]
        },
        {
          "output_type": "stream",
          "name": "stderr",
          "text": [
            "\r 65%|██████▌   | 98/150 [01:44<00:53,  1.03s/it]"
          ]
        },
        {
          "output_type": "stream",
          "name": "stdout",
          "text": [
            "Epoch 98, Train loss: 13.828509256757538\n",
            "Epoch 98, Test loss: 14.766275405883789\n"
          ]
        },
        {
          "output_type": "stream",
          "name": "stderr",
          "text": [
            "\r 66%|██████▌   | 99/150 [01:45<00:52,  1.03s/it]"
          ]
        },
        {
          "output_type": "stream",
          "name": "stdout",
          "text": [
            "Epoch 99, Train loss: 13.830804380877264\n",
            "Epoch 99, Test loss: 14.766622225443522\n"
          ]
        },
        {
          "output_type": "stream",
          "name": "stderr",
          "text": [
            "\r 67%|██████▋   | 100/150 [01:46<00:51,  1.02s/it]"
          ]
        },
        {
          "output_type": "stream",
          "name": "stdout",
          "text": [
            "Epoch 100, Train loss: 13.823624027186426\n",
            "Epoch 100, Test loss: 14.835038474111846\n",
            "Epoch 101, Train loss: 13.841143920503814\n"
          ]
        },
        {
          "output_type": "stream",
          "name": "stderr",
          "text": [
            "\r 67%|██████▋   | 101/150 [01:48<00:54,  1.11s/it]"
          ]
        },
        {
          "output_type": "stream",
          "name": "stdout",
          "text": [
            "Epoch 101, Test loss: 14.745871283791281\n"
          ]
        },
        {
          "output_type": "stream",
          "name": "stderr",
          "text": [
            "\r 68%|██████▊   | 102/150 [01:49<00:55,  1.15s/it]"
          ]
        },
        {
          "output_type": "stream",
          "name": "stdout",
          "text": [
            "Epoch 102, Train loss: 13.847835146147629\n",
            "Epoch 102, Test loss: 14.70936512224602\n"
          ]
        },
        {
          "output_type": "stream",
          "name": "stderr",
          "text": [
            "\r 69%|██████▊   | 103/150 [01:50<00:52,  1.12s/it]"
          ]
        },
        {
          "output_type": "stream",
          "name": "stdout",
          "text": [
            "Epoch 103, Train loss: 13.83231338139238\n",
            "Epoch 103, Test loss: 14.718955328970244\n"
          ]
        },
        {
          "output_type": "stream",
          "name": "stderr",
          "text": [
            "\r 69%|██████▉   | 104/150 [01:51<00:50,  1.10s/it]"
          ]
        },
        {
          "output_type": "stream",
          "name": "stdout",
          "text": [
            "Epoch 104, Train loss: 13.846884480838117\n",
            "Epoch 104, Test loss: 14.831192999175101\n"
          ]
        },
        {
          "output_type": "stream",
          "name": "stderr",
          "text": [
            "\r 70%|███████   | 105/150 [01:52<00:48,  1.08s/it]"
          ]
        },
        {
          "output_type": "stream",
          "name": "stdout",
          "text": [
            "Epoch 105, Train loss: 13.817755345640512\n",
            "Epoch 105, Test loss: 14.703875946276115\n"
          ]
        },
        {
          "output_type": "stream",
          "name": "stderr",
          "text": [
            "\r 71%|███████   | 106/150 [01:53<00:46,  1.06s/it]"
          ]
        },
        {
          "output_type": "stream",
          "name": "stdout",
          "text": [
            "Epoch 106, Train loss: 13.819230186528173\n",
            "Epoch 106, Test loss: 14.765869111725777\n"
          ]
        },
        {
          "output_type": "stream",
          "name": "stderr",
          "text": [
            "\r 71%|███████▏  | 107/150 [01:54<00:45,  1.05s/it]"
          ]
        },
        {
          "output_type": "stream",
          "name": "stdout",
          "text": [
            "Epoch 107, Train loss: 13.86882546030242\n",
            "Epoch 107, Test loss: 14.73786802002878\n"
          ]
        },
        {
          "output_type": "stream",
          "name": "stderr",
          "text": [
            "\r 72%|███████▏  | 108/150 [01:55<00:43,  1.04s/it]"
          ]
        },
        {
          "output_type": "stream",
          "name": "stdout",
          "text": [
            "Epoch 108, Train loss: 13.823923686455036\n",
            "Epoch 108, Test loss: 14.740176981145686\n"
          ]
        },
        {
          "output_type": "stream",
          "name": "stderr",
          "text": [
            "\r 73%|███████▎  | 109/150 [01:56<00:42,  1.03s/it]"
          ]
        },
        {
          "output_type": "stream",
          "name": "stdout",
          "text": [
            "Epoch 109, Train loss: 13.820910749764279\n",
            "Epoch 109, Test loss: 14.864889607285008\n"
          ]
        },
        {
          "output_type": "stream",
          "name": "stderr",
          "text": [
            "\r 73%|███████▎  | 110/150 [01:57<00:41,  1.03s/it]"
          ]
        },
        {
          "output_type": "stream",
          "name": "stdout",
          "text": [
            "Epoch 110, Train loss: 13.818106445772894\n",
            "Epoch 110, Test loss: 14.762878851457076\n"
          ]
        },
        {
          "output_type": "stream",
          "name": "stderr",
          "text": [
            "\r 74%|███████▍  | 111/150 [01:58<00:40,  1.03s/it]"
          ]
        },
        {
          "output_type": "stream",
          "name": "stdout",
          "text": [
            "Epoch 111, Train loss: 13.840143803892465\n",
            "Epoch 111, Test loss: 14.71309959527218\n",
            "Epoch 112, Train loss: 13.821180318963938\n"
          ]
        },
        {
          "output_type": "stream",
          "name": "stderr",
          "text": [
            "\r 75%|███████▍  | 112/150 [01:59<00:41,  1.09s/it]"
          ]
        },
        {
          "output_type": "stream",
          "name": "stdout",
          "text": [
            "Epoch 112, Test loss: 14.678411888353752\n"
          ]
        },
        {
          "output_type": "stream",
          "name": "stderr",
          "text": [
            "\r 75%|███████▌  | 113/150 [02:01<00:43,  1.16s/it]"
          ]
        },
        {
          "output_type": "stream",
          "name": "stdout",
          "text": [
            "Epoch 113, Train loss: 13.834720562244284\n",
            "Epoch 113, Test loss: 14.765484000697281\n"
          ]
        },
        {
          "output_type": "stream",
          "name": "stderr",
          "text": [
            "\r 76%|███████▌  | 114/150 [02:02<00:40,  1.13s/it]"
          ]
        },
        {
          "output_type": "stream",
          "name": "stdout",
          "text": [
            "Epoch 114, Train loss: 13.828663012077069\n",
            "Epoch 114, Test loss: 14.72747837413441\n"
          ]
        },
        {
          "output_type": "stream",
          "name": "stderr",
          "text": [
            "\r 77%|███████▋  | 115/150 [02:03<00:38,  1.10s/it]"
          ]
        },
        {
          "output_type": "stream",
          "name": "stdout",
          "text": [
            "Epoch 115, Train loss: 13.816654690380755\n",
            "Epoch 115, Test loss: 14.718357982057514\n"
          ]
        },
        {
          "output_type": "stream",
          "name": "stderr",
          "text": [
            "\r 77%|███████▋  | 116/150 [02:04<00:36,  1.07s/it]"
          ]
        },
        {
          "output_type": "stream",
          "name": "stdout",
          "text": [
            "Epoch 116, Train loss: 13.811873649728708\n",
            "Epoch 116, Test loss: 14.767546798243668\n"
          ]
        },
        {
          "output_type": "stream",
          "name": "stderr",
          "text": [
            "\r 78%|███████▊  | 117/150 [02:05<00:35,  1.06s/it]"
          ]
        },
        {
          "output_type": "stream",
          "name": "stdout",
          "text": [
            "Epoch 117, Train loss: 13.836224777945157\n",
            "Epoch 117, Test loss: 14.719670324614555\n"
          ]
        },
        {
          "output_type": "stream",
          "name": "stderr",
          "text": [
            "\r 79%|███████▊  | 118/150 [02:06<00:33,  1.05s/it]"
          ]
        },
        {
          "output_type": "stream",
          "name": "stdout",
          "text": [
            "Epoch 118, Train loss: 13.831477198107489\n",
            "Epoch 118, Test loss: 14.743446494593766\n"
          ]
        },
        {
          "output_type": "stream",
          "name": "stderr",
          "text": [
            "\r 79%|███████▉  | 119/150 [02:07<00:32,  1.04s/it]"
          ]
        },
        {
          "output_type": "stream",
          "name": "stdout",
          "text": [
            "Epoch 119, Train loss: 13.837990251080743\n",
            "Epoch 119, Test loss: 14.847246516834606\n"
          ]
        },
        {
          "output_type": "stream",
          "name": "stderr",
          "text": [
            "\r 80%|████████  | 120/150 [02:08<00:30,  1.03s/it]"
          ]
        },
        {
          "output_type": "stream",
          "name": "stdout",
          "text": [
            "Epoch 120, Train loss: 13.822462073687849\n",
            "Epoch 120, Test loss: 14.715286688371139\n"
          ]
        },
        {
          "output_type": "stream",
          "name": "stderr",
          "text": [
            "\r 81%|████████  | 121/150 [02:09<00:29,  1.02s/it]"
          ]
        },
        {
          "output_type": "stream",
          "name": "stdout",
          "text": [
            "Epoch 121, Train loss: 13.820763538623678\n",
            "Epoch 121, Test loss: 14.769074844591545\n"
          ]
        },
        {
          "output_type": "stream",
          "name": "stderr",
          "text": [
            "\r 81%|████████▏ | 122/150 [02:10<00:28,  1.02s/it]"
          ]
        },
        {
          "output_type": "stream",
          "name": "stdout",
          "text": [
            "Epoch 122, Train loss: 13.821349637261752\n",
            "Epoch 122, Test loss: 14.76075334259958\n",
            "Epoch 123, Train loss: 13.849867442558551\n"
          ]
        },
        {
          "output_type": "stream",
          "name": "stderr",
          "text": [
            "\r 82%|████████▏ | 123/150 [02:11<00:28,  1.07s/it]"
          ]
        },
        {
          "output_type": "stream",
          "name": "stdout",
          "text": [
            "Epoch 123, Test loss: 14.736405401518851\n",
            "Epoch 124, Train loss: 13.821849995645984\n"
          ]
        },
        {
          "output_type": "stream",
          "name": "stderr",
          "text": [
            "\r 83%|████████▎ | 124/150 [02:12<00:30,  1.16s/it]"
          ]
        },
        {
          "output_type": "stream",
          "name": "stdout",
          "text": [
            "Epoch 124, Test loss: 14.720392198273629\n"
          ]
        },
        {
          "output_type": "stream",
          "name": "stderr",
          "text": [
            "\r 83%|████████▎ | 125/150 [02:13<00:28,  1.14s/it]"
          ]
        },
        {
          "output_type": "stream",
          "name": "stdout",
          "text": [
            "Epoch 125, Train loss: 13.818367555223663\n",
            "Epoch 125, Test loss: 14.733520970200047\n"
          ]
        },
        {
          "output_type": "stream",
          "name": "stderr",
          "text": [
            "\r 84%|████████▍ | 126/150 [02:15<00:26,  1.11s/it]"
          ]
        },
        {
          "output_type": "stream",
          "name": "stdout",
          "text": [
            "Epoch 126, Train loss: 13.855268930566721\n",
            "Epoch 126, Test loss: 14.834363388292717\n"
          ]
        },
        {
          "output_type": "stream",
          "name": "stderr",
          "text": [
            "\r 85%|████████▍ | 127/150 [02:16<00:24,  1.08s/it]"
          ]
        },
        {
          "output_type": "stream",
          "name": "stdout",
          "text": [
            "Epoch 127, Train loss: 13.81686335596545\n",
            "Epoch 127, Test loss: 14.771589914957682\n"
          ]
        },
        {
          "output_type": "stream",
          "name": "stderr",
          "text": [
            "\r 85%|████████▌ | 128/150 [02:17<00:23,  1.07s/it]"
          ]
        },
        {
          "output_type": "stream",
          "name": "stdout",
          "text": [
            "Epoch 128, Train loss: 13.810729585844895\n",
            "Epoch 128, Test loss: 14.768886017076897\n"
          ]
        },
        {
          "output_type": "stream",
          "name": "stderr",
          "text": [
            "\r 86%|████████▌ | 129/150 [02:18<00:22,  1.05s/it]"
          ]
        },
        {
          "output_type": "stream",
          "name": "stdout",
          "text": [
            "Epoch 129, Train loss: 13.83474195414576\n",
            "Epoch 129, Test loss: 14.71983392310865\n"
          ]
        },
        {
          "output_type": "stream",
          "name": "stderr",
          "text": [
            "\r 87%|████████▋ | 130/150 [02:19<00:20,  1.04s/it]"
          ]
        },
        {
          "output_type": "stream",
          "name": "stdout",
          "text": [
            "Epoch 130, Train loss: 13.816577368769153\n",
            "Epoch 130, Test loss: 14.793701287471887\n"
          ]
        },
        {
          "output_type": "stream",
          "name": "stderr",
          "text": [
            "\r 87%|████████▋ | 131/150 [02:20<00:19,  1.03s/it]"
          ]
        },
        {
          "output_type": "stream",
          "name": "stdout",
          "text": [
            "Epoch 131, Train loss: 13.824594842976538\n",
            "Epoch 131, Test loss: 14.856716300501969\n"
          ]
        },
        {
          "output_type": "stream",
          "name": "stderr",
          "text": [
            "\r 88%|████████▊ | 132/150 [02:21<00:18,  1.04s/it]"
          ]
        },
        {
          "output_type": "stream",
          "name": "stdout",
          "text": [
            "Epoch 132, Train loss: 13.80324783818475\n",
            "Epoch 132, Test loss: 14.775506279685281\n"
          ]
        },
        {
          "output_type": "stream",
          "name": "stderr",
          "text": [
            "\r 89%|████████▊ | 133/150 [02:22<00:17,  1.03s/it]"
          ]
        },
        {
          "output_type": "stream",
          "name": "stdout",
          "text": [
            "Epoch 133, Train loss: 13.807819810406915\n",
            "Epoch 133, Test loss: 14.8557240746238\n",
            "Epoch 134, Train loss: 13.823339421173621\n"
          ]
        },
        {
          "output_type": "stream",
          "name": "stderr",
          "text": [
            "\r 89%|████████▉ | 134/150 [02:23<00:16,  1.05s/it]"
          ]
        },
        {
          "output_type": "stream",
          "name": "stdout",
          "text": [
            "Epoch 134, Test loss: 14.803936235832445\n",
            "Epoch 135, Train loss: 13.823780873726154\n"
          ]
        },
        {
          "output_type": "stream",
          "name": "stderr",
          "text": [
            "\r 90%|█████████ | 135/150 [02:24<00:17,  1.14s/it]"
          ]
        },
        {
          "output_type": "stream",
          "name": "stdout",
          "text": [
            "Epoch 135, Test loss: 14.722911516825357\n"
          ]
        },
        {
          "output_type": "stream",
          "name": "stderr",
          "text": [
            "\r 91%|█████████ | 136/150 [02:25<00:16,  1.15s/it]"
          ]
        },
        {
          "output_type": "stream",
          "name": "stdout",
          "text": [
            "Epoch 136, Train loss: 13.801085291237667\n",
            "Epoch 136, Test loss: 14.74260275291674\n"
          ]
        },
        {
          "output_type": "stream",
          "name": "stderr",
          "text": [
            "\r 91%|█████████▏| 137/150 [02:26<00:14,  1.11s/it]"
          ]
        },
        {
          "output_type": "stream",
          "name": "stdout",
          "text": [
            "Epoch 137, Train loss: 13.829675740209119\n",
            "Epoch 137, Test loss: 14.751491517731637\n"
          ]
        },
        {
          "output_type": "stream",
          "name": "stderr",
          "text": [
            "\r 92%|█████████▏| 138/150 [02:27<00:12,  1.08s/it]"
          ]
        },
        {
          "output_type": "stream",
          "name": "stdout",
          "text": [
            "Epoch 138, Train loss: 13.816147779596262\n",
            "Epoch 138, Test loss: 14.873793919881185\n"
          ]
        },
        {
          "output_type": "stream",
          "name": "stderr",
          "text": [
            "\r 93%|█████████▎| 139/150 [02:28<00:11,  1.06s/it]"
          ]
        },
        {
          "output_type": "stream",
          "name": "stdout",
          "text": [
            "Epoch 139, Train loss: 13.827178058953121\n",
            "Epoch 139, Test loss: 14.694681832284639\n"
          ]
        },
        {
          "output_type": "stream",
          "name": "stderr",
          "text": [
            "\r 93%|█████████▎| 140/150 [02:29<00:10,  1.06s/it]"
          ]
        },
        {
          "output_type": "stream",
          "name": "stdout",
          "text": [
            "Epoch 140, Train loss: 13.830373706488773\n",
            "Epoch 140, Test loss: 14.720850655526826\n"
          ]
        },
        {
          "output_type": "stream",
          "name": "stderr",
          "text": [
            "\r 94%|█████████▍| 141/150 [02:30<00:09,  1.05s/it]"
          ]
        },
        {
          "output_type": "stream",
          "name": "stdout",
          "text": [
            "Epoch 141, Train loss: 13.817157062990912\n",
            "Epoch 141, Test loss: 14.69885271245783\n"
          ]
        },
        {
          "output_type": "stream",
          "name": "stderr",
          "text": [
            "\r 95%|█████████▍| 142/150 [02:31<00:08,  1.05s/it]"
          ]
        },
        {
          "output_type": "stream",
          "name": "stdout",
          "text": [
            "Epoch 142, Train loss: 13.808688961226364\n",
            "Epoch 142, Test loss: 14.806323513840184\n"
          ]
        },
        {
          "output_type": "stream",
          "name": "stderr",
          "text": [
            "\r 95%|█████████▌| 143/150 [02:33<00:07,  1.05s/it]"
          ]
        },
        {
          "output_type": "stream",
          "name": "stdout",
          "text": [
            "Epoch 143, Train loss: 13.81609269668316\n",
            "Epoch 143, Test loss: 14.781998027454723\n"
          ]
        },
        {
          "output_type": "stream",
          "name": "stderr",
          "text": [
            "\r 96%|█████████▌| 144/150 [02:34<00:06,  1.05s/it]"
          ]
        },
        {
          "output_type": "stream",
          "name": "stdout",
          "text": [
            "Epoch 144, Train loss: 13.816471658903977\n",
            "Epoch 144, Test loss: 14.811698942473441\n"
          ]
        },
        {
          "output_type": "stream",
          "name": "stderr",
          "text": [
            "\r 97%|█████████▋| 145/150 [02:35<00:05,  1.04s/it]"
          ]
        },
        {
          "output_type": "stream",
          "name": "stdout",
          "text": [
            "Epoch 145, Train loss: 13.812093627863916\n",
            "Epoch 145, Test loss: 14.734776843677867\n",
            "Epoch 146, Train loss: 13.805955784074191\n"
          ]
        },
        {
          "output_type": "stream",
          "name": "stderr",
          "text": [
            "\r 97%|█████████▋| 146/150 [02:36<00:04,  1.11s/it]"
          ]
        },
        {
          "output_type": "stream",
          "name": "stdout",
          "text": [
            "Epoch 146, Test loss: 14.726090431213379\n"
          ]
        },
        {
          "output_type": "stream",
          "name": "stderr",
          "text": [
            "\r 98%|█████████▊| 147/150 [02:37<00:03,  1.16s/it]"
          ]
        },
        {
          "output_type": "stream",
          "name": "stdout",
          "text": [
            "Epoch 147, Train loss: 13.829612863474878\n",
            "Epoch 147, Test loss: 14.747770193851355\n"
          ]
        },
        {
          "output_type": "stream",
          "name": "stderr",
          "text": [
            "\r 99%|█████████▊| 148/150 [02:38<00:02,  1.13s/it]"
          ]
        },
        {
          "output_type": "stream",
          "name": "stdout",
          "text": [
            "Epoch 148, Train loss: 13.827018030758563\n",
            "Epoch 148, Test loss: 14.790377934773764\n"
          ]
        },
        {
          "output_type": "stream",
          "name": "stderr",
          "text": [
            "\r 99%|█████████▉| 149/150 [02:39<00:01,  1.10s/it]"
          ]
        },
        {
          "output_type": "stream",
          "name": "stdout",
          "text": [
            "Epoch 149, Train loss: 13.84526567623533\n",
            "Epoch 149, Test loss: 14.849621252580123\n"
          ]
        },
        {
          "output_type": "stream",
          "name": "stderr",
          "text": [
            "100%|██████████| 150/150 [02:40<00:00,  1.07s/it]"
          ]
        },
        {
          "output_type": "stream",
          "name": "stdout",
          "text": [
            "Epoch 150, Train loss: 13.809438072401901\n",
            "Epoch 150, Test loss: 14.723855972290039\n"
          ]
        },
        {
          "output_type": "stream",
          "name": "stderr",
          "text": [
            "\n"
          ]
        }
      ]
    },
    {
      "cell_type": "code",
      "source": [
        "test_model(model, test_loader, device)"
      ],
      "metadata": {
        "colab": {
          "base_uri": "https://localhost:8080/"
        },
        "id": "K1bEc6UYBvOD",
        "outputId": "95f62cc1-ab50-4f1f-8800-6cbb7eedb947"
      },
      "execution_count": 100,
      "outputs": [
        {
          "output_type": "stream",
          "name": "stdout",
          "text": [
            "Test MAE: 14.734387715657553\n",
            "MAPE for high targets: 0.043267088518901306\n",
            "MAE for low targets: 6.181398203878691\n"
          ]
        }
      ]
    },
    {
      "cell_type": "code",
      "source": [
        "test_model(model, train_loader, device)"
      ],
      "metadata": {
        "colab": {
          "base_uri": "https://localhost:8080/"
        },
        "id": "inSGzmQ6By1z",
        "outputId": "111896b4-ef95-4094-8833-f9fa135ea341"
      },
      "execution_count": 101,
      "outputs": [
        {
          "output_type": "stream",
          "name": "stdout",
          "text": [
            "Test MAE: 13.825291502064672\n",
            "MAPE for high targets: 0.043417384623196616\n",
            "MAE for low targets: 5.658682634090555\n"
          ]
        }
      ]
    },
    {
      "cell_type": "markdown",
      "source": [
        "### window size = 8"
      ],
      "metadata": {
        "id": "TN0Wg4tLB1MT"
      }
    },
    {
      "cell_type": "code",
      "source": [
        "window_size = 8"
      ],
      "metadata": {
        "id": "aem0LPnECOTT"
      },
      "execution_count": 102,
      "outputs": []
    },
    {
      "cell_type": "code",
      "source": [
        "# Build the Data loader\n",
        "graph_data = []\n",
        "# each df should have the same dimension and same nodes at the same columns\n",
        "for filename, df in dfs.items():\n",
        "    df = add_missing_nodes_2(df, node_mapping, num_nodes) # add zeros row for missing nodes\n",
        "    df_qhrs = build_quarter_hour_data(df, filename, num_nodes) # retourne 24*4 df avec ses paramètres temporel et le flow\n",
        "    graph_data.append(df_qhrs)\n",
        "graphs = [[df_to_graph(df, edge_index) for df in graph_data[i]] for i in range(len(graph_data))]  # Un graphe par quart d'heure\n",
        "\n",
        "train_loader, test_loader = build_train_test_loaders_2(graphs, window_size, train_split=0.8, batch_size=16)"
      ],
      "metadata": {
        "id": "LtHfXtUKCLGJ"
      },
      "execution_count": 103,
      "outputs": []
    },
    {
      "cell_type": "code",
      "source": [
        "import torch\n",
        "from tqdm import tqdm\n",
        "\n",
        "# Détection du GPU\n",
        "device = torch.device(\"cuda\" if torch.cuda.is_available() else \"cpu\")\n",
        "print(f\"Using device: {device}\")\n",
        "\n",
        "# Initialisation du modèle et des composants d'entraînement\n",
        "model = ImprovedSTGCN(node_features=window_size, hidden_dim=32).to(device)\n",
        "\n",
        "optimizer = torch.optim.Adam(model.parameters(), lr=0.008)\n",
        "scheduler = torch.optim.lr_scheduler.ExponentialLR(optimizer, gamma=0.95)\n",
        "criterion = torch.nn.L1Loss()  # MAE\n",
        "\n",
        "num_epochs = 150\n",
        "\n",
        "# Boucle d'entraînement\n",
        "for epoch in tqdm(range(num_epochs)):\n",
        "    model.train()\n",
        "    train_loss = 0\n",
        "\n",
        "    for graph, temporal_features in train_loader:\n",
        "        graph = graph.to(device)  # Déplacement du graphe sur GPU\n",
        "        temporal_features = temporal_features.to(device, non_blocking=True)\n",
        "        temporal_features = temporal_features.flatten(start_dim=0, end_dim=1)\n",
        "\n",
        "        optimizer.zero_grad()\n",
        "        output = model(graph, temporal_features)\n",
        "        target = graph.y.to(device, non_blocking=True)  # Déplacement de la cible sur GPU\n",
        "\n",
        "        loss = criterion(output, target)\n",
        "        loss.backward()\n",
        "        optimizer.step()\n",
        "        train_loss += loss.item()\n",
        "\n",
        "    scheduler.step()\n",
        "\n",
        "    print(f\"Epoch {epoch+1}, Train loss: {train_loss / len(train_loader)}\")\n",
        "\n",
        "    # Évaluation sur le jeu de test\n",
        "    model.eval()\n",
        "    test_loss = 0\n",
        "    with torch.no_grad():  # Désactivation des gradients pour l'évaluation\n",
        "        for graph, temporal_features in test_loader:\n",
        "            graph = graph.to(device)\n",
        "            temporal_features = temporal_features.to(device, non_blocking=True)\n",
        "            temporal_features = temporal_features.flatten(start_dim=0, end_dim=1)\n",
        "\n",
        "            output = model(graph, temporal_features)\n",
        "            target = graph.y.to(device, non_blocking=True)\n",
        "\n",
        "            loss = criterion(output, target)\n",
        "            test_loss += loss.item()\n",
        "\n",
        "    print(f\"Epoch {epoch+1}, Test loss: {test_loss / len(test_loader)}\")\n"
      ],
      "metadata": {
        "colab": {
          "base_uri": "https://localhost:8080/"
        },
        "collapsed": true,
        "id": "wxmZhgxhCRwJ",
        "outputId": "af9914e4-2d98-4313-ece1-1afee7496a72"
      },
      "execution_count": 104,
      "outputs": [
        {
          "output_type": "stream",
          "name": "stdout",
          "text": [
            "Using device: cuda\n"
          ]
        },
        {
          "output_type": "stream",
          "name": "stderr",
          "text": [
            "\r  0%|          | 0/150 [00:00<?, ?it/s]"
          ]
        },
        {
          "output_type": "stream",
          "name": "stdout",
          "text": [
            "Epoch 1, Train loss: 67.7957610816599\n"
          ]
        },
        {
          "output_type": "stream",
          "name": "stderr",
          "text": [
            "\r  1%|          | 1/150 [00:01<03:39,  1.47s/it]"
          ]
        },
        {
          "output_type": "stream",
          "name": "stdout",
          "text": [
            "Epoch 1, Test loss: 21.957280985514323\n",
            "Epoch 2, Train loss: 17.97388901665946\n"
          ]
        },
        {
          "output_type": "stream",
          "name": "stderr",
          "text": [
            "\r  1%|▏         | 2/150 [00:02<03:23,  1.37s/it]"
          ]
        },
        {
          "output_type": "stream",
          "name": "stdout",
          "text": [
            "Epoch 2, Test loss: 23.258815892537434\n",
            "Epoch 3, Train loss: 15.441865537768212\n"
          ]
        },
        {
          "output_type": "stream",
          "name": "stderr",
          "text": [
            "\r  2%|▏         | 3/150 [00:03<03:06,  1.27s/it]"
          ]
        },
        {
          "output_type": "stream",
          "name": "stdout",
          "text": [
            "Epoch 3, Test loss: 14.349981212615967\n"
          ]
        },
        {
          "output_type": "stream",
          "name": "stderr",
          "text": [
            "\r  3%|▎         | 4/150 [00:05<02:55,  1.21s/it]"
          ]
        },
        {
          "output_type": "stream",
          "name": "stdout",
          "text": [
            "Epoch 4, Train loss: 15.646459561642086\n",
            "Epoch 4, Test loss: 14.297516536712646\n"
          ]
        },
        {
          "output_type": "stream",
          "name": "stderr",
          "text": [
            "\r  3%|▎         | 5/150 [00:06<02:49,  1.17s/it]"
          ]
        },
        {
          "output_type": "stream",
          "name": "stdout",
          "text": [
            "Epoch 5, Train loss: 13.704176029312276\n",
            "Epoch 5, Test loss: 13.670545514424642\n",
            "Epoch 6, Train loss: 13.945500654594921\n"
          ]
        },
        {
          "output_type": "stream",
          "name": "stderr",
          "text": [
            "\r  4%|▍         | 6/150 [00:07<02:46,  1.16s/it]"
          ]
        },
        {
          "output_type": "stream",
          "name": "stdout",
          "text": [
            "Epoch 6, Test loss: 13.373380215962728\n"
          ]
        },
        {
          "output_type": "stream",
          "name": "stderr",
          "text": [
            "\r  5%|▍         | 7/150 [00:08<02:43,  1.14s/it]"
          ]
        },
        {
          "output_type": "stream",
          "name": "stdout",
          "text": [
            "Epoch 7, Train loss: 12.571160191687468\n",
            "Epoch 7, Test loss: 15.692794704437256\n"
          ]
        },
        {
          "output_type": "stream",
          "name": "stderr",
          "text": [
            "\r  5%|▌         | 8/150 [00:09<02:40,  1.13s/it]"
          ]
        },
        {
          "output_type": "stream",
          "name": "stdout",
          "text": [
            "Epoch 8, Train loss: 12.178078441976387\n",
            "Epoch 8, Test loss: 12.28118445078532\n"
          ]
        },
        {
          "output_type": "stream",
          "name": "stderr",
          "text": [
            "\r  6%|▌         | 9/150 [00:10<02:38,  1.12s/it]"
          ]
        },
        {
          "output_type": "stream",
          "name": "stdout",
          "text": [
            "Epoch 9, Train loss: 11.814939957912838\n",
            "Epoch 9, Test loss: 13.6703769048055\n"
          ]
        },
        {
          "output_type": "stream",
          "name": "stderr",
          "text": [
            "\r  7%|▋         | 10/150 [00:11<02:37,  1.12s/it]"
          ]
        },
        {
          "output_type": "stream",
          "name": "stdout",
          "text": [
            "Epoch 10, Train loss: 11.987031491003304\n",
            "Epoch 10, Test loss: 14.801484553019206\n",
            "Epoch 11, Train loss: 12.095249452323557\n"
          ]
        },
        {
          "output_type": "stream",
          "name": "stderr",
          "text": [
            "\r  7%|▋         | 11/150 [00:13<02:47,  1.20s/it]"
          ]
        },
        {
          "output_type": "stream",
          "name": "stdout",
          "text": [
            "Epoch 11, Test loss: 12.150816122690836\n"
          ]
        },
        {
          "output_type": "stream",
          "name": "stderr",
          "text": [
            "\r  8%|▊         | 12/150 [00:14<02:52,  1.25s/it]"
          ]
        },
        {
          "output_type": "stream",
          "name": "stdout",
          "text": [
            "Epoch 12, Train loss: 11.730892845403368\n",
            "Epoch 12, Test loss: 12.359259764353434\n"
          ]
        },
        {
          "output_type": "stream",
          "name": "stderr",
          "text": [
            "\r  9%|▊         | 13/150 [00:15<02:45,  1.21s/it]"
          ]
        },
        {
          "output_type": "stream",
          "name": "stdout",
          "text": [
            "Epoch 13, Train loss: 11.446327779894677\n",
            "Epoch 13, Test loss: 13.333007653554281\n"
          ]
        },
        {
          "output_type": "stream",
          "name": "stderr",
          "text": [
            "\r  9%|▉         | 14/150 [00:16<02:39,  1.17s/it]"
          ]
        },
        {
          "output_type": "stream",
          "name": "stdout",
          "text": [
            "Epoch 14, Train loss: 11.508069845003503\n",
            "Epoch 14, Test loss: 11.685005251566569\n"
          ]
        },
        {
          "output_type": "stream",
          "name": "stderr",
          "text": [
            "\r 10%|█         | 15/150 [00:17<02:35,  1.15s/it]"
          ]
        },
        {
          "output_type": "stream",
          "name": "stdout",
          "text": [
            "Epoch 15, Train loss: 11.456670056993715\n",
            "Epoch 15, Test loss: 11.449778906504314\n"
          ]
        },
        {
          "output_type": "stream",
          "name": "stderr",
          "text": [
            "\r 11%|█         | 16/150 [00:18<02:31,  1.13s/it]"
          ]
        },
        {
          "output_type": "stream",
          "name": "stdout",
          "text": [
            "Epoch 16, Train loss: 11.707921206394088\n",
            "Epoch 16, Test loss: 12.607116889953613\n"
          ]
        },
        {
          "output_type": "stream",
          "name": "stderr",
          "text": [
            "\r 11%|█▏        | 17/150 [00:19<02:29,  1.12s/it]"
          ]
        },
        {
          "output_type": "stream",
          "name": "stdout",
          "text": [
            "Epoch 17, Train loss: 11.33473583025353\n",
            "Epoch 17, Test loss: 11.470246410369873\n"
          ]
        },
        {
          "output_type": "stream",
          "name": "stderr",
          "text": [
            "\r 12%|█▏        | 18/150 [00:21<02:27,  1.11s/it]"
          ]
        },
        {
          "output_type": "stream",
          "name": "stdout",
          "text": [
            "Epoch 18, Train loss: 11.044442747240868\n",
            "Epoch 18, Test loss: 11.315386994679768\n",
            "Epoch 19, Train loss: 10.72525318537917\n",
            "Epoch 19, Test loss: 11.056562852859496\n"
          ]
        },
        {
          "output_type": "stream",
          "name": "stderr",
          "text": [
            " 13%|█▎        | 20/150 [00:23<02:24,  1.11s/it]"
          ]
        },
        {
          "output_type": "stream",
          "name": "stdout",
          "text": [
            "Epoch 20, Train loss: 11.202208215945236\n",
            "Epoch 20, Test loss: 11.350044314066569\n",
            "Epoch 21, Train loss: 10.798537664324323\n"
          ]
        },
        {
          "output_type": "stream",
          "name": "stderr",
          "text": [
            "\r 14%|█▍        | 21/150 [00:24<02:26,  1.14s/it]"
          ]
        },
        {
          "output_type": "stream",
          "name": "stdout",
          "text": [
            "Epoch 21, Test loss: 12.453474521636963\n",
            "Epoch 22, Train loss: 10.698862686335483\n"
          ]
        },
        {
          "output_type": "stream",
          "name": "stderr",
          "text": [
            "\r 15%|█▍        | 22/150 [00:25<02:36,  1.22s/it]"
          ]
        },
        {
          "output_type": "stream",
          "name": "stdout",
          "text": [
            "Epoch 22, Test loss: 13.266015497843425\n",
            "Epoch 23, Train loss: 10.730511718821303\n"
          ]
        },
        {
          "output_type": "stream",
          "name": "stderr",
          "text": [
            "\r 15%|█▌        | 23/150 [00:27<02:34,  1.22s/it]"
          ]
        },
        {
          "output_type": "stream",
          "name": "stdout",
          "text": [
            "Epoch 23, Test loss: 11.226164277394613\n"
          ]
        },
        {
          "output_type": "stream",
          "name": "stderr",
          "text": [
            "\r 16%|█▌        | 24/150 [00:28<02:29,  1.18s/it]"
          ]
        },
        {
          "output_type": "stream",
          "name": "stdout",
          "text": [
            "Epoch 24, Train loss: 10.438707004083652\n",
            "Epoch 24, Test loss: 10.992271550496419\n"
          ]
        },
        {
          "output_type": "stream",
          "name": "stderr",
          "text": [
            "\r 17%|█▋        | 25/150 [00:29<02:24,  1.16s/it]"
          ]
        },
        {
          "output_type": "stream",
          "name": "stdout",
          "text": [
            "Epoch 25, Train loss: 10.55829471516832\n",
            "Epoch 25, Test loss: 10.84886089960734\n"
          ]
        },
        {
          "output_type": "stream",
          "name": "stderr",
          "text": [
            "\r 17%|█▋        | 26/150 [00:30<02:21,  1.14s/it]"
          ]
        },
        {
          "output_type": "stream",
          "name": "stdout",
          "text": [
            "Epoch 26, Train loss: 10.536952232646051\n",
            "Epoch 26, Test loss: 10.74935172398885\n"
          ]
        },
        {
          "output_type": "stream",
          "name": "stderr",
          "text": [
            "\r 18%|█▊        | 27/150 [00:31<02:19,  1.13s/it]"
          ]
        },
        {
          "output_type": "stream",
          "name": "stdout",
          "text": [
            "Epoch 27, Train loss: 10.334729631370474\n",
            "Epoch 27, Test loss: 11.567047182718913\n",
            "Epoch 28, Train loss: 10.375722252319907\n"
          ]
        },
        {
          "output_type": "stream",
          "name": "stderr",
          "text": [
            "\r 19%|█▊        | 28/150 [00:32<02:17,  1.13s/it]"
          ]
        },
        {
          "output_type": "stream",
          "name": "stdout",
          "text": [
            "Epoch 28, Test loss: 11.561366240183512\n",
            "Epoch 29, Train loss: 10.233569532911353\n"
          ]
        },
        {
          "output_type": "stream",
          "name": "stderr",
          "text": [
            "\r 19%|█▉        | 29/150 [00:33<02:15,  1.12s/it]"
          ]
        },
        {
          "output_type": "stream",
          "name": "stdout",
          "text": [
            "Epoch 29, Test loss: 10.86555191675822\n"
          ]
        },
        {
          "output_type": "stream",
          "name": "stderr",
          "text": [
            "\r 20%|██        | 30/150 [00:34<02:15,  1.13s/it]"
          ]
        },
        {
          "output_type": "stream",
          "name": "stdout",
          "text": [
            "Epoch 30, Train loss: 10.18928407062994\n",
            "Epoch 30, Test loss: 11.510408369700114\n"
          ]
        },
        {
          "output_type": "stream",
          "name": "stderr",
          "text": [
            "\r 21%|██        | 31/150 [00:35<02:13,  1.13s/it]"
          ]
        },
        {
          "output_type": "stream",
          "name": "stdout",
          "text": [
            "Epoch 31, Train loss: 10.164729938328824\n",
            "Epoch 31, Test loss: 10.905094687143961\n",
            "Epoch 32, Train loss: 10.170357806660304\n"
          ]
        },
        {
          "output_type": "stream",
          "name": "stderr",
          "text": [
            "\r 21%|██▏       | 32/150 [00:37<02:22,  1.20s/it]"
          ]
        },
        {
          "output_type": "stream",
          "name": "stdout",
          "text": [
            "Epoch 32, Test loss: 11.263455486297607\n"
          ]
        },
        {
          "output_type": "stream",
          "name": "stderr",
          "text": [
            "\r 22%|██▏       | 33/150 [00:38<02:26,  1.25s/it]"
          ]
        },
        {
          "output_type": "stream",
          "name": "stdout",
          "text": [
            "Epoch 33, Train loss: 10.232954609059842\n",
            "Epoch 33, Test loss: 11.02392021814982\n"
          ]
        },
        {
          "output_type": "stream",
          "name": "stderr",
          "text": [
            "\r 23%|██▎       | 34/150 [00:39<02:20,  1.21s/it]"
          ]
        },
        {
          "output_type": "stream",
          "name": "stdout",
          "text": [
            "Epoch 34, Train loss: 10.155622959136963\n",
            "Epoch 34, Test loss: 10.47524979909261\n"
          ]
        },
        {
          "output_type": "stream",
          "name": "stderr",
          "text": [
            "\r 23%|██▎       | 35/150 [00:40<02:14,  1.17s/it]"
          ]
        },
        {
          "output_type": "stream",
          "name": "stdout",
          "text": [
            "Epoch 35, Train loss: 10.174042946824404\n",
            "Epoch 35, Test loss: 10.902785523732502\n",
            "Epoch 36, Train loss: 9.98086407028626\n"
          ]
        },
        {
          "output_type": "stream",
          "name": "stderr",
          "text": [
            "\r 24%|██▍       | 36/150 [00:42<02:11,  1.15s/it]"
          ]
        },
        {
          "output_type": "stream",
          "name": "stdout",
          "text": [
            "Epoch 36, Test loss: 10.429102198282878\n",
            "Epoch 37, Train loss: 10.06341640080247\n"
          ]
        },
        {
          "output_type": "stream",
          "name": "stderr",
          "text": [
            "\r 25%|██▍       | 37/150 [00:43<02:07,  1.13s/it]"
          ]
        },
        {
          "output_type": "stream",
          "name": "stdout",
          "text": [
            "Epoch 37, Test loss: 10.408725865681966\n"
          ]
        },
        {
          "output_type": "stream",
          "name": "stderr",
          "text": [
            "\r 25%|██▌       | 38/150 [00:44<02:05,  1.12s/it]"
          ]
        },
        {
          "output_type": "stream",
          "name": "stdout",
          "text": [
            "Epoch 38, Train loss: 10.024506983355941\n",
            "Epoch 38, Test loss: 12.634931532541911\n",
            "Epoch 39, Train loss: 10.123521697855441\n"
          ]
        },
        {
          "output_type": "stream",
          "name": "stderr",
          "text": [
            "\r 26%|██▌       | 39/150 [00:45<02:03,  1.12s/it]"
          ]
        },
        {
          "output_type": "stream",
          "name": "stdout",
          "text": [
            "Epoch 39, Test loss: 10.421574846903484\n"
          ]
        },
        {
          "output_type": "stream",
          "name": "stderr",
          "text": [
            "\r 27%|██▋       | 40/150 [00:46<02:02,  1.11s/it]"
          ]
        },
        {
          "output_type": "stream",
          "name": "stdout",
          "text": [
            "Epoch 40, Train loss: 9.898739961820228\n",
            "Epoch 40, Test loss: 11.276295121510824\n"
          ]
        },
        {
          "output_type": "stream",
          "name": "stderr",
          "text": [
            "\r 27%|██▋       | 41/150 [00:47<02:00,  1.11s/it]"
          ]
        },
        {
          "output_type": "stream",
          "name": "stdout",
          "text": [
            "Epoch 41, Train loss: 9.911204057319141\n",
            "Epoch 41, Test loss: 10.855789057413737\n",
            "Epoch 42, Train loss: 9.888245800945246\n"
          ]
        },
        {
          "output_type": "stream",
          "name": "stderr",
          "text": [
            "\r 28%|██▊       | 42/150 [00:48<02:03,  1.15s/it]"
          ]
        },
        {
          "output_type": "stream",
          "name": "stdout",
          "text": [
            "Epoch 42, Test loss: 10.337457704544068\n",
            "Epoch 43, Train loss: 9.785490682191938\n"
          ]
        },
        {
          "output_type": "stream",
          "name": "stderr",
          "text": [
            "\r 29%|██▊       | 43/150 [00:50<02:12,  1.24s/it]"
          ]
        },
        {
          "output_type": "stream",
          "name": "stdout",
          "text": [
            "Epoch 43, Test loss: 10.357010300954183\n",
            "Epoch 44, Train loss: 9.85645298200233\n"
          ]
        },
        {
          "output_type": "stream",
          "name": "stderr",
          "text": [
            "\r 29%|██▉       | 44/150 [00:51<02:06,  1.20s/it]"
          ]
        },
        {
          "output_type": "stream",
          "name": "stdout",
          "text": [
            "Epoch 44, Test loss: 10.464876651763916\n",
            "Epoch 45, Train loss: 9.806368676301474\n"
          ]
        },
        {
          "output_type": "stream",
          "name": "stderr",
          "text": [
            "\r 30%|███       | 45/150 [00:52<02:02,  1.16s/it]"
          ]
        },
        {
          "output_type": "stream",
          "name": "stdout",
          "text": [
            "Epoch 45, Test loss: 10.291928958892822\n"
          ]
        },
        {
          "output_type": "stream",
          "name": "stderr",
          "text": [
            "\r 31%|███       | 46/150 [00:53<01:58,  1.14s/it]"
          ]
        },
        {
          "output_type": "stream",
          "name": "stdout",
          "text": [
            "Epoch 46, Train loss: 9.787268433615425\n",
            "Epoch 46, Test loss: 10.467097425460816\n"
          ]
        },
        {
          "output_type": "stream",
          "name": "stderr",
          "text": [
            "\r 31%|███▏      | 47/150 [00:54<01:55,  1.12s/it]"
          ]
        },
        {
          "output_type": "stream",
          "name": "stdout",
          "text": [
            "Epoch 47, Train loss: 9.815943178729476\n",
            "Epoch 47, Test loss: 10.30039021174113\n"
          ]
        },
        {
          "output_type": "stream",
          "name": "stderr",
          "text": [
            "\r 32%|███▏      | 48/150 [00:55<01:53,  1.11s/it]"
          ]
        },
        {
          "output_type": "stream",
          "name": "stdout",
          "text": [
            "Epoch 48, Train loss: 9.750858150909995\n",
            "Epoch 48, Test loss: 10.390989844004313\n"
          ]
        },
        {
          "output_type": "stream",
          "name": "stderr",
          "text": [
            "\r 33%|███▎      | 49/150 [00:56<01:51,  1.11s/it]"
          ]
        },
        {
          "output_type": "stream",
          "name": "stdout",
          "text": [
            "Epoch 49, Train loss: 9.717146632827331\n",
            "Epoch 49, Test loss: 10.323652871449788\n"
          ]
        },
        {
          "output_type": "stream",
          "name": "stderr",
          "text": [
            "\r 33%|███▎      | 50/150 [00:57<01:50,  1.10s/it]"
          ]
        },
        {
          "output_type": "stream",
          "name": "stdout",
          "text": [
            "Epoch 50, Train loss: 9.749005019107711\n",
            "Epoch 50, Test loss: 10.306118392944336\n"
          ]
        },
        {
          "output_type": "stream",
          "name": "stderr",
          "text": [
            "\r 34%|███▍      | 51/150 [00:58<01:49,  1.10s/it]"
          ]
        },
        {
          "output_type": "stream",
          "name": "stdout",
          "text": [
            "Epoch 51, Train loss: 9.657442373650097\n",
            "Epoch 51, Test loss: 10.19844528834025\n"
          ]
        },
        {
          "output_type": "stream",
          "name": "stderr",
          "text": [
            "\r 35%|███▍      | 52/150 [01:00<01:47,  1.10s/it]"
          ]
        },
        {
          "output_type": "stream",
          "name": "stdout",
          "text": [
            "Epoch 52, Train loss: 9.766757902697982\n",
            "Epoch 52, Test loss: 10.651948738098145\n",
            "Epoch 53, Train loss: 9.651393467020766\n"
          ]
        },
        {
          "output_type": "stream",
          "name": "stderr",
          "text": [
            "\r 35%|███▌      | 53/150 [01:01<01:54,  1.18s/it]"
          ]
        },
        {
          "output_type": "stream",
          "name": "stdout",
          "text": [
            "Epoch 53, Test loss: 10.194880803426107\n"
          ]
        },
        {
          "output_type": "stream",
          "name": "stderr",
          "text": [
            "\r 36%|███▌      | 54/150 [01:02<01:58,  1.23s/it]"
          ]
        },
        {
          "output_type": "stream",
          "name": "stdout",
          "text": [
            "Epoch 54, Train loss: 9.766458350921345\n",
            "Epoch 54, Test loss: 10.384948825836181\n",
            "Epoch 55, Train loss: 9.694196054868609\n"
          ]
        },
        {
          "output_type": "stream",
          "name": "stderr",
          "text": [
            "\r 37%|███▋      | 55/150 [01:03<01:53,  1.19s/it]"
          ]
        },
        {
          "output_type": "stream",
          "name": "stdout",
          "text": [
            "Epoch 55, Test loss: 10.356690804163614\n"
          ]
        },
        {
          "output_type": "stream",
          "name": "stderr",
          "text": [
            "\r 37%|███▋      | 56/150 [01:05<01:50,  1.17s/it]"
          ]
        },
        {
          "output_type": "stream",
          "name": "stdout",
          "text": [
            "Epoch 56, Train loss: 9.65728565019982\n",
            "Epoch 56, Test loss: 10.24376983642578\n"
          ]
        },
        {
          "output_type": "stream",
          "name": "stderr",
          "text": [
            "\r 38%|███▊      | 57/150 [01:06<01:47,  1.15s/it]"
          ]
        },
        {
          "output_type": "stream",
          "name": "stdout",
          "text": [
            "Epoch 57, Train loss: 9.625475348713241\n",
            "Epoch 57, Test loss: 10.129209740956624\n"
          ]
        },
        {
          "output_type": "stream",
          "name": "stderr",
          "text": [
            "\r 39%|███▊      | 58/150 [01:07<01:44,  1.13s/it]"
          ]
        },
        {
          "output_type": "stream",
          "name": "stdout",
          "text": [
            "Epoch 58, Train loss: 9.631411187002591\n",
            "Epoch 58, Test loss: 10.274703089396159\n"
          ]
        },
        {
          "output_type": "stream",
          "name": "stderr",
          "text": [
            "\r 39%|███▉      | 59/150 [01:08<01:42,  1.13s/it]"
          ]
        },
        {
          "output_type": "stream",
          "name": "stdout",
          "text": [
            "Epoch 59, Train loss: 9.679688404653675\n",
            "Epoch 59, Test loss: 10.364431031545003\n"
          ]
        },
        {
          "output_type": "stream",
          "name": "stderr",
          "text": [
            "\r 40%|████      | 60/150 [01:09<01:40,  1.12s/it]"
          ]
        },
        {
          "output_type": "stream",
          "name": "stdout",
          "text": [
            "Epoch 60, Train loss: 9.70542460290071\n",
            "Epoch 60, Test loss: 10.199429257710774\n"
          ]
        },
        {
          "output_type": "stream",
          "name": "stderr",
          "text": [
            "\r 41%|████      | 61/150 [01:10<01:39,  1.11s/it]"
          ]
        },
        {
          "output_type": "stream",
          "name": "stdout",
          "text": [
            "Epoch 61, Train loss: 9.651240740981057\n",
            "Epoch 61, Test loss: 10.183546702067057\n"
          ]
        },
        {
          "output_type": "stream",
          "name": "stderr",
          "text": [
            "\r 41%|████▏     | 62/150 [01:11<01:37,  1.10s/it]"
          ]
        },
        {
          "output_type": "stream",
          "name": "stdout",
          "text": [
            "Epoch 62, Train loss: 9.638435573221367\n",
            "Epoch 62, Test loss: 10.100755659739177\n",
            "Epoch 63, Train loss: 9.59247048992977\n"
          ]
        },
        {
          "output_type": "stream",
          "name": "stderr",
          "text": [
            "\r 42%|████▏     | 63/150 [01:12<01:39,  1.14s/it]"
          ]
        },
        {
          "output_type": "stream",
          "name": "stdout",
          "text": [
            "Epoch 63, Test loss: 10.078306007385255\n",
            "Epoch 64, Train loss: 9.585834641322911\n"
          ]
        },
        {
          "output_type": "stream",
          "name": "stderr",
          "text": [
            "\r 43%|████▎     | 64/150 [01:14<01:45,  1.22s/it]"
          ]
        },
        {
          "output_type": "stream",
          "name": "stdout",
          "text": [
            "Epoch 64, Test loss: 10.083363119761149\n"
          ]
        },
        {
          "output_type": "stream",
          "name": "stderr",
          "text": [
            "\r 43%|████▎     | 65/150 [01:15<01:41,  1.19s/it]"
          ]
        },
        {
          "output_type": "stream",
          "name": "stdout",
          "text": [
            "Epoch 65, Train loss: 9.585791988907573\n",
            "Epoch 65, Test loss: 10.091474962234496\n"
          ]
        },
        {
          "output_type": "stream",
          "name": "stderr",
          "text": [
            "\r 44%|████▍     | 66/150 [01:16<01:37,  1.16s/it]"
          ]
        },
        {
          "output_type": "stream",
          "name": "stdout",
          "text": [
            "Epoch 66, Train loss: 9.55779758346415\n",
            "Epoch 66, Test loss: 10.250456364949544\n"
          ]
        },
        {
          "output_type": "stream",
          "name": "stderr",
          "text": [
            "\r 45%|████▍     | 67/150 [01:17<01:34,  1.14s/it]"
          ]
        },
        {
          "output_type": "stream",
          "name": "stdout",
          "text": [
            "Epoch 67, Train loss: 9.555271661170176\n",
            "Epoch 67, Test loss: 10.306904951731363\n",
            "Epoch 68, Train loss: 9.59377989367904\n"
          ]
        },
        {
          "output_type": "stream",
          "name": "stderr",
          "text": [
            "\r 45%|████▌     | 68/150 [01:18<01:32,  1.13s/it]"
          ]
        },
        {
          "output_type": "stream",
          "name": "stdout",
          "text": [
            "Epoch 68, Test loss: 10.083292659123739\n"
          ]
        },
        {
          "output_type": "stream",
          "name": "stderr",
          "text": [
            "\r 46%|████▌     | 69/150 [01:19<01:30,  1.12s/it]"
          ]
        },
        {
          "output_type": "stream",
          "name": "stdout",
          "text": [
            "Epoch 69, Train loss: 9.553801202328406\n",
            "Epoch 69, Test loss: 10.082931931813558\n"
          ]
        },
        {
          "output_type": "stream",
          "name": "stderr",
          "text": [
            "\r 47%|████▋     | 70/150 [01:20<01:28,  1.11s/it]"
          ]
        },
        {
          "output_type": "stream",
          "name": "stdout",
          "text": [
            "Epoch 70, Train loss: 9.53366317481638\n",
            "Epoch 70, Test loss: 10.058885463078816\n"
          ]
        },
        {
          "output_type": "stream",
          "name": "stderr",
          "text": [
            "\r 47%|████▋     | 71/150 [01:21<01:27,  1.11s/it]"
          ]
        },
        {
          "output_type": "stream",
          "name": "stdout",
          "text": [
            "Epoch 71, Train loss: 9.60582748751774\n",
            "Epoch 71, Test loss: 10.06008456548055\n"
          ]
        },
        {
          "output_type": "stream",
          "name": "stderr",
          "text": [
            "\r 48%|████▊     | 72/150 [01:23<01:26,  1.10s/it]"
          ]
        },
        {
          "output_type": "stream",
          "name": "stdout",
          "text": [
            "Epoch 72, Train loss: 9.522716165703034\n",
            "Epoch 72, Test loss: 10.042115624745687\n"
          ]
        },
        {
          "output_type": "stream",
          "name": "stderr",
          "text": [
            "\r 49%|████▊     | 73/150 [01:24<01:24,  1.10s/it]"
          ]
        },
        {
          "output_type": "stream",
          "name": "stdout",
          "text": [
            "Epoch 73, Train loss: 9.525980802339928\n",
            "Epoch 73, Test loss: 10.086262035369874\n",
            "Epoch 74, Train loss: 9.525533515716267\n"
          ]
        },
        {
          "output_type": "stream",
          "name": "stderr",
          "text": [
            "\r 49%|████▉     | 74/150 [01:25<01:29,  1.17s/it]"
          ]
        },
        {
          "output_type": "stream",
          "name": "stdout",
          "text": [
            "Epoch 74, Test loss: 10.046197986602783\n"
          ]
        },
        {
          "output_type": "stream",
          "name": "stderr",
          "text": [
            "\r 50%|█████     | 75/150 [01:26<01:32,  1.23s/it]"
          ]
        },
        {
          "output_type": "stream",
          "name": "stdout",
          "text": [
            "Epoch 75, Train loss: 9.523320911086609\n",
            "Epoch 75, Test loss: 10.02445723215739\n"
          ]
        },
        {
          "output_type": "stream",
          "name": "stderr",
          "text": [
            "\r 51%|█████     | 76/150 [01:27<01:27,  1.18s/it]"
          ]
        },
        {
          "output_type": "stream",
          "name": "stdout",
          "text": [
            "Epoch 76, Train loss: 9.554243332871767\n",
            "Epoch 76, Test loss: 10.034740002950032\n"
          ]
        },
        {
          "output_type": "stream",
          "name": "stderr",
          "text": [
            "\r 51%|█████▏    | 77/150 [01:28<01:23,  1.15s/it]"
          ]
        },
        {
          "output_type": "stream",
          "name": "stdout",
          "text": [
            "Epoch 77, Train loss: 9.567055777968648\n",
            "Epoch 77, Test loss: 10.04389672279358\n"
          ]
        },
        {
          "output_type": "stream",
          "name": "stderr",
          "text": [
            "\r 52%|█████▏    | 78/150 [01:30<01:21,  1.13s/it]"
          ]
        },
        {
          "output_type": "stream",
          "name": "stdout",
          "text": [
            "Epoch 78, Train loss: 9.497376660320246\n",
            "Epoch 78, Test loss: 10.023882452646891\n"
          ]
        },
        {
          "output_type": "stream",
          "name": "stderr",
          "text": [
            "\r 53%|█████▎    | 79/150 [01:31<01:19,  1.11s/it]"
          ]
        },
        {
          "output_type": "stream",
          "name": "stdout",
          "text": [
            "Epoch 79, Train loss: 9.547279638664746\n",
            "Epoch 79, Test loss: 10.053877607981365\n"
          ]
        },
        {
          "output_type": "stream",
          "name": "stderr",
          "text": [
            "\r 53%|█████▎    | 80/150 [01:32<01:17,  1.10s/it]"
          ]
        },
        {
          "output_type": "stream",
          "name": "stdout",
          "text": [
            "Epoch 80, Train loss: 9.507571871035568\n",
            "Epoch 80, Test loss: 10.068357022603353\n"
          ]
        },
        {
          "output_type": "stream",
          "name": "stderr",
          "text": [
            "\r 54%|█████▍    | 81/150 [01:33<01:15,  1.09s/it]"
          ]
        },
        {
          "output_type": "stream",
          "name": "stdout",
          "text": [
            "Epoch 81, Train loss: 9.49651702096529\n",
            "Epoch 81, Test loss: 10.078657499949138\n",
            "Epoch 82, Train loss: 9.513300057883574\n"
          ]
        },
        {
          "output_type": "stream",
          "name": "stderr",
          "text": [
            "\r 55%|█████▍    | 82/150 [01:34<01:15,  1.11s/it]"
          ]
        },
        {
          "output_type": "stream",
          "name": "stdout",
          "text": [
            "Epoch 82, Test loss: 10.041311009724934\n",
            "Epoch 83, Train loss: 9.505897303607977\n"
          ]
        },
        {
          "output_type": "stream",
          "name": "stderr",
          "text": [
            "\r 55%|█████▌    | 83/150 [01:35<01:14,  1.11s/it]"
          ]
        },
        {
          "output_type": "stream",
          "name": "stdout",
          "text": [
            "Epoch 83, Test loss: 10.035181490580241\n",
            "Epoch 84, Train loss: 9.486151298629903\n"
          ]
        },
        {
          "output_type": "stream",
          "name": "stderr",
          "text": [
            "\r 56%|█████▌    | 84/150 [01:36<01:14,  1.13s/it]"
          ]
        },
        {
          "output_type": "stream",
          "name": "stdout",
          "text": [
            "Epoch 84, Test loss: 10.08795625368754\n",
            "Epoch 85, Train loss: 9.537635165954304\n"
          ]
        },
        {
          "output_type": "stream",
          "name": "stderr",
          "text": [
            "\r 57%|█████▋    | 85/150 [01:38<01:19,  1.22s/it]"
          ]
        },
        {
          "output_type": "stream",
          "name": "stdout",
          "text": [
            "Epoch 85, Test loss: 10.033207670847576\n"
          ]
        },
        {
          "output_type": "stream",
          "name": "stderr",
          "text": [
            "\r 57%|█████▋    | 86/150 [01:39<01:18,  1.22s/it]"
          ]
        },
        {
          "output_type": "stream",
          "name": "stdout",
          "text": [
            "Epoch 86, Train loss: 9.513478568781203\n",
            "Epoch 86, Test loss: 10.115521399180095\n"
          ]
        },
        {
          "output_type": "stream",
          "name": "stderr",
          "text": [
            "\r 58%|█████▊    | 87/150 [01:40<01:14,  1.18s/it]"
          ]
        },
        {
          "output_type": "stream",
          "name": "stdout",
          "text": [
            "Epoch 87, Train loss: 9.501016193461195\n",
            "Epoch 87, Test loss: 10.032631095250448\n"
          ]
        },
        {
          "output_type": "stream",
          "name": "stderr",
          "text": [
            "\r 59%|█████▊    | 88/150 [01:41<01:10,  1.14s/it]"
          ]
        },
        {
          "output_type": "stream",
          "name": "stdout",
          "text": [
            "Epoch 88, Train loss: 9.520743980585971\n",
            "Epoch 88, Test loss: 10.00298433303833\n"
          ]
        },
        {
          "output_type": "stream",
          "name": "stderr",
          "text": [
            "\r 59%|█████▉    | 89/150 [01:42<01:08,  1.12s/it]"
          ]
        },
        {
          "output_type": "stream",
          "name": "stdout",
          "text": [
            "Epoch 89, Train loss: 9.504097858322002\n",
            "Epoch 89, Test loss: 10.00944979985555\n"
          ]
        },
        {
          "output_type": "stream",
          "name": "stderr",
          "text": [
            "\r 60%|██████    | 90/150 [01:43<01:06,  1.11s/it]"
          ]
        },
        {
          "output_type": "stream",
          "name": "stdout",
          "text": [
            "Epoch 90, Train loss: 9.480122218622226\n",
            "Epoch 90, Test loss: 10.0126646677653\n"
          ]
        },
        {
          "output_type": "stream",
          "name": "stderr",
          "text": [
            "\r 61%|██████    | 91/150 [01:44<01:04,  1.10s/it]"
          ]
        },
        {
          "output_type": "stream",
          "name": "stdout",
          "text": [
            "Epoch 91, Train loss: 9.487855412135614\n",
            "Epoch 91, Test loss: 10.08392391204834\n"
          ]
        },
        {
          "output_type": "stream",
          "name": "stderr",
          "text": [
            "\r 61%|██████▏   | 92/150 [01:45<01:03,  1.09s/it]"
          ]
        },
        {
          "output_type": "stream",
          "name": "stdout",
          "text": [
            "Epoch 92, Train loss: 9.481272207242306\n",
            "Epoch 92, Test loss: 10.064751370747883\n"
          ]
        },
        {
          "output_type": "stream",
          "name": "stderr",
          "text": [
            "\r 62%|██████▏   | 93/150 [01:46<01:02,  1.09s/it]"
          ]
        },
        {
          "output_type": "stream",
          "name": "stdout",
          "text": [
            "Epoch 93, Train loss: 9.453669788681458\n",
            "Epoch 93, Test loss: 10.022215270996094\n"
          ]
        },
        {
          "output_type": "stream",
          "name": "stderr",
          "text": [
            "\r 63%|██████▎   | 94/150 [01:47<01:00,  1.08s/it]"
          ]
        },
        {
          "output_type": "stream",
          "name": "stdout",
          "text": [
            "Epoch 94, Train loss: 9.50439931744727\n",
            "Epoch 94, Test loss: 10.038583119710287\n",
            "Epoch 95, Train loss: 9.504493214259638\n"
          ]
        },
        {
          "output_type": "stream",
          "name": "stderr",
          "text": [
            "\r 63%|██████▎   | 95/150 [01:49<01:02,  1.13s/it]"
          ]
        },
        {
          "output_type": "stream",
          "name": "stdout",
          "text": [
            "Epoch 95, Test loss: 9.994166119893391\n",
            "Epoch 96, Train loss: 9.471786753039494\n"
          ]
        },
        {
          "output_type": "stream",
          "name": "stderr",
          "text": [
            "\r 64%|██████▍   | 96/150 [01:50<01:06,  1.23s/it]"
          ]
        },
        {
          "output_type": "stream",
          "name": "stdout",
          "text": [
            "Epoch 96, Test loss: 10.019349511464437\n"
          ]
        },
        {
          "output_type": "stream",
          "name": "stderr",
          "text": [
            "\r 65%|██████▍   | 97/150 [01:51<01:02,  1.19s/it]"
          ]
        },
        {
          "output_type": "stream",
          "name": "stdout",
          "text": [
            "Epoch 97, Train loss: 9.467168527228809\n",
            "Epoch 97, Test loss: 9.993337853749592\n"
          ]
        },
        {
          "output_type": "stream",
          "name": "stderr",
          "text": [
            "\r 65%|██████▌   | 98/150 [01:52<01:00,  1.15s/it]"
          ]
        },
        {
          "output_type": "stream",
          "name": "stdout",
          "text": [
            "Epoch 98, Train loss: 9.482117955929764\n",
            "Epoch 98, Test loss: 10.007692782084147\n"
          ]
        },
        {
          "output_type": "stream",
          "name": "stderr",
          "text": [
            "\r 66%|██████▌   | 99/150 [01:53<00:57,  1.13s/it]"
          ]
        },
        {
          "output_type": "stream",
          "name": "stdout",
          "text": [
            "Epoch 99, Train loss: 9.465961340431855\n",
            "Epoch 99, Test loss: 10.00532143910726\n"
          ]
        },
        {
          "output_type": "stream",
          "name": "stderr",
          "text": [
            "\r 67%|██████▋   | 100/150 [01:54<00:55,  1.11s/it]"
          ]
        },
        {
          "output_type": "stream",
          "name": "stdout",
          "text": [
            "Epoch 100, Train loss: 9.477249386154602\n",
            "Epoch 100, Test loss: 9.9896790822347\n"
          ]
        },
        {
          "output_type": "stream",
          "name": "stderr",
          "text": [
            "\r 67%|██████▋   | 101/150 [01:56<00:54,  1.10s/it]"
          ]
        },
        {
          "output_type": "stream",
          "name": "stdout",
          "text": [
            "Epoch 101, Train loss: 9.463785991490445\n",
            "Epoch 101, Test loss: 9.993712488810221\n"
          ]
        },
        {
          "output_type": "stream",
          "name": "stderr",
          "text": [
            "\r 68%|██████▊   | 102/150 [01:57<00:52,  1.10s/it]"
          ]
        },
        {
          "output_type": "stream",
          "name": "stdout",
          "text": [
            "Epoch 102, Train loss: 9.475603411130816\n",
            "Epoch 102, Test loss: 10.003212436040242\n"
          ]
        },
        {
          "output_type": "stream",
          "name": "stderr",
          "text": [
            "\r 69%|██████▊   | 103/150 [01:58<00:51,  1.09s/it]"
          ]
        },
        {
          "output_type": "stream",
          "name": "stdout",
          "text": [
            "Epoch 103, Train loss: 9.469464983895561\n",
            "Epoch 103, Test loss: 10.031543986002605\n"
          ]
        },
        {
          "output_type": "stream",
          "name": "stderr",
          "text": [
            "\r 69%|██████▉   | 104/150 [01:59<00:49,  1.09s/it]"
          ]
        },
        {
          "output_type": "stream",
          "name": "stdout",
          "text": [
            "Epoch 104, Train loss: 9.465006819395262\n",
            "Epoch 104, Test loss: 9.975725078582764\n"
          ]
        },
        {
          "output_type": "stream",
          "name": "stderr",
          "text": [
            "\r 70%|███████   | 105/150 [02:00<00:48,  1.08s/it]"
          ]
        },
        {
          "output_type": "stream",
          "name": "stdout",
          "text": [
            "Epoch 105, Train loss: 9.501639397344857\n",
            "Epoch 105, Test loss: 9.999921544392903\n",
            "Epoch 106, Train loss: 9.447898107154346\n"
          ]
        },
        {
          "output_type": "stream",
          "name": "stderr",
          "text": [
            "\r 71%|███████   | 106/150 [02:01<00:50,  1.15s/it]"
          ]
        },
        {
          "output_type": "stream",
          "name": "stdout",
          "text": [
            "Epoch 106, Test loss: 10.018087927500407\n"
          ]
        },
        {
          "output_type": "stream",
          "name": "stderr",
          "text": [
            "\r 71%|███████▏  | 107/150 [02:03<00:52,  1.21s/it]"
          ]
        },
        {
          "output_type": "stream",
          "name": "stdout",
          "text": [
            "Epoch 107, Train loss: 9.44273853302002\n",
            "Epoch 107, Test loss: 10.00161469777425\n"
          ]
        },
        {
          "output_type": "stream",
          "name": "stderr",
          "text": [
            "\r 72%|███████▏  | 108/150 [02:04<00:49,  1.17s/it]"
          ]
        },
        {
          "output_type": "stream",
          "name": "stdout",
          "text": [
            "Epoch 108, Train loss: 9.471563486295326\n",
            "Epoch 108, Test loss: 10.008722496032714\n",
            "Epoch 109, Train loss: 9.441154756278635\n"
          ]
        },
        {
          "output_type": "stream",
          "name": "stderr",
          "text": [
            "\r 73%|███████▎  | 109/150 [02:05<00:48,  1.17s/it]"
          ]
        },
        {
          "output_type": "stream",
          "name": "stdout",
          "text": [
            "Epoch 109, Test loss: 10.003599786758423\n"
          ]
        },
        {
          "output_type": "stream",
          "name": "stderr",
          "text": [
            "\r 73%|███████▎  | 110/150 [02:06<00:46,  1.17s/it]"
          ]
        },
        {
          "output_type": "stream",
          "name": "stdout",
          "text": [
            "Epoch 110, Train loss: 9.429182039243038\n",
            "Epoch 110, Test loss: 9.962422879536946\n",
            "Epoch 111, Train loss: 9.513886830517064\n"
          ]
        },
        {
          "output_type": "stream",
          "name": "stderr",
          "text": [
            "\r 74%|███████▍  | 111/150 [02:07<00:45,  1.16s/it]"
          ]
        },
        {
          "output_type": "stream",
          "name": "stdout",
          "text": [
            "Epoch 111, Test loss: 10.005046844482422\n",
            "Epoch 112, Train loss: 9.480681998707423\n"
          ]
        },
        {
          "output_type": "stream",
          "name": "stderr",
          "text": [
            "\r 75%|███████▍  | 112/150 [02:08<00:43,  1.14s/it]"
          ]
        },
        {
          "output_type": "stream",
          "name": "stdout",
          "text": [
            "Epoch 112, Test loss: 9.97393732070923\n",
            "Epoch 113, Train loss: 9.491100257802232\n"
          ]
        },
        {
          "output_type": "stream",
          "name": "stderr",
          "text": [
            "\r 75%|███████▌  | 113/150 [02:09<00:41,  1.12s/it]"
          ]
        },
        {
          "output_type": "stream",
          "name": "stdout",
          "text": [
            "Epoch 113, Test loss: 9.984151029586792\n"
          ]
        },
        {
          "output_type": "stream",
          "name": "stderr",
          "text": [
            "\r 76%|███████▌  | 114/150 [02:10<00:40,  1.11s/it]"
          ]
        },
        {
          "output_type": "stream",
          "name": "stdout",
          "text": [
            "Epoch 114, Train loss: 9.467580010957807\n",
            "Epoch 114, Test loss: 9.981464989980061\n"
          ]
        },
        {
          "output_type": "stream",
          "name": "stderr",
          "text": [
            "\r 77%|███████▋  | 115/150 [02:11<00:38,  1.10s/it]"
          ]
        },
        {
          "output_type": "stream",
          "name": "stdout",
          "text": [
            "Epoch 115, Train loss: 9.458096232369682\n",
            "Epoch 115, Test loss: 9.98028106689453\n",
            "Epoch 116, Train loss: 9.445995932427522\n"
          ]
        },
        {
          "output_type": "stream",
          "name": "stderr",
          "text": [
            "\r 77%|███████▋  | 116/150 [02:13<00:39,  1.15s/it]"
          ]
        },
        {
          "output_type": "stream",
          "name": "stdout",
          "text": [
            "Epoch 116, Test loss: 9.991927258173625\n",
            "Epoch 117, Train loss: 9.47159052786426\n"
          ]
        },
        {
          "output_type": "stream",
          "name": "stderr",
          "text": [
            "\r 78%|███████▊  | 117/150 [02:14<00:40,  1.24s/it]"
          ]
        },
        {
          "output_type": "stream",
          "name": "stdout",
          "text": [
            "Epoch 117, Test loss: 9.977326059341431\n",
            "Epoch 118, Train loss: 9.455175163589905\n"
          ]
        },
        {
          "output_type": "stream",
          "name": "stderr",
          "text": [
            "\r 79%|███████▊  | 118/150 [02:15<00:38,  1.21s/it]"
          ]
        },
        {
          "output_type": "stream",
          "name": "stdout",
          "text": [
            "Epoch 118, Test loss: 9.96696310043335\n",
            "Epoch 119, Train loss: 9.485190957506127\n"
          ]
        },
        {
          "output_type": "stream",
          "name": "stderr",
          "text": [
            "\r 79%|███████▉  | 119/150 [02:16<00:37,  1.20s/it]"
          ]
        },
        {
          "output_type": "stream",
          "name": "stdout",
          "text": [
            "Epoch 119, Test loss: 9.972454023361205\n"
          ]
        },
        {
          "output_type": "stream",
          "name": "stderr",
          "text": [
            "\r 80%|████████  | 120/150 [02:18<00:36,  1.22s/it]"
          ]
        },
        {
          "output_type": "stream",
          "name": "stdout",
          "text": [
            "Epoch 120, Train loss: 9.504065041230104\n",
            "Epoch 120, Test loss: 9.974050569534302\n"
          ]
        },
        {
          "output_type": "stream",
          "name": "stderr",
          "text": [
            "\r 81%|████████  | 121/150 [02:19<00:34,  1.20s/it]"
          ]
        },
        {
          "output_type": "stream",
          "name": "stdout",
          "text": [
            "Epoch 121, Train loss: 9.448579271263052\n",
            "Epoch 121, Test loss: 9.979493872324626\n"
          ]
        },
        {
          "output_type": "stream",
          "name": "stderr",
          "text": [
            "\r 81%|████████▏ | 122/150 [02:20<00:32,  1.18s/it]"
          ]
        },
        {
          "output_type": "stream",
          "name": "stdout",
          "text": [
            "Epoch 122, Train loss: 9.441970236947604\n",
            "Epoch 122, Test loss: 9.98961009979248\n"
          ]
        },
        {
          "output_type": "stream",
          "name": "stderr",
          "text": [
            "\r 82%|████████▏ | 123/150 [02:21<00:31,  1.15s/it]"
          ]
        },
        {
          "output_type": "stream",
          "name": "stdout",
          "text": [
            "Epoch 123, Train loss: 9.449227466761508\n",
            "Epoch 123, Test loss: 9.982372331619263\n"
          ]
        },
        {
          "output_type": "stream",
          "name": "stderr",
          "text": [
            "\r 83%|████████▎ | 124/150 [02:22<00:29,  1.13s/it]"
          ]
        },
        {
          "output_type": "stream",
          "name": "stdout",
          "text": [
            "Epoch 124, Train loss: 9.486576378902543\n",
            "Epoch 124, Test loss: 9.984703922271729\n",
            "Epoch 125, Train loss: 9.464595050455253\n"
          ]
        },
        {
          "output_type": "stream",
          "name": "stderr",
          "text": [
            "\r 83%|████████▎ | 125/150 [02:23<00:28,  1.12s/it]"
          ]
        },
        {
          "output_type": "stream",
          "name": "stdout",
          "text": [
            "Epoch 125, Test loss: 9.958026631673176\n",
            "Epoch 126, Train loss: 9.441785839116461\n"
          ]
        },
        {
          "output_type": "stream",
          "name": "stderr",
          "text": [
            "\r 84%|████████▍ | 126/150 [02:24<00:27,  1.14s/it]"
          ]
        },
        {
          "output_type": "stream",
          "name": "stdout",
          "text": [
            "Epoch 126, Test loss: 9.979420868555705\n",
            "Epoch 127, Train loss: 9.460599293218594\n"
          ]
        },
        {
          "output_type": "stream",
          "name": "stderr",
          "text": [
            "\r 85%|████████▍ | 127/150 [02:26<00:28,  1.23s/it]"
          ]
        },
        {
          "output_type": "stream",
          "name": "stdout",
          "text": [
            "Epoch 127, Test loss: 9.97316706975301\n"
          ]
        },
        {
          "output_type": "stream",
          "name": "stderr",
          "text": [
            "\r 85%|████████▌ | 128/150 [02:27<00:27,  1.23s/it]"
          ]
        },
        {
          "output_type": "stream",
          "name": "stdout",
          "text": [
            "Epoch 128, Train loss: 9.497679661367542\n",
            "Epoch 128, Test loss: 9.988850529988607\n",
            "Epoch 129, Train loss: 9.49119485427286\n"
          ]
        },
        {
          "output_type": "stream",
          "name": "stderr",
          "text": [
            "\r 86%|████████▌ | 129/150 [02:28<00:25,  1.20s/it]"
          ]
        },
        {
          "output_type": "stream",
          "name": "stdout",
          "text": [
            "Epoch 129, Test loss: 9.985691531499226\n"
          ]
        },
        {
          "output_type": "stream",
          "name": "stderr",
          "text": [
            "\r 87%|████████▋ | 130/150 [02:29<00:23,  1.17s/it]"
          ]
        },
        {
          "output_type": "stream",
          "name": "stdout",
          "text": [
            "Epoch 130, Train loss: 9.465583119436959\n",
            "Epoch 130, Test loss: 9.992581351598103\n"
          ]
        },
        {
          "output_type": "stream",
          "name": "stderr",
          "text": [
            "\r 87%|████████▋ | 131/150 [02:30<00:21,  1.15s/it]"
          ]
        },
        {
          "output_type": "stream",
          "name": "stdout",
          "text": [
            "Epoch 131, Train loss: 9.468220425543384\n",
            "Epoch 131, Test loss: 9.983490912119548\n"
          ]
        },
        {
          "output_type": "stream",
          "name": "stderr",
          "text": [
            "\r 88%|████████▊ | 132/150 [02:32<00:20,  1.14s/it]"
          ]
        },
        {
          "output_type": "stream",
          "name": "stdout",
          "text": [
            "Epoch 132, Train loss: 9.475405933700989\n",
            "Epoch 132, Test loss: 9.984187825520833\n"
          ]
        },
        {
          "output_type": "stream",
          "name": "stderr",
          "text": [
            "\r 89%|████████▊ | 133/150 [02:33<00:19,  1.13s/it]"
          ]
        },
        {
          "output_type": "stream",
          "name": "stdout",
          "text": [
            "Epoch 133, Train loss: 9.4770193590182\n",
            "Epoch 133, Test loss: 9.97360545794169\n",
            "Epoch 134, Train loss: 9.449511184870639\n"
          ]
        },
        {
          "output_type": "stream",
          "name": "stderr",
          "text": [
            "\r 89%|████████▉ | 134/150 [02:34<00:18,  1.13s/it]"
          ]
        },
        {
          "output_type": "stream",
          "name": "stdout",
          "text": [
            "Epoch 134, Test loss: 9.98149372736613\n",
            "Epoch 135, Train loss: 9.413756437390765\n"
          ]
        },
        {
          "output_type": "stream",
          "name": "stderr",
          "text": [
            "\r 90%|█████████ | 135/150 [02:35<00:16,  1.13s/it]"
          ]
        },
        {
          "output_type": "stream",
          "name": "stdout",
          "text": [
            "Epoch 135, Test loss: 9.994662555058797\n",
            "Epoch 136, Train loss: 9.438925582671834\n"
          ]
        },
        {
          "output_type": "stream",
          "name": "stderr",
          "text": [
            "\r 91%|█████████ | 136/150 [02:36<00:15,  1.12s/it]"
          ]
        },
        {
          "output_type": "stream",
          "name": "stdout",
          "text": [
            "Epoch 136, Test loss: 9.986101722717285\n",
            "Epoch 137, Train loss: 9.470015543643559\n"
          ]
        },
        {
          "output_type": "stream",
          "name": "stderr",
          "text": [
            "\r 91%|█████████▏| 137/150 [02:37<00:15,  1.19s/it]"
          ]
        },
        {
          "output_type": "stream",
          "name": "stdout",
          "text": [
            "Epoch 137, Test loss: 9.986736520131428\n"
          ]
        },
        {
          "output_type": "stream",
          "name": "stderr",
          "text": [
            "\r 92%|█████████▏| 138/150 [02:39<00:14,  1.25s/it]"
          ]
        },
        {
          "output_type": "stream",
          "name": "stdout",
          "text": [
            "Epoch 138, Train loss: 9.472272003922507\n",
            "Epoch 138, Test loss: 9.968040561676025\n"
          ]
        },
        {
          "output_type": "stream",
          "name": "stderr",
          "text": [
            "\r 93%|█████████▎| 139/150 [02:40<00:13,  1.21s/it]"
          ]
        },
        {
          "output_type": "stream",
          "name": "stdout",
          "text": [
            "Epoch 139, Train loss: 9.459497380479474\n",
            "Epoch 139, Test loss: 9.977980709075927\n"
          ]
        },
        {
          "output_type": "stream",
          "name": "stderr",
          "text": [
            "\r 93%|█████████▎| 140/150 [02:41<00:11,  1.17s/it]"
          ]
        },
        {
          "output_type": "stream",
          "name": "stdout",
          "text": [
            "Epoch 140, Train loss: 9.437317197567948\n",
            "Epoch 140, Test loss: 9.968000761667888\n"
          ]
        },
        {
          "output_type": "stream",
          "name": "stderr",
          "text": [
            "\r 94%|█████████▍| 141/150 [02:42<00:10,  1.15s/it]"
          ]
        },
        {
          "output_type": "stream",
          "name": "stdout",
          "text": [
            "Epoch 141, Train loss: 9.557006626485665\n",
            "Epoch 141, Test loss: 9.982317479451497\n",
            "Epoch 142, Train loss: 9.429058841455763\n"
          ]
        },
        {
          "output_type": "stream",
          "name": "stderr",
          "text": [
            "\r 95%|█████████▍| 142/150 [02:43<00:09,  1.14s/it]"
          ]
        },
        {
          "output_type": "stream",
          "name": "stdout",
          "text": [
            "Epoch 142, Test loss: 9.97802791595459\n",
            "Epoch 143, Train loss: 9.45269128318145\n"
          ]
        },
        {
          "output_type": "stream",
          "name": "stderr",
          "text": [
            "\r 95%|█████████▌| 143/150 [02:44<00:07,  1.13s/it]"
          ]
        },
        {
          "output_type": "stream",
          "name": "stdout",
          "text": [
            "Epoch 143, Test loss: 9.973289060592652\n",
            "Epoch 144, Train loss: 9.47125395213332\n"
          ]
        },
        {
          "output_type": "stream",
          "name": "stderr",
          "text": [
            "\r 96%|█████████▌| 144/150 [02:45<00:06,  1.13s/it]"
          ]
        },
        {
          "output_type": "stream",
          "name": "stdout",
          "text": [
            "Epoch 144, Test loss: 9.968409125010172\n"
          ]
        },
        {
          "output_type": "stream",
          "name": "stderr",
          "text": [
            "\r 97%|█████████▋| 145/150 [02:47<00:05,  1.13s/it]"
          ]
        },
        {
          "output_type": "stream",
          "name": "stdout",
          "text": [
            "Epoch 145, Train loss: 9.461791457416854\n",
            "Epoch 145, Test loss: 9.992164198557536\n"
          ]
        },
        {
          "output_type": "stream",
          "name": "stderr",
          "text": [
            "\r 97%|█████████▋| 146/150 [02:48<00:04,  1.12s/it]"
          ]
        },
        {
          "output_type": "stream",
          "name": "stdout",
          "text": [
            "Epoch 146, Train loss: 9.418147844688916\n",
            "Epoch 146, Test loss: 9.980612595876059\n",
            "Epoch 147, Train loss: 9.438986461853313\n"
          ]
        },
        {
          "output_type": "stream",
          "name": "stderr",
          "text": [
            "\r 98%|█████████▊| 147/150 [02:49<00:03,  1.16s/it]"
          ]
        },
        {
          "output_type": "stream",
          "name": "stdout",
          "text": [
            "Epoch 147, Test loss: 9.96747620900472\n",
            "Epoch 148, Train loss: 9.466022353305995\n"
          ]
        },
        {
          "output_type": "stream",
          "name": "stderr",
          "text": [
            "\r 99%|█████████▊| 148/150 [02:50<00:02,  1.27s/it]"
          ]
        },
        {
          "output_type": "stream",
          "name": "stdout",
          "text": [
            "Epoch 148, Test loss: 9.962190087636312\n",
            "Epoch 149, Train loss: 9.40896459160564\n"
          ]
        },
        {
          "output_type": "stream",
          "name": "stderr",
          "text": [
            "\r 99%|█████████▉| 149/150 [02:52<00:01,  1.23s/it]"
          ]
        },
        {
          "output_type": "stream",
          "name": "stdout",
          "text": [
            "Epoch 149, Test loss: 9.989104652404786\n",
            "Epoch 150, Train loss: 9.433659910041595\n"
          ]
        },
        {
          "output_type": "stream",
          "name": "stderr",
          "text": [
            "100%|██████████| 150/150 [02:53<00:00,  1.15s/it]"
          ]
        },
        {
          "output_type": "stream",
          "name": "stdout",
          "text": [
            "Epoch 150, Test loss: 9.962934255599976\n"
          ]
        },
        {
          "output_type": "stream",
          "name": "stderr",
          "text": [
            "\n"
          ]
        }
      ]
    },
    {
      "cell_type": "code",
      "source": [
        "test_model(model, test_loader, device)"
      ],
      "metadata": {
        "colab": {
          "base_uri": "https://localhost:8080/"
        },
        "id": "Rn17dEbzCV_3",
        "outputId": "c13e8036-6c34-4b2c-f385-3cf702b915ca"
      },
      "execution_count": 107,
      "outputs": [
        {
          "output_type": "stream",
          "name": "stdout",
          "text": [
            "Test MAE: 9.973845783869425\n",
            "MAPE for high targets: 0.027982774501045544\n",
            "MAE for low targets: 3.8746155977249144\n"
          ]
        }
      ]
    },
    {
      "cell_type": "code",
      "source": [
        "test_model(model, train_loader, device)"
      ],
      "metadata": {
        "colab": {
          "base_uri": "https://localhost:8080/"
        },
        "id": "_fEcbCP0CYaX",
        "outputId": "666caafb-4846-4dde-c7dc-c67bb20ee840"
      },
      "execution_count": 108,
      "outputs": [
        {
          "output_type": "stream",
          "name": "stdout",
          "text": [
            "Test MAE: 9.447987605478161\n",
            "MAPE for high targets: 0.02773873460975206\n",
            "MAE for low targets: 3.8119984965458094\n"
          ]
        }
      ]
    },
    {
      "cell_type": "code",
      "source": [],
      "metadata": {
        "id": "fW4lhZDvDxDd"
      },
      "execution_count": 106,
      "outputs": []
    },
    {
      "cell_type": "markdown",
      "source": [
        "**Window_size=8:**\n",
        "\n",
        "Test MAE: 9.973845783869425\n",
        "\n",
        "MAPE for high targets: 0.027982774501045544\n",
        "\n",
        "MAE for low targets: 3.8746155977249144\n",
        "\n",
        "\n",
        "**Window_size=4:**\n",
        "\n",
        "Test MAE: 11.927453517913818\n",
        "\n",
        "MAPE for high targets: 0.034039315360132605\n",
        "\n",
        "MAE for low targets: 4.717480376362801\n",
        "\n",
        "\n",
        "**Window_size=2:**\n",
        "\n",
        "Test MAE: 14.734387715657553\n",
        "\n",
        "MAPE for high targets: 0.043267088518901306\n",
        "\n",
        "MAE for low targets: 6.181398203878691"
      ],
      "metadata": {
        "id": "Be5TzOkHKsZS"
      }
    },
    {
      "cell_type": "code",
      "source": [],
      "metadata": {
        "id": "haBqoyAEKxQJ"
      },
      "execution_count": null,
      "outputs": []
    }
  ],
  "metadata": {
    "kernelspec": {
      "display_name": "Python 3",
      "name": "python3"
    },
    "language_info": {
      "codemirror_mode": {
        "name": "ipython",
        "version": 3
      },
      "file_extension": ".py",
      "mimetype": "text/x-python",
      "name": "python",
      "nbconvert_exporter": "python",
      "pygments_lexer": "ipython3",
      "version": "3.11.9"
    },
    "colab": {
      "provenance": [],
      "gpuType": "T4"
    },
    "accelerator": "GPU"
  },
  "nbformat": 4,
  "nbformat_minor": 0
}
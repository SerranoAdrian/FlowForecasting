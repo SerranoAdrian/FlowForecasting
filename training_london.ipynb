{
 "cells": [
  {
   "cell_type": "code",
   "execution_count": 1,
   "metadata": {},
   "outputs": [],
   "source": [
    "%load_ext autoreload\n",
    "%autoreload 2"
   ]
  },
  {
   "cell_type": "code",
   "execution_count": 74,
   "metadata": {},
   "outputs": [],
   "source": [
    "import torch\n",
    "import os\n",
    "import pandas as pd\n",
    "import torch.nn as nn\n",
    "from torch_geometric.data import Data\n",
    "import torch.nn.functional as F\n",
    "from torch_geometric.nn import GCNConv\n",
    "from torch_geometric.loader import DataLoader\n",
    "from torch.utils.data import random_split, Dataset\n",
    " \n",
    "from tqdm import tqdm\n",
    "from utils.london.process_data import build_train_test_loaders, build_train_test_loaders_2\n",
    "from utils.london.training import CustomMAELoss, CustomMAPELoss, test_model, get_flow_forecasting_metrics\n",
    "from utils.london.link_loads import get_graph_attributes, df_to_graph, build_quarter_hour_data, add_missing_nodes, add_missing_nodes_2\n",
    "from utils.london.models import STGCN\n",
    "# import networkx as nx"
   ]
  },
  {
   "cell_type": "markdown",
   "metadata": {},
   "source": [
    "- Charger les csv\n",
    "- Supprimer les horaires 00h - 05h\n",
    "- Les save by jour\n",
    "- Créer la class Dataset qui renvoie le graph actuel avec les flows précédent dans la journée."
   ]
  },
  {
   "cell_type": "code",
   "execution_count": 3,
   "metadata": {},
   "outputs": [],
   "source": [
    "folder_path = \"data/london/\"\n",
    "# Get graph attributes, create dfs from csv, process Link column and ordered dfs by time\n",
    "num_nodes, edge_index, node_mapping, dfs = get_graph_attributes(folder_path)"
   ]
  },
  {
   "cell_type": "markdown",
   "metadata": {},
   "source": [
    "# Training"
   ]
  },
  {
   "cell_type": "code",
   "execution_count": 5,
   "metadata": {},
   "outputs": [],
   "source": [
    "MAE = CustomMAELoss()\n",
    "MAPE = CustomMAPELoss()"
   ]
  },
  {
   "cell_type": "markdown",
   "metadata": {},
   "source": [
    "### GCN + GRU (pas concluant, ne pas run)"
   ]
  },
  {
   "cell_type": "code",
   "execution_count": null,
   "metadata": {},
   "outputs": [],
   "source": [
    "graph_data = []\n",
    "# each df should have the same dimension and same nodes at the same columns\n",
    "for filename, df in dfs.items():\n",
    "    df = add_missing_nodes(df, node_mapping, num_nodes) # add zeros row for missing nodes\n",
    "    df_qhrs = build_quarter_hour_data(df, filename, num_nodes) # retourne 24*4 df avec ses paramètres temporel et le flow\n",
    "    graph_data.extend(df_qhrs)\n",
    "    \n",
    "graphs = [df_to_graph(df, edge_index) for df in graph_data]  # Un graphe par quart d'heure"
   ]
  },
  {
   "cell_type": "code",
   "execution_count": 48,
   "metadata": {},
   "outputs": [],
   "source": [
    "class TGCN(nn.Module):\n",
    "    def __init__(self, node_features, hidden_dim, gru_hidden_dim):\n",
    "        super(TGCN, self).__init__()\n",
    "        self.gcn = GCNConv(node_features, hidden_dim)  # GCN\n",
    "        self.gru = nn.GRU(hidden_dim, gru_hidden_dim, batch_first=True)  # GRU\n",
    "        self.fc = nn.Linear(gru_hidden_dim, 1)  # Prédiction finale\n",
    "\n",
    "    def forward(self, graph_seq):\n",
    "        # window_size = len(graph_seq)  # Nombre de pas de temps\n",
    "        # batch_size = graph_seq[0].x.shape[0]  # Nombre de nœuds\n",
    "\n",
    "        spatial_features = []\n",
    "        for graph in graph_seq:\n",
    "            x = self.gcn(graph.x, graph.edge_index)  # GCN\n",
    "            x = F.relu(x)\n",
    "            spatial_features.append(x)\n",
    "\n",
    "        spatial_features = torch.stack(spatial_features, dim=1)  # (batch, time, hidden_dim)\n",
    "\n",
    "        _ , final_state = self.gru(spatial_features)  # prédiction sur le dernier (1, gru_hidden_dim)\n",
    "        final_state = final_state.squeeze() # (gru_hidden_dim)\n",
    "        final_out = self.fc(final_state) # Prédiction sur le dernier état\n",
    "        final_out = F.relu(final_out)\n",
    "        return final_out"
   ]
  },
  {
   "cell_type": "code",
   "execution_count": 24,
   "metadata": {},
   "outputs": [
    {
     "data": {
      "text/plain": [
       "Data(x=[1187, 10], edge_index=[2, 3946], y=[1187, 1])"
      ]
     },
     "execution_count": 24,
     "metadata": {},
     "output_type": "execute_result"
    }
   ],
   "source": [
    "graphs[0]"
   ]
  },
  {
   "cell_type": "code",
   "execution_count": 50,
   "metadata": {},
   "outputs": [
    {
     "name": "stderr",
     "output_type": "stream",
     "text": [
      "  2%|▏         | 1/50 [00:44<36:16, 44.42s/it]"
     ]
    },
    {
     "name": "stdout",
     "output_type": "stream",
     "text": [
      "Epoch 1, Loss: 256.43267001944605\n"
     ]
    },
    {
     "name": "stderr",
     "output_type": "stream",
     "text": [
      "  4%|▍         | 2/50 [01:29<35:38, 44.55s/it]"
     ]
    },
    {
     "name": "stdout",
     "output_type": "stream",
     "text": [
      "Epoch 2, Loss: 256.43267001944605\n"
     ]
    },
    {
     "name": "stderr",
     "output_type": "stream",
     "text": [
      "  4%|▍         | 2/50 [01:32<36:58, 46.21s/it]\n"
     ]
    },
    {
     "ename": "KeyboardInterrupt",
     "evalue": "",
     "output_type": "error",
     "traceback": [
      "\u001b[1;31m---------------------------------------------------------------------------\u001b[0m",
      "\u001b[1;31mKeyboardInterrupt\u001b[0m                         Traceback (most recent call last)",
      "Cell \u001b[1;32mIn[50], line 18\u001b[0m\n\u001b[0;32m     15\u001b[0m output \u001b[38;5;241m=\u001b[39m output\u001b[38;5;241m.\u001b[39mreshape(target\u001b[38;5;241m.\u001b[39mshape)\n\u001b[0;32m     17\u001b[0m loss \u001b[38;5;241m=\u001b[39m criterion(output, target)\n\u001b[1;32m---> 18\u001b[0m \u001b[43mloss\u001b[49m\u001b[38;5;241;43m.\u001b[39;49m\u001b[43mbackward\u001b[49m\u001b[43m(\u001b[49m\u001b[43m)\u001b[49m\n\u001b[0;32m     19\u001b[0m optimizer\u001b[38;5;241m.\u001b[39mstep()\n\u001b[0;32m     21\u001b[0m total_loss \u001b[38;5;241m+\u001b[39m\u001b[38;5;241m=\u001b[39m loss\u001b[38;5;241m.\u001b[39mitem()\n",
      "File \u001b[1;32mc:\\Users\\Adrian Serrano\\Documents\\Alstom Projet\\venv\\Lib\\site-packages\\torch\\_tensor.py:626\u001b[0m, in \u001b[0;36mTensor.backward\u001b[1;34m(self, gradient, retain_graph, create_graph, inputs)\u001b[0m\n\u001b[0;32m    616\u001b[0m \u001b[38;5;28;01mif\u001b[39;00m has_torch_function_unary(\u001b[38;5;28mself\u001b[39m):\n\u001b[0;32m    617\u001b[0m     \u001b[38;5;28;01mreturn\u001b[39;00m handle_torch_function(\n\u001b[0;32m    618\u001b[0m         Tensor\u001b[38;5;241m.\u001b[39mbackward,\n\u001b[0;32m    619\u001b[0m         (\u001b[38;5;28mself\u001b[39m,),\n\u001b[1;32m   (...)\u001b[0m\n\u001b[0;32m    624\u001b[0m         inputs\u001b[38;5;241m=\u001b[39minputs,\n\u001b[0;32m    625\u001b[0m     )\n\u001b[1;32m--> 626\u001b[0m \u001b[43mtorch\u001b[49m\u001b[38;5;241;43m.\u001b[39;49m\u001b[43mautograd\u001b[49m\u001b[38;5;241;43m.\u001b[39;49m\u001b[43mbackward\u001b[49m\u001b[43m(\u001b[49m\n\u001b[0;32m    627\u001b[0m \u001b[43m    \u001b[49m\u001b[38;5;28;43mself\u001b[39;49m\u001b[43m,\u001b[49m\u001b[43m \u001b[49m\u001b[43mgradient\u001b[49m\u001b[43m,\u001b[49m\u001b[43m \u001b[49m\u001b[43mretain_graph\u001b[49m\u001b[43m,\u001b[49m\u001b[43m \u001b[49m\u001b[43mcreate_graph\u001b[49m\u001b[43m,\u001b[49m\u001b[43m \u001b[49m\u001b[43minputs\u001b[49m\u001b[38;5;241;43m=\u001b[39;49m\u001b[43minputs\u001b[49m\n\u001b[0;32m    628\u001b[0m \u001b[43m\u001b[49m\u001b[43m)\u001b[49m\n",
      "File \u001b[1;32mc:\\Users\\Adrian Serrano\\Documents\\Alstom Projet\\venv\\Lib\\site-packages\\torch\\autograd\\__init__.py:347\u001b[0m, in \u001b[0;36mbackward\u001b[1;34m(tensors, grad_tensors, retain_graph, create_graph, grad_variables, inputs)\u001b[0m\n\u001b[0;32m    342\u001b[0m     retain_graph \u001b[38;5;241m=\u001b[39m create_graph\n\u001b[0;32m    344\u001b[0m \u001b[38;5;66;03m# The reason we repeat the same comment below is that\u001b[39;00m\n\u001b[0;32m    345\u001b[0m \u001b[38;5;66;03m# some Python versions print out the first line of a multi-line function\u001b[39;00m\n\u001b[0;32m    346\u001b[0m \u001b[38;5;66;03m# calls in the traceback and some print out the last line\u001b[39;00m\n\u001b[1;32m--> 347\u001b[0m \u001b[43m_engine_run_backward\u001b[49m\u001b[43m(\u001b[49m\n\u001b[0;32m    348\u001b[0m \u001b[43m    \u001b[49m\u001b[43mtensors\u001b[49m\u001b[43m,\u001b[49m\n\u001b[0;32m    349\u001b[0m \u001b[43m    \u001b[49m\u001b[43mgrad_tensors_\u001b[49m\u001b[43m,\u001b[49m\n\u001b[0;32m    350\u001b[0m \u001b[43m    \u001b[49m\u001b[43mretain_graph\u001b[49m\u001b[43m,\u001b[49m\n\u001b[0;32m    351\u001b[0m \u001b[43m    \u001b[49m\u001b[43mcreate_graph\u001b[49m\u001b[43m,\u001b[49m\n\u001b[0;32m    352\u001b[0m \u001b[43m    \u001b[49m\u001b[43minputs\u001b[49m\u001b[43m,\u001b[49m\n\u001b[0;32m    353\u001b[0m \u001b[43m    \u001b[49m\u001b[43mallow_unreachable\u001b[49m\u001b[38;5;241;43m=\u001b[39;49m\u001b[38;5;28;43;01mTrue\u001b[39;49;00m\u001b[43m,\u001b[49m\n\u001b[0;32m    354\u001b[0m \u001b[43m    \u001b[49m\u001b[43maccumulate_grad\u001b[49m\u001b[38;5;241;43m=\u001b[39;49m\u001b[38;5;28;43;01mTrue\u001b[39;49;00m\u001b[43m,\u001b[49m\n\u001b[0;32m    355\u001b[0m \u001b[43m\u001b[49m\u001b[43m)\u001b[49m\n",
      "File \u001b[1;32mc:\\Users\\Adrian Serrano\\Documents\\Alstom Projet\\venv\\Lib\\site-packages\\torch\\autograd\\graph.py:823\u001b[0m, in \u001b[0;36m_engine_run_backward\u001b[1;34m(t_outputs, *args, **kwargs)\u001b[0m\n\u001b[0;32m    821\u001b[0m     unregister_hooks \u001b[38;5;241m=\u001b[39m _register_logging_hooks_on_whole_graph(t_outputs)\n\u001b[0;32m    822\u001b[0m \u001b[38;5;28;01mtry\u001b[39;00m:\n\u001b[1;32m--> 823\u001b[0m     \u001b[38;5;28;01mreturn\u001b[39;00m \u001b[43mVariable\u001b[49m\u001b[38;5;241;43m.\u001b[39;49m\u001b[43m_execution_engine\u001b[49m\u001b[38;5;241;43m.\u001b[39;49m\u001b[43mrun_backward\u001b[49m\u001b[43m(\u001b[49m\u001b[43m  \u001b[49m\u001b[38;5;66;43;03m# Calls into the C++ engine to run the backward pass\u001b[39;49;00m\n\u001b[0;32m    824\u001b[0m \u001b[43m        \u001b[49m\u001b[43mt_outputs\u001b[49m\u001b[43m,\u001b[49m\u001b[43m \u001b[49m\u001b[38;5;241;43m*\u001b[39;49m\u001b[43margs\u001b[49m\u001b[43m,\u001b[49m\u001b[43m \u001b[49m\u001b[38;5;241;43m*\u001b[39;49m\u001b[38;5;241;43m*\u001b[39;49m\u001b[43mkwargs\u001b[49m\n\u001b[0;32m    825\u001b[0m \u001b[43m    \u001b[49m\u001b[43m)\u001b[49m  \u001b[38;5;66;03m# Calls into the C++ engine to run the backward pass\u001b[39;00m\n\u001b[0;32m    826\u001b[0m \u001b[38;5;28;01mfinally\u001b[39;00m:\n\u001b[0;32m    827\u001b[0m     \u001b[38;5;28;01mif\u001b[39;00m attach_logging_hooks:\n",
      "\u001b[1;31mKeyboardInterrupt\u001b[0m: "
     ]
    }
   ],
   "source": [
    "model = TGCN(node_features=10, hidden_dim=32, gru_hidden_dim=64)\n",
    "\n",
    "optimizer = torch.optim.Adam(model.parameters(), lr=0.001)\n",
    "criterion = MAE\n",
    "\n",
    "# Boucle d'entraînement\n",
    "for epoch in tqdm(range(50)):\n",
    "    model.train()\n",
    "    total_loss = 0\n",
    "    for graph_seq, target in train_loader:\n",
    "        optimizer.zero_grad()\n",
    "        output = model(graph_seq)\n",
    "\n",
    "        target = target.squeeze()\n",
    "        output = output.reshape(target.shape)\n",
    "    \n",
    "        loss = criterion(output, target)\n",
    "        loss.backward()\n",
    "        optimizer.step()\n",
    "        \n",
    "        total_loss += loss.item()\n",
    "    \n",
    "    print(f\"Epoch {epoch+1}, Loss: {total_loss / len(train_loader)}\")\n"
   ]
  },
  {
   "cell_type": "code",
   "execution_count": 19,
   "metadata": {},
   "outputs": [
    {
     "name": "stdout",
     "output_type": "stream",
     "text": [
      "Test MAE: 204.33262727453592\n"
     ]
    }
   ],
   "source": [
    "model.eval()\n",
    "test_loss = 0\n",
    "with torch.no_grad():\n",
    "    for graph_seq, target in test_loader:\n",
    "\n",
    "        output = model(graph_seq)\n",
    "        loss = criterion(output, target)\n",
    "        test_loss += loss.item()\n",
    "\n",
    "print(f\"Test MAE: {test_loss / len(test_loader)}\")\n"
   ]
  },
  {
   "cell_type": "code",
   "execution_count": 22,
   "metadata": {},
   "outputs": [
    {
     "data": {
      "text/plain": [
       "336.8573797678275"
      ]
     },
     "execution_count": 22,
     "metadata": {},
     "output_type": "execute_result"
    }
   ],
   "source": [
    "39e6/(96*1206)"
   ]
  },
  {
   "cell_type": "markdown",
   "metadata": {},
   "source": [
    "The average flow per inter_station per 15min is 337. So 204 MAE error is not a valid result."
   ]
  },
  {
   "cell_type": "markdown",
   "metadata": {},
   "source": [
    "### GCN with past flows as node features"
   ]
  },
  {
   "cell_type": "code",
   "execution_count": 76,
   "metadata": {},
   "outputs": [],
   "source": [
    "graph_data = []\n",
    "# each df should have the same dimension and same nodes at the same columns\n",
    "for filename, df in dfs.items():\n",
    "    df = add_missing_nodes(df, node_mapping, num_nodes) # add zeros row for missing nodes\n",
    "    df_qhrs = build_quarter_hour_data(df, filename, num_nodes) # retourne 24*4 df avec ses paramètres temporel et le flow\n",
    "    graph_data.extend(df_qhrs)\n",
    "    \n",
    "graphs = [df_to_graph(df, edge_index) for df in graph_data]  # Un graphe par quart d'heure\n",
    "\n",
    "window_size=4\n",
    "\n",
    "train_loader, test_loader = build_train_test_loaders(graphs, window_size)"
   ]
  },
  {
   "cell_type": "code",
   "execution_count": 56,
   "metadata": {},
   "outputs": [
    {
     "name": "stdout",
     "output_type": "stream",
     "text": [
      "En utilisant la dernière valeur du flow comme prédiction :\n",
      "Test MAE: 21.719919204711914\n"
     ]
    }
   ],
   "source": [
    "loss_mae = 0\n",
    "for graph, temporal_features in test_loader:\n",
    "    output = graph.x[:,-1]\n",
    "    output = output.unsqueeze(-1)\n",
    "    target = graph.y\n",
    "\n",
    "    loss_mae += MAE(output, target)\n",
    "\n",
    "print(\"En utilisant la dernière valeur du flow comme prédiction :\")\n",
    "print(f\"Test MAE: {loss_mae / len(test_loader)}\")"
   ]
  },
  {
   "cell_type": "code",
   "execution_count": null,
   "metadata": {},
   "outputs": [
    {
     "name": "stdout",
     "output_type": "stream",
     "text": [
      "En utilisant la dernière valeur du flow comme prédiction :\n",
      "Test MAE: 21.719919204711914\n",
      "Test MAPE: 10603051.0\n"
     ]
    }
   ],
   "source": [
    "def is_nan_or_empty(tensor):\n",
    "    return tensor.numel() == 0 or torch.isnan(tensor).all()\n",
    "\n",
    "loss_mae = 0\n",
    "loss_mape = 0\n",
    "for graph, temporal_features in test_loader:\n",
    "    output = graph.x[:,-1]\n",
    "    output = output.unsqueeze(-1)\n",
    "    target = graph.y\n",
    "\n",
    "    maskP = target >= 1\n",
    "    countP = maskP.sum().item()\n",
    "\n",
    "    outputP = output[maskP]\n",
    "    targetP = target[maskP]\n",
    "\n",
    "    if not (is_nan_or_empty(outputP) or is_nan_or_empty(targetP)):\n",
    "        loss_mae += MAE(outputP, targetP)\n",
    "        loss_mape += MAPE(outputP, targetP)\n",
    "\n",
    "print(\"En utilisant la dernière valeur du flow comme prédiction :\")\n",
    "print(f\"Test MAE: {loss_mae / len(test_loader)}\")\n",
    "print(f\"Test MAPE: {loss_mape / len(test_loader)}\")"
   ]
  },
  {
   "cell_type": "markdown",
   "metadata": {},
   "source": [
    "MAPE pas de sens ici à cause des valeurs nulles"
   ]
  },
  {
   "cell_type": "code",
   "execution_count": 72,
   "metadata": {},
   "outputs": [],
   "source": [
    "from utils.london.models import STGCN"
   ]
  },
  {
   "cell_type": "markdown",
   "metadata": {},
   "source": [
    "Compliqué d'utiliser la MAPE car trop de targets égale ou proche de zéro"
   ]
  },
  {
   "cell_type": "markdown",
   "metadata": {},
   "source": [
    "### GCN 0500-0000 flows"
   ]
  },
  {
   "cell_type": "code",
   "execution_count": null,
   "metadata": {},
   "outputs": [],
   "source": [
    "window_size = 4"
   ]
  },
  {
   "cell_type": "code",
   "execution_count": null,
   "metadata": {},
   "outputs": [],
   "source": [
    "# Build the Data loader\n",
    "graph_data = []\n",
    "# each df should have the same dimension and same nodes at the same columns\n",
    "for filename, df in dfs.items():\n",
    "    df = add_missing_nodes_2(df, node_mapping, num_nodes) # add zeros row for missing nodes\n",
    "    df_qhrs = build_quarter_hour_data(df, filename, num_nodes) # retourne 24*4 df avec ses paramètres temporel et le flow\n",
    "    graph_data.append(df_qhrs)\n",
    "graphs = [[df_to_graph(df, edge_index) for df in graph_data[i]] for i in range(len(graph_data))]  # Un graphe par quart d'heure\n",
    "\n",
    "train_loader, test_loader = build_train_test_loaders_2(graphs, window_size, train_split=0.8)"
   ]
  },
  {
   "cell_type": "code",
   "execution_count": 80,
   "metadata": {},
   "outputs": [
    {
     "name": "stdout",
     "output_type": "stream",
     "text": [
      "En utilisant la dernière valeur du flow comme prédiction :\n",
      "Test MAE: 25.606801986694336\n",
      "MAPE for high targets: 0.07953206485226041\n",
      "MAE for low targets: 8.892926892590902\n"
     ]
    }
   ],
   "source": [
    "# Performance de la Baseline (prédiction du dernier flow)\n",
    "loss_mae = 0\n",
    "loss_mape = 0\n",
    "count_total = 0\n",
    "MAPE_high_target = 0\n",
    "MAE_low_target = 0\n",
    "\n",
    "for graph, temporal_features in test_loader:\n",
    "    output = graph.x[:,-1]\n",
    "    output = output.unsqueeze(-1)\n",
    "    target = graph.y\n",
    "    loss_mae += MAE(output, target)\n",
    "    loss_mape += MAPE(output, target)\n",
    "    MAPE_high_target_ , MAE_low_target_ = get_flow_forecasting_metrics(output, target)\n",
    "    MAPE_high_target += float(MAPE_high_target_)\n",
    "    MAE_low_target += float(MAE_low_target_)\n",
    "\n",
    "print(\"En utilisant la dernière valeur du flow comme prédiction :\")\n",
    "print(f\"Test MAE: {loss_mae / len(test_loader)}\")\n",
    "\n",
    "print(f\"MAPE for high targets: {MAPE_high_target / len(test_loader)}\")\n",
    "print(f\"MAE for low targets: {MAE_low_target/ len(test_loader)}\")"
   ]
  },
  {
   "cell_type": "markdown",
   "metadata": {},
   "source": [
    "L'objectif étant de faire mieux que cette base\n",
    "\n",
    "Ci dessous voici les performances de la baseline sans prendre en compte les valeurs nulles "
   ]
  },
  {
   "cell_type": "code",
   "execution_count": 81,
   "metadata": {},
   "outputs": [
    {
     "name": "stdout",
     "output_type": "stream",
     "text": [
      "En utilisant la dernière valeur du flow comme prédiction :\n",
      "Test MAE: 27.599388122558594\n",
      "Test MAPE: 0.11298688501119614\n"
     ]
    }
   ],
   "source": [
    "def is_nan_or_empty(tensor):\n",
    "    return tensor.numel() == 0 or torch.isnan(tensor).all()\n",
    "\n",
    "loss_mae = 0\n",
    "loss_mape = 0\n",
    "for graph, temporal_features in test_loader:\n",
    "    output = graph.x[:,-1]\n",
    "    output = output.unsqueeze(-1)\n",
    "    target = graph.y\n",
    "\n",
    "    maskP = target >= 1\n",
    "    countP = maskP.sum().item()\n",
    "\n",
    "    outputP = output[maskP]\n",
    "    targetP = target[maskP]\n",
    "\n",
    "    if not (is_nan_or_empty(outputP) or is_nan_or_empty(targetP)):\n",
    "        loss_mae += MAE(outputP, targetP)\n",
    "        loss_mape += MAPE(outputP, targetP)\n",
    "\n",
    "print(\"En utilisant la dernière valeur du flow comme prédiction :\")\n",
    "print(f\"Test MAE: {loss_mae / len(test_loader)}\")\n",
    "print(f\"Test MAPE: {loss_mape / len(test_loader)}\")"
   ]
  },
  {
   "cell_type": "markdown",
   "metadata": {},
   "source": [
    "Training:"
   ]
  },
  {
   "cell_type": "code",
   "execution_count": 62,
   "metadata": {},
   "outputs": [
    {
     "name": "stderr",
     "output_type": "stream",
     "text": [
      "  0%|          | 0/40 [00:00<?, ?it/s]"
     ]
    },
    {
     "name": "stdout",
     "output_type": "stream",
     "text": [
      "Epoch 1, Train loss: 54.167442801992095\n"
     ]
    },
    {
     "name": "stderr",
     "output_type": "stream",
     "text": [
      "  2%|▎         | 1/40 [00:12<08:18, 12.78s/it]"
     ]
    },
    {
     "name": "stdout",
     "output_type": "stream",
     "text": [
      "Epoch 1, Test loss: 41.58388015769777\n",
      "Epoch 2, Train loss: 25.251665850083032\n"
     ]
    },
    {
     "name": "stderr",
     "output_type": "stream",
     "text": [
      "  5%|▌         | 2/40 [00:25<08:02, 12.70s/it]"
     ]
    },
    {
     "name": "stdout",
     "output_type": "stream",
     "text": [
      "Epoch 2, Test loss: 28.55311142168348\n",
      "Epoch 3, Train loss: 21.58821921394931\n"
     ]
    },
    {
     "name": "stderr",
     "output_type": "stream",
     "text": [
      "  8%|▊         | 3/40 [00:38<07:47, 12.65s/it]"
     ]
    },
    {
     "name": "stdout",
     "output_type": "stream",
     "text": [
      "Epoch 3, Test loss: 21.52454819660338\n",
      "Epoch 4, Train loss: 21.167349662449624\n"
     ]
    },
    {
     "name": "stderr",
     "output_type": "stream",
     "text": [
      " 10%|█         | 4/40 [00:50<07:28, 12.47s/it]"
     ]
    },
    {
     "name": "stdout",
     "output_type": "stream",
     "text": [
      "Epoch 4, Test loss: 23.653514765557787\n",
      "Epoch 5, Train loss: 19.96622193588151\n"
     ]
    },
    {
     "name": "stderr",
     "output_type": "stream",
     "text": [
      " 12%|█▎        | 5/40 [01:02<07:20, 12.58s/it]"
     ]
    },
    {
     "name": "stdout",
     "output_type": "stream",
     "text": [
      "Epoch 5, Test loss: 48.8501984789258\n",
      "Epoch 6, Train loss: 19.118944511678485\n"
     ]
    },
    {
     "name": "stderr",
     "output_type": "stream",
     "text": [
      " 15%|█▌        | 6/40 [01:15<07:03, 12.47s/it]"
     ]
    },
    {
     "name": "stdout",
     "output_type": "stream",
     "text": [
      "Epoch 6, Test loss: 16.448193270062642\n",
      "Epoch 7, Train loss: 18.46279911822743\n"
     ]
    },
    {
     "name": "stderr",
     "output_type": "stream",
     "text": [
      " 18%|█▊        | 7/40 [01:27<06:52, 12.49s/it]"
     ]
    },
    {
     "name": "stdout",
     "output_type": "stream",
     "text": [
      "Epoch 7, Test loss: 19.120467701601605\n",
      "Epoch 8, Train loss: 17.789698293473986\n"
     ]
    },
    {
     "name": "stderr",
     "output_type": "stream",
     "text": [
      " 20%|██        | 8/40 [01:41<06:56, 13.00s/it]"
     ]
    },
    {
     "name": "stdout",
     "output_type": "stream",
     "text": [
      "Epoch 8, Test loss: 16.65023925380101\n",
      "Epoch 9, Train loss: 17.544275930325192\n"
     ]
    },
    {
     "name": "stderr",
     "output_type": "stream",
     "text": [
      " 22%|██▎       | 9/40 [01:55<06:50, 13.25s/it]"
     ]
    },
    {
     "name": "stdout",
     "output_type": "stream",
     "text": [
      "Epoch 9, Test loss: 15.640947870791905\n",
      "Epoch 10, Train loss: 17.257353654172686\n"
     ]
    },
    {
     "name": "stderr",
     "output_type": "stream",
     "text": [
      " 25%|██▌       | 10/40 [02:10<06:47, 13.60s/it]"
     ]
    },
    {
     "name": "stdout",
     "output_type": "stream",
     "text": [
      "Epoch 10, Test loss: 19.62478662483276\n",
      "Epoch 11, Train loss: 16.781671764453254\n"
     ]
    },
    {
     "name": "stderr",
     "output_type": "stream",
     "text": [
      " 28%|██▊       | 11/40 [02:24<06:43, 13.90s/it]"
     ]
    },
    {
     "name": "stdout",
     "output_type": "stream",
     "text": [
      "Epoch 11, Test loss: 17.619659789970942\n",
      "Epoch 12, Train loss: 16.27749208410581\n"
     ]
    },
    {
     "name": "stderr",
     "output_type": "stream",
     "text": [
      " 30%|███       | 12/40 [02:37<06:23, 13.69s/it]"
     ]
    },
    {
     "name": "stdout",
     "output_type": "stream",
     "text": [
      "Epoch 12, Test loss: 18.11995284614109\n",
      "Epoch 13, Train loss: 16.065966775682238\n"
     ]
    },
    {
     "name": "stderr",
     "output_type": "stream",
     "text": [
      " 32%|███▎      | 13/40 [02:51<06:05, 13.54s/it]"
     ]
    },
    {
     "name": "stdout",
     "output_type": "stream",
     "text": [
      "Epoch 13, Test loss: 15.741151277035001\n",
      "Epoch 14, Train loss: 15.77997898168034\n"
     ]
    },
    {
     "name": "stderr",
     "output_type": "stream",
     "text": [
      " 35%|███▌      | 14/40 [03:04<05:53, 13.59s/it]"
     ]
    },
    {
     "name": "stdout",
     "output_type": "stream",
     "text": [
      "Epoch 14, Test loss: 16.768876262127407\n",
      "Epoch 15, Train loss: 15.48186709801356\n"
     ]
    },
    {
     "name": "stderr",
     "output_type": "stream",
     "text": [
      " 38%|███▊      | 15/40 [03:19<05:47, 13.91s/it]"
     ]
    },
    {
     "name": "stdout",
     "output_type": "stream",
     "text": [
      "Epoch 15, Test loss: 15.537602445435903\n",
      "Epoch 16, Train loss: 15.381965994238854\n"
     ]
    },
    {
     "name": "stderr",
     "output_type": "stream",
     "text": [
      " 40%|████      | 16/40 [03:32<05:31, 13.79s/it]"
     ]
    },
    {
     "name": "stdout",
     "output_type": "stream",
     "text": [
      "Epoch 16, Test loss: 16.61589541889372\n",
      "Epoch 17, Train loss: 15.206965702639685\n"
     ]
    },
    {
     "name": "stderr",
     "output_type": "stream",
     "text": [
      " 42%|████▎     | 17/40 [03:46<05:15, 13.70s/it]"
     ]
    },
    {
     "name": "stdout",
     "output_type": "stream",
     "text": [
      "Epoch 17, Test loss: 15.306659356942253\n",
      "Epoch 18, Train loss: 14.99537176390489\n"
     ]
    },
    {
     "name": "stderr",
     "output_type": "stream",
     "text": [
      " 45%|████▌     | 18/40 [03:59<04:57, 13.52s/it]"
     ]
    },
    {
     "name": "stdout",
     "output_type": "stream",
     "text": [
      "Epoch 18, Test loss: 16.32672848020281\n",
      "Epoch 19, Train loss: 14.965392738315794\n"
     ]
    },
    {
     "name": "stderr",
     "output_type": "stream",
     "text": [
      " 48%|████▊     | 19/40 [04:13<04:47, 13.70s/it]"
     ]
    },
    {
     "name": "stdout",
     "output_type": "stream",
     "text": [
      "Epoch 19, Test loss: 14.530782161250947\n",
      "Epoch 20, Train loss: 15.056082403792276\n"
     ]
    },
    {
     "name": "stderr",
     "output_type": "stream",
     "text": [
      " 50%|█████     | 20/40 [04:27<04:35, 13.76s/it]"
     ]
    },
    {
     "name": "stdout",
     "output_type": "stream",
     "text": [
      "Epoch 20, Test loss: 15.865970590757945\n",
      "Epoch 21, Train loss: 14.690972263746792\n"
     ]
    },
    {
     "name": "stderr",
     "output_type": "stream",
     "text": [
      " 52%|█████▎    | 21/40 [04:41<04:21, 13.79s/it]"
     ]
    },
    {
     "name": "stdout",
     "output_type": "stream",
     "text": [
      "Epoch 21, Test loss: 14.546299063024067\n",
      "Epoch 22, Train loss: 14.691628903150558\n"
     ]
    },
    {
     "name": "stderr",
     "output_type": "stream",
     "text": [
      " 55%|█████▌    | 22/40 [04:55<04:10, 13.89s/it]"
     ]
    },
    {
     "name": "stdout",
     "output_type": "stream",
     "text": [
      "Epoch 22, Test loss: 14.336120741707939\n",
      "Epoch 23, Train loss: 14.500842465824551\n"
     ]
    },
    {
     "name": "stderr",
     "output_type": "stream",
     "text": [
      " 57%|█████▊    | 23/40 [05:08<03:53, 13.73s/it]"
     ]
    },
    {
     "name": "stdout",
     "output_type": "stream",
     "text": [
      "Epoch 23, Test loss: 14.620046994988881\n",
      "Epoch 24, Train loss: 14.459599263204469\n"
     ]
    },
    {
     "name": "stderr",
     "output_type": "stream",
     "text": [
      " 60%|██████    | 24/40 [05:22<03:40, 13.77s/it]"
     ]
    },
    {
     "name": "stdout",
     "output_type": "stream",
     "text": [
      "Epoch 24, Test loss: 14.517987970321897\n",
      "Epoch 25, Train loss: 14.37418145901627\n"
     ]
    },
    {
     "name": "stderr",
     "output_type": "stream",
     "text": [
      " 62%|██████▎   | 25/40 [05:36<03:27, 13.81s/it]"
     ]
    },
    {
     "name": "stdout",
     "output_type": "stream",
     "text": [
      "Epoch 25, Test loss: 14.396348956085387\n",
      "Epoch 26, Train loss: 14.252918655342526\n"
     ]
    },
    {
     "name": "stderr",
     "output_type": "stream",
     "text": [
      " 65%|██████▌   | 26/40 [05:50<03:14, 13.89s/it]"
     ]
    },
    {
     "name": "stdout",
     "output_type": "stream",
     "text": [
      "Epoch 26, Test loss: 14.426431864026993\n",
      "Epoch 27, Train loss: 14.288962988654772\n"
     ]
    },
    {
     "name": "stderr",
     "output_type": "stream",
     "text": [
      " 68%|██████▊   | 27/40 [06:04<03:00, 13.88s/it]"
     ]
    },
    {
     "name": "stdout",
     "output_type": "stream",
     "text": [
      "Epoch 27, Test loss: 13.997317758817521\n",
      "Epoch 28, Train loss: 14.1403425715367\n"
     ]
    },
    {
     "name": "stderr",
     "output_type": "stream",
     "text": [
      " 70%|███████   | 28/40 [06:18<02:45, 13.81s/it]"
     ]
    },
    {
     "name": "stdout",
     "output_type": "stream",
     "text": [
      "Epoch 28, Test loss: 13.678228517373404\n",
      "Epoch 29, Train loss: 14.062402490244972\n"
     ]
    },
    {
     "name": "stderr",
     "output_type": "stream",
     "text": [
      " 72%|███████▎  | 29/40 [06:31<02:31, 13.77s/it]"
     ]
    },
    {
     "name": "stdout",
     "output_type": "stream",
     "text": [
      "Epoch 29, Test loss: 15.37124216367328\n",
      "Epoch 30, Train loss: 14.070305108361774\n"
     ]
    },
    {
     "name": "stderr",
     "output_type": "stream",
     "text": [
      " 75%|███████▌  | 30/40 [06:45<02:16, 13.63s/it]"
     ]
    },
    {
     "name": "stdout",
     "output_type": "stream",
     "text": [
      "Epoch 30, Test loss: 14.724957771717555\n",
      "Epoch 31, Train loss: 14.069366447263294\n"
     ]
    },
    {
     "name": "stderr",
     "output_type": "stream",
     "text": [
      " 78%|███████▊  | 31/40 [06:58<02:01, 13.53s/it]"
     ]
    },
    {
     "name": "stdout",
     "output_type": "stream",
     "text": [
      "Epoch 31, Test loss: 21.493658317459953\n",
      "Epoch 32, Train loss: 13.939250790543026\n"
     ]
    },
    {
     "name": "stderr",
     "output_type": "stream",
     "text": [
      " 80%|████████  | 32/40 [07:12<01:49, 13.67s/it]"
     ]
    },
    {
     "name": "stdout",
     "output_type": "stream",
     "text": [
      "Epoch 32, Test loss: 13.6628881976718\n",
      "Epoch 33, Train loss: 13.838764766454696\n"
     ]
    },
    {
     "name": "stderr",
     "output_type": "stream",
     "text": [
      " 82%|████████▎ | 33/40 [07:26<01:36, 13.77s/it]"
     ]
    },
    {
     "name": "stdout",
     "output_type": "stream",
     "text": [
      "Epoch 33, Test loss: 13.60049914840668\n",
      "Epoch 34, Train loss: 13.832178631424904\n"
     ]
    },
    {
     "name": "stderr",
     "output_type": "stream",
     "text": [
      " 85%|████████▌ | 34/40 [07:39<01:20, 13.50s/it]"
     ]
    },
    {
     "name": "stdout",
     "output_type": "stream",
     "text": [
      "Epoch 34, Test loss: 13.42165640233055\n",
      "Epoch 35, Train loss: 13.803959863517019\n"
     ]
    },
    {
     "name": "stderr",
     "output_type": "stream",
     "text": [
      " 88%|████████▊ | 35/40 [07:52<01:07, 13.50s/it]"
     ]
    },
    {
     "name": "stdout",
     "output_type": "stream",
     "text": [
      "Epoch 35, Test loss: 13.893571951086559\n",
      "Epoch 36, Train loss: 13.722033793330192\n"
     ]
    },
    {
     "name": "stderr",
     "output_type": "stream",
     "text": [
      " 90%|█████████ | 36/40 [08:06<00:53, 13.47s/it]"
     ]
    },
    {
     "name": "stdout",
     "output_type": "stream",
     "text": [
      "Epoch 36, Test loss: 13.606095295103769\n",
      "Epoch 37, Train loss: 13.698342640399932\n"
     ]
    },
    {
     "name": "stderr",
     "output_type": "stream",
     "text": [
      " 92%|█████████▎| 37/40 [08:19<00:40, 13.55s/it]"
     ]
    },
    {
     "name": "stdout",
     "output_type": "stream",
     "text": [
      "Epoch 37, Test loss: 13.368614198669555\n",
      "Epoch 38, Train loss: 13.610257859693633\n"
     ]
    },
    {
     "name": "stderr",
     "output_type": "stream",
     "text": [
      " 95%|█████████▌| 38/40 [08:33<00:26, 13.46s/it]"
     ]
    },
    {
     "name": "stdout",
     "output_type": "stream",
     "text": [
      "Epoch 38, Test loss: 13.660896953609255\n",
      "Epoch 39, Train loss: 13.66883452547921\n"
     ]
    },
    {
     "name": "stderr",
     "output_type": "stream",
     "text": [
      " 98%|█████████▊| 39/40 [08:48<00:13, 13.86s/it]"
     ]
    },
    {
     "name": "stdout",
     "output_type": "stream",
     "text": [
      "Epoch 39, Test loss: 13.398941166344143\n",
      "Epoch 40, Train loss: 13.539169350597593\n"
     ]
    },
    {
     "name": "stderr",
     "output_type": "stream",
     "text": [
      "100%|██████████| 40/40 [09:00<00:00, 13.52s/it]"
     ]
    },
    {
     "name": "stdout",
     "output_type": "stream",
     "text": [
      "Epoch 40, Test loss: 13.348775732138801\n"
     ]
    },
    {
     "name": "stderr",
     "output_type": "stream",
     "text": [
      "\n"
     ]
    }
   ],
   "source": [
    "from utils.london.models import STGCN\n",
    "model = STGCN(node_features=window_size, hidden_dim=32)\n",
    "\n",
    "optimizer = torch.optim.Adam(model.parameters(), lr=0.005)\n",
    "scheduler = torch.optim.lr_scheduler.ExponentialLR(optimizer, gamma=0.95)\n",
    "criterion = MAE\n",
    "\n",
    "num_epochs = 40\n",
    "\n",
    "# Boucle d'entraînement\n",
    "for epoch in tqdm(range(num_epochs)):\n",
    "    model.train()\n",
    "    train_loss = 0\n",
    "    for graph, temporal_features in train_loader:\n",
    "        temporal_features = temporal_features.squeeze()\n",
    "        optimizer.zero_grad()\n",
    "        output = model(graph, temporal_features)\n",
    "        target = graph.y    \n",
    "        loss = criterion(output, target)\n",
    "        loss.backward()\n",
    "        optimizer.step()        \n",
    "        train_loss += loss.item()\n",
    "\n",
    "    scheduler.step()\n",
    "    \n",
    "    print(f\"Epoch {epoch+1}, Train loss: {train_loss / len(train_loader)}\")\n",
    "\n",
    "    # Évaluation sur le jeu de test\n",
    "    model.eval()\n",
    "    test_loss = 0\n",
    "    with torch.no_grad():  # Désactivation des gradients pour l'évaluation\n",
    "        for graph, temporal_features in test_loader:\n",
    "            temporal_features = temporal_features.squeeze()  # Squeeze si nécessaire\n",
    "            output = model(graph, temporal_features)  # Assure-toi de passer aussi les temporal_features\n",
    "            target = graph.y\n",
    "            loss = criterion(output, target)\n",
    "            test_loss += loss.item()\n",
    "\n",
    "    print(f\"Epoch {epoch+1}, Test loss: {test_loss / len(test_loader)}\")"
   ]
  },
  {
   "cell_type": "code",
   "execution_count": 75,
   "metadata": {},
   "outputs": [
    {
     "name": "stdout",
     "output_type": "stream",
     "text": [
      "En utilisant la dernière valeur du flow comme prédiction :\n",
      "Test MAE: 13.34877872467041\n",
      "MAPE for high targets: 0.04043212597302738\n",
      "MAE for low targets: 5.580125929817321\n"
     ]
    }
   ],
   "source": [
    "test_model(model, test_loader)"
   ]
  },
  {
   "cell_type": "markdown",
   "metadata": {},
   "source": [
    "### Improve the last model"
   ]
  },
  {
   "cell_type": "code",
   "execution_count": 83,
   "metadata": {},
   "outputs": [
    {
     "name": "stderr",
     "output_type": "stream",
     "text": [
      "  0%|          | 0/40 [00:00<?, ?it/s]"
     ]
    },
    {
     "name": "stdout",
     "output_type": "stream",
     "text": [
      "Epoch 1, Train loss: 47.711316373811826\n"
     ]
    },
    {
     "name": "stderr",
     "output_type": "stream",
     "text": [
      "  2%|▎         | 1/40 [00:11<07:36, 11.70s/it]"
     ]
    },
    {
     "name": "stdout",
     "output_type": "stream",
     "text": [
      "Epoch 1, Test loss: 35.55752566977153\n",
      "Epoch 2, Train loss: 24.11607705904378\n"
     ]
    },
    {
     "name": "stderr",
     "output_type": "stream",
     "text": [
      "  5%|▌         | 2/40 [00:23<07:18, 11.53s/it]"
     ]
    },
    {
     "name": "stdout",
     "output_type": "stream",
     "text": [
      "Epoch 2, Test loss: 26.798877342352792\n",
      "Epoch 3, Train loss: 21.03296920776367\n"
     ]
    },
    {
     "name": "stderr",
     "output_type": "stream",
     "text": [
      "  8%|▊         | 3/40 [00:35<07:12, 11.70s/it]"
     ]
    },
    {
     "name": "stdout",
     "output_type": "stream",
     "text": [
      "Epoch 3, Test loss: 24.50969499349594\n",
      "Epoch 4, Train loss: 20.105829736855295\n"
     ]
    },
    {
     "name": "stderr",
     "output_type": "stream",
     "text": [
      " 10%|█         | 4/40 [00:46<07:02, 11.74s/it]"
     ]
    },
    {
     "name": "stdout",
     "output_type": "stream",
     "text": [
      "Epoch 4, Test loss: 21.539260493384468\n",
      "Epoch 5, Train loss: 19.184813357988993\n"
     ]
    },
    {
     "name": "stderr",
     "output_type": "stream",
     "text": [
      " 12%|█▎        | 5/40 [00:59<07:02, 12.07s/it]"
     ]
    },
    {
     "name": "stdout",
     "output_type": "stream",
     "text": [
      "Epoch 5, Test loss: 20.276190465404873\n",
      "Epoch 6, Train loss: 18.605456713106896\n"
     ]
    },
    {
     "name": "stderr",
     "output_type": "stream",
     "text": [
      " 15%|█▌        | 6/40 [01:11<06:54, 12.19s/it]"
     ]
    },
    {
     "name": "stdout",
     "output_type": "stream",
     "text": [
      "Epoch 6, Test loss: 19.734834798744746\n",
      "Epoch 7, Train loss: 17.933366079197988\n"
     ]
    },
    {
     "name": "stderr",
     "output_type": "stream",
     "text": [
      " 18%|█▊        | 7/40 [01:24<06:47, 12.34s/it]"
     ]
    },
    {
     "name": "stdout",
     "output_type": "stream",
     "text": [
      "Epoch 7, Test loss: 16.839076484006547\n",
      "Epoch 8, Train loss: 17.33476748102241\n"
     ]
    },
    {
     "name": "stderr",
     "output_type": "stream",
     "text": [
      " 20%|██        | 8/40 [01:36<06:33, 12.29s/it]"
     ]
    },
    {
     "name": "stdout",
     "output_type": "stream",
     "text": [
      "Epoch 8, Test loss: 16.977037916107783\n",
      "Epoch 9, Train loss: 17.069217007292643\n"
     ]
    },
    {
     "name": "stderr",
     "output_type": "stream",
     "text": [
      " 22%|██▎       | 9/40 [01:48<06:14, 12.09s/it]"
     ]
    },
    {
     "name": "stdout",
     "output_type": "stream",
     "text": [
      "Epoch 9, Test loss: 15.670853372604128\n",
      "Epoch 10, Train loss: 16.56786477936639\n"
     ]
    },
    {
     "name": "stderr",
     "output_type": "stream",
     "text": [
      " 25%|██▌       | 10/40 [01:59<05:57, 11.93s/it]"
     ]
    },
    {
     "name": "stdout",
     "output_type": "stream",
     "text": [
      "Epoch 10, Test loss: 15.105148926613824\n",
      "Epoch 11, Train loss: 16.390831136835946\n"
     ]
    },
    {
     "name": "stderr",
     "output_type": "stream",
     "text": [
      " 28%|██▊       | 11/40 [02:11<05:41, 11.79s/it]"
     ]
    },
    {
     "name": "stdout",
     "output_type": "stream",
     "text": [
      "Epoch 11, Test loss: 15.096079418583521\n",
      "Epoch 12, Train loss: 16.002627858055963\n"
     ]
    },
    {
     "name": "stderr",
     "output_type": "stream",
     "text": [
      " 30%|███       | 12/40 [02:23<05:30, 11.79s/it]"
     ]
    },
    {
     "name": "stdout",
     "output_type": "stream",
     "text": [
      "Epoch 12, Test loss: 18.824211418628693\n",
      "Epoch 13, Train loss: 15.927677118645773\n"
     ]
    },
    {
     "name": "stderr",
     "output_type": "stream",
     "text": [
      " 32%|███▎      | 13/40 [02:34<05:16, 11.73s/it]"
     ]
    },
    {
     "name": "stdout",
     "output_type": "stream",
     "text": [
      "Epoch 13, Test loss: 15.757866597364819\n",
      "Epoch 14, Train loss: 15.5467876117097\n"
     ]
    },
    {
     "name": "stderr",
     "output_type": "stream",
     "text": [
      " 35%|███▌      | 14/40 [02:47<05:13, 12.04s/it]"
     ]
    },
    {
     "name": "stdout",
     "output_type": "stream",
     "text": [
      "Epoch 14, Test loss: 16.273838888085077\n",
      "Epoch 15, Train loss: 15.494885905583699\n"
     ]
    },
    {
     "name": "stderr",
     "output_type": "stream",
     "text": [
      " 38%|███▊      | 15/40 [02:59<05:00, 12.04s/it]"
     ]
    },
    {
     "name": "stdout",
     "output_type": "stream",
     "text": [
      "Epoch 15, Test loss: 16.623470322480276\n",
      "Epoch 16, Train loss: 15.336199604935116\n"
     ]
    },
    {
     "name": "stderr",
     "output_type": "stream",
     "text": [
      " 40%|████      | 16/40 [03:11<04:49, 12.05s/it]"
     ]
    },
    {
     "name": "stdout",
     "output_type": "stream",
     "text": [
      "Epoch 16, Test loss: 15.43678881440844\n",
      "Epoch 17, Train loss: 15.303964006172286\n"
     ]
    },
    {
     "name": "stderr",
     "output_type": "stream",
     "text": [
      " 42%|████▎     | 17/40 [03:23<04:32, 11.86s/it]"
     ]
    },
    {
     "name": "stdout",
     "output_type": "stream",
     "text": [
      "Epoch 17, Test loss: 18.111024967261724\n",
      "Epoch 18, Train loss: 15.613512473503748\n"
     ]
    },
    {
     "name": "stderr",
     "output_type": "stream",
     "text": [
      " 45%|████▌     | 18/40 [03:34<04:17, 11.73s/it]"
     ]
    },
    {
     "name": "stdout",
     "output_type": "stream",
     "text": [
      "Epoch 18, Test loss: 16.756297275187478\n",
      "Epoch 19, Train loss: 14.929639070232708\n"
     ]
    },
    {
     "name": "stderr",
     "output_type": "stream",
     "text": [
      " 48%|████▊     | 19/40 [03:45<04:04, 11.63s/it]"
     ]
    },
    {
     "name": "stdout",
     "output_type": "stream",
     "text": [
      "Epoch 19, Test loss: 15.74549953521244\n",
      "Epoch 20, Train loss: 15.057919640739758\n"
     ]
    },
    {
     "name": "stderr",
     "output_type": "stream",
     "text": [
      " 50%|█████     | 20/40 [03:58<03:57, 11.89s/it]"
     ]
    },
    {
     "name": "stdout",
     "output_type": "stream",
     "text": [
      "Epoch 20, Test loss: 18.228477883906592\n",
      "Epoch 21, Train loss: 14.984345150854853\n"
     ]
    },
    {
     "name": "stderr",
     "output_type": "stream",
     "text": [
      " 52%|█████▎    | 21/40 [04:10<03:48, 12.02s/it]"
     ]
    },
    {
     "name": "stdout",
     "output_type": "stream",
     "text": [
      "Epoch 21, Test loss: 16.293889498899855\n",
      "Epoch 22, Train loss: 14.76751916229725\n"
     ]
    },
    {
     "name": "stderr",
     "output_type": "stream",
     "text": [
      " 55%|█████▌    | 22/40 [04:23<03:38, 12.13s/it]"
     ]
    },
    {
     "name": "stdout",
     "output_type": "stream",
     "text": [
      "Epoch 22, Test loss: 15.199619546769158\n",
      "Epoch 23, Train loss: 14.633744672735531\n"
     ]
    },
    {
     "name": "stderr",
     "output_type": "stream",
     "text": [
      " 57%|█████▊    | 23/40 [04:35<03:26, 12.18s/it]"
     ]
    },
    {
     "name": "stdout",
     "output_type": "stream",
     "text": [
      "Epoch 23, Test loss: 15.390670519972604\n",
      "Epoch 24, Train loss: 14.459285284082094\n"
     ]
    },
    {
     "name": "stderr",
     "output_type": "stream",
     "text": [
      " 60%|██████    | 24/40 [04:46<03:09, 11.84s/it]"
     ]
    },
    {
     "name": "stdout",
     "output_type": "stream",
     "text": [
      "Epoch 24, Test loss: 14.992509324399252\n",
      "Epoch 25, Train loss: 14.326306391424604\n"
     ]
    },
    {
     "name": "stderr",
     "output_type": "stream",
     "text": [
      " 62%|██████▎   | 25/40 [04:58<02:58, 11.90s/it]"
     ]
    },
    {
     "name": "stdout",
     "output_type": "stream",
     "text": [
      "Epoch 25, Test loss: 15.066176228580021\n",
      "Epoch 26, Train loss: 14.223077518343926\n"
     ]
    },
    {
     "name": "stderr",
     "output_type": "stream",
     "text": [
      " 65%|██████▌   | 26/40 [05:10<02:46, 11.89s/it]"
     ]
    },
    {
     "name": "stdout",
     "output_type": "stream",
     "text": [
      "Epoch 26, Test loss: 14.856349081747116\n",
      "Epoch 27, Train loss: 14.140643000536494\n"
     ]
    },
    {
     "name": "stderr",
     "output_type": "stream",
     "text": [
      " 68%|██████▊   | 27/40 [05:22<02:35, 11.93s/it]"
     ]
    },
    {
     "name": "stdout",
     "output_type": "stream",
     "text": [
      "Epoch 27, Test loss: 14.916407614473313\n",
      "Epoch 28, Train loss: 14.09770624836286\n"
     ]
    },
    {
     "name": "stderr",
     "output_type": "stream",
     "text": [
      " 70%|███████   | 28/40 [05:33<02:21, 11.76s/it]"
     ]
    },
    {
     "name": "stdout",
     "output_type": "stream",
     "text": [
      "Epoch 28, Test loss: 16.99168248545556\n",
      "Epoch 29, Train loss: 13.980975443720817\n"
     ]
    },
    {
     "name": "stderr",
     "output_type": "stream",
     "text": [
      " 72%|███████▎  | 29/40 [05:45<02:07, 11.62s/it]"
     ]
    },
    {
     "name": "stdout",
     "output_type": "stream",
     "text": [
      "Epoch 29, Test loss: 16.20761277562096\n",
      "Epoch 30, Train loss: 13.956791383624077\n"
     ]
    },
    {
     "name": "stderr",
     "output_type": "stream",
     "text": [
      " 75%|███████▌  | 30/40 [05:57<01:58, 11.83s/it]"
     ]
    },
    {
     "name": "stdout",
     "output_type": "stream",
     "text": [
      "Epoch 30, Test loss: 16.657706693524407\n",
      "Epoch 31, Train loss: 13.903699947396914\n"
     ]
    },
    {
     "name": "stderr",
     "output_type": "stream",
     "text": [
      " 78%|███████▊  | 31/40 [06:09<01:45, 11.78s/it]"
     ]
    },
    {
     "name": "stdout",
     "output_type": "stream",
     "text": [
      "Epoch 31, Test loss: 16.035992743950043\n",
      "Epoch 32, Train loss: 13.831810640758938\n"
     ]
    },
    {
     "name": "stderr",
     "output_type": "stream",
     "text": [
      " 80%|████████  | 32/40 [06:21<01:35, 11.90s/it]"
     ]
    },
    {
     "name": "stdout",
     "output_type": "stream",
     "text": [
      "Epoch 32, Test loss: 13.789293607549062\n",
      "Epoch 33, Train loss: 13.798279741340213\n"
     ]
    },
    {
     "name": "stderr",
     "output_type": "stream",
     "text": [
      " 82%|████████▎ | 33/40 [06:33<01:23, 11.88s/it]"
     ]
    },
    {
     "name": "stdout",
     "output_type": "stream",
     "text": [
      "Epoch 33, Test loss: 15.389592028326458\n",
      "Epoch 34, Train loss: 13.753860520588027\n"
     ]
    },
    {
     "name": "stderr",
     "output_type": "stream",
     "text": [
      " 85%|████████▌ | 34/40 [06:44<01:10, 11.82s/it]"
     ]
    },
    {
     "name": "stdout",
     "output_type": "stream",
     "text": [
      "Epoch 34, Test loss: 15.473902970552444\n",
      "Epoch 35, Train loss: 13.71200509707133\n"
     ]
    },
    {
     "name": "stderr",
     "output_type": "stream",
     "text": [
      " 88%|████████▊ | 35/40 [06:57<01:00, 12.04s/it]"
     ]
    },
    {
     "name": "stdout",
     "output_type": "stream",
     "text": [
      "Epoch 35, Test loss: 14.923262465094764\n",
      "Epoch 36, Train loss: 13.681698393954171\n"
     ]
    },
    {
     "name": "stderr",
     "output_type": "stream",
     "text": [
      " 90%|█████████ | 36/40 [07:10<00:49, 12.35s/it]"
     ]
    },
    {
     "name": "stdout",
     "output_type": "stream",
     "text": [
      "Epoch 36, Test loss: 14.84384117145387\n",
      "Epoch 37, Train loss: 13.6262113793691\n"
     ]
    },
    {
     "name": "stderr",
     "output_type": "stream",
     "text": [
      " 92%|█████████▎| 37/40 [07:24<00:38, 12.79s/it]"
     ]
    },
    {
     "name": "stdout",
     "output_type": "stream",
     "text": [
      "Epoch 37, Test loss: 14.665356391479099\n",
      "Epoch 38, Train loss: 13.582895484169324\n"
     ]
    },
    {
     "name": "stderr",
     "output_type": "stream",
     "text": [
      " 95%|█████████▌| 38/40 [07:37<00:25, 12.83s/it]"
     ]
    },
    {
     "name": "stdout",
     "output_type": "stream",
     "text": [
      "Epoch 38, Test loss: 14.135846382568753\n",
      "Epoch 39, Train loss: 13.545768971906767\n"
     ]
    },
    {
     "name": "stderr",
     "output_type": "stream",
     "text": [
      " 98%|█████████▊| 39/40 [07:50<00:12, 12.91s/it]"
     ]
    },
    {
     "name": "stdout",
     "output_type": "stream",
     "text": [
      "Epoch 39, Test loss: 13.74693364945669\n",
      "Epoch 40, Train loss: 13.495848333438238\n"
     ]
    },
    {
     "name": "stderr",
     "output_type": "stream",
     "text": [
      "100%|██████████| 40/40 [08:03<00:00, 12.09s/it]"
     ]
    },
    {
     "name": "stdout",
     "output_type": "stream",
     "text": [
      "Epoch 40, Test loss: 13.753918192216329\n"
     ]
    },
    {
     "name": "stderr",
     "output_type": "stream",
     "text": [
      "\n"
     ]
    }
   ],
   "source": [
    "from utils.london.models import ImprovedSTGCN\n",
    "model = ImprovedSTGCN(node_features=window_size, hidden_dim=16)\n",
    "\n",
    "optimizer = torch.optim.Adam(model.parameters(), lr=0.005)\n",
    "scheduler = torch.optim.lr_scheduler.ExponentialLR(optimizer, gamma=0.95)\n",
    "criterion = MAE\n",
    "\n",
    "num_epochs = 40\n",
    "\n",
    "# Boucle d'entraînement\n",
    "for epoch in tqdm(range(num_epochs)):\n",
    "    model.train()\n",
    "    train_loss = 0\n",
    "    for graph, temporal_features in train_loader:\n",
    "        temporal_features = temporal_features.squeeze()\n",
    "        optimizer.zero_grad()\n",
    "        output = model(graph, temporal_features)\n",
    "        target = graph.y    \n",
    "        loss = criterion(output, target)\n",
    "        loss.backward()\n",
    "        optimizer.step()        \n",
    "        train_loss += loss.item()\n",
    "\n",
    "    scheduler.step()\n",
    "    \n",
    "    print(f\"Epoch {epoch+1}, Train loss: {train_loss / len(train_loader)}\")\n",
    "\n",
    "    # Évaluation sur le jeu de test\n",
    "    model.eval()\n",
    "    test_loss = 0\n",
    "    with torch.no_grad():  # Désactivation des gradients pour l'évaluation\n",
    "        for graph, temporal_features in test_loader:\n",
    "            temporal_features = temporal_features.squeeze()  # Squeeze si nécessaire\n",
    "            output = model(graph, temporal_features)  # Assure-toi de passer aussi les temporal_features\n",
    "            target = graph.y\n",
    "            loss = criterion(output, target)\n",
    "            test_loss += loss.item()\n",
    "\n",
    "    print(f\"Epoch {epoch+1}, Test loss: {test_loss / len(test_loader)}\")"
   ]
  },
  {
   "cell_type": "markdown",
   "metadata": {},
   "source": [
    "### Some EDA"
   ]
  },
  {
   "cell_type": "code",
   "execution_count": null,
   "metadata": {},
   "outputs": [
    {
     "name": "stdout",
     "output_type": "stream",
     "text": [
      "Average of passengers per inter-stations (nodes): 354.136962890625\n"
     ]
    }
   ],
   "source": [
    "mean = 0\n",
    "for graph, temporal_features in test_loader:\n",
    "    y = graph.y\n",
    "    mean += y.mean()\n",
    "print(f\"Average of passengers per inter-stations (nodes): {mean/len(test_loader)}\")"
   ]
  },
  {
   "cell_type": "code",
   "execution_count": null,
   "metadata": {},
   "outputs": [
    {
     "data": {
      "image/png": "[encoded data removed]",
      "text/plain": [
       "<Figure size 800x500 with 1 Axes>"
      ]
     },
     "metadata": {},
     "output_type": "display_data"
    }
   ],
   "source": [
    "import torch\n",
    "import matplotlib.pyplot as plt\n",
    "\n",
    "# Définition des quantiles à calculer\n",
    "quantiles = [0.1, 0.25, 0.5, 0.75, 0.9]\n",
    "quantile_values = {q: 0 for q in quantiles}\n",
    "\n",
    "# Calcul des quantiles sur l'ensemble du test_loader\n",
    "for graph, temporal_features in test_loader:\n",
    "    y = graph.y\n",
    "    for q in quantiles:\n",
    "        quantile_values[q] += y.quantile(q)\n",
    "\n",
    "# Moyenne des quantiles sur l'ensemble du dataset\n",
    "num_graphs = len(test_loader)\n",
    "quantile_averages = {q: quantile_values[q] / num_graphs for q in quantiles}\n",
    "\n",
    "# Tracé du graphique\n",
    "plt.figure(figsize=(8, 5))\n",
    "plt.plot(quantiles, list(quantile_averages.values()), marker='o', linestyle='-', color='b')\n",
    "plt.xlabel(\"Quantiles\")\n",
    "plt.ylabel(\"Valeur moyenne du flux\")\n",
    "plt.title(\"Quantiles moyens des flux de passagers par inter-station\")\n",
    "plt.grid(True)\n",
    "plt.show()"
   ]
  },
  {
   "cell_type": "code",
   "execution_count": 80,
   "metadata": {},
   "outputs": [
    {
     "data": {
      "text/plain": [
       "{0.1: tensor(21.0093),\n",
       " 0.25: tensor(83.4183),\n",
       " 0.5: tensor(205.4930),\n",
       " 0.75: tensor(492.5528),\n",
       " 0.9: tensor(922.7127)}"
      ]
     },
     "execution_count": 80,
     "metadata": {},
     "output_type": "execute_result"
    }
   ],
   "source": [
    "quantile_averages"
   ]
  }
 ],
 "metadata": {
  "kernelspec": {
   "display_name": "venv",
   "language": "python",
   "name": "python3"
  },
  "language_info": {
   "codemirror_mode": {
    "name": "ipython",
    "version": 3
   },
   "file_extension": ".py",
   "mimetype": "text/x-python",
   "name": "python",
   "nbconvert_exporter": "python",
   "pygments_lexer": "ipython3",
   "version": "3.11.9"
  }
 },
 "nbformat": 4,
 "nbformat_minor": 2
}

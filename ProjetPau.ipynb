{
  "cells": [
    {
      "cell_type": "code",
      "execution_count": 1,
      "metadata": {
        "id": "0TD2zfIR7ook"
      },
      "outputs": [],
      "source": [
        "import pandas as pd\n",
        "import numpy as np\n",
        "import matplotlib.pyplot as plt\n",
        "from math import sqrt"
      ]
    },
    {
      "cell_type": "code",
      "execution_count": 2,
      "metadata": {
        "id": "Ta_3vUqMdbFW"
      },
      "outputs": [],
      "source": [
        "import warnings\n",
        "warnings.filterwarnings(\"ignore\")"
      ]
    },
    {
      "cell_type": "code",
      "execution_count": 3,
      "metadata": {
        "id": "yDMHKWut_7Tq"
      },
      "outputs": [],
      "source": [
        "df_plan_metro = pd.read_csv('plan du métro.csv')\n",
        "df_position_gps = pd.read_csv('position gps des stations de métro.csv')\n",
        "df_passagers = pd.read_csv('passagers.csv')\n",
        "df_sup_stations = pd.read_csv('position gps manquantes.csv', sep=';')"
      ]
    },
    {
      "cell_type": "markdown",
      "metadata": {
        "id": "6We2WaHDF8Cy"
      },
      "source": [
        "# Data preparation\n",
        "We create the following datasets:\n",
        "- station_coords: positions gps des gares\n",
        "- trajets: trajets des passagers qui vont d'une gare A à un gare B avec leurs coordonnées GPS."
      ]
    },
    {
      "cell_type": "markdown",
      "metadata": {
        "id": "DBZPdeg1HMQG"
      },
      "source": [
        "## Create a dataframe of stations gps coordinates"
      ]
    },
    {
      "cell_type": "code",
      "execution_count": 4,
      "metadata": {
        "id": "U0kHKPWUHAL8"
      },
      "outputs": [
        {
          "data": {
            "text/html": [
              "<div>\n",
              "<style scoped>\n",
              "    .dataframe tbody tr th:only-of-type {\n",
              "        vertical-align: middle;\n",
              "    }\n",
              "\n",
              "    .dataframe tbody tr th {\n",
              "        vertical-align: top;\n",
              "    }\n",
              "\n",
              "    .dataframe thead th {\n",
              "        text-align: right;\n",
              "    }\n",
              "</style>\n",
              "<table border=\"1\" class=\"dataframe\">\n",
              "  <thead>\n",
              "    <tr style=\"text-align: right;\">\n",
              "      <th></th>\n",
              "      <th>Station</th>\n",
              "      <th>latitude</th>\n",
              "      <th>longitude</th>\n",
              "    </tr>\n",
              "  </thead>\n",
              "  <tbody>\n",
              "    <tr>\n",
              "      <th>0</th>\n",
              "      <td>Boucicaut</td>\n",
              "      <td>48.84109405724891</td>\n",
              "      <td>2.287945766487378</td>\n",
              "    </tr>\n",
              "    <tr>\n",
              "      <th>1</th>\n",
              "      <td>Bourse</td>\n",
              "      <td>48.86865415183625</td>\n",
              "      <td>2.3413760511435733</td>\n",
              "    </tr>\n",
              "    <tr>\n",
              "      <th>2</th>\n",
              "      <td>Bir-Hakeim</td>\n",
              "      <td>48.85394260621378</td>\n",
              "      <td>2.2893345327788075</td>\n",
              "    </tr>\n",
              "    <tr>\n",
              "      <th>3</th>\n",
              "      <td>Argentine</td>\n",
              "      <td>48.87533684211653</td>\n",
              "      <td>2.2901275088247015</td>\n",
              "    </tr>\n",
              "    <tr>\n",
              "      <th>4</th>\n",
              "      <td>Daumesnil</td>\n",
              "      <td>48.83954964556868</td>\n",
              "      <td>2.3957032894363937</td>\n",
              "    </tr>\n",
              "  </tbody>\n",
              "</table>\n",
              "</div>"
            ],
            "text/plain": [
              "      Station           latitude            longitude\n",
              "0   Boucicaut  48.84109405724891    2.287945766487378\n",
              "1      Bourse  48.86865415183625   2.3413760511435733\n",
              "2  Bir-Hakeim  48.85394260621378   2.2893345327788075\n",
              "3   Argentine  48.87533684211653   2.2901275088247015\n",
              "4   Daumesnil  48.83954964556868   2.3957032894363937"
            ]
          },
          "execution_count": 4,
          "metadata": {},
          "output_type": "execute_result"
        }
      ],
      "source": [
        "position_gps = df_position_gps.copy()\n",
        "\n",
        "position_gps['latitude'] = df_position_gps['GPS'].str.split(',').str[0]\n",
        "position_gps['longitude'] = df_position_gps['GPS'].str.split(',').str[1]\n",
        "\n",
        "position_gps.drop('GPS', axis=1, inplace=True)\n",
        "position_gps = position_gps.drop_duplicates(subset=\"Station\", keep=\"first\")\n",
        "\n",
        "position_gps.head()"
      ]
    },
    {
      "cell_type": "code",
      "execution_count": 5,
      "metadata": {},
      "outputs": [
        {
          "data": {
            "text/plain": [
              "(261, 3)"
            ]
          },
          "execution_count": 5,
          "metadata": {},
          "output_type": "execute_result"
        }
      ],
      "source": [
        "position_gps.shape"
      ]
    },
    {
      "cell_type": "code",
      "execution_count": 6,
      "metadata": {},
      "outputs": [
        {
          "data": {
            "text/plain": [
              "Station      object\n",
              "latitude     object\n",
              "longitude    object\n",
              "dtype: object"
            ]
          },
          "execution_count": 6,
          "metadata": {},
          "output_type": "execute_result"
        }
      ],
      "source": [
        "position_gps.dtypes"
      ]
    },
    {
      "cell_type": "markdown",
      "metadata": {
        "id": "F8Aja7WU_uEg"
      },
      "source": [
        "## Create a dataframe with passengers route informations"
      ]
    },
    {
      "cell_type": "code",
      "execution_count": 7,
      "metadata": {
        "colab": {
          "base_uri": "https://localhost:8080/"
        },
        "id": "tEQHF0RkA0BE",
        "outputId": "06893830-22cb-4746-cbff-f882350a63d4"
      },
      "outputs": [
        {
          "name": "stdout",
          "output_type": "stream",
          "text": [
            "On a les coord gps de 261 stations\n",
            "Or il y a en tout 307 stations\n"
          ]
        }
      ],
      "source": [
        "# Illustration of missing gps coordinates\n",
        "print('On a les coord gps de ' + str(position_gps.groupby('Station').count().shape[0]) + ' stations')\n",
        "print('Or il y a en tout ' + str(df_passagers.groupby('vers').count().shape[0]) + ' stations')"
      ]
    },
    {
      "cell_type": "code",
      "execution_count": 8,
      "metadata": {
        "id": "DMrhZXznivuE"
      },
      "outputs": [
        {
          "data": {
            "text/html": [
              "<div>\n",
              "<style scoped>\n",
              "    .dataframe tbody tr th:only-of-type {\n",
              "        vertical-align: middle;\n",
              "    }\n",
              "\n",
              "    .dataframe tbody tr th {\n",
              "        vertical-align: top;\n",
              "    }\n",
              "\n",
              "    .dataframe thead th {\n",
              "        text-align: right;\n",
              "    }\n",
              "</style>\n",
              "<table border=\"1\" class=\"dataframe\">\n",
              "  <thead>\n",
              "    <tr style=\"text-align: right;\">\n",
              "      <th></th>\n",
              "      <th>Station</th>\n",
              "      <th>latitude</th>\n",
              "      <th>longitude</th>\n",
              "    </tr>\n",
              "  </thead>\n",
              "  <tbody>\n",
              "    <tr>\n",
              "      <th>0</th>\n",
              "      <td>Boucicaut</td>\n",
              "      <td>48.841094</td>\n",
              "      <td>2.287946</td>\n",
              "    </tr>\n",
              "    <tr>\n",
              "      <th>1</th>\n",
              "      <td>Bourse</td>\n",
              "      <td>48.868654</td>\n",
              "      <td>2.341376</td>\n",
              "    </tr>\n",
              "    <tr>\n",
              "      <th>2</th>\n",
              "      <td>Bir-Hakeim</td>\n",
              "      <td>48.853943</td>\n",
              "      <td>2.289335</td>\n",
              "    </tr>\n",
              "    <tr>\n",
              "      <th>3</th>\n",
              "      <td>Argentine</td>\n",
              "      <td>48.875337</td>\n",
              "      <td>2.290128</td>\n",
              "    </tr>\n",
              "    <tr>\n",
              "      <th>4</th>\n",
              "      <td>Daumesnil</td>\n",
              "      <td>48.839550</td>\n",
              "      <td>2.395703</td>\n",
              "    </tr>\n",
              "  </tbody>\n",
              "</table>\n",
              "</div>"
            ],
            "text/plain": [
              "      Station   latitude  longitude\n",
              "0   Boucicaut  48.841094   2.287946\n",
              "1      Bourse  48.868654   2.341376\n",
              "2  Bir-Hakeim  48.853943   2.289335\n",
              "3   Argentine  48.875337   2.290128\n",
              "4   Daumesnil  48.839550   2.395703"
            ]
          },
          "execution_count": 8,
          "metadata": {},
          "output_type": "execute_result"
        }
      ],
      "source": [
        "sup_stations = df_sup_stations.copy()\n",
        "sup_stations.drop('ligne', axis=1, inplace=True)\n",
        "station_coords = pd.concat([position_gps, sup_stations], ignore_index=True)\n",
        "station_coords['latitude'] = station_coords['latitude'].astype(float)\n",
        "station_coords['longitude'] = station_coords['longitude'].astype(float)\n",
        "station_coords.head()"
      ]
    },
    {
      "cell_type": "code",
      "execution_count": 9,
      "metadata": {
        "id": "8jDNLkm7wuQp"
      },
      "outputs": [
        {
          "data": {
            "text/html": [
              "<div>\n",
              "<style scoped>\n",
              "    .dataframe tbody tr th:only-of-type {\n",
              "        vertical-align: middle;\n",
              "    }\n",
              "\n",
              "    .dataframe tbody tr th {\n",
              "        vertical-align: top;\n",
              "    }\n",
              "\n",
              "    .dataframe thead th {\n",
              "        text-align: right;\n",
              "    }\n",
              "</style>\n",
              "<table border=\"1\" class=\"dataframe\">\n",
              "  <thead>\n",
              "    <tr style=\"text-align: right;\">\n",
              "      <th></th>\n",
              "      <th>station_depart</th>\n",
              "      <th>station_arrivee</th>\n",
              "      <th>nombre</th>\n",
              "      <th>latitude_depart</th>\n",
              "      <th>longitude_depart</th>\n",
              "      <th>latitude_arrivee</th>\n",
              "      <th>longitude_arrivee</th>\n",
              "    </tr>\n",
              "  </thead>\n",
              "  <tbody>\n",
              "    <tr>\n",
              "      <th>0</th>\n",
              "      <td>La Défense</td>\n",
              "      <td>Esplanade de La Défense</td>\n",
              "      <td>7</td>\n",
              "      <td>48.892187</td>\n",
              "      <td>2.237018</td>\n",
              "      <td>48.888138</td>\n",
              "      <td>2.249793</td>\n",
              "    </tr>\n",
              "    <tr>\n",
              "      <th>1</th>\n",
              "      <td>La Défense</td>\n",
              "      <td>Pont de Neuilly</td>\n",
              "      <td>5</td>\n",
              "      <td>48.892187</td>\n",
              "      <td>2.237018</td>\n",
              "      <td>48.884708</td>\n",
              "      <td>2.260515</td>\n",
              "    </tr>\n",
              "    <tr>\n",
              "      <th>2</th>\n",
              "      <td>La Défense</td>\n",
              "      <td>Les Sablons</td>\n",
              "      <td>6</td>\n",
              "      <td>48.892187</td>\n",
              "      <td>2.237018</td>\n",
              "      <td>48.881016</td>\n",
              "      <td>2.272239</td>\n",
              "    </tr>\n",
              "    <tr>\n",
              "      <th>3</th>\n",
              "      <td>La Défense</td>\n",
              "      <td>Porte Maillot</td>\n",
              "      <td>6</td>\n",
              "      <td>48.892187</td>\n",
              "      <td>2.237018</td>\n",
              "      <td>48.877938</td>\n",
              "      <td>2.283914</td>\n",
              "    </tr>\n",
              "    <tr>\n",
              "      <th>4</th>\n",
              "      <td>La Défense</td>\n",
              "      <td>Argentine</td>\n",
              "      <td>5</td>\n",
              "      <td>48.892187</td>\n",
              "      <td>2.237018</td>\n",
              "      <td>48.875337</td>\n",
              "      <td>2.290128</td>\n",
              "    </tr>\n",
              "  </tbody>\n",
              "</table>\n",
              "</div>"
            ],
            "text/plain": [
              "  station_depart          station_arrivee  nombre  latitude_depart  \\\n",
              "0     La Défense  Esplanade de La Défense       7        48.892187   \n",
              "1     La Défense          Pont de Neuilly       5        48.892187   \n",
              "2     La Défense              Les Sablons       6        48.892187   \n",
              "3     La Défense            Porte Maillot       6        48.892187   \n",
              "4     La Défense                Argentine       5        48.892187   \n",
              "\n",
              "   longitude_depart  latitude_arrivee  longitude_arrivee  \n",
              "0          2.237018         48.888138           2.249793  \n",
              "1          2.237018         48.884708           2.260515  \n",
              "2          2.237018         48.881016           2.272239  \n",
              "3          2.237018         48.877938           2.283914  \n",
              "4          2.237018         48.875337           2.290128  "
            ]
          },
          "execution_count": 9,
          "metadata": {},
          "output_type": "execute_result"
        }
      ],
      "source": [
        "# Add the gps coordinates to the travels\n",
        "trajets = df_passagers.copy()\n",
        "\n",
        "trajets = pd.merge(trajets, station_coords, left_on=\"de\", right_on=\"Station\", how=\"left\")\n",
        "trajets.rename(columns={'latitude': 'latitude_depart', 'longitude': 'longitude_depart'}, inplace=True)\n",
        "trajets.drop(columns=[\"Station\"], inplace=True)\n",
        "\n",
        "trajets = pd.merge(trajets, station_coords, left_on=\"vers\", right_on=\"Station\", how=\"left\")\n",
        "trajets.rename(columns={'latitude': 'latitude_arrivee', 'longitude': 'longitude_arrivee'}, inplace=True)\n",
        "trajets.drop(columns=[\"Station\"], inplace=True)\n",
        "\n",
        "trajets.rename(columns={'de': 'station_depart', 'vers': 'station_arrivee'}, inplace=True)\n",
        "\n",
        "trajets.head()"
      ]
    },
    {
      "cell_type": "code",
      "execution_count": 10,
      "metadata": {
        "colab": {
          "base_uri": "https://localhost:8080/",
          "height": 89
        },
        "id": "2Qo8Ah1UxMFw",
        "outputId": "55ff45bf-8196-41c8-9115-3af374a9765a"
      },
      "outputs": [
        {
          "data": {
            "text/plain": [
              "0"
            ]
          },
          "execution_count": 10,
          "metadata": {},
          "output_type": "execute_result"
        }
      ],
      "source": [
        "#Vérification des valeurs manquantes\n",
        "lignes_nan = trajets[trajets.isna().any(axis=1)]\n",
        "lignes_nan.shape[0]"
      ]
    },
    {
      "cell_type": "markdown",
      "metadata": {},
      "source": [
        "### Add lines to station coords"
      ]
    },
    {
      "cell_type": "code",
      "execution_count": 11,
      "metadata": {},
      "outputs": [],
      "source": [
        "def get_index(station_name):\n",
        "  return station_coords[station_coords['Station'] == station_name].index[0]\n",
        "\n",
        "def get_station_name(index):\n",
        "  return station_coords.iloc[index,0]"
      ]
    },
    {
      "cell_type": "code",
      "execution_count": 12,
      "metadata": {},
      "outputs": [
        {
          "name": "stdout",
          "output_type": "stream",
          "text": [
            "There is 307 stations in the metro network.\n"
          ]
        }
      ],
      "source": [
        "num_stations = station_coords.shape[0]\n",
        "num_lines = 14\n",
        "print(f\"There is {num_stations} stations in the metro network.\")"
      ]
    },
    {
      "cell_type": "code",
      "execution_count": 13,
      "metadata": {},
      "outputs": [],
      "source": [
        "# Fonction personnalisée pour la conversion\n",
        "def convert_metro_line(val):\n",
        "    # Si 'bis' est dans la valeur, retirer 'bis' et convertir en entier\n",
        "    if 'bis' in val:\n",
        "        return int(val.replace('bis', '').strip())\n",
        "    # Sinon, convertir directement en entier\n",
        "    return int(val)"
      ]
    },
    {
      "cell_type": "code",
      "execution_count": 14,
      "metadata": {},
      "outputs": [
        {
          "name": "stdout",
          "output_type": "stream",
          "text": [
            "     Ligne                         Station\n",
            "0        1      Charles de Gaulle - Étoile\n",
            "1        1           Franklin D. Roosevelt\n",
            "2        1     Champs-Élysées - Clemenceau\n",
            "3        1                        Concorde\n",
            "4        1  Palais-Royal - Musée du Louvre\n",
            "..     ...                             ...\n",
            "407      2             Porte de Versailles\n",
            "408      1                  Les Courtilles\n",
            "409      1        Basilique de Saint-Denis\n",
            "410      8    Saint-Denis - Porte de Paris\n",
            "411      6           Châtillon - Montrouge\n",
            "\n",
            "[412 rows x 2 columns]\n"
          ]
        }
      ],
      "source": [
        "metro_de = df_plan_metro.copy()\n",
        "metro_de = metro_de.iloc[:,0:2]\n",
        "metro_de = metro_de.rename(columns={'de Ligne':'Ligne', 'de Station':'Station'})\n",
        "\n",
        "metro_vers = df_plan_metro.copy()\n",
        "metro_vers = df_plan_metro.iloc[:,2:4]\n",
        "metro_vers = metro_vers.rename(columns={'vers Ligne':'Ligne', 'vers Station':'Station'})\n",
        "\n",
        "metro_line = pd.concat([metro_de,metro_vers],axis=0)\n",
        "metro_line.drop_duplicates(subset=['Ligne','Station'],keep='first',ignore_index=True, inplace=True)\n",
        "metro_line['Ligne'] = metro_line['Ligne'].apply(convert_metro_line)\n",
        "print(metro_line)"
      ]
    },
    {
      "cell_type": "code",
      "execution_count": 15,
      "metadata": {},
      "outputs": [],
      "source": [
        "station_line_list =[[] for _ in range(num_stations)]\n",
        "for i in range (metro_line.shape[0]):\n",
        "    line = metro_line.iloc[i,0]\n",
        "    station = metro_line.iloc[i,1]\n",
        "    station_index = get_index(station)\n",
        "    station_line_list[station_index].append(line)"
      ]
    },
    {
      "cell_type": "code",
      "execution_count": 16,
      "metadata": {},
      "outputs": [
        {
          "data": {
            "text/html": [
              "<div>\n",
              "<style scoped>\n",
              "    .dataframe tbody tr th:only-of-type {\n",
              "        vertical-align: middle;\n",
              "    }\n",
              "\n",
              "    .dataframe tbody tr th {\n",
              "        vertical-align: top;\n",
              "    }\n",
              "\n",
              "    .dataframe thead th {\n",
              "        text-align: right;\n",
              "    }\n",
              "</style>\n",
              "<table border=\"1\" class=\"dataframe\">\n",
              "  <thead>\n",
              "    <tr style=\"text-align: right;\">\n",
              "      <th></th>\n",
              "      <th>Station</th>\n",
              "      <th>latitude</th>\n",
              "      <th>longitude</th>\n",
              "      <th>lines</th>\n",
              "    </tr>\n",
              "  </thead>\n",
              "  <tbody>\n",
              "    <tr>\n",
              "      <th>0</th>\n",
              "      <td>Boucicaut</td>\n",
              "      <td>48.841094</td>\n",
              "      <td>2.287946</td>\n",
              "      <td>[8]</td>\n",
              "    </tr>\n",
              "    <tr>\n",
              "      <th>1</th>\n",
              "      <td>Bourse</td>\n",
              "      <td>48.868654</td>\n",
              "      <td>2.341376</td>\n",
              "      <td>[3]</td>\n",
              "    </tr>\n",
              "    <tr>\n",
              "      <th>2</th>\n",
              "      <td>Bir-Hakeim</td>\n",
              "      <td>48.853943</td>\n",
              "      <td>2.289335</td>\n",
              "      <td>[6]</td>\n",
              "    </tr>\n",
              "    <tr>\n",
              "      <th>3</th>\n",
              "      <td>Argentine</td>\n",
              "      <td>48.875337</td>\n",
              "      <td>2.290128</td>\n",
              "      <td>[1]</td>\n",
              "    </tr>\n",
              "    <tr>\n",
              "      <th>4</th>\n",
              "      <td>Daumesnil</td>\n",
              "      <td>48.839550</td>\n",
              "      <td>2.395703</td>\n",
              "      <td>[6, 8]</td>\n",
              "    </tr>\n",
              "  </tbody>\n",
              "</table>\n",
              "</div>"
            ],
            "text/plain": [
              "      Station   latitude  longitude   lines\n",
              "0   Boucicaut  48.841094   2.287946     [8]\n",
              "1      Bourse  48.868654   2.341376     [3]\n",
              "2  Bir-Hakeim  48.853943   2.289335     [6]\n",
              "3   Argentine  48.875337   2.290128     [1]\n",
              "4   Daumesnil  48.839550   2.395703  [6, 8]"
            ]
          },
          "execution_count": 16,
          "metadata": {},
          "output_type": "execute_result"
        }
      ],
      "source": [
        "#station_coords = pd.merge(station_coords, metro_line, left_on=\"Station\", right_on=\"Station\", how=\"left\")\n",
        "station_coords['lines'] = station_line_list\n",
        "station_coords.head()"
      ]
    },
    {
      "cell_type": "code",
      "execution_count": 17,
      "metadata": {},
      "outputs": [],
      "source": [
        "station_line_matrix = np.zeros((num_stations, num_lines)) \n",
        "for i in range (metro_line.shape[0]):\n",
        "    line = metro_line.iloc[i,0]\n",
        "    station = metro_line.iloc[i,1]\n",
        "    station_index = get_index(station)\n",
        "    station_line_matrix[station_index,line-1] == 1"
      ]
    },
    {
      "cell_type": "markdown",
      "metadata": {
        "id": "Sb1nu7qqHVZr"
      },
      "source": [
        "# Trouver le trajet optimal entre deux gares"
      ]
    },
    {
      "cell_type": "markdown",
      "metadata": {
        "id": "xw5fZUn6qZmI"
      },
      "source": [
        "A ce stade on a:\n",
        "- station_coords: dataframe (station, latitude, longitude)\n",
        "- trajets: dataframe (passagers, station de départ, station d'arrivée avec leur coords)\n",
        "- df_plan_metro: dataframe(connexion entre chaque gare et correspondance) pas encore utilisé mais il faudrait faire une \"matrice d'adjacence\""
      ]
    },
    {
      "cell_type": "markdown",
      "metadata": {},
      "source": [
        "### Add line information\n",
        "L'objectif est de créer edge_index, et un np.array nb_stations*nb_ligne avec un 1 si la station appartient à la ligne"
      ]
    },
    {
      "cell_type": "markdown",
      "metadata": {},
      "source": [
        "Metro line:"
      ]
    },
    {
      "cell_type": "code",
      "execution_count": 18,
      "metadata": {},
      "outputs": [],
      "source": [
        "def get_station_line_of(station_index):\n",
        "  \"\"\"return: list(int), lines of the station\"\"\"\n",
        "  return station_line_list[station_index]"
      ]
    },
    {
      "cell_type": "code",
      "execution_count": 19,
      "metadata": {
        "id": "xfZAUw8MnsFw"
      },
      "outputs": [],
      "source": [
        "def distance(station_index1, station_index2):\n",
        "  lat1 = station_coords.iloc[station_index1,1]\n",
        "  lon1 = station_coords.iloc[station_index1,2]\n",
        "  lat2 = station_coords.iloc[station_index2,1]\n",
        "  lon2 = station_coords.iloc[station_index2,2]\n",
        "  return sqrt((lat1-lat2)**2 + (lon1-lon2)**2)"
      ]
    },
    {
      "cell_type": "markdown",
      "metadata": {
        "id": "goASi-cfYUIg"
      },
      "source": [
        "Distance matrix:"
      ]
    },
    {
      "cell_type": "code",
      "execution_count": 20,
      "metadata": {
        "id": "QyBr6RstCwWh"
      },
      "outputs": [],
      "source": [
        "distance_matrix = np.zeros((num_stations,num_stations))\n",
        "for i in range(num_stations):\n",
        "  for j in range(num_stations):\n",
        "    distance_matrix[i,j] = distance(i,j)"
      ]
    },
    {
      "cell_type": "markdown",
      "metadata": {
        "id": "D8Lpa1R3YRwB"
      },
      "source": [
        "Adjency matrix:"
      ]
    },
    {
      "cell_type": "code",
      "execution_count": 21,
      "metadata": {},
      "outputs": [],
      "source": [
        "station_single_line = df_plan_metro[df_plan_metro['de Station'] != df_plan_metro['vers Station']]\n",
        "station_single_line['de Ligne'] = df_plan_metro['de Ligne']\n",
        "\n",
        "m = station_single_line.shape[0]\n",
        "adjency_matrix = np.zeros((m,m))\n",
        "for i in range(m):\n",
        "  index_depart = get_index(station_single_line.iloc[i,1])\n",
        "  index_arrivee = get_index(station_single_line.iloc[i,3])\n",
        "  adjency_matrix[index_depart,index_arrivee] = 1\n",
        "  adjency_matrix[index_arrivee,index_depart] = 1"
      ]
    },
    {
      "cell_type": "code",
      "execution_count": 22,
      "metadata": {},
      "outputs": [],
      "source": [
        "def shared_line(station1,i):\n",
        "    for line_1 in station_line_list[station1]:\n",
        "        for line_i in station_line_list[i]:\n",
        "            if line_1 == line_i:\n",
        "                return line_1"
      ]
    },
    {
      "cell_type": "code",
      "execution_count": 34,
      "metadata": {
        "collapsed": true,
        "id": "uc6oXs--3JqC"
      },
      "outputs": [],
      "source": [
        "def get_adjacent_stations(station1, traveled_distance, station2, route):\n",
        "  \"\"\"\n",
        "  station1: int, departure station index\n",
        "  traveled_distance: float, distance parcourue pour arriver à station1\n",
        "  station2: int, arrival station index\n",
        "  route: list, stations visitées pour arriver à station1\n",
        "  \"\"\"\n",
        "\n",
        "  adjacent_stations = pd.DataFrame(columns=['station', 'traveled_distance','distance_to_station2','cout','route','sation_name'])\n",
        "\n",
        "\n",
        "  for i in range(num_stations):\n",
        "    #Select the stations adjacent to station1\n",
        "    if adjency_matrix[station1,i] != 0:\n",
        "      route_i= route.copy()\n",
        "      #Compute distances from station1 to station i and station2\n",
        "      distance_to_station2 = distance_matrix[i,station2]\n",
        "      new_traveled_distance = traveled_distance + distance_matrix[station1,i]\n",
        "\n",
        "\n",
        "      # add a malus if a line change is needed\n",
        "      if route_i.iloc[route_i.shape[0]-1,1] in get_station_line_of(i):\n",
        "        new_line = route_i.iloc[route_i.shape[0]-1,1]\n",
        "      else:\n",
        "        new_line = shared_line(station1,i)\n",
        "        new_traveled_distance += 0.1 # the distance between two station is around 0.01 (around 1 minute), we suppose that a line change is around 10 minutes, that's why we add 0.1 distance\n",
        "        \n",
        "      #Add the station to the route_i\n",
        "      route_i.loc[len(route_i)] = [i, new_line]\n",
        "\n",
        "      #Add station i and his parameters to potential next stations to explore\n",
        "      adjacent_stations = pd.concat([adjacent_stations,\n",
        "                                     pd.DataFrame({'station': [i],\n",
        "                                                   'traveled_distance': [new_traveled_distance.astype(float)],\n",
        "                                                   'distance_to_station2': [distance_to_station2.astype(float)],\n",
        "                                                   'cout': [(new_traveled_distance + distance_to_station2).astype(float)],\n",
        "                                                   'route': [route_i]\n",
        "                                                   })], ignore_index=True)\n",
        "\n",
        "  return adjacent_stations"
      ]
    },
    {
      "cell_type": "code",
      "execution_count": 35,
      "metadata": {
        "id": "uY4VRS9s0qnb"
      },
      "outputs": [],
      "source": [
        "def trouver_trajets(station1, station2, traveled_distance, route, next_stations):\n",
        "  \"\"\"\n",
        "  station1: int, departure station index\n",
        "  station2: int, arrival station index\n",
        "  traveled_distance: float, distance traveled to reach station1\n",
        "  route: list, stations already seen\n",
        "  next_stations: dataframe, stations to visit with the traveled distance to reach them\n",
        "  \"\"\"\n",
        "\n",
        "  adjacent_stations = get_adjacent_stations(station1, traveled_distance, station2, route)\n",
        "\n",
        "  #add the adjacent stations to station to visit\n",
        "  new_next_stations = pd.concat([next_stations, adjacent_stations], ignore_index=True).sort_values(by='cout',ascending=True,ignore_index=True).drop_duplicates('station', keep=\"first\")\n",
        "\n",
        "  # compute the station that bring the closest to station2\n",
        "  new_station1= new_next_stations.iloc[0,0]\n",
        "  new_traveled_distance = new_next_stations.iloc[0,1]\n",
        "  new_route = new_next_stations.iloc[0,4]\n",
        "\n",
        "  #drop the new station from next stations possible\n",
        "  new_next_stations = new_next_stations.drop(index = new_next_stations[new_next_stations['station'] == new_station1].index) #maybe just delete index0\n",
        "\n",
        "  if new_station1 == station2:\n",
        "    new_route['station'] = new_route['station'].apply(get_station_name)\n",
        "    return new_route\n",
        "  \n",
        "  #TO DELETE\n",
        "  #if new_route.shape[0] > 3:\n",
        "  # return new_route\n",
        "  \n",
        "  else:\n",
        "    return trouver_trajets(new_station1, station2, new_traveled_distance, new_route, new_next_stations)"
      ]
    },
    {
      "cell_type": "code",
      "execution_count": 36,
      "metadata": {
        "id": "umg7_KwGS0mN"
      },
      "outputs": [],
      "source": [
        "next_stations_init = pd.DataFrame(columns=['station', 'traveled_distance','distance_to_station2', 'cout','route'])\n",
        "route = pd.DataFrame(columns=['station', 'line'])\n",
        "station_index1 = get_index('Bérault')\n",
        "station_index2 = get_index('Champs-Élysées - Clemenceau')"
      ]
    },
    {
      "cell_type": "code",
      "execution_count": 26,
      "metadata": {},
      "outputs": [
        {
          "data": {
            "text/html": [
              "<div>\n",
              "<style scoped>\n",
              "    .dataframe tbody tr th:only-of-type {\n",
              "        vertical-align: middle;\n",
              "    }\n",
              "\n",
              "    .dataframe tbody tr th {\n",
              "        vertical-align: top;\n",
              "    }\n",
              "\n",
              "    .dataframe thead th {\n",
              "        text-align: right;\n",
              "    }\n",
              "</style>\n",
              "<table border=\"1\" class=\"dataframe\">\n",
              "  <thead>\n",
              "    <tr style=\"text-align: right;\">\n",
              "      <th></th>\n",
              "      <th>station</th>\n",
              "      <th>line</th>\n",
              "    </tr>\n",
              "  </thead>\n",
              "  <tbody>\n",
              "    <tr>\n",
              "      <th>0</th>\n",
              "      <td>Boulogne - Pont de Saint-Cloud</td>\n",
              "      <td>10</td>\n",
              "    </tr>\n",
              "    <tr>\n",
              "      <th>1</th>\n",
              "      <td>Boulogne - Jean Jaurès</td>\n",
              "      <td>10</td>\n",
              "    </tr>\n",
              "    <tr>\n",
              "      <th>2</th>\n",
              "      <td>Porte d'Auteuil</td>\n",
              "      <td>10</td>\n",
              "    </tr>\n",
              "    <tr>\n",
              "      <th>3</th>\n",
              "      <td>Michel-Ange - Molitor</td>\n",
              "      <td>10</td>\n",
              "    </tr>\n",
              "    <tr>\n",
              "      <th>4</th>\n",
              "      <td>Michel-Ange - Auteuil</td>\n",
              "      <td>10</td>\n",
              "    </tr>\n",
              "    <tr>\n",
              "      <th>5</th>\n",
              "      <td>Jasmin</td>\n",
              "      <td>9</td>\n",
              "    </tr>\n",
              "    <tr>\n",
              "      <th>6</th>\n",
              "      <td>Ranelagh</td>\n",
              "      <td>9</td>\n",
              "    </tr>\n",
              "    <tr>\n",
              "      <th>7</th>\n",
              "      <td>La Muette</td>\n",
              "      <td>9</td>\n",
              "    </tr>\n",
              "    <tr>\n",
              "      <th>8</th>\n",
              "      <td>Rue de la Pompe</td>\n",
              "      <td>9</td>\n",
              "    </tr>\n",
              "    <tr>\n",
              "      <th>9</th>\n",
              "      <td>Trocadéro</td>\n",
              "      <td>9</td>\n",
              "    </tr>\n",
              "    <tr>\n",
              "      <th>10</th>\n",
              "      <td>Iéna</td>\n",
              "      <td>9</td>\n",
              "    </tr>\n",
              "    <tr>\n",
              "      <th>11</th>\n",
              "      <td>Alma - Marceau</td>\n",
              "      <td>9</td>\n",
              "    </tr>\n",
              "    <tr>\n",
              "      <th>12</th>\n",
              "      <td>Franklin D. Roosevelt</td>\n",
              "      <td>9</td>\n",
              "    </tr>\n",
              "    <tr>\n",
              "      <th>13</th>\n",
              "      <td>Saint-Philippe du Roule</td>\n",
              "      <td>9</td>\n",
              "    </tr>\n",
              "    <tr>\n",
              "      <th>14</th>\n",
              "      <td>Miromesnil</td>\n",
              "      <td>9</td>\n",
              "    </tr>\n",
              "    <tr>\n",
              "      <th>15</th>\n",
              "      <td>Saint-Augustin</td>\n",
              "      <td>9</td>\n",
              "    </tr>\n",
              "    <tr>\n",
              "      <th>16</th>\n",
              "      <td>Havre - Caumartin</td>\n",
              "      <td>9</td>\n",
              "    </tr>\n",
              "    <tr>\n",
              "      <th>17</th>\n",
              "      <td>Chaussée d'Antin - La Fayette</td>\n",
              "      <td>9</td>\n",
              "    </tr>\n",
              "    <tr>\n",
              "      <th>18</th>\n",
              "      <td>Le Peletier</td>\n",
              "      <td>7</td>\n",
              "    </tr>\n",
              "    <tr>\n",
              "      <th>19</th>\n",
              "      <td>Cadet</td>\n",
              "      <td>7</td>\n",
              "    </tr>\n",
              "    <tr>\n",
              "      <th>20</th>\n",
              "      <td>Poissonnière</td>\n",
              "      <td>7</td>\n",
              "    </tr>\n",
              "    <tr>\n",
              "      <th>21</th>\n",
              "      <td>Gare de l'Est</td>\n",
              "      <td>7</td>\n",
              "    </tr>\n",
              "    <tr>\n",
              "      <th>22</th>\n",
              "      <td>Château-Landon</td>\n",
              "      <td>7</td>\n",
              "    </tr>\n",
              "    <tr>\n",
              "      <th>23</th>\n",
              "      <td>Louis Blanc</td>\n",
              "      <td>7</td>\n",
              "    </tr>\n",
              "    <tr>\n",
              "      <th>24</th>\n",
              "      <td>Jaurès</td>\n",
              "      <td>7</td>\n",
              "    </tr>\n",
              "  </tbody>\n",
              "</table>\n",
              "</div>"
            ],
            "text/plain": [
              "                           station  line\n",
              "0   Boulogne - Pont de Saint-Cloud    10\n",
              "1           Boulogne - Jean Jaurès    10\n",
              "2                  Porte d'Auteuil    10\n",
              "3            Michel-Ange - Molitor    10\n",
              "4            Michel-Ange - Auteuil    10\n",
              "5                           Jasmin     9\n",
              "6                         Ranelagh     9\n",
              "7                        La Muette     9\n",
              "8                  Rue de la Pompe     9\n",
              "9                        Trocadéro     9\n",
              "10                            Iéna     9\n",
              "11                  Alma - Marceau     9\n",
              "12           Franklin D. Roosevelt     9\n",
              "13         Saint-Philippe du Roule     9\n",
              "14                      Miromesnil     9\n",
              "15                  Saint-Augustin     9\n",
              "16               Havre - Caumartin     9\n",
              "17   Chaussée d'Antin - La Fayette     9\n",
              "18                     Le Peletier     7\n",
              "19                           Cadet     7\n",
              "20                    Poissonnière     7\n",
              "21                   Gare de l'Est     7\n",
              "22                  Château-Landon     7\n",
              "23                     Louis Blanc     7\n",
              "24                          Jaurès     7"
            ]
          },
          "execution_count": 26,
          "metadata": {},
          "output_type": "execute_result"
        }
      ],
      "source": [
        "station_index1 = get_index('Boulogne - Pont de Saint-Cloud')\n",
        "station_index2 = get_index('Jaurès')\n",
        "\n",
        "trouver_trajets(station_index1, station_index2,0,pd.DataFrame({'station': station_index1, 'line': get_station_line_of(station_index1)[0]}, index=[0]),next_stations_init)"
      ]
    },
    {
      "cell_type": "code",
      "execution_count": 28,
      "metadata": {},
      "outputs": [],
      "source": [
        "def predict_route(station1_name,station2_name):\n",
        "    next_stations_init = pd.DataFrame(columns=['station', 'traveled_distance','distance_to_station2', 'cout','route'])\n",
        "    station_index1 = get_index(station1_name)\n",
        "    station_index2 = get_index(station2_name)\n",
        "    return trouver_trajets(station_index1, station_index2,0,pd.DataFrame({'station': station_index1, 'line': get_station_line_of(station_index1)[0]}, index=[0]),next_stations_init)"
      ]
    },
    {
      "cell_type": "code",
      "execution_count": 29,
      "metadata": {},
      "outputs": [
        {
          "data": {
            "text/html": [
              "<div>\n",
              "<style scoped>\n",
              "    .dataframe tbody tr th:only-of-type {\n",
              "        vertical-align: middle;\n",
              "    }\n",
              "\n",
              "    .dataframe tbody tr th {\n",
              "        vertical-align: top;\n",
              "    }\n",
              "\n",
              "    .dataframe thead th {\n",
              "        text-align: right;\n",
              "    }\n",
              "</style>\n",
              "<table border=\"1\" class=\"dataframe\">\n",
              "  <thead>\n",
              "    <tr style=\"text-align: right;\">\n",
              "      <th></th>\n",
              "      <th>station</th>\n",
              "      <th>line</th>\n",
              "    </tr>\n",
              "  </thead>\n",
              "  <tbody>\n",
              "    <tr>\n",
              "      <th>0</th>\n",
              "      <td>Bérault</td>\n",
              "      <td>1</td>\n",
              "    </tr>\n",
              "    <tr>\n",
              "      <th>1</th>\n",
              "      <td>Saint-Mandé</td>\n",
              "      <td>1</td>\n",
              "    </tr>\n",
              "    <tr>\n",
              "      <th>2</th>\n",
              "      <td>Porte de Vincennes</td>\n",
              "      <td>1</td>\n",
              "    </tr>\n",
              "    <tr>\n",
              "      <th>3</th>\n",
              "      <td>Nation</td>\n",
              "      <td>1</td>\n",
              "    </tr>\n",
              "    <tr>\n",
              "      <th>4</th>\n",
              "      <td>Picpus</td>\n",
              "      <td>6</td>\n",
              "    </tr>\n",
              "    <tr>\n",
              "      <th>5</th>\n",
              "      <td>Bel-Air</td>\n",
              "      <td>6</td>\n",
              "    </tr>\n",
              "    <tr>\n",
              "      <th>6</th>\n",
              "      <td>Daumesnil</td>\n",
              "      <td>6</td>\n",
              "    </tr>\n",
              "  </tbody>\n",
              "</table>\n",
              "</div>"
            ],
            "text/plain": [
              "              station  line\n",
              "0             Bérault     1\n",
              "1         Saint-Mandé     1\n",
              "2  Porte de Vincennes     1\n",
              "3              Nation     1\n",
              "4              Picpus     6\n",
              "5             Bel-Air     6\n",
              "6           Daumesnil     6"
            ]
          },
          "execution_count": 29,
          "metadata": {},
          "output_type": "execute_result"
        }
      ],
      "source": [
        "predict_route('Bérault','Daumesnil')"
      ]
    }
  ],
  "metadata": {
    "colab": {
      "collapsed_sections": [
        "DBZPdeg1HMQG",
        "T2w_UqR6H2in"
      ],
      "provenance": []
    },
    "kernelspec": {
      "display_name": "Python 3",
      "name": "python3"
    },
    "language_info": {
      "codemirror_mode": {
        "name": "ipython",
        "version": 3
      },
      "file_extension": ".py",
      "mimetype": "text/x-python",
      "name": "python",
      "nbconvert_exporter": "python",
      "pygments_lexer": "ipython3",
      "version": "3.12.2"
    }
  },
  "nbformat": 4,
  "nbformat_minor": 0
}

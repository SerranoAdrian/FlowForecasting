{
 "cells": [
  {
   "cell_type": "code",
   "execution_count": 1,
   "metadata": {},
   "outputs": [],
   "source": [
    "%load_ext autoreload\n",
    "%autoreload 2"
   ]
  },
  {
   "cell_type": "code",
   "execution_count": 2,
   "metadata": {},
   "outputs": [],
   "source": [
    "%matplotlib inline"
   ]
  },
  {
   "cell_type": "code",
   "execution_count": 3,
   "metadata": {},
   "outputs": [],
   "source": [
    "import os\n",
    "import pandas as pd\n",
    "import matplotlib.pyplot as plt\n",
    "from utils.station_network import StationNetworkSimul\n",
    "from torch_geometric.data import Data\n",
    "from torch_geometric.loader import DataLoader\n",
    "import torch\n",
    "from tqdm import tqdm\n",
    "import pickle"
   ]
  },
  {
   "cell_type": "code",
   "execution_count": 4,
   "metadata": {},
   "outputs": [],
   "source": [
    "df_stations = pd.read_csv('data/pau_challenge/plan du métro.csv')\n",
    "df_stations = df_stations[~df_stations['vers Ligne'].isin(['\\xa01', '\\xa07', '\\xa02', '\\xa08', '\\xa06'])]\n",
    "\n",
    "df_pos = pd.read_csv(\"data/pau_challenge/position gps des stations de métro.csv\")\n",
    "\n",
    "#Removing Malsesherbes RER Station\n",
    "df_pos = df_pos.drop([151])\n",
    "\n",
    "df_flow = pd.read_csv('data/pau_challenge/passagers.csv')\n",
    "df_flow['nombre'] = df_flow['nombre'].astype(float)"
   ]
  },
  {
   "cell_type": "code",
   "execution_count": 5,
   "metadata": {},
   "outputs": [],
   "source": [
    "path_flows = df_flow[['de', 'vers', 'nombre']].to_dict('records')"
   ]
  },
  {
   "cell_type": "code",
   "execution_count": 6,
   "metadata": {},
   "outputs": [],
   "source": [
    "test_network = StationNetworkSimul(df_stations=df_stations, df_pos=df_pos)"
   ]
  },
  {
   "cell_type": "code",
   "execution_count": 13,
   "metadata": {},
   "outputs": [],
   "source": [
    "test_network.set_edges_weights()\n",
    "test_network.set_nodes_traffic(path_flows=path_flows)"
   ]
  },
  {
   "cell_type": "code",
   "execution_count": 7,
   "metadata": {},
   "outputs": [],
   "source": [
    "def create_degraded_networks(net_simul : StationNetworkSimul, num_delete, num_degraded, data_dir):\n",
    "    degraded_graphs = []\n",
    "    for i in tqdm(range(num_degraded), total=num_degraded):\n",
    "        new_net, removed_edges = net_simul.get_degraded_network(num_delete=num_delete)\n",
    "        hash_removed  = hash(tuple(sorted(removed_edges)))\n",
    "        \n",
    "        os.makedirs(os.path.join(data_dir, f'delete_{num_delete}'), exist_ok=True)\n",
    "        degraded_graph_path  = os.path.join(data_dir, f'delete_{num_delete}', f'{hash_removed}.gpickle')\n",
    "        if os.path.exists(degraded_graph_path):\n",
    "            # print(f\"Getting graph {hash_removed} from precomputed data\")\n",
    "            with open(degraded_graph_path, 'rb') as f:\n",
    "                new_net = pickle.load(f)\n",
    "        else:\n",
    "            # print(f\"Creating and saving graph {hash_removed}\")\n",
    "            net_simul.update_degraded_network_nodes_traffic(new_net, removed_edges, df_flow)\n",
    "            with open(degraded_graph_path, 'wb') as f:\n",
    "                pickle.dump(new_net, f)\n",
    "        degraded_graphs.append(new_net)\n",
    "    return degraded_graphs\n",
    "        "
   ]
  },
  {
   "cell_type": "code",
   "execution_count": 10,
   "metadata": {},
   "outputs": [],
   "source": [
    "# Comment for TP evaluation\n",
    "#  for i in range(2,11):\n",
    "#     create_degraded_networks(test_network, num_delete=i, num_degraded=100, data_dir=\"graph_dataset/\")\n",
    "\n",
    "# create_degraded_networks(test_network, num_delete=1, num_degraded=200, data_dir=\"graph_dataset/\")"
   ]
  },
  {
   "cell_type": "code",
   "execution_count": 9,
   "metadata": {},
   "outputs": [],
   "source": [
    "data_dir = \"graph_dataset/\"\n",
    "\n",
    "if not os.path.isdir(data_dir):\n",
    "    os.mkdir(data_dir)"
   ]
  },
  {
   "cell_type": "code",
   "execution_count": null,
   "metadata": {},
   "outputs": [],
   "source": [
    "# Takes around 7 minutes\n",
    "for i in range(2,3):\n",
    "    create_degraded_networks(test_network, num_delete=i, num_degraded=100, data_dir=data_dir)"
   ]
  },
  {
   "cell_type": "code",
   "execution_count": 21,
   "metadata": {},
   "outputs": [],
   "source": [
    "def MAPE_loss(y_pred, y_true, mean=True):\n",
    "    \"\"\"\n",
    "    Compute the Mean Absolute Percentage Error for the model predictions.\n",
    "\n",
    "    Inputs:\n",
    "        - y_pred : model predictions\n",
    "        - y_true : true values\n",
    "    \n",
    "    Return:\n",
    "        MAPE : Mean Absolute Percentage Error\n",
    "    \"\"\"\n",
    "\n",
    "    APE = torch.abs(y_pred - y_true)/torch.abs(y_true)\n",
    "    if mean:\n",
    "        APE = torch.mean(APE)\n",
    "    return APE"
   ]
  },
  {
   "cell_type": "markdown",
   "metadata": {},
   "source": [
    "## GCN Models"
   ]
  },
  {
   "cell_type": "markdown",
   "metadata": {},
   "source": [
    "### Using node position as input"
   ]
  },
  {
   "cell_type": "code",
   "execution_count": 10,
   "metadata": {},
   "outputs": [
    {
     "name": "stdout",
     "output_type": "stream",
     "text": [
      "Number of graphs where 2 edges were deleted: 203\n"
     ]
    }
   ],
   "source": [
    "train_degraded_graphs = []\n",
    "dev_degraded_graphs = []\n",
    "test_degraded_graphs = []\n",
    "\n",
    "for i in range(2,3): # For TP evaluation i=2\n",
    "    folder_path = os.path.join(data_dir, f'delete_{i}')\n",
    "    all_files = [file_path for file_path in os.listdir(folder_path) if os.path.isfile(os.path.join(folder_path, file_path))]\n",
    "    degraded_graphs = []\n",
    "\n",
    "    print(f\"Number of graphs where {i} edges were deleted: {len(all_files)}\")\n",
    "    for file_path in all_files:\n",
    "        with open(os.path.join(folder_path, file_path), 'rb') as f:\n",
    "            new_net = pickle.load(f)\n",
    "        \n",
    "        tensor_positions = torch.tensor([[node['x'], node['y']] for _, node in sorted(new_net.nodes.data())], dtype=torch.float)\n",
    "        tensor_edges = torch.tensor([\n",
    "            [edge[0] for edge in new_net.edges],\n",
    "            [edge[1] for edge in new_net.edges]\n",
    "            ], dtype=torch.long)\n",
    "        tensor_traffic = torch.tensor([node['traffic'] for _, node in sorted(new_net.nodes.data())], dtype=torch.float)\n",
    "        data_graph = Data(x=tensor_positions, edge_index=tensor_edges, y=tensor_traffic)\n",
    "        degraded_graphs.append(data_graph)\n",
    "\n",
    "    train_split_idx = int(0.9*len(all_files))\n",
    "    dev_split_idx = int(0.1*train_split_idx)\n",
    "\n",
    "    dev_degraded_graphs.extend(degraded_graphs[:dev_split_idx])\n",
    "    train_degraded_graphs.extend(degraded_graphs[dev_split_idx:train_split_idx])\n",
    "    test_degraded_graphs.extend(degraded_graphs[train_split_idx:])"
   ]
  },
  {
   "cell_type": "code",
   "execution_count": 11,
   "metadata": {},
   "outputs": [],
   "source": [
    "train_loader = DataLoader(train_degraded_graphs, shuffle=True)\n",
    "dev_loader = DataLoader(dev_degraded_graphs, shuffle=True)\n",
    "test_loader = DataLoader(test_degraded_graphs, shuffle=True)"
   ]
  },
  {
   "cell_type": "code",
   "execution_count": 12,
   "metadata": {},
   "outputs": [],
   "source": [
    "from gnn_model import QuantileGCN"
   ]
  },
  {
   "cell_type": "code",
   "execution_count": 13,
   "metadata": {},
   "outputs": [],
   "source": [
    "# Instanciation du modèle\n",
    "hidden_dim = 16\n",
    "nodes_gnn_model = QuantileGCN(in_channels=2, hidden_channels=hidden_dim)\n",
    "optimizer = torch.optim.Adam(nodes_gnn_model.parameters(), lr=0.01)"
   ]
  },
  {
   "cell_type": "code",
   "execution_count": 14,
   "metadata": {},
   "outputs": [],
   "source": [
    "# Fonction de perte quantile\n",
    "def quantile_loss(y_pred, y_true, quantiles):\n",
    "    losses = []\n",
    "    for i, q in enumerate(quantiles):\n",
    "        errors = y_true - y_pred[:, i]\n",
    "        loss = torch.max(q * errors, (q - 1) * errors).mean()\n",
    "        losses.append(loss)\n",
    "    return sum(losses)"
   ]
  },
  {
   "cell_type": "code",
   "execution_count": null,
   "metadata": {},
   "outputs": [],
   "source": [
    "epochs = 200\n",
    "\n",
    "# Entraînement du modèle\n",
    "for epoch in tqdm(range(epochs)):\n",
    "    nodes_gnn_model.train()\n",
    "    train_loss = []\n",
    "    for data in train_loader:\n",
    "        nodes_gnn_model.train()\n",
    "        optimizer.zero_grad()\n",
    "        x, edge_index = data.x, data.edge_index\n",
    "        output = nodes_gnn_model(x, edge_index)\n",
    "        # loss = criterion(output.squeeze(), data.y)\n",
    "        loss = quantile_loss(output.squeeze(), data.y, nodes_gnn_model.quantiles)\n",
    "        train_loss.append(loss.item())\n",
    "        loss.backward()\n",
    "        optimizer.step()\n",
    "\n",
    "    # dev_loss = []\n",
    "    # nodes_gnn_model.eval()\n",
    "    # for data in dev_loader:\n",
    "    #     x, edge_index = data.x, data.edge_index\n",
    "    #     output = nodes_gnn_model(x, edge_index)\n",
    "    #     loss = MAPE_loss(output.squeeze(), data.y)\n",
    "    #     dev_loss.append(loss.item())\n",
    "    # print(f'Epoch {epoch}, Train Loss: {np.mean(train_loss)}, Dev. MAPE: {np.mean(dev_loss)}')\n"
   ]
  },
  {
   "cell_type": "code",
   "execution_count": 28,
   "metadata": {},
   "outputs": [],
   "source": [
    "y_true = train_loader.dataset[0].y"
   ]
  },
  {
   "cell_type": "code",
   "execution_count": 29,
   "metadata": {},
   "outputs": [],
   "source": [
    "preds = nodes_gnn_model(x, edge_index).detach().numpy()"
   ]
  },
  {
   "cell_type": "code",
   "execution_count": 30,
   "metadata": {},
   "outputs": [
    {
     "data": {
      "image/png": "[encoded data removed]",
      "text/plain": [
       "<Figure size 1000x600 with 1 Axes>"
      ]
     },
     "metadata": {},
     "output_type": "display_data"
    }
   ],
   "source": [
    "# Affichage des prédictions avec incertitude pour les nœuds 1 à 10\n",
    "plt.figure(figsize=(10,6))\n",
    "\n",
    "# Itération sur les nœuds 1 à 10\n",
    "for node_idx in range(10):\n",
    "    q_low, q_med, q_high = preds[node_idx]\n",
    "    \n",
    "    # Affichage des intervalles de prédiction pour chaque nœud\n",
    "    plt.errorbar(node_idx + 1, q_med, \n",
    "                 yerr=[[q_med - q_low], [q_high - q_med]], \n",
    "                 fmt='o', capsize=5, label=f'Nœud {node_idx + 1}' if node_idx == 0 else \"\", color='blue')\n",
    "\n",
    "# Affichage des valeurs réelles pour chaque nœud\n",
    "plt.scatter(range(1, 11), y_true[:10].detach().numpy(), color='red', label=\"Valeurs réelles\", zorder=5)\n",
    "\n",
    "# Configuration du graphique\n",
    "plt.legend()\n",
    "plt.xlabel(\"Numéro du nœud\")\n",
    "plt.ylabel(\"Valeur prédite\")\n",
    "plt.title(\"Incertitude de prédiction pour les nœuds 1 à 10\")\n",
    "plt.grid(True)\n",
    "plt.tight_layout()\n",
    "plt.show()"
   ]
  }
 ],
 "metadata": {
  "kernelspec": {
   "display_name": "env_exp",
   "language": "python",
   "name": "python3"
  },
  "language_info": {
   "codemirror_mode": {
    "name": "ipython",
    "version": 3
   },
   "file_extension": ".py",
   "mimetype": "text/x-python",
   "name": "python",
   "nbconvert_exporter": "python",
   "pygments_lexer": "ipython3",
   "version": "3.8.10"
  }
 },
 "nbformat": 4,
 "nbformat_minor": 2
}
